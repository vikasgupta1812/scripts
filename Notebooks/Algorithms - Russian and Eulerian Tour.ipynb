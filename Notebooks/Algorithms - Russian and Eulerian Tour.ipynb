{
 "cells": [
  {
   "cell_type": "markdown",
   "metadata": {},
   "source": [
    "Russian peasant multiplication - You don't need multiplication facts to use the Russian peasant algorithm; you only need to double numbers, cut them in half, and add them up. Here are the rules:\n",
    "\n",
    "- Write each number at the head of a column.\n",
    "- Double the number in the first column, and halve the number in the second column.\n",
    "   - If the number in the second column is odd, divide it by two and drop the remainder.\n",
    "- If the number in the second column is even, cross out that entire row.\n",
    "- Keep doubling, halving, and crossing out until the number in the second column is 1.\n",
    "- Add up the remaining numbers in the first column. The total is the product of your original numbers."
   ]
  },
  {
   "cell_type": "code",
   "execution_count": 7,
   "metadata": {
    "collapsed": true
   },
   "outputs": [],
   "source": [
    "def russian(a, b):\n",
    "    x = a; y = b\n",
    "    z = 0\n",
    "    while x > 0:\n",
    "        if x % 2 == 1: z = z + y \n",
    "        y = y << 1\n",
    "        x = x >> 1\n",
    "    return z"
   ]
  },
  {
   "cell_type": "code",
   "execution_count": 8,
   "metadata": {
    "collapsed": false
   },
   "outputs": [
    {
     "data": {
      "text/plain": [
       "20"
      ]
     },
     "execution_count": 8,
     "metadata": {},
     "output_type": "execute_result"
    }
   ],
   "source": [
    "russian(4, 5)"
   ]
  },
  {
   "cell_type": "code",
   "execution_count": 9,
   "metadata": {
    "collapsed": false
   },
   "outputs": [
    {
     "data": {
      "text/plain": [
       "998994"
      ]
     },
     "execution_count": 9,
     "metadata": {},
     "output_type": "execute_result"
    }
   ],
   "source": [
    "russian(2^1000 - 1, 2^1000)"
   ]
  },
  {
   "cell_type": "code",
   "execution_count": 10,
   "metadata": {
    "collapsed": false
   },
   "outputs": [],
   "source": [
    "import math\n",
    "\n",
    "def timea(n):\n",
    "    \"\"\" Return the number of steps \n",
    "    necessary to calculate\n",
    "    `print countdown(n)`\"\"\"\n",
    "    steps = 0\n",
    "    steps = math.floor(n/5) * 2 + 3\n",
    "    return steps"
   ]
  },
  {
   "cell_type": "code",
   "execution_count": 11,
   "metadata": {
    "collapsed": true
   },
   "outputs": [],
   "source": [
    "def countdown(x):\n",
    "    y = 0\n",
    "    while x > 0:\n",
    "        x = x - 5\n",
    "        y = y + 1\n",
    "    print y"
   ]
  },
  {
   "cell_type": "code",
   "execution_count": 12,
   "metadata": {
    "collapsed": false
   },
   "outputs": [
    {
     "name": "stdout",
     "output_type": "stream",
     "text": [
      "10\n",
      "None\n"
     ]
    }
   ],
   "source": [
    "print countdown(50)"
   ]
  },
  {
   "cell_type": "code",
   "execution_count": 13,
   "metadata": {
    "collapsed": false
   },
   "outputs": [
    {
     "data": {
      "text/plain": [
       "5.0"
      ]
     },
     "execution_count": 13,
     "metadata": {},
     "output_type": "execute_result"
    }
   ],
   "source": [
    "timea(6)"
   ]
  },
  {
   "cell_type": "code",
   "execution_count": 14,
   "metadata": {
    "collapsed": false
   },
   "outputs": [],
   "source": [
    "# Russian expressed recursively\n",
    "\n",
    "def rec_russian(a, b):\n",
    "    if a == 0: return 0\n",
    "    if a % 2 == 0: return 2*rec_russian(a/2, b)\n",
    "    return b + 2*rec_russian((a-1)/2, b)"
   ]
  },
  {
   "cell_type": "code",
   "execution_count": 15,
   "metadata": {
    "collapsed": false
   },
   "outputs": [
    {
     "data": {
      "text/plain": [
       "264"
      ]
     },
     "execution_count": 15,
     "metadata": {},
     "output_type": "execute_result"
    }
   ],
   "source": [
    "rec_russian(24, 11)"
   ]
  },
  {
   "cell_type": "code",
   "execution_count": null,
   "metadata": {
    "collapsed": true
   },
   "outputs": [],
   "source": []
  },
  {
   "cell_type": "code",
   "execution_count": 16,
   "metadata": {
    "collapsed": true
   },
   "outputs": [],
   "source": [
    "# Eulerian Tour Ver 1\n",
    "#\n",
    "# Write a function, `create_tour` that takes as\n",
    "# input a list of nodes\n",
    "# and outputs a list of tuples representing\n",
    "# edges between nodes that have an Eulerian tour.\n",
    "#"
   ]
  },
  {
   "cell_type": "code",
   "execution_count": 17,
   "metadata": {
    "collapsed": true
   },
   "outputs": [],
   "source": [
    "def create_tour(nodes):\n",
    "    # your code here\n",
    "    # nodes = [1, 2, 3]\n",
    "    # return [(1,2), (2,3), (3,1)]\n",
    "    return []\n",
    "\n",
    "#########"
   ]
  },
  {
   "cell_type": "code",
   "execution_count": null,
   "metadata": {
    "collapsed": true
   },
   "outputs": [],
   "source": []
  },
  {
   "cell_type": "code",
   "execution_count": null,
   "metadata": {
    "collapsed": true
   },
   "outputs": [],
   "source": []
  },
  {
   "cell_type": "code",
   "execution_count": null,
   "metadata": {
    "collapsed": true
   },
   "outputs": [],
   "source": []
  },
  {
   "cell_type": "code",
   "execution_count": 18,
   "metadata": {
    "collapsed": true
   },
   "outputs": [],
   "source": [
    "def get_degree(tour):\n",
    "    degree = {}\n",
    "    for x, y in tour:\n",
    "        degree[x] = degree.get(x, 0) + 1\n",
    "        degree[y] = degree.get(y, 0) + 1\n",
    "    return degree"
   ]
  },
  {
   "cell_type": "code",
   "execution_count": 19,
   "metadata": {
    "collapsed": false
   },
   "outputs": [
    {
     "data": {
      "text/plain": [
       "{1: 2, 2: 2, 3: 2}"
      ]
     },
     "execution_count": 19,
     "metadata": {},
     "output_type": "execute_result"
    }
   ],
   "source": [
    "\n",
    "tour = [(1,2), (2,3), (3,1)]\n",
    "get_degree(tour)"
   ]
  },
  {
   "cell_type": "code",
   "execution_count": 20,
   "metadata": {
    "collapsed": true
   },
   "outputs": [],
   "source": [
    "def check_edge(t, b, nodes):\n",
    "    \"\"\"\n",
    "    t: tuple representing an edge\n",
    "    b: origin node\n",
    "    nodes: set of nodes already visited\n",
    "\n",
    "    if we can get to a new node from `b` following `t`\n",
    "    then return that node, else return None\n",
    "    \"\"\"\n",
    "    if t[0] == b:\n",
    "        if t[1] not in nodes:\n",
    "            return t[1]\n",
    "    elif t[1] == b:\n",
    "        if t[0] not in nodes:\n",
    "            return t[0]\n",
    "    return None"
   ]
  },
  {
   "cell_type": "code",
   "execution_count": 21,
   "metadata": {
    "collapsed": true
   },
   "outputs": [],
   "source": [
    "def connected_nodes(tour):\n",
    "    \"\"\"return the set of nodes reachable from\n",
    "    the first node in `tour`\"\"\"\n",
    "    a = tour[0][0]\n",
    "    nodes = set([a])\n",
    "    explore = set([a])\n",
    "    while len(explore) > 0:\n",
    "        # see what other nodes we can reach\n",
    "        b = explore.pop()\n",
    "        for t in tour:\n",
    "            node = check_edge(t, b, nodes)\n",
    "            if node is None:\n",
    "                continue\n",
    "            nodes.add(node)\n",
    "            explore.add(node)\n",
    "    return nodes"
   ]
  },
  {
   "cell_type": "code",
   "execution_count": 22,
   "metadata": {
    "collapsed": true
   },
   "outputs": [],
   "source": [
    "def is_eulerian_tour(nodes, tour):\n",
    "    # all nodes must be even degree\n",
    "    # and every node must be in graph\n",
    "    degree = get_degree(tour)\n",
    "    for node in nodes:\n",
    "        try:\n",
    "            d = degree[node]\n",
    "            if d % 2 == 1:\n",
    "                print \"Node %s has odd degree\" % node\n",
    "                return False\n",
    "        except KeyError:\n",
    "            print \"Node %s was not in your tour\" % node\n",
    "            return False\n",
    "    connected = connected_nodes(tour)\n",
    "    if len(connected) == len(nodes):\n",
    "        return True\n",
    "    else:\n",
    "        print \"Your graph wasn't connected\"\n",
    "        return False"
   ]
  },
  {
   "cell_type": "code",
   "execution_count": 23,
   "metadata": {
    "collapsed": true
   },
   "outputs": [],
   "source": [
    "def test():\n",
    "    nodes = [20, 21, 22, 23, 24, 25]\n",
    "    tour = create_tour(nodes)\n",
    "    return is_eulerian_tour(nodes, tour)"
   ]
  },
  {
   "cell_type": "code",
   "execution_count": null,
   "metadata": {
    "collapsed": true
   },
   "outputs": [],
   "source": []
  },
  {
   "cell_type": "code",
   "execution_count": null,
   "metadata": {
    "collapsed": true
   },
   "outputs": [],
   "source": []
  },
  {
   "cell_type": "code",
   "execution_count": null,
   "metadata": {
    "collapsed": true
   },
   "outputs": [],
   "source": []
  },
  {
   "cell_type": "code",
   "execution_count": null,
   "metadata": {
    "collapsed": true
   },
   "outputs": [],
   "source": []
  },
  {
   "cell_type": "code",
   "execution_count": null,
   "metadata": {
    "collapsed": true
   },
   "outputs": [],
   "source": []
  }
 ],
 "metadata": {
  "kernelspec": {
   "display_name": "Python 2",
   "language": "python",
   "name": "python2"
  },
  "language_info": {
   "codemirror_mode": {
    "name": "ipython",
    "version": 2
   },
   "file_extension": ".py",
   "mimetype": "text/x-python",
   "name": "python",
   "nbconvert_exporter": "python",
   "pygments_lexer": "ipython2",
   "version": "2.7.11"
  },
  "widgets": {
   "state": {},
   "version": "1.1.1"
  }
 },
 "nbformat": 4,
 "nbformat_minor": 0
}
