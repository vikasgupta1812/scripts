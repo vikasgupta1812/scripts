{
 "cells": [
  {
   "cell_type": "markdown",
   "metadata": {},
   "source": [
    "This notebook was prepared by [Donne Martin](http://donnemartin.com). Source and license info is on [GitHub](https://github.com/donnemartin/data-science-ipython-notebooks)."
   ]
  },
  {
   "cell_type": "markdown",
   "metadata": {},
   "source": [
    "# Linux Commands\n",
    "\n",
    "* Disk Usage\n",
    "* Splitting Files\n",
    "* Grep, Sed\n",
    "* Compression\n",
    "* Curl\n",
    "* View Running Processes\n",
    "* Terminal Syntax Highlighting\n",
    "* Vim"
   ]
  },
  {
   "cell_type": "markdown",
   "metadata": {},
   "source": [
    "## Disk Usage"
   ]
  },
  {
   "cell_type": "markdown",
   "metadata": {},
   "source": [
    "Display human-readable (-h) free disk space:"
   ]
  },
  {
   "cell_type": "code",
   "execution_count": 1,
   "metadata": {
    "collapsed": false
   },
   "outputs": [
    {
     "name": "stdout",
     "output_type": "stream",
     "text": [
      "Filesystem      Size  Used Avail Use% Mounted on\r\n",
      "none            734G   20G  684G   3% /\r\n",
      "tmpfs            32G     0   32G   0% /dev\r\n",
      "tmpfs            32G     0   32G   0% /sys/fs/cgroup\r\n",
      "/dev/md126p1    734G   20G  684G   3% /etc/hosts\r\n",
      "shm              64M     0   64M   0% /dev/shm\r\n"
     ]
    }
   ],
   "source": [
    "!df -h"
   ]
  },
  {
   "cell_type": "markdown",
   "metadata": {},
   "source": [
    "Display human-readable (-h) disk usage statistics:"
   ]
  },
  {
   "cell_type": "code",
   "execution_count": 2,
   "metadata": {
    "collapsed": false
   },
   "outputs": [
    {
     "name": "stdout",
     "output_type": "stream",
     "text": [
      "16K\t./.ipynb_checkpoints\r\n",
      "112K\t./featured/pandas-cookbook/cookbook/images\r\n",
      "1.8M\t./featured/pandas-cookbook/cookbook\r\n",
      "54M\t./featured/pandas-cookbook/data\r\n",
      "44K\t./featured/pandas-cookbook/.git/hooks\r\n",
      "4.0K\t./featured/pandas-cookbook/.git/branches\r\n",
      "8.0K\t./featured/pandas-cookbook/.git/logs/refs/heads\r\n",
      "8.0K\t./featured/pandas-cookbook/.git/logs/refs/remotes/origin\r\n",
      "12K\t./featured/pandas-cookbook/.git/logs/refs/remotes\r\n",
      "24K\t./featured/pandas-cookbook/.git/logs/refs\r\n",
      "32K\t./featured/pandas-cookbook/.git/logs\r\n",
      "4.0K\t./featured/pandas-cookbook/.git/refs/tags\r\n",
      "8.0K\t./featured/pandas-cookbook/.git/refs/heads\r\n",
      "8.0K\t./featured/pandas-cookbook/.git/refs/remotes/origin\r\n",
      "12K\t./featured/pandas-cookbook/.git/refs/remotes\r\n",
      "28K\t./featured/pandas-cookbook/.git/refs\r\n",
      "8.0K\t./featured/pandas-cookbook/.git/info\r\n",
      "8.0K\t./featured/pandas-cookbook/.git/objects/fb\r\n",
      "56K\t./featured/pandas-cookbook/.git/objects/a6\r\n",
      "8.0K\t./featured/pandas-cookbook/.git/objects/5a\r\n",
      "8.0K\t./featured/pandas-cookbook/.git/objects/76\r\n",
      "20K\t./featured/pandas-cookbook/.git/objects/6f\r\n",
      "20K\t./featured/pandas-cookbook/.git/objects/7d\r\n",
      "136K\t./featured/pandas-cookbook/.git/objects/0c\r\n",
      "8.0K\t./featured/pandas-cookbook/.git/objects/0d\r\n",
      "92K\t./featured/pandas-cookbook/.git/objects/67\r\n",
      "36K\t./featured/pandas-cookbook/.git/objects/8f\r\n",
      "28K\t./featured/pandas-cookbook/.git/objects/ed\r\n",
      "460K\t./featured/pandas-cookbook/.git/objects/d2\r\n",
      "88K\t./featured/pandas-cookbook/.git/objects/46\r\n",
      "8.0K\t./featured/pandas-cookbook/.git/objects/aa\r\n",
      "8.0K\t./featured/pandas-cookbook/.git/objects/48\r\n",
      "8.0K\t./featured/pandas-cookbook/.git/objects/78\r\n",
      "8.0K\t./featured/pandas-cookbook/.git/objects/c0\r\n",
      "8.0K\t./featured/pandas-cookbook/.git/objects/fe\r\n",
      "44K\t./featured/pandas-cookbook/.git/objects/69\r\n",
      "60K\t./featured/pandas-cookbook/.git/objects/e1\r\n",
      "12K\t./featured/pandas-cookbook/.git/objects/9e\r\n",
      "8.0K\t./featured/pandas-cookbook/.git/objects/60\r\n",
      "4.0K\t./featured/pandas-cookbook/.git/objects/info\r\n",
      "8.0K\t./featured/pandas-cookbook/.git/objects/f6\r\n",
      "156K\t./featured/pandas-cookbook/.git/objects/82\r\n",
      "4.0K\t./featured/pandas-cookbook/.git/objects/pack\r\n",
      "8.0K\t./featured/pandas-cookbook/.git/objects/88\r\n",
      "11M\t./featured/pandas-cookbook/.git/objects/54\r\n",
      "16K\t./featured/pandas-cookbook/.git/objects/40\r\n",
      "12M\t./featured/pandas-cookbook/.git/objects\r\n",
      "12M\t./featured/pandas-cookbook/.git\r\n",
      "67M\t./featured/pandas-cookbook\r\n",
      "76K\t./featured/ihaskell-widgets\r\n",
      "67M\t./featured\r\n",
      "860K\t./communities/desertpy/pandas-intro-godber-jan-2014\r\n",
      "864K\t./communities/desertpy\r\n",
      "52K\t./communities/pyladies\r\n",
      "920K\t./communities\r\n",
      "408K\t./datasets/boot\r\n",
      "48K\t./datasets/nlreg\r\n",
      "892K\t./datasets/MASS\r\n",
      "104K\t./datasets/sem\r\n",
      "28K\t./datasets/lattice\r\n",
      "116K\t./datasets/quantreg\r\n",
      "2.7M\t./datasets/COUNT\r\n",
      "664K\t./datasets/HistData\r\n",
      "1.4M\t./datasets/car\r\n",
      "9.0M\t./datasets/ggplot2\r\n",
      "1.9M\t./datasets/plm\r\n",
      "136K\t./datasets/cluster\r\n",
      "356K\t./datasets/HSAUR\r\n",
      "3.3M\t./datasets/lme4\r\n",
      "804K\t./datasets/survival\r\n",
      "1.2M\t./datasets/vcd\r\n",
      "18M\t./datasets/Ecdat\r\n",
      "1.1M\t./datasets/Zelig\r\n",
      "1.7M\t./datasets/plyr\r\n",
      "32M\t./datasets/thebutton\r\n",
      "288K\t./datasets/texmex\r\n",
      "652K\t./datasets/evir\r\n",
      "160K\t./datasets/geepack\r\n",
      "16M\t./datasets/gap\r\n",
      "70M\t./datasets/spark-ebook\r\n",
      "48K\t./datasets/multgee\r\n",
      "48K\t./datasets/reshape2\r\n",
      "368K\t./datasets/pscl\r\n",
      "364K\t./datasets/KMsurv\r\n",
      "76K\t./datasets/rpart\r\n",
      "1.8M\t./datasets/psych\r\n",
      "8.0K\t./datasets/sandwich\r\n",
      "800K\t./datasets/robustbase\r\n",
      "676K\t./datasets/datasets\r\n",
      "166M\t./datasets\r\n",
      "234M\t./\r\n"
     ]
    }
   ],
   "source": [
    "!du -h ./"
   ]
  },
  {
   "cell_type": "markdown",
   "metadata": {},
   "source": [
    "Display human-readable (-h) disk usage statistics, showing only the total usage (-s):"
   ]
  },
  {
   "cell_type": "code",
   "execution_count": 3,
   "metadata": {
    "collapsed": false
   },
   "outputs": [
    {
     "name": "stdout",
     "output_type": "stream",
     "text": [
      "1.0G\t../\r\n"
     ]
    }
   ],
   "source": [
    "!du -sh ../"
   ]
  },
  {
   "cell_type": "markdown",
   "metadata": {},
   "source": [
    "Display the human-readable (-h) disk usage statistics, showing also the grand total for all file types (-c):"
   ]
  },
  {
   "cell_type": "code",
   "execution_count": 4,
   "metadata": {
    "collapsed": false
   },
   "outputs": [
    {
     "name": "stdout",
     "output_type": "stream",
     "text": [
      "234M\t./\r\n",
      "234M\ttotal\r\n"
     ]
    }
   ],
   "source": [
    "!du -csh ./"
   ]
  },
  {
   "cell_type": "markdown",
   "metadata": {},
   "source": [
    "## Splitting Files"
   ]
  },
  {
   "cell_type": "markdown",
   "metadata": {},
   "source": [
    "Count number of lines in a file with wc:"
   ]
  },
  {
   "cell_type": "code",
   "execution_count": 18,
   "metadata": {
    "collapsed": false
   },
   "outputs": [
    {
     "name": "stdout",
     "output_type": "stream",
     "text": [
      "100\r\n"
     ]
    }
   ],
   "source": [
    "!wc -l < file.txt"
   ]
  },
  {
   "cell_type": "markdown",
   "metadata": {},
   "source": [
    "Count the number of lines in a file with grep:"
   ]
  },
  {
   "cell_type": "code",
   "execution_count": 19,
   "metadata": {
    "collapsed": false
   },
   "outputs": [
    {
     "name": "stdout",
     "output_type": "stream",
     "text": [
      "100\r\n"
     ]
    }
   ],
   "source": [
    "!grep -c \".\" file.txt"
   ]
  },
  {
   "cell_type": "markdown",
   "metadata": {},
   "source": [
    "Split a file into multiple files based on line count:"
   ]
  },
  {
   "cell_type": "code",
   "execution_count": 20,
   "metadata": {
    "collapsed": false
   },
   "outputs": [],
   "source": [
    "!split -l 20 file.txt new"
   ]
  },
  {
   "cell_type": "markdown",
   "metadata": {},
   "source": [
    "Split a file into multiple files based on line count, use suffix of length 1:"
   ]
  },
  {
   "cell_type": "code",
   "execution_count": null,
   "metadata": {
    "collapsed": false
   },
   "outputs": [],
   "source": [
    "!split -l 802 -a 1 file.csv dir/part-user-csv.tbl-"
   ]
  },
  {
   "cell_type": "markdown",
   "metadata": {},
   "source": [
    "## Grep, Sed"
   ]
  },
  {
   "cell_type": "markdown",
   "metadata": {},
   "source": [
    "List number of files matching “.txt\":"
   ]
  },
  {
   "cell_type": "code",
   "execution_count": 22,
   "metadata": {
    "collapsed": false
   },
   "outputs": [
    {
     "name": "stdout",
     "output_type": "stream",
     "text": [
      "file.txt\r\n"
     ]
    }
   ],
   "source": [
    "!ls -1 | grep .txt"
   ]
  },
  {
   "cell_type": "code",
   "execution_count": 21,
   "metadata": {
    "collapsed": false
   },
   "outputs": [
    {
     "name": "stdout",
     "output_type": "stream",
     "text": [
      "1\r\n"
     ]
    }
   ],
   "source": [
    "!ls -1 | grep .txt | wc -l"
   ]
  },
  {
   "cell_type": "markdown",
   "metadata": {},
   "source": [
    "Check number of MapReduce records processed, outputting the results to the terminal:"
   ]
  },
  {
   "cell_type": "code",
   "execution_count": 10,
   "metadata": {
    "collapsed": false
   },
   "outputs": [
    {
     "name": "stdout",
     "output_type": "stream",
     "text": [
      "grep: folder/part*: No such file or directory\r\n",
      "cat: write error: Broken pipe\r\n"
     ]
    }
   ],
   "source": [
    "!cat * | grep -c \"foo\" folder/part*"
   ]
  },
  {
   "cell_type": "markdown",
   "metadata": {},
   "source": [
    "Delete matching lines in place:"
   ]
  },
  {
   "cell_type": "code",
   "execution_count": null,
   "metadata": {
    "collapsed": false
   },
   "outputs": [],
   "source": [
    "!sed -i '/Important Lines: /d’ original_file"
   ]
  },
  {
   "cell_type": "markdown",
   "metadata": {},
   "source": [
    "## Compression"
   ]
  },
  {
   "cell_type": "code",
   "execution_count": null,
   "metadata": {
    "collapsed": false
   },
   "outputs": [],
   "source": [
    "# Compress zip\n",
    "!zip -r archive_name.zip folder_to_compress\n",
    "\n",
    "# Compress zip without invisible Mac resources\n",
    "!zip -r -X archive_name.zip folder_to_compress\n",
    "\n",
    "# Extract zip\n",
    "!unzip archive_name.zip\n",
    "\n",
    "# Compress TAR.GZ\n",
    "!tar -zcvf archive_name.tar.gz folder_to_compress\n",
    "\n",
    "# Extract TAR.GZ\n",
    "!tar -zxvf archive_name.tar.gz\n",
    "\n",
    "# Compress TAR.BZ2\n",
    "!tar -jcvf archive_name.tar.bz2 folder_to_compress\n",
    "\n",
    "# Extract TAR.BZ2\n",
    "!tar -jxvf archive_name.tar.bz2\n",
    "\n",
    "# Extract GZ\n",
    "!gunzip archivename.gz\n",
    "\n",
    "# Uncompress all tar.gz in current directory to another directory\n",
    "!for i in *.tar.gz; do echo working on $i; tar xvzf $i -C directory/ ; done"
   ]
  },
  {
   "cell_type": "markdown",
   "metadata": {},
   "source": [
    "## Curl"
   ]
  },
  {
   "cell_type": "code",
   "execution_count": null,
   "metadata": {
    "collapsed": false
   },
   "outputs": [],
   "source": [
    "# Display the curl output:\n",
    "!curl donnemartin.com\n",
    "\n",
    "# Download the curl output to a file:\n",
    "!curl donnemartin.com > donnemartin.html\n",
    "\n",
    "# Download the curl output to a file -o\n",
    "!curl -o image.png http://i1.wp.com/donnemartin.com/wp-content/uploads/2015/02/splunk_cover.png\n",
    "\n",
    "# Download the curl output to a file, keeping the original file name -O\n",
    "!curl -O http://i1.wp.com/donnemartin.com/wp-content/uploads/2015/02/splunk_cover.png\n",
    "    \n",
    "# Download multiple files, attempting to reuse the same connection\n",
    "!curl -O url1 -O url2\n",
    "\n",
    "# Follow redirects -L\n",
    "!curl -L url\n",
    "\n",
    "# Resume a previous download -C -\n",
    "!curl -C - -O url\n",
    "\n",
    "# Authenticate -u\n",
    "!curl -u username:password url"
   ]
  },
  {
   "cell_type": "markdown",
   "metadata": {},
   "source": [
    "## View Running Processes"
   ]
  },
  {
   "cell_type": "code",
   "execution_count": 26,
   "metadata": {
    "collapsed": false
   },
   "outputs": [
    {
     "name": "stdout",
     "output_type": "stream",
     "text": [
      "\u001b[?1h\u001b=\u001b[H\u001b[2J\u001b[mtop - 03:54:38 up 21 days, 12:00,  0 users,  load average: 6.21, 6.37, 6.48\u001b[m\u001b[m\u001b[m\u001b[m\u001b[K\n",
      "Tasks:\u001b[m\u001b[m\u001b[1m   7 \u001b[m\u001b[mtotal,\u001b[m\u001b[m\u001b[1m   1 \u001b[m\u001b[mrunning,\u001b[m\u001b[m\u001b[1m   6 \u001b[m\u001b[msleeping,\u001b[m\u001b[m\u001b[1m   0 \u001b[m\u001b[mstopped,\u001b[m\u001b[m\u001b[1m   0 \u001b[m\u001b[mzombie\u001b[m\u001b[m\u001b[m\u001b[m\u001b[K\n",
      "%Cpu(s):\u001b[m\u001b[m\u001b[1m  1.9 \u001b[m\u001b[mus,\u001b[m\u001b[m\u001b[1m  0.5 \u001b[m\u001b[msy,\u001b[m\u001b[m\u001b[1m  0.0 \u001b[m\u001b[mni,\u001b[m\u001b[m\u001b[1m 97.6 \u001b[m\u001b[mid,\u001b[m\u001b[m\u001b[1m  0.0 \u001b[m\u001b[mwa,\u001b[m\u001b[m\u001b[1m  0.0 \u001b[m\u001b[mhi,\u001b[m\u001b[m\u001b[1m  0.0 \u001b[m\u001b[msi,\u001b[m\u001b[m\u001b[1m  0.0 \u001b[m\u001b[mst\u001b[m\u001b[m\u001b[m\u001b[m\u001b[K\n",
      "KiB Mem: \u001b[m\u001b[m\u001b[1m 65861244 \u001b[m\u001b[mtotal,\u001b[m\u001b[m\u001b[1m 24436864 \u001b[m\u001b[mused,\u001b[m\u001b[m\u001b[1m 41424380 \u001b[m\u001b[mfree,\u001b[m\u001b[m\u001b[1m  1443728 \u001b[m\u001b[mbuffers\u001b[m\u001b[m\u001b[m\u001b[m\u001b[K\n",
      "KiB Swap:\u001b[m\u001b[m\u001b[1m        0 \u001b[m\u001b[mtotal,\u001b[m\u001b[m\u001b[1m        0 \u001b[m\u001b[mused,\u001b[m\u001b[m\u001b[1m        0 \u001b[m\u001b[mfree.\u001b[m\u001b[m\u001b[1m  2994604 \u001b[m\u001b[mcached Mem\u001b[m\u001b[m\u001b[m\u001b[m\u001b[K\n",
      "\u001b[K\n",
      "\u001b[7m  PID USER      PR  NI    VIRT    RES    SHR S  %CPU %MEM     TIME+ COMMAND     \u001b[m\u001b[m\u001b[K\n",
      "\u001b[m   13 jovyan    20   0  628912  31560   6240 S   6.6  0.0   0:03.84 python      \u001b[m\u001b[m\u001b[K\n",
      "\u001b[m    1 root      20   0    4216    348    268 S   0.0  0.0   0:00.06 tini        \u001b[m\u001b[m\u001b[K\n",
      "\u001b[m    5 root      20   0    4328    652    548 S   0.0  0.0   0:00.00 sh          \u001b[m\u001b[m\u001b[K\n",
      "\u001b[m    6 root      20   0   46352   1600   1228 S   0.0  0.0   0:00.00 su          \u001b[m\u001b[m\u001b[K\n",
      "\u001b[m    8 jovyan    20   0  352396  64504   7312 S   0.0  0.1   0:02.64 jupyter-no+ \u001b[m\u001b[m\u001b[K\n",
      "\u001b[m  124 jovyan    20   0    4328    628    532 S   0.0  0.0   0:00.04 sh          \u001b[m\u001b[m\u001b[K\n",
      "\u001b[m\u001b[1m  125 jovyan    20   0   23524   1384   1056 R   0.0  0.0   0:00.00 top         \u001b[m\u001b[m\u001b[K\n",
      "\u001b[J\u001b[?1l\u001b>\u001b[25;1H\n",
      "\u001b[K\n"
     ]
    }
   ],
   "source": [
    "# Display sorted info about processes\n",
    "!top"
   ]
  },
  {
   "cell_type": "code",
   "execution_count": 27,
   "metadata": {
    "collapsed": false
   },
   "outputs": [
    {
     "name": "stdout",
     "output_type": "stream",
     "text": [
      "USER       PID %CPU %MEM    VSZ   RSS TTY      STAT START   TIME COMMAND\r\n",
      "root         1  0.0  0.0   4216   348 ?        Ss   02:48   0:00 tini -- /bin/sh\r\n",
      "root         5  0.0  0.0   4328   652 ?        S    02:48   0:00 /bin/sh -c star\r\n",
      "root         6  0.0  0.0  46352  1600 ?        S    02:48   0:00 su jovyan -c en\r\n",
      "jovyan       8  0.0  0.1 354916 67016 ?        Ssl  02:48   0:02 /opt/conda/bin/\r\n",
      "jovyan      13  0.3  0.0 628912 31560 ?        Ssl  03:35   0:03 /opt/conda/envs\r\n",
      "jovyan     126  0.0  0.0   4328   632 pts/0    Ss+  03:55   0:00 /bin/sh -c ps a\r\n",
      "jovyan     127  0.0  0.0  19092  1308 pts/0    R+   03:55   0:00 ps aux\r\n"
     ]
    }
   ],
   "source": [
    "# Display all running processes\n",
    "!ps aux"
   ]
  },
  {
   "cell_type": "code",
   "execution_count": 28,
   "metadata": {
    "collapsed": false
   },
   "outputs": [
    {
     "name": "stdout",
     "output_type": "stream",
     "text": [
      "jovyan       8     6  0 02:48 ?        00:00:02 /opt/conda/bin/python /opt/conda/bin/jupyter-notebook --NotebookApp.base_url=user/7ocldL5AjDdO --NotebookApp.allow_origin=* --port=8888\r\n",
      "jovyan      13     8  0 03:35 ?        00:00:03 /opt/conda/envs/python2/bin/python -m ipykernel -f /home/jovyan/.local/share/jupyter/runtime/kernel-fe767d89-a7b3-45c4-bb57-ce8f234554da.json\r\n",
      "jovyan     128    13  0 03:56 pts/0    00:00:00 /bin/sh -c ps -ef | grep python\r\n",
      "jovyan     130   128  0 03:56 pts/0    00:00:00 grep python\r\n"
     ]
    }
   ],
   "source": [
    "# Display all matching running processes with full formatting\n",
    "!ps -ef | grep python"
   ]
  },
  {
   "cell_type": "code",
   "execution_count": 34,
   "metadata": {
    "collapsed": false
   },
   "outputs": [
    {
     "name": "stdout",
     "output_type": "stream",
     "text": [
      "  PID TTY          TIME CMD\r\n",
      "    8 ?        00:00:02 jupyter-noteboo\r\n",
      "   13 ?        00:00:03 python\r\n",
      "  140 pts/0    00:00:00 sh\r\n",
      "  141 pts/0    00:00:00 ps\r\n"
     ]
    }
   ],
   "source": [
    "# See processes run by user dmartin\n",
    "!ps -u jovyan"
   ]
  },
  {
   "cell_type": "code",
   "execution_count": 35,
   "metadata": {
    "collapsed": false,
    "scrolled": false
   },
   "outputs": [
    {
     "name": "stdout",
     "output_type": "stream",
     "text": [
      "/bin/sh: 1: pstree: not found\r\n"
     ]
    }
   ],
   "source": [
    "# Display running processes as a tree\n",
    "!pstree"
   ]
  },
  {
   "cell_type": "markdown",
   "metadata": {},
   "source": [
    "## Terminal Syntax Highlighting"
   ]
  },
  {
   "cell_type": "markdown",
   "metadata": {},
   "source": [
    "Add the following to your ~/.bash_profile:"
   ]
  },
  {
   "cell_type": "code",
   "execution_count": 38,
   "metadata": {
    "collapsed": false
   },
   "outputs": [
    {
     "name": "stdout",
     "output_type": "stream",
     "text": [
      "1\r\n"
     ]
    }
   ],
   "source": [
    "!echo $CLICOLOR"
   ]
  },
  {
   "cell_type": "code",
   "execution_count": 39,
   "metadata": {
    "collapsed": false
   },
   "outputs": [
    {
     "name": "stdout",
     "output_type": "stream",
     "text": [
      "\r\n"
     ]
    }
   ],
   "source": [
    "!echo $LSCOLORS"
   ]
  },
  {
   "cell_type": "code",
   "execution_count": 40,
   "metadata": {
    "collapsed": false
   },
   "outputs": [
    {
     "name": "stdout",
     "output_type": "stream",
     "text": [
      "$\r\n"
     ]
    }
   ],
   "source": [
    "!echo $PS1"
   ]
  },
  {
   "cell_type": "code",
   "execution_count": 41,
   "metadata": {
    "collapsed": true
   },
   "outputs": [],
   "source": [
    "!export PS1='\\[\\033[01;32m\\]\\u@\\h\\[\\033[00m\\]:\\[\\033[01;34m\\]\\W\\[\\033[00m\\]\\$ '"
   ]
  },
  {
   "cell_type": "code",
   "execution_count": null,
   "metadata": {
    "collapsed": true
   },
   "outputs": [],
   "source": [
    "!export CLICOLOR=1"
   ]
  },
  {
   "cell_type": "code",
   "execution_count": 42,
   "metadata": {
    "collapsed": true
   },
   "outputs": [],
   "source": [
    "!export LSCOLORS=ExFxBxDxCxegedabagacad"
   ]
  },
  {
   "cell_type": "code",
   "execution_count": 43,
   "metadata": {
    "collapsed": false
   },
   "outputs": [],
   "source": [
    "!alias ls='ls -GFh'"
   ]
  },
  {
   "cell_type": "markdown",
   "metadata": {},
   "source": [
    "Reload .bash_profile:"
   ]
  },
  {
   "cell_type": "code",
   "execution_count": 44,
   "metadata": {
    "collapsed": false
   },
   "outputs": [
    {
     "name": "stdout",
     "output_type": "stream",
     "text": [
      "/bin/sh: 1: source: not found\r\n"
     ]
    }
   ],
   "source": [
    "!source ~/.bash_profile"
   ]
  },
  {
   "cell_type": "code",
   "execution_count": 46,
   "metadata": {
    "collapsed": false
   },
   "outputs": [
    {
     "name": "stdout",
     "output_type": "stream",
     "text": [
      "$\r\n"
     ]
    }
   ],
   "source": [
    "!echo $PS1"
   ]
  },
  {
   "cell_type": "markdown",
   "metadata": {},
   "source": [
    "## Vim"
   ]
  },
  {
   "cell_type": "code",
   "execution_count": null,
   "metadata": {
    "collapsed": false
   },
   "outputs": [],
   "source": [
    "Normal mode:  esc\n",
    "\n",
    "Basic movement:  h, j, k, l\n",
    "Word movement:  w, W, e, E, b, B\n",
    "\n",
    "Go to matching parenthesis:  %\n",
    "Go to start of the line:  0\n",
    "Go to end of the line:  $\n",
    "\n",
    "Find character:  f\n",
    "\n",
    "Insert mode:  i\n",
    "Append to line:  A\n",
    "\n",
    "Delete character:  x\n",
    "Delete command:  d\n",
    "Delete line:  dd\n",
    "\n",
    "Replace command:  r\n",
    "Change command:  c\n",
    "\n",
    "Undo:  u (U for all changes on a line)\n",
    "Redo:  CTRL-R\n",
    "\n",
    "Copy the current line:  yy\n",
    "Paste the current line:  p (P for paste above cursor)\n",
    "\n",
    "Quit without saving changes:  q!\n",
    "Write the current file and quit:  :wq"
   ]
  },
  {
   "cell_type": "markdown",
   "metadata": {},
   "source": [
    "Run the following command to enable the tutorial:"
   ]
  },
  {
   "cell_type": "code",
   "execution_count": null,
   "metadata": {
    "collapsed": false
   },
   "outputs": [],
   "source": [
    "!vimtutor"
   ]
  },
  {
   "cell_type": "markdown",
   "metadata": {},
   "source": [
    "Run the following commands to enable syntax colors:"
   ]
  }
 ],
 "metadata": {
  "kernelspec": {
   "display_name": "Python 2",
   "language": "python",
   "name": "python2"
  },
  "language_info": {
   "codemirror_mode": {
    "name": "ipython",
    "version": 2
   },
   "file_extension": ".py",
   "mimetype": "text/x-python",
   "name": "python",
   "nbconvert_exporter": "python",
   "pygments_lexer": "ipython2",
   "version": "2.7.11"
  }
 },
 "nbformat": 4,
 "nbformat_minor": 0
}
