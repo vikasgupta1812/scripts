{
 "cells": [
  {
   "cell_type": "code",
   "execution_count": 1,
   "metadata": {
    "collapsed": false
   },
   "outputs": [
    {
     "name": "stdout",
     "output_type": "stream",
     "text": [
      "Writing 'package_installs.R'\n"
     ]
    }
   ],
   "source": [
    "%%file 'package_installs.R'\n",
    "packages <- as.data.frame(available.packages())\n",
    "\n",
    "successes = 0\n",
    "errors = 0\n",
    "\n",
    "my.install.packages <- function(package) {\n",
    "    install.packages(package, verbose=FALSE, quiet=TRUE)\n",
    "    return(\"success\")\n",
    "}\n",
    "\n",
    "for (package in packages$Package) {\n",
    "    cat(as.character(Sys.time()), \": Installing Package \", package, \"\\n\")\n",
    "    status <- tryCatch(my.install.packages(package),\n",
    "                       error=function(e) {\n",
    "                       print(e)\n",
    "                       cat(\"Failed to install package \", package, \"\\n\")\n",
    "                       return(\"error\")})\n",
    "    successes <- successes + (if (status==\"success\") 1 else 0)\n",
    "    errors    <- errors    + (if (status==\"error\")   1 else 0)\n",
    "    cat(successes, \"successes and\", errors, \"errrors so far\\n\")\n",
    "}"
   ]
  },
  {
   "cell_type": "code",
   "execution_count": null,
   "metadata": {
    "collapsed": true
   },
   "outputs": [],
   "source": []
  }
 ],
 "metadata": {
  "kernelspec": {
   "display_name": "Python 2",
   "language": "python",
   "name": "python2"
  },
  "language_info": {
   "codemirror_mode": {
    "name": "ipython",
    "version": 2
   },
   "file_extension": ".py",
   "mimetype": "text/x-python",
   "name": "python",
   "nbconvert_exporter": "python",
   "pygments_lexer": "ipython2",
   "version": "2.7.11"
  },
  "widgets": {
   "state": {},
   "version": "1.1.1"
  }
 },
 "nbformat": 4,
 "nbformat_minor": 0
}
