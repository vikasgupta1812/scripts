{
 "cells": [
  {
   "cell_type": "markdown",
   "metadata": {},
   "source": [
    "Source - http://machinelearningmastery.com/tutorial-first-neural-network-python-keras/\n",
    "Steps \n",
    "\n",
    "- Load Data.\n",
    "- Define Model.\n",
    "- Compile Model.\n",
    "- Fit Model.\n",
    "- Evaluate Model.\n",
    "- Tie It All Together."
   ]
  },
  {
   "cell_type": "markdown",
   "metadata": {},
   "source": [
    "#### 1. Load Data"
   ]
  },
  {
   "cell_type": "code",
   "execution_count": 1,
   "metadata": {
    "collapsed": false
   },
   "outputs": [
    {
     "name": "stderr",
     "output_type": "stream",
     "text": [
      "Using TensorFlow backend.\n"
     ]
    }
   ],
   "source": [
    "import numpy as np\n",
    "#import keras\n",
    "from keras.models import Sequential\n",
    "from keras.layers import Dense"
   ]
  },
  {
   "cell_type": "code",
   "execution_count": 2,
   "metadata": {
    "collapsed": false
   },
   "outputs": [],
   "source": [
    "seed = 7\n",
    "np.random.seed(seed)"
   ]
  },
  {
   "cell_type": "markdown",
   "metadata": {},
   "source": [
    "\n",
    "We are going to use the [Pima Indians onset of diabetes dataset](http://archive.ics.uci.edu/ml/datasets/Pima+Indians+Diabetes). It describes patient medical record data for Pima Indians and whether they had an onset of diabetes within five years.\n",
    "\n",
    "As such, it is a binary classification problem (onset of diabetes as 1 or not as 0). All of the input variables that describe each patient are numerical. This makes it easy to use directly with neural networks that expect numerical inputs and output values."
   ]
  },
  {
   "cell_type": "code",
   "execution_count": 3,
   "metadata": {
    "collapsed": false
   },
   "outputs": [],
   "source": [
    "#!wget http://archive.ics.uci.edu/ml/machine-learning-databases/pima-indians-diabetes/pima-indians-diabetes.data"
   ]
  },
  {
   "cell_type": "code",
   "execution_count": 3,
   "metadata": {
    "collapsed": false
   },
   "outputs": [
    {
     "name": "stdout",
     "output_type": "stream",
     "text": [
      "6,148,72,35,0,33.6,0.627,50,1\r\n",
      "1,85,66,29,0,26.6,0.351,31,0\r\n",
      "8,183,64,0,0,23.3,0.672,32,1\r\n",
      "1,89,66,23,94,28.1,0.167,21,0\r\n",
      "0,137,40,35,168,43.1,2.288,33,1\r\n",
      "5,116,74,0,0,25.6,0.201,30,0\r\n",
      "3,78,50,32,88,31.0,0.248,26,1\r\n",
      "10,115,0,0,0,35.3,0.134,29,0\r\n",
      "2,197,70,45,543,30.5,0.158,53,1\r\n",
      "8,125,96,0,0,0.0,0.232,54,1\r\n"
     ]
    }
   ],
   "source": [
    "!head ./data/pima-indians-diabetes.data"
   ]
  },
  {
   "cell_type": "code",
   "execution_count": 4,
   "metadata": {
    "collapsed": true
   },
   "outputs": [],
   "source": [
    "# load pima indians dataset\n",
    "dataset = np.loadtxt(\"./data/pima-indians-diabetes.data\", delimiter=\",\")"
   ]
  },
  {
   "cell_type": "code",
   "execution_count": 6,
   "metadata": {
    "collapsed": false
   },
   "outputs": [
    {
     "name": "stdout",
     "output_type": "stream",
     "text": [
      "<type 'numpy.ndarray'>\n",
      "(768, 9)\n",
      "[[   6.     148.      72.    ...,    0.627   50.       1.   ]\n",
      " [   1.      85.      66.    ...,    0.351   31.       0.   ]\n",
      " [   8.     183.      64.    ...,    0.672   32.       1.   ]\n",
      " ..., \n",
      " [   5.     121.      72.    ...,    0.245   30.       0.   ]\n",
      " [   1.     126.      60.    ...,    0.349   47.       1.   ]\n",
      " [   1.      93.      70.    ...,    0.315   23.       0.   ]]\n"
     ]
    }
   ],
   "source": [
    "print type(dataset)\n",
    "print dataset.shape\n",
    "print dataset"
   ]
  },
  {
   "cell_type": "code",
   "execution_count": 7,
   "metadata": {
    "collapsed": false
   },
   "outputs": [],
   "source": [
    "# split into input (X) and output (Y) variables\n",
    "X = dataset[:,0:8]\n",
    "Y = dataset[:,8]"
   ]
  },
  {
   "cell_type": "markdown",
   "metadata": {},
   "source": [
    "#### 2. Define Model\n",
    "\n",
    "Models in `Keras` are defined as a sequence of `layers`.\n",
    "\n",
    "We create a Sequential model and add layers one at a time until we are happy with our network topology.\n",
    "\n",
    "The first thing to get right is to ensure the input layer has the right number of inputs. This can be specified when creating the first layer with the input_dim argument and setting it to 8 for the 8 input variables.\n",
    "\n",
    "##### How do we know the number of layers and their types?\n",
    "\n",
    "This is a very hard question. There are heuristics that we can use and often the best network structure is found through a process of trial and error experimentation. Generally, you need a network large enough to capture the structure of the problem if that helps at all.\n",
    "\n",
    "In this example we will use a _fully-connected network_ structure with _three_ layers.\n",
    "\n",
    "Fully connected layers are defined using the `Dense` class. We can specify the number of neurons in the layer as the first argument, the initialization method as the second argument as **init** and specify the activation function using the **activation** argument.\n",
    "\n",
    "In this case we initialize the network weights to a small random number generated from a **uniform** distribution ('uniform'), in this case between `0` and `0.05` because that is the `default` uniform weight initialization in Keras. Another traditional alternative would be ‘**normal**’ for small random numbers generated from a `Gaussian distribution`.\n",
    "\n",
    "\n",
    "We will use the [rectifier](https://en.wikipedia.org/wiki/Rectifier_(neural_networks) (‘**relu**‘) activation function on the first two layers and the **sigmoid** in the output layer. It used to be the case that `sigmoid` and `tanh` activation functions were preferred for all layers. These days, better performance is seen using the rectifier activation function. We use a sigmoid on the output layer to ensure our network output is between 0 and 1 and easy to map to either a probability of class `1` or snap to a hard classification of either class with a default threshold of 0.5.\n",
    "\n",
    "\n",
    "We can piece it all together by adding each layer. The first layer has `12` neurons and expects `8` input variables. The second hidden layer has 8 neurons and finally the output layer has `1` neuron to predict the class (onset of diabetes or not)."
   ]
  },
  {
   "cell_type": "code",
   "execution_count": 8,
   "metadata": {
    "collapsed": false
   },
   "outputs": [],
   "source": [
    "model = Sequential()\n",
    "model.add(Dense(12, input_dim=8, init='uniform', activation='relu'))\n",
    "model.add(Dense(8, init='uniform', activation='relu'))\n",
    "model.add(Dense(1, init='uniform', activation='sigmoid'))"
   ]
  },
  {
   "cell_type": "markdown",
   "metadata": {},
   "source": [
    "#### 3. Compile Model\n",
    "\n",
    "Now that the model is defined, we can compile it.\n",
    "\n",
    "Compiling the model uses the efficient numerical libraries under the covers (the so-called backend) such as Theano or TensorFlow. The backend automatically chooses the best way to represent the network for training and making predictions to run on your hardware, such as CPU or GPU or even distributed.\n",
    "\n",
    "When compiling, we must specify some additional properties required when training the network. Remember training a network means finding the best set of weights to make predictions for this problem.\n",
    "\n",
    "We must specify the `loss` function to use to evaluate a set of weights, the optimizer used to search through different weights for the network and any optional metrics we would like to collect and report during training.\n",
    "\n",
    "In this case we will use `logarithmic loss`, which for a binary classification problem is defined in `Keras` as “`binary_crossentropy`“. We will also use the efficient gradient descent algorithm “`adam`” for no other reason that it is an efficient default.\n",
    "\n",
    "Finally, because it is a classification problem, we will collect and report the classification accuracy as the metric."
   ]
  },
  {
   "cell_type": "code",
   "execution_count": 9,
   "metadata": {
    "collapsed": true
   },
   "outputs": [],
   "source": [
    "# Compile model.\n",
    "model.compile(loss='binary_crossentropy', optimizer='adam', metrics=['accuracy'])"
   ]
  },
  {
   "cell_type": "markdown",
   "metadata": {},
   "source": [
    "#### 4. Fit Model\n",
    "\n",
    "We have defined our model and compiled it ready for efficient computation. Now it is time to execute the model on some data. We can train or fit our model on our loaded data by calling the `fit()` function on the model.\n",
    "\n",
    "The training process will run for a fixed number of iterations through the dataset called `epochs`, that we must specify using the `nb_epoch` argument. We can also set the number of instances that are evaluated before a weight update in the network is performed called the `batch size` and set using the `batch_size` argument.\n",
    "\n",
    "For this problem we will run for a small number of iterations (150) and use a relatively small batch size of `10`. Again, these can be chosen experimentally by trial and error."
   ]
  },
  {
   "cell_type": "code",
   "execution_count": 10,
   "metadata": {
    "collapsed": false
   },
   "outputs": [
    {
     "name": "stdout",
     "output_type": "stream",
     "text": [
      "Epoch 1/150\n",
      "768/768 [==============================] - 1s - loss: 0.6826 - acc: 0.6328     \n",
      "Epoch 2/150\n",
      "768/768 [==============================] - 0s - loss: 0.6590 - acc: 0.6510     \n",
      "Epoch 3/150\n",
      "768/768 [==============================] - 1s - loss: 0.6475 - acc: 0.6549     \n",
      "Epoch 4/150\n",
      "768/768 [==============================] - 0s - loss: 0.6416 - acc: 0.6615     \n",
      "Epoch 5/150\n",
      "768/768 [==============================] - 0s - loss: 0.6216 - acc: 0.6745     \n",
      "Epoch 6/150\n",
      "768/768 [==============================] - 1s - loss: 0.6128 - acc: 0.6680     \n",
      "Epoch 7/150\n",
      "768/768 [==============================] - 1s - loss: 0.6018 - acc: 0.6927     \n",
      "Epoch 8/150\n",
      "768/768 [==============================] - 1s - loss: 0.5962 - acc: 0.6927     \n",
      "Epoch 9/150\n",
      "768/768 [==============================] - 1s - loss: 0.5991 - acc: 0.6953     \n",
      "Epoch 10/150\n",
      "768/768 [==============================] - 1s - loss: 0.5920 - acc: 0.6927     \n",
      "Epoch 11/150\n",
      "768/768 [==============================] - 0s - loss: 0.5905 - acc: 0.6979     \n",
      "Epoch 12/150\n",
      "768/768 [==============================] - 1s - loss: 0.5883 - acc: 0.6901     \n",
      "Epoch 13/150\n",
      "768/768 [==============================] - 1s - loss: 0.5870 - acc: 0.6953     \n",
      "Epoch 14/150\n",
      "768/768 [==============================] - 1s - loss: 0.5869 - acc: 0.6836     \n",
      "Epoch 15/150\n",
      "768/768 [==============================] - 1s - loss: 0.5815 - acc: 0.6953     \n",
      "Epoch 16/150\n",
      "768/768 [==============================] - 1s - loss: 0.5779 - acc: 0.6966     \n",
      "Epoch 17/150\n",
      "768/768 [==============================] - 1s - loss: 0.5809 - acc: 0.6849     \n",
      "Epoch 18/150\n",
      "768/768 [==============================] - 1s - loss: 0.5818 - acc: 0.6953     \n",
      "Epoch 19/150\n",
      "768/768 [==============================] - 1s - loss: 0.5814 - acc: 0.6901     \n",
      "Epoch 20/150\n",
      "768/768 [==============================] - 1s - loss: 0.5748 - acc: 0.7096     \n",
      "Epoch 21/150\n",
      "768/768 [==============================] - 1s - loss: 0.5758 - acc: 0.7005     \n",
      "Epoch 22/150\n",
      "768/768 [==============================] - 0s - loss: 0.5739 - acc: 0.7135     \n",
      "Epoch 23/150\n",
      "768/768 [==============================] - 1s - loss: 0.5736 - acc: 0.6927     \n",
      "Epoch 24/150\n",
      "768/768 [==============================] - 0s - loss: 0.5750 - acc: 0.6940     \n",
      "Epoch 25/150\n",
      "768/768 [==============================] - 1s - loss: 0.5734 - acc: 0.7031     \n",
      "Epoch 26/150\n",
      "768/768 [==============================] - 1s - loss: 0.5683 - acc: 0.7083     \n",
      "Epoch 27/150\n",
      "768/768 [==============================] - 1s - loss: 0.5688 - acc: 0.7018     \n",
      "Epoch 28/150\n",
      "768/768 [==============================] - 1s - loss: 0.5714 - acc: 0.7070     \n",
      "Epoch 29/150\n",
      "768/768 [==============================] - 1s - loss: 0.5621 - acc: 0.7188     \n",
      "Epoch 30/150\n",
      "768/768 [==============================] - 1s - loss: 0.5647 - acc: 0.7122     \n",
      "Epoch 31/150\n",
      "768/768 [==============================] - 1s - loss: 0.5630 - acc: 0.7135     \n",
      "Epoch 32/150\n",
      "768/768 [==============================] - 1s - loss: 0.5613 - acc: 0.7214     \n",
      "Epoch 33/150\n",
      "768/768 [==============================] - 0s - loss: 0.5594 - acc: 0.7188     \n",
      "Epoch 34/150\n",
      "768/768 [==============================] - 1s - loss: 0.5598 - acc: 0.7188     \n",
      "Epoch 35/150\n",
      "768/768 [==============================] - 1s - loss: 0.5624 - acc: 0.7188     \n",
      "Epoch 36/150\n",
      "768/768 [==============================] - 1s - loss: 0.5615 - acc: 0.7201     \n",
      "Epoch 37/150\n",
      "768/768 [==============================] - 1s - loss: 0.5544 - acc: 0.7214     \n",
      "Epoch 38/150\n",
      "768/768 [==============================] - 1s - loss: 0.5529 - acc: 0.7135     \n",
      "Epoch 39/150\n",
      "768/768 [==============================] - 0s - loss: 0.5550 - acc: 0.7227     \n",
      "Epoch 40/150\n",
      "768/768 [==============================] - 1s - loss: 0.5574 - acc: 0.7331     \n",
      "Epoch 41/150\n",
      "768/768 [==============================] - 1s - loss: 0.5561 - acc: 0.7357     \n",
      "Epoch 42/150\n",
      "768/768 [==============================] - 1s - loss: 0.5459 - acc: 0.7370     \n",
      "Epoch 43/150\n",
      "768/768 [==============================] - 1s - loss: 0.5481 - acc: 0.7240     \n",
      "Epoch 44/150\n",
      "768/768 [==============================] - 1s - loss: 0.5409 - acc: 0.7331     \n",
      "Epoch 45/150\n",
      "768/768 [==============================] - 1s - loss: 0.5438 - acc: 0.7422     \n",
      "Epoch 46/150\n",
      "768/768 [==============================] - 1s - loss: 0.5360 - acc: 0.7344     \n",
      "Epoch 47/150\n",
      "768/768 [==============================] - 1s - loss: 0.5393 - acc: 0.7357     \n",
      "Epoch 48/150\n",
      "768/768 [==============================] - 1s - loss: 0.5360 - acc: 0.7435     \n",
      "Epoch 49/150\n",
      "768/768 [==============================] - 1s - loss: 0.5407 - acc: 0.7370     \n",
      "Epoch 50/150\n",
      "768/768 [==============================] - 0s - loss: 0.5473 - acc: 0.7344     \n",
      "Epoch 51/150\n",
      "768/768 [==============================] - 0s - loss: 0.5287 - acc: 0.7448     \n",
      "Epoch 52/150\n",
      "768/768 [==============================] - 1s - loss: 0.5283 - acc: 0.7539     \n",
      "Epoch 53/150\n",
      "768/768 [==============================] - 1s - loss: 0.5308 - acc: 0.7396     \n",
      "Epoch 54/150\n",
      "768/768 [==============================] - 1s - loss: 0.5274 - acc: 0.7448     \n",
      "Epoch 55/150\n",
      "768/768 [==============================] - 1s - loss: 0.5241 - acc: 0.7539     \n",
      "Epoch 56/150\n",
      "768/768 [==============================] - 1s - loss: 0.5262 - acc: 0.7526     \n",
      "Epoch 57/150\n",
      "768/768 [==============================] - 0s - loss: 0.5272 - acc: 0.7422     \n",
      "Epoch 58/150\n",
      "768/768 [==============================] - 1s - loss: 0.5262 - acc: 0.7539     \n",
      "Epoch 59/150\n",
      "768/768 [==============================] - 1s - loss: 0.5224 - acc: 0.7604     \n",
      "Epoch 60/150\n",
      "768/768 [==============================] - 1s - loss: 0.5200 - acc: 0.7513     \n",
      "Epoch 61/150\n",
      "768/768 [==============================] - 1s - loss: 0.5158 - acc: 0.7578     \n",
      "Epoch 62/150\n",
      "768/768 [==============================] - 0s - loss: 0.5162 - acc: 0.7513     \n",
      "Epoch 63/150\n",
      "768/768 [==============================] - 0s - loss: 0.5097 - acc: 0.7552     \n",
      "Epoch 64/150\n",
      "768/768 [==============================] - 0s - loss: 0.5134 - acc: 0.7487     \n",
      "Epoch 65/150\n",
      "768/768 [==============================] - 0s - loss: 0.5112 - acc: 0.7435     \n",
      "Epoch 66/150\n",
      "768/768 [==============================] - 0s - loss: 0.5141 - acc: 0.7656     \n",
      "Epoch 67/150\n",
      "768/768 [==============================] - 1s - loss: 0.5082 - acc: 0.7539     \n",
      "Epoch 68/150\n",
      "768/768 [==============================] - 0s - loss: 0.5101 - acc: 0.7643     \n",
      "Epoch 69/150\n",
      "768/768 [==============================] - 1s - loss: 0.5136 - acc: 0.7409     \n",
      "Epoch 70/150\n",
      "768/768 [==============================] - 0s - loss: 0.5182 - acc: 0.7474     \n",
      "Epoch 71/150\n",
      "768/768 [==============================] - 0s - loss: 0.5185 - acc: 0.7370     \n",
      "Epoch 72/150\n",
      "768/768 [==============================] - 0s - loss: 0.5073 - acc: 0.7539     \n",
      "Epoch 73/150\n",
      "768/768 [==============================] - 1s - loss: 0.4982 - acc: 0.7682     \n",
      "Epoch 74/150\n",
      "768/768 [==============================] - 0s - loss: 0.4967 - acc: 0.7591     \n",
      "Epoch 75/150\n",
      "768/768 [==============================] - 1s - loss: 0.5070 - acc: 0.7617     \n",
      "Epoch 76/150\n",
      "768/768 [==============================] - 1s - loss: 0.5025 - acc: 0.7526     \n",
      "Epoch 77/150\n",
      "768/768 [==============================] - 0s - loss: 0.4991 - acc: 0.7604     \n",
      "Epoch 78/150\n",
      "768/768 [==============================] - 0s - loss: 0.4923 - acc: 0.7656     \n",
      "Epoch 79/150\n",
      "768/768 [==============================] - 1s - loss: 0.4998 - acc: 0.7695     \n",
      "Epoch 80/150\n",
      "768/768 [==============================] - 0s - loss: 0.5004 - acc: 0.7526     \n",
      "Epoch 81/150\n",
      "768/768 [==============================] - 1s - loss: 0.5043 - acc: 0.7552     \n",
      "Epoch 82/150\n",
      "768/768 [==============================] - 0s - loss: 0.5002 - acc: 0.7656     \n",
      "Epoch 83/150\n",
      "768/768 [==============================] - 1s - loss: 0.4932 - acc: 0.7617     \n",
      "Epoch 84/150\n",
      "768/768 [==============================] - 0s - loss: 0.4971 - acc: 0.7604     \n",
      "Epoch 85/150\n",
      "768/768 [==============================] - 0s - loss: 0.5007 - acc: 0.7513     \n",
      "Epoch 86/150\n",
      "768/768 [==============================] - 1s - loss: 0.4889 - acc: 0.7656     \n",
      "Epoch 87/150\n",
      "768/768 [==============================] - 0s - loss: 0.4953 - acc: 0.7591     \n",
      "Epoch 88/150\n",
      "768/768 [==============================] - 1s - loss: 0.4910 - acc: 0.7669     \n",
      "Epoch 89/150\n",
      "768/768 [==============================] - 0s - loss: 0.4897 - acc: 0.7604     \n",
      "Epoch 90/150\n",
      "768/768 [==============================] - 1s - loss: 0.4867 - acc: 0.7643     \n",
      "Epoch 91/150\n",
      "768/768 [==============================] - 0s - loss: 0.4915 - acc: 0.7669     \n",
      "Epoch 92/150\n",
      "768/768 [==============================] - 0s - loss: 0.4907 - acc: 0.7630     \n",
      "Epoch 93/150\n",
      "768/768 [==============================] - 1s - loss: 0.4912 - acc: 0.7604     \n",
      "Epoch 94/150\n",
      "768/768 [==============================] - 0s - loss: 0.4851 - acc: 0.7630     \n",
      "Epoch 95/150\n",
      "768/768 [==============================] - 0s - loss: 0.4821 - acc: 0.7682     \n",
      "Epoch 96/150\n",
      "768/768 [==============================] - 0s - loss: 0.4835 - acc: 0.7669     \n",
      "Epoch 97/150\n",
      "768/768 [==============================] - 0s - loss: 0.4738 - acc: 0.7773     \n",
      "Epoch 98/150\n",
      "768/768 [==============================] - 0s - loss: 0.5008 - acc: 0.7474     \n",
      "Epoch 99/150\n",
      "768/768 [==============================] - 0s - loss: 0.4841 - acc: 0.7682     \n",
      "Epoch 100/150\n",
      "768/768 [==============================] - 0s - loss: 0.4816 - acc: 0.7669     \n",
      "Epoch 101/150\n",
      "768/768 [==============================] - 0s - loss: 0.4843 - acc: 0.7695     \n",
      "Epoch 102/150\n",
      "768/768 [==============================] - 1s - loss: 0.4753 - acc: 0.7891     \n",
      "Epoch 103/150\n",
      "768/768 [==============================] - 0s - loss: 0.4841 - acc: 0.7630     \n",
      "Epoch 104/150\n",
      "768/768 [==============================] - 1s - loss: 0.4836 - acc: 0.7786     \n",
      "Epoch 105/150\n",
      "768/768 [==============================] - 1s - loss: 0.4809 - acc: 0.7708     \n",
      "Epoch 106/150\n",
      "768/768 [==============================] - 1s - loss: 0.4792 - acc: 0.7786     \n",
      "Epoch 107/150\n",
      "768/768 [==============================] - 1s - loss: 0.4831 - acc: 0.7734     \n",
      "Epoch 108/150\n",
      "768/768 [==============================] - 1s - loss: 0.4783 - acc: 0.7852     \n",
      "Epoch 109/150\n",
      "768/768 [==============================] - 1s - loss: 0.4784 - acc: 0.7708     \n",
      "Epoch 110/150\n",
      "768/768 [==============================] - 0s - loss: 0.4803 - acc: 0.7682     \n",
      "Epoch 111/150\n",
      "768/768 [==============================] - 1s - loss: 0.4704 - acc: 0.7734     \n",
      "Epoch 112/150\n",
      "768/768 [==============================] - 0s - loss: 0.4752 - acc: 0.7878     \n",
      "Epoch 113/150\n",
      "768/768 [==============================] - 1s - loss: 0.4776 - acc: 0.7760     \n",
      "Epoch 114/150\n",
      "768/768 [==============================] - 1s - loss: 0.4849 - acc: 0.7604     \n",
      "Epoch 115/150\n",
      "768/768 [==============================] - 0s - loss: 0.4773 - acc: 0.7682     \n",
      "Epoch 116/150\n",
      "768/768 [==============================] - 1s - loss: 0.4712 - acc: 0.7773     \n",
      "Epoch 117/150\n",
      "768/768 [==============================] - 0s - loss: 0.4675 - acc: 0.7786     \n",
      "Epoch 118/150\n",
      "768/768 [==============================] - 0s - loss: 0.4660 - acc: 0.7839     \n",
      "Epoch 119/150\n",
      "768/768 [==============================] - 1s - loss: 0.4702 - acc: 0.7891     \n",
      "Epoch 120/150\n",
      "768/768 [==============================] - 1s - loss: 0.4699 - acc: 0.7852     \n",
      "Epoch 121/150\n",
      "768/768 [==============================] - 0s - loss: 0.4786 - acc: 0.7852     \n",
      "Epoch 122/150\n",
      "768/768 [==============================] - 1s - loss: 0.4745 - acc: 0.7786     \n",
      "Epoch 123/150\n",
      "768/768 [==============================] - 1s - loss: 0.4684 - acc: 0.7839     \n",
      "Epoch 124/150\n",
      "768/768 [==============================] - 1s - loss: 0.4709 - acc: 0.7760     \n",
      "Epoch 125/150\n",
      "768/768 [==============================] - 0s - loss: 0.4699 - acc: 0.7747     \n",
      "Epoch 126/150\n",
      "768/768 [==============================] - 1s - loss: 0.4649 - acc: 0.7747     \n",
      "Epoch 127/150\n",
      "768/768 [==============================] - 0s - loss: 0.4710 - acc: 0.7708     \n",
      "Epoch 128/150\n",
      "768/768 [==============================] - 0s - loss: 0.4574 - acc: 0.7956     \n",
      "Epoch 129/150\n",
      "768/768 [==============================] - 0s - loss: 0.4645 - acc: 0.7930     \n",
      "Epoch 130/150\n",
      "768/768 [==============================] - 0s - loss: 0.4761 - acc: 0.7734     \n",
      "Epoch 131/150\n",
      "768/768 [==============================] - 0s - loss: 0.4606 - acc: 0.7813     \n",
      "Epoch 132/150\n",
      "768/768 [==============================] - 0s - loss: 0.4619 - acc: 0.7878     \n",
      "Epoch 133/150\n",
      "768/768 [==============================] - 1s - loss: 0.4742 - acc: 0.7773     \n",
      "Epoch 134/150\n",
      "768/768 [==============================] - 0s - loss: 0.4714 - acc: 0.7786     \n",
      "Epoch 135/150\n",
      "768/768 [==============================] - 1s - loss: 0.4635 - acc: 0.7891     \n",
      "Epoch 136/150\n",
      "768/768 [==============================] - 0s - loss: 0.4571 - acc: 0.7995     \n",
      "Epoch 137/150\n",
      "768/768 [==============================] - 1s - loss: 0.4614 - acc: 0.7930     \n",
      "Epoch 138/150\n",
      "768/768 [==============================] - 0s - loss: 0.4677 - acc: 0.7799     \n",
      "Epoch 139/150\n",
      "768/768 [==============================] - 0s - loss: 0.4615 - acc: 0.7852     \n",
      "Epoch 140/150\n",
      "768/768 [==============================] - 1s - loss: 0.4593 - acc: 0.7852     \n",
      "Epoch 141/150\n",
      "768/768 [==============================] - 0s - loss: 0.4626 - acc: 0.7799     \n",
      "Epoch 142/150\n",
      "768/768 [==============================] - 1s - loss: 0.4614 - acc: 0.7786     \n",
      "Epoch 143/150\n",
      "768/768 [==============================] - 0s - loss: 0.4627 - acc: 0.7865     \n",
      "Epoch 144/150\n",
      "768/768 [==============================] - 1s - loss: 0.4538 - acc: 0.8034     \n",
      "Epoch 145/150\n",
      "768/768 [==============================] - 1s - loss: 0.4597 - acc: 0.7852     \n",
      "Epoch 146/150\n",
      "768/768 [==============================] - 0s - loss: 0.4646 - acc: 0.7930     \n",
      "Epoch 147/150\n",
      "768/768 [==============================] - 1s - loss: 0.4540 - acc: 0.7904     \n",
      "Epoch 148/150\n",
      "768/768 [==============================] - 0s - loss: 0.4656 - acc: 0.7799     \n",
      "Epoch 149/150\n",
      "768/768 [==============================] - 1s - loss: 0.4589 - acc: 0.7826     \n",
      "Epoch 150/150\n",
      "768/768 [==============================] - 0s - loss: 0.4611 - acc: 0.7773     \n"
     ]
    },
    {
     "data": {
      "text/plain": [
       "<keras.callbacks.History at 0x106ffea50>"
      ]
     },
     "execution_count": 10,
     "metadata": {},
     "output_type": "execute_result"
    }
   ],
   "source": [
    "# fit the model\n",
    "model.fit(X, Y, nb_epoch=150, batch_size=10)"
   ]
  },
  {
   "cell_type": "markdown",
   "metadata": {
    "collapsed": true
   },
   "source": [
    "#### 5. Evaluate Model\n",
    "\n",
    "We have trained our neural network on the entire dataset and we can evaluate the performance of the network on the same dataset.\n",
    "\n",
    "This will only give us an idea of how well we have modeled the dataset (e.g. train accuracy), but no idea of how well the algorithm might perform on new data. We have done this for simplicity, but ideally, you could separate your data into train and test datasets for training and evaluation of your model.\n",
    "\n",
    "You can evaluate your model on your training dataset using the evaluation() function on your model and pass it the same input and output used to train the model.\n",
    "\n",
    "This will generate a prediction for each input and output pair and collect scores, including the average loss and any metrics you have configured, such as accuracy."
   ]
  },
  {
   "cell_type": "code",
   "execution_count": 11,
   "metadata": {
    "collapsed": false
   },
   "outputs": [
    {
     "name": "stdout",
     "output_type": "stream",
     "text": [
      "768/768 [==============================] - 0s     \n",
      "acc: 78.91%\n"
     ]
    }
   ],
   "source": [
    "# evaluate the model\n",
    "scores = model.evaluate(X, Y)\n",
    "print(\"%s: %.2f%%\" % (model.metrics_names[1], scores[1]*100))"
   ]
  }
 ],
 "metadata": {
  "kernelspec": {
   "display_name": "Python 2",
   "language": "python",
   "name": "python2"
  },
  "language_info": {
   "codemirror_mode": {
    "name": "ipython",
    "version": 2
   },
   "file_extension": ".py",
   "mimetype": "text/x-python",
   "name": "python",
   "nbconvert_exporter": "python",
   "pygments_lexer": "ipython2",
   "version": "2.7.11"
  },
  "widgets": {
   "state": {},
   "version": "1.1.1"
  }
 },
 "nbformat": 4,
 "nbformat_minor": 0
}
