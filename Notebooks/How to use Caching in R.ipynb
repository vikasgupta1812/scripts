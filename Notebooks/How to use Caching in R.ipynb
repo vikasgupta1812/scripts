{
 "cells": [
  {
   "cell_type": "code",
   "execution_count": 20,
   "metadata": {
    "collapsed": true
   },
   "outputs": [],
   "source": [
    "makeMeanDataset <- function(x) {\n",
    "    mean = NULL\n",
    "    set <- function(y) {\n",
    "        x <<- y\n",
    "        mean <<- NULL\n",
    "    }\n",
    "    get <- function() x\n",
    "    getmean <- function() mean\n",
    "    setmean <- function(m) mean <<- m\n",
    "    list(set=set, get=get, getmean=getmean, setmean=setmean)\n",
    "}"
   ]
  },
  {
   "cell_type": "code",
   "execution_count": 21,
   "metadata": {
    "collapsed": true
   },
   "outputs": [],
   "source": [
    "cachemean <- function(x, ...) {\n",
    "  m <- x$getmean()\n",
    "  if(!is.null(m)) {\n",
    "    message(\"getting cached data\")\n",
    "    return(m)\n",
    "  }\n",
    "  data <- x$get()\n",
    "  m <- mean(data, ...)\n",
    "  x$setmean(m)\n",
    "  m\n",
    "}"
   ]
  },
  {
   "cell_type": "code",
   "execution_count": 22,
   "metadata": {
    "collapsed": false
   },
   "outputs": [
    {
     "data": {
      "text/html": [
       "<ol class=list-inline>\n",
       "\t<li>'cachemean'</li>\n",
       "\t<li>'cacheSolve'</li>\n",
       "\t<li>'m'</li>\n",
       "\t<li>'makeCacheMatrix'</li>\n",
       "\t<li>'makeMeanDataset'</li>\n",
       "\t<li>'x'</li>\n",
       "</ol>\n"
      ],
      "text/latex": [
       "\\begin{enumerate*}\n",
       "\\item 'cachemean'\n",
       "\\item 'cacheSolve'\n",
       "\\item 'm'\n",
       "\\item 'makeCacheMatrix'\n",
       "\\item 'makeMeanDataset'\n",
       "\\item 'x'\n",
       "\\end{enumerate*}\n"
      ],
      "text/markdown": [
       "1. 'cachemean'\n",
       "2. 'cacheSolve'\n",
       "3. 'm'\n",
       "4. 'makeCacheMatrix'\n",
       "5. 'makeMeanDataset'\n",
       "6. 'x'\n",
       "\n",
       "\n"
      ],
      "text/plain": [
       "[1] \"cachemean\"       \"cacheSolve\"      \"m\"               \"makeCacheMatrix\"\n",
       "[5] \"makeMeanDataset\" \"x\"              "
      ]
     },
     "execution_count": 22,
     "metadata": {},
     "output_type": "execute_result"
    }
   ],
   "source": [
    "ls()"
   ]
  },
  {
   "cell_type": "code",
   "execution_count": 23,
   "metadata": {
    "collapsed": true
   },
   "outputs": [],
   "source": [
    "x = c(1, 2, 3, 4)"
   ]
  },
  {
   "cell_type": "code",
   "execution_count": 25,
   "metadata": {
    "collapsed": true
   },
   "outputs": [],
   "source": [
    "m = makeMeanDataset(x)"
   ]
  },
  {
   "cell_type": "code",
   "execution_count": 26,
   "metadata": {
    "collapsed": false
   },
   "outputs": [
    {
     "data": {
      "text/html": [
       "<ol class=list-inline>\n",
       "\t<li>1</li>\n",
       "\t<li>2</li>\n",
       "\t<li>3</li>\n",
       "\t<li>4</li>\n",
       "</ol>\n"
      ],
      "text/latex": [
       "\\begin{enumerate*}\n",
       "\\item 1\n",
       "\\item 2\n",
       "\\item 3\n",
       "\\item 4\n",
       "\\end{enumerate*}\n"
      ],
      "text/markdown": [
       "1. 1\n",
       "2. 2\n",
       "3. 3\n",
       "4. 4\n",
       "\n",
       "\n"
      ],
      "text/plain": [
       "[1] 1 2 3 4"
      ]
     },
     "execution_count": 26,
     "metadata": {},
     "output_type": "execute_result"
    }
   ],
   "source": [
    "m$get()"
   ]
  },
  {
   "cell_type": "code",
   "execution_count": 27,
   "metadata": {
    "collapsed": false
   },
   "outputs": [
    {
     "data": {
      "text/html": [
       "2.5"
      ],
      "text/latex": [
       "2.5"
      ],
      "text/markdown": [
       "2.5"
      ],
      "text/plain": [
       "[1] 2.5"
      ]
     },
     "execution_count": 27,
     "metadata": {},
     "output_type": "execute_result"
    }
   ],
   "source": [
    "cachemean(m)"
   ]
  },
  {
   "cell_type": "code",
   "execution_count": 28,
   "metadata": {
    "collapsed": false
   },
   "outputs": [
    {
     "name": "stderr",
     "output_type": "stream",
     "text": [
      "getting cached data\n"
     ]
    },
    {
     "data": {
      "text/html": [
       "2.5"
      ],
      "text/latex": [
       "2.5"
      ],
      "text/markdown": [
       "2.5"
      ],
      "text/plain": [
       "[1] 2.5"
      ]
     },
     "execution_count": 28,
     "metadata": {},
     "output_type": "execute_result"
    }
   ],
   "source": [
    "cachemean(m)"
   ]
  },
  {
   "cell_type": "markdown",
   "metadata": {},
   "source": [
    "----"
   ]
  },
  {
   "cell_type": "code",
   "execution_count": 3,
   "metadata": {
    "collapsed": true
   },
   "outputs": [],
   "source": [
    "# Matrix inversion is usually a costly computation and there may be some benefit\n",
    "# to caching the inverse of a matrix rather than compute it repeatedly. The\n",
    "# following two functions are used to cache the inverse of a matrix.\n",
    "\n",
    "# makeCacheMatrix creates a list containing functions to\n",
    "# 1. set the value of the matrix\n",
    "# 2. get the value of the matrix\n",
    "# 3. set the value of inverse of the matrix\n",
    "# 4. get the value of inverse of the matrix\n",
    "makeCacheMatrix <- function(x = matrix()) {\n",
    "    inv <- NULL\n",
    "    set <- function(y) {\n",
    "        x <<- y\n",
    "        inv <<- NULL\n",
    "    }\n",
    "    get <- function() x\n",
    "    setinverse <- function(inverse) inv <<- inverse\n",
    "    getinverse <- function() inv\n",
    "    list(set=set, get=get, setinverse=setinverse, getinverse=getinverse)\n",
    "}"
   ]
  },
  {
   "cell_type": "code",
   "execution_count": 4,
   "metadata": {
    "collapsed": true
   },
   "outputs": [],
   "source": [
    "# The following function returns the inverse of the matrix. It first checks if\n",
    "# the inverse has already been computed. If so, it gets the result and skips the\n",
    "# computation. If not, it computes the inverse, sets the value in the cache via\n",
    "# setinverse function.\n",
    "\n",
    "# This function assumes that the matrix is always invertible.\n",
    "cacheSolve <- function(x, ...) {\n",
    "    inv <- x$getinverse()\n",
    "    if(!is.null(inv)) {\n",
    "        message(\"getting cached data.\")\n",
    "        return(inv)\n",
    "    }\n",
    "    data <- x$get()\n",
    "    inv <- solve(data)\n",
    "    x$setinverse(inv)\n",
    "    inv\n",
    "}"
   ]
  },
  {
   "cell_type": "code",
   "execution_count": null,
   "metadata": {
    "collapsed": true
   },
   "outputs": [],
   "source": [
    "## Sample run:\n",
    "## > x = rbind(c(1, -1/4), c(-1/4, 1))\n",
    "## > m = makeCacheMatrix(x)\n",
    "## > m$get()\n",
    "##       [,1]  [,2]\n",
    "## [1,]  1.00 -0.25\n",
    "## [2,] -0.25  1.00\n",
    "\n",
    "## No cache in the first run\n",
    "## > cacheSolve(m)\n",
    "##           [,1]      [,2]\n",
    "## [1,] 1.0666667 0.2666667\n",
    "## [2,] 0.2666667 1.0666667\n",
    "\n",
    "## Retrieving from the cache in the second run\n",
    "## > cacheSolve(m)\n",
    "## getting cached data.\n",
    "##           [,1]      [,2]\n",
    "## [1,] 1.0666667 0.2666667\n",
    "## [2,] 0.2666667 1.0666667\n",
    "## > "
   ]
  },
  {
   "cell_type": "code",
   "execution_count": 5,
   "metadata": {
    "collapsed": false
   },
   "outputs": [
    {
     "data": {
      "text/html": [
       "<table>\n",
       "<tbody>\n",
       "\t<tr><td> 1.00</td><td>-0.25</td></tr>\n",
       "\t<tr><td>-0.25</td><td> 1.00</td></tr>\n",
       "</tbody>\n",
       "</table>\n"
      ],
      "text/latex": [
       "\\begin{tabular}{ll}\n",
       "\t  1.00 & -0.25\\\\\n",
       "\t -0.25 &  1.00\\\\\n",
       "\\end{tabular}\n"
      ],
      "text/markdown": [
       "1. 1\n",
       "2. -0.25\n",
       "3. -0.25\n",
       "4. 1\n",
       "\n",
       "\n"
      ],
      "text/plain": [
       "      [,1]  [,2]\n",
       "[1,]  1.00 -0.25\n",
       "[2,] -0.25  1.00"
      ]
     },
     "execution_count": 5,
     "metadata": {},
     "output_type": "execute_result"
    }
   ],
   "source": [
    "x = rbind(c(1, -1/4), c(-1/4, 1)); x"
   ]
  },
  {
   "cell_type": "code",
   "execution_count": 6,
   "metadata": {
    "collapsed": true
   },
   "outputs": [],
   "source": [
    "m = makeCacheMatrix(x)"
   ]
  },
  {
   "cell_type": "code",
   "execution_count": 8,
   "metadata": {
    "collapsed": false
   },
   "outputs": [
    {
     "data": {
      "text/html": [
       "<dl>\n",
       "\t<dt>$set</dt>\n",
       "\t\t<dd><pre class=language-r><code>function (y) \n",
       "{\n",
       "    x &lt;&lt;- y\n",
       "    inv &lt;&lt;- NULL\n",
       "}</code></pre></dd>\n",
       "\t<dt>$get</dt>\n",
       "\t\t<dd><pre class=language-r><code>function () \n",
       "x</code></pre></dd>\n",
       "\t<dt>$setinverse</dt>\n",
       "\t\t<dd><pre class=language-r><code>function (inverse) \n",
       "inv &lt;&lt;- inverse</code></pre></dd>\n",
       "\t<dt>$getinverse</dt>\n",
       "\t\t<dd><pre class=language-r><code>function () \n",
       "inv</code></pre></dd>\n",
       "</dl>\n"
      ],
      "text/latex": [
       "\\begin{description}\n",
       "\\item[\\$set] \\begin{minted}{r}\n",
       "function (y) \n",
       "\\{\n",
       "    x <<- y\n",
       "    inv <<- NULL\n",
       "\\}\n",
       "\\end{minted}\n",
       "\\item[\\$get] \\begin{minted}{r}\n",
       "function () \n",
       "x\n",
       "\\end{minted}\n",
       "\\item[\\$setinverse] \\begin{minted}{r}\n",
       "function (inverse) \n",
       "inv <<- inverse\n",
       "\\end{minted}\n",
       "\\item[\\$getinverse] \\begin{minted}{r}\n",
       "function () \n",
       "inv\n",
       "\\end{minted}\n",
       "\\end{description}\n"
      ],
      "text/markdown": [
       "$set\n",
       ":   ```r\n",
       "function (y) \n",
       "{\n",
       "    x <<- y\n",
       "    inv <<- NULL\n",
       "}\n",
       "```\n",
       "$get\n",
       ":   ```r\n",
       "function () \n",
       "x\n",
       "```\n",
       "$setinverse\n",
       ":   ```r\n",
       "function (inverse) \n",
       "inv <<- inverse\n",
       "```\n",
       "$getinverse\n",
       ":   ```r\n",
       "function () \n",
       "inv\n",
       "```\n",
       "\n",
       "\n"
      ],
      "text/plain": [
       "$set\n",
       "function (y) \n",
       "{\n",
       "    x <<- y\n",
       "    inv <<- NULL\n",
       "}\n",
       "<environment: 0x7fad0bcdb868>\n",
       "\n",
       "$get\n",
       "function () \n",
       "x\n",
       "<environment: 0x7fad0bcdb868>\n",
       "\n",
       "$setinverse\n",
       "function (inverse) \n",
       "inv <<- inverse\n",
       "<environment: 0x7fad0bcdb868>\n",
       "\n",
       "$getinverse\n",
       "function () \n",
       "inv\n",
       "<environment: 0x7fad0bcdb868>\n"
      ]
     },
     "execution_count": 8,
     "metadata": {},
     "output_type": "execute_result"
    }
   ],
   "source": [
    "m # list of 4 functions"
   ]
  },
  {
   "cell_type": "code",
   "execution_count": 9,
   "metadata": {
    "collapsed": false
   },
   "outputs": [
    {
     "data": {
      "text/html": [
       "<table>\n",
       "<tbody>\n",
       "\t<tr><td> 1.00</td><td>-0.25</td></tr>\n",
       "\t<tr><td>-0.25</td><td> 1.00</td></tr>\n",
       "</tbody>\n",
       "</table>\n"
      ],
      "text/latex": [
       "\\begin{tabular}{ll}\n",
       "\t  1.00 & -0.25\\\\\n",
       "\t -0.25 &  1.00\\\\\n",
       "\\end{tabular}\n"
      ],
      "text/markdown": [
       "1. 1\n",
       "2. -0.25\n",
       "3. -0.25\n",
       "4. 1\n",
       "\n",
       "\n"
      ],
      "text/plain": [
       "      [,1]  [,2]\n",
       "[1,]  1.00 -0.25\n",
       "[2,] -0.25  1.00"
      ]
     },
     "execution_count": 9,
     "metadata": {},
     "output_type": "execute_result"
    }
   ],
   "source": [
    "m$get()"
   ]
  },
  {
   "cell_type": "code",
   "execution_count": 10,
   "metadata": {
    "collapsed": false
   },
   "outputs": [
    {
     "data": {
      "text/plain": [
       "NULL"
      ]
     },
     "execution_count": 10,
     "metadata": {},
     "output_type": "execute_result"
    }
   ],
   "source": [
    "m$getinverse()"
   ]
  },
  {
   "cell_type": "code",
   "execution_count": 11,
   "metadata": {
    "collapsed": false
   },
   "outputs": [
    {
     "data": {
      "text/html": [
       "<table>\n",
       "<tbody>\n",
       "\t<tr><td>1.0666667</td><td>0.2666667</td></tr>\n",
       "\t<tr><td>0.2666667</td><td>1.0666667</td></tr>\n",
       "</tbody>\n",
       "</table>\n"
      ],
      "text/latex": [
       "\\begin{tabular}{ll}\n",
       "\t 1.0666667 & 0.2666667\\\\\n",
       "\t 0.2666667 & 1.0666667\\\\\n",
       "\\end{tabular}\n"
      ],
      "text/markdown": [
       "1. 1.06666666666667\n",
       "2. 0.266666666666667\n",
       "3. 0.266666666666667\n",
       "4. 1.06666666666667\n",
       "\n",
       "\n"
      ],
      "text/plain": [
       "          [,1]      [,2]\n",
       "[1,] 1.0666667 0.2666667\n",
       "[2,] 0.2666667 1.0666667"
      ]
     },
     "execution_count": 11,
     "metadata": {},
     "output_type": "execute_result"
    }
   ],
   "source": [
    "cacheSolve(m)"
   ]
  },
  {
   "cell_type": "code",
   "execution_count": 12,
   "metadata": {
    "collapsed": false
   },
   "outputs": [
    {
     "name": "stderr",
     "output_type": "stream",
     "text": [
      "getting cached data.\n"
     ]
    },
    {
     "data": {
      "text/html": [
       "<table>\n",
       "<tbody>\n",
       "\t<tr><td>1.0666667</td><td>0.2666667</td></tr>\n",
       "\t<tr><td>0.2666667</td><td>1.0666667</td></tr>\n",
       "</tbody>\n",
       "</table>\n"
      ],
      "text/latex": [
       "\\begin{tabular}{ll}\n",
       "\t 1.0666667 & 0.2666667\\\\\n",
       "\t 0.2666667 & 1.0666667\\\\\n",
       "\\end{tabular}\n"
      ],
      "text/markdown": [
       "1. 1.06666666666667\n",
       "2. 0.266666666666667\n",
       "3. 0.266666666666667\n",
       "4. 1.06666666666667\n",
       "\n",
       "\n"
      ],
      "text/plain": [
       "          [,1]      [,2]\n",
       "[1,] 1.0666667 0.2666667\n",
       "[2,] 0.2666667 1.0666667"
      ]
     },
     "execution_count": 12,
     "metadata": {},
     "output_type": "execute_result"
    }
   ],
   "source": [
    "cacheSolve(m)"
   ]
  },
  {
   "cell_type": "code",
   "execution_count": null,
   "metadata": {
    "collapsed": true
   },
   "outputs": [],
   "source": []
  }
 ],
 "metadata": {
  "kernelspec": {
   "display_name": "R",
   "language": "R",
   "name": "ir"
  },
  "language_info": {
   "codemirror_mode": "r",
   "file_extension": ".r",
   "mimetype": "text/x-r-source",
   "name": "R",
   "pygments_lexer": "r",
   "version": "3.2.4"
  },
  "widgets": {
   "state": {},
   "version": "1.1.1"
  }
 },
 "nbformat": 4,
 "nbformat_minor": 0
}
