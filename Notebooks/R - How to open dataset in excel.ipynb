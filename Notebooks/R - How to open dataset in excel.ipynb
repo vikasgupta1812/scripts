{
 "cells": [
  {
   "cell_type": "code",
   "execution_count": 14,
   "metadata": {
    "collapsed": true
   },
   "outputs": [],
   "source": [
    "view <- function(data, autofilter=TRUE) {\n",
    "    # data: data frame\n",
    "    # autofilter: whether to apply a filter to make sorting and filtering easier\n",
    "    open_command <- switch(Sys.info()[['sysname']],\n",
    "                           Windows= 'open',\n",
    "                           Linux  = 'xdg-open',\n",
    "                           Darwin = 'open')\n",
    "    if (!suppressPackageStartupMessages(require(\"XLConnect\"))) install.packages(\"XLConnect\")\n",
    "    suppressPackageStartupMessages(require(XLConnect))\n",
    "    temp_file <- paste0(tempfile(), '.xlsx')\n",
    "    wb <- loadWorkbook(temp_file, create = TRUE)\n",
    "    createSheet(wb, name = \"temp\")\n",
    "    writeWorksheet(wb, data, sheet = \"temp\", startRow = 1, startCol = 1)\n",
    "    if (autofilter) setAutoFilter(wb, 'temp', aref('A1', dim(data)))\n",
    "    saveWorkbook(wb, )\n",
    "    system(paste(open_command, temp_file))\n",
    "}"
   ]
  },
  {
   "cell_type": "code",
   "execution_count": 15,
   "metadata": {
    "collapsed": false
   },
   "outputs": [],
   "source": [
    "data(iris)"
   ]
  },
  {
   "cell_type": "code",
   "execution_count": 16,
   "metadata": {
    "collapsed": false
   },
   "outputs": [],
   "source": [
    "view(iris)"
   ]
  },
  {
   "cell_type": "markdown",
   "metadata": {},
   "source": [
    "References: \n",
    "> - http://stackoverflow.com/a/12948834/2356016\n",
    "> - http://jeromyanglim.tumblr.com/post/33825729070/function-to-view-r-data-frame-in-spreadsheet"
   ]
  },
  {
   "cell_type": "code",
   "execution_count": null,
   "metadata": {
    "collapsed": true
   },
   "outputs": [],
   "source": []
  }
 ],
 "metadata": {
  "kernelspec": {
   "display_name": "R",
   "language": "R",
   "name": "ir"
  },
  "language_info": {
   "codemirror_mode": "r",
   "file_extension": ".r",
   "mimetype": "text/x-r-source",
   "name": "R",
   "pygments_lexer": "r",
   "version": "3.2.4"
  },
  "widgets": {
   "state": {},
   "version": "1.1.2"
  }
 },
 "nbformat": 4,
 "nbformat_minor": 0
}
