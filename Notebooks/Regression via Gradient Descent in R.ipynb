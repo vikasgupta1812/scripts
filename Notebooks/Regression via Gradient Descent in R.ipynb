{
 "cells": [
  {
   "cell_type": "markdown",
   "metadata": {},
   "source": [
    "Source- http://econometricsense.blogspot.ca/2011/11/regression-via-gradient-descent-in-r.html\n",
    "[_cache_](https://drive.google.com/file/d/0B0J1O2jMMERWZWRHNnJfQnZHdXc/view?usp=drivesdk)"
   ]
  },
  {
   "cell_type": "code",
   "execution_count": 30,
   "metadata": {
    "collapsed": true
   },
   "outputs": [],
   "source": [
    "# PROGRAM NAME: gradient_descent_OLS_R\n",
    "# DATE: 11/27/11\n",
    "# CREATED BY: MATT BOGARD \n",
    "# ----------------------------------------------------------------------------------\n",
    "#  PURPOSE: illustration of gradient descent algorithm applied to OLS\n",
    "#  REFERENCE: adapted from : http://www.cs.colostate.edu/~anderson/cs545/Lectures/week6day2/week6day2.pdf                \n",
    "#   and http://www.statalgo.com/2011/10/17/stanford-ml-1-2-gradient-descent/"
   ]
  },
  {
   "cell_type": "code",
   "execution_count": 1,
   "metadata": {
    "collapsed": false
   },
   "outputs": [
    {
     "data": {
      "text/html": [],
      "text/latex": [],
      "text/markdown": [],
      "text/plain": [
       "character(0)"
      ]
     },
     "execution_count": 1,
     "metadata": {},
     "output_type": "execute_result"
    }
   ],
   "source": [
    "rm(list = ls(all = TRUE)); ls() # make sure previous work is clear"
   ]
  },
  {
   "cell_type": "code",
   "execution_count": 2,
   "metadata": {
    "collapsed": false
   },
   "outputs": [],
   "source": [
    "x0 <- c(1,1,1,1,1) # column of 1's\n",
    "x1 <- c(1,2,3,4,5) # original x-values"
   ]
  },
  {
   "cell_type": "code",
   "execution_count": 3,
   "metadata": {
    "collapsed": true
   },
   "outputs": [],
   "source": [
    "# create the x- matrix of explanatory variables\n",
    "x <- as.matrix(cbind(x0,x1))\n",
    "# create the y-matrix of dependent variables \n",
    "y <- as.matrix(c(3,7,5,11,14))\n",
    "m <- nrow(y)"
   ]
  },
  {
   "cell_type": "code",
   "execution_count": 12,
   "metadata": {
    "collapsed": false
   },
   "outputs": [
    {
     "data": {
      "text/html": [
       "<table>\n",
       "<thead><tr><th scope=col>x0</th><th scope=col>x1</th></tr></thead>\n",
       "<tbody>\n",
       "\t<tr><td>1</td><td>1</td></tr>\n",
       "\t<tr><td>1</td><td>2</td></tr>\n",
       "\t<tr><td>1</td><td>3</td></tr>\n",
       "\t<tr><td>1</td><td>4</td></tr>\n",
       "\t<tr><td>1</td><td>5</td></tr>\n",
       "</tbody>\n",
       "</table>\n"
      ],
      "text/latex": [
       "\\begin{tabular}{ll}\n",
       " x0 & x1\\\\\n",
       "\\hline\n",
       "\t 1 & 1\\\\\n",
       "\t 1 & 2\\\\\n",
       "\t 1 & 3\\\\\n",
       "\t 1 & 4\\\\\n",
       "\t 1 & 5\\\\\n",
       "\\end{tabular}\n"
      ],
      "text/markdown": [
       "1. 1\n",
       "2. 1\n",
       "3. 1\n",
       "4. 1\n",
       "5. 1\n",
       "6. 1\n",
       "7. 2\n",
       "8. 3\n",
       "9. 4\n",
       "10. 5\n",
       "\n",
       "\n"
      ],
      "text/plain": [
       "     x0 x1\n",
       "[1,]  1  1\n",
       "[2,]  1  2\n",
       "[3,]  1  3\n",
       "[4,]  1  4\n",
       "[5,]  1  5"
      ]
     },
     "execution_count": 12,
     "metadata": {},
     "output_type": "execute_result"
    },
    {
     "data": {
      "text/html": [
       "<table>\n",
       "<tbody>\n",
       "\t<tr><td>3</td></tr>\n",
       "\t<tr><td>7</td></tr>\n",
       "\t<tr><td>5</td></tr>\n",
       "\t<tr><td>11</td></tr>\n",
       "\t<tr><td>14</td></tr>\n",
       "</tbody>\n",
       "</table>\n"
      ],
      "text/latex": [
       "\\begin{tabular}{l}\n",
       "\t 3\\\\\n",
       "\t 7\\\\\n",
       "\t 5\\\\\n",
       "\t 11\\\\\n",
       "\t 14\\\\\n",
       "\\end{tabular}\n"
      ],
      "text/markdown": [
       "1. 3\n",
       "2. 7\n",
       "3. 5\n",
       "4. 11\n",
       "5. 14\n",
       "\n",
       "\n"
      ],
      "text/plain": [
       "     [,1]\n",
       "[1,]    3\n",
       "[2,]    7\n",
       "[3,]    5\n",
       "[4,]   11\n",
       "[5,]   14"
      ]
     },
     "execution_count": 12,
     "metadata": {},
     "output_type": "execute_result"
    },
    {
     "data": {
      "text/html": [
       "5"
      ],
      "text/latex": [
       "5"
      ],
      "text/markdown": [
       "5"
      ],
      "text/plain": [
       "[1] 5"
      ]
     },
     "execution_count": 12,
     "metadata": {},
     "output_type": "execute_result"
    }
   ],
   "source": [
    "x\n",
    "y\n",
    "m"
   ]
  },
  {
   "cell_type": "code",
   "execution_count": 13,
   "metadata": {
    "collapsed": false
   },
   "outputs": [
    {
     "data": {
      "text/html": [
       "<table>\n",
       "<thead><tr><th scope=col>x0</th><th scope=col>x1</th></tr></thead>\n",
       "<tbody>\n",
       "\t<tr><td> 1.000000</td><td>-1.264911</td></tr>\n",
       "\t<tr><td> 1.0000000</td><td>-0.6324555</td></tr>\n",
       "\t<tr><td>1</td><td>0</td></tr>\n",
       "\t<tr><td>1.0000000</td><td>0.6324555</td></tr>\n",
       "\t<tr><td>1.000000</td><td>1.264911</td></tr>\n",
       "</tbody>\n",
       "</table>\n"
      ],
      "text/latex": [
       "\\begin{tabular}{ll}\n",
       " x0 & x1\\\\\n",
       "\\hline\n",
       "\t  1.000000 & -1.264911\\\\\n",
       "\t  1.0000000 & -0.6324555\\\\\n",
       "\t 1 & 0\\\\\n",
       "\t 1.0000000 & 0.6324555\\\\\n",
       "\t 1.000000 & 1.264911\\\\\n",
       "\\end{tabular}\n"
      ],
      "text/markdown": [
       "1. 1\n",
       "2. 1\n",
       "3. 1\n",
       "4. 1\n",
       "5. 1\n",
       "6. -1.26491106406735\n",
       "7. -0.632455532033676\n",
       "8. 0\n",
       "9. 0.632455532033676\n",
       "10. 1.26491106406735\n",
       "\n",
       "\n"
      ],
      "text/plain": [
       "     x0         x1\n",
       "[1,]  1 -1.2649111\n",
       "[2,]  1 -0.6324555\n",
       "[3,]  1  0.0000000\n",
       "[4,]  1  0.6324555\n",
       "[5,]  1  1.2649111"
      ]
     },
     "execution_count": 13,
     "metadata": {},
     "output_type": "execute_result"
    }
   ],
   "source": [
    "# implement feature scaling\n",
    "x.scaled <- x\n",
    "x.scaled[,2] <- (x[,2] - mean(x[,2]))/sd(x[,2])\n",
    "x.scaled"
   ]
  },
  {
   "cell_type": "code",
   "execution_count": 15,
   "metadata": {
    "collapsed": false
   },
   "outputs": [
    {
     "data": {
      "text/html": [
       "<table>\n",
       "<tbody>\n",
       "\t<tr><th scope=row>x0</th><td>0.2</td></tr>\n",
       "\t<tr><th scope=row>x1</th><td>2.6</td></tr>\n",
       "</tbody>\n",
       "</table>\n"
      ],
      "text/latex": [
       "\\begin{tabular}{r|l}\n",
       "\tx0 & 0.2\\\\\n",
       "\tx1 & 2.6\\\\\n",
       "\\end{tabular}\n"
      ],
      "text/markdown": [
       "1. 0.200000000000007\n",
       "2. 2.6\n",
       "\n",
       "\n"
      ],
      "text/plain": [
       "   [,1]\n",
       "x0  0.2\n",
       "x1  2.6"
      ]
     },
     "execution_count": 15,
     "metadata": {},
     "output_type": "execute_result"
    }
   ],
   "source": [
    "# Analytical results with matrix algebra\n",
    "# Basic regression coefficient estimation in matrix algebra b = (x'x)^-1 * y. (using the raw x-values).\n",
    "\n",
    "solve(t(x)%*%x) %*% t(x) %*% y # w/o feature scaling"
   ]
  },
  {
   "cell_type": "code",
   "execution_count": 16,
   "metadata": {
    "collapsed": false
   },
   "outputs": [
    {
     "data": {
      "text/html": [
       "<table>\n",
       "<tbody>\n",
       "\t<tr><th scope=row>x0</th><td>8</td></tr>\n",
       "\t<tr><th scope=row>x1</th><td>4.110961</td></tr>\n",
       "</tbody>\n",
       "</table>\n"
      ],
      "text/latex": [
       "\\begin{tabular}{r|l}\n",
       "\tx0 & 8\\\\\n",
       "\tx1 & 4.110961\\\\\n",
       "\\end{tabular}\n"
      ],
      "text/markdown": [
       "1. 8\n",
       "2. 4.11096095821889\n",
       "\n",
       "\n"
      ],
      "text/plain": [
       "       [,1]\n",
       "x0 8.000000\n",
       "x1 4.110961"
      ]
     },
     "execution_count": 16,
     "metadata": {},
     "output_type": "execute_result"
    }
   ],
   "source": [
    "solve(t(x.scaled)%*%x.scaled)%*%t(x.scaled)%*%y # w/ feature scaling"
   ]
  },
  {
   "cell_type": "code",
   "execution_count": 17,
   "metadata": {
    "collapsed": false
   },
   "outputs": [
    {
     "data": {
      "text/plain": [
       "\n",
       "Call:\n",
       "lm(formula = y ~ x[, 2])\n",
       "\n",
       "Residuals:\n",
       "   1    2    3    4    5 \n",
       " 0.2  1.6 -3.0  0.4  0.8 \n",
       "\n",
       "Coefficients:\n",
       "            Estimate Std. Error t value Pr(>|t|)  \n",
       "(Intercept)   0.2000     2.1323   0.094   0.9312  \n",
       "x[, 2]        2.6000     0.6429   4.044   0.0272 *\n",
       "---\n",
       "Signif. codes:  0 '***' 0.001 '**' 0.01 '*' 0.05 '.' 0.1 ' ' 1\n",
       "\n",
       "Residual standard error: 2.033 on 3 degrees of freedom\n",
       "Multiple R-squared:  0.845,\tAdjusted R-squared:  0.7933 \n",
       "F-statistic: 16.35 on 1 and 3 DF,  p-value: 0.02721\n"
      ]
     },
     "execution_count": 17,
     "metadata": {},
     "output_type": "execute_result"
    }
   ],
   "source": [
    "# results using canned lm function match results above\n",
    "summary(lm(y ~ x[, 2])) # w/o feature scaling"
   ]
  },
  {
   "cell_type": "code",
   "execution_count": 18,
   "metadata": {
    "collapsed": false
   },
   "outputs": [
    {
     "data": {
      "text/plain": [
       "\n",
       "Call:\n",
       "lm(formula = y ~ x.scaled[, 2])\n",
       "\n",
       "Residuals:\n",
       "   1    2    3    4    5 \n",
       " 0.2  1.6 -3.0  0.4  0.8 \n",
       "\n",
       "Coefficients:\n",
       "              Estimate Std. Error t value Pr(>|t|)   \n",
       "(Intercept)     8.0000     0.9092   8.799  0.00309 **\n",
       "x.scaled[, 2]   4.1110     1.0165   4.044  0.02721 * \n",
       "---\n",
       "Signif. codes:  0 '***' 0.001 '**' 0.01 '*' 0.05 '.' 0.1 ' ' 1\n",
       "\n",
       "Residual standard error: 2.033 on 3 degrees of freedom\n",
       "Multiple R-squared:  0.845,\tAdjusted R-squared:  0.7933 \n",
       "F-statistic: 16.35 on 1 and 3 DF,  p-value: 0.02721\n"
      ]
     },
     "execution_count": 18,
     "metadata": {},
     "output_type": "execute_result"
    }
   ],
   "source": [
    "summary(lm(y ~ x.scaled[, 2])) # w/feature scaling"
   ]
  },
  {
   "cell_type": "code",
   "execution_count": 19,
   "metadata": {
    "collapsed": true
   },
   "outputs": [],
   "source": [
    "# Define the gradient function dJ/dtheata: 1/m * (h(x)-y))*x where h(x) = x*theta\n",
    "# in matrix form this is as follows:\n",
    "grad <- function(x, y, theta) {\n",
    "  gradient <- (1/m)* (t(x) %*% ((x %*% t(theta)) - y))\n",
    "  return(t(gradient))\n",
    "} "
   ]
  },
  {
   "cell_type": "code",
   "execution_count": 20,
   "metadata": {
    "collapsed": true
   },
   "outputs": [],
   "source": [
    "# define gradient descent update algorithm\n",
    "grad.descent <- function(x, maxit){\n",
    "    theta <- matrix(c(0, 0), nrow=1) # Initialize the parameters\n",
    " \n",
    "    alpha = .05 # set learning rate\n",
    "    for (i in 1:maxit) {\n",
    "      theta <- theta - alpha  * grad(x, y, theta)   \n",
    "    }\n",
    " return(theta)\n",
    "}"
   ]
  },
  {
   "cell_type": "code",
   "execution_count": 21,
   "metadata": {
    "collapsed": false
   },
   "outputs": [
    {
     "name": "stdout",
     "output_type": "stream",
     "text": [
      "            x0       x1\n",
      "[1,] 0.2000994 2.599972\n"
     ]
    }
   ],
   "source": [
    "# results without feature scaling\n",
    "print(grad.descent(x,1000))"
   ]
  },
  {
   "cell_type": "code",
   "execution_count": 22,
   "metadata": {
    "collapsed": false
   },
   "outputs": [
    {
     "name": "stdout",
     "output_type": "stream",
     "text": [
      "     x0       x1\n",
      "[1,]  8 4.110961\n"
     ]
    }
   ],
   "source": [
    "# results with feature scaling\n",
    "print(grad.descent(x.scaled,1000))"
   ]
  },
  {
   "cell_type": "code",
   "execution_count": 23,
   "metadata": {
    "collapsed": true
   },
   "outputs": [],
   "source": [
    "# ----------------------------------------------------------------------- \n",
    "# cost and convergence intuition\n",
    "# -----------------------------------------------------------------------\n",
    " \n",
    "# typically we would iterate the algorithm above until the \n",
    "# change in the cost function (as a result of the updated b0 and b1 values)\n",
    "# was extremely small value 'c'. C would be referred to as the set 'convergence'\n",
    "# criteria. If C is not met after a given # of iterations, you can increase the\n",
    "# iterations or change the learning rate 'alpha' to speed up convergence"
   ]
  },
  {
   "cell_type": "code",
   "execution_count": 25,
   "metadata": {
    "collapsed": false
   },
   "outputs": [
    {
     "data": {
      "text/html": [
       "<table>\n",
       "<thead><tr><th scope=col>x0</th><th scope=col>x1</th></tr></thead>\n",
       "<tbody>\n",
       "\t<tr><td>0.2000994</td><td>2.5999725</td></tr>\n",
       "</tbody>\n",
       "</table>\n"
      ],
      "text/latex": [
       "\\begin{tabular}{ll}\n",
       " x0 & x1\\\\\n",
       "\\hline\n",
       "\t 0.2000994 & 2.5999725\\\\\n",
       "\\end{tabular}\n"
      ],
      "text/markdown": [
       "1. 0.200099448466392\n",
       "2. 2.59997245436947\n",
       "\n",
       "\n"
      ],
      "text/plain": [
       "            x0       x1\n",
       "[1,] 0.2000994 2.599972"
      ]
     },
     "execution_count": 25,
     "metadata": {},
     "output_type": "execute_result"
    }
   ],
   "source": [
    "# get results from gradient descent\n",
    "beta <- grad.descent(x,1000)\n",
    "beta"
   ]
  },
  {
   "cell_type": "code",
   "execution_count": 26,
   "metadata": {
    "collapsed": true
   },
   "outputs": [],
   "source": [
    "# define the 'hypothesis function'\n",
    "h <- function(xi,b0,b1) {\n",
    " b0 + b1 * xi \n",
    "}"
   ]
  },
  {
   "cell_type": "code",
   "execution_count": 27,
   "metadata": {
    "collapsed": false
   },
   "outputs": [
    {
     "name": "stdout",
     "output_type": "stream",
     "text": [
      "[1] 1.24\n"
     ]
    }
   ],
   "source": [
    "# define the cost function   \n",
    "cost <- t(mat.or.vec(1,m))\n",
    "  for(i in 1:m) {\n",
    "    cost[i,1] <-  (1 /(2*m)) * (h(x[i,2],beta[1,1],beta[1,2])- y[i,])^2 \n",
    "  }\n",
    " \n",
    "totalCost <- colSums(cost)\n",
    "print(totalCost) "
   ]
  },
  {
   "cell_type": "code",
   "execution_count": 28,
   "metadata": {
    "collapsed": true
   },
   "outputs": [],
   "source": [
    "# save this as Cost1000\n",
    "cost1000 <- totalCost"
   ]
  },
  {
   "cell_type": "code",
   "execution_count": 29,
   "metadata": {
    "collapsed": false
   },
   "outputs": [
    {
     "name": "stdout",
     "output_type": "stream",
     "text": [
      "[1] 1.515144e-11\n"
     ]
    }
   ],
   "source": [
    "# change iterations to 1001 and compute cost1001\n",
    "beta <- (grad.descent(x,1001))\n",
    "cost <- t(mat.or.vec(1,m))\n",
    "  for(i in 1:m) {\n",
    "    cost[i,1] <-  (1 /(2*m)) * (h(x[i,2],beta[1,1],beta[1,2])- y[i,])^2 \n",
    "  }\n",
    "cost1001 <- colSums(cost)\n",
    " \n",
    "# does this difference meet your convergence criteria? \n",
    "print(cost1000 - cost1001)"
   ]
  },
  {
   "cell_type": "code",
   "execution_count": null,
   "metadata": {
    "collapsed": true
   },
   "outputs": [],
   "source": []
  },
  {
   "cell_type": "markdown",
   "metadata": {
    "collapsed": true
   },
   "source": [
    "TODO: Add the equations which we are triyng to implement here"
   ]
  },
  {
   "cell_type": "code",
   "execution_count": null,
   "metadata": {
    "collapsed": true
   },
   "outputs": [],
   "source": []
  },
  {
   "cell_type": "code",
   "execution_count": null,
   "metadata": {
    "collapsed": true
   },
   "outputs": [],
   "source": []
  },
  {
   "cell_type": "code",
   "execution_count": null,
   "metadata": {
    "collapsed": true
   },
   "outputs": [],
   "source": []
  }
 ],
 "metadata": {
  "kernelspec": {
   "display_name": "R",
   "language": "R",
   "name": "ir"
  },
  "language_info": {
   "codemirror_mode": "r",
   "file_extension": ".r",
   "mimetype": "text/x-r-source",
   "name": "R",
   "pygments_lexer": "r",
   "version": "3.2.4"
  },
  "widgets": {
   "state": {},
   "version": "1.1.1"
  }
 },
 "nbformat": 4,
 "nbformat_minor": 0
}
