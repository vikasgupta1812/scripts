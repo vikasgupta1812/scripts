{
 "cells": [
  {
   "cell_type": "markdown",
   "metadata": {},
   "source": [
    "#### Datasets \n",
    "\n",
    "- State Data (Lesson 2) - https://s3.amazonaws.com/udacity-hosted-downloads/ud651/stateData.csv\n",
    "- Reddit Survey Data (Less on 2) - https://s3.amazonaws.com/udacity-hosted-downloads/ud651/reddit.csv\n",
    "- Pseudo-Facebook Data (Lesson 3) - https://s3.amazonaws.com/udacity-hosted-downloads/ud651/pseudo_facebook.tsv\n",
    "- Yogurt Data (Lesson 5) - https://s3.amazonaws.com/udacity-hosted-downloads/ud651/yogurt.csv\n",
    "- Micro-array/Gene Expression Data (Lesson 5) - https://s3.amazonaws.com/udacity-hosted-downloads/ud651/nci.tsv"
   ]
  },
  {
   "cell_type": "code",
   "execution_count": null,
   "metadata": {
    "collapsed": true
   },
   "outputs": [],
   "source": []
  }
 ],
 "metadata": {
  "kernelspec": {
   "display_name": "R",
   "language": "R",
   "name": "ir"
  },
  "language_info": {
   "codemirror_mode": "r",
   "file_extension": ".r",
   "mimetype": "text/x-r-source",
   "name": "R",
   "pygments_lexer": "r",
   "version": "3.2.4"
  },
  "widgets": {
   "state": {},
   "version": "1.1.1"
  }
 },
 "nbformat": 4,
 "nbformat_minor": 0
}
