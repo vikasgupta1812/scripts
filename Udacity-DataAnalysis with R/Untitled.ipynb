{
 "cells": [
  {
   "cell_type": "code",
   "execution_count": 1,
   "metadata": {
    "collapsed": true
   },
   "outputs": [],
   "source": [
    "# Write code to create a new data frame,\n",
    "# called 'pf.fc_by_age_gender', that contains\n",
    "# information on each age AND gender group.\n",
    "\n",
    "# The data frame should contain the following variables:\n",
    "\n",
    "#    mean_friend_count,\n",
    "#    median_friend_count,\n",
    "#    n (the number of users in each age and gender grouping)\n",
    "\n",
    "# Here is an example of the structure of your data frame. Your\n",
    "# data values will be different. Note that if you are grouping by\n",
    "# more than one variable, you will probably need to call the\n",
    "# ungroup() function. \n",
    "\n",
    "#   age gender mean_friend_count median_friend_count    n\n",
    "# 1  13 female          247.2953                 150  207\n",
    "# 2  13   male          184.2342                  61  265\n",
    "# 3  14 female          329.1938                 245  834\n",
    "# 4  14   male          157.1204                  88 1201\n",
    "\n",
    "# See the Instructor Note for two hints.\n",
    "\n",
    "# DO NOT DELETE THESE NEXT TWO LINES OF CODE\n",
    "# ==============================================================\n",
    "pf <- read.csv('https://s3.amazonaws.com/udacity-hosted-downloads/ud651/pseudo_facebook.tsv', sep = '\\t')\n",
    "suppressMessages(library(dplyr))"
   ]
  },
  {
   "cell_type": "code",
   "execution_count": null,
   "metadata": {
    "collapsed": true
   },
   "outputs": [],
   "source": [
    "# ENTER YOUR CODE BELOW THIS LINE.\n",
    "# ==============================================================\n",
    "pf.fc_by_age_gender = tbl_df(pf) %>% ungroup()\n",
    "          "
   ]
  },
  {
   "cell_type": "code",
   "execution_count": 19,
   "metadata": {
    "collapsed": false,
    "scrolled": false
   },
   "outputs": [
    {
     "name": "stderr",
     "output_type": "stream",
     "text": [
      "Warning message:\n",
      "In `[<-.factor`(`*tmp*`, ri, value = \"<U+22EE>\"): invalid factor level, NA generatedWarning message:\n",
      "In `[<-.factor`(`*tmp*`, ri, value = \"<U+22EE>\"): invalid factor level, NA generated"
     ]
    },
    {
     "data": {
      "text/html": [
       "<table>\n",
       "<thead><tr><th></th><th scope=col>age</th><th scope=col>gender</th><th scope=col>mean_friend_count</th><th scope=col>median_friend_count</th><th scope=col>n</th></tr></thead>\n",
       "<tbody>\n",
       "\t<tr><th scope=row>1</th><td>13</td><td>female</td><td>259.1606</td><td>148</td><td>193</td></tr>\n",
       "\t<tr><th scope=row>2</th><td>13</td><td>male</td><td>102.134</td><td>55</td><td>291</td></tr>\n",
       "\t<tr><th scope=row>3</th><td>14</td><td>female</td><td>362.4286</td><td>224</td><td>847</td></tr>\n",
       "\t<tr><th scope=row>4</th><td>14</td><td>male</td><td>164.1456</td><td>92.5</td><td>1078</td></tr>\n",
       "\t<tr><th scope=row>5</th><td>15</td><td>female</td><td>538.6813</td><td>276</td><td>1139</td></tr>\n",
       "\t<tr><th scope=row>6</th><td>15</td><td>male</td><td>200.6658</td><td>106.5</td><td>1478</td></tr>\n",
       "\t<tr><th scope=row>7</th><td>16</td><td>female</td><td>519.5145</td><td>258.5</td><td>1238</td></tr>\n",
       "\t<tr><th scope=row>8</th><td>16</td><td>male</td><td>239.6748</td><td>136</td><td>1848</td></tr>\n",
       "\t<tr><th scope=row>9</th><td>17</td><td>female</td><td>538.9943</td><td>245.5</td><td>1236</td></tr>\n",
       "\t<tr><th scope=row>10</th><td>17</td><td>male</td><td>236.4924</td><td>125</td><td>2045</td></tr>\n",
       "\t<tr><th scope=row>11</th><td>18</td><td>female</td><td>481.9794</td><td>243</td><td>2037</td></tr>\n",
       "\t<tr><th scope=row>12</th><td>18</td><td>male</td><td>233.9183</td><td>122</td><td>3159</td></tr>\n",
       "\t<tr><th scope=row>13</th><td>19</td><td>female</td><td>470.8007</td><td>229</td><td>1606</td></tr>\n",
       "\t<tr><th scope=row>14</th><td>19</td><td>male</td><td>254.5841</td><td>130</td><td>2784</td></tr>\n",
       "\t<tr><th scope=row>15</th><td>20</td><td>female</td><td>380.8244</td><td>190</td><td>1407</td></tr>\n",
       "\t<tr><th scope=row>16</th><td>20</td><td>male</td><td>225.5921</td><td>112</td><td>2361</td></tr>\n",
       "\t<tr><th scope=row>17</th><td>21</td><td>female</td><td>307.1064</td><td>158</td><td>1335</td></tr>\n",
       "\t<tr><th scope=row>18</th><td>21</td><td>male</td><td>195.3208</td><td>108</td><td>2335</td></tr>\n",
       "\t<tr><th scope=row>19</th><td>22</td><td>female</td><td>251.9152</td><td>124</td><td>1132</td></tr>\n",
       "\t<tr><th scope=row>20</th><td>22</td><td>male</td><td>187.2532</td><td>97</td><td>1900</td></tr>\n",
       "\t<tr><th scope=row>21</th><td>23</td><td>female</td><td>239.7211</td><td>106.5</td><td>1438</td></tr>\n",
       "\t<tr><th scope=row>22</th><td>23</td><td>male</td><td>184.9214</td><td>86</td><td>2964</td></tr>\n",
       "\t<tr><th scope=row>23</th><td>24</td><td>female</td><td>237.0738</td><td>112</td><td>975</td></tr>\n",
       "\t<tr><th scope=row>24</th><td>24</td><td>male</td><td>158.6722</td><td>84</td><td>1852</td></tr>\n",
       "\t<tr><th scope=row>25</th><td>25</td><td>female</td><td>153.8835</td><td>78</td><td>1193</td></tr>\n",
       "\t<tr><th scope=row>26</th><td>25</td><td>male</td><td>120.0729</td><td>55</td><td>2443</td></tr>\n",
       "\t<tr><th scope=row>27</th><td>26</td><td>female</td><td>175.1344</td><td>82</td><td>915</td></tr>\n",
       "\t<tr><th scope=row>28</th><td>26</td><td>male</td><td>129.0521</td><td>70</td><td>1899</td></tr>\n",
       "\t<tr><th scope=row>29</th><td>27</td><td>female</td><td>158.7244</td><td>81</td><td>762</td></tr>\n",
       "\t<tr><th scope=row>30</th><td>27</td><td>male</td><td>121.5538</td><td>68</td><td>1477</td></tr>\n",
       "\t<tr><th scope=row>31</th><td><U+22EE></td><td>NA</td><td><U+22EE></td><td><U+22EE></td><td><U+22EE></td></tr>\n",
       "\t<tr><th scope=row>32</th><td>99</td><td>female</td><td>557.56</td><td>216</td><td>25</td></tr>\n",
       "\t<tr><th scope=row>33</th><td>99</td><td>male</td><td>343.125</td><td>220.5</td><td>56</td></tr>\n",
       "\t<tr><th scope=row>34</th><td>100</td><td>female</td><td>338.6985</td><td>205</td><td>136</td></tr>\n",
       "\t<tr><th scope=row>35</th><td>100</td><td>male</td><td>373.7869</td><td>179</td><td>183</td></tr>\n",
       "\t<tr><th scope=row>36</th><td>101</td><td>female</td><td>428.9841</td><td>189</td><td>63</td></tr>\n",
       "\t<tr><th scope=row>37</th><td>101</td><td>male</td><td>373.6739</td><td>220</td><td>92</td></tr>\n",
       "\t<tr><th scope=row>38</th><td>102</td><td>female</td><td>471.6111</td><td>297</td><td>72</td></tr>\n",
       "\t<tr><th scope=row>39</th><td>102</td><td>male</td><td>415.1504</td><td>201</td><td>113</td></tr>\n",
       "\t<tr><th scope=row>40</th><td>103</td><td>female</td><td>520.0741</td><td>253</td><td>405</td></tr>\n",
       "\t<tr><th scope=row>41</th><td>103</td><td>male</td><td>427.859</td><td>277</td><td>631</td></tr>\n",
       "\t<tr><th scope=row>42</th><td>104</td><td>female</td><td>443.0256</td><td>295</td><td>39</td></tr>\n",
       "\t<tr><th scope=row>43</th><td>104</td><td>male</td><td>414</td><td>262</td><td>34</td></tr>\n",
       "\t<tr><th scope=row>44</th><td>105</td><td>female</td><td>400.3103</td><td>307</td><td>29</td></tr>\n",
       "\t<tr><th scope=row>45</th><td>105</td><td>male</td><td>415.4468</td><td>205</td><td>47</td></tr>\n",
       "\t<tr><th scope=row>46</th><td>106</td><td>female</td><td>370.2051</td><td>208</td><td>39</td></tr>\n",
       "\t<tr><th scope=row>47</th><td>106</td><td>male</td><td>288.3059</td><td>190</td><td>85</td></tr>\n",
       "\t<tr><th scope=row>48</th><td>107</td><td>female</td><td>315.3421</td><td>209.5</td><td>38</td></tr>\n",
       "\t<tr><th scope=row>49</th><td>107</td><td>male</td><td>393.35</td><td>219</td><td>60</td></tr>\n",
       "\t<tr><th scope=row>50</th><td>108</td><td>female</td><td>371.867</td><td>197.5</td><td>624</td></tr>\n",
       "\t<tr><th scope=row>51</th><td>108</td><td>male</td><td>369.439</td><td>223.5</td><td>1016</td></tr>\n",
       "\t<tr><th scope=row>52</th><td>109</td><td>female</td><td>207.5</td><td>207.5</td><td>2</td></tr>\n",
       "\t<tr><th scope=row>53</th><td>109</td><td>male</td><td>163</td><td>120</td><td>7</td></tr>\n",
       "\t<tr><th scope=row>54</th><td>110</td><td>female</td><td>239.1429</td><td>105</td><td>7</td></tr>\n",
       "\t<tr><th scope=row>55</th><td>110</td><td>male</td><td>410.5714</td><td>339</td><td>7</td></tr>\n",
       "\t<tr><th scope=row>56</th><td>111</td><td>female</td><td>244.4286</td><td>109</td><td>7</td></tr>\n",
       "\t<tr><th scope=row>57</th><td>111</td><td>male</td><td>246.5</td><td>191.5</td><td>10</td></tr>\n",
       "\t<tr><th scope=row>58</th><td>112</td><td>female</td><td>201.2</td><td>203</td><td>5</td></tr>\n",
       "\t<tr><th scope=row>59</th><td>112</td><td>male</td><td>594.0769</td><td>95</td><td>13</td></tr>\n",
       "\t<tr><th scope=row>60</th><td>113</td><td>female</td><td>278.6571</td><td>198</td><td>105</td></tr>\n",
       "\t<tr><th scope=row>61</th><td>113</td><td>male</td><td>410.3956</td><td>223</td><td>91</td></tr>\n",
       "</tbody>\n",
       "</table>\n"
      ],
      "text/latex": [
       "\\begin{tabular}{r|lllll}\n",
       "  & age & gender & mean_friend_count & median_friend_count & n\\\\\n",
       "\\hline\n",
       "\t1 & 13 & female & 259.1606 & 148 & 193\\\\\n",
       "\t2 & 13 & male & 102.134 & 55 & 291\\\\\n",
       "\t3 & 14 & female & 362.4286 & 224 & 847\\\\\n",
       "\t4 & 14 & male & 164.1456 & 92.5 & 1078\\\\\n",
       "\t5 & 15 & female & 538.6813 & 276 & 1139\\\\\n",
       "\t6 & 15 & male & 200.6658 & 106.5 & 1478\\\\\n",
       "\t7 & 16 & female & 519.5145 & 258.5 & 1238\\\\\n",
       "\t8 & 16 & male & 239.6748 & 136 & 1848\\\\\n",
       "\t9 & 17 & female & 538.9943 & 245.5 & 1236\\\\\n",
       "\t10 & 17 & male & 236.4924 & 125 & 2045\\\\\n",
       "\t11 & 18 & female & 481.9794 & 243 & 2037\\\\\n",
       "\t12 & 18 & male & 233.9183 & 122 & 3159\\\\\n",
       "\t13 & 19 & female & 470.8007 & 229 & 1606\\\\\n",
       "\t14 & 19 & male & 254.5841 & 130 & 2784\\\\\n",
       "\t15 & 20 & female & 380.8244 & 190 & 1407\\\\\n",
       "\t16 & 20 & male & 225.5921 & 112 & 2361\\\\\n",
       "\t17 & 21 & female & 307.1064 & 158 & 1335\\\\\n",
       "\t18 & 21 & male & 195.3208 & 108 & 2335\\\\\n",
       "\t19 & 22 & female & 251.9152 & 124 & 1132\\\\\n",
       "\t20 & 22 & male & 187.2532 & 97 & 1900\\\\\n",
       "\t21 & 23 & female & 239.7211 & 106.5 & 1438\\\\\n",
       "\t22 & 23 & male & 184.9214 & 86 & 2964\\\\\n",
       "\t23 & 24 & female & 237.0738 & 112 & 975\\\\\n",
       "\t24 & 24 & male & 158.6722 & 84 & 1852\\\\\n",
       "\t25 & 25 & female & 153.8835 & 78 & 1193\\\\\n",
       "\t26 & 25 & male & 120.0729 & 55 & 2443\\\\\n",
       "\t27 & 26 & female & 175.1344 & 82 & 915\\\\\n",
       "\t28 & 26 & male & 129.0521 & 70 & 1899\\\\\n",
       "\t29 & 27 & female & 158.7244 & 81 & 762\\\\\n",
       "\t30 & 27 & male & 121.5538 & 68 & 1477\\\\\n",
       "\t31 & <U+22EE> & NA & <U+22EE> & <U+22EE> & <U+22EE>\\\\\n",
       "\t32 & 99 & female & 557.56 & 216 & 25\\\\\n",
       "\t33 & 99 & male & 343.125 & 220.5 & 56\\\\\n",
       "\t34 & 100 & female & 338.6985 & 205 & 136\\\\\n",
       "\t35 & 100 & male & 373.7869 & 179 & 183\\\\\n",
       "\t36 & 101 & female & 428.9841 & 189 & 63\\\\\n",
       "\t37 & 101 & male & 373.6739 & 220 & 92\\\\\n",
       "\t38 & 102 & female & 471.6111 & 297 & 72\\\\\n",
       "\t39 & 102 & male & 415.1504 & 201 & 113\\\\\n",
       "\t40 & 103 & female & 520.0741 & 253 & 405\\\\\n",
       "\t41 & 103 & male & 427.859 & 277 & 631\\\\\n",
       "\t42 & 104 & female & 443.0256 & 295 & 39\\\\\n",
       "\t43 & 104 & male & 414 & 262 & 34\\\\\n",
       "\t44 & 105 & female & 400.3103 & 307 & 29\\\\\n",
       "\t45 & 105 & male & 415.4468 & 205 & 47\\\\\n",
       "\t46 & 106 & female & 370.2051 & 208 & 39\\\\\n",
       "\t47 & 106 & male & 288.3059 & 190 & 85\\\\\n",
       "\t48 & 107 & female & 315.3421 & 209.5 & 38\\\\\n",
       "\t49 & 107 & male & 393.35 & 219 & 60\\\\\n",
       "\t50 & 108 & female & 371.867 & 197.5 & 624\\\\\n",
       "\t51 & 108 & male & 369.439 & 223.5 & 1016\\\\\n",
       "\t52 & 109 & female & 207.5 & 207.5 & 2\\\\\n",
       "\t53 & 109 & male & 163 & 120 & 7\\\\\n",
       "\t54 & 110 & female & 239.1429 & 105 & 7\\\\\n",
       "\t55 & 110 & male & 410.5714 & 339 & 7\\\\\n",
       "\t56 & 111 & female & 244.4286 & 109 & 7\\\\\n",
       "\t57 & 111 & male & 246.5 & 191.5 & 10\\\\\n",
       "\t58 & 112 & female & 201.2 & 203 & 5\\\\\n",
       "\t59 & 112 & male & 594.0769 & 95 & 13\\\\\n",
       "\t60 & 113 & female & 278.6571 & 198 & 105\\\\\n",
       "\t61 & 113 & male & 410.3956 & 223 & 91\\\\\n",
       "\\end{tabular}\n"
      ],
      "text/plain": [
       "Source: local data frame [202 x 5]\n",
       "\n",
       "   age gender mean_friend_count median_friend_count    n\n",
       "1   13 female          259.1606               148.0  193\n",
       "2   13   male          102.1340                55.0  291\n",
       "3   14 female          362.4286               224.0  847\n",
       "4   14   male          164.1456                92.5 1078\n",
       "5   15 female          538.6813               276.0 1139\n",
       "6   15   male          200.6658               106.5 1478\n",
       "7   16 female          519.5145               258.5 1238\n",
       "8   16   male          239.6748               136.0 1848\n",
       "9   17 female          538.9943               245.5 1236\n",
       "10  17   male          236.4924               125.0 2045\n",
       ".. ...    ...               ...                 ...  ..."
      ]
     },
     "execution_count": 19,
     "metadata": {},
     "output_type": "execute_result"
    }
   ],
   "source": [
    "tbl_df(pf) %>%\n",
    "    select(age, gender, friend_count) %>%\n",
    "    group_by(age, gender) %>%\n",
    "    filter(!is.na(age)) %>%    \n",
    "    filter(!is.na(gender)) %>%\n",
    "    filter(!is.na(friend_count)) %>%\n",
    "    summarize(mean_friend_count = round(mean(friend_count),4),\n",
    "              median_friend_count = round(median(friend_count), 4),\n",
    "              n = n()) %>%\n",
    "    arrange(age, gender) %>%\n",
    "    ungroup()"
   ]
  },
  {
   "cell_type": "code",
   "execution_count": null,
   "metadata": {
    "collapsed": true
   },
   "outputs": [],
   "source": [
    "mean_friend_count = mean(integer(friend_count)),\n",
    "              median_friend_count = median(integer(friend_count))"
   ]
  },
  {
   "cell_type": "code",
   "execution_count": null,
   "metadata": {
    "collapsed": true
   },
   "outputs": [],
   "source": []
  },
  {
   "cell_type": "code",
   "execution_count": null,
   "metadata": {
    "collapsed": true
   },
   "outputs": [],
   "source": []
  },
  {
   "cell_type": "code",
   "execution_count": null,
   "metadata": {
    "collapsed": true
   },
   "outputs": [],
   "source": []
  }
 ],
 "metadata": {
  "kernelspec": {
   "display_name": "R",
   "language": "R",
   "name": "ir"
  },
  "language_info": {
   "codemirror_mode": "r",
   "file_extension": ".r",
   "mimetype": "text/x-r-source",
   "name": "R",
   "pygments_lexer": "r",
   "version": "3.2.4"
  },
  "widgets": {
   "state": {},
   "version": "1.1.1"
  }
 },
 "nbformat": 4,
 "nbformat_minor": 0
}
