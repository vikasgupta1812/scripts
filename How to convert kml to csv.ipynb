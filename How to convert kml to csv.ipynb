{
 "cells": [
  {
   "cell_type": "code",
   "execution_count": 1,
   "metadata": {
    "collapsed": true
   },
   "outputs": [],
   "source": [
    "from bs4 import BeautifulSoup\n",
    "import csv"
   ]
  },
  {
   "cell_type": "code",
   "execution_count": 38,
   "metadata": {
    "collapsed": true
   },
   "outputs": [],
   "source": [
    "def process_coordinate_string(str):\n",
    "    \"\"\"\n",
    "    Take the coordinate string from the KML file, and break it up into [Lat,Lon,Lat,Lon...] for a CSV row\n",
    "    \"\"\"\n",
    "    ret = []\n",
    "    split = str.split(',')\n",
    "    ret.append(split[1])    # lat\n",
    "    ret.append(split[0])    # lng\n",
    "    return ret"
   ]
  },
  {
   "cell_type": "code",
   "execution_count": 40,
   "metadata": {
    "collapsed": false
   },
   "outputs": [],
   "source": [
    "with open('./data/library-data.kml', 'r') as f:\n",
    "    s = BeautifulSoup(f, 'xml')\n",
    "    with open('./data/out.csv', 'wb') as csvfile:\n",
    "        writer = csv.writer(csvfile)\n",
    "        for coords in s.find_all('coordinates'):\n",
    "            writer.writerow(process_coordinate_string(coords.string))    "
   ]
  },
  {
   "cell_type": "code",
   "execution_count": 43,
   "metadata": {
    "collapsed": false
   },
   "outputs": [
    {
     "name": "stdout",
     "output_type": "stream",
     "text": [
      "43.78516666666665,-79.29342962962961\r",
      "\r\n",
      "43.708018518518514,-79.26925185185183\r",
      "\r\n",
      "43.7398259259259,-79.58409629629628\r",
      "\r\n",
      "43.60194444444441,-79.54725185185184\r",
      "\r\n",
      "43.706455555555536,-79.4857259259259\r",
      "\r\n",
      "43.66335925925924,-79.46634814814814\r",
      "\r\n",
      "43.73933703703702,-79.42188888888888\r",
      "\r\n",
      "43.72075185185185,-79.43221481481477\r",
      "\r\n",
      "43.76885555555552,-79.38499999999999\r",
      "\r\n",
      "43.670129629629606,-79.29852592592593\r",
      "\r\n"
     ]
    }
   ],
   "source": [
    "!head ./data/out.csv"
   ]
  },
  {
   "cell_type": "code",
   "execution_count": 45,
   "metadata": {
    "collapsed": false
   },
   "outputs": [
    {
     "name": "stdout",
     "output_type": "stream",
     "text": [
      "<Placemark id=\"LIB03\">\n",
      "<name>Albert Campbell</name>\n",
      "<description>Address: 496 Birchmount Road, Toronto, ON, M1K 1N8&lt;br/&gt;Link: http://www.torontopubliclibrary.ca/detail.jsp?R=LIB03</description>\n",
      "<address>496 Birchmount Road, Toronto, ON, M1K 1N8</address>\n",
      "<phoneNumber>416-396-8890</phoneNumber>\n",
      "<Point>\n",
      "<coordinates>-79.26925185185183,43.708018518518514</coordinates>\n",
      "</Point>\n",
      "</Placemark>\n"
     ]
    }
   ],
   "source": [
    "print s.find_all('Placemark')[1]"
   ]
  },
  {
   "cell_type": "code",
   "execution_count": 46,
   "metadata": {
    "collapsed": true
   },
   "outputs": [],
   "source": [
    "def process_coordinate_string_1(Placemarks):\n",
    "    \"\"\"\n",
    "    Take the coordinate string from the KML file, and break it up into [Lat,Lon,Lat,Lon...] for a CSV row\n",
    "    \"\"\"\n",
    "    ret = []\n",
    "    ret.append(Placemarks.findAll(\"name\")[0].string)\n",
    "    ret.append(Placemarks.findAll(\"description\")[0].string.split(\"<br/>Link: \")[1])\n",
    "    ret.append(Placemarks.findAll(\"address\")[0].string)\n",
    "    ret.append(Placemarks.findAll(\"phoneNumber\")[0].string)\n",
    "    ret.append(Placemarks.findAll(\"coordinates\")[0].string.split(',')[0])\n",
    "    ret.append(Placemarks.findAll(\"coordinates\")[0].string.split(',')[1])\n",
    "    return ret"
   ]
  },
  {
   "cell_type": "code",
   "execution_count": 53,
   "metadata": {
    "collapsed": false
   },
   "outputs": [],
   "source": [
    "from urllib2 import urlopen\n",
    "s = BeautifulSoup(urlopen('http://www.torontopubliclibrary.ca/data/library-data.kml').read(), 'xml')\n",
    "with open('./data/out_1.csv', 'wb') as csvfile:\n",
    "    writer = csv.writer(csvfile)\n",
    "    for Placemarks in s.find_all('Placemark'):\n",
    "        writer.writerow(process_coordinate_string_1(Placemarks))  "
   ]
  },
  {
   "cell_type": "code",
   "execution_count": 57,
   "metadata": {
    "collapsed": false
   },
   "outputs": [
    {
     "name": "stdout",
     "output_type": "stream",
     "text": [
      "Agincourt,http://www.torontopubliclibrary.ca/detail.jsp?R=LIB02,\"155 Bonis Ave., Toronto, ON, M1T 3W6\",416-396-8943,-79.29342962962961,43.78516666666665\r",
      "\r\n",
      "Albert Campbell,http://www.torontopubliclibrary.ca/detail.jsp?R=LIB03,\"496 Birchmount Road, Toronto, ON, M1K 1N8\",416-396-8890,-79.26925185185183,43.708018518518514\r",
      "\r\n",
      "Albion,http://www.torontopubliclibrary.ca/detail.jsp?R=LIB04,\"1515 Albion Road, Toronto, ON, M9V 1B2\",416-394-5170,-79.58409629629628,43.7398259259259\r",
      "\r\n",
      "Alderwood,http://www.torontopubliclibrary.ca/detail.jsp?R=LIB020,\"2 Orianna Drive, Toronto, ON, M8W 4Y1\",416-394-5310,-79.54725185185184,43.60194444444441\r",
      "\r\n",
      "Amesbury Park,http://www.torontopubliclibrary.ca/detail.jsp?R=LIB021,\"1565 Lawrence Ave. W., Toronto, ON, M6L 1A8\",416-395-5420,-79.4857259259259,43.706455555555536\r",
      "\r\n",
      "Annette Street,http://www.torontopubliclibrary.ca/detail.jsp?R=LIB022,\"145 Annette Street, Toronto, ON, M6P 1P3\",416-393-7692,-79.46634814814814,43.66335925925924\r",
      "\r\n",
      "Armour Heights,http://www.torontopubliclibrary.ca/detail.jsp?R=LIB023,\"2140 Avenue Road, Toronto, ON, M5M 4M7\",416-395-5430,-79.42188888888888,43.73933703703702\r",
      "\r\n",
      "Barbara Frum,http://www.torontopubliclibrary.ca/detail.jsp?R=LIB05,\"20 Covington Road, Toronto, ON, M6A 3C1\",416-395-5440,-79.43221481481477,43.72075185185185\r",
      "\r\n",
      "Bayview,http://www.torontopubliclibrary.ca/detail.jsp?R=LIB024,\"2901 Bayview Ave., Bayview Village Shopping Centre, Toronto, ON, M2K 1E6\",416-395-5460,-79.38499999999999,43.76885555555552\r",
      "\r\n",
      "Beaches,http://www.torontopubliclibrary.ca/detail.jsp?R=LIB025,\"2161 Queen Street East, Toronto, ON, M4L 1J1\",416-393-7703,-79.29852592592593,43.670129629629606\r",
      "\r\n"
     ]
    }
   ],
   "source": [
    "!head ./data/out_1.csv"
   ]
  },
  {
   "cell_type": "code",
   "execution_count": null,
   "metadata": {
    "collapsed": true
   },
   "outputs": [],
   "source": []
  }
 ],
 "metadata": {
  "kernelspec": {
   "display_name": "Python 2",
   "language": "python",
   "name": "python2"
  },
  "language_info": {
   "codemirror_mode": {
    "name": "ipython",
    "version": 2
   },
   "file_extension": ".py",
   "mimetype": "text/x-python",
   "name": "python",
   "nbconvert_exporter": "python",
   "pygments_lexer": "ipython2",
   "version": "2.7.11"
  },
  "widgets": {
   "state": {},
   "version": "1.1.1"
  }
 },
 "nbformat": 4,
 "nbformat_minor": 0
}
