{
 "cells": [
  {
   "cell_type": "code",
   "execution_count": 1,
   "metadata": {
    "collapsed": true
   },
   "outputs": [],
   "source": [
    "if (!file.exists(\"data\")) {\n",
    "  dir.create(\"data\")\n",
    "}"
   ]
  },
  {
   "cell_type": "code",
   "execution_count": 2,
   "metadata": {
    "collapsed": false
   },
   "outputs": [
    {
     "data": {
      "text/html": [
       "FALSE"
      ],
      "text/latex": [
       "FALSE"
      ],
      "text/markdown": [
       "FALSE"
      ],
      "text/plain": [
       "[1] FALSE"
      ]
     },
     "execution_count": 2,
     "metadata": {},
     "output_type": "execute_result"
    }
   ],
   "source": [
    "file.exists(\"./data/cameras.csv\")"
   ]
  },
  {
   "cell_type": "code",
   "execution_count": 3,
   "metadata": {
    "collapsed": true
   },
   "outputs": [],
   "source": [
    "if(!file.exists(\"./data/cameras.csv\")) {\n",
    "    fileUrl <- \"https://data.baltimorecity.gov/api/views/dz54-2aru/rows.csv?accessType=DOWNLOAD\"\n",
    "    download.file(fileUrl, destfile = \"./data/cameras.csv\", method = \"curl\")\n",
    "    dateDownloaded <- date()    \n",
    "}"
   ]
  },
  {
   "cell_type": "code",
   "execution_count": 11,
   "metadata": {
    "collapsed": false
   },
   "outputs": [
    {
     "data": {
      "text/html": [
       "TRUE"
      ],
      "text/latex": [
       "TRUE"
      ],
      "text/markdown": [
       "TRUE"
      ],
      "text/plain": [
       "[1] TRUE"
      ]
     },
     "execution_count": 11,
     "metadata": {},
     "output_type": "execute_result"
    }
   ],
   "source": [
    "file.exists(\"./data/cameras.csv\")"
   ]
  },
  {
   "cell_type": "code",
   "execution_count": 12,
   "metadata": {
    "collapsed": false
   },
   "outputs": [
    {
     "data": {
      "text/html": [
       "<table>\n",
       "<thead><tr><th></th><th scope=col>address</th><th scope=col>direction</th><th scope=col>street</th><th scope=col>crossStreet</th><th scope=col>intersection</th><th scope=col>Location.1</th></tr></thead>\n",
       "<tbody>\n",
       "\t<tr><th scope=row>1</th><td>S CATON AVE & BENSON AVE</td><td>N/B</td><td>Caton Ave</td><td>Benson Ave</td><td>Caton Ave & Benson Ave</td><td>(39.2693779962, -76.6688185297)</td></tr>\n",
       "\t<tr><th scope=row>2</th><td>S CATON AVE & BENSON AVE</td><td>S/B</td><td>Caton Ave</td><td>Benson Ave</td><td>Caton Ave & Benson Ave</td><td>(39.2693157898, -76.6689698176)</td></tr>\n",
       "\t<tr><th scope=row>3</th><td>WILKENS AVE & PINE HEIGHTS AVE</td><td>E/B</td><td>Wilkens Ave</td><td>Pine Heights</td><td>Wilkens Ave & Pine Heights</td><td>(39.2720252302, -76.676960806)</td></tr>\n",
       "\t<tr><th scope=row>4</th><td>THE ALAMEDA & E 33RD ST</td><td>S/B</td><td>The Alameda</td><td>33rd St</td><td>The Alameda  & 33rd St</td><td>(39.3285013141, -76.5953545714)</td></tr>\n",
       "\t<tr><th scope=row>5</th><td>E 33RD ST & THE ALAMEDA</td><td>E/B</td><td>E 33rd</td><td>The Alameda</td><td>E 33rd  & The Alameda</td><td>(39.3283410623, -76.5953594625)</td></tr>\n",
       "\t<tr><th scope=row>6</th><td>ERDMAN AVE & N MACON ST</td><td>E/B</td><td>Erdman</td><td>Macon St</td><td>Erdman  & Macon St</td><td>(39.3068045671, -76.5593167803)</td></tr>\n",
       "</tbody>\n",
       "</table>\n"
      ],
      "text/latex": [
       "\\begin{tabular}{r|llllll}\n",
       "  & address & direction & street & crossStreet & intersection & Location.1\\\\\n",
       "\\hline\n",
       "\t1 & S CATON AVE & BENSON AVE & N/B & Caton Ave & Benson Ave & Caton Ave & Benson Ave & (39.2693779962, -76.6688185297)\\\\\n",
       "\t2 & S CATON AVE & BENSON AVE & S/B & Caton Ave & Benson Ave & Caton Ave & Benson Ave & (39.2693157898, -76.6689698176)\\\\\n",
       "\t3 & WILKENS AVE & PINE HEIGHTS AVE & E/B & Wilkens Ave & Pine Heights & Wilkens Ave & Pine Heights & (39.2720252302, -76.676960806)\\\\\n",
       "\t4 & THE ALAMEDA & E 33RD ST & S/B & The Alameda & 33rd St & The Alameda  & 33rd St & (39.3285013141, -76.5953545714)\\\\\n",
       "\t5 & E 33RD ST & THE ALAMEDA & E/B & E 33rd & The Alameda & E 33rd  & The Alameda & (39.3283410623, -76.5953594625)\\\\\n",
       "\t6 & ERDMAN AVE & N MACON ST & E/B & Erdman & Macon St & Erdman  & Macon St & (39.3068045671, -76.5593167803)\\\\\n",
       "\\end{tabular}\n"
      ],
      "text/plain": [
       "                         address direction      street  crossStreet\n",
       "1       S CATON AVE & BENSON AVE       N/B   Caton Ave   Benson Ave\n",
       "2       S CATON AVE & BENSON AVE       S/B   Caton Ave   Benson Ave\n",
       "3 WILKENS AVE & PINE HEIGHTS AVE       E/B Wilkens Ave Pine Heights\n",
       "4        THE ALAMEDA & E 33RD ST       S/B The Alameda      33rd St\n",
       "5        E 33RD ST & THE ALAMEDA       E/B      E 33rd  The Alameda\n",
       "6        ERDMAN AVE & N MACON ST       E/B      Erdman     Macon St\n",
       "                intersection                      Location.1\n",
       "1     Caton Ave & Benson Ave (39.2693779962, -76.6688185297)\n",
       "2     Caton Ave & Benson Ave (39.2693157898, -76.6689698176)\n",
       "3 Wilkens Ave & Pine Heights  (39.2720252302, -76.676960806)\n",
       "4     The Alameda  & 33rd St (39.3285013141, -76.5953545714)\n",
       "5      E 33rd  & The Alameda (39.3283410623, -76.5953594625)\n",
       "6         Erdman  & Macon St (39.3068045671, -76.5593167803)"
      ]
     },
     "execution_count": 12,
     "metadata": {},
     "output_type": "execute_result"
    }
   ],
   "source": [
    "cameraData <- read.table(\"./data/cameras.csv\",sep=\",\",header=TRUE)\n",
    "head(cameraData)"
   ]
  },
  {
   "cell_type": "code",
   "execution_count": null,
   "metadata": {
    "collapsed": true
   },
   "outputs": [],
   "source": []
  }
 ],
 "metadata": {
  "kernelspec": {
   "display_name": "R",
   "language": "R",
   "name": "ir"
  },
  "language_info": {
   "codemirror_mode": "r",
   "file_extension": ".r",
   "mimetype": "text/x-r-source",
   "name": "R",
   "pygments_lexer": "r",
   "version": "3.2.4"
  },
  "widgets": {
   "state": {},
   "version": "1.1.1"
  }
 },
 "nbformat": 4,
 "nbformat_minor": 0
}
