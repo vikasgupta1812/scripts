{
 "cells": [
  {
   "cell_type": "markdown",
   "metadata": {},
   "source": [
    "## Analysis: Probable Medal Count\n",
    "Earlier, we determined that Norway had won the most combined medals - *in every color* - of any country from 1924 through 2006.  Clearly, Norway is a winter olympic juggernaut.\n",
    "\n",
    "If it were January 2010, and you had a Norwegian friend that insisted that you answer the question, \"How many medals do you think Norway will win in this year's olympics?\", what would you tell her?  What if she asked you the same question in January 1988 (you've been friends a long time).  Would you give her the same answer?\n",
    "\n",
    "Looking at the medal count per games for Norway, you notice that *something* changed circa 1992, and Norwegian olympians began to win more medals in every winter olympics since then.  You would not likely have given Norway much chance at all to win 20 medals in 1988, but in 2010, the chances that Norway would win 20 medals seems a good bit higher.\n",
    "\n",
    "<div class=\"alert alert-block alert-info\" style=\"margin-top: 20px\">The following example and code is based on the text message example that can be found in <a href=\"http://nbviewer.ipython.org/github/CamDavidsonPilon/Probabilistic-Programming-and-Bayesian-Methods-for-Hackers/blob/6f3a973657b0d3f92bea63b154eadd1590b98e1e/Chapter1_Introduction/Chapter1.ipynb\">Probabilistic Programming and Bayesian Methods for Hackers, Chapter 1</a>.</div>"
   ]
  },
  {
   "cell_type": "code",
   "execution_count": null,
   "metadata": {
    "collapsed": true
   },
   "outputs": [],
   "source": []
  },
  {
   "cell_type": "code",
   "execution_count": null,
   "metadata": {
    "collapsed": true
   },
   "outputs": [],
   "source": []
  }
 ],
 "metadata": {
  "kernelspec": {
   "display_name": "R",
   "language": "R",
   "name": "ir"
  },
  "language_info": {
   "codemirror_mode": "r",
   "file_extension": ".r",
   "mimetype": "text/x-r-source",
   "name": "R",
   "pygments_lexer": "r",
   "version": "3.2.4"
  },
  "widgets": {
   "state": {},
   "version": "1.1.1"
  }
 },
 "nbformat": 4,
 "nbformat_minor": 0
}
