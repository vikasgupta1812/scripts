{
 "cells": [
  {
   "cell_type": "markdown",
   "metadata": {},
   "source": [
    "`showtext` helps to use various types of fonts (TrueType, OpenType, Type 1, web fonts, etc.) in R graphs. It performs following two things:\n",
    "\n",
    "- Let R know about these fonts\n",
    "- Use these fonts to draw text"
   ]
  },
  {
   "cell_type": "code",
   "execution_count": 3,
   "metadata": {
    "collapsed": false
   },
   "outputs": [
    {
     "name": "stderr",
     "output_type": "stream",
     "text": [
      "Loading required package: sysfonts\n"
     ]
    }
   ],
   "source": [
    "library(showtext)\n",
    "library(ggplot2)"
   ]
  },
  {
   "cell_type": "code",
   "execution_count": null,
   "metadata": {
    "collapsed": false
   },
   "outputs": [],
   "source": [
    "font.add.google(\"Poppins\", \"myfont\")"
   ]
  },
  {
   "cell_type": "code",
   "execution_count": null,
   "metadata": {
    "collapsed": true
   },
   "outputs": [],
   "source": [
    "showtext.auto()"
   ]
  },
  {
   "cell_type": "code",
   "execution_count": 9,
   "metadata": {
    "collapsed": false
   },
   "outputs": [],
   "source": [
    "theme_set(theme_light(base_family = \"myfont\"))"
   ]
  },
  {
   "cell_type": "code",
   "execution_count": 5,
   "metadata": {
    "collapsed": false
   },
   "outputs": [],
   "source": [
    "## Tell showtext the resolution of the device,\n",
    "## only needed for bitmap graphics. Default is 96\n",
    "## showtext.opts(dpi = 96)\n",
    "\n",
    "set.seed(123)\n",
    "x = rnorm(10)\n",
    "y = 1 + x + rnorm(10, sd = 0.2)\n",
    "y[1] = 5\n",
    "mod = lm(y ~ x)"
   ]
  },
  {
   "cell_type": "code",
   "execution_count": null,
   "metadata": {
    "collapsed": true
   },
   "outputs": [],
   "source": [
    "op = par(cex.lab = 2, cex.axis = 1.5, cex.main = 2)\n",
    "plot(x, y, pch = 16, col = \"steelblue\",\n",
    "     xlab = \"X variable\", ylab = \"Y variable\", family = \"myfont\")"
   ]
  },
  {
   "cell_type": "code",
   "execution_count": null,
   "metadata": {
    "collapsed": true
   },
   "outputs": [],
   "source": [
    "grid()\n",
    "title(\"Draw Plots Before You Fit A Regression\", family = \"bell\")\n",
    "text(-0.5, 4.5, \"This is the outlier\", cex = 2, col = \"steelblue\",\n",
    "     family = \"grace\")\n",
    "abline(coef(mod))\n",
    "abline(1, 1, col = \"red\")\n",
    "par(family = \"rock\")\n",
    "text(1, 1, expression(paste(\"True model: \", y == x + 1)),\n",
    "     cex = 1.5, col = \"red\", srt = 20)\n",
    "text(0, 2, expression(paste(\"OLS: \", hat(y) == 0.79 * x + 1.49)),\n",
    "     cex = 1.5, srt = 15)\n",
    "legend(\"topright\", legend = c(\"Truth\", \"OLS\"), col = c(\"red\", \"black\"), lty = 1)\n",
    "\n",
    "par(op)"
   ]
  },
  {
   "cell_type": "code",
   "execution_count": null,
   "metadata": {
    "collapsed": true
   },
   "outputs": [],
   "source": []
  },
  {
   "cell_type": "code",
   "execution_count": null,
   "metadata": {
    "collapsed": true
   },
   "outputs": [],
   "source": []
  },
  {
   "cell_type": "code",
   "execution_count": null,
   "metadata": {
    "collapsed": true
   },
   "outputs": [],
   "source": []
  },
  {
   "cell_type": "markdown",
   "metadata": {},
   "source": [
    "References \n",
    "\n",
    "- https://github.com/yixuan/showtext/blob/master/README.md"
   ]
  },
  {
   "cell_type": "code",
   "execution_count": null,
   "metadata": {
    "collapsed": true
   },
   "outputs": [],
   "source": []
  }
 ],
 "metadata": {
  "kernelspec": {
   "display_name": "R",
   "language": "R",
   "name": "ir"
  },
  "language_info": {
   "codemirror_mode": "r",
   "file_extension": ".r",
   "mimetype": "text/x-r-source",
   "name": "R",
   "pygments_lexer": "r",
   "version": "3.2.4"
  },
  "widgets": {
   "state": {},
   "version": "1.1.1"
  }
 },
 "nbformat": 4,
 "nbformat_minor": 0
}
