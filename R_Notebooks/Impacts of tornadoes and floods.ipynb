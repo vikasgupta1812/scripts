{
 "cells": [
  {
   "cell_type": "markdown",
   "metadata": {},
   "source": [
    "# Impacts of tornadoes and floods\n",
    "\n",
    "## Synopsis\n",
    "\n",
    "This report downloads data from NOAA Storm Database and performs a statistical analysis on the impact of physical events to population health and economy.\n",
    "\n",
    "Examining the event types, we observe that most of the physical phenomena cause injuries to people, which sometimes are fatal. By far, Tornadoes are the most dangerous events, caused ~100.000 injuries on the last 60 years.\n",
    "\n",
    "When analysing the event types by the impact on the economy, we observe that floods caused $15 billions damages on the last 60 years, mostly on properties.\n",
    "\n",
    "## Data Processing\n",
    "\n",
    "### Load\n",
    "\n",
    "How the data were loaded into R ?\n",
    "\n",
    "Data are downloaded and imported in `stormdata` data frame."
   ]
  },
  {
   "cell_type": "code",
   "execution_count": 1,
   "metadata": {
    "collapsed": true
   },
   "outputs": [],
   "source": [
    "if(!file.exists(\"./data/tempdata.csv.bz2\")) {\n",
    "    fileUrl <- \"https://d396qusza40orc.cloudfront.net/repdata%2Fdata%2FStormData.csv.bz2\"\n",
    "    download.file(fileUrl, destfile = \"./data/tempdata.csv.bz2\", method = \"curl\")\n",
    "}\n",
    "stormdata <- read.csv(\"./data/tempdata.csv.bz2\")"
   ]
  },
  {
   "cell_type": "markdown",
   "metadata": {},
   "source": [
    "### Process ###\n",
    "\n",
    "How the data are processed for analysis.\n",
    "\n",
    "To calculate the injuries to humans, `damages` dataframe is being used, to aggregate both fatal and non-fatal injuries.\n",
    "\n",
    "The economic impact is assessed by calculating the exponential value of the property and corp damage in data frame `economic`.\n",
    "\n",
    "Two small data frames `dam` and `eco` are used to calculate only the top 10 events in human and economic impact respectively."
   ]
  },
  {
   "cell_type": "code",
   "execution_count": 6,
   "metadata": {
    "collapsed": false
   },
   "outputs": [
    {
     "name": "stderr",
     "output_type": "stream",
     "text": [
      "Loading required package: lattice\n",
      "Loading required package: survival\n",
      "Loading required package: Formula\n",
      "Loading required package: ggplot2\n",
      "\n",
      "Attaching package: 'Hmisc'\n",
      "\n",
      "The following objects are masked from 'package:base':\n",
      "\n",
      "    format.pval, round.POSIXt, trunc.POSIXt, units\n",
      "\n"
     ]
    }
   ],
   "source": [
    "library(Hmisc)\n",
    "library(reshape)\n",
    "library(ggplot2)\n",
    "library(car)"
   ]
  },
  {
   "cell_type": "code",
   "execution_count": 8,
   "metadata": {
    "collapsed": false
   },
   "outputs": [
    {
     "data": {
      "text/html": [
       "<ol class=list-inline>\n",
       "\t<li>902297</li>\n",
       "\t<li>37</li>\n",
       "</ol>\n"
      ],
      "text/latex": [
       "\\begin{enumerate*}\n",
       "\\item 902297\n",
       "\\item 37\n",
       "\\end{enumerate*}\n"
      ],
      "text/markdown": [
       "1. 902297\n",
       "2. 37\n",
       "\n",
       "\n"
      ],
      "text/plain": [
       "[1] 902297     37"
      ]
     },
     "execution_count": 8,
     "metadata": {},
     "output_type": "execute_result"
    }
   ],
   "source": [
    "dim(stormdata)"
   ]
  },
  {
   "cell_type": "code",
   "execution_count": 16,
   "metadata": {
    "collapsed": false
   },
   "outputs": [
    {
     "data": {
      "text/html": [
       "<table>\n",
       "<thead><tr><th></th><th scope=col>STATE__</th><th scope=col>BGN_DATE</th><th scope=col>BGN_TIME</th><th scope=col>TIME_ZONE</th><th scope=col>COUNTY</th><th scope=col>COUNTYNAME</th><th scope=col>STATE</th><th scope=col>EVTYPE</th><th scope=col>BGN_RANGE</th><th scope=col>BGN_AZI</th><th scope=col>BGN_LOCATI</th></tr></thead>\n",
       "<tbody>\n",
       "\t<tr><th scope=row>1</th><td>1</td><td>4/18/1950 0:00:00</td><td>0130</td><td>CST</td><td>97</td><td>MOBILE</td><td>AL</td><td>TORNADO</td><td>0</td><td></td><td></td></tr>\n",
       "\t<tr><th scope=row>2</th><td>1</td><td>4/18/1950 0:00:00</td><td>0145</td><td>CST</td><td>3</td><td>BALDWIN</td><td>AL</td><td>TORNADO</td><td>0</td><td></td><td></td></tr>\n",
       "\t<tr><th scope=row>3</th><td>1</td><td>2/20/1951 0:00:00</td><td>1600</td><td>CST</td><td>57</td><td>FAYETTE</td><td>AL</td><td>TORNADO</td><td>0</td><td></td><td></td></tr>\n",
       "</tbody>\n",
       "</table>\n"
      ],
      "text/latex": [
       "\\begin{tabular}{r|lllllllllll}\n",
       "  & STATE__ & BGN_DATE & BGN_TIME & TIME_ZONE & COUNTY & COUNTYNAME & STATE & EVTYPE & BGN_RANGE & BGN_AZI & BGN_LOCATI\\\\\n",
       "\\hline\n",
       "\t1 & 1 & 4/18/1950 0:00:00 & 0130 & CST & 97 & MOBILE & AL & TORNADO & 0 &  & \\\\\n",
       "\t2 & 1 & 4/18/1950 0:00:00 & 0145 & CST & 3 & BALDWIN & AL & TORNADO & 0 &  & \\\\\n",
       "\t3 & 1 & 2/20/1951 0:00:00 & 1600 & CST & 57 & FAYETTE & AL & TORNADO & 0 &  & \\\\\n",
       "\\end{tabular}\n"
      ],
      "text/plain": [
       "  STATE__          BGN_DATE BGN_TIME TIME_ZONE COUNTY COUNTYNAME STATE  EVTYPE\n",
       "1       1 4/18/1950 0:00:00     0130       CST     97     MOBILE    AL TORNADO\n",
       "2       1 4/18/1950 0:00:00     0145       CST      3    BALDWIN    AL TORNADO\n",
       "3       1 2/20/1951 0:00:00     1600       CST     57    FAYETTE    AL TORNADO\n",
       "  BGN_RANGE BGN_AZI BGN_LOCATI\n",
       "1         0                   \n",
       "2         0                   \n",
       "3         0                   "
      ]
     },
     "execution_count": 16,
     "metadata": {},
     "output_type": "execute_result"
    },
    {
     "data": {
      "text/html": [
       "<table>\n",
       "<thead><tr><th></th><th scope=col>END_DATE</th><th scope=col>END_TIME</th><th scope=col>COUNTY_END</th><th scope=col>COUNTYENDN</th><th scope=col>END_RANGE</th><th scope=col>END_AZI</th><th scope=col>END_LOCATI</th><th scope=col>LENGTH</th><th scope=col>WIDTH</th><th scope=col>F</th><th scope=col>MAG</th></tr></thead>\n",
       "<tbody>\n",
       "\t<tr><th scope=row>1</th><td></td><td></td><td>0</td><td>NA</td><td>0</td><td></td><td></td><td>14</td><td>100</td><td>3</td><td>0</td></tr>\n",
       "\t<tr><th scope=row>2</th><td></td><td></td><td>0</td><td>NA</td><td>0</td><td></td><td></td><td>2</td><td>150</td><td>2</td><td>0</td></tr>\n",
       "\t<tr><th scope=row>3</th><td></td><td></td><td>0</td><td>NA</td><td>0</td><td></td><td></td><td>0.1</td><td>123</td><td>2</td><td>0</td></tr>\n",
       "</tbody>\n",
       "</table>\n"
      ],
      "text/latex": [
       "\\begin{tabular}{r|lllllllllll}\n",
       "  & END_DATE & END_TIME & COUNTY_END & COUNTYENDN & END_RANGE & END_AZI & END_LOCATI & LENGTH & WIDTH & F & MAG\\\\\n",
       "\\hline\n",
       "\t1 &  &  & 0 & NA & 0 &  &  & 14 & 100 & 3 & 0\\\\\n",
       "\t2 &  &  & 0 & NA & 0 &  &  & 2 & 150 & 2 & 0\\\\\n",
       "\t3 &  &  & 0 & NA & 0 &  &  & 0.1 & 123 & 2 & 0\\\\\n",
       "\\end{tabular}\n"
      ],
      "text/plain": [
       "  END_DATE END_TIME COUNTY_END COUNTYENDN END_RANGE END_AZI END_LOCATI LENGTH\n",
       "1                            0         NA         0                      14.0\n",
       "2                            0         NA         0                       2.0\n",
       "3                            0         NA         0                       0.1\n",
       "  WIDTH F MAG\n",
       "1   100 3   0\n",
       "2   150 2   0\n",
       "3   123 2   0"
      ]
     },
     "execution_count": 16,
     "metadata": {},
     "output_type": "execute_result"
    },
    {
     "data": {
      "text/html": [
       "<table>\n",
       "<thead><tr><th></th><th scope=col>FATALITIES</th><th scope=col>INJURIES</th><th scope=col>PROPDMG</th><th scope=col>PROPDMGEXP</th><th scope=col>CROPDMG</th><th scope=col>CROPDMGEXP</th><th scope=col>WFO</th><th scope=col>STATEOFFIC</th><th scope=col>ZONENAMES</th><th scope=col>LATITUDE</th></tr></thead>\n",
       "<tbody>\n",
       "\t<tr><th scope=row>1</th><td>0</td><td>15</td><td>25</td><td>K</td><td>0</td><td></td><td></td><td></td><td></td><td>3040</td></tr>\n",
       "\t<tr><th scope=row>2</th><td>0</td><td>0</td><td>2.5</td><td>K</td><td>0</td><td></td><td></td><td></td><td></td><td>3042</td></tr>\n",
       "\t<tr><th scope=row>3</th><td>0</td><td>2</td><td>25</td><td>K</td><td>0</td><td></td><td></td><td></td><td></td><td>3340</td></tr>\n",
       "</tbody>\n",
       "</table>\n"
      ],
      "text/latex": [
       "\\begin{tabular}{r|llllllllll}\n",
       "  & FATALITIES & INJURIES & PROPDMG & PROPDMGEXP & CROPDMG & CROPDMGEXP & WFO & STATEOFFIC & ZONENAMES & LATITUDE\\\\\n",
       "\\hline\n",
       "\t1 & 0 & 15 & 25 & K & 0 &  &  &  &  & 3040\\\\\n",
       "\t2 & 0 & 0 & 2.5 & K & 0 &  &  &  &  & 3042\\\\\n",
       "\t3 & 0 & 2 & 25 & K & 0 &  &  &  &  & 3340\\\\\n",
       "\\end{tabular}\n"
      ],
      "text/plain": [
       "  FATALITIES INJURIES PROPDMG PROPDMGEXP CROPDMG CROPDMGEXP WFO STATEOFFIC\n",
       "1          0       15    25.0          K       0                          \n",
       "2          0        0     2.5          K       0                          \n",
       "3          0        2    25.0          K       0                          \n",
       "  ZONENAMES LATITUDE\n",
       "1               3040\n",
       "2               3042\n",
       "3               3340"
      ]
     },
     "execution_count": 16,
     "metadata": {},
     "output_type": "execute_result"
    },
    {
     "data": {
      "text/html": [
       "<table>\n",
       "<thead><tr><th></th><th scope=col>LONGITUDE</th><th scope=col>LATITUDE_E</th><th scope=col>LONGITUDE_</th><th scope=col>REMARKS</th><th scope=col>REFNUM</th></tr></thead>\n",
       "<tbody>\n",
       "\t<tr><th scope=row>1</th><td>8812</td><td>3051</td><td>8806</td><td></td><td>1</td></tr>\n",
       "\t<tr><th scope=row>2</th><td>8755</td><td>0</td><td>0</td><td></td><td>2</td></tr>\n",
       "\t<tr><th scope=row>3</th><td>8742</td><td>0</td><td>0</td><td></td><td>3</td></tr>\n",
       "</tbody>\n",
       "</table>\n"
      ],
      "text/latex": [
       "\\begin{tabular}{r|lllll}\n",
       "  & LONGITUDE & LATITUDE_E & LONGITUDE_ & REMARKS & REFNUM\\\\\n",
       "\\hline\n",
       "\t1 & 8812 & 3051 & 8806 &  & 1\\\\\n",
       "\t2 & 8755 & 0 & 0 &  & 2\\\\\n",
       "\t3 & 8742 & 0 & 0 &  & 3\\\\\n",
       "\\end{tabular}\n"
      ],
      "text/plain": [
       "  LONGITUDE LATITUDE_E LONGITUDE_ REMARKS REFNUM\n",
       "1      8812       3051       8806              1\n",
       "2      8755          0          0              2\n",
       "3      8742          0          0              3"
      ]
     },
     "execution_count": 16,
     "metadata": {},
     "output_type": "execute_result"
    }
   ],
   "source": [
    "head(stormdata[ ,1:11], 3)\n",
    "head(stormdata[,12:22], 3)\n",
    "head(stormdata[,23:32], 3)\n",
    "head(stormdata[,33:37], 3)"
   ]
  },
  {
   "cell_type": "code",
   "execution_count": 21,
   "metadata": {
    "collapsed": false
   },
   "outputs": [
    {
     "data": {
      "text/html": [
       "'Marine strong wind'"
      ],
      "text/latex": [
       "'Marine strong wind'"
      ],
      "text/markdown": [
       "'Marine strong wind'"
      ],
      "text/plain": [
       "[1] \"Marine strong wind\""
      ]
     },
     "execution_count": 21,
     "metadata": {},
     "output_type": "execute_result"
    }
   ],
   "source": [
    "Hmisc::capitalize(tolower(\"MARINE STRONG WIND\"))"
   ]
  },
  {
   "cell_type": "code",
   "execution_count": 22,
   "metadata": {
    "collapsed": true
   },
   "outputs": [],
   "source": [
    "stormdata$EVTYPE <- Hmisc::capitalize(tolower(stormdata$EVTYPE))"
   ]
  },
  {
   "cell_type": "code",
   "execution_count": 9,
   "metadata": {
    "collapsed": true
   },
   "outputs": [],
   "source": [
    "?aggregate"
   ]
  },
  {
   "cell_type": "code",
   "execution_count": 24,
   "metadata": {
    "collapsed": false,
    "scrolled": true
   },
   "outputs": [
    {
     "data": {
      "text/html": [
       "<table>\n",
       "<thead><tr><th></th><th scope=col>EVTYPE</th><th scope=col>FATALITIES</th><th scope=col>INJURIES</th></tr></thead>\n",
       "<tbody>\n",
       "\t<tr><th scope=row>1</th><td>   high surf advisory</td><td>0</td><td>0</td></tr>\n",
       "\t<tr><th scope=row>2</th><td> coastal flood</td><td>0</td><td>0</td></tr>\n",
       "\t<tr><th scope=row>3</th><td> flash flood</td><td>0</td><td>0</td></tr>\n",
       "\t<tr><th scope=row>4</th><td> lightning</td><td>0</td><td>0</td></tr>\n",
       "\t<tr><th scope=row>5</th><td> tstm wind</td><td>0</td><td>0</td></tr>\n",
       "\t<tr><th scope=row>6</th><td> tstm wind (g45)</td><td>0</td><td>0</td></tr>\n",
       "</tbody>\n",
       "</table>\n"
      ],
      "text/latex": [
       "\\begin{tabular}{r|lll}\n",
       "  & EVTYPE & FATALITIES & INJURIES\\\\\n",
       "\\hline\n",
       "\t1 &    high surf advisory & 0 & 0\\\\\n",
       "\t2 &  coastal flood & 0 & 0\\\\\n",
       "\t3 &  flash flood & 0 & 0\\\\\n",
       "\t4 &  lightning & 0 & 0\\\\\n",
       "\t5 &  tstm wind & 0 & 0\\\\\n",
       "\t6 &  tstm wind (g45) & 0 & 0\\\\\n",
       "\\end{tabular}\n"
      ],
      "text/plain": [
       "                 EVTYPE FATALITIES INJURIES\n",
       "1    high surf advisory          0        0\n",
       "2         coastal flood          0        0\n",
       "3           flash flood          0        0\n",
       "4             lightning          0        0\n",
       "5             tstm wind          0        0\n",
       "6       tstm wind (g45)          0        0"
      ]
     },
     "execution_count": 24,
     "metadata": {},
     "output_type": "execute_result"
    }
   ],
   "source": [
    "damages <- aggregate(cbind(FATALITIES, INJURIES) ~ EVTYPE, stormdata, sum); head(damages)"
   ]
  },
  {
   "cell_type": "code",
   "execution_count": 25,
   "metadata": {
    "collapsed": false
   },
   "outputs": [
    {
     "data": {
      "text/html": [
       "<table>\n",
       "<thead><tr><th></th><th scope=col>EVTYPE</th><th scope=col>FATALITIES</th><th scope=col>INJURIES</th></tr></thead>\n",
       "<tbody>\n",
       "\t<tr><th scope=row>758</th><td>Tornado</td><td>5633</td><td>91346</td></tr>\n",
       "\t<tr><th scope=row>116</th><td>Excessive heat</td><td>1903</td><td>6525</td></tr>\n",
       "\t<tr><th scope=row>138</th><td>Flash flood</td><td>978</td><td>1777</td></tr>\n",
       "\t<tr><th scope=row>243</th><td>Heat</td><td>937</td><td>2100</td></tr>\n",
       "\t<tr><th scope=row>418</th><td>Lightning</td><td>816</td><td>5230</td></tr>\n",
       "\t<tr><th scope=row>779</th><td>Tstm wind</td><td>504</td><td>6957</td></tr>\n",
       "\t<tr><th scope=row>154</th><td>Flood</td><td>470</td><td>6789</td></tr>\n",
       "\t<tr><th scope=row>524</th><td>Rip current</td><td>368</td><td>232</td></tr>\n",
       "\t<tr><th scope=row>320</th><td>High wind</td><td>248</td><td>1137</td></tr>\n",
       "\t<tr><th scope=row>19</th><td>Avalanche</td><td>224</td><td>170</td></tr>\n",
       "</tbody>\n",
       "</table>\n"
      ],
      "text/latex": [
       "\\begin{tabular}{r|lll}\n",
       "  & EVTYPE & FATALITIES & INJURIES\\\\\n",
       "\\hline\n",
       "\t758 & Tornado & 5633 & 91346\\\\\n",
       "\t116 & Excessive heat & 1903 & 6525\\\\\n",
       "\t138 & Flash flood & 978 & 1777\\\\\n",
       "\t243 & Heat & 937 & 2100\\\\\n",
       "\t418 & Lightning & 816 & 5230\\\\\n",
       "\t779 & Tstm wind & 504 & 6957\\\\\n",
       "\t154 & Flood & 470 & 6789\\\\\n",
       "\t524 & Rip current & 368 & 232\\\\\n",
       "\t320 & High wind & 248 & 1137\\\\\n",
       "\t19 & Avalanche & 224 & 170\\\\\n",
       "\\end{tabular}\n"
      ],
      "text/plain": [
       "            EVTYPE FATALITIES INJURIES\n",
       "758        Tornado       5633    91346\n",
       "116 Excessive heat       1903     6525\n",
       "138    Flash flood        978     1777\n",
       "243           Heat        937     2100\n",
       "418      Lightning        816     5230\n",
       "779      Tstm wind        504     6957\n",
       "154          Flood        470     6789\n",
       "524    Rip current        368      232\n",
       "320      High wind        248     1137\n",
       "19       Avalanche        224      170"
      ]
     },
     "execution_count": 25,
     "metadata": {},
     "output_type": "execute_result"
    }
   ],
   "source": [
    "head(damages[order(-damages$FATALITIES, -damages$INJURIES), ], 10)"
   ]
  },
  {
   "cell_type": "code",
   "execution_count": 26,
   "metadata": {
    "collapsed": false
   },
   "outputs": [
    {
     "name": "stderr",
     "output_type": "stream",
     "text": [
      "Using EVTYPE as id variables\n"
     ]
    },
    {
     "data": {
      "text/html": [
       "<table>\n",
       "<thead><tr><th></th><th scope=col>EVTYPE</th><th scope=col>variable</th><th scope=col>value</th></tr></thead>\n",
       "<tbody>\n",
       "\t<tr><th scope=row>1</th><td>Tornado</td><td>FATALITIES</td><td>5633</td></tr>\n",
       "\t<tr><th scope=row>2</th><td>Excessive heat</td><td>FATALITIES</td><td>1903</td></tr>\n",
       "\t<tr><th scope=row>3</th><td>Flash flood</td><td>FATALITIES</td><td>978</td></tr>\n",
       "\t<tr><th scope=row>4</th><td>Heat</td><td>FATALITIES</td><td>937</td></tr>\n",
       "\t<tr><th scope=row>5</th><td>Lightning</td><td>FATALITIES</td><td>816</td></tr>\n",
       "\t<tr><th scope=row>6</th><td>Tstm wind</td><td>FATALITIES</td><td>504</td></tr>\n",
       "\t<tr><th scope=row>7</th><td>Flood</td><td>FATALITIES</td><td>470</td></tr>\n",
       "\t<tr><th scope=row>8</th><td>Rip current</td><td>FATALITIES</td><td>368</td></tr>\n",
       "\t<tr><th scope=row>9</th><td>High wind</td><td>FATALITIES</td><td>248</td></tr>\n",
       "\t<tr><th scope=row>10</th><td>Avalanche</td><td>FATALITIES</td><td>224</td></tr>\n",
       "\t<tr><th scope=row>11</th><td>Tornado</td><td>INJURIES</td><td>91346</td></tr>\n",
       "\t<tr><th scope=row>12</th><td>Excessive heat</td><td>INJURIES</td><td>6525</td></tr>\n",
       "\t<tr><th scope=row>13</th><td>Flash flood</td><td>INJURIES</td><td>1777</td></tr>\n",
       "\t<tr><th scope=row>14</th><td>Heat</td><td>INJURIES</td><td>2100</td></tr>\n",
       "\t<tr><th scope=row>15</th><td>Lightning</td><td>INJURIES</td><td>5230</td></tr>\n",
       "\t<tr><th scope=row>16</th><td>Tstm wind</td><td>INJURIES</td><td>6957</td></tr>\n",
       "\t<tr><th scope=row>17</th><td>Flood</td><td>INJURIES</td><td>6789</td></tr>\n",
       "\t<tr><th scope=row>18</th><td>Rip current</td><td>INJURIES</td><td>232</td></tr>\n",
       "\t<tr><th scope=row>19</th><td>High wind</td><td>INJURIES</td><td>1137</td></tr>\n",
       "\t<tr><th scope=row>20</th><td>Avalanche</td><td>INJURIES</td><td>170</td></tr>\n",
       "</tbody>\n",
       "</table>\n"
      ],
      "text/latex": [
       "\\begin{tabular}{r|lll}\n",
       "  & EVTYPE & variable & value\\\\\n",
       "\\hline\n",
       "\t1 & Tornado & FATALITIES & 5633\\\\\n",
       "\t2 & Excessive heat & FATALITIES & 1903\\\\\n",
       "\t3 & Flash flood & FATALITIES & 978\\\\\n",
       "\t4 & Heat & FATALITIES & 937\\\\\n",
       "\t5 & Lightning & FATALITIES & 816\\\\\n",
       "\t6 & Tstm wind & FATALITIES & 504\\\\\n",
       "\t7 & Flood & FATALITIES & 470\\\\\n",
       "\t8 & Rip current & FATALITIES & 368\\\\\n",
       "\t9 & High wind & FATALITIES & 248\\\\\n",
       "\t10 & Avalanche & FATALITIES & 224\\\\\n",
       "\t11 & Tornado & INJURIES & 91346\\\\\n",
       "\t12 & Excessive heat & INJURIES & 6525\\\\\n",
       "\t13 & Flash flood & INJURIES & 1777\\\\\n",
       "\t14 & Heat & INJURIES & 2100\\\\\n",
       "\t15 & Lightning & INJURIES & 5230\\\\\n",
       "\t16 & Tstm wind & INJURIES & 6957\\\\\n",
       "\t17 & Flood & INJURIES & 6789\\\\\n",
       "\t18 & Rip current & INJURIES & 232\\\\\n",
       "\t19 & High wind & INJURIES & 1137\\\\\n",
       "\t20 & Avalanche & INJURIES & 170\\\\\n",
       "\\end{tabular}\n"
      ],
      "text/plain": [
       "           EVTYPE   variable value\n",
       "1         Tornado FATALITIES  5633\n",
       "2  Excessive heat FATALITIES  1903\n",
       "3     Flash flood FATALITIES   978\n",
       "4            Heat FATALITIES   937\n",
       "5       Lightning FATALITIES   816\n",
       "6       Tstm wind FATALITIES   504\n",
       "7           Flood FATALITIES   470\n",
       "8     Rip current FATALITIES   368\n",
       "9       High wind FATALITIES   248\n",
       "10      Avalanche FATALITIES   224\n",
       "11        Tornado   INJURIES 91346\n",
       "12 Excessive heat   INJURIES  6525\n",
       "13    Flash flood   INJURIES  1777\n",
       "14           Heat   INJURIES  2100\n",
       "15      Lightning   INJURIES  5230\n",
       "16      Tstm wind   INJURIES  6957\n",
       "17          Flood   INJURIES  6789\n",
       "18    Rip current   INJURIES   232\n",
       "19      High wind   INJURIES  1137\n",
       "20      Avalanche   INJURIES   170"
      ]
     },
     "execution_count": 26,
     "metadata": {},
     "output_type": "execute_result"
    }
   ],
   "source": [
    "dam <- melt(head(damages[order(-damages$FATALITIES, -damages$INJURIES), ], 10));dam"
   ]
  },
  {
   "cell_type": "code",
   "execution_count": 29,
   "metadata": {
    "collapsed": false
   },
   "outputs": [
    {
     "data": {
      "text/html": [
       "<ol class=list-inline>\n",
       "\t<li>2.5e+07</li>\n",
       "\t<li>2500000</li>\n",
       "\t<li>2.5e+07</li>\n",
       "\t<li>2500000</li>\n",
       "\t<li>2500000</li>\n",
       "\t<li>2500000</li>\n",
       "</ol>\n"
      ],
      "text/latex": [
       "\\begin{enumerate*}\n",
       "\\item 2.5e+07\n",
       "\\item 2500000\n",
       "\\item 2.5e+07\n",
       "\\item 2500000\n",
       "\\item 2500000\n",
       "\\item 2500000\n",
       "\\end{enumerate*}\n"
      ],
      "text/markdown": [
       "1. 2.5e+07\n",
       "2. 2500000\n",
       "3. 2.5e+07\n",
       "4. 2500000\n",
       "5. 2500000\n",
       "6. 2500000\n",
       "\n",
       "\n"
      ],
      "text/plain": [
       "[1] 2.5e+07 2.5e+06 2.5e+07 2.5e+06 2.5e+06 2.5e+06"
      ]
     },
     "execution_count": 29,
     "metadata": {},
     "output_type": "execute_result"
    }
   ],
   "source": [
    "stormdata$PROPDMG <- stormdata$PROPDMG * as.numeric(Recode(stormdata$PROPDMGEXP, \n",
    "    \"'0'=1;'1'=10;'2'=100;'3'=1000;'4'=10000;'5'=100000;'6'=1000000;'7'=10000000;'8'=100000000;'B'=1000000000;'h'=100;'H'=100;'K'=1000;'m'=1000000;'M'=1000000;'-'=0;'?'=0;'+'=0\", \n",
    "    as.factor.result = FALSE)); head(stormdata$PROPDMG)"
   ]
  },
  {
   "cell_type": "code",
   "execution_count": 30,
   "metadata": {
    "collapsed": false
   },
   "outputs": [
    {
     "data": {
      "text/html": [
       "<ol class=list-inline>\n",
       "\t<li>0</li>\n",
       "\t<li>0</li>\n",
       "\t<li>0</li>\n",
       "\t<li>0</li>\n",
       "\t<li>0</li>\n",
       "\t<li>0</li>\n",
       "</ol>\n"
      ],
      "text/latex": [
       "\\begin{enumerate*}\n",
       "\\item 0\n",
       "\\item 0\n",
       "\\item 0\n",
       "\\item 0\n",
       "\\item 0\n",
       "\\item 0\n",
       "\\end{enumerate*}\n"
      ],
      "text/markdown": [
       "1. 0\n",
       "2. 0\n",
       "3. 0\n",
       "4. 0\n",
       "5. 0\n",
       "6. 0\n",
       "\n",
       "\n"
      ],
      "text/plain": [
       "[1] 0 0 0 0 0 0"
      ]
     },
     "execution_count": 30,
     "metadata": {},
     "output_type": "execute_result"
    }
   ],
   "source": [
    "stormdata$CROPDMG <- stormdata$CROPDMG * as.numeric(Recode(stormdata$CROPDMGEXP, \n",
    "    \"'0'=1;'2'=100;'B'=1000000000;'k'=1000;'K'=1000;'m'=1000000;'M'=1000000;''=0;'?'=0\", \n",
    "    as.factor.result = FALSE)); head(stormdata$CROPDMG)"
   ]
  },
  {
   "cell_type": "code",
   "execution_count": 31,
   "metadata": {
    "collapsed": false
   },
   "outputs": [
    {
     "data": {
      "text/html": [
       "<table>\n",
       "<thead><tr><th></th><th scope=col>EVTYPE</th><th scope=col>PROPDMG</th><th scope=col>CROPDMG</th></tr></thead>\n",
       "<tbody>\n",
       "\t<tr><th scope=row>1</th><td>   high surf advisory</td><td>2e+08</td><td>0</td></tr>\n",
       "\t<tr><th scope=row>2</th><td> flash flood</td><td>5e+07</td><td>0</td></tr>\n",
       "\t<tr><th scope=row>3</th><td> tstm wind</td><td>8.0001e+12</td><td>0</td></tr>\n",
       "\t<tr><th scope=row>4</th><td> tstm wind (g45)</td><td>8e+06</td><td>0</td></tr>\n",
       "\t<tr><th scope=row>5</th><td>?</td><td>5e+06</td><td>0</td></tr>\n",
       "\t<tr><th scope=row>6</th><td>Apache county</td><td>5e+06</td><td>0</td></tr>\n",
       "</tbody>\n",
       "</table>\n"
      ],
      "text/latex": [
       "\\begin{tabular}{r|lll}\n",
       "  & EVTYPE & PROPDMG & CROPDMG\\\\\n",
       "\\hline\n",
       "\t1 &    high surf advisory & 2e+08 & 0\\\\\n",
       "\t2 &  flash flood & 5e+07 & 0\\\\\n",
       "\t3 &  tstm wind & 8.0001e+12 & 0\\\\\n",
       "\t4 &  tstm wind (g45) & 8e+06 & 0\\\\\n",
       "\t5 & ? & 5e+06 & 0\\\\\n",
       "\t6 & Apache county & 5e+06 & 0\\\\\n",
       "\\end{tabular}\n"
      ],
      "text/plain": [
       "                 EVTYPE    PROPDMG CROPDMG\n",
       "1    high surf advisory 2.0000e+08       0\n",
       "2           flash flood 5.0000e+07       0\n",
       "3             tstm wind 8.0001e+12       0\n",
       "4       tstm wind (g45) 8.0000e+06       0\n",
       "5                     ? 5.0000e+06       0\n",
       "6         Apache county 5.0000e+06       0"
      ]
     },
     "execution_count": 31,
     "metadata": {},
     "output_type": "execute_result"
    },
    {
     "name": "stderr",
     "output_type": "stream",
     "text": [
      "Using EVTYPE as id variables\n"
     ]
    },
    {
     "data": {
      "text/html": [
       "<table>\n",
       "<thead><tr><th></th><th scope=col>EVTYPE</th><th scope=col>variable</th><th scope=col>value</th></tr></thead>\n",
       "<tbody>\n",
       "\t<tr><th scope=row>1</th><td>Flood</td><td>PROPDMG</td><td>1.225213e+20</td></tr>\n",
       "\t<tr><th scope=row>2</th><td>Hurricane/typhoon</td><td>PROPDMG</td><td>6.55038e+19</td></tr>\n",
       "\t<tr><th scope=row>3</th><td>Storm surge</td><td>PROPDMG</td><td>4.256074e+19</td></tr>\n",
       "\t<tr><th scope=row>4</th><td>Hurricane</td><td>PROPDMG</td><td>5.706159e+18</td></tr>\n",
       "\t<tr><th scope=row>5</th><td>Tornado</td><td>PROPDMG</td><td>5.348478e+18</td></tr>\n",
       "\t<tr><th scope=row>6</th><td>Tropical storm</td><td>PROPDMG</td><td>5.152508e+18</td></tr>\n",
       "</tbody>\n",
       "</table>\n"
      ],
      "text/latex": [
       "\\begin{tabular}{r|lll}\n",
       "  & EVTYPE & variable & value\\\\\n",
       "\\hline\n",
       "\t1 & Flood & PROPDMG & 1.225213e+20\\\\\n",
       "\t2 & Hurricane/typhoon & PROPDMG & 6.55038e+19\\\\\n",
       "\t3 & Storm surge & PROPDMG & 4.256074e+19\\\\\n",
       "\t4 & Hurricane & PROPDMG & 5.706159e+18\\\\\n",
       "\t5 & Tornado & PROPDMG & 5.348478e+18\\\\\n",
       "\t6 & Tropical storm & PROPDMG & 5.152508e+18\\\\\n",
       "\\end{tabular}\n"
      ],
      "text/plain": [
       "             EVTYPE variable        value\n",
       "1             Flood  PROPDMG 1.225213e+20\n",
       "2 Hurricane/typhoon  PROPDMG 6.550380e+19\n",
       "3       Storm surge  PROPDMG 4.256074e+19\n",
       "4         Hurricane  PROPDMG 5.706159e+18\n",
       "5           Tornado  PROPDMG 5.348478e+18\n",
       "6    Tropical storm  PROPDMG 5.152508e+18"
      ]
     },
     "execution_count": 31,
     "metadata": {},
     "output_type": "execute_result"
    }
   ],
   "source": [
    "economic <- aggregate(cbind(PROPDMG, CROPDMG) ~ EVTYPE, stormdata, sum); head(economic)\n",
    "eco <- melt(head(economic[order(-economic$PROPDMG, -economic$CROPDMG), ], 10)); head(eco)"
   ]
  },
  {
   "cell_type": "markdown",
   "metadata": {},
   "source": [
    "## Results ##\n",
    "\n",
    "### Human casualties ###\n",
    "\n",
    "* Question: Across the United States, which types of events (as indicated in the EVTYPE variable) are most harmful with respect to population health?\n",
    "\n",
    "By using the ggplot2 library we present a combined flipped barplot graph of the fatal (Deaths) and non-fatal Injuries, by event type."
   ]
  },
  {
   "cell_type": "code",
   "execution_count": 41,
   "metadata": {
    "collapsed": false
   },
   "outputs": [
    {
     "data": {
      "image/png": "[encoded data removed]"
     },
     "metadata": {},
     "output_type": "display_data"
    }
   ],
   "source": [
    "options(jupyter.plot_mimetypes = \"image/png\") \n",
    "#options(jupyter.plot_mimetypes = \"image/svg+xml\")\n",
    "options(repr.plot.width = 8, repr.plot.height = 3)\n",
    "ggplot(dam, aes(x = EVTYPE, y = value, fill = variable)) + geom_bar(stat = \"identity\") + \n",
    "    coord_flip() + ggtitle(\"Harmful events\") + labs(x = \"\", y = \"Number of people impacted\") + \n",
    "    scale_fill_manual(values = c(\"orange\", \"black\"), labels = c(\"Deaths\", \"Injuries\"))"
   ]
  },
  {
   "cell_type": "markdown",
   "metadata": {},
   "source": [
    "### Economic impact ###\n",
    "\n",
    "* Question: Across the United States, which types of events have the greatest economic consequences?\n",
    "\n",
    "By using the ggplot2 library we present a combined flipped barplot graph of the property and corp damages, by event type."
   ]
  },
  {
   "cell_type": "code",
   "execution_count": 48,
   "metadata": {
    "collapsed": false
   },
   "outputs": [
    {
     "data": {
      "image/png": "[encoded data removed]"
     },
     "metadata": {},
     "output_type": "display_data"
    }
   ],
   "source": [
    "options(jupyter.plot_mimetypes = \"image/png\") \n",
    "#options(jupyter.plot_mimetypes = \"image/svg+xml\")\n",
    "options(repr.plot.width = 8, repr.plot.height = 3)\n",
    "ggplot(eco, aes(x = EVTYPE, y = value, fill = variable)) + geom_bar(stat = \"identity\") + \n",
    "    coord_flip() + ggtitle(\"Economic consequences\") + labs(x = \"\", y = \"Cost of damages in dollars\") + \n",
    "    scale_fill_manual(values = c(\"orange\", \"black\"), labels = c(\"Property Damage\", \"Crop Damage\"))"
   ]
  },
  {
   "cell_type": "code",
   "execution_count": null,
   "metadata": {
    "collapsed": true
   },
   "outputs": [],
   "source": []
  }
 ],
 "metadata": {
  "kernelspec": {
   "display_name": "R",
   "language": "R",
   "name": "ir"
  },
  "language_info": {
   "codemirror_mode": "r",
   "file_extension": ".r",
   "mimetype": "text/x-r-source",
   "name": "R",
   "pygments_lexer": "r",
   "version": "3.2.4"
  },
  "widgets": {
   "state": {},
   "version": "1.1.1"
  }
 },
 "nbformat": 4,
 "nbformat_minor": 0
}
