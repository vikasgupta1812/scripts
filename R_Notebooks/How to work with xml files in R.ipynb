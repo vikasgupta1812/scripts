{
 "cells": [
  {
   "cell_type": "code",
   "execution_count": 1,
   "metadata": {
    "collapsed": true
   },
   "outputs": [],
   "source": [
    "library(XML)\n",
    "fileurl <- \"http://www.w3schools.com/xml/simple.xml\"\n",
    "doc <- xmlTreeParse(fileurl,useInternal=TRUE)"
   ]
  },
  {
   "cell_type": "code",
   "execution_count": 2,
   "metadata": {
    "collapsed": false
   },
   "outputs": [
    {
     "data": {
      "text/plain": [
       "<?xml version=\"1.0\" encoding=\"UTF-8\"?>\n",
       "<breakfast_menu>\n",
       "  <food>\n",
       "    <name>Belgian Waffles</name>\n",
       "    <price>$5.95</price>\n",
       "    <description>Two of our famous Belgian Waffles with plenty of real maple syrup</description>\n",
       "    <calories>650</calories>\n",
       "  </food>\n",
       "  <food>\n",
       "    <name>Strawberry Belgian Waffles</name>\n",
       "    <price>$7.95</price>\n",
       "    <description>Light Belgian waffles covered with strawberries and whipped cream</description>\n",
       "    <calories>900</calories>\n",
       "  </food>\n",
       "  <food>\n",
       "    <name>Berry-Berry Belgian Waffles</name>\n",
       "    <price>$8.95</price>\n",
       "    <description>Light Belgian waffles covered with an assortment of fresh berries and whipped cream</description>\n",
       "    <calories>900</calories>\n",
       "  </food>\n",
       "  <food>\n",
       "    <name>French Toast</name>\n",
       "    <price>$4.50</price>\n",
       "    <description>Thick slices made from our homemade sourdough bread</description>\n",
       "    <calories>600</calories>\n",
       "  </food>\n",
       "  <food>\n",
       "    <name>Homestyle Breakfast</name>\n",
       "    <price>$6.95</price>\n",
       "    <description>Two eggs, bacon or sausage, toast, and our ever-popular hash browns</description>\n",
       "    <calories>950</calories>\n",
       "  </food>\n",
       "</breakfast_menu>\n",
       " "
      ]
     },
     "execution_count": 2,
     "metadata": {},
     "output_type": "execute_result"
    }
   ],
   "source": [
    "doc"
   ]
  },
  {
   "cell_type": "code",
   "execution_count": 3,
   "metadata": {
    "collapsed": false
   },
   "outputs": [
    {
     "data": {
      "text/html": [
       "<ol class=list-inline>\n",
       "\t<li>'XMLInternalDocument'</li>\n",
       "\t<li>'XMLAbstractDocument'</li>\n",
       "</ol>\n"
      ],
      "text/latex": [
       "\\begin{enumerate*}\n",
       "\\item 'XMLInternalDocument'\n",
       "\\item 'XMLAbstractDocument'\n",
       "\\end{enumerate*}\n"
      ],
      "text/markdown": [
       "1. 'XMLInternalDocument'\n",
       "2. 'XMLAbstractDocument'\n",
       "\n",
       "\n"
      ],
      "text/plain": [
       "[1] \"XMLInternalDocument\" \"XMLAbstractDocument\""
      ]
     },
     "execution_count": 3,
     "metadata": {},
     "output_type": "execute_result"
    }
   ],
   "source": [
    "class(doc)"
   ]
  },
  {
   "cell_type": "code",
   "execution_count": 5,
   "metadata": {
    "collapsed": false
   },
   "outputs": [
    {
     "data": {
      "text/plain": [
       "<breakfast_menu>\n",
       "  <food>\n",
       "    <name>Belgian Waffles</name>\n",
       "    <price>$5.95</price>\n",
       "    <description>Two of our famous Belgian Waffles with plenty of real maple syrup</description>\n",
       "    <calories>650</calories>\n",
       "  </food>\n",
       "  <food>\n",
       "    <name>Strawberry Belgian Waffles</name>\n",
       "    <price>$7.95</price>\n",
       "    <description>Light Belgian waffles covered with strawberries and whipped cream</description>\n",
       "    <calories>900</calories>\n",
       "  </food>\n",
       "  <food>\n",
       "    <name>Berry-Berry Belgian Waffles</name>\n",
       "    <price>$8.95</price>\n",
       "    <description>Light Belgian waffles covered with an assortment of fresh berries and whipped cream</description>\n",
       "    <calories>900</calories>\n",
       "  </food>\n",
       "  <food>\n",
       "    <name>French Toast</name>\n",
       "    <price>$4.50</price>\n",
       "    <description>Thick slices made from our homemade sourdough bread</description>\n",
       "    <calories>600</calories>\n",
       "  </food>\n",
       "  <food>\n",
       "    <name>Homestyle Breakfast</name>\n",
       "    <price>$6.95</price>\n",
       "    <description>Two eggs, bacon or sausage, toast, and our ever-popular hash browns</description>\n",
       "    <calories>950</calories>\n",
       "  </food>\n",
       "</breakfast_menu> "
      ]
     },
     "execution_count": 5,
     "metadata": {},
     "output_type": "execute_result"
    }
   ],
   "source": [
    "rootNode <- xmlRoot(doc)\n",
    "rootNode"
   ]
  },
  {
   "cell_type": "code",
   "execution_count": 6,
   "metadata": {
    "collapsed": false
   },
   "outputs": [
    {
     "data": {
      "text/html": [
       "'breakfast_menu'"
      ],
      "text/latex": [
       "'breakfast_menu'"
      ],
      "text/markdown": [
       "'breakfast_menu'"
      ],
      "text/plain": [
       "[1] \"breakfast_menu\""
      ]
     },
     "execution_count": 6,
     "metadata": {},
     "output_type": "execute_result"
    }
   ],
   "source": [
    "xmlName(rootNode)"
   ]
  },
  {
   "cell_type": "code",
   "execution_count": 7,
   "metadata": {
    "collapsed": false
   },
   "outputs": [
    {
     "data": {
      "text/plain": [
       "$food\n",
       "<food>\n",
       "  <name>Belgian Waffles</name>\n",
       "  <price>$5.95</price>\n",
       "  <description>Two of our famous Belgian Waffles with plenty of real maple syrup</description>\n",
       "  <calories>650</calories>\n",
       "</food> \n",
       "\n",
       "attr(,\"class\")\n",
       "[1] \"XMLInternalNodeList\" \"XMLNodeList\"        "
      ]
     },
     "execution_count": 7,
     "metadata": {},
     "output_type": "execute_result"
    }
   ],
   "source": [
    "rootNode[1]"
   ]
  },
  {
   "cell_type": "code",
   "execution_count": 8,
   "metadata": {
    "collapsed": false
   },
   "outputs": [
    {
     "data": {
      "text/plain": [
       "<food>\n",
       "  <name>Belgian Waffles</name>\n",
       "  <price>$5.95</price>\n",
       "  <description>Two of our famous Belgian Waffles with plenty of real maple syrup</description>\n",
       "  <calories>650</calories>\n",
       "</food> "
      ]
     },
     "execution_count": 8,
     "metadata": {},
     "output_type": "execute_result"
    }
   ],
   "source": [
    "rootNode[[1]]"
   ]
  },
  {
   "cell_type": "code",
   "execution_count": 9,
   "metadata": {
    "collapsed": false
   },
   "outputs": [
    {
     "data": {
      "text/plain": [
       "<name>Belgian Waffles</name> "
      ]
     },
     "execution_count": 9,
     "metadata": {},
     "output_type": "execute_result"
    }
   ],
   "source": [
    "rootNode[[1]][[1]]"
   ]
  },
  {
   "cell_type": "code",
   "execution_count": 10,
   "metadata": {
    "collapsed": false
   },
   "outputs": [
    {
     "data": {
      "text/html": [
       "<dl class=dl-horizontal>\n",
       "\t<dt>food</dt>\n",
       "\t\t<dd>'Belgian Waffles$5.95Two of our famous Belgian Waffles with plenty of real maple syrup650'</dd>\n",
       "\t<dt>food</dt>\n",
       "\t\t<dd>'Strawberry Belgian Waffles$7.95Light Belgian waffles covered with strawberries and whipped cream900'</dd>\n",
       "\t<dt>food</dt>\n",
       "\t\t<dd>'Berry-Berry Belgian Waffles$8.95Light Belgian waffles covered with an assortment of fresh berries and whipped cream900'</dd>\n",
       "\t<dt>food</dt>\n",
       "\t\t<dd>'French Toast$4.50Thick slices made from our homemade sourdough bread600'</dd>\n",
       "\t<dt>food</dt>\n",
       "\t\t<dd>'Homestyle Breakfast$6.95Two eggs, bacon or sausage, toast, and our ever-popular hash browns950'</dd>\n",
       "</dl>\n"
      ],
      "text/latex": [
       "\\begin{description*}\n",
       "\\item[food] 'Belgian Waffles$5.95Two of our famous Belgian Waffles with plenty of real maple syrup650'\n",
       "\\item[food] 'Strawberry Belgian Waffles$7.95Light Belgian waffles covered with strawberries and whipped cream900'\n",
       "\\item[food] 'Berry-Berry Belgian Waffles$8.95Light Belgian waffles covered with an assortment of fresh berries and whipped cream900'\n",
       "\\item[food] 'French Toast$4.50Thick slices made from our homemade sourdough bread600'\n",
       "\\item[food] 'Homestyle Breakfast$6.95Two eggs, bacon or sausage, toast, and our ever-popular hash browns950'\n",
       "\\end{description*}\n"
      ],
      "text/markdown": [
       "food\n",
       ":   'Belgian Waffles$5.95Two of our famous Belgian Waffles with plenty of real maple syrup650'food\n",
       ":   'Strawberry Belgian Waffles$7.95Light Belgian waffles covered with strawberries and whipped cream900'food\n",
       ":   'Berry-Berry Belgian Waffles$8.95Light Belgian waffles covered with an assortment of fresh berries and whipped cream900'food\n",
       ":   'French Toast$4.50Thick slices made from our homemade sourdough bread600'food\n",
       ":   'Homestyle Breakfast$6.95Two eggs, bacon or sausage, toast, and our ever-popular hash browns950'\n",
       "\n"
      ],
      "text/plain": [
       "                                                                                                                    food \n",
       "                              \"Belgian Waffles$5.95Two of our famous Belgian Waffles with plenty of real maple syrup650\" \n",
       "                                                                                                                    food \n",
       "                   \"Strawberry Belgian Waffles$7.95Light Belgian waffles covered with strawberries and whipped cream900\" \n",
       "                                                                                                                    food \n",
       "\"Berry-Berry Belgian Waffles$8.95Light Belgian waffles covered with an assortment of fresh berries and whipped cream900\" \n",
       "                                                                                                                    food \n",
       "                                               \"French Toast$4.50Thick slices made from our homemade sourdough bread600\" \n",
       "                                                                                                                    food \n",
       "                        \"Homestyle Breakfast$6.95Two eggs, bacon or sausage, toast, and our ever-popular hash browns950\" "
      ]
     },
     "execution_count": 10,
     "metadata": {},
     "output_type": "execute_result"
    }
   ],
   "source": [
    "xmlSApply(rootNode,xmlValue)"
   ]
  },
  {
   "cell_type": "code",
   "execution_count": 11,
   "metadata": {
    "collapsed": false
   },
   "outputs": [
    {
     "data": {
      "text/html": [
       "<ol class=list-inline>\n",
       "\t<li>'Belgian Waffles'</li>\n",
       "\t<li>'Strawberry Belgian Waffles'</li>\n",
       "\t<li>'Berry-Berry Belgian Waffles'</li>\n",
       "\t<li>'French Toast'</li>\n",
       "\t<li>'Homestyle Breakfast'</li>\n",
       "</ol>\n"
      ],
      "text/latex": [
       "\\begin{enumerate*}\n",
       "\\item 'Belgian Waffles'\n",
       "\\item 'Strawberry Belgian Waffles'\n",
       "\\item 'Berry-Berry Belgian Waffles'\n",
       "\\item 'French Toast'\n",
       "\\item 'Homestyle Breakfast'\n",
       "\\end{enumerate*}\n"
      ],
      "text/markdown": [
       "1. 'Belgian Waffles'\n",
       "2. 'Strawberry Belgian Waffles'\n",
       "3. 'Berry-Berry Belgian Waffles'\n",
       "4. 'French Toast'\n",
       "5. 'Homestyle Breakfast'\n",
       "\n",
       "\n"
      ],
      "text/plain": [
       "[1] \"Belgian Waffles\"             \"Strawberry Belgian Waffles\" \n",
       "[3] \"Berry-Berry Belgian Waffles\" \"French Toast\"               \n",
       "[5] \"Homestyle Breakfast\"        "
      ]
     },
     "execution_count": 11,
     "metadata": {},
     "output_type": "execute_result"
    }
   ],
   "source": [
    "xpathSApply(rootNode,\"//name\",xmlValue)"
   ]
  },
  {
   "cell_type": "markdown",
   "metadata": {},
   "source": [
    "----"
   ]
  },
  {
   "cell_type": "code",
   "execution_count": 2,
   "metadata": {
    "collapsed": true
   },
   "outputs": [],
   "source": [
    "library(XML)"
   ]
  },
  {
   "cell_type": "code",
   "execution_count": 4,
   "metadata": {
    "collapsed": false
   },
   "outputs": [],
   "source": [
    "fileurl<-\"https://d396qusza40orc.cloudfront.net/getdata%2Fdata%2Frestaurants.xml\"\n",
    "if(!file.exists('./data/balt.xml')) {\n",
    "    download.file(fileurl,destfile=\"./data/balt.xml\",method=\"curl\")\n",
    "    dateDownloaded <- date()\n",
    "}\n",
    "doc <- xmlTreeParse(\"./data/balt.xml\",useInternal=TRUE)"
   ]
  },
  {
   "cell_type": "code",
   "execution_count": 6,
   "metadata": {
    "collapsed": false
   },
   "outputs": [],
   "source": [
    "rootNode<-xmlRoot(doc)"
   ]
  },
  {
   "cell_type": "code",
   "execution_count": 7,
   "metadata": {
    "collapsed": false
   },
   "outputs": [
    {
     "data": {
      "text/html": [
       "<ol class=list-inline>\n",
       "\t<li>\"1919\"</li>\n",
       "\t<li>\"300 SOUTH ANN STREET\"</li>\n",
       "\t<li>\"ADMIRAL FELL INN\"</li>\n",
       "\t<li>\"ALE MARY'S\"</li>\n",
       "\t<li>\"ALEXANDER'S TAVERN\"</li>\n",
       "\t<li>\"BERTHA'S RESTAURANT\"</li>\n",
       "\t<li>\"BIRDS OF A FEATHER\"</li>\n",
       "\t<li>\"BLARNEY STONE PUB\"</li>\n",
       "\t<li>\"ARCOS\"</li>\n",
       "\t<li>\"ARIZONA BAR & GRILL\"</li>\n",
       "\t<li>\"ASAHI SUSHI\"</li>\n",
       "\t<li>\"BALTMORE KICKERS\"</li>\n",
       "\t<li>\"BARTENDERS\"</li>\n",
       "\t<li>\"BLUE MOON  DINING  HOUSE  & EXPRESSO  BAR\"</li>\n",
       "\t<li>\"BLUEHOUSE\"</li>\n",
       "\t<li>\"BOP BRICK OVEN PIZZA\"</li>\n",
       "\t<li>\"BRASS MONKEY SALOON\"</li>\n",
       "\t<li>\"BREWSTER'S TAVERN\"</li>\n",
       "\t<li>\"BRUCE MCKELDIN CONSULTING, LLC\"</li>\n",
       "\t<li>\"BURGER KING\"</li>\n",
       "\t<li>\"BUTTS & BETTY'S TAVERN, INC.\"</li>\n",
       "\t<li>\"B-WATCH\"</li>\n",
       "\t<li>\"CAF<c2><90> LATTE 'DA\"</li>\n",
       "\t<li>\"CARL REFEERS BAR & GRILL\"</li>\n",
       "\t<li>\"CAROLINAS TEX- MEX RESTAURANT\"</li>\n",
       "\t<li>\"CAROLINA'S TEX-MEX RESTURANT\"</li>\n",
       "\t<li>\"CASTAWAY'S BAR &  GRILL\"</li>\n",
       "\t<li>\"CHEERLEADERS\"</li>\n",
       "\t<li>\"CHEERLEADERS SPORTS BAR\"</li>\n",
       "\t<li>\"CHUBBIES CLUB\"</li>\n",
       "\t<li>\"CINCO DE MAYO\"</li>\n",
       "\t<li>\"CLUB CONFETTI\"</li>\n",
       "\t<li>\"DEAD END SALOON\"</li>\n",
       "\t<li>\"DING HOW RESTAURANT\"</li>\n",
       "\t<li>\"DUCLAW BREWING COMPANY\"</li>\n",
       "\t<li>\"DUDA'S TAVERN\"</li>\n",
       "\t<li>\"ECLECTIC CAF<c2><90>\"</li>\n",
       "\t<li>\"EL RECODO, INC.\"</li>\n",
       "\t<li>\"EL RINCONCITO PERUANO\"</li>\n",
       "\t<li>\"FELL'S POINT CARRYOUT\"</li>\n",
       "\t<li>\"FIVE POINT TAVERN\"</li>\n",
       "\t<li>\"FLETCHERS\"</li>\n",
       "\t<li>\"FRIEND'S RESTAURANT AND SPIRITS\"</li>\n",
       "\t<li>\"FULL MOON SALOON\"</li>\n",
       "\t<li>\"GEN-JOSEPH HALLER POST #95, AMERICAN LEGION, INC.\"</li>\n",
       "\t<li>\"GIBSON'S\"</li>\n",
       "\t<li>\"JAZZY BLUES CLUB\"</li>\n",
       "\t<li>\"JHJ SALOON\"</li>\n",
       "\t<li>\"JIMMY'S RESTAURANT\"</li>\n",
       "\t<li>\"KABOBBI RESTAURANT\"</li>\n",
       "\t<li>\"KALI'S COURT\"</li>\n",
       "\t<li>\"QUIZNOS OF FELLS POINT\"</li>\n",
       "\t<li>\"QUO VADIS DEMOCRATIC CLUB\"</li>\n",
       "\t<li>\"RA SUSHI\"</li>\n",
       "\t<li>\"RED HOUSE TAVERN INC.\"</li>\n",
       "\t<li>\"MUSTANG ALLEY'S\"</li>\n",
       "\t<li>\"HARRY OLIVER MANAGEMENT CO., INC.\"</li>\n",
       "\t<li>\"HENNINGER'S TAVERN\"</li>\n",
       "\t<li>\"HONEY'S LOUNGE\"</li>\n",
       "\t<li>\"HOT TOMATOES-CAF<c2><90> FORTUNATO\"</li>\n",
       "\t<li>\"ISLAND II\"</li>\n",
       "\t<li>\"KASBAH CAF<c2><90>\"</li>\n",
       "\t<li>\"KAWASAKI CAF<c2><90>\"</li>\n",
       "\t<li>\"KELLY'S\"</li>\n",
       "\t<li>\"KISLING'S TAVERN\"</li>\n",
       "\t<li>\"KOOPER'S TAVERN\"</li>\n",
       "\t<li>\"LA  CAZUELA RESTAURANT\"</li>\n",
       "\t<li>\"LA MARSA\"</li>\n",
       "\t<li>\"LA RUMBA\"</li>\n",
       "\t<li>\"LAS ESPERANZA\"</li>\n",
       "\t<li>\"LAS PALMAS MEXICAN RESTAURANT, INC.\"</li>\n",
       "\t<li>\"LATIN PALACE  (509-13)\"</li>\n",
       "\t<li>\"LEADBETTERS II\"</li>\n",
       "\t<li>\"LOS MARIACHIS RESTAURANT\"</li>\n",
       "\t<li>\"LOUISIANA\"</li>\n",
       "\t<li>\"LULU'S OFF BROADWAY\"</li>\n",
       "\t<li>\"MARY'S TAVERN\"</li>\n",
       "\t<li>\"MAX'S ON BROADWAY\"</li>\n",
       "\t<li>\"MEHEK\"</li>\n",
       "\t<li>\"MELI PATISSERIE & BISTRO\"</li>\n",
       "\t<li>\"MICHELLE'S CAF<c2><90>\"</li>\n",
       "\t<li>\"NEW RITZ CABARET\"</li>\n",
       "\t<li>\"OLDE OBRYCKI'S CRAB HOUSE (saesonal)\"</li>\n",
       "\t<li>\"ONE-EYED MIKE'S\"</li>\n",
       "\t<li>\"PARK INN\"</li>\n",
       "\t<li>\"PAZO\"</li>\n",
       "\t<li>\"PEARL'S\"</li>\n",
       "\t<li>\"PETE'S INN, INCORPORATED\"</li>\n",
       "\t<li>\"POLISH NATIONAL ALLIANCE, COUNCIL 21\"</li>\n",
       "\t<li>\"POPEYES FAMOUS FRIED CHICKEN\"</li>\n",
       "\t<li>\"restaurante el trovador\"</li>\n",
       "\t<li>\"restaurate el salvador\"</li>\n",
       "\t<li>\"RODOS  BAR\"</li>\n",
       "\t<li>\"ROSITAS RESTAURANT\"</li>\n",
       "\t<li>\"SALT\"</li>\n",
       "\t<li>\"SANTA ANA RESTURANT\"</li>\n",
       "\t<li>\"SHED ROW\"</li>\n",
       "\t<li>\"SHERRY'S PLACE\"</li>\n",
       "\t<li>\"SHUCKERS OF FELLS POINT\"</li>\n",
       "\t<li>\"SIG'S BAR\"</li>\n",
       "\t<li>\"SIP & BITE RESTAURANT\"</li>\n",
       "\t<li>\"SLAINTE IRISH PUB & RESTAURANT\"</li>\n",
       "\t<li>\"SMEDLY'S\"</li>\n",
       "\t<li>\"SOUTHERN ACCENTS\"</li>\n",
       "\t<li>\"SPIRITS TAVERN\"</li>\n",
       "\t<li>\"SUBWAY  RESTAURANT\"</li>\n",
       "\t<li>\"SUNLIGHT LOUNGE\"</li>\n",
       "\t<li>\"TAKI'S PIZZA CARRYOUT RESTAURANT\"</li>\n",
       "\t<li>\"TALAY THAI GRILLE\"</li>\n",
       "\t<li>\"THE ADMIRAL'S CUP\"</li>\n",
       "\t<li>\"THE BISTRO\"</li>\n",
       "\t<li>\"THE CANTON LIQUOR HOUSE\"</li>\n",
       "\t<li>\"THE CATS EYE PUB\"</li>\n",
       "\t<li>\"THE GREENE TURTLE\"</li>\n",
       "\t<li>\"THE HORSE YOU CAME IN ON\"</li>\n",
       "\t<li>\"THE LIFE OF REILLY IRISH PUB & RESTAURANT\"</li>\n",
       "\t<li>\"THE MORNING EDITION CAFE\"</li>\n",
       "\t<li>\"THE RED STAR BAR & GRILL\"</li>\n",
       "\t<li>\"THE WATERFRONT HOTEL\"</li>\n",
       "\t<li>\"TIJUANA TACOS & DELI\"</li>\n",
       "\t<li>\"TIMOTHY DEAN BISTRO\"</li>\n",
       "\t<li>\"TODD CONNERS\"</li>\n",
       "\t<li>\"Tyson's Tavern\"</li>\n",
       "\t<li>\"TYSON'S TAVERN\"</li>\n",
       "\t<li>\"WHISTLING OYSTER\"</li>\n",
       "\t<li>\"YOUNG'S PLACE\"</li>\n",
       "\t<li>\"ZIASCOS\"</li>\n",
       "</ol>\n"
      ],
      "text/latex": [
       "\\begin{enumerate*}\n",
       "\\item \"1919\"\n",
       "\\item \"300 SOUTH ANN STREET\"\n",
       "\\item \"ADMIRAL FELL INN\"\n",
       "\\item \"ALE MARY'S\"\n",
       "\\item \"ALEXANDER'S TAVERN\"\n",
       "\\item \"BERTHA'S RESTAURANT\"\n",
       "\\item \"BIRDS OF A FEATHER\"\n",
       "\\item \"BLARNEY STONE PUB\"\n",
       "\\item \"ARCOS\"\n",
       "\\item \"ARIZONA BAR & GRILL\"\n",
       "\\item \"ASAHI SUSHI\"\n",
       "\\item \"BALTMORE KICKERS\"\n",
       "\\item \"BARTENDERS\"\n",
       "\\item \"BLUE MOON  DINING  HOUSE  & EXPRESSO  BAR\"\n",
       "\\item \"BLUEHOUSE\"\n",
       "\\item \"BOP BRICK OVEN PIZZA\"\n",
       "\\item \"BRASS MONKEY SALOON\"\n",
       "\\item \"BREWSTER'S TAVERN\"\n",
       "\\item \"BRUCE MCKELDIN CONSULTING, LLC\"\n",
       "\\item \"BURGER KING\"\n",
       "\\item \"BUTTS & BETTY'S TAVERN, INC.\"\n",
       "\\item \"B-WATCH\"\n",
       "\\item \"CAF<c2><90> LATTE 'DA\"\n",
       "\\item \"CARL REFEERS BAR & GRILL\"\n",
       "\\item \"CAROLINAS TEX- MEX RESTAURANT\"\n",
       "\\item \"CAROLINA'S TEX-MEX RESTURANT\"\n",
       "\\item \"CASTAWAY'S BAR &  GRILL\"\n",
       "\\item \"CHEERLEADERS\"\n",
       "\\item \"CHEERLEADERS SPORTS BAR\"\n",
       "\\item \"CHUBBIES CLUB\"\n",
       "\\item \"CINCO DE MAYO\"\n",
       "\\item \"CLUB CONFETTI\"\n",
       "\\item \"DEAD END SALOON\"\n",
       "\\item \"DING HOW RESTAURANT\"\n",
       "\\item \"DUCLAW BREWING COMPANY\"\n",
       "\\item \"DUDA'S TAVERN\"\n",
       "\\item \"ECLECTIC CAF<c2><90>\"\n",
       "\\item \"EL RECODO, INC.\"\n",
       "\\item \"EL RINCONCITO PERUANO\"\n",
       "\\item \"FELL'S POINT CARRYOUT\"\n",
       "\\item \"FIVE POINT TAVERN\"\n",
       "\\item \"FLETCHERS\"\n",
       "\\item \"FRIEND'S RESTAURANT AND SPIRITS\"\n",
       "\\item \"FULL MOON SALOON\"\n",
       "\\item \"GEN-JOSEPH HALLER POST #95, AMERICAN LEGION, INC.\"\n",
       "\\item \"GIBSON'S\"\n",
       "\\item \"JAZZY BLUES CLUB\"\n",
       "\\item \"JHJ SALOON\"\n",
       "\\item \"JIMMY'S RESTAURANT\"\n",
       "\\item \"KABOBBI RESTAURANT\"\n",
       "\\item \"KALI'S COURT\"\n",
       "\\item \"QUIZNOS OF FELLS POINT\"\n",
       "\\item \"QUO VADIS DEMOCRATIC CLUB\"\n",
       "\\item \"RA SUSHI\"\n",
       "\\item \"RED HOUSE TAVERN INC.\"\n",
       "\\item \"MUSTANG ALLEY'S\"\n",
       "\\item \"HARRY OLIVER MANAGEMENT CO., INC.\"\n",
       "\\item \"HENNINGER'S TAVERN\"\n",
       "\\item \"HONEY'S LOUNGE\"\n",
       "\\item \"HOT TOMATOES-CAF<c2><90> FORTUNATO\"\n",
       "\\item \"ISLAND II\"\n",
       "\\item \"KASBAH CAF<c2><90>\"\n",
       "\\item \"KAWASAKI CAF<c2><90>\"\n",
       "\\item \"KELLY'S\"\n",
       "\\item \"KISLING'S TAVERN\"\n",
       "\\item \"KOOPER'S TAVERN\"\n",
       "\\item \"LA  CAZUELA RESTAURANT\"\n",
       "\\item \"LA MARSA\"\n",
       "\\item \"LA RUMBA\"\n",
       "\\item \"LAS ESPERANZA\"\n",
       "\\item \"LAS PALMAS MEXICAN RESTAURANT, INC.\"\n",
       "\\item \"LATIN PALACE  (509-13)\"\n",
       "\\item \"LEADBETTERS II\"\n",
       "\\item \"LOS MARIACHIS RESTAURANT\"\n",
       "\\item \"LOUISIANA\"\n",
       "\\item \"LULU'S OFF BROADWAY\"\n",
       "\\item \"MARY'S TAVERN\"\n",
       "\\item \"MAX'S ON BROADWAY\"\n",
       "\\item \"MEHEK\"\n",
       "\\item \"MELI PATISSERIE & BISTRO\"\n",
       "\\item \"MICHELLE'S CAF<c2><90>\"\n",
       "\\item \"NEW RITZ CABARET\"\n",
       "\\item \"OLDE OBRYCKI'S CRAB HOUSE (saesonal)\"\n",
       "\\item \"ONE-EYED MIKE'S\"\n",
       "\\item \"PARK INN\"\n",
       "\\item \"PAZO\"\n",
       "\\item \"PEARL'S\"\n",
       "\\item \"PETE'S INN, INCORPORATED\"\n",
       "\\item \"POLISH NATIONAL ALLIANCE, COUNCIL 21\"\n",
       "\\item \"POPEYES FAMOUS FRIED CHICKEN\"\n",
       "\\item \"restaurante el trovador\"\n",
       "\\item \"restaurate el salvador\"\n",
       "\\item \"RODOS  BAR\"\n",
       "\\item \"ROSITAS RESTAURANT\"\n",
       "\\item \"SALT\"\n",
       "\\item \"SANTA ANA RESTURANT\"\n",
       "\\item \"SHED ROW\"\n",
       "\\item \"SHERRY'S PLACE\"\n",
       "\\item \"SHUCKERS OF FELLS POINT\"\n",
       "\\item \"SIG'S BAR\"\n",
       "\\item \"SIP & BITE RESTAURANT\"\n",
       "\\item \"SLAINTE IRISH PUB & RESTAURANT\"\n",
       "\\item \"SMEDLY'S\"\n",
       "\\item \"SOUTHERN ACCENTS\"\n",
       "\\item \"SPIRITS TAVERN\"\n",
       "\\item \"SUBWAY  RESTAURANT\"\n",
       "\\item \"SUNLIGHT LOUNGE\"\n",
       "\\item \"TAKI'S PIZZA CARRYOUT RESTAURANT\"\n",
       "\\item \"TALAY THAI GRILLE\"\n",
       "\\item \"THE ADMIRAL'S CUP\"\n",
       "\\item \"THE BISTRO\"\n",
       "\\item \"THE CANTON LIQUOR HOUSE\"\n",
       "\\item \"THE CATS EYE PUB\"\n",
       "\\item \"THE GREENE TURTLE\"\n",
       "\\item \"THE HORSE YOU CAME IN ON\"\n",
       "\\item \"THE LIFE OF REILLY IRISH PUB & RESTAURANT\"\n",
       "\\item \"THE MORNING EDITION CAFE\"\n",
       "\\item \"THE RED STAR BAR & GRILL\"\n",
       "\\item \"THE WATERFRONT HOTEL\"\n",
       "\\item \"TIJUANA TACOS & DELI\"\n",
       "\\item \"TIMOTHY DEAN BISTRO\"\n",
       "\\item \"TODD CONNERS\"\n",
       "\\item \"Tyson's Tavern\"\n",
       "\\item \"TYSON'S TAVERN\"\n",
       "\\item \"WHISTLING OYSTER\"\n",
       "\\item \"YOUNG'S PLACE\"\n",
       "\\item \"ZIASCOS\"\n",
       "\\end{enumerate*}\n"
      ],
      "text/markdown": [
       "1. \"1919\"\n",
       "2. \"300 SOUTH ANN STREET\"\n",
       "3. \"ADMIRAL FELL INN\"\n",
       "4. \"ALE MARY'S\"\n",
       "5. \"ALEXANDER'S TAVERN\"\n",
       "6. \"BERTHA'S RESTAURANT\"\n",
       "7. \"BIRDS OF A FEATHER\"\n",
       "8. \"BLARNEY STONE PUB\"\n",
       "9. \"ARCOS\"\n",
       "10. \"ARIZONA BAR & GRILL\"\n",
       "11. \"ASAHI SUSHI\"\n",
       "12. \"BALTMORE KICKERS\"\n",
       "13. \"BARTENDERS\"\n",
       "14. \"BLUE MOON  DINING  HOUSE  & EXPRESSO  BAR\"\n",
       "15. \"BLUEHOUSE\"\n",
       "16. \"BOP BRICK OVEN PIZZA\"\n",
       "17. \"BRASS MONKEY SALOON\"\n",
       "18. \"BREWSTER'S TAVERN\"\n",
       "19. \"BRUCE MCKELDIN CONSULTING, LLC\"\n",
       "20. \"BURGER KING\"\n",
       "21. \"BUTTS & BETTY'S TAVERN, INC.\"\n",
       "22. \"B-WATCH\"\n",
       "23. \"CAF<c2><90> LATTE 'DA\"\n",
       "24. \"CARL REFEERS BAR & GRILL\"\n",
       "25. \"CAROLINAS TEX- MEX RESTAURANT\"\n",
       "26. \"CAROLINA'S TEX-MEX RESTURANT\"\n",
       "27. \"CASTAWAY'S BAR &  GRILL\"\n",
       "28. \"CHEERLEADERS\"\n",
       "29. \"CHEERLEADERS SPORTS BAR\"\n",
       "30. \"CHUBBIES CLUB\"\n",
       "31. \"CINCO DE MAYO\"\n",
       "32. \"CLUB CONFETTI\"\n",
       "33. \"DEAD END SALOON\"\n",
       "34. \"DING HOW RESTAURANT\"\n",
       "35. \"DUCLAW BREWING COMPANY\"\n",
       "36. \"DUDA'S TAVERN\"\n",
       "37. \"ECLECTIC CAF<c2><90>\"\n",
       "38. \"EL RECODO, INC.\"\n",
       "39. \"EL RINCONCITO PERUANO\"\n",
       "40. \"FELL'S POINT CARRYOUT\"\n",
       "41. \"FIVE POINT TAVERN\"\n",
       "42. \"FLETCHERS\"\n",
       "43. \"FRIEND'S RESTAURANT AND SPIRITS\"\n",
       "44. \"FULL MOON SALOON\"\n",
       "45. \"GEN-JOSEPH HALLER POST #95, AMERICAN LEGION, INC.\"\n",
       "46. \"GIBSON'S\"\n",
       "47. \"JAZZY BLUES CLUB\"\n",
       "48. \"JHJ SALOON\"\n",
       "49. \"JIMMY'S RESTAURANT\"\n",
       "50. \"KABOBBI RESTAURANT\"\n",
       "51. \"KALI'S COURT\"\n",
       "52. \"QUIZNOS OF FELLS POINT\"\n",
       "53. \"QUO VADIS DEMOCRATIC CLUB\"\n",
       "54. \"RA SUSHI\"\n",
       "55. \"RED HOUSE TAVERN INC.\"\n",
       "56. \"MUSTANG ALLEY'S\"\n",
       "57. \"HARRY OLIVER MANAGEMENT CO., INC.\"\n",
       "58. \"HENNINGER'S TAVERN\"\n",
       "59. \"HONEY'S LOUNGE\"\n",
       "60. \"HOT TOMATOES-CAF<c2><90> FORTUNATO\"\n",
       "61. \"ISLAND II\"\n",
       "62. \"KASBAH CAF<c2><90>\"\n",
       "63. \"KAWASAKI CAF<c2><90>\"\n",
       "64. \"KELLY'S\"\n",
       "65. \"KISLING'S TAVERN\"\n",
       "66. \"KOOPER'S TAVERN\"\n",
       "67. \"LA  CAZUELA RESTAURANT\"\n",
       "68. \"LA MARSA\"\n",
       "69. \"LA RUMBA\"\n",
       "70. \"LAS ESPERANZA\"\n",
       "71. \"LAS PALMAS MEXICAN RESTAURANT, INC.\"\n",
       "72. \"LATIN PALACE  (509-13)\"\n",
       "73. \"LEADBETTERS II\"\n",
       "74. \"LOS MARIACHIS RESTAURANT\"\n",
       "75. \"LOUISIANA\"\n",
       "76. \"LULU'S OFF BROADWAY\"\n",
       "77. \"MARY'S TAVERN\"\n",
       "78. \"MAX'S ON BROADWAY\"\n",
       "79. \"MEHEK\"\n",
       "80. \"MELI PATISSERIE & BISTRO\"\n",
       "81. \"MICHELLE'S CAF<c2><90>\"\n",
       "82. \"NEW RITZ CABARET\"\n",
       "83. \"OLDE OBRYCKI'S CRAB HOUSE (saesonal)\"\n",
       "84. \"ONE-EYED MIKE'S\"\n",
       "85. \"PARK INN\"\n",
       "86. \"PAZO\"\n",
       "87. \"PEARL'S\"\n",
       "88. \"PETE'S INN, INCORPORATED\"\n",
       "89. \"POLISH NATIONAL ALLIANCE, COUNCIL 21\"\n",
       "90. \"POPEYES FAMOUS FRIED CHICKEN\"\n",
       "91. \"restaurante el trovador\"\n",
       "92. \"restaurate el salvador\"\n",
       "93. \"RODOS  BAR\"\n",
       "94. \"ROSITAS RESTAURANT\"\n",
       "95. \"SALT\"\n",
       "96. \"SANTA ANA RESTURANT\"\n",
       "97. \"SHED ROW\"\n",
       "98. \"SHERRY'S PLACE\"\n",
       "99. \"SHUCKERS OF FELLS POINT\"\n",
       "100. \"SIG'S BAR\"\n",
       "101. \"SIP & BITE RESTAURANT\"\n",
       "102. \"SLAINTE IRISH PUB & RESTAURANT\"\n",
       "103. \"SMEDLY'S\"\n",
       "104. \"SOUTHERN ACCENTS\"\n",
       "105. \"SPIRITS TAVERN\"\n",
       "106. \"SUBWAY  RESTAURANT\"\n",
       "107. \"SUNLIGHT LOUNGE\"\n",
       "108. \"TAKI'S PIZZA CARRYOUT RESTAURANT\"\n",
       "109. \"TALAY THAI GRILLE\"\n",
       "110. \"THE ADMIRAL'S CUP\"\n",
       "111. \"THE BISTRO\"\n",
       "112. \"THE CANTON LIQUOR HOUSE\"\n",
       "113. \"THE CATS EYE PUB\"\n",
       "114. \"THE GREENE TURTLE\"\n",
       "115. \"THE HORSE YOU CAME IN ON\"\n",
       "116. \"THE LIFE OF REILLY IRISH PUB & RESTAURANT\"\n",
       "117. \"THE MORNING EDITION CAFE\"\n",
       "118. \"THE RED STAR BAR & GRILL\"\n",
       "119. \"THE WATERFRONT HOTEL\"\n",
       "120. \"TIJUANA TACOS & DELI\"\n",
       "121. \"TIMOTHY DEAN BISTRO\"\n",
       "122. \"TODD CONNERS\"\n",
       "123. \"Tyson's Tavern\"\n",
       "124. \"TYSON'S TAVERN\"\n",
       "125. \"WHISTLING OYSTER\"\n",
       "126. \"YOUNG'S PLACE\"\n",
       "127. \"ZIASCOS\"\n",
       "\n",
       "\n"
      ],
      "text/plain": [
       "  [1] \"1919\"                                             \n",
       "  [2] \"300 SOUTH ANN STREET\"                             \n",
       "  [3] \"ADMIRAL FELL INN\"                                 \n",
       "  [4] \"ALE MARY'S\"                                       \n",
       "  [5] \"ALEXANDER'S TAVERN\"                               \n",
       "  [6] \"BERTHA'S RESTAURANT\"                              \n",
       "  [7] \"BIRDS OF A FEATHER\"                               \n",
       "  [8] \"BLARNEY STONE PUB\"                                \n",
       "  [9] \"ARCOS\"                                            \n",
       " [10] \"ARIZONA BAR & GRILL\"                              \n",
       " [11] \"ASAHI SUSHI\"                                      \n",
       " [12] \"BALTMORE KICKERS\"                                 \n",
       " [13] \"BARTENDERS\"                                       \n",
       " [14] \"BLUE MOON  DINING  HOUSE  & EXPRESSO  BAR\"        \n",
       " [15] \"BLUEHOUSE\"                                        \n",
       " [16] \"BOP BRICK OVEN PIZZA\"                             \n",
       " [17] \"BRASS MONKEY SALOON\"                              \n",
       " [18] \"BREWSTER'S TAVERN\"                                \n",
       " [19] \"BRUCE MCKELDIN CONSULTING, LLC\"                   \n",
       " [20] \"BURGER KING\"                                      \n",
       " [21] \"BUTTS & BETTY'S TAVERN, INC.\"                     \n",
       " [22] \"B-WATCH\"                                          \n",
       " [23] \"CAF\\302\\220 LATTE 'DA\"                            \n",
       " [24] \"CARL REFEERS BAR & GRILL\"                         \n",
       " [25] \"CAROLINAS TEX- MEX RESTAURANT\"                    \n",
       " [26] \"CAROLINA'S TEX-MEX RESTURANT\"                     \n",
       " [27] \"CASTAWAY'S BAR &  GRILL\"                          \n",
       " [28] \"CHEERLEADERS\"                                     \n",
       " [29] \"CHEERLEADERS SPORTS BAR\"                          \n",
       " [30] \"CHUBBIES CLUB\"                                    \n",
       " [31] \"CINCO DE MAYO\"                                    \n",
       " [32] \"CLUB CONFETTI\"                                    \n",
       " [33] \"DEAD END SALOON\"                                  \n",
       " [34] \"DING HOW RESTAURANT\"                              \n",
       " [35] \"DUCLAW BREWING COMPANY\"                           \n",
       " [36] \"DUDA'S TAVERN\"                                    \n",
       " [37] \"ECLECTIC CAF\\302\\220\"                             \n",
       " [38] \"EL RECODO, INC.\"                                  \n",
       " [39] \"EL RINCONCITO PERUANO\"                            \n",
       " [40] \"FELL'S POINT CARRYOUT\"                            \n",
       " [41] \"FIVE POINT TAVERN\"                                \n",
       " [42] \"FLETCHERS\"                                        \n",
       " [43] \"FRIEND'S RESTAURANT AND SPIRITS\"                  \n",
       " [44] \"FULL MOON SALOON\"                                 \n",
       " [45] \"GEN-JOSEPH HALLER POST #95, AMERICAN LEGION, INC.\"\n",
       " [46] \"GIBSON'S\"                                         \n",
       " [47] \"JAZZY BLUES CLUB\"                                 \n",
       " [48] \"JHJ SALOON\"                                       \n",
       " [49] \"JIMMY'S RESTAURANT\"                               \n",
       " [50] \"KABOBBI RESTAURANT\"                               \n",
       " [51] \"KALI'S COURT\"                                     \n",
       " [52] \"QUIZNOS OF FELLS POINT\"                           \n",
       " [53] \"QUO VADIS DEMOCRATIC CLUB\"                        \n",
       " [54] \"RA SUSHI\"                                         \n",
       " [55] \"RED HOUSE TAVERN INC.\"                            \n",
       " [56] \"MUSTANG ALLEY'S\"                                  \n",
       " [57] \"HARRY OLIVER MANAGEMENT CO., INC.\"                \n",
       " [58] \"HENNINGER'S TAVERN\"                               \n",
       " [59] \"HONEY'S LOUNGE\"                                   \n",
       " [60] \"HOT TOMATOES-CAF\\302\\220 FORTUNATO\"               \n",
       " [61] \"ISLAND II\"                                        \n",
       " [62] \"KASBAH CAF\\302\\220\"                               \n",
       " [63] \"KAWASAKI CAF\\302\\220\"                             \n",
       " [64] \"KELLY'S\"                                          \n",
       " [65] \"KISLING'S TAVERN\"                                 \n",
       " [66] \"KOOPER'S TAVERN\"                                  \n",
       " [67] \"LA  CAZUELA RESTAURANT\"                           \n",
       " [68] \"LA MARSA\"                                         \n",
       " [69] \"LA RUMBA\"                                         \n",
       " [70] \"LAS ESPERANZA\"                                    \n",
       " [71] \"LAS PALMAS MEXICAN RESTAURANT, INC.\"              \n",
       " [72] \"LATIN PALACE  (509-13)\"                           \n",
       " [73] \"LEADBETTERS II\"                                   \n",
       " [74] \"LOS MARIACHIS RESTAURANT\"                         \n",
       " [75] \"LOUISIANA\"                                        \n",
       " [76] \"LULU'S OFF BROADWAY\"                              \n",
       " [77] \"MARY'S TAVERN\"                                    \n",
       " [78] \"MAX'S ON BROADWAY\"                                \n",
       " [79] \"MEHEK\"                                            \n",
       " [80] \"MELI PATISSERIE & BISTRO\"                         \n",
       " [81] \"MICHELLE'S CAF\\302\\220\"                           \n",
       " [82] \"NEW RITZ CABARET\"                                 \n",
       " [83] \"OLDE OBRYCKI'S CRAB HOUSE (saesonal)\"             \n",
       " [84] \"ONE-EYED MIKE'S\"                                  \n",
       " [85] \"PARK INN\"                                         \n",
       " [86] \"PAZO\"                                             \n",
       " [87] \"PEARL'S\"                                          \n",
       " [88] \"PETE'S INN, INCORPORATED\"                         \n",
       " [89] \"POLISH NATIONAL ALLIANCE, COUNCIL 21\"             \n",
       " [90] \"POPEYES FAMOUS FRIED CHICKEN\"                     \n",
       " [91] \"restaurante el trovador\"                          \n",
       " [92] \"restaurate el salvador\"                           \n",
       " [93] \"RODOS  BAR\"                                       \n",
       " [94] \"ROSITAS RESTAURANT\"                               \n",
       " [95] \"SALT\"                                             \n",
       " [96] \"SANTA ANA RESTURANT\"                              \n",
       " [97] \"SHED ROW\"                                         \n",
       " [98] \"SHERRY'S PLACE\"                                   \n",
       " [99] \"SHUCKERS OF FELLS POINT\"                          \n",
       "[100] \"SIG'S BAR\"                                        \n",
       "[101] \"SIP & BITE RESTAURANT\"                            \n",
       "[102] \"SLAINTE IRISH PUB & RESTAURANT\"                   \n",
       "[103] \"SMEDLY'S\"                                         \n",
       "[104] \"SOUTHERN ACCENTS\"                                 \n",
       "[105] \"SPIRITS TAVERN\"                                   \n",
       "[106] \"SUBWAY  RESTAURANT\"                               \n",
       "[107] \"SUNLIGHT LOUNGE\"                                  \n",
       "[108] \"TAKI'S PIZZA CARRYOUT RESTAURANT\"                 \n",
       "[109] \"TALAY THAI GRILLE\"                                \n",
       "[110] \"THE ADMIRAL'S CUP\"                                \n",
       "[111] \"THE BISTRO\"                                       \n",
       "[112] \"THE CANTON LIQUOR HOUSE\"                          \n",
       "[113] \"THE CATS EYE PUB\"                                 \n",
       "[114] \"THE GREENE TURTLE\"                                \n",
       "[115] \"THE HORSE YOU CAME IN ON\"                         \n",
       "[116] \"THE LIFE OF REILLY IRISH PUB & RESTAURANT\"        \n",
       "[117] \"THE MORNING EDITION CAFE\"                         \n",
       "[118] \"THE RED STAR BAR & GRILL\"                         \n",
       "[119] \"THE WATERFRONT HOTEL\"                             \n",
       "[120] \"TIJUANA TACOS & DELI\"                             \n",
       "[121] \"TIMOTHY DEAN BISTRO\"                              \n",
       "[122] \"TODD CONNERS\"                                     \n",
       "[123] \"Tyson's Tavern\"                                   \n",
       "[124] \"TYSON'S TAVERN\"                                   \n",
       "[125] \"WHISTLING OYSTER\"                                 \n",
       "[126] \"YOUNG'S PLACE\"                                    \n",
       "[127] \"ZIASCOS\"                                          "
      ]
     },
     "execution_count": 7,
     "metadata": {},
     "output_type": "execute_result"
    }
   ],
   "source": [
    "xpathSApply(rootNode,\"/response/row/row[zipcode='21231']/name\",xmlValue)"
   ]
  },
  {
   "cell_type": "code",
   "execution_count": 12,
   "metadata": {
    "collapsed": false
   },
   "outputs": [
    {
     "data": {
      "text/html": [
       "127"
      ],
      "text/latex": [
       "127"
      ],
      "text/markdown": [
       "127"
      ],
      "text/plain": [
       "[1] 127"
      ]
     },
     "execution_count": 12,
     "metadata": {},
     "output_type": "execute_result"
    }
   ],
   "source": [
    "nrow(data.frame(xpathSApply(rootNode,\"/response/row/row[zipcode='21231']/name\",xmlValue)))"
   ]
  }
 ],
 "metadata": {
  "kernelspec": {
   "display_name": "R",
   "language": "R",
   "name": "ir"
  },
  "language_info": {
   "codemirror_mode": "r",
   "file_extension": ".r",
   "mimetype": "text/x-r-source",
   "name": "R",
   "pygments_lexer": "r",
   "version": "3.2.4"
  },
  "widgets": {
   "state": {},
   "version": "1.1.1"
  }
 },
 "nbformat": 4,
 "nbformat_minor": 0
}
