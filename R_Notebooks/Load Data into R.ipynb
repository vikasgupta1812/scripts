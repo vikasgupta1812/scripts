{
 "cells": [
  {
   "cell_type": "code",
   "execution_count": 1,
   "metadata": {
    "collapsed": false
   },
   "outputs": [
    {
     "name": "stderr",
     "output_type": "stream",
     "text": [
      "Loading required package: sqldf\n",
      "Loading required package: gsubfn\n",
      "Loading required package: proto\n",
      "Loading required package: RSQLite\n",
      "Loading required package: DBI\n"
     ]
    }
   ],
   "source": [
    "if (!require(sqldf)) install.packages('sqldf')"
   ]
  },
  {
   "cell_type": "code",
   "execution_count": 5,
   "metadata": {
    "collapsed": false
   },
   "outputs": [],
   "source": [
    "library(sqldf)\n",
    "\n",
    "if(!file.exists(\"./data/acs.csv\")) {\n",
    "    fileUrl <- \"https://d396qusza40orc.cloudfront.net/getdata%2Fdata%2Fss06pid.csv\"\n",
    "    #\"https://d396qusza40orc.cloudfront.net/getdata%2Fdata%2Fss06pid.csv\"\n",
    "    download.file(fileUrl, destfile = \"./data/acs.csv\", method = \"curl\")\n",
    "    dateDownloaded <- date()\n",
    "}\n",
    "acs <- read.table(\"./data/acs.csv\", sep=\",\", header=TRUE)"
   ]
  },
  {
   "cell_type": "code",
   "execution_count": 6,
   "metadata": {
    "collapsed": false
   },
   "outputs": [
    {
     "data": {
      "text/html": [
       "<ol class=list-inline>\n",
       "\t<li>14931</li>\n",
       "\t<li>239</li>\n",
       "</ol>\n"
      ],
      "text/latex": [
       "\\begin{enumerate*}\n",
       "\\item 14931\n",
       "\\item 239\n",
       "\\end{enumerate*}\n"
      ],
      "text/markdown": [
       "1. 14931\n",
       "2. 239\n",
       "\n",
       "\n"
      ],
      "text/plain": [
       "[1] 14931   239"
      ]
     },
     "metadata": {},
     "output_type": "display_data"
    },
    {
     "data": {
      "text/html": [
       "<table>\n",
       "<thead><tr><th></th><th scope=col>RT</th><th scope=col>SERIALNO</th><th scope=col>SPORDER</th><th scope=col>PUMA</th><th scope=col>ST</th><th scope=col>ADJUST</th><th scope=col>PWGTP</th><th scope=col>AGEP</th><th scope=col>CIT</th><th scope=col>COW</th><th scope=col>...</th><th scope=col>pwgtp71</th><th scope=col>pwgtp72</th><th scope=col>pwgtp73</th><th scope=col>pwgtp74</th><th scope=col>pwgtp75</th><th scope=col>pwgtp76</th><th scope=col>pwgtp77</th><th scope=col>pwgtp78</th><th scope=col>pwgtp79</th><th scope=col>pwgtp80</th></tr></thead>\n",
       "<tbody>\n",
       "\t<tr><th scope=row>1</th><td>P      </td><td>186    </td><td>1      </td><td>700    </td><td>16     </td><td>1015675</td><td>89     </td><td>43     </td><td>1      </td><td>7      </td><td>...    </td><td>82     </td><td>27     </td><td>92     </td><td>150    </td><td>28     </td><td>78     </td><td>25     </td><td>99     </td><td>159    </td><td>129    </td></tr>\n",
       "\t<tr><th scope=row>2</th><td>P      </td><td>186    </td><td>2      </td><td>700    </td><td>16     </td><td>1015675</td><td>92     </td><td>42     </td><td>1      </td><td>4      </td><td>...    </td><td>84     </td><td>26     </td><td>90     </td><td>159    </td><td>30     </td><td>87     </td><td>27     </td><td>98     </td><td>167    </td><td>131    </td></tr>\n",
       "\t<tr><th scope=row>3</th><td>P      </td><td>186    </td><td>3      </td><td>700    </td><td>16     </td><td>1015675</td><td>107    </td><td>16     </td><td>1      </td><td>1      </td><td>...    </td><td>90     </td><td>28     </td><td>92     </td><td>177    </td><td>33     </td><td>105    </td><td>30     </td><td>104    </td><td>206    </td><td>156    </td></tr>\n",
       "\t<tr><th scope=row>4</th><td>P      </td><td>186    </td><td>4      </td><td>700    </td><td>16     </td><td>1015675</td><td>91     </td><td>14     </td><td>1      </td><td>NA     </td><td>...    </td><td>81     </td><td>28     </td><td>94     </td><td>164    </td><td>29     </td><td>88     </td><td>27     </td><td>104    </td><td>156    </td><td>138    </td></tr>\n",
       "\t<tr><th scope=row>5</th><td>P      </td><td>306    </td><td>1      </td><td>700    </td><td>16     </td><td>1015675</td><td>309    </td><td>29     </td><td>1      </td><td>5      </td><td>...    </td><td>294    </td><td>400    </td><td>80     </td><td>489    </td><td>340    </td><td>491    </td><td>612    </td><td>282    </td><td>462    </td><td>259    </td></tr>\n",
       "\t<tr><th scope=row>6</th><td>P      </td><td>395    </td><td>1      </td><td>100    </td><td>16     </td><td>1015675</td><td>108    </td><td>40     </td><td>1      </td><td>8      </td><td>...    </td><td>123    </td><td>119    </td><td>171    </td><td>108    </td><td>97     </td><td>104    </td><td>31     </td><td>127    </td><td>108    </td><td>31     </td></tr>\n",
       "</tbody>\n",
       "</table>\n"
      ],
      "text/latex": [
       "\\begin{tabular}{r|lllllllllllllllllllllllllllllllllllllllllllllllllllllllllllllllllllllllllllllllllllllllllllllllllllllllllllllllllllllllllllllllllllllllllllllllllllllllllllllllllllllllllllllllllllllllllllllllllllllllllllllllllllllllllllllllllllllllllllllll}\n",
       "  & RT & SERIALNO & SPORDER & PUMA & ST & ADJUST & PWGTP & AGEP & CIT & COW & ... & pwgtp71 & pwgtp72 & pwgtp73 & pwgtp74 & pwgtp75 & pwgtp76 & pwgtp77 & pwgtp78 & pwgtp79 & pwgtp80\\\\\n",
       "\\hline\n",
       "\t1 & P       & 186     & 1       & 700     & 16      & 1015675 & 89      & 43      & 1       & 7       & ...     & 82      & 27      & 92      & 150     & 28      & 78      & 25      & 99      & 159     & 129    \\\\\n",
       "\t2 & P       & 186     & 2       & 700     & 16      & 1015675 & 92      & 42      & 1       & 4       & ...     & 84      & 26      & 90      & 159     & 30      & 87      & 27      & 98      & 167     & 131    \\\\\n",
       "\t3 & P       & 186     & 3       & 700     & 16      & 1015675 & 107     & 16      & 1       & 1       & ...     & 90      & 28      & 92      & 177     & 33      & 105     & 30      & 104     & 206     & 156    \\\\\n",
       "\t4 & P       & 186     & 4       & 700     & 16      & 1015675 & 91      & 14      & 1       & NA      & ...     & 81      & 28      & 94      & 164     & 29      & 88      & 27      & 104     & 156     & 138    \\\\\n",
       "\t5 & P       & 306     & 1       & 700     & 16      & 1015675 & 309     & 29      & 1       & 5       & ...     & 294     & 400     & 80      & 489     & 340     & 491     & 612     & 282     & 462     & 259    \\\\\n",
       "\t6 & P       & 395     & 1       & 100     & 16      & 1015675 & 108     & 40      & 1       & 8       & ...     & 123     & 119     & 171     & 108     & 97      & 104     & 31      & 127     & 108     & 31     \\\\\n",
       "\\end{tabular}\n"
      ],
      "text/plain": [
       "  RT SERIALNO SPORDER PUMA ST  ADJUST PWGTP AGEP CIT COW ... pwgtp71 pwgtp72\n",
       "1  P      186       1  700 16 1015675    89   43   1   7 ...      82      27\n",
       "2  P      186       2  700 16 1015675    92   42   1   4 ...      84      26\n",
       "3  P      186       3  700 16 1015675   107   16   1   1 ...      90      28\n",
       "4  P      186       4  700 16 1015675    91   14   1  NA ...      81      28\n",
       "5  P      306       1  700 16 1015675   309   29   1   5 ...     294     400\n",
       "6  P      395       1  100 16 1015675   108   40   1   8 ...     123     119\n",
       "  pwgtp73 pwgtp74 pwgtp75 pwgtp76 pwgtp77 pwgtp78 pwgtp79 pwgtp80\n",
       "1      92     150      28      78      25      99     159     129\n",
       "2      90     159      30      87      27      98     167     131\n",
       "3      92     177      33     105      30     104     206     156\n",
       "4      94     164      29      88      27     104     156     138\n",
       "5      80     489     340     491     612     282     462     259\n",
       "6     171     108      97     104      31     127     108      31"
      ]
     },
     "metadata": {},
     "output_type": "display_data"
    }
   ],
   "source": [
    "dim(acs)\n",
    "head(acs)"
   ]
  },
  {
   "cell_type": "code",
   "execution_count": 7,
   "metadata": {
    "collapsed": false
   },
   "outputs": [
    {
     "data": {
      "text/html": [
       "<table>\n",
       "<thead><tr><th></th><th scope=col>count(*)</th></tr></thead>\n",
       "<tbody>\n",
       "\t<tr><th scope=row>1</th><td>10093</td></tr>\n",
       "</tbody>\n",
       "</table>\n"
      ],
      "text/latex": [
       "\\begin{tabular}{r|l}\n",
       "  & count(*)\\\\\n",
       "\\hline\n",
       "\t1 & 10093\\\\\n",
       "\\end{tabular}\n"
      ],
      "text/plain": [
       "  count(*)\n",
       "1    10093"
      ]
     },
     "metadata": {},
     "output_type": "display_data"
    }
   ],
   "source": [
    "sqldf(\"select count(*) from acs where AGEP < 50 and pwgtp1\")"
   ]
  },
  {
   "cell_type": "code",
   "execution_count": 8,
   "metadata": {
    "collapsed": false
   },
   "outputs": [
    {
     "data": {
      "text/html": [
       "<ol class=list-inline>\n",
       "\t<li>43</li>\n",
       "\t<li>42</li>\n",
       "\t<li>16</li>\n",
       "\t<li>14</li>\n",
       "\t<li>29</li>\n",
       "\t<li>40</li>\n",
       "\t<li>15</li>\n",
       "\t<li>28</li>\n",
       "\t<li>30</li>\n",
       "\t<li>4</li>\n",
       "\t<li>1</li>\n",
       "\t<li>18</li>\n",
       "\t<li>37</li>\n",
       "\t<li>39</li>\n",
       "\t<li>3</li>\n",
       "\t<li>87</li>\n",
       "\t<li>70</li>\n",
       "\t<li>49</li>\n",
       "\t<li>45</li>\n",
       "\t<li>50</li>\n",
       "\t<li>60</li>\n",
       "\t<li>59</li>\n",
       "\t<li>61</li>\n",
       "\t<li>64</li>\n",
       "\t<li>35</li>\n",
       "\t<li>12</li>\n",
       "\t<li>19</li>\n",
       "\t<li>31</li>\n",
       "\t<li>9</li>\n",
       "\t<li>0</li>\n",
       "\t<li>33</li>\n",
       "\t<li>32</li>\n",
       "\t<li>20</li>\n",
       "\t<li>88</li>\n",
       "\t<li>53</li>\n",
       "\t<li>58</li>\n",
       "\t<li>69</li>\n",
       "\t<li>68</li>\n",
       "\t<li>48</li>\n",
       "\t<li>24</li>\n",
       "\t<li>27</li>\n",
       "\t<li>74</li>\n",
       "\t<li>56</li>\n",
       "\t<li>75</li>\n",
       "\t<li>17</li>\n",
       "\t<li>38</li>\n",
       "\t<li>55</li>\n",
       "\t<li>26</li>\n",
       "\t<li>23</li>\n",
       "\t<li>86</li>\n",
       "\t<li>81</li>\n",
       "\t<li>77</li>\n",
       "\t<li>7</li>\n",
       "\t<li>51</li>\n",
       "\t<li>13</li>\n",
       "\t<li>11</li>\n",
       "\t<li>82</li>\n",
       "\t<li>47</li>\n",
       "\t<li>46</li>\n",
       "\t<li>80</li>\n",
       "\t<li>21</li>\n",
       "\t<li>54</li>\n",
       "\t<li>78</li>\n",
       "\t<li>67</li>\n",
       "\t<li>22</li>\n",
       "\t<li>2</li>\n",
       "\t<li>76</li>\n",
       "\t<li>6</li>\n",
       "\t<li>71</li>\n",
       "\t<li>34</li>\n",
       "\t<li>10</li>\n",
       "\t<li>5</li>\n",
       "\t<li>65</li>\n",
       "\t<li>62</li>\n",
       "\t<li>63</li>\n",
       "\t<li>57</li>\n",
       "\t<li>52</li>\n",
       "\t<li>79</li>\n",
       "\t<li>83</li>\n",
       "\t<li>66</li>\n",
       "\t<li>25</li>\n",
       "\t<li>93</li>\n",
       "\t<li>8</li>\n",
       "\t<li>36</li>\n",
       "\t<li>41</li>\n",
       "\t<li>44</li>\n",
       "\t<li>84</li>\n",
       "\t<li>72</li>\n",
       "\t<li>73</li>\n",
       "\t<li>85</li>\n",
       "\t<li>89</li>\n",
       "</ol>\n"
      ],
      "text/latex": [
       "\\begin{enumerate*}\n",
       "\\item 43\n",
       "\\item 42\n",
       "\\item 16\n",
       "\\item 14\n",
       "\\item 29\n",
       "\\item 40\n",
       "\\item 15\n",
       "\\item 28\n",
       "\\item 30\n",
       "\\item 4\n",
       "\\item 1\n",
       "\\item 18\n",
       "\\item 37\n",
       "\\item 39\n",
       "\\item 3\n",
       "\\item 87\n",
       "\\item 70\n",
       "\\item 49\n",
       "\\item 45\n",
       "\\item 50\n",
       "\\item 60\n",
       "\\item 59\n",
       "\\item 61\n",
       "\\item 64\n",
       "\\item 35\n",
       "\\item 12\n",
       "\\item 19\n",
       "\\item 31\n",
       "\\item 9\n",
       "\\item 0\n",
       "\\item 33\n",
       "\\item 32\n",
       "\\item 20\n",
       "\\item 88\n",
       "\\item 53\n",
       "\\item 58\n",
       "\\item 69\n",
       "\\item 68\n",
       "\\item 48\n",
       "\\item 24\n",
       "\\item 27\n",
       "\\item 74\n",
       "\\item 56\n",
       "\\item 75\n",
       "\\item 17\n",
       "\\item 38\n",
       "\\item 55\n",
       "\\item 26\n",
       "\\item 23\n",
       "\\item 86\n",
       "\\item 81\n",
       "\\item 77\n",
       "\\item 7\n",
       "\\item 51\n",
       "\\item 13\n",
       "\\item 11\n",
       "\\item 82\n",
       "\\item 47\n",
       "\\item 46\n",
       "\\item 80\n",
       "\\item 21\n",
       "\\item 54\n",
       "\\item 78\n",
       "\\item 67\n",
       "\\item 22\n",
       "\\item 2\n",
       "\\item 76\n",
       "\\item 6\n",
       "\\item 71\n",
       "\\item 34\n",
       "\\item 10\n",
       "\\item 5\n",
       "\\item 65\n",
       "\\item 62\n",
       "\\item 63\n",
       "\\item 57\n",
       "\\item 52\n",
       "\\item 79\n",
       "\\item 83\n",
       "\\item 66\n",
       "\\item 25\n",
       "\\item 93\n",
       "\\item 8\n",
       "\\item 36\n",
       "\\item 41\n",
       "\\item 44\n",
       "\\item 84\n",
       "\\item 72\n",
       "\\item 73\n",
       "\\item 85\n",
       "\\item 89\n",
       "\\end{enumerate*}\n"
      ],
      "text/markdown": [
       "1. 43\n",
       "2. 42\n",
       "3. 16\n",
       "4. 14\n",
       "5. 29\n",
       "6. 40\n",
       "7. 15\n",
       "8. 28\n",
       "9. 30\n",
       "10. 4\n",
       "11. 1\n",
       "12. 18\n",
       "13. 37\n",
       "14. 39\n",
       "15. 3\n",
       "16. 87\n",
       "17. 70\n",
       "18. 49\n",
       "19. 45\n",
       "20. 50\n",
       "21. 60\n",
       "22. 59\n",
       "23. 61\n",
       "24. 64\n",
       "25. 35\n",
       "26. 12\n",
       "27. 19\n",
       "28. 31\n",
       "29. 9\n",
       "30. 0\n",
       "31. 33\n",
       "32. 32\n",
       "33. 20\n",
       "34. 88\n",
       "35. 53\n",
       "36. 58\n",
       "37. 69\n",
       "38. 68\n",
       "39. 48\n",
       "40. 24\n",
       "41. 27\n",
       "42. 74\n",
       "43. 56\n",
       "44. 75\n",
       "45. 17\n",
       "46. 38\n",
       "47. 55\n",
       "48. 26\n",
       "49. 23\n",
       "50. 86\n",
       "51. 81\n",
       "52. 77\n",
       "53. 7\n",
       "54. 51\n",
       "55. 13\n",
       "56. 11\n",
       "57. 82\n",
       "58. 47\n",
       "59. 46\n",
       "60. 80\n",
       "61. 21\n",
       "62. 54\n",
       "63. 78\n",
       "64. 67\n",
       "65. 22\n",
       "66. 2\n",
       "67. 76\n",
       "68. 6\n",
       "69. 71\n",
       "70. 34\n",
       "71. 10\n",
       "72. 5\n",
       "73. 65\n",
       "74. 62\n",
       "75. 63\n",
       "76. 57\n",
       "77. 52\n",
       "78. 79\n",
       "79. 83\n",
       "80. 66\n",
       "81. 25\n",
       "82. 93\n",
       "83. 8\n",
       "84. 36\n",
       "85. 41\n",
       "86. 44\n",
       "87. 84\n",
       "88. 72\n",
       "89. 73\n",
       "90. 85\n",
       "91. 89\n",
       "\n",
       "\n"
      ],
      "text/plain": [
       " [1] 43 42 16 14 29 40 15 28 30  4  1 18 37 39  3 87 70 49 45 50 60 59 61 64 35\n",
       "[26] 12 19 31  9  0 33 32 20 88 53 58 69 68 48 24 27 74 56 75 17 38 55 26 23 86\n",
       "[51] 81 77  7 51 13 11 82 47 46 80 21 54 78 67 22  2 76  6 71 34 10  5 65 62 63\n",
       "[76] 57 52 79 83 66 25 93  8 36 41 44 84 72 73 85 89"
      ]
     },
     "metadata": {},
     "output_type": "display_data"
    }
   ],
   "source": [
    "unique(acs$AGEP)"
   ]
  },
  {
   "cell_type": "code",
   "execution_count": 9,
   "metadata": {
    "collapsed": false,
    "scrolled": true
   },
   "outputs": [
    {
     "data": {
      "text/html": [
       "<table>\n",
       "<thead><tr><th></th><th scope=col>AGEP</th></tr></thead>\n",
       "<tbody>\n",
       "\t<tr><th scope=row>1</th><td>43</td></tr>\n",
       "\t<tr><th scope=row>2</th><td>42</td></tr>\n",
       "\t<tr><th scope=row>3</th><td>16</td></tr>\n",
       "\t<tr><th scope=row>4</th><td>14</td></tr>\n",
       "\t<tr><th scope=row>5</th><td>29</td></tr>\n",
       "\t<tr><th scope=row>6</th><td>40</td></tr>\n",
       "\t<tr><th scope=row>7</th><td>15</td></tr>\n",
       "\t<tr><th scope=row>8</th><td>28</td></tr>\n",
       "\t<tr><th scope=row>9</th><td>30</td></tr>\n",
       "\t<tr><th scope=row>10</th><td>4</td></tr>\n",
       "\t<tr><th scope=row>11</th><td>1</td></tr>\n",
       "\t<tr><th scope=row>12</th><td>18</td></tr>\n",
       "\t<tr><th scope=row>13</th><td>37</td></tr>\n",
       "\t<tr><th scope=row>14</th><td>39</td></tr>\n",
       "\t<tr><th scope=row>15</th><td>3</td></tr>\n",
       "\t<tr><th scope=row>16</th><td>87</td></tr>\n",
       "\t<tr><th scope=row>17</th><td>70</td></tr>\n",
       "\t<tr><th scope=row>18</th><td>49</td></tr>\n",
       "\t<tr><th scope=row>19</th><td>45</td></tr>\n",
       "\t<tr><th scope=row>20</th><td>50</td></tr>\n",
       "\t<tr><th scope=row>21</th><td>60</td></tr>\n",
       "\t<tr><th scope=row>22</th><td>59</td></tr>\n",
       "\t<tr><th scope=row>23</th><td>61</td></tr>\n",
       "\t<tr><th scope=row>24</th><td>64</td></tr>\n",
       "\t<tr><th scope=row>25</th><td>35</td></tr>\n",
       "\t<tr><th scope=row>26</th><td>12</td></tr>\n",
       "\t<tr><th scope=row>27</th><td>19</td></tr>\n",
       "\t<tr><th scope=row>28</th><td>31</td></tr>\n",
       "\t<tr><th scope=row>29</th><td>9</td></tr>\n",
       "\t<tr><th scope=row>30</th><td>0</td></tr>\n",
       "\t<tr><th scope=row>...</th><td>...</td></tr>\n",
       "\t<tr><th scope=row>62</th><td>54</td></tr>\n",
       "\t<tr><th scope=row>63</th><td>78</td></tr>\n",
       "\t<tr><th scope=row>64</th><td>67</td></tr>\n",
       "\t<tr><th scope=row>65</th><td>22</td></tr>\n",
       "\t<tr><th scope=row>66</th><td>2</td></tr>\n",
       "\t<tr><th scope=row>67</th><td>76</td></tr>\n",
       "\t<tr><th scope=row>68</th><td>6</td></tr>\n",
       "\t<tr><th scope=row>69</th><td>71</td></tr>\n",
       "\t<tr><th scope=row>70</th><td>34</td></tr>\n",
       "\t<tr><th scope=row>71</th><td>10</td></tr>\n",
       "\t<tr><th scope=row>72</th><td>5</td></tr>\n",
       "\t<tr><th scope=row>73</th><td>65</td></tr>\n",
       "\t<tr><th scope=row>74</th><td>62</td></tr>\n",
       "\t<tr><th scope=row>75</th><td>63</td></tr>\n",
       "\t<tr><th scope=row>76</th><td>57</td></tr>\n",
       "\t<tr><th scope=row>77</th><td>52</td></tr>\n",
       "\t<tr><th scope=row>78</th><td>79</td></tr>\n",
       "\t<tr><th scope=row>79</th><td>83</td></tr>\n",
       "\t<tr><th scope=row>80</th><td>66</td></tr>\n",
       "\t<tr><th scope=row>81</th><td>25</td></tr>\n",
       "\t<tr><th scope=row>82</th><td>93</td></tr>\n",
       "\t<tr><th scope=row>83</th><td>8</td></tr>\n",
       "\t<tr><th scope=row>84</th><td>36</td></tr>\n",
       "\t<tr><th scope=row>85</th><td>41</td></tr>\n",
       "\t<tr><th scope=row>86</th><td>44</td></tr>\n",
       "\t<tr><th scope=row>87</th><td>84</td></tr>\n",
       "\t<tr><th scope=row>88</th><td>72</td></tr>\n",
       "\t<tr><th scope=row>89</th><td>73</td></tr>\n",
       "\t<tr><th scope=row>90</th><td>85</td></tr>\n",
       "\t<tr><th scope=row>91</th><td>89</td></tr>\n",
       "</tbody>\n",
       "</table>\n"
      ],
      "text/latex": [
       "\\begin{tabular}{r|l}\n",
       "  & AGEP\\\\\n",
       "\\hline\n",
       "\t1 & 43\\\\\n",
       "\t2 & 42\\\\\n",
       "\t3 & 16\\\\\n",
       "\t4 & 14\\\\\n",
       "\t5 & 29\\\\\n",
       "\t6 & 40\\\\\n",
       "\t7 & 15\\\\\n",
       "\t8 & 28\\\\\n",
       "\t9 & 30\\\\\n",
       "\t10 & 4\\\\\n",
       "\t11 & 1\\\\\n",
       "\t12 & 18\\\\\n",
       "\t13 & 37\\\\\n",
       "\t14 & 39\\\\\n",
       "\t15 & 3\\\\\n",
       "\t16 & 87\\\\\n",
       "\t17 & 70\\\\\n",
       "\t18 & 49\\\\\n",
       "\t19 & 45\\\\\n",
       "\t20 & 50\\\\\n",
       "\t21 & 60\\\\\n",
       "\t22 & 59\\\\\n",
       "\t23 & 61\\\\\n",
       "\t24 & 64\\\\\n",
       "\t25 & 35\\\\\n",
       "\t26 & 12\\\\\n",
       "\t27 & 19\\\\\n",
       "\t28 & 31\\\\\n",
       "\t29 & 9\\\\\n",
       "\t30 & 0\\\\\n",
       "\t... & ...\\\\\n",
       "\t62 & 54\\\\\n",
       "\t63 & 78\\\\\n",
       "\t64 & 67\\\\\n",
       "\t65 & 22\\\\\n",
       "\t66 & 2\\\\\n",
       "\t67 & 76\\\\\n",
       "\t68 & 6\\\\\n",
       "\t69 & 71\\\\\n",
       "\t70 & 34\\\\\n",
       "\t71 & 10\\\\\n",
       "\t72 & 5\\\\\n",
       "\t73 & 65\\\\\n",
       "\t74 & 62\\\\\n",
       "\t75 & 63\\\\\n",
       "\t76 & 57\\\\\n",
       "\t77 & 52\\\\\n",
       "\t78 & 79\\\\\n",
       "\t79 & 83\\\\\n",
       "\t80 & 66\\\\\n",
       "\t81 & 25\\\\\n",
       "\t82 & 93\\\\\n",
       "\t83 & 8\\\\\n",
       "\t84 & 36\\\\\n",
       "\t85 & 41\\\\\n",
       "\t86 & 44\\\\\n",
       "\t87 & 84\\\\\n",
       "\t88 & 72\\\\\n",
       "\t89 & 73\\\\\n",
       "\t90 & 85\\\\\n",
       "\t91 & 89\\\\\n",
       "\\end{tabular}\n"
      ],
      "text/plain": [
       "    AGEP\n",
       "1     43\n",
       "2     42\n",
       "3     16\n",
       "4     14\n",
       "5     29\n",
       "6     40\n",
       "7     15\n",
       "8     28\n",
       "9     30\n",
       "10     4\n",
       "11     1\n",
       "12    18\n",
       "13    37\n",
       "14    39\n",
       "15     3\n",
       "16    87\n",
       "17    70\n",
       "18    49\n",
       "19    45\n",
       "20    50\n",
       "21    60\n",
       "22    59\n",
       "23    61\n",
       "24    64\n",
       "25    35\n",
       "26    12\n",
       "27    19\n",
       "28    31\n",
       "29     9\n",
       "30     0\n",
       "...  ...\n",
       "62    54\n",
       "63    78\n",
       "64    67\n",
       "65    22\n",
       "66     2\n",
       "67    76\n",
       "68     6\n",
       "69    71\n",
       "70    34\n",
       "71    10\n",
       "72     5\n",
       "73    65\n",
       "74    62\n",
       "75    63\n",
       "76    57\n",
       "77    52\n",
       "78    79\n",
       "79    83\n",
       "80    66\n",
       "81    25\n",
       "82    93\n",
       "83     8\n",
       "84    36\n",
       "85    41\n",
       "86    44\n",
       "87    84\n",
       "88    72\n",
       "89    73\n",
       "90    85\n",
       "91    89"
      ]
     },
     "metadata": {},
     "output_type": "display_data"
    }
   ],
   "source": [
    "sqldf(\"select distinct AGEP from acs\")"
   ]
  },
  {
   "cell_type": "markdown",
   "metadata": {},
   "source": [
    "----"
   ]
  },
  {
   "cell_type": "code",
   "execution_count": 15,
   "metadata": {
    "collapsed": false
   },
   "outputs": [],
   "source": [
    "rm(list = ls())\n",
    "if(!file.exists(\"./data/acs2006idaho_microdata.csv\")) {\n",
    "    download.file(\"http://d396qusza40orc.cloudfront.net/getdata%2Fdata%2Fss06hid.csv\", \n",
    "                  destfile = \"./data/acs2006idaho_microdata.csv\")\n",
    "}\n",
    "acs <- read.csv(\"./data/acs2006idaho_microdata.csv\")"
   ]
  },
  {
   "cell_type": "raw",
   "metadata": {},
   "source": [
    "ACR 1\n",
    "Lot size\n",
    "b .N/A (GQ/not a one-family house or mobile home)\n",
    "1 .House on less than one acre\n",
    "2 .House on one to less than ten acres \n",
    "3 .House on ten or more acres\n",
    "\n",
    "\n",
    "\n",
    "AGS 1\n",
    "Sales of Agriculture Products (Yearly sales)\n",
    "b .N/A (GQ/vacant/not a one family house or mobile home/less than 1 acre)\n",
    "1 .None\n",
    "2 .$1 - $  999\n",
    "3 .$ 1000 - $ 2499\n",
    "4 .$ 2500 - $ 4999\n",
    "5 .$ 5000 - $ 9999\n",
    "6 .$10000+  \n",
    "\n",
    "Note: no adjustment factor is applied to AGS.\n",
    "Reference - https://www2.census.gov/programs-surveys/acs/tech_docs/pums/data_dict/PUMSDataDict14.txt"
   ]
  },
  {
   "cell_type": "code",
   "execution_count": 12,
   "metadata": {
    "collapsed": false
   },
   "outputs": [
    {
     "data": {
      "text/html": [
       "<ol class=list-inline>\n",
       "\t<li>125</li>\n",
       "\t<li>238</li>\n",
       "\t<li>262</li>\n",
       "\t<li>470</li>\n",
       "\t<li>555</li>\n",
       "\t<li>568</li>\n",
       "\t<li>608</li>\n",
       "\t<li>643</li>\n",
       "\t<li>787</li>\n",
       "\t<li>808</li>\n",
       "\t<li>824</li>\n",
       "\t<li>849</li>\n",
       "\t<li>952</li>\n",
       "\t<li>955</li>\n",
       "\t<li>1033</li>\n",
       "\t<li>1265</li>\n",
       "\t<li>1275</li>\n",
       "\t<li>1315</li>\n",
       "\t<li>1388</li>\n",
       "\t<li>1607</li>\n",
       "\t<li>1629</li>\n",
       "\t<li>1651</li>\n",
       "\t<li>1856</li>\n",
       "\t<li>1919</li>\n",
       "\t<li>2101</li>\n",
       "\t<li>2194</li>\n",
       "\t<li>2403</li>\n",
       "\t<li>2443</li>\n",
       "\t<li>2539</li>\n",
       "\t<li>2580</li>\n",
       "\t<li>2655</li>\n",
       "\t<li>2680</li>\n",
       "\t<li>2740</li>\n",
       "\t<li>2838</li>\n",
       "\t<li>2965</li>\n",
       "\t<li>3131</li>\n",
       "\t<li>3133</li>\n",
       "\t<li>3163</li>\n",
       "\t<li>3291</li>\n",
       "\t<li>3370</li>\n",
       "\t<li>3402</li>\n",
       "\t<li>3585</li>\n",
       "\t<li>3652</li>\n",
       "\t<li>3852</li>\n",
       "\t<li>3862</li>\n",
       "\t<li>3912</li>\n",
       "\t<li>4023</li>\n",
       "\t<li>4045</li>\n",
       "\t<li>4107</li>\n",
       "\t<li>4113</li>\n",
       "\t<li>4117</li>\n",
       "\t<li>4185</li>\n",
       "\t<li>4198</li>\n",
       "\t<li>4310</li>\n",
       "\t<li>4343</li>\n",
       "\t<li>4354</li>\n",
       "\t<li>4448</li>\n",
       "\t<li>4453</li>\n",
       "\t<li>4461</li>\n",
       "\t<li>4718</li>\n",
       "\t<li>4817</li>\n",
       "\t<li>4835</li>\n",
       "\t<li>4910</li>\n",
       "\t<li>5140</li>\n",
       "\t<li>5199</li>\n",
       "\t<li>5236</li>\n",
       "\t<li>5326</li>\n",
       "\t<li>5417</li>\n",
       "\t<li>5531</li>\n",
       "\t<li>5574</li>\n",
       "\t<li>5894</li>\n",
       "\t<li>6033</li>\n",
       "\t<li>6044</li>\n",
       "\t<li>6089</li>\n",
       "\t<li>6275</li>\n",
       "\t<li>6376</li>\n",
       "\t<li>6420</li>\n",
       "</ol>\n"
      ],
      "text/latex": [
       "\\begin{enumerate*}\n",
       "\\item 125\n",
       "\\item 238\n",
       "\\item 262\n",
       "\\item 470\n",
       "\\item 555\n",
       "\\item 568\n",
       "\\item 608\n",
       "\\item 643\n",
       "\\item 787\n",
       "\\item 808\n",
       "\\item 824\n",
       "\\item 849\n",
       "\\item 952\n",
       "\\item 955\n",
       "\\item 1033\n",
       "\\item 1265\n",
       "\\item 1275\n",
       "\\item 1315\n",
       "\\item 1388\n",
       "\\item 1607\n",
       "\\item 1629\n",
       "\\item 1651\n",
       "\\item 1856\n",
       "\\item 1919\n",
       "\\item 2101\n",
       "\\item 2194\n",
       "\\item 2403\n",
       "\\item 2443\n",
       "\\item 2539\n",
       "\\item 2580\n",
       "\\item 2655\n",
       "\\item 2680\n",
       "\\item 2740\n",
       "\\item 2838\n",
       "\\item 2965\n",
       "\\item 3131\n",
       "\\item 3133\n",
       "\\item 3163\n",
       "\\item 3291\n",
       "\\item 3370\n",
       "\\item 3402\n",
       "\\item 3585\n",
       "\\item 3652\n",
       "\\item 3852\n",
       "\\item 3862\n",
       "\\item 3912\n",
       "\\item 4023\n",
       "\\item 4045\n",
       "\\item 4107\n",
       "\\item 4113\n",
       "\\item 4117\n",
       "\\item 4185\n",
       "\\item 4198\n",
       "\\item 4310\n",
       "\\item 4343\n",
       "\\item 4354\n",
       "\\item 4448\n",
       "\\item 4453\n",
       "\\item 4461\n",
       "\\item 4718\n",
       "\\item 4817\n",
       "\\item 4835\n",
       "\\item 4910\n",
       "\\item 5140\n",
       "\\item 5199\n",
       "\\item 5236\n",
       "\\item 5326\n",
       "\\item 5417\n",
       "\\item 5531\n",
       "\\item 5574\n",
       "\\item 5894\n",
       "\\item 6033\n",
       "\\item 6044\n",
       "\\item 6089\n",
       "\\item 6275\n",
       "\\item 6376\n",
       "\\item 6420\n",
       "\\end{enumerate*}\n"
      ],
      "text/markdown": [
       "1. 125\n",
       "2. 238\n",
       "3. 262\n",
       "4. 470\n",
       "5. 555\n",
       "6. 568\n",
       "7. 608\n",
       "8. 643\n",
       "9. 787\n",
       "10. 808\n",
       "11. 824\n",
       "12. 849\n",
       "13. 952\n",
       "14. 955\n",
       "15. 1033\n",
       "16. 1265\n",
       "17. 1275\n",
       "18. 1315\n",
       "19. 1388\n",
       "20. 1607\n",
       "21. 1629\n",
       "22. 1651\n",
       "23. 1856\n",
       "24. 1919\n",
       "25. 2101\n",
       "26. 2194\n",
       "27. 2403\n",
       "28. 2443\n",
       "29. 2539\n",
       "30. 2580\n",
       "31. 2655\n",
       "32. 2680\n",
       "33. 2740\n",
       "34. 2838\n",
       "35. 2965\n",
       "36. 3131\n",
       "37. 3133\n",
       "38. 3163\n",
       "39. 3291\n",
       "40. 3370\n",
       "41. 3402\n",
       "42. 3585\n",
       "43. 3652\n",
       "44. 3852\n",
       "45. 3862\n",
       "46. 3912\n",
       "47. 4023\n",
       "48. 4045\n",
       "49. 4107\n",
       "50. 4113\n",
       "51. 4117\n",
       "52. 4185\n",
       "53. 4198\n",
       "54. 4310\n",
       "55. 4343\n",
       "56. 4354\n",
       "57. 4448\n",
       "58. 4453\n",
       "59. 4461\n",
       "60. 4718\n",
       "61. 4817\n",
       "62. 4835\n",
       "63. 4910\n",
       "64. 5140\n",
       "65. 5199\n",
       "66. 5236\n",
       "67. 5326\n",
       "68. 5417\n",
       "69. 5531\n",
       "70. 5574\n",
       "71. 5894\n",
       "72. 6033\n",
       "73. 6044\n",
       "74. 6089\n",
       "75. 6275\n",
       "76. 6376\n",
       "77. 6420\n",
       "\n",
       "\n"
      ],
      "text/plain": [
       " [1]  125  238  262  470  555  568  608  643  787  808  824  849  952  955 1033\n",
       "[16] 1265 1275 1315 1388 1607 1629 1651 1856 1919 2101 2194 2403 2443 2539 2580\n",
       "[31] 2655 2680 2740 2838 2965 3131 3133 3163 3291 3370 3402 3585 3652 3852 3862\n",
       "[46] 3912 4023 4045 4107 4113 4117 4185 4198 4310 4343 4354 4448 4453 4461 4718\n",
       "[61] 4817 4835 4910 5140 5199 5236 5326 5417 5531 5574 5894 6033 6044 6089 6275\n",
       "[76] 6376 6420"
      ]
     },
     "metadata": {},
     "output_type": "display_data"
    }
   ],
   "source": [
    "# households on greater than 10 acres who sold more than $10,000 worth of agriculture products ACR=3 AND AGS=6\n",
    "agricultureLogical <- (acs$ACR == 3 & acs$AGS == 6)\n",
    "which(agricultureLogical)"
   ]
  },
  {
   "cell_type": "code",
   "execution_count": 14,
   "metadata": {
    "collapsed": false
   },
   "outputs": [
    {
     "data": {
      "text/html": [
       "\"logical\""
      ],
      "text/latex": [
       "\"logical\""
      ],
      "text/markdown": [
       "\"logical\""
      ],
      "text/plain": [
       "[1] \"logical\""
      ]
     },
     "metadata": {},
     "output_type": "display_data"
    }
   ],
   "source": [
    "class(agricultureLogical)"
   ]
  },
  {
   "cell_type": "markdown",
   "metadata": {},
   "source": [
    "----"
   ]
  },
  {
   "cell_type": "code",
   "execution_count": 18,
   "metadata": {
    "collapsed": true
   },
   "outputs": [],
   "source": [
    "rm(list = ls())\n",
    "con = url(\"http://biostat.jhsph.edu/~jleek/contact.html\")\n",
    "htmlCode = readLines(con)"
   ]
  },
  {
   "cell_type": "code",
   "execution_count": 22,
   "metadata": {
    "collapsed": false
   },
   "outputs": [
    {
     "name": "stdout",
     "output_type": "stream",
     "text": [
      "[1] 45\n",
      "[1] 31\n",
      "[1] 7\n",
      "[1] 25\n"
     ]
    }
   ],
   "source": [
    "# Get number of characters in different lines of html file\n",
    "for (ind in c(10,20,30,100)){\n",
    "  print(nchar(htmlCode[ind]))\n",
    "}"
   ]
  },
  {
   "cell_type": "code",
   "execution_count": 23,
   "metadata": {
    "collapsed": true
   },
   "outputs": [],
   "source": [
    "library(foreign)\n",
    "if(!file.exists('./data/wks.xpt')) {\n",
    "    fileUrl <- \"https://d396qusza40orc.cloudfront.net/getdata%2Fwksst8110.for\"\n",
    "    download.file(fileUrl, destfile = \"./data/wks.xpt\", method = \"curl\")\n",
    "    dateDownloaded <- date()    \n",
    "}\n",
    "wksData <- read.fwf(\"./data/wks.xpt\",skip=4,widths=c(12, 7,4, 9,4, 9,4, 9,4))"
   ]
  },
  {
   "cell_type": "code",
   "execution_count": 24,
   "metadata": {
    "collapsed": false
   },
   "outputs": [
    {
     "data": {
      "text/html": [
       "<ol class=list-inline>\n",
       "\t<li>1254</li>\n",
       "\t<li>9</li>\n",
       "</ol>\n"
      ],
      "text/latex": [
       "\\begin{enumerate*}\n",
       "\\item 1254\n",
       "\\item 9\n",
       "\\end{enumerate*}\n"
      ],
      "text/markdown": [
       "1. 1254\n",
       "2. 9\n",
       "\n",
       "\n"
      ],
      "text/plain": [
       "[1] 1254    9"
      ]
     },
     "metadata": {},
     "output_type": "display_data"
    }
   ],
   "source": [
    "dim(wksData)"
   ]
  },
  {
   "cell_type": "code",
   "execution_count": 25,
   "metadata": {
    "collapsed": false
   },
   "outputs": [
    {
     "data": {
      "text/html": [
       "<table>\n",
       "<thead><tr><th></th><th scope=col>V1</th><th scope=col>V2</th><th scope=col>V3</th><th scope=col>V4</th><th scope=col>V5</th><th scope=col>V6</th><th scope=col>V7</th><th scope=col>V8</th><th scope=col>V9</th></tr></thead>\n",
       "<tbody>\n",
       "\t<tr><th scope=row>1</th><td> 03JAN1990  </td><td>23.4        </td><td>-0.4        </td><td>25.1        </td><td>-0.3        </td><td>26.6        </td><td>0           </td><td>28.6        </td><td>0.3         </td></tr>\n",
       "\t<tr><th scope=row>2</th><td> 10JAN1990  </td><td>23.4        </td><td>-0.8        </td><td>25.2        </td><td>-0.3        </td><td>26.6        </td><td>0.1         </td><td>28.6        </td><td>0.3         </td></tr>\n",
       "\t<tr><th scope=row>3</th><td> 17JAN1990  </td><td>24.2        </td><td>-0.3        </td><td>25.3        </td><td>-0.3        </td><td>26.5        </td><td>-0.1        </td><td>28.6        </td><td>0.3         </td></tr>\n",
       "\t<tr><th scope=row>4</th><td> 24JAN1990  </td><td>24.4        </td><td>-0.5        </td><td>25.5        </td><td>-0.4        </td><td>26.5        </td><td>-0.1        </td><td>28.4        </td><td>0.2         </td></tr>\n",
       "\t<tr><th scope=row>5</th><td> 31JAN1990  </td><td>25.1        </td><td>-0.2        </td><td>25.8        </td><td>-0.2        </td><td>26.7        </td><td>0.1         </td><td>28.4        </td><td>0.2         </td></tr>\n",
       "\t<tr><th scope=row>6</th><td> 07FEB1990  </td><td>25.8        </td><td>0.2         </td><td>26.1        </td><td>-0.1        </td><td>26.8        </td><td>0.1         </td><td>28.4        </td><td>0.3         </td></tr>\n",
       "</tbody>\n",
       "</table>\n"
      ],
      "text/latex": [
       "\\begin{tabular}{r|lllllllll}\n",
       "  & V1 & V2 & V3 & V4 & V5 & V6 & V7 & V8 & V9\\\\\n",
       "\\hline\n",
       "\t1 &  03JAN1990   & 23.4         & -0.4         & 25.1         & -0.3         & 26.6         & 0            & 28.6         & 0.3         \\\\\n",
       "\t2 &  10JAN1990   & 23.4         & -0.8         & 25.2         & -0.3         & 26.6         & 0.1          & 28.6         & 0.3         \\\\\n",
       "\t3 &  17JAN1990   & 24.2         & -0.3         & 25.3         & -0.3         & 26.5         & -0.1         & 28.6         & 0.3         \\\\\n",
       "\t4 &  24JAN1990   & 24.4         & -0.5         & 25.5         & -0.4         & 26.5         & -0.1         & 28.4         & 0.2         \\\\\n",
       "\t5 &  31JAN1990   & 25.1         & -0.2         & 25.8         & -0.2         & 26.7         & 0.1          & 28.4         & 0.2         \\\\\n",
       "\t6 &  07FEB1990   & 25.8         & 0.2          & 26.1         & -0.1         & 26.8         & 0.1          & 28.4         & 0.3         \\\\\n",
       "\\end{tabular}\n"
      ],
      "text/plain": [
       "            V1   V2   V3   V4   V5   V6   V7   V8  V9\n",
       "1  03JAN1990   23.4 -0.4 25.1 -0.3 26.6  0.0 28.6 0.3\n",
       "2  10JAN1990   23.4 -0.8 25.2 -0.3 26.6  0.1 28.6 0.3\n",
       "3  17JAN1990   24.2 -0.3 25.3 -0.3 26.5 -0.1 28.6 0.3\n",
       "4  24JAN1990   24.4 -0.5 25.5 -0.4 26.5 -0.1 28.4 0.2\n",
       "5  31JAN1990   25.1 -0.2 25.8 -0.2 26.7  0.1 28.4 0.2\n",
       "6  07FEB1990   25.8  0.2 26.1 -0.1 26.8  0.1 28.4 0.3"
      ]
     },
     "metadata": {},
     "output_type": "display_data"
    }
   ],
   "source": [
    "head(wksData)"
   ]
  },
  {
   "cell_type": "code",
   "execution_count": 26,
   "metadata": {
    "collapsed": false
   },
   "outputs": [
    {
     "data": {
      "text/html": [
       "32426.7"
      ],
      "text/latex": [
       "32426.7"
      ],
      "text/markdown": [
       "32426.7"
      ],
      "text/plain": [
       "[1] 32426.7"
      ]
     },
     "metadata": {},
     "output_type": "display_data"
    }
   ],
   "source": [
    "sum(wksData[4])"
   ]
  },
  {
   "cell_type": "markdown",
   "metadata": {},
   "source": [
    "----"
   ]
  },
  {
   "cell_type": "code",
   "execution_count": 30,
   "metadata": {
    "collapsed": false
   },
   "outputs": [
    {
     "name": "stderr",
     "output_type": "stream",
     "text": [
      "Loading required package: jpeg\n"
     ]
    }
   ],
   "source": [
    "if (!require(jpeg)) install.packages('jpeg')"
   ]
  },
  {
   "cell_type": "code",
   "execution_count": 31,
   "metadata": {
    "collapsed": false
   },
   "outputs": [],
   "source": [
    "rm(list=ls())\n",
    "library(jpeg)\n",
    "\n",
    "if(!file.exists('./data/jeff.jpg')) {\n",
    "    fileUrl <- \"https://d396qusza40orc.cloudfront.net/getdata%2Fjeff.jpg\"\n",
    "    download.file(fileUrl, destfile = \"./data/jeff.jpg\", method = \"curl\")\n",
    "}\n",
    "\n",
    "img.n <- readJPEG(\"./data/jeff.jpg\",TRUE)"
   ]
  },
  {
   "cell_type": "code",
   "execution_count": 32,
   "metadata": {
    "collapsed": false
   },
   "outputs": [
    {
     "data": {
      "text/html": [
       "\"nativeRaster\""
      ],
      "text/latex": [
       "\"nativeRaster\""
      ],
      "text/markdown": [
       "\"nativeRaster\""
      ],
      "text/plain": [
       "[1] \"nativeRaster\""
      ]
     },
     "metadata": {},
     "output_type": "display_data"
    }
   ],
   "source": [
    "class(img.n)"
   ]
  },
  {
   "cell_type": "code",
   "execution_count": 33,
   "metadata": {
    "collapsed": false
   },
   "outputs": [
    {
     "data": {
      "text/html": [
       "<ol class=list-inline>\n",
       "\t<li>180</li>\n",
       "\t<li>180</li>\n",
       "</ol>\n"
      ],
      "text/latex": [
       "\\begin{enumerate*}\n",
       "\\item 180\n",
       "\\item 180\n",
       "\\end{enumerate*}\n"
      ],
      "text/markdown": [
       "1. 180\n",
       "2. 180\n",
       "\n",
       "\n"
      ],
      "text/plain": [
       "[1] 180 180"
      ]
     },
     "metadata": {},
     "output_type": "display_data"
    }
   ],
   "source": [
    "dim(img.n)"
   ]
  },
  {
   "cell_type": "code",
   "execution_count": 34,
   "metadata": {
    "collapsed": false
   },
   "outputs": [
    {
     "data": {
      "text/html": [
       "<dl class=dl-horizontal>\n",
       "\t<dt>30%</dt>\n",
       "\t\t<dd>-15259150.1</dd>\n",
       "\t<dt>80%</dt>\n",
       "\t\t<dd>-10575416</dd>\n",
       "</dl>\n"
      ],
      "text/latex": [
       "\\begin{description*}\n",
       "\\item[30\\textbackslash{}\\%] -15259150.1\n",
       "\\item[80\\textbackslash{}\\%] -10575416\n",
       "\\end{description*}\n"
      ],
      "text/markdown": [
       "30%\n",
       ":   -15259150.180%\n",
       ":   -10575416\n",
       "\n"
      ],
      "text/plain": [
       "      30%       80% \n",
       "-15259150 -10575416 "
      ]
     },
     "metadata": {},
     "output_type": "display_data"
    }
   ],
   "source": [
    "quantile(img.n,probs=c(0.3,0.8))"
   ]
  },
  {
   "cell_type": "markdown",
   "metadata": {},
   "source": [
    "---"
   ]
  },
  {
   "cell_type": "code",
   "execution_count": 35,
   "metadata": {
    "collapsed": true
   },
   "outputs": [],
   "source": [
    "rm(list=ls())\n",
    "if(!file.exists('./data/gdp.csv')) {\n",
    "    fileUrl <- \"https://d396qusza40orc.cloudfront.net/getdata%2Fdata%2FGDP.csv\"\n",
    "    download.file(fileUrl, destfile = \"./data/gdp.csv\", method = \"curl\")    \n",
    "}\n",
    "gdp <- read.csv(\"./data/gdp.csv\")"
   ]
  },
  {
   "cell_type": "code",
   "execution_count": 36,
   "metadata": {
    "collapsed": true
   },
   "outputs": [],
   "source": [
    "if(!file.exists(\"./data/edu.csv\")) {\n",
    "    fileUrl1 <- \"https://d396qusza40orc.cloudfront.net/getdata%2Fdata%2FEDSTATS_Country.csv\"\n",
    "    download.file(fileUrl1, destfile = \"./data/edu.csv\", method = \"curl\")    \n",
    "}\n",
    "edu <- read.csv(\"./data/edu.csv\")"
   ]
  },
  {
   "cell_type": "code",
   "execution_count": 37,
   "metadata": {
    "collapsed": false
   },
   "outputs": [
    {
     "data": {
      "text/html": [
       "<ol class=list-inline>\n",
       "\t<li>330</li>\n",
       "\t<li>10</li>\n",
       "</ol>\n"
      ],
      "text/latex": [
       "\\begin{enumerate*}\n",
       "\\item 330\n",
       "\\item 10\n",
       "\\end{enumerate*}\n"
      ],
      "text/markdown": [
       "1. 330\n",
       "2. 10\n",
       "\n",
       "\n"
      ],
      "text/plain": [
       "[1] 330  10"
      ]
     },
     "metadata": {},
     "output_type": "display_data"
    }
   ],
   "source": [
    "dim(gdp)"
   ]
  },
  {
   "cell_type": "code",
   "execution_count": 39,
   "metadata": {
    "collapsed": false
   },
   "outputs": [
    {
     "data": {
      "text/html": [
       "<ol class=list-inline>\n",
       "\t<li>\"X\"</li>\n",
       "\t<li>\"Gross.domestic.product.2012\"</li>\n",
       "\t<li>\"X.1\"</li>\n",
       "\t<li>\"X.2\"</li>\n",
       "\t<li>\"X.3\"</li>\n",
       "\t<li>\"X.4\"</li>\n",
       "\t<li>\"X.5\"</li>\n",
       "\t<li>\"X.6\"</li>\n",
       "\t<li>\"X.7\"</li>\n",
       "\t<li>\"X.8\"</li>\n",
       "</ol>\n"
      ],
      "text/latex": [
       "\\begin{enumerate*}\n",
       "\\item \"X\"\n",
       "\\item \"Gross.domestic.product.2012\"\n",
       "\\item \"X.1\"\n",
       "\\item \"X.2\"\n",
       "\\item \"X.3\"\n",
       "\\item \"X.4\"\n",
       "\\item \"X.5\"\n",
       "\\item \"X.6\"\n",
       "\\item \"X.7\"\n",
       "\\item \"X.8\"\n",
       "\\end{enumerate*}\n"
      ],
      "text/markdown": [
       "1. \"X\"\n",
       "2. \"Gross.domestic.product.2012\"\n",
       "3. \"X.1\"\n",
       "4. \"X.2\"\n",
       "5. \"X.3\"\n",
       "6. \"X.4\"\n",
       "7. \"X.5\"\n",
       "8. \"X.6\"\n",
       "9. \"X.7\"\n",
       "10. \"X.8\"\n",
       "\n",
       "\n"
      ],
      "text/plain": [
       " [1] \"X\"                           \"Gross.domestic.product.2012\"\n",
       " [3] \"X.1\"                         \"X.2\"                        \n",
       " [5] \"X.3\"                         \"X.4\"                        \n",
       " [7] \"X.5\"                         \"X.6\"                        \n",
       " [9] \"X.7\"                         \"X.8\"                        "
      ]
     },
     "metadata": {},
     "output_type": "display_data"
    },
    {
     "data": {
      "text/html": [
       "<ol class=list-inline>\n",
       "\t<li>\"CountryCode\"</li>\n",
       "\t<li>\"Long.Name\"</li>\n",
       "\t<li>\"Income.Group\"</li>\n",
       "\t<li>\"Region\"</li>\n",
       "\t<li>\"Lending.category\"</li>\n",
       "\t<li>\"Other.groups\"</li>\n",
       "\t<li>\"Currency.Unit\"</li>\n",
       "\t<li>\"Latest.population.census\"</li>\n",
       "\t<li>\"Latest.household.survey\"</li>\n",
       "\t<li>\"Special.Notes\"</li>\n",
       "\t<li>\"National.accounts.base.year\"</li>\n",
       "\t<li>\"National.accounts.reference.year\"</li>\n",
       "\t<li>\"System.of.National.Accounts\"</li>\n",
       "\t<li>\"SNA.price.valuation\"</li>\n",
       "\t<li>\"Alternative.conversion.factor\"</li>\n",
       "\t<li>\"PPP.survey.year\"</li>\n",
       "\t<li>\"Balance.of.Payments.Manual.in.use\"</li>\n",
       "\t<li>\"External.debt.Reporting.status\"</li>\n",
       "\t<li>\"System.of.trade\"</li>\n",
       "\t<li>\"Government.Accounting.concept\"</li>\n",
       "\t<li>\"IMF.data.dissemination.standard\"</li>\n",
       "\t<li>\"Source.of.most.recent.Income.and.expenditure.data\"</li>\n",
       "\t<li>\"Vital.registration.complete\"</li>\n",
       "\t<li>\"Latest.agricultural.census\"</li>\n",
       "\t<li>\"Latest.industrial.data\"</li>\n",
       "\t<li>\"Latest.trade.data\"</li>\n",
       "\t<li>\"Latest.water.withdrawal.data\"</li>\n",
       "\t<li>\"X2.alpha.code\"</li>\n",
       "\t<li>\"WB.2.code\"</li>\n",
       "\t<li>\"Table.Name\"</li>\n",
       "\t<li>\"Short.Name\"</li>\n",
       "</ol>\n"
      ],
      "text/latex": [
       "\\begin{enumerate*}\n",
       "\\item \"CountryCode\"\n",
       "\\item \"Long.Name\"\n",
       "\\item \"Income.Group\"\n",
       "\\item \"Region\"\n",
       "\\item \"Lending.category\"\n",
       "\\item \"Other.groups\"\n",
       "\\item \"Currency.Unit\"\n",
       "\\item \"Latest.population.census\"\n",
       "\\item \"Latest.household.survey\"\n",
       "\\item \"Special.Notes\"\n",
       "\\item \"National.accounts.base.year\"\n",
       "\\item \"National.accounts.reference.year\"\n",
       "\\item \"System.of.National.Accounts\"\n",
       "\\item \"SNA.price.valuation\"\n",
       "\\item \"Alternative.conversion.factor\"\n",
       "\\item \"PPP.survey.year\"\n",
       "\\item \"Balance.of.Payments.Manual.in.use\"\n",
       "\\item \"External.debt.Reporting.status\"\n",
       "\\item \"System.of.trade\"\n",
       "\\item \"Government.Accounting.concept\"\n",
       "\\item \"IMF.data.dissemination.standard\"\n",
       "\\item \"Source.of.most.recent.Income.and.expenditure.data\"\n",
       "\\item \"Vital.registration.complete\"\n",
       "\\item \"Latest.agricultural.census\"\n",
       "\\item \"Latest.industrial.data\"\n",
       "\\item \"Latest.trade.data\"\n",
       "\\item \"Latest.water.withdrawal.data\"\n",
       "\\item \"X2.alpha.code\"\n",
       "\\item \"WB.2.code\"\n",
       "\\item \"Table.Name\"\n",
       "\\item \"Short.Name\"\n",
       "\\end{enumerate*}\n"
      ],
      "text/markdown": [
       "1. \"CountryCode\"\n",
       "2. \"Long.Name\"\n",
       "3. \"Income.Group\"\n",
       "4. \"Region\"\n",
       "5. \"Lending.category\"\n",
       "6. \"Other.groups\"\n",
       "7. \"Currency.Unit\"\n",
       "8. \"Latest.population.census\"\n",
       "9. \"Latest.household.survey\"\n",
       "10. \"Special.Notes\"\n",
       "11. \"National.accounts.base.year\"\n",
       "12. \"National.accounts.reference.year\"\n",
       "13. \"System.of.National.Accounts\"\n",
       "14. \"SNA.price.valuation\"\n",
       "15. \"Alternative.conversion.factor\"\n",
       "16. \"PPP.survey.year\"\n",
       "17. \"Balance.of.Payments.Manual.in.use\"\n",
       "18. \"External.debt.Reporting.status\"\n",
       "19. \"System.of.trade\"\n",
       "20. \"Government.Accounting.concept\"\n",
       "21. \"IMF.data.dissemination.standard\"\n",
       "22. \"Source.of.most.recent.Income.and.expenditure.data\"\n",
       "23. \"Vital.registration.complete\"\n",
       "24. \"Latest.agricultural.census\"\n",
       "25. \"Latest.industrial.data\"\n",
       "26. \"Latest.trade.data\"\n",
       "27. \"Latest.water.withdrawal.data\"\n",
       "28. \"X2.alpha.code\"\n",
       "29. \"WB.2.code\"\n",
       "30. \"Table.Name\"\n",
       "31. \"Short.Name\"\n",
       "\n",
       "\n"
      ],
      "text/plain": [
       " [1] \"CountryCode\"                                      \n",
       " [2] \"Long.Name\"                                        \n",
       " [3] \"Income.Group\"                                     \n",
       " [4] \"Region\"                                           \n",
       " [5] \"Lending.category\"                                 \n",
       " [6] \"Other.groups\"                                     \n",
       " [7] \"Currency.Unit\"                                    \n",
       " [8] \"Latest.population.census\"                         \n",
       " [9] \"Latest.household.survey\"                          \n",
       "[10] \"Special.Notes\"                                    \n",
       "[11] \"National.accounts.base.year\"                      \n",
       "[12] \"National.accounts.reference.year\"                 \n",
       "[13] \"System.of.National.Accounts\"                      \n",
       "[14] \"SNA.price.valuation\"                              \n",
       "[15] \"Alternative.conversion.factor\"                    \n",
       "[16] \"PPP.survey.year\"                                  \n",
       "[17] \"Balance.of.Payments.Manual.in.use\"                \n",
       "[18] \"External.debt.Reporting.status\"                   \n",
       "[19] \"System.of.trade\"                                  \n",
       "[20] \"Government.Accounting.concept\"                    \n",
       "[21] \"IMF.data.dissemination.standard\"                  \n",
       "[22] \"Source.of.most.recent.Income.and.expenditure.data\"\n",
       "[23] \"Vital.registration.complete\"                      \n",
       "[24] \"Latest.agricultural.census\"                       \n",
       "[25] \"Latest.industrial.data\"                           \n",
       "[26] \"Latest.trade.data\"                                \n",
       "[27] \"Latest.water.withdrawal.data\"                     \n",
       "[28] \"X2.alpha.code\"                                    \n",
       "[29] \"WB.2.code\"                                        \n",
       "[30] \"Table.Name\"                                       \n",
       "[31] \"Short.Name\"                                       "
      ]
     },
     "metadata": {},
     "output_type": "display_data"
    },
    {
     "data": {
      "text/html": [
       "<table>\n",
       "<thead><tr><th></th><th scope=col>X</th><th scope=col>Gross.domestic.product.2012</th><th scope=col>X.1</th><th scope=col>X.2</th><th scope=col>X.3</th><th scope=col>X.4</th><th scope=col>X.5</th><th scope=col>X.6</th><th scope=col>X.7</th><th scope=col>X.8</th></tr></thead>\n",
       "<tbody>\n",
       "\t<tr><th scope=row>1</th><td>  </td><td>  </td><td>NA</td><td>  </td><td>  </td><td>  </td><td>NA</td><td>NA</td><td>NA</td><td>NA</td></tr>\n",
       "\t<tr><th scope=row>2</th><td>            </td><td>            </td><td>NA          </td><td>            </td><td>(millions of</td><td>            </td><td>NA          </td><td>NA          </td><td>NA          </td><td>NA          </td></tr>\n",
       "\t<tr><th scope=row>3</th><td>           </td><td>Ranking    </td><td>NA         </td><td>Economy    </td><td>US dollars)</td><td>           </td><td>NA         </td><td>NA         </td><td>NA         </td><td>NA         </td></tr>\n",
       "\t<tr><th scope=row>4</th><td>  </td><td>  </td><td>NA</td><td>  </td><td>  </td><td>  </td><td>NA</td><td>NA</td><td>NA</td><td>NA</td></tr>\n",
       "\t<tr><th scope=row>5</th><td>USA          </td><td>1            </td><td>NA           </td><td>United States</td><td> 16,244,600  </td><td>             </td><td>NA           </td><td>NA           </td><td>NA           </td><td>NA           </td></tr>\n",
       "\t<tr><th scope=row>6</th><td>CHN        </td><td>2          </td><td>NA         </td><td>China      </td><td> 8,227,103 </td><td>           </td><td>NA         </td><td>NA         </td><td>NA         </td><td>NA         </td></tr>\n",
       "\t<tr><th scope=row>7</th><td>JPN        </td><td>3          </td><td>NA         </td><td>Japan      </td><td> 5,959,718 </td><td>           </td><td>NA         </td><td>NA         </td><td>NA         </td><td>NA         </td></tr>\n",
       "\t<tr><th scope=row>8</th><td>DEU        </td><td>4          </td><td>NA         </td><td>Germany    </td><td> 3,428,131 </td><td>           </td><td>NA         </td><td>NA         </td><td>NA         </td><td>NA         </td></tr>\n",
       "\t<tr><th scope=row>9</th><td>FRA        </td><td>5          </td><td>NA         </td><td>France     </td><td> 2,612,878 </td><td>           </td><td>NA         </td><td>NA         </td><td>NA         </td><td>NA         </td></tr>\n",
       "\t<tr><th scope=row>10</th><td>GBR           </td><td>6             </td><td>NA            </td><td>United Kingdom</td><td> 2,471,784    </td><td>              </td><td>NA            </td><td>NA            </td><td>NA            </td><td>NA            </td></tr>\n",
       "</tbody>\n",
       "</table>\n"
      ],
      "text/latex": [
       "\\begin{tabular}{r|llllllllll}\n",
       "  & X & Gross.domestic.product.2012 & X.1 & X.2 & X.3 & X.4 & X.5 & X.6 & X.7 & X.8\\\\\n",
       "\\hline\n",
       "\t1 &    &    & NA &    &    &    & NA & NA & NA & NA\\\\\n",
       "\t2 &              &              & NA           &              & (millions of &              & NA           & NA           & NA           & NA          \\\\\n",
       "\t3 &             & Ranking     & NA          & Economy     & US dollars) &             & NA          & NA          & NA          & NA         \\\\\n",
       "\t4 &    &    & NA &    &    &    & NA & NA & NA & NA\\\\\n",
       "\t5 & USA           & 1             & NA            & United States &  16,244,600   &               & NA            & NA            & NA            & NA           \\\\\n",
       "\t6 & CHN         & 2           & NA          & China       &  8,227,103  &             & NA          & NA          & NA          & NA         \\\\\n",
       "\t7 & JPN         & 3           & NA          & Japan       &  5,959,718  &             & NA          & NA          & NA          & NA         \\\\\n",
       "\t8 & DEU         & 4           & NA          & Germany     &  3,428,131  &             & NA          & NA          & NA          & NA         \\\\\n",
       "\t9 & FRA         & 5           & NA          & France      &  2,612,878  &             & NA          & NA          & NA          & NA         \\\\\n",
       "\t10 & GBR            & 6              & NA             & United Kingdom &  2,471,784     &                & NA             & NA             & NA             & NA            \\\\\n",
       "\\end{tabular}\n"
      ],
      "text/plain": [
       "     X Gross.domestic.product.2012 X.1            X.2          X.3 X.4 X.5 X.6\n",
       "1                                   NA                                  NA  NA\n",
       "2                                   NA                (millions of      NA  NA\n",
       "3                          Ranking  NA        Economy  US dollars)      NA  NA\n",
       "4                                   NA                                  NA  NA\n",
       "5  USA                           1  NA  United States  16,244,600       NA  NA\n",
       "6  CHN                           2  NA          China   8,227,103       NA  NA\n",
       "7  JPN                           3  NA          Japan   5,959,718       NA  NA\n",
       "8  DEU                           4  NA        Germany   3,428,131       NA  NA\n",
       "9  FRA                           5  NA         France   2,612,878       NA  NA\n",
       "10 GBR                           6  NA United Kingdom   2,471,784       NA  NA\n",
       "   X.7 X.8\n",
       "1   NA  NA\n",
       "2   NA  NA\n",
       "3   NA  NA\n",
       "4   NA  NA\n",
       "5   NA  NA\n",
       "6   NA  NA\n",
       "7   NA  NA\n",
       "8   NA  NA\n",
       "9   NA  NA\n",
       "10  NA  NA"
      ]
     },
     "metadata": {},
     "output_type": "display_data"
    },
    {
     "data": {
      "text/html": [
       "<table>\n",
       "<thead><tr><th></th><th scope=col>CountryCode</th><th scope=col>Long.Name</th><th scope=col>Income.Group</th><th scope=col>Region</th><th scope=col>Lending.category</th><th scope=col>Other.groups</th><th scope=col>Currency.Unit</th><th scope=col>Latest.population.census</th><th scope=col>Latest.household.survey</th><th scope=col>Special.Notes</th><th scope=col>National.accounts.base.year</th><th scope=col>National.accounts.reference.year</th></tr></thead>\n",
       "<tbody>\n",
       "\t<tr><th scope=row>1</th><td>ABW                          </td><td>Aruba                        </td><td>High income: nonOECD         </td><td>Latin America &amp; Caribbean</td><td>                             </td><td>                             </td><td>Aruban florin                </td><td>2000                         </td><td>                             </td><td>                             </td><td>1995                         </td><td>NA                           </td></tr>\n",
       "\t<tr><th scope=row>2</th><td>ADO                      </td><td>Principality of Andorra  </td><td>High income: nonOECD     </td><td>Europe &amp; Central Asia</td><td>                         </td><td>                         </td><td>Euro                     </td><td>Register based           </td><td>                         </td><td>                         </td><td>                         </td><td>NA                       </td></tr>\n",
       "\t<tr><th scope=row>3</th><td>AFG                                                                        </td><td>Islamic State of Afghanistan                                               </td><td>Low income                                                                 </td><td>South Asia                                                                 </td><td>IDA                                                                        </td><td>HIPC                                                                       </td><td>Afghan afghani                                                             </td><td>1979                                                                       </td><td>MICS, 2003                                                                 </td><td>Fiscal year end: March 20; reporting period for national accounts data: FY.</td><td>2002/2003                                                                  </td><td>NA                                                                         </td></tr>\n",
       "</tbody>\n",
       "</table>\n"
      ],
      "text/latex": [
       "\\begin{tabular}{r|llllllllllll}\n",
       "  & CountryCode & Long.Name & Income.Group & Region & Lending.category & Other.groups & Currency.Unit & Latest.population.census & Latest.household.survey & Special.Notes & National.accounts.base.year & National.accounts.reference.year\\\\\n",
       "\\hline\n",
       "\t1 & ABW                         & Aruba                       & High income: nonOECD        & Latin America \\& Caribbean &                             &                             & Aruban florin               & 2000                        &                             &                             & 1995                        & NA                         \\\\\n",
       "\t2 & ADO                     & Principality of Andorra & High income: nonOECD    & Europe \\& Central Asia &                         &                         & Euro                    & Register based          &                         &                         &                         & NA                     \\\\\n",
       "\t3 & AFG                                                                         & Islamic State of Afghanistan                                                & Low income                                                                  & South Asia                                                                  & IDA                                                                         & HIPC                                                                        & Afghan afghani                                                              & 1979                                                                        & MICS, 2003                                                                  & Fiscal year end: March 20; reporting period for national accounts data: FY. & 2002/2003                                                                   & NA                                                                         \\\\\n",
       "\\end{tabular}\n"
      ],
      "text/plain": [
       "  CountryCode                    Long.Name         Income.Group\n",
       "1         ABW                        Aruba High income: nonOECD\n",
       "2         ADO      Principality of Andorra High income: nonOECD\n",
       "3         AFG Islamic State of Afghanistan           Low income\n",
       "                     Region Lending.category Other.groups  Currency.Unit\n",
       "1 Latin America & Caribbean                                Aruban florin\n",
       "2     Europe & Central Asia                                         Euro\n",
       "3                South Asia              IDA         HIPC Afghan afghani\n",
       "  Latest.population.census Latest.household.survey\n",
       "1                     2000                        \n",
       "2           Register based                        \n",
       "3                     1979              MICS, 2003\n",
       "                                                                Special.Notes\n",
       "1                                                                            \n",
       "2                                                                            \n",
       "3 Fiscal year end: March 20; reporting period for national accounts data: FY.\n",
       "  National.accounts.base.year National.accounts.reference.year\n",
       "1                        1995                               NA\n",
       "2                                                           NA\n",
       "3                   2002/2003                               NA"
      ]
     },
     "metadata": {},
     "output_type": "display_data"
    }
   ],
   "source": [
    "#X=CountryCode\n",
    "names(gdp)\n",
    "names(edu)\n",
    "head(gdp, 10)\n",
    "head(edu[,1:12], 3)"
   ]
  },
  {
   "cell_type": "code",
   "execution_count": 40,
   "metadata": {
    "collapsed": true
   },
   "outputs": [],
   "source": [
    "gdpclean <- gdp[5:194,]"
   ]
  },
  {
   "cell_type": "code",
   "execution_count": 43,
   "metadata": {
    "collapsed": true
   },
   "outputs": [],
   "source": [
    "library(stringr)"
   ]
  },
  {
   "cell_type": "code",
   "execution_count": 45,
   "metadata": {
    "collapsed": false
   },
   "outputs": [
    {
     "data": {
      "text/html": [
       "377652.421052632"
      ],
      "text/latex": [
       "377652.421052632"
      ],
      "text/markdown": [
       "377652.421052632"
      ],
      "text/plain": [
       "[1] 377652.4"
      ]
     },
     "metadata": {},
     "output_type": "display_data"
    }
   ],
   "source": [
    "mean(as.numeric(stringr::str_trim(gsub(\",\", \"\", gdpclean[[\"X.3\"]]))))"
   ]
  },
  {
   "cell_type": "code",
   "execution_count": 46,
   "metadata": {
    "collapsed": false,
    "scrolled": false
   },
   "outputs": [
    {
     "data": {
      "text/plain": [
       "       X      Gross.domestic.product.2012   X.1                      X.2    \n",
       " AUS    : 1   Min.   :  1.00              Mode:logical   Australia     : 1  \n",
       " AUT    : 1   1st Qu.: 12.25              NA's:30        Austria       : 1  \n",
       " BEL    : 1   Median : 24.50                             Belgium       : 1  \n",
       " CAN    : 1   Mean   : 32.97                             Canada        : 1  \n",
       " CHE    : 1   3rd Qu.: 45.75                             Czech Republic: 1  \n",
       " CZE    : 1   Max.   :122.00                             Denmark       : 1  \n",
       " (Other):24                                              (Other)       :24  \n",
       "          X.3     X.4      X.5            X.6            X.7         \n",
       "  1,129,598 : 1    :30   Mode:logical   Mode:logical   Mode:logical  \n",
       "  1,322,965 : 1   a: 0   NA's:30        NA's:30        NA's:30       \n",
       "  1,532,408 : 1   b: 0                                               \n",
       "  1,821,424 : 1   c: 0                                               \n",
       "  124,600   : 1   d: 0                                               \n",
       "  13,579    : 1   e: 0                                               \n",
       " (Other)    :24   f: 0                                               \n",
       "   X.8                                Long.Name                Income.Group\n",
       " Mode:logical   Canada                     : 1                       : 0   \n",
       " NA's:30        Commonwealth of Australia  : 1   High income: nonOECD: 0   \n",
       "                Czech Republic             : 1   High income: OECD   :30   \n",
       "                Federal Republic of Germany: 1   Low income          : 0   \n",
       "                French Republic            : 1   Lower middle income : 0   \n",
       "                Grand Duchy of Luxembourg  : 1   Upper middle income : 0   \n",
       "                (Other)                    :24                             \n",
       "                        Region   Lending.category    Other.groups\n",
       " Europe & Central Asia     :23        :28                  :16   \n",
       " East Asia & Pacific       : 4   Blend: 0         Euro area:14   \n",
       " North America             : 2   IBRD : 2         HIPC     : 0   \n",
       " Middle East & North Africa: 1   IDA  : 0                        \n",
       "                           : 0                                   \n",
       " Latin America & Caribbean : 0                                   \n",
       " (Other)                   : 0                                   \n",
       "           Currency.Unit   Latest.population.census\n",
       " Euro             :14    2001          :15         \n",
       " Australian dollar: 1    2006          : 4         \n",
       " Canadian dollar  : 1    2000          : 3         \n",
       " Czech koruna     : 1    2002          : 2         \n",
       " Danish krone     : 1    2005          : 2         \n",
       " Hungarian forint : 1    Register based: 2         \n",
       " (Other)          :11    (Other)       : 2         \n",
       "             Latest.household.survey\n",
       "                         :28        \n",
       " CPS (monthly)           : 1        \n",
       " RHS, 1993               : 1        \n",
       " Demographic survey, 2007: 0        \n",
       " DGHS, 2003              : 0        \n",
       " DHS 2007                : 0        \n",
       " (Other)                 : 0        \n",
       "                                                                                                                                                                                                                                                                                                                                                        Special.Notes\n",
       "                                                                                                                                                                                                                                                                                                                                                               :10   \n",
       " Fiscal year end: March 31; reporting period for national accounts data: CY.                                                                                                                                                                                                                                                                                   : 2   \n",
       " A simple multiplier is used to convert the national currencies of EMU members to euros. The following irrevocable euro conversion rate entered into force on January 1, 2007: 1 euro = 239.64 Slovenian tolar. Please note that historical data are not actual euros and are not comparable or suitable for aggregation across countries.                     : 1   \n",
       " A simple multiplier is used to convert the national currencies of EMU members to euros. The following irrevocable euro conversion rate entered into force on January 1, 2009: 1 euro = 30.126 Slovak koruna. Please note that historical data are not actual euros and are not comparable or suitable for aggregation across countries.                       : 1   \n",
       " A simple multiplier is used to convert the national currencies of EMU members to euros. The following irrevocable euro conversion rate was adopted by the EU Council on January 1, 1999: 1 euro = 0.787564 Irish pound. Please note that historical data before 1999 are not actual euros and are not comparable or suitable for aggregation across countries.: 1   \n",
       " A simple multiplier is used to convert the national currencies of EMU members to euros. The following irrevocable euro conversion rate was adopted by the EU Council on January 1, 1999: 1 euro = 1.95583 German mark. Please note that historical data before 1999 are not actual euros and are not comparable or suitable for aggregation across countries. : 1   \n",
       " (Other)                                                                                                                                                                                                                                                                                                                                                       :14   \n",
       " National.accounts.base.year National.accounts.reference.year\n",
       " 2000     :17                Min.   :1995                    \n",
       "          :11                1st Qu.:2000                    \n",
       " 2000/2001: 1                Median :2000                    \n",
       " 2005     : 1                Mean   :2000                    \n",
       " 1954     : 0                3rd Qu.:2000                    \n",
       " 1973     : 0                Max.   :2007                    \n",
       " (Other)  : 0                NA's   :17                      \n",
       " System.of.National.Accounts SNA.price.valuation Alternative.conversion.factor\n",
       " Min.   :1993                   : 0                     :30                   \n",
       " 1st Qu.:1993                VAB:29              1960-85: 0                   \n",
       " Median :1993                VAP: 1              1965-84: 0                   \n",
       " Mean   :1993                                    1965-95: 0                   \n",
       " 3rd Qu.:1993                                    1970-08: 0                   \n",
       " Max.   :1993                                    1971-84: 0                   \n",
       " NA's   :8                                       (Other): 0                   \n",
       " PPP.survey.year Balance.of.Payments.Manual.in.use\n",
       " Min.   :2005        : 0                          \n",
       " 1st Qu.:2005    BPM4: 0                          \n",
       " Median :2005    BPM5:30                          \n",
       " Mean   :2005                                     \n",
       " 3rd Qu.:2005                                     \n",
       " Max.   :2005                                     \n",
       "                                                  \n",
       " External.debt.Reporting.status System.of.trade Government.Accounting.concept\n",
       "            :29                        : 0                  : 0              \n",
       " Actual     : 1                 General:14      Budgetary   : 0              \n",
       " Estimate   : 0                 Special:16      Consolidated:30              \n",
       " Preliminary: 0                                                              \n",
       "                                                                             \n",
       "                                                                             \n",
       "                                                                             \n",
       " IMF.data.dissemination.standard\n",
       "     : 1                        \n",
       " GDDS: 0                        \n",
       " SDDS:29                        \n",
       "                                \n",
       "                                \n",
       "                                \n",
       "                                \n",
       " Source.of.most.recent.Income.and.expenditure.data Vital.registration.complete\n",
       " IHS, 2000  : 5                                       : 0                     \n",
       " IS, 2000   : 3                                    Yes:30                     \n",
       "            : 2                                                               \n",
       " ES/BS, 2000: 2                                                               \n",
       " ES/BS, 2004: 2                                                               \n",
       " IS, 1997   : 2                                                               \n",
       " (Other)    :14                                                               \n",
       "                  Latest.agricultural.census Latest.industrial.data\n",
       " 2000                          :8            Min.   :2001          \n",
       " 1999-2000                     :7            1st Qu.:2004          \n",
       " 1999-2000 (conducted annually):4            Median :2004          \n",
       " 1999                          :3            Mean   :2004          \n",
       " 2001                          :2            3rd Qu.:2004          \n",
       "                               :1            Max.   :2005          \n",
       " (Other)                       :5            NA's   :1             \n",
       " Latest.trade.data Latest.water.withdrawal.data X2.alpha.code   WB.2.code \n",
       " Min.   :2008      Min.   :2000                 AT     : 1    AT     : 1  \n",
       " 1st Qu.:2008      1st Qu.:2000                 AU     : 1    AU     : 1  \n",
       " Median :2008      Median :2000                 BE     : 1    BE     : 1  \n",
       " Mean   :2008      Mean   :2000                 CA     : 1    CA     : 1  \n",
       " 3rd Qu.:2008      3rd Qu.:2000                 CH     : 1    CH     : 1  \n",
       " Max.   :2008      Max.   :2004                 CZ     : 1    CZ     : 1  \n",
       "                   NA's   :5                    (Other):24    (Other):24  \n",
       "          Table.Name          Short.Name\n",
       " Australia     : 1   Australia     : 1  \n",
       " Austria       : 1   Austria       : 1  \n",
       " Belgium       : 1   Belgium       : 1  \n",
       " Canada        : 1   Canada        : 1  \n",
       " Czech Republic: 1   Czech Republic: 1  \n",
       " Denmark       : 1   Denmark       : 1  \n",
       " (Other)       :24   (Other)       :24  "
      ]
     },
     "metadata": {},
     "output_type": "display_data"
    }
   ],
   "source": [
    "mergedData = as.data.frame(merge(gdpclean,edu,by.x=\"X\",by.y=\"CountryCode\"))\n",
    "\n",
    "mergedData$Gross.domestic.product.2012 = as.numeric(as.character(mergedData$Gross.domestic.product.2012))\n",
    "\n",
    "summary(mergedData[mergedData$Income.Group == \"High income: OECD\",])"
   ]
  },
  {
   "cell_type": "code",
   "execution_count": 47,
   "metadata": {
    "collapsed": false
   },
   "outputs": [
    {
     "data": {
      "text/html": [
       "<dl class=dl-horizontal>\n",
       "\t<dt>20%</dt>\n",
       "\t\t<dd>38.6</dd>\n",
       "\t<dt>40%</dt>\n",
       "\t\t<dd>76.2</dd>\n",
       "\t<dt>60%</dt>\n",
       "\t\t<dd>113.8</dd>\n",
       "\t<dt>80%</dt>\n",
       "\t\t<dd>152.4</dd>\n",
       "\t<dt>100%</dt>\n",
       "\t\t<dd>190</dd>\n",
       "</dl>\n"
      ],
      "text/latex": [
       "\\begin{description*}\n",
       "\\item[20\\textbackslash{}\\%] 38.6\n",
       "\\item[40\\textbackslash{}\\%] 76.2\n",
       "\\item[60\\textbackslash{}\\%] 113.8\n",
       "\\item[80\\textbackslash{}\\%] 152.4\n",
       "\\item[100\\textbackslash{}\\%] 190\n",
       "\\end{description*}\n"
      ],
      "text/markdown": [
       "20%\n",
       ":   38.640%\n",
       ":   76.260%\n",
       ":   113.880%\n",
       ":   152.4100%\n",
       ":   190\n",
       "\n"
      ],
      "text/plain": [
       "  20%   40%   60%   80%  100% \n",
       " 38.6  76.2 113.8 152.4 190.0 "
      ]
     },
     "metadata": {},
     "output_type": "display_data"
    }
   ],
   "source": [
    "quantile(mergedData$Gross.domestic.product.2012, probs=c(0.2,0.4,0.6,0.8,1))"
   ]
  },
  {
   "cell_type": "code",
   "execution_count": 48,
   "metadata": {
    "collapsed": false
   },
   "outputs": [
    {
     "name": "stderr",
     "output_type": "stream",
     "text": [
      "Loading required package: lattice\n",
      "Loading required package: survival\n",
      "Loading required package: Formula\n",
      "Loading required package: ggplot2\n",
      "\n",
      "Attaching package: 'Hmisc'\n",
      "\n",
      "The following objects are masked from 'package:base':\n",
      "\n",
      "    format.pval, round.POSIXt, trunc.POSIXt, units\n",
      "\n"
     ]
    }
   ],
   "source": [
    "library(Hmisc)"
   ]
  },
  {
   "cell_type": "code",
   "execution_count": 49,
   "metadata": {
    "collapsed": true
   },
   "outputs": [],
   "source": [
    "mergedData$gdp = cut2(mergedData$Gross.domestic.product.2012, g=5)"
   ]
  },
  {
   "cell_type": "code",
   "execution_count": 50,
   "metadata": {
    "collapsed": false
   },
   "outputs": [
    {
     "data": {
      "text/plain": [
       "                      \n",
       "                       [  1, 39) [ 39, 77) [ 77,115) [115,154) [154,190]\n",
       "                               0         0         0         0         0\n",
       "  High income: nonOECD         4         5         8         5         1\n",
       "  High income: OECD           18        10         1         1         0\n",
       "  Low income                   0         1         9        16        11\n",
       "  Lower middle income          5        13        12         8        16\n",
       "  Upper middle income         11         9         8         8         9"
      ]
     },
     "metadata": {},
     "output_type": "display_data"
    }
   ],
   "source": [
    "table(mergedData$Income.Group, mergedData$gdp)"
   ]
  },
  {
   "cell_type": "code",
   "execution_count": 51,
   "metadata": {
    "collapsed": false
   },
   "outputs": [
    {
     "data": {
      "text/html": [
       "13"
      ],
      "text/latex": [
       "13"
      ],
      "text/markdown": [
       "13"
      ],
      "text/plain": [
       "[1] 13"
      ]
     },
     "metadata": {},
     "output_type": "display_data"
    }
   ],
   "source": [
    "f = mergedData[grep(\"[Ff]iscal\", mergedData[[\"Special.Notes\"]]), ]\n",
    "length(grep(\"[Jj]une\", f[[\"Special.Notes\"]]))"
   ]
  },
  {
   "cell_type": "code",
   "execution_count": null,
   "metadata": {
    "collapsed": true
   },
   "outputs": [],
   "source": []
  },
  {
   "cell_type": "markdown",
   "metadata": {},
   "source": [
    "----"
   ]
  },
  {
   "cell_type": "code",
   "execution_count": 52,
   "metadata": {
    "collapsed": false
   },
   "outputs": [
    {
     "name": "stderr",
     "output_type": "stream",
     "text": [
      "\n",
      "Attaching package: 'RMySQL'\n",
      "\n",
      "The following object is masked from 'package:RSQLite':\n",
      "\n",
      "    isIdCurrent\n",
      "\n"
     ]
    },
    {
     "ename": "ERROR",
     "evalue": "Error in .local(drv, ...): Failed to connect to database: Error: Can't connect to MySQL server on 'genome-mysql.cse.ucsc.edu' (0)\n\n",
     "output_type": "error",
     "traceback": [
      "Error in .local(drv, ...): Failed to connect to database: Error: Can't connect to MySQL server on 'genome-mysql.cse.ucsc.edu' (0)\n\nTraceback:\n",
      "1. dbConnect(MySQL(), user = \"genome\", host = \"genome-mysql.cse.ucsc.edu\")",
      "2. dbConnect(MySQL(), user = \"genome\", host = \"genome-mysql.cse.ucsc.edu\")",
      "3. .local(drv, ...)"
     ]
    }
   ],
   "source": [
    "library(\"RMySQL\")\n",
    "ucscDb <- dbConnect(MySQL(),user=\"genome\",host=\"genome-mysql.cse.ucsc.edu\")\n",
    "result <- dbGetQuery(ucscDb,\"show databases;\");dbDisconnect(ucscDb)"
   ]
  },
  {
   "cell_type": "code",
   "execution_count": 12,
   "metadata": {
    "collapsed": false
   },
   "outputs": [
    {
     "data": {
      "text/html": [
       "<ol class=list-inline>\n",
       "\t<li>214</li>\n",
       "\t<li>1</li>\n",
       "</ol>\n"
      ],
      "text/latex": [
       "\\begin{enumerate*}\n",
       "\\item 214\n",
       "\\item 1\n",
       "\\end{enumerate*}\n"
      ],
      "text/markdown": [
       "1. 214\n",
       "2. 1\n",
       "\n",
       "\n"
      ],
      "text/plain": [
       "[1] 214   1"
      ]
     },
     "execution_count": 12,
     "metadata": {},
     "output_type": "execute_result"
    }
   ],
   "source": [
    "dim(result)"
   ]
  },
  {
   "cell_type": "code",
   "execution_count": 40,
   "metadata": {
    "collapsed": true
   },
   "outputs": [],
   "source": [
    "hg19 <- dbConnect(MySQL(),user=\"genome\",host=\"genome-mysql.cse.ucsc.edu\",db=\"hg19\")"
   ]
  },
  {
   "cell_type": "code",
   "execution_count": 25,
   "metadata": {
    "collapsed": false
   },
   "outputs": [
    {
     "data": {
      "text/html": [
       "11059"
      ],
      "text/latex": [
       "11059"
      ],
      "text/markdown": [
       "11059"
      ],
      "text/plain": [
       "[1] 11059"
      ]
     },
     "execution_count": 25,
     "metadata": {},
     "output_type": "execute_result"
    }
   ],
   "source": [
    "allTables <- dbListTables(hg19);length(allTables);"
   ]
  },
  {
   "cell_type": "code",
   "execution_count": 26,
   "metadata": {
    "collapsed": false
   },
   "outputs": [
    {
     "data": {
      "text/html": [
       "<ol class=list-inline>\n",
       "\t<li>'bin'</li>\n",
       "\t<li>'matches'</li>\n",
       "\t<li>'misMatches'</li>\n",
       "\t<li>'repMatches'</li>\n",
       "\t<li>'nCount'</li>\n",
       "\t<li>'qNumInsert'</li>\n",
       "\t<li>'qBaseInsert'</li>\n",
       "\t<li>'tNumInsert'</li>\n",
       "\t<li>'tBaseInsert'</li>\n",
       "\t<li>'strand'</li>\n",
       "\t<li>'qName'</li>\n",
       "\t<li>'qSize'</li>\n",
       "\t<li>'qStart'</li>\n",
       "\t<li>'qEnd'</li>\n",
       "\t<li>'tName'</li>\n",
       "\t<li>'tSize'</li>\n",
       "\t<li>'tStart'</li>\n",
       "\t<li>'tEnd'</li>\n",
       "\t<li>'blockCount'</li>\n",
       "\t<li>'blockSizes'</li>\n",
       "\t<li>'qStarts'</li>\n",
       "\t<li>'tStarts'</li>\n",
       "</ol>\n"
      ],
      "text/latex": [
       "\\begin{enumerate*}\n",
       "\\item 'bin'\n",
       "\\item 'matches'\n",
       "\\item 'misMatches'\n",
       "\\item 'repMatches'\n",
       "\\item 'nCount'\n",
       "\\item 'qNumInsert'\n",
       "\\item 'qBaseInsert'\n",
       "\\item 'tNumInsert'\n",
       "\\item 'tBaseInsert'\n",
       "\\item 'strand'\n",
       "\\item 'qName'\n",
       "\\item 'qSize'\n",
       "\\item 'qStart'\n",
       "\\item 'qEnd'\n",
       "\\item 'tName'\n",
       "\\item 'tSize'\n",
       "\\item 'tStart'\n",
       "\\item 'tEnd'\n",
       "\\item 'blockCount'\n",
       "\\item 'blockSizes'\n",
       "\\item 'qStarts'\n",
       "\\item 'tStarts'\n",
       "\\end{enumerate*}\n"
      ],
      "text/markdown": [
       "1. 'bin'\n",
       "2. 'matches'\n",
       "3. 'misMatches'\n",
       "4. 'repMatches'\n",
       "5. 'nCount'\n",
       "6. 'qNumInsert'\n",
       "7. 'qBaseInsert'\n",
       "8. 'tNumInsert'\n",
       "9. 'tBaseInsert'\n",
       "10. 'strand'\n",
       "11. 'qName'\n",
       "12. 'qSize'\n",
       "13. 'qStart'\n",
       "14. 'qEnd'\n",
       "15. 'tName'\n",
       "16. 'tSize'\n",
       "17. 'tStart'\n",
       "18. 'tEnd'\n",
       "19. 'blockCount'\n",
       "20. 'blockSizes'\n",
       "21. 'qStarts'\n",
       "22. 'tStarts'\n",
       "\n",
       "\n"
      ],
      "text/plain": [
       " [1] \"bin\"         \"matches\"     \"misMatches\"  \"repMatches\"  \"nCount\"     \n",
       " [6] \"qNumInsert\"  \"qBaseInsert\" \"tNumInsert\"  \"tBaseInsert\" \"strand\"     \n",
       "[11] \"qName\"       \"qSize\"       \"qStart\"      \"qEnd\"        \"tName\"      \n",
       "[16] \"tSize\"       \"tStart\"      \"tEnd\"        \"blockCount\"  \"blockSizes\" \n",
       "[21] \"qStarts\"     \"tStarts\"    "
      ]
     },
     "execution_count": 26,
     "metadata": {},
     "output_type": "execute_result"
    }
   ],
   "source": [
    "dbListFields(hg19,\"affyU133Plus2\");"
   ]
  },
  {
   "cell_type": "code",
   "execution_count": 27,
   "metadata": {
    "collapsed": false
   },
   "outputs": [
    {
     "data": {
      "text/html": [
       "<table>\n",
       "<thead><tr><th></th><th scope=col>count(*)</th></tr></thead>\n",
       "<tbody>\n",
       "\t<tr><th scope=row>1</th><td>58463</td></tr>\n",
       "</tbody>\n",
       "</table>\n"
      ],
      "text/latex": [
       "\\begin{tabular}{r|l}\n",
       "  & count(*)\\\\\n",
       "\\hline\n",
       "\t1 & 58463\\\\\n",
       "\\end{tabular}\n"
      ],
      "text/plain": [
       "  count(*)\n",
       "1    58463"
      ]
     },
     "execution_count": 27,
     "metadata": {},
     "output_type": "execute_result"
    }
   ],
   "source": [
    "dbGetQuery(hg19, \"select count(*) from affyU133Plus2\")"
   ]
  },
  {
   "cell_type": "code",
   "execution_count": 41,
   "metadata": {
    "collapsed": false
   },
   "outputs": [
    {
     "name": "stderr",
     "output_type": "stream",
     "text": [
      "Warning message:\n",
      "In .local(conn, statement, ...): Unsigned INTEGER in col 0 imported as numericWarning message:\n",
      "In .local(conn, statement, ...): Unsigned INTEGER in col 1 imported as numericWarning message:\n",
      "In .local(conn, statement, ...): Unsigned INTEGER in col 2 imported as numericWarning message:\n",
      "In .local(conn, statement, ...): Unsigned INTEGER in col 3 imported as numericWarning message:\n",
      "In .local(conn, statement, ...): Unsigned INTEGER in col 4 imported as numericWarning message:\n",
      "In .local(conn, statement, ...): Unsigned INTEGER in col 5 imported as numericWarning message:\n",
      "In .local(conn, statement, ...): Unsigned INTEGER in col 6 imported as numericWarning message:\n",
      "In .local(conn, statement, ...): Unsigned INTEGER in col 7 imported as numericWarning message:\n",
      "In .local(conn, statement, ...): Unsigned INTEGER in col 8 imported as numericWarning message:\n",
      "In .local(conn, statement, ...): Unsigned INTEGER in col 11 imported as numericWarning message:\n",
      "In .local(conn, statement, ...): Unsigned INTEGER in col 12 imported as numericWarning message:\n",
      "In .local(conn, statement, ...): Unsigned INTEGER in col 13 imported as numericWarning message:\n",
      "In .local(conn, statement, ...): Unsigned INTEGER in col 15 imported as numericWarning message:\n",
      "In .local(conn, statement, ...): Unsigned INTEGER in col 16 imported as numericWarning message:\n",
      "In .local(conn, statement, ...): Unsigned INTEGER in col 17 imported as numericWarning message:\n",
      "In .local(conn, statement, ...): Unsigned INTEGER in col 18 imported as numeric"
     ]
    },
    {
     "ename": "ERROR",
     "evalue": "Error in .local(dbObj, ...): internal error in RS_DBI_getConnection: corrupt connection handle\n",
     "output_type": "error",
     "traceback": [
      "Error in .local(dbObj, ...): internal error in RS_DBI_getConnection: corrupt connection handle\n"
     ]
    },
    {
     "ename": "ERROR",
     "evalue": "Error in .local(dbObj, ...): internal error in RS_DBI_getConnection: corrupt connection handle\n",
     "output_type": "error",
     "traceback": [
      "Error in .local(dbObj, ...): internal error in RS_DBI_getConnection: corrupt connection handle\n"
     ]
    }
   ],
   "source": [
    "affyData <- dbReadTable(hg19, \"affyU133Plus2\")"
   ]
  },
  {
   "cell_type": "code",
   "execution_count": 42,
   "metadata": {
    "collapsed": false
   },
   "outputs": [
    {
     "data": {
      "text/html": [
       "TRUE"
      ],
      "text/latex": [
       "TRUE"
      ],
      "text/markdown": [
       "TRUE"
      ],
      "text/plain": [
       "[1] TRUE"
      ]
     },
     "execution_count": 42,
     "metadata": {},
     "output_type": "execute_result"
    }
   ],
   "source": [
    "dbClearResult(dbListResults(hg19)[[1]])\n",
    "# To be used in case of error messagae - connection with pending rows, close resultSet before continuing"
   ]
  },
  {
   "cell_type": "code",
   "execution_count": 34,
   "metadata": {
    "collapsed": false
   },
   "outputs": [
    {
     "data": {
      "text/html": [
       "<ol>\n",
       "\t<li>NULL</li>\n",
       "</ol>\n"
      ],
      "text/latex": [
       "\\begin{enumerate}\n",
       "\\item NULL\n",
       "\\end{enumerate}\n"
      ],
      "text/markdown": [
       "1. NULL\n",
       "\n",
       "\n"
      ],
      "text/plain": [
       "[[1]]\n",
       "<MySQLResult:0,4,3>\n"
      ]
     },
     "execution_count": 34,
     "metadata": {},
     "output_type": "execute_result"
    }
   ],
   "source": [
    "dbListResults(hg19)"
   ]
  },
  {
   "cell_type": "code",
   "execution_count": 36,
   "metadata": {
    "collapsed": false
   },
   "outputs": [
    {
     "ename": "ERROR",
     "evalue": "Error in dbListResults(hg19)[[1]]: subscript out of bounds\n",
     "output_type": "error",
     "traceback": [
      "Error in dbListResults(hg19)[[1]]: subscript out of bounds\n"
     ]
    }
   ],
   "source": [
    "dbListResults(hg19)[[1]]"
   ]
  },
  {
   "cell_type": "code",
   "execution_count": 38,
   "metadata": {
    "collapsed": false
   },
   "outputs": [
    {
     "ename": "ERROR",
     "evalue": "Error in eval(expr, envir, enclos): object 'affyData' not found\n",
     "output_type": "error",
     "traceback": [
      "Error in eval(expr, envir, enclos): object 'affyData' not found\n"
     ]
    }
   ],
   "source": [
    "class(affyData)"
   ]
  },
  {
   "cell_type": "code",
   "execution_count": null,
   "metadata": {
    "collapsed": true
   },
   "outputs": [],
   "source": [
    "head(affyData)"
   ]
  },
  {
   "cell_type": "code",
   "execution_count": null,
   "metadata": {
    "collapsed": true
   },
   "outputs": [],
   "source": [
    "query<-dbSendQuery(hg19,\"select * from affyU133Plus2 where misMatches between 1 and 3\")\n",
    "affyMis<-fetch(query); quantile(affyMis$misMatches)"
   ]
  },
  {
   "cell_type": "code",
   "execution_count": null,
   "metadata": {
    "collapsed": true
   },
   "outputs": [],
   "source": [
    "affyMisSmall<-fetch(query,n=10); dbClearResult(query);"
   ]
  },
  {
   "cell_type": "code",
   "execution_count": null,
   "metadata": {
    "collapsed": true
   },
   "outputs": [],
   "source": [
    "dim(affyMisSmall)"
   ]
  },
  {
   "cell_type": "code",
   "execution_count": 39,
   "metadata": {
    "collapsed": false
   },
   "outputs": [
    {
     "name": "stderr",
     "output_type": "stream",
     "text": [
      "Warning message:\n",
      ": Closing open result sets"
     ]
    },
    {
     "data": {
      "text/html": [
       "TRUE"
      ],
      "text/latex": [
       "TRUE"
      ],
      "text/markdown": [
       "TRUE"
      ],
      "text/plain": [
       "[1] TRUE"
      ]
     },
     "execution_count": 39,
     "metadata": {},
     "output_type": "execute_result"
    }
   ],
   "source": [
    "dbDisconnect(hg19);"
   ]
  },
  {
   "cell_type": "markdown",
   "metadata": {},
   "source": [
    "----"
   ]
  },
  {
   "cell_type": "code",
   "execution_count": 58,
   "metadata": {
    "collapsed": false
   },
   "outputs": [
    {
     "name": "stderr",
     "output_type": "stream",
     "text": [
      "Loading required package: rhdf5\n",
      "Warning message:\n",
      "In library(package, lib.loc = lib.loc, character.only = TRUE, logical.return = TRUE, : there is no package called 'rhdf5'"
     ]
    },
    {
     "name": "stdout",
     "output_type": "stream",
     "text": [
      "\n",
      "The downloaded binary packages are in\n",
      "\tC:\\Users\\q02874\\AppData\\Local\\Temp\\Rtmpq2dzf4\\downloaded_packages\n"
     ]
    },
    {
     "name": "stderr",
     "output_type": "stream",
     "text": [
      "Bioconductor version 3.2 (BiocInstaller 1.20.3), ?biocLite for help\n",
      "A new version of Bioconductor is available after installing the most recent\n",
      "  version of R; see http://bioconductor.org/install\n",
      "BioC_mirror: https://bioconductor.org\n",
      "Using Bioconductor 3.2 (BiocInstaller 1.20.3), R 3.2.4 (2016-03-16).\n",
      "Installing package(s) 'rhdf5'\n",
      "also installing the dependency 'zlibbioc'\n",
      "\n"
     ]
    },
    {
     "name": "stdout",
     "output_type": "stream",
     "text": [
      "package 'zlibbioc' successfully unpacked and MD5 sums checked\n",
      "package 'rhdf5' successfully unpacked and MD5 sums checked\n",
      "\n",
      "The downloaded binary packages are in\n",
      "\tC:\\Users\\q02874\\AppData\\Local\\Temp\\Rtmpq2dzf4\\downloaded_packages\n"
     ]
    }
   ],
   "source": [
    "if (!require(rhdf5)) {\n",
    "    source(\"https://bioconductor.org/biocLite.R\")\n",
    "    biocLite(\"rhdf5\")\n",
    "}"
   ]
  },
  {
   "cell_type": "code",
   "execution_count": 59,
   "metadata": {
    "collapsed": false
   },
   "outputs": [],
   "source": [
    "library(rhdf5)"
   ]
  },
  {
   "cell_type": "code",
   "execution_count": 60,
   "metadata": {
    "collapsed": false
   },
   "outputs": [
    {
     "data": {
      "text/html": [
       "TRUE"
      ],
      "text/latex": [
       "TRUE"
      ],
      "text/markdown": [
       "TRUE"
      ],
      "text/plain": [
       "[1] TRUE"
      ]
     },
     "metadata": {},
     "output_type": "display_data"
    }
   ],
   "source": [
    "created=h5createFile(\"./data/example.h5\")\n",
    "created"
   ]
  },
  {
   "cell_type": "code",
   "execution_count": 63,
   "metadata": {
    "collapsed": false
   },
   "outputs": [
    {
     "name": "stderr",
     "output_type": "stream",
     "text": [
      "Can not create group. Object with name 'foo' already exists.\n",
      "Can not create group. Object with name 'baa' already exists.\n",
      "Can not create group. Object with name 'foo/foobaa' already exists.\n"
     ]
    },
    {
     "data": {
      "text/html": [
       "<table>\n",
       "<thead><tr><th></th><th scope=col>group</th><th scope=col>name</th><th scope=col>otype</th><th scope=col>dclass</th><th scope=col>dim</th></tr></thead>\n",
       "<tbody>\n",
       "\t<tr><th scope=row>0</th><td>/        </td><td>baa      </td><td>H5I_GROUP</td><td>         </td><td>         </td></tr>\n",
       "\t<tr><th scope=row>1</th><td>/        </td><td>foo      </td><td>H5I_GROUP</td><td>         </td><td>         </td></tr>\n",
       "\t<tr><th scope=row>2</th><td>/foo     </td><td>foobaa   </td><td>H5I_GROUP</td><td>         </td><td>         </td></tr>\n",
       "</tbody>\n",
       "</table>\n"
      ],
      "text/latex": [
       "\\begin{tabular}{r|lllll}\n",
       "  & group & name & otype & dclass & dim\\\\\n",
       "\\hline\n",
       "\t0 & /           & baa         & H5I\\_GROUP &             &            \\\\\n",
       "\t1 & /           & foo         & H5I\\_GROUP &             &            \\\\\n",
       "\t2 & /foo        & foobaa      & H5I\\_GROUP &             &            \\\\\n",
       "\\end{tabular}\n"
      ],
      "text/plain": [
       "  group   name     otype dclass dim\n",
       "0     /    baa H5I_GROUP           \n",
       "1     /    foo H5I_GROUP           \n",
       "2  /foo foobaa H5I_GROUP           "
      ]
     },
     "metadata": {},
     "output_type": "display_data"
    }
   ],
   "source": [
    "# create groups\n",
    "created = h5createGroup(\"./data/example.h5\", \"foo\")\n",
    "created = h5createGroup(\"./data/example.h5\", \"baa\")\n",
    "created = h5createGroup(\"./data/example.h5\", \"foo/foobaa\")\n",
    "h5ls(\"./data/example.h5\")"
   ]
  },
  {
   "cell_type": "code",
   "execution_count": 64,
   "metadata": {
    "collapsed": false
   },
   "outputs": [
    {
     "data": {
      "text/html": [
       "<table>\n",
       "<thead><tr><th></th><th scope=col>group</th><th scope=col>name</th><th scope=col>otype</th><th scope=col>dclass</th><th scope=col>dim</th></tr></thead>\n",
       "<tbody>\n",
       "\t<tr><th scope=row>0</th><td>/        </td><td>baa      </td><td>H5I_GROUP</td><td>         </td><td>         </td></tr>\n",
       "\t<tr><th scope=row>1</th><td>/        </td><td>foo      </td><td>H5I_GROUP</td><td>         </td><td>         </td></tr>\n",
       "\t<tr><th scope=row>2</th><td>/foo       </td><td>A          </td><td>H5I_DATASET</td><td>INTEGER    </td><td>5 x 2      </td></tr>\n",
       "\t<tr><th scope=row>3</th><td>/foo     </td><td>foobaa   </td><td>H5I_GROUP</td><td>         </td><td>         </td></tr>\n",
       "\t<tr><th scope=row>4</th><td>/foo/foobaa</td><td>B          </td><td>H5I_DATASET</td><td>FLOAT      </td><td>5 x 2 x 2  </td></tr>\n",
       "</tbody>\n",
       "</table>\n"
      ],
      "text/latex": [
       "\\begin{tabular}{r|lllll}\n",
       "  & group & name & otype & dclass & dim\\\\\n",
       "\\hline\n",
       "\t0 & /           & baa         & H5I\\_GROUP &             &            \\\\\n",
       "\t1 & /           & foo         & H5I\\_GROUP &             &            \\\\\n",
       "\t2 & /foo          & A             & H5I\\_DATASET & INTEGER       & 5 x 2        \\\\\n",
       "\t3 & /foo        & foobaa      & H5I\\_GROUP &             &            \\\\\n",
       "\t4 & /foo/foobaa   & B             & H5I\\_DATASET & FLOAT         & 5 x 2 x 2    \\\\\n",
       "\\end{tabular}\n"
      ],
      "text/plain": [
       "        group   name       otype  dclass       dim\n",
       "0           /    baa   H5I_GROUP                  \n",
       "1           /    foo   H5I_GROUP                  \n",
       "2        /foo      A H5I_DATASET INTEGER     5 x 2\n",
       "3        /foo foobaa   H5I_GROUP                  \n",
       "4 /foo/foobaa      B H5I_DATASET   FLOAT 5 x 2 x 2"
      ]
     },
     "metadata": {},
     "output_type": "display_data"
    }
   ],
   "source": [
    "# write to groups\n",
    "A = matrix(1:10, nr=5, nc=2)\n",
    "h5write(A,\"./data/example.h5\", \"foo/A\")\n",
    "\n",
    "B = array(seq(0.1, 2.0, by=0.1), dim=c(5, 2, 2))\n",
    "attr(B,\"scale\") <- \"liter\"\n",
    "h5write(B, \"./data/example.h5\", \"foo/foobaa/B\")\n",
    "\n",
    "h5ls(\"./data/example.h5\")"
   ]
  },
  {
   "cell_type": "code",
   "execution_count": 67,
   "metadata": {
    "collapsed": false
   },
   "outputs": [
    {
     "data": {
      "text/html": [
       "<table>\n",
       "<thead><tr><th></th><th scope=col>group</th><th scope=col>name</th><th scope=col>otype</th><th scope=col>dclass</th><th scope=col>dim</th></tr></thead>\n",
       "<tbody>\n",
       "\t<tr><th scope=row>0</th><td>/        </td><td>baa      </td><td>H5I_GROUP</td><td>         </td><td>         </td></tr>\n",
       "\t<tr><th scope=row>1</th><td>/          </td><td>df         </td><td>H5I_DATASET</td><td>COMPOUND   </td><td>5          </td></tr>\n",
       "\t<tr><th scope=row>2</th><td>/        </td><td>foo      </td><td>H5I_GROUP</td><td>         </td><td>         </td></tr>\n",
       "\t<tr><th scope=row>3</th><td>/foo       </td><td>A          </td><td>H5I_DATASET</td><td>INTEGER    </td><td>5 x 2      </td></tr>\n",
       "\t<tr><th scope=row>4</th><td>/foo     </td><td>foobaa   </td><td>H5I_GROUP</td><td>         </td><td>         </td></tr>\n",
       "\t<tr><th scope=row>5</th><td>/foo/foobaa</td><td>B          </td><td>H5I_DATASET</td><td>FLOAT      </td><td>5 x 2 x 2  </td></tr>\n",
       "</tbody>\n",
       "</table>\n"
      ],
      "text/latex": [
       "\\begin{tabular}{r|lllll}\n",
       "  & group & name & otype & dclass & dim\\\\\n",
       "\\hline\n",
       "\t0 & /           & baa         & H5I\\_GROUP &             &            \\\\\n",
       "\t1 & /             & df            & H5I\\_DATASET & COMPOUND      & 5            \\\\\n",
       "\t2 & /           & foo         & H5I\\_GROUP &             &            \\\\\n",
       "\t3 & /foo          & A             & H5I\\_DATASET & INTEGER       & 5 x 2        \\\\\n",
       "\t4 & /foo        & foobaa      & H5I\\_GROUP &             &            \\\\\n",
       "\t5 & /foo/foobaa   & B             & H5I\\_DATASET & FLOAT         & 5 x 2 x 2    \\\\\n",
       "\\end{tabular}\n"
      ],
      "text/plain": [
       "        group   name       otype   dclass       dim\n",
       "0           /    baa   H5I_GROUP                   \n",
       "1           /     df H5I_DATASET COMPOUND         5\n",
       "2           /    foo   H5I_GROUP                   \n",
       "3        /foo      A H5I_DATASET  INTEGER     5 x 2\n",
       "4        /foo foobaa   H5I_GROUP                   \n",
       "5 /foo/foobaa      B H5I_DATASET    FLOAT 5 x 2 x 2"
      ]
     },
     "metadata": {},
     "output_type": "display_data"
    }
   ],
   "source": [
    "# Write dataset\n",
    "df = data.frame(1L:5L, seq(0, 1, length.out = 5), c(\"ab\", \"cde\", \"fgi\", \"a,\", \"s\"), stringsAsFactors = FALSE)\n",
    "h5write(df, \"./data/example.h5\", \"df\")\n",
    "h5ls(\"./data/example.h5\")"
   ]
  },
  {
   "cell_type": "code",
   "execution_count": 68,
   "metadata": {
    "collapsed": false
   },
   "outputs": [
    {
     "data": {
      "text/html": [
       "<table>\n",
       "<tbody>\n",
       "\t<tr><td>1</td><td>6</td></tr>\n",
       "\t<tr><td>2</td><td>7</td></tr>\n",
       "\t<tr><td>3</td><td>8</td></tr>\n",
       "\t<tr><td>4</td><td>9</td></tr>\n",
       "\t<tr><td> 5</td><td>10</td></tr>\n",
       "</tbody>\n",
       "</table>\n"
      ],
      "text/latex": [
       "\\begin{tabular}{ll}\n",
       "\t 1 & 6\\\\\n",
       "\t 2 & 7\\\\\n",
       "\t 3 & 8\\\\\n",
       "\t 4 & 9\\\\\n",
       "\t  5 & 10\\\\\n",
       "\\end{tabular}\n"
      ],
      "text/markdown": [
       "1. 1\n",
       "2. 2\n",
       "3. 3\n",
       "4. 4\n",
       "5. 5\n",
       "6. 6\n",
       "7. 7\n",
       "8. 8\n",
       "9. 9\n",
       "10. 10\n",
       "\n",
       "\n"
      ],
      "text/plain": [
       "     [,1] [,2]\n",
       "[1,]    1    6\n",
       "[2,]    2    7\n",
       "[3,]    3    8\n",
       "[4,]    4    9\n",
       "[5,]    5   10"
      ]
     },
     "metadata": {},
     "output_type": "display_data"
    },
    {
     "data": {
      "text/html": [
       "<ol class=list-inline>\n",
       "\t<li>0.1</li>\n",
       "\t<li>0.2</li>\n",
       "\t<li>0.3</li>\n",
       "\t<li>0.4</li>\n",
       "\t<li>0.5</li>\n",
       "\t<li>0.6</li>\n",
       "\t<li>0.7</li>\n",
       "\t<li>0.8</li>\n",
       "\t<li>0.9</li>\n",
       "\t<li>1</li>\n",
       "\t<li>1.1</li>\n",
       "\t<li>1.2</li>\n",
       "\t<li>1.3</li>\n",
       "\t<li>1.4</li>\n",
       "\t<li>1.5</li>\n",
       "\t<li>1.6</li>\n",
       "\t<li>1.7</li>\n",
       "\t<li>1.8</li>\n",
       "\t<li>1.9</li>\n",
       "\t<li>2</li>\n",
       "</ol>\n"
      ],
      "text/latex": [
       "\\begin{enumerate*}\n",
       "\\item 0.1\n",
       "\\item 0.2\n",
       "\\item 0.3\n",
       "\\item 0.4\n",
       "\\item 0.5\n",
       "\\item 0.6\n",
       "\\item 0.7\n",
       "\\item 0.8\n",
       "\\item 0.9\n",
       "\\item 1\n",
       "\\item 1.1\n",
       "\\item 1.2\n",
       "\\item 1.3\n",
       "\\item 1.4\n",
       "\\item 1.5\n",
       "\\item 1.6\n",
       "\\item 1.7\n",
       "\\item 1.8\n",
       "\\item 1.9\n",
       "\\item 2\n",
       "\\end{enumerate*}\n"
      ],
      "text/markdown": [
       "1. 0.1\n",
       "2. 0.2\n",
       "3. 0.3\n",
       "4. 0.4\n",
       "5. 0.5\n",
       "6. 0.6\n",
       "7. 0.7\n",
       "8. 0.8\n",
       "9. 0.9\n",
       "10. 1\n",
       "11. 1.1\n",
       "12. 1.2\n",
       "13. 1.3\n",
       "14. 1.4\n",
       "15. 1.5\n",
       "16. 1.6\n",
       "17. 1.7\n",
       "18. 1.8\n",
       "19. 1.9\n",
       "20. 2\n",
       "\n",
       "\n"
      ],
      "text/plain": [
       ", , 1\n",
       "\n",
       "     [,1] [,2]\n",
       "[1,]  0.1  0.6\n",
       "[2,]  0.2  0.7\n",
       "[3,]  0.3  0.8\n",
       "[4,]  0.4  0.9\n",
       "[5,]  0.5  1.0\n",
       "\n",
       ", , 2\n",
       "\n",
       "     [,1] [,2]\n",
       "[1,]  1.1  1.6\n",
       "[2,]  1.2  1.7\n",
       "[3,]  1.3  1.8\n",
       "[4,]  1.4  1.9\n",
       "[5,]  1.5  2.0\n"
      ]
     },
     "metadata": {},
     "output_type": "display_data"
    },
    {
     "data": {
      "text/html": [
       "<table>\n",
       "<thead><tr><th></th><th scope=col>X1L.5L</th><th scope=col>seq.0..1..length.out...5.</th><th scope=col>c..ab....cde....fgi....a.....s..</th></tr></thead>\n",
       "<tbody>\n",
       "\t<tr><th scope=row>1</th><td>1 </td><td>0 </td><td>ab</td></tr>\n",
       "\t<tr><th scope=row>2</th><td>2   </td><td>0.25</td><td>cde </td></tr>\n",
       "\t<tr><th scope=row>3</th><td>3  </td><td>0.5</td><td>fgi</td></tr>\n",
       "\t<tr><th scope=row>4</th><td>4   </td><td>0.75</td><td>a,  </td></tr>\n",
       "\t<tr><th scope=row>5</th><td>5</td><td>1</td><td>s</td></tr>\n",
       "</tbody>\n",
       "</table>\n"
      ],
      "text/latex": [
       "\\begin{tabular}{r|lll}\n",
       "  & X1L.5L & seq.0..1..length.out...5. & c..ab....cde....fgi....a.....s..\\\\\n",
       "\\hline\n",
       "\t1 & 1  & 0  & ab\\\\\n",
       "\t2 & 2    & 0.25 & cde \\\\\n",
       "\t3 & 3   & 0.5 & fgi\\\\\n",
       "\t4 & 4    & 0.75 & a,  \\\\\n",
       "\t5 & 5 & 1 & s\\\\\n",
       "\\end{tabular}\n"
      ],
      "text/plain": [
       "  X1L.5L seq.0..1..length.out...5. c..ab....cde....fgi....a.....s..\n",
       "1      1                      0.00                               ab\n",
       "2      2                      0.25                              cde\n",
       "3      3                      0.50                              fgi\n",
       "4      4                      0.75                               a,\n",
       "5      5                      1.00                                s"
      ]
     },
     "metadata": {},
     "output_type": "display_data"
    }
   ],
   "source": [
    "# reading data\n",
    "readA = h5read(\"./data/example.h5\",\"foo/A\")\n",
    "readB = h5read(\"./data/example.h5\",\"foo/foobaa/B\")\n",
    "readdf = h5read(\"./data/example.h5\",\"df\")\n",
    "readA; readB; readdf"
   ]
  },
  {
   "cell_type": "code",
   "execution_count": 69,
   "metadata": {
    "collapsed": false
   },
   "outputs": [
    {
     "data": {
      "text/html": [
       "<table>\n",
       "<tbody>\n",
       "\t<tr><td>12</td><td> 6</td></tr>\n",
       "\t<tr><td>13</td><td> 7</td></tr>\n",
       "\t<tr><td>14</td><td> 8</td></tr>\n",
       "\t<tr><td>4</td><td>9</td></tr>\n",
       "\t<tr><td> 5</td><td>10</td></tr>\n",
       "</tbody>\n",
       "</table>\n"
      ],
      "text/latex": [
       "\\begin{tabular}{ll}\n",
       "\t 12 &  6\\\\\n",
       "\t 13 &  7\\\\\n",
       "\t 14 &  8\\\\\n",
       "\t 4 & 9\\\\\n",
       "\t  5 & 10\\\\\n",
       "\\end{tabular}\n"
      ],
      "text/markdown": [
       "1. 12\n",
       "2. 13\n",
       "3. 14\n",
       "4. 4\n",
       "5. 5\n",
       "6. 6\n",
       "7. 7\n",
       "8. 8\n",
       "9. 9\n",
       "10. 10\n",
       "\n",
       "\n"
      ],
      "text/plain": [
       "     [,1] [,2]\n",
       "[1,]   12    6\n",
       "[2,]   13    7\n",
       "[3,]   14    8\n",
       "[4,]    4    9\n",
       "[5,]    5   10"
      ]
     },
     "metadata": {},
     "output_type": "display_data"
    }
   ],
   "source": [
    "# writing and reading chunks\n",
    "h5write(c(12,13,14),\"./data/example.h5\",\"foo/A\", index=list(1:3, 1))\n",
    "h5read(\"./data/example.h5\", \"foo/A\")"
   ]
  },
  {
   "cell_type": "markdown",
   "metadata": {},
   "source": [
    "----"
   ]
  },
  {
   "cell_type": "code",
   "execution_count": 70,
   "metadata": {
    "collapsed": false
   },
   "outputs": [
    {
     "name": "stderr",
     "output_type": "stream",
     "text": [
      "Warning message:\n",
      "In readLines(con): incomplete final line found on 'http://scholar.google.com/citations?user=HI-I6C0AAAAJ&hl=en'"
     ]
    }
   ],
   "source": [
    "con = url(\"http://scholar.google.com/citations?user=HI-I6C0AAAAJ&hl=en\")\n",
    "htmlCode = readLines(con)"
   ]
  },
  {
   "cell_type": "code",
   "execution_count": 72,
   "metadata": {
    "collapsed": false
   },
   "outputs": [
    {
     "data": {
      "text/html": [
       "\"&lt;!doctype html&gt;&lt;head&gt;&lt;meta http-equiv=\\\"Content-Type\\\" content=\\\"text/html;charset=ISO-8859-1\\\"&gt;&lt;meta http-equiv=\\\"X-UA-Compatible\\\" content=\\\"IE=Edge\\\"&gt;&lt;meta name=\\\"referrer\\\" content=\\\"always\\\"&gt;&lt;meta name=\\\"viewport\\\" content=\\\"width=device-width,initial-scale=1,minimum-scale=1,maximum-scale=2\\\"&gt;&lt;style&gt;@viewport{width:device-width;min-zoom:1;max-zoom:2;}&lt;/style&gt;&lt;meta name=\\\"format-detection\\\" content=\\\"telephone=no\\\"&gt;&lt;style&gt;html,body,form,table,div,h1,h2,h3,h4,h5,h6,img,ol,ul,li,button{margin:0;padding:0;border:0;}table{border-collapse:collapse;border-width:0;empty-cells:show;}#gs_top{position:relative;min-width:964px;-webkit-tap-highlight-color:rgba(0,0,0,0);}#gs_top&gt;*:not(#x){-webkit-tap-highlight-color:rgba(204,204,204,.5);}.gs_el_ph #gs_top,.gs_el_ta #gs_top{min-width:300px;}body,td,input{font-size:13px;font-family:Arial,sans-serif;line-height:1.24}body{background:#fff;color:#222;-webkit-text-size-adjust:100%;-moz-text-size-adjust:none;}.gs_gray{color:#777777}.gs_red{color:#dd4b39}.gs_grn{color:#006621}.gs_lil{font-size:11px}.gs_med{font-size:16px}.gs_hlt{font-weight:bold;}a:link{color:#1a0dab;text-decoration:none}a:visited{color:#660099;text-decoration:none}a:hover,a:active,a:hover .gs_lbl,a:active .gs_lbl,a .gs_lbl:active{text-decoration:underline;outline:none;}a:active,a:active .gs_lbl,a .gs_lbl:active{color:#d14836}.gs_a,.gs_a a:link,.gs_a a:visited{color:#006621}.gs_a a:active{color:#d14836}a.gs_fl:link,.gs_fl a:link{color:#1a0dab}a.gs_fl:visited,.gs_fl a:visited{color:#660099}a.gs_fl:active,.gs_fl a:active{color:#d14836}.gs_fl{color:#777777}.gs_ctc,.gs_ctu{vertical-align:middle;font-size:11px;font-weight:bold}.gs_ctc{color:#1a0dab}.gs_ctg,.gs_ctg2{font-size:13px;font-weight:bold}.gs_ctg{color:#1a0dab}a.gs_pda,.gs_pda a{padding:7px 0 5px 0}.gs_alrt{background:#f9edbe;border:1px solid #f0c36d;padding:0 16px;text-align:center;-webkit-box-shadow:0 2px 4px rgba(0,0,0,.2);-moz-box-shadow:0 2px 4px rgba(0,0,0,.2);box-shadow:0 2px 4px rgba(0,0,0,.2);-webkit-border-radius:2px;-moz-border-radius:2px;border-radius:2px;}.gs_spc{display:inline-block;width:12px}.gs_br{width:0;font-size:0}.gs_ibl{display:inline-block;}.gs_scl:after{content:\\\"\\\";display:table;clear:both;}.gs_nscl{overflow-y:hidden;}.gs_ind{padding-left:8px;text-indent:-8px}.gs_ico,.gs_icm{display:inline-block;background:no-repeat url(/intl/en/scholar/images/1x/sprite_20160531.png);background-size:169px;width:21px;height:21px;}@media(-webkit-min-device-pixel-ratio:1.5),(min-resolution:144dpi){.gs_ico,.gs_icm{background-image:url(/intl/en/scholar/images/2x/sprite_20160531.png);}}.gs_el_ta .gs_nta,.gs_ota,.gs_el_ph .gs_nph,.gs_oph{display:none}.gs_el_ta .gs_ota,.gs_el_ph .gs_oph{display:inline}.gs_el_ta div.gs_ota,.gs_el_ph div.gs_oph{display:block}#gs_ftr{margin:32px 0 0 0;text-align:center;clear:both;}#gs_ftr a{display:inline-block;margin:0 12px;padding:7px 0 8px 0;}#gs_ftr a:link,#gs_ftr a:visited{color:#1a0dab}#gs_ftr a:active{color:#d14836}.gs_in_txt{color:black;background:#fff;font-size:16px;height:23px;line-height:23px;border:1px solid #d9d9d9;border-top:1px solid #c0c0c0;padding:3px 6px 1px 8px;-webkit-border-radius:1px;-moz-border-radius:1px;border-radius:1px;outline:none;vertical-align:middle;-webkit-appearance:none;-moz-appearance:none;}.gs_el_tc .gs_in_txt{font-size:18px;}.gs_in_txt:hover{border:1px solid #b9b9b9;border-top:1px solid #a0a0a0;-webkit-box-shadow:inset 0px 1px 2px rgba(0,0,0,0.1);-moz-box-shadow:inset 0px 1px 2px rgba(0,0,0,0.1);box-shadow:inset 0px 1px 2px rgba(0,0,0,0.1);}.gs_in_txte,.gs_in_txte:hover{border:1px solid #DD4B39;}.gs_in_txt:focus{border:1px solid #4d90fe;-webkit-box-shadow:inset 0px 1px 2px rgba(0,0,0,0.3);-moz-box-shadow:inset 0px 1px 2px rgba(0,0,0,0.3);box-shadow:inset 0px 1px 2px rgba(0,0,0,0.3);}.gs_in_txt:disabled{color:#b8b8b8;border-color:#f1f1f1;-webkit-box-shadow:none;-moz-box-shadow:none;box-shadow:none;}input.gs_mini{font-size:13px;height:16px;line-height:16px;padding:3px 6px;}.gs_el_tc input.gs_mini{font-size:13px;height:21px;line-height:21px;}.gs_in_txtf{margin-right:16px}.gs_in_txtm{margin-right:14px}.gs_in_txtf .gs_in_txt,.gs_in_txtm .gs_in_txt{width:100%;}.gs_in_txts{font-size:13px;line-height:18px;}button{position:relative;z-index:1;box-sizing:border-box;font-size:11px;font-weight:bold;cursor:default;height:29px;min-width:72px;overflow:visible;color:#444;border:1px solid #dcdcdc;border:1px solid rgba(0,0,0,.1);border-radius:2px;text-align:center;background-color:#f5f5f5;background-image:linear-gradient(to bottom,#f5f5f5,#f1f1f1);transition:all .218s;user-select:none;}button .gs_wr{line-height:27px;}button.gs_btn_mini{min-width:26px;height:26px;}.gs_btn_mini .gs_wr{line-height:24px;}.gs_btn_half,.gs_el_ph .gs_btn_hph{min-width:36px;}&gt;. }}.gs_btn_slt{border-radius:2px 0 0 2px;}.gs_btn_srt{margin-left:-1px;border-radius:0 2px 2px 0;}.gs_btn_smd{margin-left:-1px;border-radius:0;}button:hover{z-index:2;color:#222;border:1px solid #c6c6c6;box-shadow:0 1px 1px rgba(0,0,0,.1);background-color:#f8f8f8;background-image:linear-gradient(to bottom,#f8f8f8,#f1f1f1);transition:all 0s;}button.gs_sel{color:#333;border:1px solid #ccc;box-shadow:inset 0 1px 2px rgba(0,0,0,.1);background-color:#e8e8e8;background-image:linear-gradient(to bottom,#eee,#e0e0e0);}button:active{z-index:2;color:#333;background-color:#f6f6f6;background-image:linear-gradient(to bottom,#f6f6f6,#f1f1f1);box-shadow:inset 0px 1px 2px rgba(0,0,0,.1);}button:focus{z-index:2;outline:none;border:1px solid #4d90fe;}button::-moz-focus-inner{padding:0;border:0}button .gs_lbl{padding:0px 8px;}a.gs_in_ib{position:relative;display:inline-block;line-height:16px;padding:5px 0 6px 0;user-select:none;}a.gs_btn_mini{height:24px;line-height:24px;padding:0;}a .gs_lbl,button .gs_lbl{vertical-align:baseline;}a.gs_in_ib .gs_lbl{display:inline-block;padding-left:21px}button.gs_in_ib .gs_lbl{padding-left:29px;}button.gs_btn_mini .gs_lbl,button.gs_btn_half .gs_lbl,button.gs_btn_eml .gs_lbl{padding:11px;}.gs_el_ph .gs_btn_hph .gs_lbl,.gs_el_ph .gs_btn_cph .gs_lbl{padding:11px;font-size:0;visibility:hidden;}.gs_in_ib .gs_ico{position:absolute;top:2px;left:8px;}.gs_btn_mini .gs_ico{top:1px;left:2px;}.gs_btn_half .gs_ico,.gs_el_ph .gs_btn_hph .gs_ico{left:7px}.gs_btn_eml .gs_ico,.gs_el_ph .gs_btn_cph .gs_ico{left:25px}a.gs_in_ib .gs_ico{top:3px;left:0}a.gs_in_ib.gs_md_li .gs_ico{left:14px}.gs_el_tc a.gs_in_ib.gs_md_li .gs_ico{top:11px}a.gs_btn_mini .gs_ico{top:1px;left:0}.gs_in_ib .gs_ico{opacity:.55;}a.gs_in_ib .gs_ico{opacity:.65;}.gs_in_ib:hover .gs_ico{opacity:.72;}.gs_in_ib:active .gs_ico,.gs_in_ib .gs_ico:active,.gs_in_ib :active~.gs_ico{opacity:1;}.gs_in_ib:disabled .gs_ico{opacity:.28;}a.gs_in_ib.gs_dis .gs_ico{opacity:.33;}button.gs_btn_act{color:#fff;border:1px solid #3079ed;background-color:#4d90fe;background-image:linear-gradient(to bottom,#4d90fe,#4787ed);}button.gs_btn_act:hover{color:#fff;border:1px solid #2f5bb7;background-color:#357ae8;background-image:linear-gradient(to bottom,#4d90fe,#357ae8);box-shadow:inset 0 1px 1px rgba(0,0,0,.1);}button.gs_btnG{width:70px;min-width:0;}button.gs_btn_cre{color:#fff;border:1px solid transparent;background-color:#d14836;background-image:linear-gradient(to bottom,#dd4b39,#d14836);}button.gs_btn_cre .gs_lbl{text-transform:uppercase;text-shadow:0px 1px rgba(0,0,0,.1);}button.gs_btn_cre:hover{color:#fff;border:1px solid #b0281a;border-bottom:1px solid #af301f;background-color:#c53727;background-image:linear-gradient(to bottom,#dd4b39,#c53727);box-shadow:inset 0 1px 1px rgba(0,0,0,.2);}button.gs_btn_act:focus,button.gs_btn_cre:focus{box-shadow:inset 0 0 0 1px rgba(255,255,255,.5);}button.gs_btn_act:focus{border-color:#404040;}button.gs_btn_cre:focus{border-color:#d14836;}button.gs_btn_act:active{border:1px solid #315da3;background-color:#2f6de1;background-image:linear-gradient(to bottom,#4d90fe,#2f6de1);}button.gs_btn_cre:active{border:1px solid #992a1b;background-color:#b0281a;background-image:linear-gradient(to bottom,#dd4b39,#b0281a);}button.gs_btn_act:active,button.gs_btn_cre:active{box-shadow:inset 0 1px 2px rgba(0,0,0,.3);}button.gs_bsp,button.gs_bsp:hover,button.gs_bsp:active,button.gs_bsp:focus,button:disabled,button:disabled:hover,button:disabled:active{color:#b8b8b8;border:1px solid #f3f3f3;border:1px solid rgba(0,0,0,.05);background:none;box-shadow:none;z-index:0;}button.gs_btn_act:disabled{color:white;border-color:#98bcf6;background:#a6c8ff;}button.gs_btn_cre:disabled{color:white;border-color:#d8948d;background:#e8a49b;}button:disabled:active{box-shadow:inset 0 1px 2px rgba(0,0,0,.1);z-index:2;}a.gs_dis{cursor:default}.gs_ttp{position:absolute;top:100%;right:50%;z-index:10;pointer-events:none;visibility:hidden;opacity:0;transition:visibility 0s .13s,opacity .13s ease-out;}button:hover .gs_ttp,button:focus .gs_ttp,a:hover .gs_ttp,a:focus .gs_ttp{transition:visibility 0s .3s,opacity .13s ease-in .3s;visibility:visible;opacity:1;}.gs_ttp .gs_aro,.gs_ttp .gs_aru{position:absolute;top:-2px;right:-5px;width:0;height:0;line-height:0;font-size:0;border:5px solid transparent;border-top:none;border-bottom-color:#2a2a2a;z-index:1;}.gs_ttp .gs_aro{top:-3px;right:-6px;border-width:6px;border-top:none;border-bottom-color:white;}.gs_ttp .gs_txt{display:block;position:relative;top:2px;right:-50%;padding:7px 9px;background:#2a2a2a;color:white;font-size:11px;font-weight:bold;line-height:normal;white-space:nowrap;border:1px solid white;box-shadow:inset 0 1px 4px rgba(0,0,0,.2);}.gs_in_se,.gs_tan{touch-action:none;}.gs_in_se .gs_lbl{padding-left:8px;padding-right:22px;}.gs_in_se .gs_icm{position:absolute;top:8px;right:8px;width:7px;height:11px;background-position:-21px -88px;opacity:.55;}a.gs_in_se .gs_icm{opacity:.65;}.gs_in_se:hover .gs_icm{opacity:.72;}.gs_in_se:active .gs_icm,.gs_in_se .gs_icm:active,.gs_in_se :active~.gs_icm{opacity:1;}.gs_in_ib:disabled .gs_icm{opacity:.28;}.gs_el_ph .gs_btn_hph .gs_icm,.gs_el_ph .gs_btn_cph .gs_icm{display:none}.gs_btn_mnu .gs_icm{top:11px;height:7px;background-position:0 -110px;}.gs_btn_mn2 .gs_icm,.gs_btn_mn2:hover .gs_icm,.gs_btn_mn2:active .gs_icm,.gs_btn_mn2 .gs_icm:active,.gs_btn_mn2 :active~.gs_icm{background-position:-42px -44px;opacity:1;}.gs_btn_mn2 .gs_ico,.gs_btn_mn2:hover .gs_ico,.gs_btn_mn2:active .gs_ico,.gs_btn_mn2 .gs_ico:active,.gs_btn_mn2 :active~.gs_ico{opacity:1;}.gs_md_se,.gs_md_wn,.gs_el_ph .gs_md_wp{position:absolute;top:0;left:0;border:1px solid #ccc;border-color:rgba(0,0,0,.2);background:white;box-shadow:0 2px 4px rgba(0,0,0,.2);z-index:1100;display:none;opacity:0;transition:opacity .13s;}.gs_md_se.gs_vis,.gs_md_wn.gs_vis,.gs_el_ph .gs_md_wp.gs_vis{opacity:1;transition:all 0s;}.gs_el_tc .gs_md_se,.gs_el_tc .gs_md_wn,.gs_el_ph.gs_el_tc .gs_md_wp{transform-origin:100% 0;transform:scale(1,0);transition:opacity .218s ease-out,transform 0s .218s;}.gs_el_tc .gs_md_wn.gs_ttss,.gs_el_ph.gs_el_tc .gs_md_wp.gs_ttss{transform:scale(0,1);}.gs_el_tc .gs_md_wn.gs_ttzi,.gs_el_ph.gs_el_tc .gs_md_wp.gs_ttzi{transform-origin:50% 50%;transform:scale(0,0);}.gs_el_tc .gs_md_se.gs_vis,.gs_el_tc .gs_md_wn.gs_vis,.gs_el_ph.gs_el_tc .gs_md_wp.gs_vis{transform:scale(1,1);transition:transform .218s ease-out;}.gs_md_wm{opacity:0;visibility:hidden;background:#fff;border:1px solid #ccc;border-color:rgba(0,0,0,.2);box-shadow:0 2px 4px rgba(0,0,0,.2);z-index:1100;position:absolute;transform-origin:50% 50%;margin-top:-500px;}.gs_md_wm.gs_vis{opacity:1;visibility:visible;margin-top:0;}.gs_md_wm.gs_vis.gs_anm{animation:none;}.gs_md_wm.gs_anm{animation:gs_anm_fo .13s ease-out;}.gs_el_tc .gs_md_wm.gs_vis.gs_anm{animation:gs_anm_scli .218s ease-out;}.gs_el_tc .gs_md_wm.gs_anm{animation:gs_anm_fo .218s ease-out;}.gs_el_ph .gs_md_wmw{top:0;left:0;position:fixed;height:100%;width:100%;visibility:hidden;z-index:1100;}.gs_el_ph .gs_md_wm{top:0;left:0;padding:0;width:100%;height:100%;border:none;box-shadow:none;}.gs_el_ph .gs_md_wm.gs_vis.gs_anm{animation:gs_anm_sli .218s ease-out;}.gs_el_ph .gs_md_wm.gs_anm{animation:gs_anm_slo .218s ease-in;}@keyframes gs_anm_fo{from{opacity:1;visibility:visible;margin-top:0;}to{opacity:0;visibility:hidden;margin-top:0;}}@keyframes gs_anm_scli{from{transform:scale(0,0);}to{transform:scale(1,1);}}@keyframes gs_anm_slo{from{opacity:1;visibility:visible;margin-top:0;transform:translate(0,0);}to{opacity:1;visibility:hidden;margin-top:0;transform:translate(0,100%);}}@keyframes gs_anm_sli{from{transform:translate(0,100%);}to{transform:translate(0,0);}}.gs_md_se{white-space:nowrap}.gs_md_se ul{list-style-type:none;word-wrap:break-word;display:inline-block;vertical-align:top;}.gs_md_se li,.gs_md_li,.gs_md_li:link,.gs_md_li:visited{display:block;padding:6px 44px 6px 16px;font-size:13px;line-height:16px;color:#222;cursor:default;text-decoration:none;background:white;transition:background .13s;}a.gs_md_li:hover .gs_lbl,a.gs_md_li:active .gs_lbl{text-decoration:none}.gs_el_tc .gs_md_se li,.gs_el_tc .gs_md_li{padding-top:14px;padding-bottom:10px;}.gs_md_se li:hover,.gs_md_li:hover,.gs_md_li:focus{background:#f1f1f1;transition:background 0s;}.gs_md_se li.gs_sel{color:#dd4b39}.gs_md_wn:focus,.gs_md_se li:focus,.gs_md_li:focus{outline:none}button.gs_btnG .gs_ico,button.gs_btnG:hover .gs_ico,button.gs_btnG:active .gs_ico,button.gs_btnG .gs_ico:active,button.gs_btnG :active~.gs_ico{width:14px;height:14px;top:7px;left:27px;background-position:-113px -44px;opacity:1;}button .gs_bsc{position:absolute;top:0;right:50%;width:25px;}button .gs_bs{background:url('/intl/en/scholar/images/spinner.gif') no-repeat;position:relative;height:25px;width:25px;left:50%;display:none;}button.gs_bsp .gs_bs{display:block;}a.gs_in_cb:link,a.gs_in_cb:visited,a.gs_in_cb:active,a.gs_in_cb:hover,a.gs_in_cb.gs_dis:active .gs_lbl{cursor:default;color:#222;text-decoration:none;}.gs_in_cb,.gs_in_ra{position:relative;line-height:16px;display:inline-block;user-select:none;}.gs_in_cb.gs_md_li{padding:6px 44px 6px 16px;}.gs_in_cb input,.gs_in_ra input{position:absolute;top:1px;left:1px;width:15px;height:15px;margin:0;padding:0;opacity:0;z-index:2;}.gs_in_ra input{top:0;left:0}.gs_el_tc .gs_in_cb input{top:9px}.gs_el_tc .gs_in_ra input{top:8px}.gs_in_cb.gs_in_cbj input{top:15px;left:15px}.gs_in_cb label,.gs_in_cb .gs_lbl,.gs_in_ra label{display:inline-block;padding-left:21px;min-height:16px;}.gs_el_tc .gs_in_cb label,.gs_el_tc .gs_in_cb .gs_lbl,.gs_el_tc .gs_in_ra label{padding-top:8px;padding-bottom:5px;}.gs_in_cb.gs_in_cbj label,.gs_in_cb.gs_in_cbj .gs_lbl{padding:13px 0 12px 41px;}.gs_in_cb .gs_cbx,.gs_in_ra .gs_cbx{position:absolute}.gs_in_cb .gs_cbx{top:2px;left:2px;width:11px;height:11px;border:1px solid #c6c6c6;border-radius:1px;}.gs_md_li .gs_cbx{top:8px;left:18px}.gs_el_tc .gs_in_cb .gs_cbx{top:10px}.gs_el_tc .gs_md_li .gs_cbx{top:16px}.gs_in_cb.gs_in_cbj .gs_cbx{top:15px;left:15px}.gs_el_tc .gs_in_ra .gs_cbx{top:8px}.gs_in_ra .gs_cbx{top:0;left:0;border:1px solid #c6c6c6;width:13px;height:13px;border-radius:7px;}.gs_in_cb:hover .gs_cbx,.gs_in_ra:hover .gs_cbx{border-color:#666;box-shadow:inset 0 1px 1px rgba(0,0,0,.1);}.gs_in_cb:focus .gs_cbx,.gs_in_cb :focus~.gs_cbx,.gs_in_ra :focus~.gs_cbx{border-color:#4d90fe;}.gs_in_cb:active .gs_cbx,.gs_in_ra:active .gs_cbx,.gs_in_cb .gs_cbx:active,.gs_in_ra .gs_cbx:active,.gs_in_cb :active~.gs_cbx,.gs_in_ra :active~.gs_cbx{border-color:#666;background:#ebebeb;}.gs_in_cb :disabled~.gs_cbx,.gs_in_ra :disabled~.gs_cbx{border-color:#f1f1f1;box-shadow:none;}.gs_in_cb :disabled~label,.gs_in_ra :disabled~label{color:#b8b8b8;}.gs_in_cb.gs_err .gs_cbx{border-color:#eda29b;}.gs_in_cb .gs_chk,.gs_in_ra .gs_chk{position:absolute;z-index:1;top:-3px;left:-2px;width:21px;height:21px;}.gs_md_li .gs_chk{top:3px;left:14px}.gs_el_tc .gs_in_cb .gs_chk{top:5px}.gs_el_tc .gs_md_li .gs_chk{top:11px}.gs_in_cb.gs_in_cbj .gs_chk{top:10px;left:10px}.gs_in_ra .gs_chk{top:4px;left:4px;width:7px;height:7px;}.gs_el_tc .gs_in_ra .gs_chk{top:12px}.gs_in_cb input:checked~.gs_chk,.gs_in_cb.gs_sel .gs_chk{background:no-repeat url(/intl/en/scholar/images/1x/sprite_20160531.png) -69px -67px;opacity:.62;}.gs_in_ra input:checked~.gs_chk{border-radius:4px;background:#666;}.gs_in_cb.gs_par .gs_chk{background:no-repeat url(/intl/en/scholar/images/1x/sprite_20160531.png) -20px -44px;opacity:.55;}@media(-webkit-min-device-pixel-ratio:1.5),(min-resolution:144dpi){.gs_in_cb input:checked~.gs_chk,.gs_in_cb.gs_sel .gs_chk,.gs_in_cb.gs_par .gs_chk{background-image:url(/intl/en/scholar/images/2x/sprite_20160531.png);background-size:169px;}}.gs_in_cb input:checked:disabled~.gs_chk{background-position:-69px -67px;opacity:.22;}.gs_ico_X{background-position:-71px 0;opacity:.55;}.gs_ico_X:hover{opacity:.72;}.gs_ico_X:active{opacity:1;}.gs_el_tc .gs_ico_Xt{-webkit-background-origin:content;background-origin:content-box;-webkit-background-clip:content;background-clip:content-box;padding:10px 6px 10px 14px;}.gs_ico_P{background-position:0 0;opacity:.55;}.gs_ico_P:hover{opacity:.72;}.gs_ico_P:active{opacity:1;}.gs_btnC .gs_ico{background-position:0 -66px;}.gs_btnM .gs_ico{background-position:-92px 0;}.gs_btnMW .gs_ico{background-position:-21px -22px;}.gs_btnSB .gs_ico{background-position:0 -44px;}.gs_btnPL .gs_ico{background-position:-148px -66px;}.gs_btnPR .gs_ico{background-position:-21px -66px;}.gs_btnDE .gs_ico{background-position:-134px 0;}.gs_btnADD .gs_ico{background-position:-92px -66px;}.gs_btnMRG .gs_ico{background-position:-113px 0;}.gs_btnDWL .gs_ico{background-position:-28px -88px;}.gs_btnMNU .gs_ico{background-position:0 -88px;}#gsc_bdy{position:relative;margin:0 auto;width:1100px;}.gs_el_me #gsc_bdy{width:1028px}.gs_el_sm #gsc_bdy{width:964px}.gs_el_ph #gsc_bdy,.gs_el_ta #gsc_bdy{width:auto;margin-top:44px;}.gsc_lcl{position:relative;margin:0 337px 0 16px;}.gs_el_sm .gsc_lcl{margin-right:321px;}.gs_el_ta .gsc_lcl,.gs_el_ph .gsc_lcl{margin:0}#gsc_prf,#gsc_a_t{border-right:1px solid #ccc}.gs_el_ta #gsc_prf,.gs_el_ta #gsc_a_t,.gs_el_ph #gsc_prf,.gs_el_ph #gsc_a_t{border:none;}#gsc_rsb{position:absolute;top:0;right:0;width:336px;}.gs_el_sm #gsc_rsb{width:320px;}.gs_el_ta #gsc_rsb{position:relative;width:49%;float:right;margin:8px 0;}.gs_el_ta .gsc_prf_ed #gsc_rsb{display:none;}.gs_el_ph #gsc_rsb{position:relative;width:100%;}#gsc_rsb_m{display:none}.gs_el_ta #gsc_rsb_m,.gs_el_ph #gsc_rsb_m{display:block;position:absolute;top:-44px;width:100%;height:43px;border-bottom:1px solid #ccc;}.gs_el_ta #gsc_rsb_icol,.gs_el_ph #gsc_rsb_icol,.gs_el_ta #gsc_rsb_f,.gs_el_ph #gsc_rsb_f,.gs_el_ta #gsc_rsb_gpl,.gs_el_ph #gsc_rsb_gpl{display:none;}.gsc_rsb_s{margin:20px 24px 24px 24px;position:relative;}.gs_el_sm .gsc_rsb_s{margin:8px 16px 16px 16px}.gs_el_ta .gsc_rsb_s{margin:8px 16px}.gs_el_ph .gsc_rsb_s{margin:8px}.gsc_rsb_h{font-weight:bold;font-size:13px;border-bottom:1px solid #ccc;padding-bottom:4px;margin-bottom:4px;}.gs_el_sm .gsc_rsb_h{margin-bottom:0;}#gsc_rsb_icol,.gs_el_ta #gsc_rsb_icol_m{display:inline-block;width:189px;height:30px;margin:8px 0;background:no-repeat url('/intl/en/scholar/images/1x/scholar_logo_30dp.png');background-size:189px 30px;}.gs_el_ta #gsc_rsb_icol_m{margin:8px 16px;position:relative;z-index:1;}@media(-webkit-min-device-pixel-ratio:1.5),(min-resolution:144dpi){#gsc_rsb_icol,.gs_el_ta #gsc_rsb_icol_m{background-image:url('/intl/en/scholar/images/2x/scholar_logo_30dp.png');}}.gs_el_ph #gsc_rsb_icol_m{color:#dd4b39;font-size:20px;line-height:43px;margin:0 8px;position:relative;z-index:1;}.gs_el_ta #gsc_rsb_f_m,.gs_el_ph #gsc_rsb_f_m{position:absolute;top:7px;right:8px;z-index:2;}#gsc_rsb_fin,#gsc_rsb_fin_m,#gsc_rsb_fbt,#gsc_rsb_fbt_m{vertical-align:top}#gsc_rsb_fin,#gsc_rsb_fin_m{width:228px;border-radius:2px 0 0 2px;}.gs_el_ta #gsc_rsb_fin_m{width:240px}.gs_el_ph #gsc_rsb_fin_m{width:170px}#gsc_rsb_fbt,#gsc_rsb_fbt_m{margin-left:-1px;border-radius:0 2px 2px 0;}.gsc_rsb_foff #gsc_rsb_fin_m{display:none;}.gs_el_tc #gsc_rsb_fin_m{display:inline-block;transform:scale(1,1);visibility:visible;transform-origin:right;transition:visibility 0s,transform .218s;}.gs_el_tc .gsc_rsb_foff #gsc_rsb_fin_m{transform:scale(0,1);visibility:hidden;transition:visibility 0s .218s,transform .218s;}.gs_el_tc #gsc_rsb_f_m.gsc_rsb_foff{z-index:0;transition:z-index 0s .218s;}#gsc_rsb_gpl{margin:16px 0;text-align:center;}#gsc_rsb_st{width:100%;max-width:320px}.gs_el_ph #gsc_rsb_st{width:288px}#gsc_rsb_t{display:none}.gsc_rsb_std{text-align:right;padding-right:8px;}.gsc_rsb_sc1{text-align:left;}.gsc_rsb_sth{font-weight:normal;padding-bottom:4px;padding-right:8px;border-bottom:1px solid #ccc;text-align:right;}th.gsc_rsb_sc1{border-bottom:1px solid #ccc;padding-bottom:4px;font-weight:bold;font-size:13px;}.gsc_rsb_f:link,.gsc_rsb_f:visited{color:#222;}#gsc_g{position:relative;width:288px;height:100px;border:1px solid white;}#gsc_g:hover{border:1px solid #ccc;background:#f5f5f5;}#gsc_g:active{border:1px solid #4d90fe;background:#f1f1f1;}.gs_el_ta #gsc_g,.gs_el_ph #gsc_g{display:none}#gsc_g_x,#gsc_g_bars{position:absolute;bottom:13px;left:0;width:288px;height:57px;}#gsc_g_x{height:13px;border-top:1px solid #777;}.gsc_g_t{position:absolute;bottom:0;color:#777;font-size:11px;}.gsc_g_a{position:absolute;bottom:13px;width:15px;background:#777;}.gsc_g_a:hover,.gsc_g_a:focus,.gsc_g_a:active{text-decoration:none;cursor:default;}.gsc_g_al{position:absolute;bottom:15px;left:7px;color:#222;background:white;font-size:11px;padding:1px;border:1px solid #777;border-radius:1px;visibility:hidden;opacity:0;transition:opacity .218s,visibility 0s .218s;}.gsc_g_a:hover .gsc_g_al,.gsc_g_a:focus .gsc_g_al,.gsc_g_a:active .gsc_g_al{visibility:visible;opacity:1;transition:all 0s;}.gsc_rsb_a{position:relative;list-style:none;}.gsc_rsb_aa:hover{background:#f1f1f1;}span.gsc_rsb_aa:hover{background:white;}.gsc_rsb_lc{margin-left:12px;font-weight:normal;}.gsc_rsb_sp{display:none}.gs_el_ph .gsc_rsb_sp,.gs_el_ta .gsc_rsb_sp{display:inline;margin-right:8px;}.gs_el_ph #gsc_rsb_co .gsc_rsb_a,.gs_el_ta #gsc_rsb_co .gsc_rsb_a{width:auto;overflow-x:hidden;white-space:nowrap;}.gs_el_ph #gsc_rsb_co .gsc_rsb_aa,.gs_el_ta #gsc_rsb_co .gsc_rsb_aa{display:inline-block;}.gs_el_ph #gsc_rsb_co .gsc_rsb_a li,.gs_el_ta #gsc_rsb_co .gsc_rsb_a li{display:inline;}.gsc_rsb_fade{display:none}.gs_el_ph #gsc_rsb_co .gsc_rsb_fade,.gs_el_ta #gsc_rsb_co .gsc_rsb_fade{position:absolute;right:0;bottom:0;width:60px;height:100%;background-image:linear-gradient(to right,rgba(255,255,255,0),rgba(255,255,255,1) 80%);}.gsc_rsb_aa{display:block;padding:4px 0;line-height:17px;}.gs_el_tc .gsc_rsb_aa{line-height:26px}.gsc_rsb_aa:hover,.gsc_rsb_aa:active{text-decoration:none;}#gsc_rsb_ssc .gsc_rsb_h{margin-bottom:0}#gsc_rsb_ssc li{position:relative;border-bottom:1px solid #f1f1f1;}.gs_el_ta #gsc_rsb_ssc,.gs_el_ph #gsc_rsb_ssc,#gsc_rsb_vc{display:none}.gs_el_ta #gsc_rsb_vc,.gs_el_ph #gsc_rsb_vc{display:block;text-align:center;background:#4d90fe;border:1px solid #ccc;margin:0 7px;}.gsc_rsb_vca:link,.gsc_rsb_vca:visited{font-size:13px;font-weight:bold;display:block;color:#eeeeee;text-decoration:underline;padding:16px 8px;}.gsc_rsb_t{position:absolute;top:4px;right:0;width:58px;height:21px;}.gs_el_tc .gsc_rsb_t{top:10px}.gsc_rsb_t .gs_ico{margin-left:8px;}#gsc_rsb_ssc .gsc_rsb_aa{padding:6px 0;margin-right:58px;word-break:break-word;}#gsc_dscl{margin:0 0 8px 0;color:#777;font-style:italic;}#gsc_ftr_h{padding-bottom:13px;}#gsc_prf{padding:24px 8px 16px 0;}.gs_el_sm #gsc_prf{padding:16px 0 8px 0;}.gs_el_ta #gsc_prf{padding:16px 0 8px 16px;}.gs_el_ph #gsc_prf{padding:16px 8px 8px 8px;}.gs_el_ta #gsc_prf_w{width:50%;float:left;}.gs_el_ta .gsc_prf_ed #gsc_prf_w{width:80%;}#gsc_art{clear:both}#gsc_prf_pu{float:left;width:150px;text-align:center;background:#f8f8f8;margin:0 8px 8px 0;}#gsc_prf_pu form{padding:8px 8px 0 8px;background:white;}.gs_el_ph #gsc_prf_pu{width:75px}.gs_el_ta #gsc_prf_pu{width:100px}.gs_el_ta #gsc_prf_pu form,.gs_el_ph #gsc_prf_pu form{padding:4px 4px 0 4px}.gs_el_ph .gsc_prf_ed #gsc_prf_pu{display:none;}#gsc_prf_pua{display:block;line-height:0;}#gsc_prf_pufi{width:0;height:0;overflow:hidden;}.gsc_prf_pufo #gsc_prf_pufi{width:auto;height:auto;overflow:visible;position:relative;z-index:1;}.gsc_prf_pufo #gsc_prf_pufi2{display:inline-block;background:#fcfcfc;padding:8px 8px 8px 0;}#gsc_prf_pufb{word-wrap:break-word;}.gsc_prf_pufo #gsc_prf_pufb{display:none;}#gsc_prf_e,.gsc_prf_ed #gsc_prf_i{display:none}.gsc_prf_ed #gsc_prf_e{display:block;max-width:400px}#gsc_prf_i,#gsc_prf_e,#gsc_prf_iv{margin:0 16px 0 166px;}.gs_el_sm #gsc_prf_i,.gs_el_sm #gsc_prf_e,.gs_el_sm #gsc_prf_iv{margin:0 8px 0 158px;}.gs_el_ph #gsc_prf_i,.gs_el_ph #gsc_prf_e{margin:0 8px 0 0;}.gs_el_ta #gsc_prf_i{margin:0 8px 0 108px;}.gs_el_ta #gsc_prf_e{margin:0 8px 0 83px;}#gsc_prf_ib{float:right;position:relative;white-space:nowrap;}.gs_el_ta #gsc_prf_ib,.gs_el_ph #gsc_prf_ib{position:absolute;top:-37px;left:0;width:200%;height:0;}.gs_el_ph #gsc_prf_ib{width:100%;}#gsc_prf_ibi,#gsc_prf_ibi .gs_ibl{padding-left:16px;}.gs_el_ta #gsc_prf_ibi,.gs_el_ph #gsc_prf_ibi{text-align:right;padding-left:0;margin-right:60px;}.gs_el_ph #gsc_prf_ibi{margin-right:52px;}.gs_el_ph #gsc_prf_ibi .gs_ibl{padding-left:8px;}#gsc_prf_in{font-size:24px;line-height:24px;padding:3px 0 7px 0;}.gs_el_ta #gsc_prf_in,.gs_el_ph #gsc_prf_in{padding:0 0 2px 0;}.gsc_prf_il{font-size:15px;line-height:18px;padding:1px 0;}#gsc_prf_iv{display:none;font-size:15px;line-height:18px;padding:1px 0;}.gs_el_ph #gsc_prf_iv{margin:16px 8px;clear:both;}.gsc_prf_why #gsc_prf_iv{display:block}#gsc_prf_iv li{margin:8px 0 0 0;}#gsc_prf_iv ul{margin:-8px 0 16px 16px;}#gsc_prf_iv button{margin-left:16px;}.gsc_prf_iev{padding:4px 0 8px 0;}.gsc_prf_iel{color:#777;}#gsc_prf_iv table{width:100%;}#gsc_prf_iv td{vertical-align:top;}.gsc_prf_el{color:#777;}.gsc_prf_ev{padding:4px 0 8px 0;}#gsc_prf_ep{padding:8px 0;}#gsc_prf_eb{padding:16px 0 32px 0;}#gsc_prf_eb button{margin-right:16px;}#gsc_fol_dd{top:29px;left:auto;right:0;text-align:left;}.gs_el_ph #gsc_fol_dd{min-width:240px;max-width:284px;right:-44px;}#gsc_fol_f,#gsc_fol_p{padding:16px}#gsc_fol_p{background:#ffc}#gsc_fol_ml{color:#777;padding-bottom:4px}#gsc_fol_cb{padding:8px 0}.gsc_fol_cr{margin:8px 0;white-space:normal}.gs_el_tc .gsc_fol_cr{margin:0}#gsc_fol_dd #gsc_fol_b{margin:0}#gsc_fol_dd #gsc_fol_x{margin:0 16px}#gsc_fol_p #gsc_fol_x{margin-right:0}#gsc_fol_ll{display:inline-block;padding:7px 0 8px 0;white-space:nowrap}#gsc_fol_hlp{margin-bottom:16px;white-space:normal;}.gs_el_ph #gsc_fol_dd #gsc_fol_b,.gs_el_ph #gsc_fol_dd #gsc_fol_x,.gs_el_ph #gsc_fol_ll{display:block;width:100%;margin:8px 0 0 0;text-align:center;}.gs_el_ph #gsc_fol_ll{background:#fcfcfc}#gsc_dd_exp-md,#gsc_dd_mor-md{top:29px;}.gs_el_ph #gsc_dd_exp-md{left:auto;right:12px;}#gsc_dd_mor-md{width:196px;white-space:normal;}.gs_el_ph #gsc_dd_mor-md{left:-84px;}#gsc_dd_mor-m,.gs_el_ph #gsc_dd_mor-s{display:block;}#gsc_dd_mor-s{display:none;border-top:1px solid #ebebeb;}#gsc_dd_mor-s .gsc_dd_mor-sel{color:#dd4b39;}#gsc_dd_mor-p{border-top:1px solid #ebebeb;padding:10px 44px 10px 16px;color:#777;}.gsc_art_sel #gsc_btn_add,.gsc_art_sel #gsc_dd_mor-w,.gsc_art_sel #gsc_a_nn,#gsc_btn_mer,#gsc_btn_del,#gsc_btn_expw{display:none;}#gsc_dd_mor-w,.gsc_art_sel #gsc_btn_mer,.gsc_art_sel #gsc_btn_del,.gsc_art_sel #gsc_btn_expw{position:relative;display:inline-block;}#gsc_a_t{width:100%;table-layout:fixed;}#gsc_a_tr0 th.gsc_a_x,#gsc_a_tr0 th.gsc_a_t,#gsc_a_tr0 th.gsc_a_c,#gsc_a_tr0 th.gsc_a_y{height:0;padding-top:0;padding-bottom:0;border:none;border-top:1px solid #ccc;}#gsc_a_trh{left:0;top:0;z-index:700;background:#f1f1f1;}th.gsc_a_x,th.gsc_a_t,th.gsc_a_c,th.gsc_a_y{box-sizing:border-box;background:#f1f1f1;}.gsc_a_x,.gsc_a_t,.gsc_a_c,.gsc_a_y,.gsc_a_e{font-weight:normal;padding:8px 16px;vertical-align:middle;text-align:right;border-bottom:1px solid #ccc;}.gs_el_sm .gsc_a_t,.gs_el_sm .gsc_a_c,.gs_el_sm .gsc_a_y{padding:8px 8px;}.gsc_a_x{padding:0;}th.gsc_a_x{width:41px;height:41px;text-align:left;}th.gsc_a_x .gs_ico{background-position:-134px 0;opacity:.55;display:block;margin-left:12px;}.gsc_a_t{text-align:left;}#gsc_a_ta,#gsc_a_nn{display:inline-block;vertical-align:middle;margin-right:16px;}.gs_el_ph #gsc_a_nn{display:none;}th.gsc_a_c{width:90px;}.gs_el_sm th.gsc_a_c{width:74px;}.gs_el_ph th.gsc_a_c{padding:0 8px;width:74px;word-wrap:break-word;}#gsc_a_ca{display:block;width:58px;}.gs_el_ph #gsc_a_ca{width:58px;}.gs_el_ph .gsc_art_sel #gsc_a_ca{display:none}td.gsc_a_c{padding:8px;}th.gsc_a_y{width:71px;}.gs_el_sm th.gsc_a_y{width:55px;}.gs_el_ph th.gsc_a_y,.gs_el_ph td.gsc_a_y{width:0;padding:0;}.gs_el_ph .gsc_a_h{display:none}@media print{#gs_top th.gsc_a_c{width:63pt;}#gs_top th.gsc_a_y{width:45pt;}}.gsc_a_e{padding:16px;text-align:center;}.gsc_a_a{padding:8px 0}.gsc_a_at{padding:8px 0;font-size:16px}.gsc_a_ac{padding:8px}a.gsc_a_acm{text-decoration:line-through}a.gsc_a_acm:hover,a.gs_a_acm:active{text-decoration:underline}.gsc_a_m{position:absolute}.gs_el_ph .gsc_a_m{display:block;position:static;}.gsc_a_am{font-size:24px;position:absolute;top:-12px;left:-8px;padding:8px 12px 4px 8px;}.gs_el_ph .gsc_a_am{display:inline-block;position:static;padding:6px 16px;margin-bottom:-6px;}#gsc_a_sp{margin-top:16px;height:25px;background:url('/intl/en/scholar/images/spinner.gif') no-repeat 50% 0%;padding-bottom:16px;border-bottom:1px solid #ccc;}#gsc_a_err{padding:28px 0;}.gsc_a_fix{position:fixed;}#gsc_lwp{margin:35px 0;text-align:center;}#gsc_bpf{display:inline-block;}#gsc_bpf_more{min-width:200px;margin:0 16px;}.gs_el_ph #gsc_bpf_more{margin:0;}#gsc_md_mopt,#gsc_md_cbyd,#gsc_md_cbym{width:600px;}.gs_el_ta #gsc_md_mopt,.gs_el_ta #gsc_md_cbyd,.gs_el_ta #gsc_md_cbym{width:500px;}.gs_el_ph #gsc_md_mopt,.gs_el_ph #gsc_md_cbyd,.gs_el_ph #gsc_md_cbym{width:80%;}#gsc_md_mopt .gs_md_prg,#gsc_md_cbyd .gs_md_prg,#gsc_md_cbym .gs_md_prg{margin:48px 0;}.gsc_mob_art{vertical-align:top;padding:8px 0;}.gsc_mob_cby{vertical-align:top;text-align:right;padding:8px 12px;}.gsc_mob_ttl,.gsc_mob_pub{display:block;}.gsc_mob_pub{color:#666;}.gsc_mob_cbym{text-decoration:line-through}.gsc_mob_cbm{font-size:24px;position:absolute;padding:4px 0 0 4px;line-height:16px;}@media print{#gs_top #gs_gb,#gs_top #gsc_nag,#gs_top #gsc_rsb_lg_m,#gs_top #gsc_rsb_lg,#gs_top #gsc_prf_e,#gs_top #gsc_prf_ib,#gs_top #gsc_prf_ip,#gs_top #gsc_prf_ivh,#gs_top #gsc_prf_puf,#gs_top #gsc_rsb_ssc,#gs_top #gsc_rsb_co,#gs_top #gsc_rsb_vc,#gs_top #gsc_g,#gs_top #gsc_btn_add,#gs_top #gsc_btn_mer, #gs_top #gsc_btn_del,#gs_top #gsc_btn_expw,#gs_top #gsc_dd_mor-w,#gs_top .gsc_a_x,#gs_top #gsc_lwp,#gs_top #gsc_ftr_h{display:none;}#gs_top,#gs_top #gsc_bdy,#gs_top #gsc_prf_w,#gs_top #gsc_prf,#gs_top #gsc_prf_pu,#gs_top #gsc_prf_i,#gs_top .gsc_rsb_s,#gs_top .gsc_lcl,#gs_top #gsc_rsb,#gs_top #gsc_a_t,#gs_top .gsc_prf_il,#gs_top #gsc_rsb_st{background:none;border:none;padding:0;margin:0;height:auto;width:auto;min-width:0;max-width:none;float:none;display:block;position:static;color:black;font-weight:normal;font-size:12pt;}#gs_top .gsc_a_ac,#gs_top .gsc_a_a,#gs_top #gsc_a_ca,#gs_top .gsc_a_at,#gs_top .gsc_rsb_sc1,#gs_top .gsc_rsb_sth,#gs_top .gsc_rsb_std,#gs_top #gsc_bdy .gsc_a_x,#gs_top #gsc_bdy .gsc_a_t,#gs_top #gsc_bdy .gsc_a_c,#gs_top #gsc_bdy .gsc_a_y,#gs_top #gsc_a_trh,#gs_top .gsc_a_m,#gs_top .gsc_a_am{color:black;font-weight:normal;font-size:12pt;padding:0;margin:0;background:none;border:none;}#gs_top .gsc_a_ac{font-size:10pt}#gs_top #gsc_prf_pu{float:left;width:80pt;text-align:center;margin:0 7pt 7pt 0;}#gs_top #gsc_prf_i{margin:0 7pt 7pt 0;}#gs_top #gsc_prf_in{font-size:20pt;line-height:20pt;padding:0 0 4pt 0;}#gs_top #gsc_prf_w{float:left;width:64%;}#gs_top #gsc_rsb{float:right;width:35%;}#gs_top #gsc_rsb_st{display:table;width:100%;}#gs_top #gsc_rsb_t{display:block;text-align:right;line-height:20pt;padding-bottom:5pt;font-weight:bold;}#gs_top .gsc_rsb_sc1,#gs_top .gsc_rsb_sth,#gs_top .gsc_rsb_std{font-size:10pt;}#gs_top th.gsc_rsb_sc1,#gs_top .gsc_rsb_sth{border-bottom:1pt solid #ccc;}#gs_top .gsc_rsb_sth{padding-left:14pt;}#gs_top #gsc_bdy .gsc_a_x,#gs_top #gsc_bdy .gsc_a_t,#gs_top #gsc_bdy .gsc_a_c,#gs_top #gsc_bdy .gsc_a_y,#gs_top #gsc_a_trh{padding:6pt 0;}#gs_top #gsc_a_trh{border-bottom:1pt solid #ccc;}#gs_top #gsc_a_ca{display:block;width:auto;}#gs_top #gsc_a_ta,#gs_top #gsc_a_nn{display:inline-block;vertical-align:middle;margin-right:12pt;}#gs_top .gsc_a_h{display:inline;font-size:10pt;}#gs_top .gsc_a_at,#gs_top .gsc_prf_ila{color:blue;}#gs_top .gsc_a_m,#gs_top .gsc_a_am{display:inline;position:absolute;}#gs_top .gsc_a_am{padding: 11pt 0 0 8pt;}#gs_top .gsc_a_fix{position:static}#gs_top .gsc_a_t .gs_gray{color:black;font-size:10pt;}#gs_top #gsc_dscl{margin:12pt 0 0 0;color:black;}}&lt;/style&gt;&lt;script&gt;var gs_ie_ver=100;&lt;/script&gt;&lt;!--[if lte IE 8]&gt;&lt;script&gt;gs_ie_ver=8;&lt;/script&gt;&lt;![endif]--&gt;&lt;script&gt;function gs_id(i){return document.getElementById(i)}function gs_ch(e,t){return e?e.getElementsByTagName(t):[]}function gs_ech(e){return e.children||e.childNodes}function gs_atr(e,a){return e.getAttribute(a)}function gs_hatr(e,a){var n=e.getAttributeNode(a);return n&amp;&amp;n.specified}function gs_xatr(e,a,v){e.setAttribute(a,v)}function gs_uatr(e,a){e.removeAttribute(a)}function gs_catr(e,a,v){gs_hatr(e,a)&amp;&amp;gs_xatr(e,a,v)}function gs_ctai(e,v){gs_hatr(e,\\\"tabindex\\\")&amp;&amp;(e.tabIndex=v)}function gs_uas(s){return (navigator.userAgent||\\\"\\\").indexOf(s)&gt;=0}var gs_is_tc=/[?&amp;]tc=([01])/.exec(window.location.search||\\\"\\\"),gs_is_ios=gs_uas(\\\"iPhone\\\")||gs_uas(\\\"iPod\\\")||gs_uas(\\\"iPad\\\");if(gs_is_tc){gs_is_tc=parseInt(gs_is_tc[1]);}else if(window.matchMedia&amp;&amp;matchMedia(\\\"(pointer),(-moz-touch-enabled),(-moz-touch-enabled:0)\\\").matches){gs_is_tc=matchMedia(\\\"(pointer:coarse),(-moz-touch-enabled)\\\").matches;}else{gs_is_tc=0||('ontouchstart' in window)||(navigator.msMaxTouchPoints||0)&gt;0;}var gs_re_sp=/\\s+/,gs_re_sel=/(?:^|\\s)gs_sel(?!\\S)/g,gs_re_par=/(?:^|\\s)gs_par(?!\\S)/g,gs_re_dis=/(?:^|\\s)gs_dis(?!\\S)/g,gs_re_vis=/(?:^|\\s)gs_vis(?!\\S)/g,gs_re_anm=/(?:^|\\s)gs_anm(?!\\S)/g,gs_re_bsp=/(?:^|\\s)gs_bsp(?!\\S)/g,gs_re_err=/(?:^|\\s)gs_err(?!\\S)/g,gs_re_nscl=/(?:^|\\s)gs_nscl(?!\\S)/g,gs_re_cb=/(?:^|\\s)gs_in_cb(?!\\S)/,gs_re_ra=/(?:^|\\s)gs_in_ra(?!\\S)/,gs_re_qsp=/[\\s\\u0000-\\u002f\\u003a-\\u0040\\u005b-\\u0060\\u007b-\\u00bf\\u2000-\\u206f\\u2e00-\\u2e42\\u3000-\\u303f\\uff00-\\uff0f\\uff1a-\\uff20\\uff3b-\\uff40\\uff5b-\\uff65]+/;function gs_xcls(e,c){gs_scls(e,e.className+\\\" \\\"+c)}function gs_ucls(e,r){gs_scls(e,e.className.replace(r,\\\"\\\"))}function gs_scls(e,c){return e.className!=c&amp;&amp;(e.className=c,true)}function gs_usel(e){gs_ucls(e,gs_re_sel)}function gs_xsel(e){gs_usel(e);gs_xcls(e,\\\"gs_sel\\\")}function gs_tsel(e){return e.className.match(gs_re_sel)}function gs_isel(e){(gs_tsel(e)?gs_usel:gs_xsel)(e)}function gs_upar(e){gs_ucls(e,gs_re_par)}function gs_xpar(e){gs_upar(e);gs_xcls(e,\\\"gs_par\\\")}function gs_tpar(e){return e.className.match(gs_re_par)}function gs_udis(e){gs_ucls(e,gs_re_dis)}function gs_xdis(e){gs_udis(e);gs_xcls(e,\\\"gs_dis\\\")}function gs_tdis(e){return e.className.match(gs_re_dis)}function gs_uvis(e){gs_ucls(e,gs_re_vis)}function gs_xvis(e){gs_uvis(e);gs_xcls(e,\\\"gs_vis\\\")}function gs_uanm(e){gs_ucls(e,gs_re_anm)}function gs_xanm(e){gs_uanm(e);gs_xcls(e,\\\"gs_anm\\\")}function gs_ubsp(e){gs_ucls(e,gs_re_bsp)}function gs_xbsp(e){gs_ubsp(e);gs_xcls(e,\\\"gs_bsp\\\")}function gs_uerr(e){gs_ucls(e,gs_re_err)}function gs_xerr(e){gs_uerr(e);gs_xcls(e,\\\"gs_err\\\")}function gs_unscl(e){gs_ucls(e,gs_re_nscl)}function gs_xnscl(e){gs_unscl(e);gs_xcls(e,\\\"gs_nscl\\\")}var gs_gcs=window.getComputedStyle?function(e){return getComputedStyle(e,null)}:function(e){return e.currentStyle};var gs_ctd=function(){var s=document.documentElement.style,p,l=['OT','MozT','webkitT','t'],i=l.length;function f(s){return Math.max.apply(null,(s||\\\"\\\").split(\\\",\\\").map(parseFloat))||0;}do{p=l[--i]+'ransition'}while(i&amp;&amp;!(p in s));return i?function(e){var s=gs_gcs(e);return f(s[p+\\\"Delay\\\"])+f(s[p+\\\"Duration\\\"]);}:function(){return 0};}();var gs_tmh=function(){var X,P={};return {a:function(e){var t=pageYOffset+e.getBoundingClientRect().bottom;X=X||gs_id(\\\"gs_top\\\");if(e.id){P[e.id]=1;t&gt;X.offsetHeight&amp;&amp;(X.style.minHeight=t+\\\"px\\\");}},r:function(e){if(e.id&amp;&amp;X){delete P[e.id];if(!Object.keys(P).length){X.style.minHeight=\\\"\\\";}}}}}();var gs_vis=function(){return function(e,v,c){var s=e&amp;&amp;e.style,h,f;if(s){gs_catr(e,\\\"aria-hidden\\\",v?\\\"false\\\":\\\"true\\\");if(v){s.display=v===2?\\\"inline\\\":\\\"block\\\";gs_ctd(e);gs_xvis(e);f=gs_ctd(e);gs_uas(\\\"AppleWebKit\\\")&amp;&amp;f&amp;&amp;gs_evt_one(e,\\\"transitionend webkitTransitionEnd\\\",function(){gs_tmh.a(e);});c&amp;&amp;(f?setTimeout(c,1000*f):c());}else{gs_uvis(e);h=function(){s.display=\\\"none\\\";gs_tmh.r(e);c&amp;&amp;c();};f=gs_ctd(e);f?setTimeout(h,1000*f):h();}}};}();function gs_visi(i,v,c){gs_vis(gs_id(i),v,c)}function gs_sel_clk(p,t){var l=gs_ch(gs_id(p),\\\"li\\\"),i=l.length,c,x,s;while(i--){if((c=gs_ch(x=l[i],\\\"a\\\")).length){s=c[0]===t;(s?gs_xsel:gs_usel)(x);gs_catr(c[0],\\\"aria-selected\\\",s?\\\"true\\\":\\\"false\\\");}}return false;}function gs_efl(f){if(typeof f==\\\"string\\\"){var c=f.charAt(0),x=f.slice(1);if(c===\\\"#\\\")f=function(t){return t.id===x};else if(c===\\\".\\\")f=function(t){return (\\\" \\\"+t.className+\\\" \\\").indexOf(\\\" \\\"+x+\\\" \\\")&gt;=0};else{c=f.toLowerCase();f=function(t){return t.nodeName.toLowerCase()===c};}}return f;}function gs_dfcn(d){return (d?\\\"last\\\":\\\"first\\\")+\\\"Child\\\"}function gs_dnsn(d){return (d?\\\"previous\\\":\\\"next\\\")+\\\"Sibling\\\"}var gs_trv=function(){function h(r,x,f,s,n,c){var t,p;while(x){if(x.nodeType===1){if(f(x)){if(c)return x;}else{for(p=x[s];p;p=p[n])if(t=h(p,p,f,s,n,1))return t;}}c=1;while(1){if(x===r)return;p=x.parentNode;if(x=x[n])break;x=p;}}}return function(r,x,f,d){return h(r,x,gs_efl(f),gs_dfcn(d),gs_dnsn(d))};}();function gs_bind(){var a=Array.prototype.slice.call(arguments),f=a.shift();return function(){return f.apply(null,a.concat(Array.prototype.slice.call(arguments)))};}function gs_evt1(e,n,f){e.addEventListener(n,f,false)}function gs_uevt1(e,n,f){e.removeEventListener(n,f,false)}if(!window.addEventListener){gs_evt1=function(e,n,f){e.attachEvent(\\\"on\\\"+n,f)};gs_uevt1=function(e,n,f){e.detachEvent(\\\"on\\\"+n,f)};}function gs_evtX(e,n,f,w){var i,a;typeof n===\\\"string\\\"&amp;&amp;(n=n.split(\\\" \\\"));for(i=n.length;i--;)(a=n[i])&amp;&amp;w(e,a,f);}function gs_evt(e,n,f){gs_evtX(e,n,f,gs_evt1)}function gs_uevt(e,n,f){gs_evtX(e,n,f,gs_uevt1)}function gs_evt_one(e,n,f){function g(E){gs_uevt(e,n,g);f(E);}gs_evt(e,n,g);}function gs_evt_all(l,n,f){for(var i=l.length;i--;){gs_evt(l[i],n,gs_bind(f,l[i]))}}function gs_evt_dlg(p,c,n,f){p!==c&amp;&amp;(c=gs_efl(c));gs_evt(p,n,p===c?function(e){f(p,e)}:function(e){var t=gs_evt_tgt(e);while(t){if(c(t))return f(t,e);if(t===p)return;t=t.parentNode;}});}function gs_evt_sms(v){var L=[],l=[\\\"mousedown\\\",\\\"click\\\"],i=l.length;function s(e){for(var l=L,n=l.length,i=0,x=e.clientX,y=e.clientY;i&lt;n;i+=2){if(Math.abs(x-l[i])&lt;10&amp;&amp;Math.abs(y-l[i+1])&lt;10){gs_evt_ntr(e);break;}}}while(i--)document.addEventListener(l[i],s,true);gs_evt_sms=function(e){var l=e.changedTouches||[],h=l[0]||{};L.push(h.clientX,h.clientY);setTimeout(function(){L.splice(0,2)},2000);};gs_evt_sms(v);v=0;}function gs_evt_clk(e,f,w,k){return gs_evt_dlg_clk(e,e,function(t,e){f(e)},w,k);}function gs_evt_dlg_clk(p,c,f,w,k){k=\\\",\\\"+(k||[13,32]).join(\\\",\\\")+\\\",\\\";return gs_evt_dlg_xclk(p,c,function(t,e){if(e.type==\\\"keydown\\\"){if(k.indexOf(\\\",\\\"+e.keyCode+\\\",\\\")&lt;0)return;gs_evt_ntr(e);}f(t,e);},w);}function gs_evt_xclk(e,f,w){return gs_evt_dlg_xclk(e,e,function(t,e){f(e)},w);}function gs_evt_dlg_xclk(p,c,f,w){var T,S=0,X=0,Y=0,O=0,V=0;function u(t,e){var n=e.type,h,l;if(t!==T){T=t;S=0;}if(!gs_evt_spk(e)){if(n===\\\"mousedown\\\"){if(w!==2)return S=0;S=1;}else if(n===\\\"click\\\"){if(S){gs_evt_ntr(e);return S=0;}}else if(n===\\\"touchstart\\\"&amp;&amp;w){if(e.timeStamp-V&lt;200){gs_evt_ntr(e);return S=0;}if(w===2){S=0;}else{if((l=e.touches).length!==1)return S=-3;h=l[0];X=h.pageX;Y=h.pageY;O=pageYOffset;return S=3;}}else if(n===\\\"touchcancel\\\"){return S=0;}else if(n===\\\"touchend\\\"&amp;&amp;w){gs_evt_sms(e);V=e.timeStamp;if(w===2){gs_evt_ntr(e);return S=0;}if(S!==3||(l=e.changedTouches).length!==1||Math.abs(X-(h=l[0]).pageX)&gt;10||Math.abs(Y-h.pageY)&gt;10||Math.abs(O-pageYOffset)&gt;1){return S=(e.touches.length?-4:0);}S=0;}else if(n===\\\"keydown\\\"){f(t,e);return;}else if(n===\\\"keyup\\\"){e.keyCode===32&amp;&amp;gs_evt_pdf(e);return;}else{return}gs_evt_ntr(e);f(t,e);}}gs_evt_dlg(p,c,[\\\"keydown\\\",\\\"keyup\\\",\\\"click\\\"].concat(w?[\\\"mousedown\\\"].concat((w===2?1:0)?[\\\"touchstart\\\",\\\"touchend\\\",\\\"touchcancel\\\"]:[]):[]),u);return u;}function gs_evt_inp(e,f){gs_evt(e,[\\\"input\\\",\\\"keyup\\\",\\\"cut\\\",\\\"paste\\\",\\\"change\\\",\\\"gs-change\\\"],function(){setTimeout(f,0)});}function gs_evt_fcs(e,f){e.addEventListener(\\\"focus\\\",f,true)}function gs_evt_blr(e,f){e.addEventListener(\\\"blur\\\",f,true)}if(\\\"onfocusin\\\" in document){gs_evt_fcs=function(e,f){gs_evt(e,\\\"focusin\\\",f)};gs_evt_blr=function(e,f){gs_evt(e,\\\"focusout\\\",f)};}function gs_evt_stp(e){e.cancelBubble=true;e.stopPropagation&amp;&amp;e.stopPropagation();return false;}function gs_evt_pdf(e){e.returnValue=false;e.preventDefault&amp;&amp;e.preventDefault();}function gs_evt_ntr(e){gs_evt_stp(e);gs_evt_pdf(e);}function gs_evt_tgt(e){var t=e.target||e.srcElement;t&amp;&amp;t.nodeType===3&amp;&amp;(t=t.parentNode);return t;}function gs_evt_spk(e){return (e.ctrlKey?1:0)|(e.altKey?2:0)|(e.metaKey?4:0)|(e.shiftKey?8:0);}function gs_evt_crt(d,t){if(document.createEvent){var e=document.createEvent('Event');e.initEvent(t,!0,!0);d.dispatchEvent(e);}}function gs_tfcs(t){if(!gs_is_tc||(gs_uas(\\\"Windows\\\")&amp;&amp;!gs_uas(\\\"Windows Phone\\\"))){t.focus();t.value=t.value;}}var gs_raf=window.requestAnimationFrame||window.webkitRequestAnimationFrame||window.mozRequestAnimationFrame||function(c){setTimeout(c,33)};var gs_evt_rdy=function(){var d=document,l=[],h=function(){var n=l.length,i=0;while(i&lt;n)l[i++]();l=[];};gs_evt(d,\\\"DOMContentLoaded\\\",h);gs_evt(d,\\\"readystatechange\\\",function(){var s=d.readyState;(s==\\\"complete\\\"||(s==\\\"interactive\\\"&amp;&amp;gs_id(\\\"gs_rdy\\\")))&amp;&amp;h();});gs_evt(window,\\\"load\\\",h);return function(f){l.push(f)};}();function gs_evt_raf(e,n){var l=[],t=0,h=function(){var x=l,n=x.length,i=0;while(i&lt;n)x[i++]();t=0;};return function(f){l.length||gs_evt(e,n,function(){!t++&amp;&amp;gs_raf(h)});l.push(f);};}var gs_evt_wsc=gs_evt_raf(window,\\\"scroll\\\"),gs_evt_wre=gs_evt_raf(window,\\\"resize\\\");var gs_md_st=[],gs_md_lv={},gs_md_fc={},gs_md_if,gs_md_is=0;function gs_md_ifc(d,f){gs_md_fc[d]=f}function gs_md_sif(){gs_md_if=1;setTimeout(function(){gs_md_if=0},0);}function gs_md_plv(n){var l=gs_md_lv,x=0;while(n&amp;&amp;!x){x=l[n.id]||0;n=n.parentNode;}return x;}gs_evt(document,\\\"click\\\",function(e){var m=gs_md_st.length;if(m&amp;&amp;!gs_evt_spk(e)&amp;&amp;m&gt;gs_md_plv(gs_evt_tgt(e))){(gs_md_st.pop())();gs_evt_pdf(e);}});gs_evt(document,\\\"keydown\\\",function(e){e.keyCode==27&amp;&amp;!gs_evt_spk(e)&amp;&amp;gs_md_st.length&amp;&amp;(gs_md_st.pop())();});gs_evt(document,\\\"selectstart\\\",function(e){gs_md_is&amp;&amp;gs_evt_pdf(e)});gs_evt_fcs(document,function(e){var l=gs_md_lv,m=gs_md_st.length,x,k,v,d;if(m&amp;&amp;!gs_md_if){x=gs_md_plv(gs_evt_tgt(e));while(x&lt;m){v=0;for(k in l)l.hasOwnProperty(k)&amp;&amp;l[k]&gt;v&amp;&amp;(v=l[d=k]);if(v=gs_md_fc[d]){gs_evt_stp(e);gs_id(v).focus();break;}else{(gs_md_st.pop())(1);--m;!gs_md_is++&amp;&amp;setTimeout(function(){gs_md_is=0},1000);}}}});function gs_md_cls(d,e){var x=gs_md_lv[d]||1e6;while(gs_md_st.length&gt;=x)(gs_md_st.pop())();return gs_evt_stp(e);}function gs_md_shw(d,e,o,c){if(!gs_md_lv[d]){var x=gs_md_plv(gs_id(d));while(gs_md_st.length&gt;x)(gs_md_st.pop())();o&amp;&amp;o();gs_md_st.push(function(u){gs_md_lv[d]=0;c&amp;&amp;c(u);});gs_md_lv[d]=gs_md_st.length;return gs_evt_stp(e);}}function gs_md_opn(d,e,c,z){var a=document.activeElement;return gs_md_shw(d,e,gs_bind(gs_visi,d,1),function(u){gs_visi(d,0,z);try{u||a.focus()}catch(_){}c&amp;&amp;c(u);});}function gs_evt_md_mnu(d,b,f,a,w){var O,X;d=gs_id(d);b=gs_id(b);f=f?gs_efl(f):function(t){return (gs_hatr(t,\\\"data-a\\\")||t.nodeName===\\\"A\\\"&amp;&amp;t.href)&amp;&amp;t.offsetWidth;};a=a||function(t){var c=gs_atr(t,\\\"data-a\\\");c?eval(c):t.nodeName===\\\"A\\\"&amp;&amp;t.href&amp;&amp;(location=t.href);};function u(e){if(e.type==\\\"keydown\\\"){var k=e.keyCode;if(k==38||k==40){if(O){try{gs_trv(d,d,f,k==38).focus()}catch(_){}gs_evt_ntr(e);return;}}else if(k!=13&amp;&amp;k!=32){return;}gs_evt_pdf(e);}if(O){gs_md_cls(d.id,e);}else{gs_md_sif();O=1;gs_xsel(b);gs_md_opn(d.id,e,function(){O=0;gs_usel(b);try{X.blur()}catch(_){}});w&amp;&amp;w();}}function c(x,r){var p=x.parentNode,c=gs_ech(p),i=c.length,l=\\\"offsetLeft\\\";if(p!==d){while(c[--i]!==x);p=p[gs_dnsn(r)]||p.parentNode[gs_dfcn(r)];c=gs_ech(p);if(i=Math.min(i+1,c.length)){p=c[i-1];if(p.nodeType==1&amp;&amp;f(p)&amp;&amp;p[l]!=x[l])return p;}}}function g(t,e){function m(x){if(x){gs_evt_ntr(e);x.focus();}}if(O){if(e.type==\\\"keydown\\\"){var k=e.keyCode;if(k==13||k==32){}else{if(k==38||k==40){m(gs_trv(d,t,f,k==38)||gs_trv(d,d,f,k==38));}else if(k==37||k==39){m(c(t,k==37));}return;}}gs_md_cls(d.id,e);gs_evt_pdf(e);gs_md_sif();a(t);}}gs_evt_xclk(b,u,2);gs_evt_fcs(d,function(e){var x=gs_evt_tgt(e);if(x&amp;&amp;f(x)){gs_ctai(x,0);X=x;}});gs_evt_blr(d,function(e){var x=gs_evt_tgt(e);if(x&amp;&amp;f(x)){gs_ctai(x,-1);X=0;}});gs_evt_dlg_xclk(d,f,g,1);return u;}function gs_evt_md_sel(d,b,h,c,s,u){h=gs_id(h);c=gs_id(c);s=gs_id(s);return gs_evt_md_mnu(d,b,function(t){return gs_hatr(t,\\\"data-v\\\")},function(t){h.innerHTML=t.innerHTML;c.value=gs_atr(t,\\\"data-v\\\");if(t!==s){gs_usel(s);gs_uatr(s,\\\"aria-selected\\\");gs_xsel(s=t);gs_xatr(s,\\\"aria-selected\\\",\\\"true\\\");}gs_evt_crt(c,\\\"gs-change\\\");u&amp;&amp;u();},function(){s.focus()});}function gs_xhr(){if(window.XMLHttpRequest)return new XMLHttpRequest();var c=[\\\"Microsoft.XMLHTTP\\\",\\\"MSXML2.XMLHTTP\\\",\\\"MSXML2.XMLHTTP.3.0\\\",\\\"MSXML2.XMLHTTP.6.0\\\"],i=c.length;while(i--)try{return new ActiveXObject(c[i])}catch(e){}}function gs_ajax(u,d,c){var r=gs_xhr();r.onreadystatechange=function(){r.readyState==4&amp;&amp;c(r.status,r.responseText);};r.open(d?\\\"POST\\\":\\\"GET\\\",u,true);d&amp;&amp;r.setRequestHeader(\\\"Content-Type\\\",\\\"application/x-www-form-urlencoded\\\");d?r.send(d):r.send();}var gs_json_parse=\\\"JSON\\\" in window?function(s){return JSON.parse(s)}:function(s){return eval(\\\"(\\\"+s+\\\")\\\")};function gs_frm_ser(e,f){var i=e.length,r=[],x,n,t;while(i--){x=e[i];n=encodeURIComponent(x.name||\\\"\\\");t=x.type;n&amp;&amp;(!f||f(x))&amp;&amp;!x.disabled&amp;&amp;((t!=\\\"checkbox\\\"&amp;&amp;t!=\\\"radio\\\")||x.checked)&amp;&amp;r.push(n+\\\"=\\\"+encodeURIComponent(x.value||\\\"\\\"));}return r.join(\\\"&amp;\\\");}function gs_btn_ssp(b,v){  var x=gs_id(b);  (v?gs_xbsp:gs_ubsp)(x);  x.disabled=!!v;}function gs_evt_frm_ajax(f,b,a){var Z=f.elements,H={},x,y,i=Z.length;while(i--){x=Z[i];y=x.nextSibling;if(y&amp;&amp;x.name&amp;&amp;x.type==\\\"text\\\")H[x.name]=y.innerHTML;}function s(e){var p=\\\"json=&amp;\\\"+gs_frm_ser(Z);b&amp;&amp;b();gs_ajax(f.action,p,function(c,t){if(c!=200){a&amp;&amp;a(c);return}var p=gs_json_parse(t),l=p[\\\"L\\\"],g,m;if(l){a&amp;&amp;a(c,p);location=l;return}g=p[\\\"E\\\"];for(i in H){x=Z[i];m=g[i];y=x.nextSibling;gs_scls(x,\\\"gs_in_txt\\\"+(m?\\\" gs_in_txte\\\":\\\"\\\"));gs_scls(y,\\\"gs_in_txts \\\"+(m?\\\"gs_red\\\":\\\"gs_gray\\\"));y.innerHTML=m||H[i];gs_vis(y,y.innerHTML?1:0);}a&amp;&amp;a(c,p);});e&amp;&amp;gs_evt_pdf(e);};gs_evt(f,\\\"submit\\\",s);return s;}var gs_rlst,gs_wlst;!function(U){var L={},S;try{S=window.localStorage}catch(_){}gs_rlst=function(k,s){if(s||!(k in L)){var v=S&amp;&amp;S[k];if(v)try{v=JSON.parse(v)}catch(_){v=U}else v=U;L[k]=v;}return L[k];};gs_wlst=function(k,v){L[k]=v;try{S&amp;&amp;(S[k]=JSON.stringify(v))}catch(_){}};}();function gs_ac_nrm(q,t){q=(q||\\\"\\\").toLowerCase().split(gs_re_qsp).join(\\\" \\\");q[0]==\\\" \\\"&amp;&amp;(q=q.substr(1));var s=q.length-1;t&amp;&amp;q[s]==\\\" \\\"&amp;&amp;(q=q.substr(0,s));return q;}function gs_ac_get(Q){var h=gs_rlst(\\\"H:\\\"+Q),t={\\\"\\\":1},i=0,j=0,n,v,q;(h instanceof Array)||(h=[]);for(n=h.length;i&lt;n;i++){((v=h[i]) instanceof Array)&amp;&amp;v.length==3||(v=h[i]=[0,0,\\\"\\\"]);v[0]=+v[0]||0;v[1]=+v[1]||0;q=v[2]=gs_ac_nrm(\\\"\\\"+v[2],1);t[q]||(t[q]=1,h[j++]=v);}h.splice(Math.min(j,50),n);return h;}function gs_ac_fre(t){return Math.exp(.0231*((Math.max(t-1422777600,0)/86400)|0));}function gs_ac_add(Q,q,d){var h=gs_ac_get(Q),n=h.length,t=1e-3*(new Date()),m=0,x;if(q=gs_ac_nrm(q,1)){d=d||t;while(m&lt;n&amp;&amp;h[m][2]!=q)++m;m&lt;n||h.push([0,0,q]);if(d-h[m][0]&gt;1){h[m][0]=d;h[m][1]=Math.min(h[m][1]+gs_ac_fre(d),10*gs_ac_fre(t));while(m&amp;&amp;h[m][1]&gt;h[m-1][1]){x=h[m];h[m]=h[m-1];h[--m]=x;}h.splice(50,h.length);gs_wlst(\\\"H:\\\"+Q,h);}}}var gs_evt_el=function(W,D,L){function p(){var r=D.documentElement,w=W.innerWidth||r.offsetWidth,h=W.innerHeight||r.offsetHeight,m=\\\"\\\",n,i;if(w&amp;&amp;h){if(gs_is_ios){var S=W.screen||{},w2=S.width,h2=S.height,t;if(w&gt;h&amp;&amp;w2&lt;h2){t=w2;w2=h2;h2=t;}w2&amp;&amp;w2&lt;w&amp;&amp;(w=w2);h2&amp;&amp;h2&lt;h&amp;&amp;(h=h2);}if(w&lt;600)m=\\\"gs_el_sm gs_el_ph\\\";else if(w&lt;982)m=\\\"gs_el_sm gs_el_ta\\\";else if(w&lt;1060||h&lt;590)m=\\\"gs_el_sm\\\";else if(w&lt;1252||h&lt;640)m=\\\"gs_el_me\\\";gs_is_tc&amp;&amp;(m+=\\\" gs_el_tc\\\");gs_is_ios&amp;&amp;(m+=\\\" gs_el_ios\\\");if(gs_scls(r,m))for(n=L.length,i=0;i&lt;n;)L[i++]();}}p();gs_evt_wre(p);gs_evt(W,[\\\"pageshow\\\",\\\"load\\\"],p);return function(f){f();L.push(f)};}(window,document,[]);!function(B,U){gs_evt(document,(B&amp;&amp;\\\"1\\\"?[]:[\\\"mousedown\\\",\\\"touchstart\\\"]).concat([\\\"contextmenu\\\",\\\"click\\\"]),function(e){var t=gs_evt_tgt(e),a=\\\"data-clk\\\",w=window,r=document.documentElement,p=\\\"http://scholar.google.com\\\"||\\\"http://\\\"+location.host,n,h,c,u;while(t){n=t.nodeName;if(n===\\\"A\\\"&amp;&amp;(h=gs_ie_ver&lt;=8?t.getAttribute(\\\"href\\\",2):gs_atr(t,\\\"href\\\"))&amp;&amp;(c=gs_atr(t,a))){u=\\\"/scholar_url?url=\\\"+encodeURIComponent(h)+\\\"&amp;\\\"+c+\\\"&amp;ws=\\\"+(w.innerWidth||r.offsetWidth||0)+\\\"x\\\"+(w.innerHeight||r.offsetHeight||0);if(c.indexOf(\\\"&amp;scisig=\\\")&gt;0){gs_xatr(t,\\\"href\\\",p+u);gs_uatr(t,a);}else if(B){B.call(navigator,u);}else if(u!=U.src){(U=new Image()).src=u;setTimeout(function(){U={};},1000);}break;}t=(n===\\\"SPAN\\\"||n===\\\"B\\\"||n===\\\"I\\\"||n===\\\"EM\\\")&amp;&amp;t.parentNode;}});}(navigator.sendBeacon,{});function gs_is_cb(e){var n=e.className||\\\"\\\";return n.match(gs_re_cb)||n.match(gs_re_ra);}function gs_ssel(e){}(function(d){function c(){var v=l,i=v.length,k=p,e,x=gs_id(\\\"gs_top\\\");if(x&amp;&amp;!r){gs_evt(x,\\\"click\\\",function(){});r=1;if(!s){clearInterval(t);t=null}}p=i;while(i--&gt;k)gs_is_cb((e=v[i]).parentNode)&amp;&amp;gs_ssel(e);}var s=gs_ie_ver&lt;=8,l=[],p=0,t=setInterval(c,200),r;gs_evt_rdy(function(){c();l=[];clearInterval(t)});if(!s&amp;&amp;gs_is_tc){s=/AppleWebKit\\/([0-9]+)/.exec(navigator.userAgent||\\\"\\\");s=s&amp;&amp;parseInt(s[1])&lt;535;}if(!s)return;l=gs_ch(d,\\\"input\\\");gs_ssel=function(e){var p=e.parentNode,l,i,r;(e.checked?gs_xsel:gs_usel)(p);if(p.className.match(gs_re_ra)){l=e.form.elements[e.name]||[];for(i=l.length;i--;)((r=l[i]).checked?gs_xsel:gs_usel)(r.parentNode);}};gs_evt(d,\\\"click\\\",function(e){var x=gs_evt_tgt(e),p=x.parentNode;gs_is_cb(p)&amp;&amp;x.nodeName===\\\"INPUT\\\"&amp;&amp;gs_ssel(x);});})(document);function gs_cb_set(d,s,i){(s==1?gs_xsel:gs_usel)(d);(s==2?gs_xpar:gs_upar)(d);gs_xatr(d,\\\"aria-checked\\\",[\\\"false\\\",\\\"true\\\",\\\"mixed\\\"][s]);i||gs_xatr(d,\\\"data-s\\\",\\\"\\\"+s);}function gs_cb_get(e){return !!gs_tsel(e)+2*!!gs_tpar(e)}function gs_cb_ch(e){return +gs_atr(e,\\\"data-s\\\")!=gs_cb_get(e);}gs_evt_dlg(document,function(t){return (\\\" \\\"+t.className+\\\" \\\").indexOf(\\\" gs_cb_gen \\\")&gt;=0;},\\\"click\\\",function(t,e){var i=+gs_atr(t,\\\"data-s\\\");i!=2?gs_isel(t):gs_cb_set(t,[2,0,1][gs_cb_get(t)],true);gs_evt_crt(t,'gs-change');});&lt;/script&gt;&lt;script&gt;function gsc_scroll_right(x){x.scrollLeft=x.scrollWidth;}var gsc_art_sel_l=[];function gsc_evt_art_sel(f){gsc_art_sel_l.push(f)}var gsc_art_sel_p=[];function gsc_art_sel_chg(x){var l=gsc_art_sel_l,n=l.length,i=0;while(i&lt;n)l[i++](x);}function gsc_art_cbs(){return gs_ch(gs_id(\\\"gsc_a_t\\\"),\\\"input\\\")}function gsc_art_sel_cbs(l){l=l||gsc_art_cbs();var i=l.length,c,s=[];while(i--)(c=l[i]).checked&amp;&amp;s.push(c);return s;}function gsc_art_sids(l){l=l||gsc_art_cbs();var i=l.length,c,s=[];while(i--)(c=l[i]).checked&amp;&amp;s.push(c.value);return s;}function gsc_art_sel(v,l){l=l||gsc_art_cbs();var i=l.length,x;while(i--){(x=l[i]).checked=!!v;gs_ssel(x)}gsc_art_sel_chg(true);}gs_evt_rdy(function(){gsc_art_sel_chg();gs_evt_dlg(gs_id(\\\"gsc_a_t\\\"),\\\"input\\\",\\\"change\\\",function(){gsc_art_sel_chg();});var x=gs_id(\\\"gsc_x_all\\\");x&amp;&amp;gs_evt(x,\\\"gs-change\\\",function(){var s=gs_cb_get(x);gsc_art_sel(s!=0,s==2&amp;&amp;gsc_art_sel_p);});});function gsc_btn_sdis(b,d){b.disabled=!!d;(d?gs_xdis:gs_udis)(b);}function gsc_tr_add(b,h){try{b.innerHTML+=h}catch(_){var d=document.createElement(\\\"div\\\"),r,c,i,n;d.innerHTML=\\\"&lt;table&gt;\\\"+h+\\\"&lt;/table&gt;\\\";r=gs_ch(d,\\\"tr\\\");for(i=0,n=r.length,c=[];i&lt;n;i++)c.push(r[i]);for(i=0;i&lt;n;i++)b.appendChild(c[i]);}}function gsc_rsb_mco(x,w){var f=gs_id(\\\"gsc_rsb_mco\\\"),e=f.elements;e.colleague.value=x;e.add_colleague_btn.disabled=!!w;e.del_sugg_coll_btn.disabled=!w;f.submit();return false;}function gsc_prf_ed(w){gs_scls(gs_id(\\\"gsc_bdy\\\"),w?\\\"gsc_prf_ed\\\":\\\"\\\");}gsc_evt_art_sel(function(x){var v,n,k=gsc_art_cbs(),m=gs_id(\\\"gsc_btn_mer\\\"),o=gs_id(\\\"gsc_x_all\\\");if(m){p=gsc_art_sel_cbs(k);n=p.length;gsc_btn_sdis(m,n&lt;2||n&gt;5);if(!x&amp;&amp;o){gs_cb_set(o,v=n&amp;&amp;2-(n==k.length));v==2&amp;&amp;(gsc_art_sel_p=p);}gs_scls(gs_id(\\\"gsc_a_hd\\\"),n?\\\"gsc_art_sel\\\":\\\"\\\");}});function gsc_art_export(f){var l=gsc_art_cbs(),s=gsc_art_sids(l);gsc_md_show_exa(s,s.length==l.length,f,{});}gs_evt_rdy(function(){var m=gs_id(\\\"gsc_btn_mer\\\");m&amp;&amp;gs_evt(m,\\\"click\\\",function(e){gsc_md_show_mopt(gsc_art_sids(),e);});var p=gs_id(\\\"gsc_prf_puf\\\"),u;if(p){u=p.elements.upload_file;gs_evt(gs_id(\\\"gsc_prf_pufb\\\"),\\\"click\\\",function(e){if(gs_uas(\\\"MSIE \\\")||gs_uas(\\\"Trident\\\")){gs_scls(p,\\\"gsc_prf_pufo\\\");gs_md_opn(\\\"gsc_prf_pufi\\\",e,function(){gs_scls(p,\\\"\\\")});u.focus();}else{u.click();}});gs_evt(u,\\\"change\\\",function(){p.submit()});}});gs_evt_rdy(function(){var h=window.location.href,s=parseInt(h.replace(/.*[?&amp;]cstart=([0-9]*).*/,\\\"$1\\\"))||0,n=parseInt(h.replace(/.*[?&amp;]pagesize=([0-9]*).*/,\\\"$1\\\"))||20,P=gs_id(\\\"gsc_bpf_prev\\\"),N=gs_id(\\\"gsc_bpf_next\\\"),M=gs_id(\\\"gsc_bpf_more\\\");function t(){return Math.max(Math.min(n,100),20)}n=t();function p(k,m){return (h.replace(/([?&amp;])(cstart|pagesize)=[^&amp;]*/g,\\\"$1\\\")+\\\"&amp;cstart=\\\"+k+\\\"&amp;pagesize=\\\"+m).replace(/([?&amp;])&amp;+/,\\\"$1\\\");}gs_evt(P,\\\"click\\\",function(){location=p(s-t(),t())});gs_evt(N,\\\"click\\\",function(){location=p(s+n,t())});gs_evt(M,\\\"click\\\",function(){var m=n&lt;100?100-n:100,x=gs_id(\\\"gsc_a_sp\\\"),g=gs_id(\\\"gsc_a_err\\\");gs_vis(g,0);gs_vis(x,1);gs_ajax(p(s+n,m),\\\"json=1\\\",function(c,t){var r=c==200&amp;&amp;gs_json_parse(t),b=gs_id(\\\"gsc_a_b\\\");gs_vis(x,0);if(r){gsc_tr_add(b,r[\\\"B\\\"]);n+=m;(gs_id(\\\"gsc_a_nn\\\")||{}).innerHTML=(s+1)+\\\"&amp;ndash;\\\"+(s+gs_ch(b,\\\"tr\\\").length);gsc_btn_sdis(P,!r[\\\"P\\\"]||s&lt;=0);gsc_btn_sdis(N,!r[\\\"N\\\"]);gsc_btn_sdis(M,!r[\\\"N\\\"]||n&gt;=1000);gsc_art_sel_chg();}else{gs_vis(g,1);}});});});gs_evt_rdy(function(){var f=gs_id(\\\"gsc_rsb_f_m\\\"),i=gs_id(\\\"gsc_rsb_fin_m\\\"),b=gs_id(\\\"gsc_rsb_fbt_m\\\");gs_evt_blr(f,function(){setTimeout(function(){var a=document.activeElement;a!==i&amp;&amp;a!==b&amp;&amp;gs_scls(f,\\\"gsc_rsb_foff\\\");},0);});gs_evt(f,\\\"submit\\\",function(e){  if(f.className){gs_scls(f,\\\"\\\");setTimeout(function(){i.focus();},1000*gs_ctd(i));      gs_evt_pdf(e);  }else if(!i.value){      gs_scls(f,\\\"gsc_rsb_foff\\\");gs_evt_pdf(e);  }});});&lt;/script&gt;&lt;title&gt;Jeff Leek - Google Scholar Citations&lt;/title&gt;&lt;link rel=\\\"canonical\\\" href=\\\"http://scholar.google.com/citations?user=HI-I6C0AAAAJ&amp;amp;hl=en\\\"&gt;&lt;/head&gt;&lt;body&gt;&lt;div id=\\\"gs_top\\\"&gt;&lt;style&gt;#gs_gb{position:relative;height:30px;background:#2d2d2d;font-size:13px;line-height:16px;-webkit-backface-visibility:hidden;}#gs_gb_lt,#gs_gb_rt,#gs_gb_lp{position:absolute;top:0;white-space:nowrap;}#gs_gb_lt{left:22px}.gs_el_sm #gs_gb_lt{left:6px}.gs_el_ph #gs_gb_lt{display:none}#gs_gb_lp{display:none}#gs_gb_lp:hover,#gs_gb_lp:focus,#gs_gb_lp:active{-webkit-filter:brightness(100%);}.gs_el_ph #gs_gb_lp{display:block;z-index:1;cursor:pointer;top:8px;left:8px;width:48px;height:16px;background:no-repeat url('/intl/en/scholar/images/1x/googlelogo_bbb_color_48x16dp.png');background-size:48px 16px;}@media(-webkit-min-device-pixel-ratio:1.5),(min-resolution:144dpi){.gs_el_ph #gs_gb_lp{background-image:url('/intl/en/scholar/images/2x/googlelogo_bbb_color_48x16dp.png');}}#gs_gb_rt{right:22px}.gs_el_sm #gs_gb_rt{right:6px}.gs_el_ta #gs_gb_rt,.gs_el_ph #gs_gb_rt{right:0}#gs_gb_lt a:link,#gs_gb_lt a:visited,#gs_gb_rt a:link,#gs_gb_rt a:visited{display:inline-block;vertical-align:top;height:29px;line-height:27px;padding:2px 10px 0 10px;font-weight:bold;color:#bbb;cursor:pointer;text-decoration:none;}#gs_gb_rt a:link,#gs_gb_rt a:visited{padding:2px 8px 0 8px}#gs_gb_lt a:hover,#gs_gb_lt a:focus,#gs_gb_lt a:active,#gs_gb_rt a:hover,#gs_gb_rt a:focus,#gs_gb_rt a:active{color:white;outline:none;}#gs_gb_ac{top:30px;left:auto;right:6px;width:288px;white-space:normal;}#gs_gb_aw,#gs_gb_ap,.gs_gb_am,#gs_gb_ab{display:block;padding:10px 20px;word-wrap:break-word;}#gs_gb_aw{background:#fef9db;font-size:11px;}#gs_gb_ap,.gs_gb_am{border-bottom:1px solid #ccc;}#gs_gb_aa:link,#gs_gb_aa:visited{float:right;margin-left:8px;color:#1a0dab;}#gs_gb_aa:active{color:#d14836}.gs_gb_am:link,.gs_gb_am:visited{color:#222;text-decoration:none;background:#fbfbfb;}.gs_gb_am:hover,.gs_gb_am:focus{background:#f1f1f1}.gs_gb_am:active{background:#eee}#gs_gb_ab{background:#fbfbfb;overflow:auto;}#gs_gb_aab{float:left}#gs_gb_aso{float:right}&lt;/style&gt;&lt;div id=\\\"gs_gb\\\" role=\\\"navigation\\\"&gt;&lt;div id=\\\"gs_gb_lt\\\"&gt;&lt;a href=\\\"//www.google.com/webhp?hl=en&amp;amp;\\\"&gt;Web&lt;/a&gt;&lt;a href=\\\"//www.google.com/imghp?hl=en&amp;amp;\\\"&gt;Images&lt;/a&gt;&lt;a href=\\\"//www.google.com/intl/en/options/\\\"&gt;More&amp;hellip;&lt;/a&gt;&lt;/div&gt;&lt;a id=\\\"gs_gb_lp\\\" aria-label=\\\"Web\\\" href=\\\"//www.google.com/webhp?hl=en&amp;\\\"&gt;&lt;/a&gt;&lt;div id=\\\"gs_gb_rt\\\"&gt;&lt;a href=\\\"https://accounts.google.com/Login?hl=en&amp;amp;continue=http://scholar.google.com/citations%3Fuser%3DHI-I6C0AAAAJ%26hl%3Den\\\"&gt;Sign in&lt;/a&gt;&lt;/div&gt;&lt;/div&gt;&lt;!--[if lte IE 9]&gt;&lt;div class=\\\"gs_alrt\\\" style=\\\"padding:16px\\\"&gt;&lt;div&gt;Sorry, some features may not work in this version of Internet Explorer.&lt;/div&gt;&lt;div&gt;Please use &lt;a href=\\\"//www.google.com/chrome/\\\"&gt;Google Chrome&lt;/a&gt; or &lt;a href=\\\"//www.mozilla.com/firefox/\\\"&gt;Mozilla Firefox&lt;/a&gt; for the best experience.&lt;/div&gt;&lt;/div&gt;&lt;![endif]--&gt;&lt;style&gt;html,body{height:100%}#gs_top{min-height:100%}#gs_md_s,#gs_md_w{z-index:1200;position:absolute;top:0;left:0;width:100%;height:100%;}#gs_md_s{background:#666;filter:alpha(opacity=50);-ms-filter:\\\"alpha(opacity=50)\\\";opacity:.5;}.gs_md_d{position:relative;padding:28px 32px;margin:0 auto;width:400px;-moz-box-shadow:2px 2px 8px rgba(0,0,0,.65);-webkit-box-shadow:2px 2px 8px rgba(0,0,0,.65);box-shadow:2px 2px 8px rgba(0,0,0,.65);}.gs_el_ph .gs_md_d{padding:16px 20px;width:80%;max-width:400px;}.gs_md_d .gs_ico_X{position:absolute;top:8px;right:8px;background-color:#fff;}.gs_md_d h2{font-size:16px;font-weight:normal;line-height:24px;margin-bottom:16px;}.gs_el_ph .gs_md_d h2{margin-bottom:8px}.gs_md_lbl{margin:16px 0}.gs_md_btns{margin-top:16px}.gs_md_btns button{margin-right:16px}.gs_md_prg{margin:24px 0;}&lt;/style&gt;&lt;script&gt;function gs_md_opw(d,e,b){var r=document.documentElement,s=gs_id(\\\"gs_md_s\\\").style,w=gs_id(\\\"gs_md_w\\\").style,q=gs_id(d),g=q.style;g.visibility=\\\"hidden\\\";s.display=w.display=g.display=\\\"block\\\";g.top=Math.max(document.body.scrollTop||0,r.scrollTop||0)+Math.max((r.clientHeight-q.offsetHeight)/2,10)+\\\"px\\\";g.visibility=\\\"visible\\\";gs_md_opn(d,e,function(){s.display=\\\"none\\\"},function(){w.display=\\\"none\\\"});if(b){b=gs_id(b);b.type===\\\"text\\\"?gs_tfcs(b):b.focus();}return false;}function gs_md_ldw(d,e,b,c,u,p,f){c=gs_id(c);c.innerHTML=\\\"&lt;div class='gs_md_prg'&gt;Loading...&lt;/div&gt;\\\";gs_md_opw(d,e,b);gs_ajax(u,p,function(x,t){c.innerHTML=x===200?t:\\\"&lt;div class='gs_md_prg gs_alrt'&gt;The system can\\x27t perform the operation now. Try again later.&lt;/div&gt;\\\";f&amp;&amp;f(x,t);});}&lt;/script&gt;&lt;div id=\\\"gs_md_s\\\" style=\\\"display:none\\\"&gt;&lt;/div&gt;&lt;div id=\\\"gs_md_w\\\" style=\\\"display:none\\\"&gt;&lt;div id=\\\"gsc_md_exa\\\" style=\\\"display:none\\\" class=\\\"gs_md_d gs_md_wn gs_ttzi\\\" role=\\\"dialog\\\" aria-hidden=\\\"true\\\" aria-labelledby=\\\"gsc_md_exa-t\\\"&gt;&lt;a id=\\\"gsc_md_exa-x\\\" href=\\\"#\\\" role=\\\"button\\\" aria-label=\\\"Cancel\\\" class=\\\"gs_ico gs_ico_X gs_ico_Xt\\\" onclick=\\\"return gs_md_cls('gsc_md_exa',event)\\\"&gt;&lt;/a&gt;&lt;h2 id=\\\"gsc_md_exa-t\\\"&gt;Export articles&lt;/h2&gt;&lt;form id=\\\"gsc_md_exa_f\\\" action=\\\"/citations?view_op=export_citations&amp;amp;hl=en&amp;amp;oe=ASCII&amp;amp;user=HI-I6C0AAAAJ\\\" method=\\\"post\\\"&gt;&lt;input type=\\\"hidden\\\" name=\\\"cit_fmt\\\"&gt;&lt;p&gt;&lt;span class=\\\"gs_in_ra\\\" onclick=\\\"void(0)\\\"&gt;&lt;input type=\\\"radio\\\" name=\\\"s\\\" value=\\\"\\\" id=\\\"gsc_md_exa_r0\\\" checked&gt;&lt;label for=\\\"gsc_md_exa_r0\\\"&gt;Export selected articles&lt;/label&gt;&lt;span class=\\\"gs_chk\\\"&gt;&lt;/span&gt;&lt;span class=\\\"gs_cbx\\\"&gt;&lt;/span&gt;&lt;/span&gt;&lt;/p&gt;&lt;p&gt;&lt;span class=\\\"gs_in_ra\\\" onclick=\\\"void(0)\\\"&gt;&lt;input type=\\\"radio\\\" name=\\\"s\\\" value=\\\"\\\" id=\\\"gsc_md_exa_r1\\\"&gt;&lt;label for=\\\"gsc_md_exa_r1\\\"&gt;Export all my articles&lt;/label&gt;&lt;span class=\\\"gs_chk\\\"&gt;&lt;/span&gt;&lt;span class=\\\"gs_cbx\\\"&gt;&lt;/span&gt;&lt;/span&gt;&lt;/p&gt;&lt;div class=\\\"gs_md_btns\\\"&gt;&lt;button type=\\\"submit\\\" id=\\\"gsc_md_exa_export\\\" name=\\\"export_selected_btn\\\" class=\\\" gs_btn_act\\\"&gt;&lt;span class=\\\"gs_wr\\\"&gt;&lt;span class=\\\"gs_lbl\\\"&gt;Export&lt;/span&gt;&lt;/span&gt;&lt;/button&gt;&lt;button type=\\\"button\\\" id=\\\"gsc_md_exa_cancel\\\" class=\\\"\\\"&gt;&lt;span class=\\\"gs_wr\\\"&gt;&lt;span class=\\\"gs_lbl\\\"&gt;Cancel&lt;/span&gt;&lt;/span&gt;&lt;/button&gt;&lt;/div&gt;&lt;/form&gt;&lt;script&gt;function gsc_md_show_exa(s,a,f,e){var b=\\\"gsc_md_exa_export\\\",l=gs_id(\\\"gsc_md_exa_f\\\").elements,c=l.s[0];l.cit_fmt.value=\\\"\\\"+f;c.value=s.join(\\\",\\\");c.checked=true;gs_ssel(c);a&amp;&amp;1?gs_md_opw(\\\"gsc_md_exa\\\",e,b):gs_id(b).click();}gs_evt_clk(gs_id(\\\"gsc_md_exa_cancel\\\"),gs_bind(gs_md_cls,\\\"gsc_md_exa\\\"));&lt;/script&gt;&lt;/div&gt;&lt;script&gt;gs_md_ifc(\\\"gsc_md_exa\\\",\\\"gsc_md_exa-x\\\");&lt;/script&gt;&lt;div id=\\\"gsc_md_cbym\\\" style=\\\"display:none\\\" class=\\\"gs_md_d gs_md_wn gs_ttzi\\\" role=\\\"dialog\\\" aria-hidden=\\\"true\\\" aria-labelledby=\\\"gsc_md_cbym-t\\\"&gt;&lt;a id=\\\"gsc_md_cbym-x\\\" href=\\\"#\\\" role=\\\"button\\\" aria-label=\\\"Cancel\\\" class=\\\"gs_ico gs_ico_X gs_ico_Xt\\\" onclick=\\\"return gs_md_cls('gsc_md_cbym',event)\\\"&gt;&lt;/a&gt;&lt;h2 id=\\\"gsc_md_cbym-t\\\"&gt;Merged citations&lt;/h2&gt;&lt;p&gt;This \\\"Cited by\\\" count includes citations to the following articles in Scholar. The ones marked &lt;span id=\\\"gsc_md_cbym_s\\\"&gt;*&lt;/span&gt; may be different from the article in the profile.&lt;/p&gt;&lt;div id=\\\"gsc_md_cbym_l\\\"&gt;&lt;/div&gt;&lt;div class=\\\"gs_md_btns\\\"&gt;&lt;button type=\\\"button\\\" id=\\\"gsc_md_cbym_cancel\\\" class=\\\"\\\"&gt;&lt;span class=\\\"gs_wr\\\"&gt;&lt;span class=\\\"gs_lbl\\\"&gt;Done&lt;/span&gt;&lt;/span&gt;&lt;/button&gt;&lt;/div&gt;&lt;script&gt;function gsc_md_show_cbym(x,e){var a=gs_id(\\\"gsc_md_cbym_e\\\");a&amp;&amp;(a.href=a.href.replace(/(&amp;citation_for_view=)[^&amp;]*/,\\\"$1\\\"+x));gs_md_ldw(\\\"gsc_md_cbym\\\",e,\\\"gsc_md_cbym_cancel\\\",\\\"gsc_md_cbym_l\\\",\\\"/citations?hl\\x3den\\x26oe\\x3dASCII\\x26user\\x3dHI-I6C0AAAAJ\\x26view_op\\x3dlist_works\\\",\\\"merge_btn=1&amp;s=\\\"+x);}gs_evt_clk(gs_id(\\\"gsc_md_cbym_cancel\\\"),gs_bind(gs_md_cls,\\\"gsc_md_cbym\\\"));&lt;/script&gt;&lt;/div&gt;&lt;script&gt;gs_md_ifc(\\\"gsc_md_cbym\\\",\\\"gsc_md_cbym-x\\\");&lt;/script&gt;&lt;div id=\\\"gsc_md_cbyd\\\" style=\\\"display:none\\\" class=\\\"gs_md_d gs_md_wn gs_ttzi\\\" role=\\\"dialog\\\" aria-hidden=\\\"true\\\" aria-labelledby=\\\"gsc_md_cbyd-t\\\"&gt;&lt;a id=\\\"gsc_md_cbyd-x\\\" href=\\\"#\\\" role=\\\"button\\\" aria-label=\\\"Cancel\\\" class=\\\"gs_ico gs_ico_X gs_ico_Xt\\\" onclick=\\\"return gs_md_cls('gsc_md_cbyd',event)\\\"&gt;&lt;/a&gt;&lt;h2 id=\\\"gsc_md_cbyd-t\\\"&gt;Duplicate citations&lt;/h2&gt;&lt;p&gt;The following articles are merged in Scholar. Their &lt;a id=\\\"gsc_md_cbyd_c\\\" href=\\\"#\\\"&gt;combined citations&lt;/a&gt; are counted only for the first article.&lt;/p&gt;&lt;div id=\\\"gsc_md_cbyd_l\\\"&gt;&lt;/div&gt;&lt;div class=\\\"gs_md_btns\\\"&gt;&lt;button type=\\\"button\\\" id=\\\"gsc_md_cbyd_cancel\\\" class=\\\"\\\"&gt;&lt;span class=\\\"gs_wr\\\"&gt;&lt;span class=\\\"gs_lbl\\\"&gt;Done&lt;/span&gt;&lt;/span&gt;&lt;/button&gt;&lt;/div&gt;&lt;script&gt;function gsc_md_show_cbyd(a,x,u,e){var f=gs_id(\\\"gsc_md_cbyd_f\\\"),m=gs_id(\\\"gsc_md_cbyd_merge\\\"),s=u+\\\",\\\"+x;f&amp;&amp;(f.elements.s.value=s);gs_id(\\\"gsc_md_cbyd_c\\\").href=a;if(m){m.disabled=false;gs_udis(m);}gs_md_ldw(\\\"gsc_md_cbyd\\\",e,m?m.id:\\\"gsc_md_cbyd_cancel\\\",\\\"gsc_md_cbyd_l\\\",\\\"/citations?hl\\x3den\\x26oe\\x3dASCII\\x26user\\x3dHI-I6C0AAAAJ\\x26view_op\\x3dlist_works\\\",\\\"merge_btn=1&amp;s=\\\"+s,function(){if(f&amp;&amp;m){var c=f.elements.choose;m.disabled=!c;(c?gs_udis:gs_xdis)(m);c&amp;&amp;gs_ssel(c[0]);}});}gs_evt_clk(gs_id(\\\"gsc_md_cbyd_cancel\\\"),gs_bind(gs_md_cls,\\\"gsc_md_cbyd\\\"));&lt;/script&gt;&lt;/div&gt;&lt;script&gt;gs_md_ifc(\\\"gsc_md_cbyd\\\",\\\"gsc_md_cbyd-x\\\");&lt;/script&gt;&lt;div id=\\\"gsc_md_mopt\\\" style=\\\"display:none\\\" class=\\\"gs_md_d gs_md_wn gs_ttzi\\\" role=\\\"dialog\\\" aria-hidden=\\\"true\\\" aria-labelledby=\\\"gsc_md_mopt-t\\\"&gt;&lt;a id=\\\"gsc_md_mopt-x\\\" href=\\\"#\\\" role=\\\"button\\\" aria-label=\\\"Cancel\\\" class=\\\"gs_ico gs_ico_X gs_ico_Xt\\\" onclick=\\\"return gs_md_cls('gsc_md_mopt',event)\\\"&gt;&lt;/a&gt;&lt;h2 id=\\\"gsc_md_mopt-t\\\"&gt;Merge duplicates&lt;/h2&gt;&lt;/div&gt;&lt;script&gt;gs_md_ifc(\\\"gsc_md_mopt\\\",\\\"gsc_md_mopt-x\\\");&lt;/script&gt;&lt;div id=\\\"gsc_md_hist\\\" style=\\\"display:none\\\" class=\\\"gs_md_d gs_md_wn gs_ttzi\\\" role=\\\"dialog\\\" aria-hidden=\\\"true\\\" aria-labelledby=\\\"gsc_md_hist-t\\\"&gt;&lt;a id=\\\"gsc_md_hist-x\\\" href=\\\"#\\\" role=\\\"button\\\" aria-label=\\\"Cancel\\\" class=\\\"gs_ico gs_ico_X gs_ico_Xt\\\" onclick=\\\"return gs_md_cls('gsc_md_hist',event)\\\"&gt;&lt;/a&gt;&lt;h2 id=\\\"gsc_md_hist-t\\\"&gt;Citations per year&lt;/h2&gt;&lt;div id=\\\"gsc_md_hist_c\\\"&gt;&lt;/div&gt;&lt;/div&gt;&lt;script&gt;gs_md_ifc(\\\"gsc_md_hist\\\",\\\"gsc_md_hist-x\\\");&lt;/script&gt;&lt;/div&gt;&lt;style&gt;#gs_alrt_w{position:fixed;width:100%;z-index:1050;display:none;opacity:0;transition:opacity .3s ease-out;}#gs_alrt_w.gs_vis{opacity:1}#gs_alrt_p{position:absolute;top:-15px;right:0;width:100%;text-align:center;}#gs_alrt{display:inline-block;font-size:13px;line-height:16px;padding:0 16px 6px 16px;}#gs_alrt_m,#gs_alrt_u{display:inline-block;padding-top:7px;}#gs_alrt_l:link,#gs_alrt_l:visited{margin-left:16px;padding:7px 0 6px 0;color:#222;text-decoration:underline;}#gs_alrt_l:hover{color:#1a0dab}#gs_alrt_l:active{color:#d14836}&lt;/style&gt;&lt;div id=\\\"gs_alrt_w\\\"&gt;&lt;div id=\\\"gs_alrt_p\\\"&gt;&lt;form&gt;&lt;input type=\\\"hidden\\\" id=\\\"gs_alrt_ss\\\"&gt;&lt;/form&gt;&lt;form action=\\\"\\\" method=\\\"post\\\" id=\\\"gs_alrt\\\" class=\\\"gs_alrt\\\"&gt;&lt;span id=\\\"gs_alrt_m\\\"&gt;&lt;/span&gt;&lt;span id=\\\"gs_alrt_h\\\"&gt;&lt;/span&gt;&lt;span id=\\\"gs_alrt_u\\\" style=\\\"display:none\\\"&gt;&lt;a id=\\\"gs_alrt_l\\\" href=\\\"javascript:void(0)\\\" onclick=\\\"gs_id('gs_alrt').submit();return false\\\"&gt;&lt;/a&gt;&lt;/span&gt;&lt;/form&gt;&lt;/div&gt;&lt;/div&gt;&lt;script&gt;var gs_wa_t;function gs_wa_hf(e){gs_uevt(document,\\\"click\\\",gs_wa_hf);clearTimeout(gs_wa_t);gs_wa_t=undefined;var d=gs_id(\\\"gs_alrt_w\\\");if(e){setTimeout(function(){d.style.display=\\\"none\\\";gs_uvis(d);},0);}else{gs_vis(d,0);}}function gs_wa_sf(){gs_visi(\\\"gs_alrt_w\\\",1);gs_evt(document,\\\"click\\\",gs_wa_hf);clearTimeout(gs_wa_t);gs_wa_t=setTimeout(gs_wa_hf,60000);}function gs_wa_m(m,l,u,f) {var x,h,e;gs_id(\\\"gs_alrt_m\\\").innerHTML=m;if(l&amp;&amp;u&amp;&amp;f){x=gs_id(\\\"gs_alrt_l\\\");\\\"innerText\\\" in x?(x.innerText=l):(x.textContent=l);gs_id(\\\"gs_alrt\\\").action=u;h=gs_id(\\\"gs_alrt_h\\\");h.innerHTML=\\\"\\\";for(i in f){e=document.createElement(\\\"input\\\");e.name=i;e.type=\\\"hidden\\\";e.value=f[i];h.appendChild(e);}gs_visi(\\\"gs_alrt_u\\\",2);} else {gs_visi(\\\"gs_alrt_u\\\",0);}gs_wa_sf();}gs_evt_rdy(function(){gs_evt(window,\\\"pagehide\\\",gs_bind(gs_visi,\\\"gs_alrt_w\\\",0));});&lt;/script&gt;&lt;div id=\\\"gsc_bdy\\\"&gt;&lt;div id=\\\"gsc_rsb_m\\\" role=\\\"search\\\"&gt;&lt;div class=\\\"gsc_rsb_s_m\\\" id=\\\"gsc_rsb_lg_m\\\"&gt;&lt;a href=\\\"/schhp?hl=en&amp;amp;oe=ASCII\\\" id=\\\"gsc_rsb_icol_m\\\" aria-label=\\\"Scholar Home\\\"&gt;&lt;span class=\\\"gs_oph\\\"&gt;Scholar&lt;/span&gt;&lt;/a&gt;&lt;form action=\\\"/citations\\\" id=\\\"gsc_rsb_f_m\\\" class=\\\"gsc_rsb_foff\\\"&gt;&lt;input type=hidden name=hl value=\\\"en\\\"&gt;&lt;input type=hidden name=oe value=\\\"ASCII\\\"&gt;&lt;input type=\\\"hidden\\\" name=\\\"view_op\\\" value=\\\"search_authors\\\"&gt;&lt;input type=\\\"text\\\" class=\\\"gs_in_txt\\\" name=\\\"mauthors\\\" value=\\\"\\\" id=\\\"gsc_rsb_fin_m\\\" size=\\\"57\\\" maxlength=\\\"256\\\" autocapitalize=\\\"off\\\" aria-label=\\\"Search\\\"&gt;&lt;button type=\\\"submit\\\" id=\\\"gsc_rsb_fbt_m\\\" aria-label=\\\"Search Authors\\\" class=\\\"gs_btnSB gs_in_ib gs_btn_half\\\"&gt;&lt;span class=\\\"gs_wr\\\"&gt;&lt;span class=\\\"gs_lbl\\\"&gt;&lt;/span&gt;&lt;span class=\\\"gs_ico\\\"&gt;&lt;/span&gt;&lt;/span&gt;&lt;/button&gt;&lt;/form&gt;&lt;/div&gt;&lt;/div&gt;&lt;div class=\\\"gsc_lcl\\\" role=\\\"main\\\" id=\\\"gsc_prf_w\\\"&gt;&lt;div id=\\\"gsc_prf\\\" class=\\\"gs_scl\\\"&gt;&lt;div id=\\\"gsc_prf_pu\\\"&gt;&lt;style&gt;#gsc_prf_pup{width:113px;height:150px;}.gs_el_ta #gsc_prf_pup{width:75px;height:100px;}.gs_el_ph #gsc_prf_pup{width:56px;height:75px;}@media print{#gs_top #gsc_prf_pup{width:60pt;height:80pt;}}&lt;/style&gt;&lt;a href=\\\"/citations?user=HI-I6C0AAAAJ&amp;amp;hl=en&amp;amp;oe=ASCII\\\" id=\\\"gsc_prf_pua\\\"&gt;&lt;img src=\\\"/citations?view_op=view_photo&amp;amp;user=HI-I6C0AAAAJ&amp;amp;citpid=1\\\" sizes=\\\"print 60px,(max-width:599px) 56px,(max-width:981px) 75px,113px\\\" srcset=\\\"/citations?view_op=view_photo&amp;amp;user=HI-I6C0AAAAJ&amp;amp;citpid=1 113w,/citations?view_op=medium_photo&amp;amp;user=HI-I6C0AAAAJ&amp;amp;citpid=1 225w\\\" id=\\\"gsc_prf_pup\\\" alt=\\\"Jeff Leek\\\"&gt;&lt;/a&gt;&lt;/div&gt;&lt;div id=\\\"gsc_prf_i\\\"&gt;&lt;div id=\\\"gsc_prf_ib\\\"&gt;&lt;div id=\\\"gsc_prf_ibi\\\"&gt;&lt;div style=\\\"position:relative\\\" class=\\\"gs_ibl\\\"&gt;&lt;button type=\\\"button\\\" id=\\\"gsc_fol_btn\\\" aria-controls=\\\"gsc_fol_dd\\\" aria-haspopup=\\\"true\\\" class=\\\"gs_btnMW gs_in_ib gs_in_se gs_btn_mnu gs_btn_mn2 gs_btn_act gs_btn_hph\\\"&gt;&lt;span class=\\\"gs_wr\\\"&gt;&lt;span class=\\\"gs_lbl\\\"&gt;Follow&lt;/span&gt;&lt;span class=\\\"gs_ico\\\"&gt;&lt;/span&gt;&lt;span class=\\\"gs_icm\\\"&gt;&lt;/span&gt;&lt;/span&gt;&lt;/button&gt;&lt;div class=\\\"gs_md_se\\\" id=\\\"gsc_fol_dd\\\"&gt;&lt;form method=\\\"post\\\" id=\\\"gsc_fol_f\\\" action=\\\"/citations?hl=en&amp;amp;oe=ASCII&amp;amp;user=HI-I6C0AAAAJ&amp;amp;view_op=list_works\\\"&gt;&lt;input type=\\\"hidden\\\" name=\\\"xsrf\\\" value=\\\"AMstHGQAAAAAV38nLkWyFR8rdUO8A-3FjOfhfYZJwS43\\\"&gt;&lt;input type=\\\"hidden\\\" name=\\\"user\\\" value=\\\"HI-I6C0AAAAJ\\\"&gt;&lt;div id=\\\"gsc_fol_ml\\\"&gt;Email&lt;/div&gt;&lt;div class=\\\"gs_in_txtf\\\"&gt;&lt;input type=\\\"text\\\" class=\\\"gs_in_txt\\\" name=\\\"email_for_op\\\" value=\\\"\\\" id=\\\"gsc_fol_m\\\" maxlength=\\\"100\\\" autocapitalize=\\\"off\\\" autocorrect=\\\"off\\\"&gt;&lt;/div&gt;&lt;div id=\\\"gsc_fol_cb\\\"&gt;&lt;div class=\\\"gsc_fol_cr\\\"&gt;&lt;span class=\\\"gs_in_cb\\\" onclick=\\\"void(0)\\\"&gt;&lt;input type=\\\"checkbox\\\" name=\\\"follow_articles_btn\\\" id=\\\"gsc_fol_a\\\" value=\\\"1\\\" checked&gt;&lt;label for=\\\"gsc_fol_a\\\"&gt;Follow new articles&lt;/label&gt;&lt;span class=\\\"gs_chk\\\"&gt;&lt;/span&gt;&lt;span class=\\\"gs_cbx\\\"&gt;&lt;/span&gt;&lt;/span&gt;&lt;/div&gt;&lt;div class=\\\"gsc_fol_cr\\\"&gt;&lt;span class=\\\"gs_in_cb\\\" onclick=\\\"void(0)\\\"&gt;&lt;input type=\\\"checkbox\\\" name=\\\"follow_citations_btn\\\" id=\\\"gsc_fol_c\\\" value=\\\"1\\\"&gt;&lt;label for=\\\"gsc_fol_c\\\"&gt;Follow new citations&lt;/label&gt;&lt;span class=\\\"gs_chk\\\"&gt;&lt;/span&gt;&lt;span class=\\\"gs_cbx\\\"&gt;&lt;/span&gt;&lt;/span&gt;&lt;/div&gt;&lt;/div&gt;&lt;div&gt;&lt;button type=\\\"submit\\\" id=\\\"gsc_fol_b\\\" class=\\\" gs_btn_cre\\\"&gt;&lt;span class=\\\"gs_wr\\\"&gt;&lt;span class=\\\"gs_lbl\\\"&gt;Create alert&lt;/span&gt;&lt;/span&gt;&lt;/button&gt;&lt;button type=\\\"button\\\" id=\\\"gsc_fol_x\\\" class=\\\"\\\"&gt;&lt;span class=\\\"gs_wr\\\"&gt;&lt;span class=\\\"gs_lbl\\\"&gt;Cancel&lt;/span&gt;&lt;/span&gt;&lt;/button&gt;&lt;/div&gt;&lt;/form&gt;&lt;/div&gt;&lt;/div&gt;&lt;script&gt;gs_md_ifc(\\\"gsc_fol_dd\\\",\\\"gsc_fol_m\\\");!function(){var t=gs_id(\\\"gsc_fol_btn\\\"),d=\\\"gsc_fol_dd\\\",b=gs_id(\\\"gsc_fol_b\\\");var a=gs_id(\\\"gsc_fol_a\\\"),c=gs_id(\\\"gsc_fol_c\\\"),m=gs_id(\\\"gsc_fol_m\\\"),r=/\\S+@\\S+\\.\\S+/,s=function(x){return x.checked&amp;&amp;!x.disabled},f=function(){((b.disabled=!r.test(m.value)||!s(a)&amp;&amp;!s(c))?gs_xdis:gs_udis)(b);};f();gs_evt_rdy(f);gs_evt_all([a,c],\\\"click\\\",f);gs_evt_inp(m,f);gs_evt_clk(gs_id(\\\"gsc_fol_x\\\"),gs_bind(gs_md_cls,d));gs_evt_clk(t,function(e){if(gs_id(d).offsetWidth){gs_md_cls(d,e);}else{gs_xsel(t);gs_md_opn(d,e,gs_bind(gs_usel,t));b.disabled?gs_tfcs(m):b.focus();}},2,[13,32,38,40]);}();&lt;/script&gt;&lt;/div&gt;&lt;/div&gt;&lt;div id=\\\"gsc_prf_in\\\"&gt;Jeff Leek&lt;/div&gt;&lt;div class=\\\"gsc_prf_il\\\"&gt;Associate Professor of Biostatistics, Johns Hopkins Bloomberg School of Public Health&lt;/div&gt;&lt;div class=\\\"gsc_prf_il\\\"&gt;&lt;a href=\\\"/citations?view_op=search_authors&amp;amp;hl=en&amp;amp;oe=ASCII&amp;amp;mauthors=label:statistics\\\" class=\\\"gsc_prf_ila\\\"&gt;Statistics&lt;/a&gt;, &lt;a href=\\\"/citations?view_op=search_authors&amp;amp;hl=en&amp;amp;oe=ASCII&amp;amp;mauthors=label:computing\\\" class=\\\"gsc_prf_ila\\\"&gt;Computing&lt;/a&gt;, &lt;a href=\\\"/citations?view_op=search_authors&amp;amp;hl=en&amp;amp;oe=ASCII&amp;amp;mauthors=label:genomics\\\" class=\\\"gsc_prf_ila\\\"&gt;Genomics&lt;/a&gt;, &lt;a href=\\\"/citations?view_op=search_authors&amp;amp;hl=en&amp;amp;oe=ASCII&amp;amp;mauthors=label:personalized_medicine\\\" class=\\\"gsc_prf_ila\\\"&gt;Personalized Medicine&lt;/a&gt;, &lt;a href=\\\"/citations?view_op=search_authors&amp;amp;hl=en&amp;amp;oe=ASCII&amp;amp;mauthors=label:scientific_communication\\\" class=\\\"gsc_prf_ila\\\"&gt;Scientific Communication&lt;/a&gt;&lt;/div&gt;&lt;div class=\\\"gsc_prf_il\\\" id=\\\"gsc_prf_ivh\\\"&gt;Verified email at jhsph.edu - &lt;a href=\\\"http://jtleek.com/\\\" rel=\\\"nofollow\\\"&gt;Homepage&lt;/a&gt;&lt;/div&gt;&lt;/div&gt;&lt;/div&gt;&lt;/div&gt;&lt;div id=\\\"gsc_rsb\\\" role=\\\"navigation\\\"&gt;&lt;div class=\\\"gsc_rsb_s\\\" id=\\\"gsc_rsb_lg\\\"&gt;&lt;a href=\\\"/schhp?hl=en&amp;amp;oe=ASCII\\\" id=\\\"gsc_rsb_icol\\\" aria-label=\\\"Scholar Home\\\"&gt;&lt;span class=\\\"gs_oph\\\"&gt;Scholar&lt;/span&gt;&lt;/a&gt;&lt;form action=\\\"/citations\\\" id=\\\"gsc_rsb_f\\\" class=\\\"gsc_rsb_foff\\\"&gt;&lt;input type=hidden name=hl value=\\\"en\\\"&gt;&lt;input type=hidden name=oe value=\\\"ASCII\\\"&gt;&lt;input type=\\\"hidden\\\" name=\\\"view_op\\\" value=\\\"search_authors\\\"&gt;&lt;input type=\\\"text\\\" class=\\\"gs_in_txt\\\" name=\\\"mauthors\\\" value=\\\"\\\" id=\\\"gsc_rsb_fin\\\" size=\\\"57\\\" maxlength=\\\"256\\\" autocapitalize=\\\"off\\\" aria-label=\\\"Search\\\"&gt;&lt;button type=\\\"submit\\\" id=\\\"gsc_rsb_fbt\\\" aria-label=\\\"Search Authors\\\" class=\\\"gs_btnSB gs_in_ib gs_btn_half\\\"&gt;&lt;span class=\\\"gs_wr\\\"&gt;&lt;span class=\\\"gs_lbl\\\"&gt;&lt;/span&gt;&lt;span class=\\\"gs_ico\\\"&gt;&lt;/span&gt;&lt;/span&gt;&lt;/button&gt;&lt;/form&gt;&lt;div id=\\\"gsc_rsb_gpl\\\"&gt;&lt;button type=\\\"button\\\" onclick=\\\"window.location='/citations?hl\\x3den\\x26oe\\x3dASCII'\\\" class=\\\" gs_btn_act\\\"&gt;&lt;span class=\\\"gs_wr\\\"&gt;&lt;span class=\\\"gs_lbl\\\"&gt;Get my own profile&lt;/span&gt;&lt;/span&gt;&lt;/button&gt;&lt;/div&gt;&lt;/div&gt;&lt;div class=\\\"gsc_rsb_s\\\"&gt;&lt;div id=\\\"gsc_rsb_t\\\"&gt;Google Scholar&lt;/div&gt;&lt;table id=\\\"gsc_rsb_st\\\"&gt;&lt;tr&gt;&lt;th class=\\\"gsc_rsb_sc1\\\"&gt;&lt;a href=\\\"javascript:void(0)\\\" onclick=\\\"gs_md_hist_opn(event);\\\"&gt;Citation indices&lt;/a&gt;&lt;/th&gt;&lt;th class=\\\"gsc_rsb_sth\\\"&gt;All&lt;/th&gt;&lt;th class=\\\"gsc_rsb_sth\\\"&gt;Since 2011&lt;/th&gt;&lt;/tr&gt;&lt;tr&gt;&lt;td class=\\\"gsc_rsb_sc1\\\"&gt;&lt;a href=\\\"javascript:void(0)\\\" class=\\\"gsc_rsb_f\\\" title='This is the number of citations to all publications. The second column has the &amp;quot;recent&amp;quot; version of this metric which is the number of new citations in the last 5 years to all publications.'&gt;Citations&lt;/a&gt;&lt;/td&gt;&lt;td class=\\\"gsc_rsb_std\\\"&gt;3854&lt;/td&gt;&lt;td class=\\\"gsc_rsb_std\\\"&gt;3259&lt;/td&gt;&lt;/tr&gt;&lt;tr&gt;&lt;td class=\\\"gsc_rsb_sc1\\\"&gt;&lt;a href=\\\"javascript:void(0)\\\" class=\\\"gsc_rsb_f\\\" title='h-index is the largest number h such that h publications have at least h citations. The second column has the &amp;quot;recent&amp;quot; version of this metric which is the largest number h such that h publications have at least h new citations in the last 5 years.'&gt;h-index&lt;/a&gt;&lt;/td&gt;&lt;td class=\\\"gsc_rsb_std\\\"&gt;22&lt;/td&gt;&lt;td class=\\\"gsc_rsb_std\\\"&gt;22&lt;/td&gt;&lt;/tr&gt;&lt;tr&gt;&lt;td class=\\\"gsc_rsb_sc1\\\"&gt;&lt;a href=\\\"javascript:void(0)\\\" class=\\\"gsc_rsb_f\\\" title='i10-index is the number of publications with at least 10 citations. The second column has the &amp;quot;recent&amp;quot; version of this metric which is the number of publications that have received at least 10 new citations in the last 5 years.'&gt;i10-index&lt;/a&gt;&lt;/td&gt;&lt;td class=\\\"gsc_rsb_std\\\"&gt;32&lt;/td&gt;&lt;td class=\\\"gsc_rsb_std\\\"&gt;32&lt;/td&gt;&lt;/tr&gt;&lt;/table&gt;&lt;div id=\\\"gsc_g\\\"&gt;&lt;div id=\\\"gsc_g_x\\\"&gt;&lt;span class=\\\"gsc_g_t\\\" style=\\\"left:3px\\\"&gt;2008&lt;/span&gt;&lt;span class=\\\"gsc_g_t\\\" style=\\\"left:35px\\\"&gt;2009&lt;/span&gt;&lt;span class=\\\"gsc_g_t\\\" style=\\\"left:67px\\\"&gt;2010&lt;/span&gt;&lt;span class=\\\"gsc_g_t\\\" style=\\\"left:99px\\\"&gt;2011&lt;/span&gt;&lt;span class=\\\"gsc_g_t\\\" style=\\\"left:131px\\\"&gt;2012&lt;/span&gt;&lt;span class=\\\"gsc_g_t\\\" style=\\\"left:163px\\\"&gt;2013&lt;/span&gt;&lt;span class=\\\"gsc_g_t\\\" style=\\\"left:195px\\\"&gt;2014&lt;/span&gt;&lt;span class=\\\"gsc_g_t\\\" style=\\\"left:227px\\\"&gt;2015&lt;/span&gt;&lt;span class=\\\"gsc_g_t\\\" style=\\\"left:259px\\\"&gt;2016&lt;/span&gt;&lt;/div&gt;&lt;div id=\\\"gsc_g_bars\\\"&gt;&lt;a href=\\\"javascript:void(0)\\\" class=\\\"gsc_g_a\\\" style=\\\"left:8px;height:9px;z-index:9\\\"&gt;&lt;span class=\\\"gsc_g_al\\\"&gt;129&lt;/span&gt;&lt;/a&gt;&lt;a href=\\\"javascript:void(0)\\\" class=\\\"gsc_g_a\\\" style=\\\"left:40px;height:8px;z-index:8\\\"&gt;&lt;span class=\\\"gsc_g_al\\\"&gt;116&lt;/span&gt;&lt;/a&gt;&lt;a href=\\\"javascript:void(0)\\\" class=\\\"gsc_g_a\\\" style=\\\"left:72px;height:13px;z-index:7\\\"&gt;&lt;span class=\\\"gsc_g_al\\\"&gt;184&lt;/span&gt;&lt;/a&gt;&lt;a href=\\\"javascript:void(0)\\\" class=\\\"gsc_g_a\\\" style=\\\"left:104px;height:21px;z-index:6\\\"&gt;&lt;span class=\\\"gsc_g_al\\\"&gt;292&lt;/span&gt;&lt;/a&gt;&lt;a href=\\\"javascript:void(0)\\\" class=\\\"gsc_g_a\\\" style=\\\"left:136px;height:33px;z-index:5\\\"&gt;&lt;span class=\\\"gsc_g_al\\\"&gt;449&lt;/span&gt;&lt;/a&gt;&lt;a href=\\\"javascript:void(0)\\\" class=\\\"gsc_g_a\\\" style=\\\"left:168px;height:42px;z-index:4\\\"&gt;&lt;span class=\\\"gsc_g_al\\\"&gt;572&lt;/span&gt;&lt;/a&gt;&lt;a href=\\\"javascript:void(0)\\\" class=\\\"gsc_g_a\\\" style=\\\"left:200px;height:50px;z-index:3\\\"&gt;&lt;span class=\\\"gsc_g_al\\\"&gt;682&lt;/span&gt;&lt;/a&gt;&lt;a href=\\\"javascript:void(0)\\\" class=\\\"gsc_g_a\\\" style=\\\"left:232px;height:57px;z-index:2\\\"&gt;&lt;span class=\\\"gsc_g_al\\\"&gt;765&lt;/span&gt;&lt;/a&gt;&lt;a href=\\\"javascript:void(0)\\\" class=\\\"gsc_g_a\\\" style=\\\"left:264px;height:36px;z-index:1\\\"&gt;&lt;span class=\\\"gsc_g_al\\\"&gt;485&lt;/span&gt;&lt;/a&gt;&lt;/div&gt;&lt;/div&gt;&lt;script&gt;function gs_md_hist_opn(e){gs_md_ldw(\\\"gsc_md_hist\\\",e,0,\\\"gsc_md_hist_c\\\",\\\"/citations?hl\\x3den\\x26oe\\x3dASCII\\x26user\\x3dHI-I6C0AAAAJ\\x26view_op\\x3dcitations_histogram\\\",\\\"\\\",function(){var x=gs_id(\\\"gsc_md_hist_b\\\");x&amp;&amp;gsc_scroll_right(x);});}gs_evt_rdy(function(){gs_evt_clk(gs_id(\\\"gsc_g\\\"),gs_md_hist_opn);});&lt;/script&gt;&lt;/div&gt;&lt;/div&gt;&lt;div class=\\\"gsc_lcl\\\" role=\\\"complementary\\\" id=\\\"gsc_art\\\"&gt;&lt;form method=\\\"post\\\" action=\\\"/citations?hl=en&amp;amp;oe=ASCII&amp;amp;user=HI-I6C0AAAAJ&amp;amp;view_op=list_works\\\" id=\\\"citationsForm\\\"&gt;&lt;input type=\\\"hidden\\\" name=\\\"xsrf\\\" value=\\\"AMstHGQAAAAAV38nLkWyFR8rdUO8A-3FjOfhfYZJwS43\\\"&gt;&lt;table id=\\\"gsc_a_t\\\"&gt;&lt;thead id=\\\"gsc_a_hd\\\"&gt;&lt;tr id=\\\"gsc_a_tr0\\\" aria-hidden=\\\"true\\\"&gt;&lt;th class=\\\"gsc_a_t\\\" id=\\\"gsc_a_tr0_t\\\"&gt;&lt;/th&gt;&lt;th class=\\\"gsc_a_c\\\"&gt;&lt;/th&gt;&lt;th class=\\\"gsc_a_y\\\"&gt;&lt;/th&gt;&lt;/tr&gt;&lt;tr id=\\\"gsc_a_trh\\\"&gt;&lt;th class=\\\"gsc_a_t\\\" id=\\\"gsc_a_trh_t\\\" scope=\\\"col\\\"&gt;&lt;span id=\\\"gsc_a_ta\\\"&gt;&lt;a href=\\\"/citations?hl=en&amp;amp;oe=ASCII&amp;amp;user=HI-I6C0AAAAJ&amp;amp;view_op=list_works&amp;amp;sortby=title\\\" class=\\\"gsc_a_a\\\"&gt;Title&lt;/a&gt;&lt;/span&gt;&lt;span id=\\\"gsc_a_nn\\\"&gt;1&amp;ndash;20&lt;/span&gt;&lt;/th&gt;&lt;th class=\\\"gsc_a_c\\\" scope=\\\"col\\\"&gt;&lt;span id=\\\"gsc_a_ca\\\"&gt;Cited by&lt;/span&gt;&lt;/th&gt;&lt;th class=\\\"gsc_a_y\\\" scope=\\\"col\\\"&gt;&lt;span class=\\\"gsc_a_h\\\"&gt;&lt;a href=\\\"/citations?hl=en&amp;amp;oe=ASCII&amp;amp;user=HI-I6C0AAAAJ&amp;amp;view_op=list_works&amp;amp;sortby=pubdate\\\" class=\\\"gsc_a_a\\\"&gt;Year&lt;/a&gt;&lt;/span&gt;&lt;/th&gt;&lt;/tr&gt;&lt;/thead&gt;&lt;tbody id=\\\"gsc_a_b\\\"&gt;&lt;tr class=\\\"gsc_a_tr\\\"&gt;&lt;td class=\\\"gsc_a_t\\\"&gt;&lt;a href=\\\"/citations?view_op=view_citation&amp;amp;hl=en&amp;amp;oe=ASCII&amp;amp;user=HI-I6C0AAAAJ&amp;amp;citation_for_view=HI-I6C0AAAAJ:UeHWp8X0CEIC\\\" class=\\\"gsc_a_at\\\"&gt;Tackling the widespread and critical impact of batch effects in high-throughput data&lt;/a&gt;&lt;div class=\\\"gs_gray\\\"&gt;JT Leek, RB Scharpf, HC Bravo, D Simcha, B Langmead, WE Johnson, ...&lt;/div&gt;&lt;div class=\\\"gs_gray\\\"&gt;Nature Reviews Genetics 11 (10), 733-739&lt;span class=\\\"gs_oph\\\"&gt;, 2010&lt;/span&gt;&lt;/div&gt;&lt;/td&gt;&lt;td class=\\\"gsc_a_c\\\"&gt;&lt;a href=\\\"http://scholar.google.com/scholar?oi=bibs&amp;amp;hl=en&amp;amp;oe=ASCII&amp;amp;cites=16403016020126782741\\\" class=\\\"gsc_a_ac\\\"&gt;559&lt;/a&gt;&lt;/td&gt;&lt;td class=\\\"gsc_a_y\\\"&gt;&lt;span class=\\\"gsc_a_h\\\"&gt;2010&lt;/span&gt;&lt;/td&gt;&lt;/tr&gt;&lt;tr class=\\\"gsc_a_tr\\\"&gt;&lt;td class=\\\"gsc_a_t\\\"&gt;&lt;a href=\\\"/citations?view_op=view_citation&amp;amp;hl=en&amp;amp;oe=ASCII&amp;amp;user=HI-I6C0AAAAJ&amp;amp;citation_for_view=HI-I6C0AAAAJ:d1gkVwhDpl0C\\\" class=\\\"gsc_a_at\\\"&gt;Capturing heterogeneity in gene expression studies by surrogate variable analysis&lt;/a&gt;&lt;div class=\\\"gs_gray\\\"&gt;JT Leek, JD Storey&lt;/div&gt;&lt;div class=\\\"gs_gray\\\"&gt;PLoS Genet 3 (9), e161&lt;span class=\\\"gs_oph\\\"&gt;, 2007&lt;/span&gt;&lt;/div&gt;&lt;/td&gt;&lt;td class=\\\"gsc_a_c\\\"&gt;&lt;a href=\\\"http://scholar.google.com/scholar?oi=bibs&amp;amp;hl=en&amp;amp;oe=ASCII&amp;amp;cites=14943880347723800617\\\" class=\\\"gsc_a_ac\\\"&gt;530&lt;/a&gt;&lt;/td&gt;&lt;td class=\\\"gsc_a_y\\\"&gt;&lt;span class=\\\"gsc_a_h\\\"&gt;2007&lt;/span&gt;&lt;/td&gt;&lt;/tr&gt;&lt;tr class=\\\"gsc_a_tr\\\"&gt;&lt;td class=\\\"gsc_a_t\\\"&gt;&lt;a href=\\\"/citations?view_op=view_citation&amp;amp;hl=en&amp;amp;oe=ASCII&amp;amp;user=HI-I6C0AAAAJ&amp;amp;citation_for_view=HI-I6C0AAAAJ:u5HHmVD_uO8C\\\" class=\\\"gsc_a_at\\\"&gt;Significance analysis of time course microarray experiments&lt;/a&gt;&lt;div class=\\\"gs_gray\\\"&gt;JD Storey, W Xiao, JT Leek, RG Tompkins, RW Davis&lt;/div&gt;&lt;div class=\\\"gs_gray\\\"&gt;Proceedings of the National Academy of Sciences of the United States of ...&lt;span class=\\\"gs_oph\\\"&gt;, 2005&lt;/span&gt;&lt;/div&gt;&lt;/td&gt;&lt;td class=\\\"gsc_a_c\\\"&gt;&lt;a href=\\\"http://scholar.google.com/scholar?oi=bibs&amp;amp;hl=en&amp;amp;oe=ASCII&amp;amp;cites=8692182196465189153\\\" class=\\\"gsc_a_ac\\\"&gt;490&lt;/a&gt;&lt;/td&gt;&lt;td class=\\\"gsc_a_y\\\"&gt;&lt;span class=\\\"gsc_a_h\\\"&gt;2005&lt;/span&gt;&lt;/td&gt;&lt;/tr&gt;&lt;tr class=\\\"gsc_a_tr\\\"&gt;&lt;td class=\\\"gsc_a_t\\\"&gt;&lt;a href=\\\"/citations?view_op=view_citation&amp;amp;hl=en&amp;amp;oe=ASCII&amp;amp;user=HI-I6C0AAAAJ&amp;amp;citation_for_view=HI-I6C0AAAAJ:Se3iqnhoufwC\\\" class=\\\"gsc_a_at\\\"&gt;Temporal dynamics and genetic control of transcription in the human prefrontal cortex&lt;/a&gt;&lt;div class=\\\"gs_gray\\\"&gt;C Colantuoni, BK Lipska, T Ye, TM Hyde, R Tao, JT Leek, EA Colantuoni, ...&lt;/div&gt;&lt;div class=\\\"gs_gray\\\"&gt;Nature 478 (7370), 519-523&lt;span class=\\\"gs_oph\\\"&gt;, 2011&lt;/span&gt;&lt;/div&gt;&lt;/td&gt;&lt;td class=\\\"gsc_a_c\\\"&gt;&lt;a href=\\\"http://scholar.google.com/scholar?oi=bibs&amp;amp;hl=en&amp;amp;oe=ASCII&amp;amp;cites=15401379057477374674\\\" class=\\\"gsc_a_ac\\\"&gt;290&lt;/a&gt;&lt;/td&gt;&lt;td class=\\\"gsc_a_y\\\"&gt;&lt;span class=\\\"gsc_a_h\\\"&gt;2011&lt;/span&gt;&lt;/td&gt;&lt;/tr&gt;&lt;tr class=\\\"gsc_a_tr\\\"&gt;&lt;td class=\\\"gsc_a_t\\\"&gt;&lt;a href=\\\"/citations?view_op=view_citation&amp;amp;hl=en&amp;amp;oe=ASCII&amp;amp;user=HI-I6C0AAAAJ&amp;amp;citation_for_view=HI-I6C0AAAAJ:IjCSPb-OGe4C\\\" class=\\\"gsc_a_at\\\"&gt;Cloud-scale RNA-sequencing differential expression analysis with Myrna&lt;/a&gt;&lt;div class=\\\"gs_gray\\\"&gt;B Langmead, KD Hansen, JT Leek&lt;/div&gt;&lt;div class=\\\"gs_gray\\\"&gt;Genome biology 11 (8), 1&lt;span class=\\\"gs_oph\\\"&gt;, 2010&lt;/span&gt;&lt;/div&gt;&lt;/td&gt;&lt;td class=\\\"gsc_a_c\\\"&gt;&lt;a href=\\\"http://scholar.google.com/scholar?oi=bibs&amp;amp;hl=en&amp;amp;oe=ASCII&amp;amp;cites=9392678635432440961\\\" class=\\\"gsc_a_ac\\\"&gt;242&lt;/a&gt;&lt;/td&gt;&lt;td class=\\\"gsc_a_y\\\"&gt;&lt;span class=\\\"gsc_a_h\\\"&gt;2010&lt;/span&gt;&lt;/td&gt;&lt;/tr&gt;&lt;tr class=\\\"gsc_a_tr\\\"&gt;&lt;td class=\\\"gsc_a_t\\\"&gt;&lt;a href=\\\"/citations?view_op=view_citation&amp;amp;hl=en&amp;amp;oe=ASCII&amp;amp;user=HI-I6C0AAAAJ&amp;amp;citation_for_view=HI-I6C0AAAAJ:u-x6o8ySG0sC\\\" class=\\\"gsc_a_at\\\"&gt;EDGE: extraction and analysis of differential gene expression&lt;/a&gt;&lt;div class=\\\"gs_gray\\\"&gt;JT Leek, E Monsen, AR Dabney, JD Storey&lt;/div&gt;&lt;div class=\\\"gs_gray\\\"&gt;Bioinformatics 22 (4), 507-508&lt;span class=\\\"gs_oph\\\"&gt;, 2006&lt;/span&gt;&lt;/div&gt;&lt;/td&gt;&lt;td class=\\\"gsc_a_c\\\"&gt;&lt;a href=\\\"http://scholar.google.com/scholar?oi=bibs&amp;amp;hl=en&amp;amp;oe=ASCII&amp;amp;cites=8862746171832697560\\\" class=\\\"gsc_a_ac\\\"&gt;210&lt;/a&gt;&lt;/td&gt;&lt;td class=\\\"gsc_a_y\\\"&gt;&lt;span class=\\\"gsc_a_h\\\"&gt;2006&lt;/span&gt;&lt;/td&gt;&lt;/tr&gt;&lt;tr class=\\\"gsc_a_tr\\\"&gt;&lt;td class=\\\"gsc_a_t\\\"&gt;&lt;a href=\\\"/citations?view_op=view_citation&amp;amp;hl=en&amp;amp;oe=ASCII&amp;amp;user=HI-I6C0AAAAJ&amp;amp;citation_for_view=HI-I6C0AAAAJ:8k81kl-MbHgC\\\" class=\\\"gsc_a_at\\\"&gt;The sva package for removing batch effects and other unwanted variation in high-throughput experiments&lt;/a&gt;&lt;div class=\\\"gs_gray\\\"&gt;JT Leek, WE Johnson, HS Parker, AE Jaffe, JD Storey&lt;/div&gt;&lt;div class=\\\"gs_gray\\\"&gt;Bioinformatics 28 (6), 882-883&lt;span class=\\\"gs_oph\\\"&gt;, 2012&lt;/span&gt;&lt;/div&gt;&lt;/td&gt;&lt;td class=\\\"gsc_a_c\\\"&gt;&lt;a href=\\\"http://scholar.google.com/scholar?oi=bibs&amp;amp;hl=en&amp;amp;oe=ASCII&amp;amp;cites=8144311546232376767\\\" class=\\\"gsc_a_ac\\\"&gt;191&lt;/a&gt;&lt;/td&gt;&lt;td class=\\\"gsc_a_y\\\"&gt;&lt;span class=\\\"gsc_a_h\\\"&gt;2012&lt;/span&gt;&lt;/td&gt;&lt;/tr&gt;&lt;tr class=\\\"gsc_a_tr\\\"&gt;&lt;td class=\\\"gsc_a_t\\\"&gt;&lt;a href=\\\"/citations?view_op=view_citation&amp;amp;hl=en&amp;amp;oe=ASCII&amp;amp;user=HI-I6C0AAAAJ&amp;amp;citation_for_view=HI-I6C0AAAAJ:qjMakFHDy7sC\\\" class=\\\"gsc_a_at\\\"&gt;Systems-level dynamic analyses of fate change in murine embryonic stem cells&lt;/a&gt;&lt;div class=\\\"gs_gray\\\"&gt;R Lu, F Markowetz, RD Unwin, JT Leek, EM Airoldi, BD MacArthur, ...&lt;/div&gt;&lt;div class=\\\"gs_gray\\\"&gt;Nature 462 (7271), 358-362&lt;span class=\\\"gs_oph\\\"&gt;, 2009&lt;/span&gt;&lt;/div&gt;&lt;/td&gt;&lt;td class=\\\"gsc_a_c\\\"&gt;&lt;a href=\\\"http://scholar.google.com/scholar?oi=bibs&amp;amp;hl=en&amp;amp;oe=ASCII&amp;amp;cites=4114573275173642545\\\" class=\\\"gsc_a_ac\\\"&gt;184&lt;/a&gt;&lt;/td&gt;&lt;td class=\\\"gsc_a_y\\\"&gt;&lt;span class=\\\"gsc_a_h\\\"&gt;2009&lt;/span&gt;&lt;/td&gt;&lt;/tr&gt;&lt;tr class=\\\"gsc_a_tr\\\"&gt;&lt;td class=\\\"gsc_a_t\\\"&gt;&lt;a href=\\\"/citations?view_op=view_citation&amp;amp;hl=en&amp;amp;oe=ASCII&amp;amp;user=HI-I6C0AAAAJ&amp;amp;citation_for_view=HI-I6C0AAAAJ:2osOgNQ5qMEC\\\" class=\\\"gsc_a_at\\\"&gt;A general framework for multiple testing dependence&lt;/a&gt;&lt;div class=\\\"gs_gray\\\"&gt;JT Leek, JD Storey&lt;/div&gt;&lt;div class=\\\"gs_gray\\\"&gt;Proceedings of the National Academy of Sciences 105 (48), 18718-18723&lt;span class=\\\"gs_oph\\\"&gt;, 2008&lt;/span&gt;&lt;/div&gt;&lt;/td&gt;&lt;td class=\\\"gsc_a_c\\\"&gt;&lt;a href=\\\"http://scholar.google.com/scholar?oi=bibs&amp;amp;hl=en&amp;amp;oe=ASCII&amp;amp;cites=6862569568109470250\\\" class=\\\"gsc_a_ac\\\"&gt;170&lt;/a&gt;&lt;/td&gt;&lt;td class=\\\"gsc_a_y\\\"&gt;&lt;span class=\\\"gsc_a_h\\\"&gt;2008&lt;/span&gt;&lt;/td&gt;&lt;/tr&gt;&lt;tr class=\\\"gsc_a_tr\\\"&gt;&lt;td class=\\\"gsc_a_t\\\"&gt;&lt;a href=\\\"/citations?view_op=view_citation&amp;amp;hl=en&amp;amp;oe=ASCII&amp;amp;user=HI-I6C0AAAAJ&amp;amp;citation_for_view=HI-I6C0AAAAJ:5nxA0vEk-isC\\\" class=\\\"gsc_a_at\\\"&gt;Bump hunting to identify differentially methylated regions in epigenetic epidemiology studies&lt;/a&gt;&lt;div class=\\\"gs_gray\\\"&gt;AE Jaffe, P Murakami, H Lee, JT Leek, MD Fallin, AP Feinberg, RA Irizarry&lt;/div&gt;&lt;div class=\\\"gs_gray\\\"&gt;International journal of epidemiology 41 (1), 200-209&lt;span class=\\\"gs_oph\\\"&gt;, 2012&lt;/span&gt;&lt;/div&gt;&lt;/td&gt;&lt;td class=\\\"gsc_a_c\\\"&gt;&lt;a href=\\\"http://scholar.google.com/scholar?oi=bibs&amp;amp;hl=en&amp;amp;oe=ASCII&amp;amp;cites=13917393765835926103\\\" class=\\\"gsc_a_ac\\\"&gt;160&lt;/a&gt;&lt;/td&gt;&lt;td class=\\\"gsc_a_y\\\"&gt;&lt;span class=\\\"gsc_a_h\\\"&gt;2012&lt;/span&gt;&lt;/td&gt;&lt;/tr&gt;&lt;tr class=\\\"gsc_a_tr\\\"&gt;&lt;td class=\\\"gsc_a_t\\\"&gt;&lt;a href=\\\"/citations?view_op=view_citation&amp;amp;hl=en&amp;amp;oe=ASCII&amp;amp;user=HI-I6C0AAAAJ&amp;amp;citation_for_view=HI-I6C0AAAAJ:9yKSN-GCB0IC\\\" class=\\\"gsc_a_at\\\"&gt;The optimal discovery procedure for large-scale significance testing, with applications to comparative microarray experiments&lt;/a&gt;&lt;div class=\\\"gs_gray\\\"&gt;JD Storey, JY Dai, JT Leek&lt;/div&gt;&lt;div class=\\\"gs_gray\\\"&gt;Biostatistics 8 (2), 414-432&lt;span class=\\\"gs_oph\\\"&gt;, 2007&lt;/span&gt;&lt;/div&gt;&lt;/td&gt;&lt;td class=\\\"gsc_a_c\\\"&gt;&lt;a href=\\\"http://scholar.google.com/scholar?oi=bibs&amp;amp;hl=en&amp;amp;oe=ASCII&amp;amp;cites=6987233910267027632\\\" class=\\\"gsc_a_ac\\\"&gt;148&lt;/a&gt;&lt;/td&gt;&lt;td class=\\\"gsc_a_y\\\"&gt;&lt;span class=\\\"gsc_a_h\\\"&gt;2007&lt;/span&gt;&lt;/td&gt;&lt;/tr&gt;&lt;tr class=\\\"gsc_a_tr\\\"&gt;&lt;td class=\\\"gsc_a_t\\\"&gt;&lt;a href=\\\"/citations?view_op=view_citation&amp;amp;hl=en&amp;amp;oe=ASCII&amp;amp;user=HI-I6C0AAAAJ&amp;amp;citation_for_view=HI-I6C0AAAAJ:0EnyYjriUFMC\\\" class=\\\"gsc_a_at\\\"&gt;ReCount: a multi-experiment resource of analysis-ready RNA-seq gene count datasets&lt;/a&gt;&lt;div class=\\\"gs_gray\\\"&gt;AC Frazee, B Langmead, JT Leek&lt;/div&gt;&lt;div class=\\\"gs_gray\\\"&gt;BMC bioinformatics 12 (1), 449&lt;span class=\\\"gs_oph\\\"&gt;, 2011&lt;/span&gt;&lt;/div&gt;&lt;/td&gt;&lt;td class=\\\"gsc_a_c\\\"&gt;&lt;a href=\\\"http://scholar.google.com/scholar?oi=bibs&amp;amp;hl=en&amp;amp;oe=ASCII&amp;amp;cites=5499264026160610251\\\" class=\\\"gsc_a_ac\\\"&gt;86&lt;/a&gt;&lt;/td&gt;&lt;td class=\\\"gsc_a_y\\\"&gt;&lt;span class=\\\"gsc_a_h\\\"&gt;2011&lt;/span&gt;&lt;/td&gt;&lt;/tr&gt;&lt;tr class=\\\"gsc_a_tr\\\"&gt;&lt;td class=\\\"gsc_a_t\\\"&gt;&lt;a href=\\\"/citations?view_op=view_citation&amp;amp;hl=en&amp;amp;oe=ASCII&amp;amp;user=HI-I6C0AAAAJ&amp;amp;citation_for_view=HI-I6C0AAAAJ:LkGwnXOMwfcC\\\" class=\\\"gsc_a_at\\\"&gt;Sequencing technology does not eliminate biological variability&lt;/a&gt;&lt;div class=\\\"gs_gray\\\"&gt;KD Hansen, Z Wu, RA Irizarry, JT Leek&lt;/div&gt;&lt;div class=\\\"gs_gray\\\"&gt;Nature biotechnology 29 (7), 572-573&lt;span class=\\\"gs_oph\\\"&gt;, 2011&lt;/span&gt;&lt;/div&gt;&lt;/td&gt;&lt;td class=\\\"gsc_a_c\\\"&gt;&lt;a href=\\\"http://scholar.google.com/scholar?oi=bibs&amp;amp;hl=en&amp;amp;oe=ASCII&amp;amp;cites=13984583295080419572\\\" class=\\\"gsc_a_ac\\\"&gt;78&lt;/a&gt;&lt;/td&gt;&lt;td class=\\\"gsc_a_y\\\"&gt;&lt;span class=\\\"gsc_a_h\\\"&gt;2011&lt;/span&gt;&lt;/td&gt;&lt;/tr&gt;&lt;tr class=\\\"gsc_a_tr\\\"&gt;&lt;td class=\\\"gsc_a_t\\\"&gt;&lt;a href=\\\"/citations?view_op=view_citation&amp;amp;hl=en&amp;amp;oe=ASCII&amp;amp;user=HI-I6C0AAAAJ&amp;amp;citation_for_view=HI-I6C0AAAAJ:hqOjcs7Dif8C\\\" class=\\\"gsc_a_at\\\"&gt;Significance analysis and statistical dissection of variably methylated regions&lt;/a&gt;&lt;div class=\\\"gs_gray\\\"&gt;AE Jaffe, AP Feinberg, RA Irizarry, JT Leek&lt;/div&gt;&lt;div class=\\\"gs_gray\\\"&gt;Biostatistics 13 (1), 166-178&lt;span class=\\\"gs_oph\\\"&gt;, 2012&lt;/span&gt;&lt;/div&gt;&lt;/td&gt;&lt;td class=\\\"gsc_a_c\\\"&gt;&lt;a href=\\\"http://scholar.google.com/scholar?oi=bibs&amp;amp;hl=en&amp;amp;oe=ASCII&amp;amp;cites=8713725236803269731\\\" class=\\\"gsc_a_ac\\\"&gt;51&lt;/a&gt;&lt;/td&gt;&lt;td class=\\\"gsc_a_y\\\"&gt;&lt;span class=\\\"gsc_a_h\\\"&gt;2012&lt;/span&gt;&lt;/td&gt;&lt;/tr&gt;&lt;tr class=\\\"gsc_a_tr\\\"&gt;&lt;td class=\\\"gsc_a_t\\\"&gt;&lt;a href=\\\"/citations?view_op=view_citation&amp;amp;hl=en&amp;amp;oe=ASCII&amp;amp;user=HI-I6C0AAAAJ&amp;amp;citation_for_view=HI-I6C0AAAAJ:-f6ydRqryjwC\\\" class=\\\"gsc_a_at\\\"&gt;An estimate of the science-wise false discovery rate and application to the top medical literature&lt;/a&gt;&lt;div class=\\\"gs_gray\\\"&gt;LR Jager, JT Leek&lt;/div&gt;&lt;div class=\\\"gs_gray\\\"&gt;Biostatistics 15 (1), 1-12&lt;span class=\\\"gs_oph\\\"&gt;, 2014&lt;/span&gt;&lt;/div&gt;&lt;/td&gt;&lt;td class=\\\"gsc_a_c\\\"&gt;&lt;a href=\\\"http://scholar.google.com/scholar?oi=bibs&amp;amp;hl=en&amp;amp;oe=ASCII&amp;amp;cites=8145998925353022831,15367445605081037117\\\" class=\\\"gsc_a_ac\\\"&gt;45&lt;/a&gt;&lt;span class=\\\"gsc_a_m\\\"&gt;&lt;a href=\\\"#\\\" class=\\\"gsc_a_am\\\" onclick=\\\"gsc_md_show_cbym('HI-I6C0AAAAJ:-f6ydRqryjwC',event);return false\\\"&gt;*&lt;/a&gt;&lt;/span&gt;&lt;/td&gt;&lt;td class=\\\"gsc_a_y\\\"&gt;&lt;span class=\\\"gsc_a_h\\\"&gt;2014&lt;/span&gt;&lt;/td&gt;&lt;/tr&gt;&lt;tr class=\\\"gsc_a_tr\\\"&gt;&lt;td class=\\\"gsc_a_t\\\"&gt;&lt;a href=\\\"/citations?view_op=view_citation&amp;amp;hl=en&amp;amp;oe=ASCII&amp;amp;user=HI-I6C0AAAAJ&amp;amp;citation_for_view=HI-I6C0AAAAJ:ldfaerwXgEUC\\\" class=\\\"gsc_a_at\\\"&gt;Statistics: P values are just the tip of the iceberg&lt;/a&gt;&lt;div class=\\\"gs_gray\\\"&gt;JT Leek, RD Peng&lt;/div&gt;&lt;div class=\\\"gs_gray\\\"&gt;Nature 520 (7549), 612&lt;span class=\\\"gs_oph\\\"&gt;, 2015&lt;/span&gt;&lt;/div&gt;&lt;/td&gt;&lt;td class=\\\"gsc_a_c\\\"&gt;&lt;a href=\\\"http://scholar.google.com/scholar?oi=bibs&amp;amp;hl=en&amp;amp;oe=ASCII&amp;amp;cites=7990176079596762579\\\" class=\\\"gsc_a_ac\\\"&gt;40&lt;/a&gt;&lt;/td&gt;&lt;td class=\\\"gsc_a_y\\\"&gt;&lt;span class=\\\"gsc_a_h\\\"&gt;2015&lt;/span&gt;&lt;/td&gt;&lt;/tr&gt;&lt;tr class=\\\"gsc_a_tr\\\"&gt;&lt;td class=\\\"gsc_a_t\\\"&gt;&lt;a href=\\\"/citations?view_op=view_citation&amp;amp;hl=en&amp;amp;oe=ASCII&amp;amp;user=HI-I6C0AAAAJ&amp;amp;citation_for_view=HI-I6C0AAAAJ:TQgYirikUcIC\\\" class=\\\"gsc_a_at\\\"&gt;Differential expression analysis of RNA-seq data at single-base resolution&lt;/a&gt;&lt;div class=\\\"gs_gray\\\"&gt;AC Frazee, S Sabunciyan, KD Hansen, RA Irizarry, JT Leek&lt;/div&gt;&lt;div class=\\\"gs_gray\\\"&gt;Biostatistics, kxt053&lt;span class=\\\"gs_oph\\\"&gt;, 2014&lt;/span&gt;&lt;/div&gt;&lt;/td&gt;&lt;td class=\\\"gsc_a_c\\\"&gt;&lt;a href=\\\"http://scholar.google.com/scholar?oi=bibs&amp;amp;hl=en&amp;amp;oe=ASCII&amp;amp;cites=1603345619966351948\\\" class=\\\"gsc_a_ac\\\"&gt;32&lt;/a&gt;&lt;/td&gt;&lt;td class=\\\"gsc_a_y\\\"&gt;&lt;span class=\\\"gsc_a_h\\\"&gt;2014&lt;/span&gt;&lt;/td&gt;&lt;/tr&gt;&lt;tr class=\\\"gsc_a_tr\\\"&gt;&lt;td class=\\\"gsc_a_t\\\"&gt;&lt;a href=\\\"/citations?view_op=view_citation&amp;amp;hl=en&amp;amp;oe=ASCII&amp;amp;user=HI-I6C0AAAAJ&amp;amp;citation_for_view=HI-I6C0AAAAJ:_kc_bZDykSQC\\\" class=\\\"gsc_a_at\\\"&gt;Gene expression anti-profiles as a basis for accurate universal cancer signatures&lt;/a&gt;&lt;div class=\\\"gs_gray\\\"&gt;HC Bravo, V Pihur, M McCall, RA Irizarry, JT Leek&lt;/div&gt;&lt;div class=\\\"gs_gray\\\"&gt;BMC bioinformatics 13 (1), 272&lt;span class=\\\"gs_oph\\\"&gt;, 2012&lt;/span&gt;&lt;/div&gt;&lt;/td&gt;&lt;td class=\\\"gsc_a_c\\\"&gt;&lt;a href=\\\"http://scholar.google.com/scholar?oi=bibs&amp;amp;hl=en&amp;amp;oe=ASCII&amp;amp;cites=5170926751178488472\\\" class=\\\"gsc_a_ac\\\"&gt;27&lt;/a&gt;&lt;/td&gt;&lt;td class=\\\"gsc_a_y\\\"&gt;&lt;span class=\\\"gsc_a_h\\\"&gt;2012&lt;/span&gt;&lt;/td&gt;&lt;/tr&gt;&lt;tr class=\\\"gsc_a_tr\\\"&gt;&lt;td class=\\\"gsc_a_t\\\"&gt;&lt;a href=\\\"/citations?view_op=view_citation&amp;amp;hl=en&amp;amp;oe=ASCII&amp;amp;user=HI-I6C0AAAAJ&amp;amp;citation_for_view=HI-I6C0AAAAJ:BqipwSGYUEgC\\\" class=\\\"gsc_a_at\\\"&gt;Developmental regulation of human cortex transcription and its clinical relevance at single base resolution&lt;/a&gt;&lt;div class=\\\"gs_gray\\\"&gt;AE Jaffe, J Shin, L Collado-Torres, JT Leek, R Tao, C Li, Y Gao, Y Jia, ...&lt;/div&gt;&lt;div class=\\\"gs_gray\\\"&gt;Nature neuroscience 18 (1), 154-161&lt;span class=\\\"gs_oph\\\"&gt;, 2015&lt;/span&gt;&lt;/div&gt;&lt;/td&gt;&lt;td class=\\\"gsc_a_c\\\"&gt;&lt;a href=\\\"http://scholar.google.com/scholar?oi=bibs&amp;amp;hl=en&amp;amp;oe=ASCII&amp;amp;cites=10491065069728818067\\\" class=\\\"gsc_a_ac\\\"&gt;26&lt;/a&gt;&lt;/td&gt;&lt;td class=\\\"gsc_a_y\\\"&gt;&lt;span class=\\\"gsc_a_h\\\"&gt;2015&lt;/span&gt;&lt;/td&gt;&lt;/tr&gt;&lt;tr class=\\\"gsc_a_tr\\\"&gt;&lt;td class=\\\"gsc_a_t\\\"&gt;&lt;a href=\\\"/citations?view_op=view_citation&amp;amp;hl=en&amp;amp;oe=ASCII&amp;amp;user=HI-I6C0AAAAJ&amp;amp;citation_for_view=HI-I6C0AAAAJ:bEWYMUwI8FkC\\\" class=\\\"gsc_a_at\\\"&gt;Inflammatory molecular signature associated with infectious agents in psychosis&lt;/a&gt;&lt;div class=\\\"gs_gray\\\"&gt;LN Hayes, EG Severance, JT Leek, KL Gressitt, C Rohleder, JM Coughlin, ...&lt;/div&gt;&lt;div class=\\\"gs_gray\\\"&gt;Schizophrenia bulletin 40 (5), 963-972&lt;span class=\\\"gs_oph\\\"&gt;, 2014&lt;/span&gt;&lt;/div&gt;&lt;/td&gt;&lt;td class=\\\"gsc_a_c\\\"&gt;&lt;a href=\\\"http://scholar.google.com/scholar?oi=bibs&amp;amp;hl=en&amp;amp;oe=ASCII&amp;amp;cites=16513563558053101459\\\" class=\\\"gsc_a_ac\\\"&gt;26&lt;/a&gt;&lt;/td&gt;&lt;td class=\\\"gsc_a_y\\\"&gt;&lt;span class=\\\"gsc_a_h\\\"&gt;2014&lt;/span&gt;&lt;/td&gt;&lt;/tr&gt;&lt;/tbody&gt;&lt;/table&gt;&lt;div id=\\\"gsc_a_sp\\\" style=\\\"display:none\\\"&gt;&lt;/div&gt;&lt;div id=\\\"gsc_a_err\\\" class=\\\"gs_alrt\\\" style=\\\"display:none\\\"&gt;The system can&amp;#39;t perform the operation now. Try again later.&lt;/div&gt;&lt;div id=\\\"gsc_lwp\\\"&gt;&lt;div id=\\\"gsc_bpf\\\"&gt;&lt;button type=\\\"button\\\" id=\\\"gsc_bpf_prev\\\" aria-label=\\\"Previous\\\" disabled class=\\\"gs_btnPL gs_in_ib gs_btn_half gs_btn_slt gs_dis\\\"&gt;&lt;span class=\\\"gs_wr\\\"&gt;&lt;span class=\\\"gs_lbl\\\"&gt;&lt;/span&gt;&lt;span class=\\\"gs_ico gs_ico_dis\\\"&gt;&lt;/span&gt;&lt;/span&gt;&lt;/button&gt;&lt;button type=\\\"button\\\" id=\\\"gsc_bpf_more\\\" class=\\\" gs_btn_smd\\\"&gt;&lt;span class=\\\"gs_wr\\\"&gt;&lt;span class=\\\"gs_lbl\\\"&gt;Show more&lt;/span&gt;&lt;/span&gt;&lt;/button&gt;&lt;button type=\\\"button\\\" id=\\\"gsc_bpf_next\\\" aria-label=\\\"Next\\\" class=\\\"gs_btnPR gs_in_ib gs_btn_half gs_btn_srt\\\"&gt;&lt;span class=\\\"gs_wr\\\"&gt;&lt;span class=\\\"gs_lbl\\\"&gt;&lt;/span&gt;&lt;span class=\\\"gs_ico\\\"&gt;&lt;/span&gt;&lt;/span&gt;&lt;/button&gt;&lt;/div&gt;&lt;/div&gt;&lt;/form&gt;&lt;/div&gt;&lt;div class=\\\"gsc_lcl\\\"&gt;&lt;div id=\\\"gs_ftr\\\" role=\\\"contentinfo\\\"&gt;&lt;div id=\\\"gsc_dscl\\\"&gt;Dates and citation counts are estimated and are determined automatically by a computer program.&lt;/div&gt;&lt;div id=\\\"gsc_ftr_h\\\"&gt;&lt;a href=\\\"/intl/en/scholar/citations.html\\\"&gt;Help&lt;/a&gt; &lt;a href=\\\"//www.google.com/intl/en/policies/privacy/\\\"&gt;Privacy&lt;/a&gt; &lt;a href=\\\"//www.google.com/intl/en/policies/terms/\\\"&gt;Terms&lt;/a&gt; &lt;a href=\\\"//support.google.com/scholar/contact/general\\\"&gt;Provide feedback&lt;/a&gt; &lt;a href=\\\"/citations?hl=en&amp;amp;oe=ASCII\\\"&gt;Get my own profile&lt;/a&gt;&lt;/div&gt;&lt;/div&gt;&lt;/div&gt;&lt;/div&gt;&lt;/div&gt;&lt;div id=\\\"gs_rdy\\\"&gt;&lt;/div&gt;&lt;/body&gt;&lt;/html&gt;\""
      ],
      "text/latex": [
       "\"<!doctype html><head><meta http-equiv=\\textbackslash{}\"Content-Type\\textbackslash{}\" content=\\textbackslash{}\"text/html;charset=ISO-8859-1\\textbackslash{}\"><meta http-equiv=\\textbackslash{}\"X-UA-Compatible\\textbackslash{}\" content=\\textbackslash{}\"IE=Edge\\textbackslash{}\"><meta name=\\textbackslash{}\"referrer\\textbackslash{}\" content=\\textbackslash{}\"always\\textbackslash{}\"><meta name=\\textbackslash{}\"viewport\\textbackslash{}\" content=\\textbackslash{}\"width=device-width,initial-scale=1,minimum-scale=1,maximum-scale=2\\textbackslash{}\"><style>@viewport\\{width:device-width;min-zoom:1;max-zoom:2;\\}</style><meta name=\\textbackslash{}\"format-detection\\textbackslash{}\" content=\\textbackslash{}\"telephone=no\\textbackslash{}\"><style>html,body,form,table,div,h1,h2,h3,h4,h5,h6,img,ol,ul,li,button\\{margin:0;padding:0;border:0;\\}table\\{border-collapse:collapse;border-width:0;empty-cells:show;\\}\\#gs\\_top\\{position:relative;min-width:964px;-webkit-tap-highlight-color:rgba(0,0,0,0);\\}\\#gs\\_top>*:not(\\#x)\\{-webkit-tap-highlight-color:rgba(204,204,204,.5);\\}.gs\\_el\\_ph \\#gs\\_top,.gs\\_el\\_ta \\#gs\\_top\\{min-width:300px;\\}body,td,input\\{font-size:13px;font-family:Arial,sans-serif;line-height:1.24\\}body\\{background:\\#fff;color:\\#222;-webkit-text-size-adjust:100\\%;-moz-text-size-adjust:none;\\}.gs\\_gray\\{color:\\#777777\\}.gs\\_red\\{color:\\#dd4b39\\}.gs\\_grn\\{color:\\#006621\\}.gs\\_lil\\{font-size:11px\\}.gs\\_med\\{font-size:16px\\}.gs\\_hlt\\{font-weight:bold;\\}a:link\\{color:\\#1a0dab;text-decoration:none\\}a:visited\\{color:\\#660099;text-decoration:none\\}a:hover,a:active,a:hover .gs\\_lbl,a:active .gs\\_lbl,a .gs\\_lbl:active\\{text-decoration:underline;outline:none;\\}a:active,a:active .gs\\_lbl,a .gs\\_lbl:active\\{color:\\#d14836\\}.gs\\_a,.gs\\_a a:link,.gs\\_a a:visited\\{color:\\#006621\\}.gs\\_a a:active\\{color:\\#d14836\\}a.gs\\_fl:link,.gs\\_fl a:link\\{color:\\#1a0dab\\}a.gs\\_fl:visited,.gs\\_fl a:visited\\{color:\\#660099\\}a.gs\\_fl:active,.gs\\_fl a:active\\{color:\\#d14836\\}.gs\\_fl\\{color:\\#777777\\}.gs\\_ctc,.gs\\_ctu\\{vertical-align:middle;font-size:11px;font-weight:bold\\}.gs\\_ctc\\{color:\\#1a0dab\\}.gs\\_ctg,.gs\\_ctg2\\{font-size:13px;font-weight:bold\\}.gs\\_ctg\\{color:\\#1a0dab\\}a.gs\\_pda,.gs\\_pda a\\{padding:7px 0 5px 0\\}.gs\\_alrt\\{background:\\#f9edbe;border:1px solid \\#f0c36d;padding:0 16px;text-align:center;-webkit-box-shadow:0 2px 4px rgba(0,0,0,.2);-moz-box-shadow:0 2px 4px rgba(0,0,0,.2);box-shadow:0 2px 4px rgba(0,0,0,.2);-webkit-border-radius:2px;-moz-border-radius:2px;border-radius:2px;\\}.gs\\_spc\\{display:inline-block;width:12px\\}.gs\\_br\\{width:0;font-size:0\\}.gs\\_ibl\\{display:inline-block;\\}.gs\\_scl:after\\{content:\\textbackslash{}\"\\textbackslash{}\";display:table;clear:both;\\}.gs\\_nscl\\{overflow-y:hidden;\\}.gs\\_ind\\{padding-left:8px;text-indent:-8px\\}.gs\\_ico,.gs\\_icm\\{display:inline-block;background:no-repeat url(/intl/en/scholar/images/1x/sprite\\_20160531.png);background-size:169px;width:21px;height:21px;\\}@media(-webkit-min-device-pixel-ratio:1.5),(min-resolution:144dpi)\\{.gs\\_ico,.gs\\_icm\\{background-image:url(/intl/en/scholar/images/2x/sprite\\_20160531.png);\\}\\}.gs\\_el\\_ta .gs\\_nta,.gs\\_ota,.gs\\_el\\_ph .gs\\_nph,.gs\\_oph\\{display:none\\}.gs\\_el\\_ta .gs\\_ota,.gs\\_el\\_ph .gs\\_oph\\{display:inline\\}.gs\\_el\\_ta div.gs\\_ota,.gs\\_el\\_ph div.gs\\_oph\\{display:block\\}\\#gs\\_ftr\\{margin:32px 0 0 0;text-align:center;clear:both;\\}\\#gs\\_ftr a\\{display:inline-block;margin:0 12px;padding:7px 0 8px 0;\\}\\#gs\\_ftr a:link,\\#gs\\_ftr a:visited\\{color:\\#1a0dab\\}\\#gs\\_ftr a:active\\{color:\\#d14836\\}.gs\\_in\\_txt\\{color:black;background:\\#fff;font-size:16px;height:23px;line-height:23px;border:1px solid \\#d9d9d9;border-top:1px solid \\#c0c0c0;padding:3px 6px 1px 8px;-webkit-border-radius:1px;-moz-border-radius:1px;border-radius:1px;outline:none;vertical-align:middle;-webkit-appearance:none;-moz-appearance:none;\\}.gs\\_el\\_tc .gs\\_in\\_txt\\{font-size:18px;\\}.gs\\_in\\_txt:hover\\{border:1px solid \\#b9b9b9;border-top:1px solid \\#a0a0a0;-webkit-box-shadow:inset 0px 1px 2px rgba(0,0,0,0.1);-moz-box-shadow:inset 0px 1px 2px rgba(0,0,0,0.1);box-shadow:inset 0px 1px 2px rgba(0,0,0,0.1);\\}.gs\\_in\\_txte,.gs\\_in\\_txte:hover\\{border:1px solid \\#DD4B39;\\}.gs\\_in\\_txt:focus\\{border:1px solid \\#4d90fe;-webkit-box-shadow:inset 0px 1px 2px rgba(0,0,0,0.3);-moz-box-shadow:inset 0px 1px 2px rgba(0,0,0,0.3);box-shadow:inset 0px 1px 2px rgba(0,0,0,0.3);\\}.gs\\_in\\_txt:disabled\\{color:\\#b8b8b8;border-color:\\#f1f1f1;-webkit-box-shadow:none;-moz-box-shadow:none;box-shadow:none;\\}input.gs\\_mini\\{font-size:13px;height:16px;line-height:16px;padding:3px 6px;\\}.gs\\_el\\_tc input.gs\\_mini\\{font-size:13px;height:21px;line-height:21px;\\}.gs\\_in\\_txtf\\{margin-right:16px\\}.gs\\_in\\_txtm\\{margin-right:14px\\}.gs\\_in\\_txtf .gs\\_in\\_txt,.gs\\_in\\_txtm .gs\\_in\\_txt\\{width:100\\%;\\}.gs\\_in\\_txts\\{font-size:13px;line-height:18px;\\}button\\{position:relative;z-index:1;box-sizing:border-box;font-size:11px;font-weight:bold;cursor:default;height:29px;min-width:72px;overflow:visible;color:\\#444;border:1px solid \\#dcdcdc;border:1px solid rgba(0,0,0,.1);border-radius:2px;text-align:center;background-color:\\#f5f5f5;background-image:linear-gradient(to bottom,\\#f5f5f5,\\#f1f1f1);transition:all .218s;user-select:none;\\}button .gs\\_wr\\{line-height:27px;\\}button.gs\\_btn\\_mini\\{min-width:26px;height:26px;\\}.gs\\_btn\\_mini .gs\\_wr\\{line-height:24px;\\}.gs\\_btn\\_half,.gs\\_el\\_ph .gs\\_btn\\_hph\\{min-width:36px;\\}>. \\}\\}.gs\\_btn\\_slt\\{border-radius:2px 0 0 2px;\\}.gs\\_btn\\_srt\\{margin-left:-1px;border-radius:0 2px 2px 0;\\}.gs\\_btn\\_smd\\{margin-left:-1px;border-radius:0;\\}button:hover\\{z-index:2;color:\\#222;border:1px solid \\#c6c6c6;box-shadow:0 1px 1px rgba(0,0,0,.1);background-color:\\#f8f8f8;background-image:linear-gradient(to bottom,\\#f8f8f8,\\#f1f1f1);transition:all 0s;\\}button.gs\\_sel\\{color:\\#333;border:1px solid \\#ccc;box-shadow:inset 0 1px 2px rgba(0,0,0,.1);background-color:\\#e8e8e8;background-image:linear-gradient(to bottom,\\#eee,\\#e0e0e0);\\}button:active\\{z-index:2;color:\\#333;background-color:\\#f6f6f6;background-image:linear-gradient(to bottom,\\#f6f6f6,\\#f1f1f1);box-shadow:inset 0px 1px 2px rgba(0,0,0,.1);\\}button:focus\\{z-index:2;outline:none;border:1px solid \\#4d90fe;\\}button::-moz-focus-inner\\{padding:0;border:0\\}button .gs\\_lbl\\{padding:0px 8px;\\}a.gs\\_in\\_ib\\{position:relative;display:inline-block;line-height:16px;padding:5px 0 6px 0;user-select:none;\\}a.gs\\_btn\\_mini\\{height:24px;line-height:24px;padding:0;\\}a .gs\\_lbl,button .gs\\_lbl\\{vertical-align:baseline;\\}a.gs\\_in\\_ib .gs\\_lbl\\{display:inline-block;padding-left:21px\\}button.gs\\_in\\_ib .gs\\_lbl\\{padding-left:29px;\\}button.gs\\_btn\\_mini .gs\\_lbl,button.gs\\_btn\\_half .gs\\_lbl,button.gs\\_btn\\_eml .gs\\_lbl\\{padding:11px;\\}.gs\\_el\\_ph .gs\\_btn\\_hph .gs\\_lbl,.gs\\_el\\_ph .gs\\_btn\\_cph .gs\\_lbl\\{padding:11px;font-size:0;visibility:hidden;\\}.gs\\_in\\_ib .gs\\_ico\\{position:absolute;top:2px;left:8px;\\}.gs\\_btn\\_mini .gs\\_ico\\{top:1px;left:2px;\\}.gs\\_btn\\_half .gs\\_ico,.gs\\_el\\_ph .gs\\_btn\\_hph .gs\\_ico\\{left:7px\\}.gs\\_btn\\_eml .gs\\_ico,.gs\\_el\\_ph .gs\\_btn\\_cph .gs\\_ico\\{left:25px\\}a.gs\\_in\\_ib .gs\\_ico\\{top:3px;left:0\\}a.gs\\_in\\_ib.gs\\_md\\_li .gs\\_ico\\{left:14px\\}.gs\\_el\\_tc a.gs\\_in\\_ib.gs\\_md\\_li .gs\\_ico\\{top:11px\\}a.gs\\_btn\\_mini .gs\\_ico\\{top:1px;left:0\\}.gs\\_in\\_ib .gs\\_ico\\{opacity:.55;\\}a.gs\\_in\\_ib .gs\\_ico\\{opacity:.65;\\}.gs\\_in\\_ib:hover .gs\\_ico\\{opacity:.72;\\}.gs\\_in\\_ib:active .gs\\_ico,.gs\\_in\\_ib .gs\\_ico:active,.gs\\_in\\_ib :active\\textasciitilde{}.gs\\_ico\\{opacity:1;\\}.gs\\_in\\_ib:disabled .gs\\_ico\\{opacity:.28;\\}a.gs\\_in\\_ib.gs\\_dis .gs\\_ico\\{opacity:.33;\\}button.gs\\_btn\\_act\\{color:\\#fff;border:1px solid \\#3079ed;background-color:\\#4d90fe;background-image:linear-gradient(to bottom,\\#4d90fe,\\#4787ed);\\}button.gs\\_btn\\_act:hover\\{color:\\#fff;border:1px solid \\#2f5bb7;background-color:\\#357ae8;background-image:linear-gradient(to bottom,\\#4d90fe,\\#357ae8);box-shadow:inset 0 1px 1px rgba(0,0,0,.1);\\}button.gs\\_btnG\\{width:70px;min-width:0;\\}button.gs\\_btn\\_cre\\{color:\\#fff;border:1px solid transparent;background-color:\\#d14836;background-image:linear-gradient(to bottom,\\#dd4b39,\\#d14836);\\}button.gs\\_btn\\_cre .gs\\_lbl\\{text-transform:uppercase;text-shadow:0px 1px rgba(0,0,0,.1);\\}button.gs\\_btn\\_cre:hover\\{color:\\#fff;border:1px solid \\#b0281a;border-bottom:1px solid \\#af301f;background-color:\\#c53727;background-image:linear-gradient(to bottom,\\#dd4b39,\\#c53727);box-shadow:inset 0 1px 1px rgba(0,0,0,.2);\\}button.gs\\_btn\\_act:focus,button.gs\\_btn\\_cre:focus\\{box-shadow:inset 0 0 0 1px rgba(255,255,255,.5);\\}button.gs\\_btn\\_act:focus\\{border-color:\\#404040;\\}button.gs\\_btn\\_cre:focus\\{border-color:\\#d14836;\\}button.gs\\_btn\\_act:active\\{border:1px solid \\#315da3;background-color:\\#2f6de1;background-image:linear-gradient(to bottom,\\#4d90fe,\\#2f6de1);\\}button.gs\\_btn\\_cre:active\\{border:1px solid \\#992a1b;background-color:\\#b0281a;background-image:linear-gradient(to bottom,\\#dd4b39,\\#b0281a);\\}button.gs\\_btn\\_act:active,button.gs\\_btn\\_cre:active\\{box-shadow:inset 0 1px 2px rgba(0,0,0,.3);\\}button.gs\\_bsp,button.gs\\_bsp:hover,button.gs\\_bsp:active,button.gs\\_bsp:focus,button:disabled,button:disabled:hover,button:disabled:active\\{color:\\#b8b8b8;border:1px solid \\#f3f3f3;border:1px solid rgba(0,0,0,.05);background:none;box-shadow:none;z-index:0;\\}button.gs\\_btn\\_act:disabled\\{color:white;border-color:\\#98bcf6;background:\\#a6c8ff;\\}button.gs\\_btn\\_cre:disabled\\{color:white;border-color:\\#d8948d;background:\\#e8a49b;\\}button:disabled:active\\{box-shadow:inset 0 1px 2px rgba(0,0,0,.1);z-index:2;\\}a.gs\\_dis\\{cursor:default\\}.gs\\_ttp\\{position:absolute;top:100\\%;right:50\\%;z-index:10;pointer-events:none;visibility:hidden;opacity:0;transition:visibility 0s .13s,opacity .13s ease-out;\\}button:hover .gs\\_ttp,button:focus .gs\\_ttp,a:hover .gs\\_ttp,a:focus .gs\\_ttp\\{transition:visibility 0s .3s,opacity .13s ease-in .3s;visibility:visible;opacity:1;\\}.gs\\_ttp .gs\\_aro,.gs\\_ttp .gs\\_aru\\{position:absolute;top:-2px;right:-5px;width:0;height:0;line-height:0;font-size:0;border:5px solid transparent;border-top:none;border-bottom-color:\\#2a2a2a;z-index:1;\\}.gs\\_ttp .gs\\_aro\\{top:-3px;right:-6px;border-width:6px;border-top:none;border-bottom-color:white;\\}.gs\\_ttp .gs\\_txt\\{display:block;position:relative;top:2px;right:-50\\%;padding:7px 9px;background:\\#2a2a2a;color:white;font-size:11px;font-weight:bold;line-height:normal;white-space:nowrap;border:1px solid white;box-shadow:inset 0 1px 4px rgba(0,0,0,.2);\\}.gs\\_in\\_se,.gs\\_tan\\{touch-action:none;\\}.gs\\_in\\_se .gs\\_lbl\\{padding-left:8px;padding-right:22px;\\}.gs\\_in\\_se .gs\\_icm\\{position:absolute;top:8px;right:8px;width:7px;height:11px;background-position:-21px -88px;opacity:.55;\\}a.gs\\_in\\_se .gs\\_icm\\{opacity:.65;\\}.gs\\_in\\_se:hover .gs\\_icm\\{opacity:.72;\\}.gs\\_in\\_se:active .gs\\_icm,.gs\\_in\\_se .gs\\_icm:active,.gs\\_in\\_se :active\\textasciitilde{}.gs\\_icm\\{opacity:1;\\}.gs\\_in\\_ib:disabled .gs\\_icm\\{opacity:.28;\\}.gs\\_el\\_ph .gs\\_btn\\_hph .gs\\_icm,.gs\\_el\\_ph .gs\\_btn\\_cph .gs\\_icm\\{display:none\\}.gs\\_btn\\_mnu .gs\\_icm\\{top:11px;height:7px;background-position:0 -110px;\\}.gs\\_btn\\_mn2 .gs\\_icm,.gs\\_btn\\_mn2:hover .gs\\_icm,.gs\\_btn\\_mn2:active .gs\\_icm,.gs\\_btn\\_mn2 .gs\\_icm:active,.gs\\_btn\\_mn2 :active\\textasciitilde{}.gs\\_icm\\{background-position:-42px -44px;opacity:1;\\}.gs\\_btn\\_mn2 .gs\\_ico,.gs\\_btn\\_mn2:hover .gs\\_ico,.gs\\_btn\\_mn2:active .gs\\_ico,.gs\\_btn\\_mn2 .gs\\_ico:active,.gs\\_btn\\_mn2 :active\\textasciitilde{}.gs\\_ico\\{opacity:1;\\}.gs\\_md\\_se,.gs\\_md\\_wn,.gs\\_el\\_ph .gs\\_md\\_wp\\{position:absolute;top:0;left:0;border:1px solid \\#ccc;border-color:rgba(0,0,0,.2);background:white;box-shadow:0 2px 4px rgba(0,0,0,.2);z-index:1100;display:none;opacity:0;transition:opacity .13s;\\}.gs\\_md\\_se.gs\\_vis,.gs\\_md\\_wn.gs\\_vis,.gs\\_el\\_ph .gs\\_md\\_wp.gs\\_vis\\{opacity:1;transition:all 0s;\\}.gs\\_el\\_tc .gs\\_md\\_se,.gs\\_el\\_tc .gs\\_md\\_wn,.gs\\_el\\_ph.gs\\_el\\_tc .gs\\_md\\_wp\\{transform-origin:100\\% 0;transform:scale(1,0);transition:opacity .218s ease-out,transform 0s .218s;\\}.gs\\_el\\_tc .gs\\_md\\_wn.gs\\_ttss,.gs\\_el\\_ph.gs\\_el\\_tc .gs\\_md\\_wp.gs\\_ttss\\{transform:scale(0,1);\\}.gs\\_el\\_tc .gs\\_md\\_wn.gs\\_ttzi,.gs\\_el\\_ph.gs\\_el\\_tc .gs\\_md\\_wp.gs\\_ttzi\\{transform-origin:50\\% 50\\%;transform:scale(0,0);\\}.gs\\_el\\_tc .gs\\_md\\_se.gs\\_vis,.gs\\_el\\_tc .gs\\_md\\_wn.gs\\_vis,.gs\\_el\\_ph.gs\\_el\\_tc .gs\\_md\\_wp.gs\\_vis\\{transform:scale(1,1);transition:transform .218s ease-out;\\}.gs\\_md\\_wm\\{opacity:0;visibility:hidden;background:\\#fff;border:1px solid \\#ccc;border-color:rgba(0,0,0,.2);box-shadow:0 2px 4px rgba(0,0,0,.2);z-index:1100;position:absolute;transform-origin:50\\% 50\\%;margin-top:-500px;\\}.gs\\_md\\_wm.gs\\_vis\\{opacity:1;visibility:visible;margin-top:0;\\}.gs\\_md\\_wm.gs\\_vis.gs\\_anm\\{animation:none;\\}.gs\\_md\\_wm.gs\\_anm\\{animation:gs\\_anm\\_fo .13s ease-out;\\}.gs\\_el\\_tc .gs\\_md\\_wm.gs\\_vis.gs\\_anm\\{animation:gs\\_anm\\_scli .218s ease-out;\\}.gs\\_el\\_tc .gs\\_md\\_wm.gs\\_anm\\{animation:gs\\_anm\\_fo .218s ease-out;\\}.gs\\_el\\_ph .gs\\_md\\_wmw\\{top:0;left:0;position:fixed;height:100\\%;width:100\\%;visibility:hidden;z-index:1100;\\}.gs\\_el\\_ph .gs\\_md\\_wm\\{top:0;left:0;padding:0;width:100\\%;height:100\\%;border:none;box-shadow:none;\\}.gs\\_el\\_ph .gs\\_md\\_wm.gs\\_vis.gs\\_anm\\{animation:gs\\_anm\\_sli .218s ease-out;\\}.gs\\_el\\_ph .gs\\_md\\_wm.gs\\_anm\\{animation:gs\\_anm\\_slo .218s ease-in;\\}@keyframes gs\\_anm\\_fo\\{from\\{opacity:1;visibility:visible;margin-top:0;\\}to\\{opacity:0;visibility:hidden;margin-top:0;\\}\\}@keyframes gs\\_anm\\_scli\\{from\\{transform:scale(0,0);\\}to\\{transform:scale(1,1);\\}\\}@keyframes gs\\_anm\\_slo\\{from\\{opacity:1;visibility:visible;margin-top:0;transform:translate(0,0);\\}to\\{opacity:1;visibility:hidden;margin-top:0;transform:translate(0,100\\%);\\}\\}@keyframes gs\\_anm\\_sli\\{from\\{transform:translate(0,100\\%);\\}to\\{transform:translate(0,0);\\}\\}.gs\\_md\\_se\\{white-space:nowrap\\}.gs\\_md\\_se ul\\{list-style-type:none;word-wrap:break-word;display:inline-block;vertical-align:top;\\}.gs\\_md\\_se li,.gs\\_md\\_li,.gs\\_md\\_li:link,.gs\\_md\\_li:visited\\{display:block;padding:6px 44px 6px 16px;font-size:13px;line-height:16px;color:\\#222;cursor:default;text-decoration:none;background:white;transition:background .13s;\\}a.gs\\_md\\_li:hover .gs\\_lbl,a.gs\\_md\\_li:active .gs\\_lbl\\{text-decoration:none\\}.gs\\_el\\_tc .gs\\_md\\_se li,.gs\\_el\\_tc .gs\\_md\\_li\\{padding-top:14px;padding-bottom:10px;\\}.gs\\_md\\_se li:hover,.gs\\_md\\_li:hover,.gs\\_md\\_li:focus\\{background:\\#f1f1f1;transition:background 0s;\\}.gs\\_md\\_se li.gs\\_sel\\{color:\\#dd4b39\\}.gs\\_md\\_wn:focus,.gs\\_md\\_se li:focus,.gs\\_md\\_li:focus\\{outline:none\\}button.gs\\_btnG .gs\\_ico,button.gs\\_btnG:hover .gs\\_ico,button.gs\\_btnG:active .gs\\_ico,button.gs\\_btnG .gs\\_ico:active,button.gs\\_btnG :active\\textasciitilde{}.gs\\_ico\\{width:14px;height:14px;top:7px;left:27px;background-position:-113px -44px;opacity:1;\\}button .gs\\_bsc\\{position:absolute;top:0;right:50\\%;width:25px;\\}button .gs\\_bs\\{background:url('/intl/en/scholar/images/spinner.gif') no-repeat;position:relative;height:25px;width:25px;left:50\\%;display:none;\\}button.gs\\_bsp .gs\\_bs\\{display:block;\\}a.gs\\_in\\_cb:link,a.gs\\_in\\_cb:visited,a.gs\\_in\\_cb:active,a.gs\\_in\\_cb:hover,a.gs\\_in\\_cb.gs\\_dis:active .gs\\_lbl\\{cursor:default;color:\\#222;text-decoration:none;\\}.gs\\_in\\_cb,.gs\\_in\\_ra\\{position:relative;line-height:16px;display:inline-block;user-select:none;\\}.gs\\_in\\_cb.gs\\_md\\_li\\{padding:6px 44px 6px 16px;\\}.gs\\_in\\_cb input,.gs\\_in\\_ra input\\{position:absolute;top:1px;left:1px;width:15px;height:15px;margin:0;padding:0;opacity:0;z-index:2;\\}.gs\\_in\\_ra input\\{top:0;left:0\\}.gs\\_el\\_tc .gs\\_in\\_cb input\\{top:9px\\}.gs\\_el\\_tc .gs\\_in\\_ra input\\{top:8px\\}.gs\\_in\\_cb.gs\\_in\\_cbj input\\{top:15px;left:15px\\}.gs\\_in\\_cb label,.gs\\_in\\_cb .gs\\_lbl,.gs\\_in\\_ra label\\{display:inline-block;padding-left:21px;min-height:16px;\\}.gs\\_el\\_tc .gs\\_in\\_cb label,.gs\\_el\\_tc .gs\\_in\\_cb .gs\\_lbl,.gs\\_el\\_tc .gs\\_in\\_ra label\\{padding-top:8px;padding-bottom:5px;\\}.gs\\_in\\_cb.gs\\_in\\_cbj label,.gs\\_in\\_cb.gs\\_in\\_cbj .gs\\_lbl\\{padding:13px 0 12px 41px;\\}.gs\\_in\\_cb .gs\\_cbx,.gs\\_in\\_ra .gs\\_cbx\\{position:absolute\\}.gs\\_in\\_cb .gs\\_cbx\\{top:2px;left:2px;width:11px;height:11px;border:1px solid \\#c6c6c6;border-radius:1px;\\}.gs\\_md\\_li .gs\\_cbx\\{top:8px;left:18px\\}.gs\\_el\\_tc .gs\\_in\\_cb .gs\\_cbx\\{top:10px\\}.gs\\_el\\_tc .gs\\_md\\_li .gs\\_cbx\\{top:16px\\}.gs\\_in\\_cb.gs\\_in\\_cbj .gs\\_cbx\\{top:15px;left:15px\\}.gs\\_el\\_tc .gs\\_in\\_ra .gs\\_cbx\\{top:8px\\}.gs\\_in\\_ra .gs\\_cbx\\{top:0;left:0;border:1px solid \\#c6c6c6;width:13px;height:13px;border-radius:7px;\\}.gs\\_in\\_cb:hover .gs\\_cbx,.gs\\_in\\_ra:hover .gs\\_cbx\\{border-color:\\#666;box-shadow:inset 0 1px 1px rgba(0,0,0,.1);\\}.gs\\_in\\_cb:focus .gs\\_cbx,.gs\\_in\\_cb :focus\\textasciitilde{}.gs\\_cbx,.gs\\_in\\_ra :focus\\textasciitilde{}.gs\\_cbx\\{border-color:\\#4d90fe;\\}.gs\\_in\\_cb:active .gs\\_cbx,.gs\\_in\\_ra:active .gs\\_cbx,.gs\\_in\\_cb .gs\\_cbx:active,.gs\\_in\\_ra .gs\\_cbx:active,.gs\\_in\\_cb :active\\textasciitilde{}.gs\\_cbx,.gs\\_in\\_ra :active\\textasciitilde{}.gs\\_cbx\\{border-color:\\#666;background:\\#ebebeb;\\}.gs\\_in\\_cb :disabled\\textasciitilde{}.gs\\_cbx,.gs\\_in\\_ra :disabled\\textasciitilde{}.gs\\_cbx\\{border-color:\\#f1f1f1;box-shadow:none;\\}.gs\\_in\\_cb :disabled\\textasciitilde{}label,.gs\\_in\\_ra :disabled\\textasciitilde{}label\\{color:\\#b8b8b8;\\}.gs\\_in\\_cb.gs\\_err .gs\\_cbx\\{border-color:\\#eda29b;\\}.gs\\_in\\_cb .gs\\_chk,.gs\\_in\\_ra .gs\\_chk\\{position:absolute;z-index:1;top:-3px;left:-2px;width:21px;height:21px;\\}.gs\\_md\\_li .gs\\_chk\\{top:3px;left:14px\\}.gs\\_el\\_tc .gs\\_in\\_cb .gs\\_chk\\{top:5px\\}.gs\\_el\\_tc .gs\\_md\\_li .gs\\_chk\\{top:11px\\}.gs\\_in\\_cb.gs\\_in\\_cbj .gs\\_chk\\{top:10px;left:10px\\}.gs\\_in\\_ra .gs\\_chk\\{top:4px;left:4px;width:7px;height:7px;\\}.gs\\_el\\_tc .gs\\_in\\_ra .gs\\_chk\\{top:12px\\}.gs\\_in\\_cb input:checked\\textasciitilde{}.gs\\_chk,.gs\\_in\\_cb.gs\\_sel .gs\\_chk\\{background:no-repeat url(/intl/en/scholar/images/1x/sprite\\_20160531.png) -69px -67px;opacity:.62;\\}.gs\\_in\\_ra input:checked\\textasciitilde{}.gs\\_chk\\{border-radius:4px;background:\\#666;\\}.gs\\_in\\_cb.gs\\_par .gs\\_chk\\{background:no-repeat url(/intl/en/scholar/images/1x/sprite\\_20160531.png) -20px -44px;opacity:.55;\\}@media(-webkit-min-device-pixel-ratio:1.5),(min-resolution:144dpi)\\{.gs\\_in\\_cb input:checked\\textasciitilde{}.gs\\_chk,.gs\\_in\\_cb.gs\\_sel .gs\\_chk,.gs\\_in\\_cb.gs\\_par .gs\\_chk\\{background-image:url(/intl/en/scholar/images/2x/sprite\\_20160531.png);background-size:169px;\\}\\}.gs\\_in\\_cb input:checked:disabled\\textasciitilde{}.gs\\_chk\\{background-position:-69px -67px;opacity:.22;\\}.gs\\_ico\\_X\\{background-position:-71px 0;opacity:.55;\\}.gs\\_ico\\_X:hover\\{opacity:.72;\\}.gs\\_ico\\_X:active\\{opacity:1;\\}.gs\\_el\\_tc .gs\\_ico\\_Xt\\{-webkit-background-origin:content;background-origin:content-box;-webkit-background-clip:content;background-clip:content-box;padding:10px 6px 10px 14px;\\}.gs\\_ico\\_P\\{background-position:0 0;opacity:.55;\\}.gs\\_ico\\_P:hover\\{opacity:.72;\\}.gs\\_ico\\_P:active\\{opacity:1;\\}.gs\\_btnC .gs\\_ico\\{background-position:0 -66px;\\}.gs\\_btnM .gs\\_ico\\{background-position:-92px 0;\\}.gs\\_btnMW .gs\\_ico\\{background-position:-21px -22px;\\}.gs\\_btnSB .gs\\_ico\\{background-position:0 -44px;\\}.gs\\_btnPL .gs\\_ico\\{background-position:-148px -66px;\\}.gs\\_btnPR .gs\\_ico\\{background-position:-21px -66px;\\}.gs\\_btnDE .gs\\_ico\\{background-position:-134px 0;\\}.gs\\_btnADD .gs\\_ico\\{background-position:-92px -66px;\\}.gs\\_btnMRG .gs\\_ico\\{background-position:-113px 0;\\}.gs\\_btnDWL .gs\\_ico\\{background-position:-28px -88px;\\}.gs\\_btnMNU .gs\\_ico\\{background-position:0 -88px;\\}\\#gsc\\_bdy\\{position:relative;margin:0 auto;width:1100px;\\}.gs\\_el\\_me \\#gsc\\_bdy\\{width:1028px\\}.gs\\_el\\_sm \\#gsc\\_bdy\\{width:964px\\}.gs\\_el\\_ph \\#gsc\\_bdy,.gs\\_el\\_ta \\#gsc\\_bdy\\{width:auto;margin-top:44px;\\}.gsc\\_lcl\\{position:relative;margin:0 337px 0 16px;\\}.gs\\_el\\_sm .gsc\\_lcl\\{margin-right:321px;\\}.gs\\_el\\_ta .gsc\\_lcl,.gs\\_el\\_ph .gsc\\_lcl\\{margin:0\\}\\#gsc\\_prf,\\#gsc\\_a\\_t\\{border-right:1px solid \\#ccc\\}.gs\\_el\\_ta \\#gsc\\_prf,.gs\\_el\\_ta \\#gsc\\_a\\_t,.gs\\_el\\_ph \\#gsc\\_prf,.gs\\_el\\_ph \\#gsc\\_a\\_t\\{border:none;\\}\\#gsc\\_rsb\\{position:absolute;top:0;right:0;width:336px;\\}.gs\\_el\\_sm \\#gsc\\_rsb\\{width:320px;\\}.gs\\_el\\_ta \\#gsc\\_rsb\\{position:relative;width:49\\%;float:right;margin:8px 0;\\}.gs\\_el\\_ta .gsc\\_prf\\_ed \\#gsc\\_rsb\\{display:none;\\}.gs\\_el\\_ph \\#gsc\\_rsb\\{position:relative;width:100\\%;\\}\\#gsc\\_rsb\\_m\\{display:none\\}.gs\\_el\\_ta \\#gsc\\_rsb\\_m,.gs\\_el\\_ph \\#gsc\\_rsb\\_m\\{display:block;position:absolute;top:-44px;width:100\\%;height:43px;border-bottom:1px solid \\#ccc;\\}.gs\\_el\\_ta \\#gsc\\_rsb\\_icol,.gs\\_el\\_ph \\#gsc\\_rsb\\_icol,.gs\\_el\\_ta \\#gsc\\_rsb\\_f,.gs\\_el\\_ph \\#gsc\\_rsb\\_f,.gs\\_el\\_ta \\#gsc\\_rsb\\_gpl,.gs\\_el\\_ph \\#gsc\\_rsb\\_gpl\\{display:none;\\}.gsc\\_rsb\\_s\\{margin:20px 24px 24px 24px;position:relative;\\}.gs\\_el\\_sm .gsc\\_rsb\\_s\\{margin:8px 16px 16px 16px\\}.gs\\_el\\_ta .gsc\\_rsb\\_s\\{margin:8px 16px\\}.gs\\_el\\_ph .gsc\\_rsb\\_s\\{margin:8px\\}.gsc\\_rsb\\_h\\{font-weight:bold;font-size:13px;border-bottom:1px solid \\#ccc;padding-bottom:4px;margin-bottom:4px;\\}.gs\\_el\\_sm .gsc\\_rsb\\_h\\{margin-bottom:0;\\}\\#gsc\\_rsb\\_icol,.gs\\_el\\_ta \\#gsc\\_rsb\\_icol\\_m\\{display:inline-block;width:189px;height:30px;margin:8px 0;background:no-repeat url('/intl/en/scholar/images/1x/scholar\\_logo\\_30dp.png');background-size:189px 30px;\\}.gs\\_el\\_ta \\#gsc\\_rsb\\_icol\\_m\\{margin:8px 16px;position:relative;z-index:1;\\}@media(-webkit-min-device-pixel-ratio:1.5),(min-resolution:144dpi)\\{\\#gsc\\_rsb\\_icol,.gs\\_el\\_ta \\#gsc\\_rsb\\_icol\\_m\\{background-image:url('/intl/en/scholar/images/2x/scholar\\_logo\\_30dp.png');\\}\\}.gs\\_el\\_ph \\#gsc\\_rsb\\_icol\\_m\\{color:\\#dd4b39;font-size:20px;line-height:43px;margin:0 8px;position:relative;z-index:1;\\}.gs\\_el\\_ta \\#gsc\\_rsb\\_f\\_m,.gs\\_el\\_ph \\#gsc\\_rsb\\_f\\_m\\{position:absolute;top:7px;right:8px;z-index:2;\\}\\#gsc\\_rsb\\_fin,\\#gsc\\_rsb\\_fin\\_m,\\#gsc\\_rsb\\_fbt,\\#gsc\\_rsb\\_fbt\\_m\\{vertical-align:top\\}\\#gsc\\_rsb\\_fin,\\#gsc\\_rsb\\_fin\\_m\\{width:228px;border-radius:2px 0 0 2px;\\}.gs\\_el\\_ta \\#gsc\\_rsb\\_fin\\_m\\{width:240px\\}.gs\\_el\\_ph \\#gsc\\_rsb\\_fin\\_m\\{width:170px\\}\\#gsc\\_rsb\\_fbt,\\#gsc\\_rsb\\_fbt\\_m\\{margin-left:-1px;border-radius:0 2px 2px 0;\\}.gsc\\_rsb\\_foff \\#gsc\\_rsb\\_fin\\_m\\{display:none;\\}.gs\\_el\\_tc \\#gsc\\_rsb\\_fin\\_m\\{display:inline-block;transform:scale(1,1);visibility:visible;transform-origin:right;transition:visibility 0s,transform .218s;\\}.gs\\_el\\_tc .gsc\\_rsb\\_foff \\#gsc\\_rsb\\_fin\\_m\\{transform:scale(0,1);visibility:hidden;transition:visibility 0s .218s,transform .218s;\\}.gs\\_el\\_tc \\#gsc\\_rsb\\_f\\_m.gsc\\_rsb\\_foff\\{z-index:0;transition:z-index 0s .218s;\\}\\#gsc\\_rsb\\_gpl\\{margin:16px 0;text-align:center;\\}\\#gsc\\_rsb\\_st\\{width:100\\%;max-width:320px\\}.gs\\_el\\_ph \\#gsc\\_rsb\\_st\\{width:288px\\}\\#gsc\\_rsb\\_t\\{display:none\\}.gsc\\_rsb\\_std\\{text-align:right;padding-right:8px;\\}.gsc\\_rsb\\_sc1\\{text-align:left;\\}.gsc\\_rsb\\_sth\\{font-weight:normal;padding-bottom:4px;padding-right:8px;border-bottom:1px solid \\#ccc;text-align:right;\\}th.gsc\\_rsb\\_sc1\\{border-bottom:1px solid \\#ccc;padding-bottom:4px;font-weight:bold;font-size:13px;\\}.gsc\\_rsb\\_f:link,.gsc\\_rsb\\_f:visited\\{color:\\#222;\\}\\#gsc\\_g\\{position:relative;width:288px;height:100px;border:1px solid white;\\}\\#gsc\\_g:hover\\{border:1px solid \\#ccc;background:\\#f5f5f5;\\}\\#gsc\\_g:active\\{border:1px solid \\#4d90fe;background:\\#f1f1f1;\\}.gs\\_el\\_ta \\#gsc\\_g,.gs\\_el\\_ph \\#gsc\\_g\\{display:none\\}\\#gsc\\_g\\_x,\\#gsc\\_g\\_bars\\{position:absolute;bottom:13px;left:0;width:288px;height:57px;\\}\\#gsc\\_g\\_x\\{height:13px;border-top:1px solid \\#777;\\}.gsc\\_g\\_t\\{position:absolute;bottom:0;color:\\#777;font-size:11px;\\}.gsc\\_g\\_a\\{position:absolute;bottom:13px;width:15px;background:\\#777;\\}.gsc\\_g\\_a:hover,.gsc\\_g\\_a:focus,.gsc\\_g\\_a:active\\{text-decoration:none;cursor:default;\\}.gsc\\_g\\_al\\{position:absolute;bottom:15px;left:7px;color:\\#222;background:white;font-size:11px;padding:1px;border:1px solid \\#777;border-radius:1px;visibility:hidden;opacity:0;transition:opacity .218s,visibility 0s .218s;\\}.gsc\\_g\\_a:hover .gsc\\_g\\_al,.gsc\\_g\\_a:focus .gsc\\_g\\_al,.gsc\\_g\\_a:active .gsc\\_g\\_al\\{visibility:visible;opacity:1;transition:all 0s;\\}.gsc\\_rsb\\_a\\{position:relative;list-style:none;\\}.gsc\\_rsb\\_aa:hover\\{background:\\#f1f1f1;\\}span.gsc\\_rsb\\_aa:hover\\{background:white;\\}.gsc\\_rsb\\_lc\\{margin-left:12px;font-weight:normal;\\}.gsc\\_rsb\\_sp\\{display:none\\}.gs\\_el\\_ph .gsc\\_rsb\\_sp,.gs\\_el\\_ta .gsc\\_rsb\\_sp\\{display:inline;margin-right:8px;\\}.gs\\_el\\_ph \\#gsc\\_rsb\\_co .gsc\\_rsb\\_a,.gs\\_el\\_ta \\#gsc\\_rsb\\_co .gsc\\_rsb\\_a\\{width:auto;overflow-x:hidden;white-space:nowrap;\\}.gs\\_el\\_ph \\#gsc\\_rsb\\_co .gsc\\_rsb\\_aa,.gs\\_el\\_ta \\#gsc\\_rsb\\_co .gsc\\_rsb\\_aa\\{display:inline-block;\\}.gs\\_el\\_ph \\#gsc\\_rsb\\_co .gsc\\_rsb\\_a li,.gs\\_el\\_ta \\#gsc\\_rsb\\_co .gsc\\_rsb\\_a li\\{display:inline;\\}.gsc\\_rsb\\_fade\\{display:none\\}.gs\\_el\\_ph \\#gsc\\_rsb\\_co .gsc\\_rsb\\_fade,.gs\\_el\\_ta \\#gsc\\_rsb\\_co .gsc\\_rsb\\_fade\\{position:absolute;right:0;bottom:0;width:60px;height:100\\%;background-image:linear-gradient(to right,rgba(255,255,255,0),rgba(255,255,255,1) 80\\%);\\}.gsc\\_rsb\\_aa\\{display:block;padding:4px 0;line-height:17px;\\}.gs\\_el\\_tc .gsc\\_rsb\\_aa\\{line-height:26px\\}.gsc\\_rsb\\_aa:hover,.gsc\\_rsb\\_aa:active\\{text-decoration:none;\\}\\#gsc\\_rsb\\_ssc .gsc\\_rsb\\_h\\{margin-bottom:0\\}\\#gsc\\_rsb\\_ssc li\\{position:relative;border-bottom:1px solid \\#f1f1f1;\\}.gs\\_el\\_ta \\#gsc\\_rsb\\_ssc,.gs\\_el\\_ph \\#gsc\\_rsb\\_ssc,\\#gsc\\_rsb\\_vc\\{display:none\\}.gs\\_el\\_ta \\#gsc\\_rsb\\_vc,.gs\\_el\\_ph \\#gsc\\_rsb\\_vc\\{display:block;text-align:center;background:\\#4d90fe;border:1px solid \\#ccc;margin:0 7px;\\}.gsc\\_rsb\\_vca:link,.gsc\\_rsb\\_vca:visited\\{font-size:13px;font-weight:bold;display:block;color:\\#eeeeee;text-decoration:underline;padding:16px 8px;\\}.gsc\\_rsb\\_t\\{position:absolute;top:4px;right:0;width:58px;height:21px;\\}.gs\\_el\\_tc .gsc\\_rsb\\_t\\{top:10px\\}.gsc\\_rsb\\_t .gs\\_ico\\{margin-left:8px;\\}\\#gsc\\_rsb\\_ssc .gsc\\_rsb\\_aa\\{padding:6px 0;margin-right:58px;word-break:break-word;\\}\\#gsc\\_dscl\\{margin:0 0 8px 0;color:\\#777;font-style:italic;\\}\\#gsc\\_ftr\\_h\\{padding-bottom:13px;\\}\\#gsc\\_prf\\{padding:24px 8px 16px 0;\\}.gs\\_el\\_sm \\#gsc\\_prf\\{padding:16px 0 8px 0;\\}.gs\\_el\\_ta \\#gsc\\_prf\\{padding:16px 0 8px 16px;\\}.gs\\_el\\_ph \\#gsc\\_prf\\{padding:16px 8px 8px 8px;\\}.gs\\_el\\_ta \\#gsc\\_prf\\_w\\{width:50\\%;float:left;\\}.gs\\_el\\_ta .gsc\\_prf\\_ed \\#gsc\\_prf\\_w\\{width:80\\%;\\}\\#gsc\\_art\\{clear:both\\}\\#gsc\\_prf\\_pu\\{float:left;width:150px;text-align:center;background:\\#f8f8f8;margin:0 8px 8px 0;\\}\\#gsc\\_prf\\_pu form\\{padding:8px 8px 0 8px;background:white;\\}.gs\\_el\\_ph \\#gsc\\_prf\\_pu\\{width:75px\\}.gs\\_el\\_ta \\#gsc\\_prf\\_pu\\{width:100px\\}.gs\\_el\\_ta \\#gsc\\_prf\\_pu form,.gs\\_el\\_ph \\#gsc\\_prf\\_pu form\\{padding:4px 4px 0 4px\\}.gs\\_el\\_ph .gsc\\_prf\\_ed \\#gsc\\_prf\\_pu\\{display:none;\\}\\#gsc\\_prf\\_pua\\{display:block;line-height:0;\\}\\#gsc\\_prf\\_pufi\\{width:0;height:0;overflow:hidden;\\}.gsc\\_prf\\_pufo \\#gsc\\_prf\\_pufi\\{width:auto;height:auto;overflow:visible;position:relative;z-index:1;\\}.gsc\\_prf\\_pufo \\#gsc\\_prf\\_pufi2\\{display:inline-block;background:\\#fcfcfc;padding:8px 8px 8px 0;\\}\\#gsc\\_prf\\_pufb\\{word-wrap:break-word;\\}.gsc\\_prf\\_pufo \\#gsc\\_prf\\_pufb\\{display:none;\\}\\#gsc\\_prf\\_e,.gsc\\_prf\\_ed \\#gsc\\_prf\\_i\\{display:none\\}.gsc\\_prf\\_ed \\#gsc\\_prf\\_e\\{display:block;max-width:400px\\}\\#gsc\\_prf\\_i,\\#gsc\\_prf\\_e,\\#gsc\\_prf\\_iv\\{margin:0 16px 0 166px;\\}.gs\\_el\\_sm \\#gsc\\_prf\\_i,.gs\\_el\\_sm \\#gsc\\_prf\\_e,.gs\\_el\\_sm \\#gsc\\_prf\\_iv\\{margin:0 8px 0 158px;\\}.gs\\_el\\_ph \\#gsc\\_prf\\_i,.gs\\_el\\_ph \\#gsc\\_prf\\_e\\{margin:0 8px 0 0;\\}.gs\\_el\\_ta \\#gsc\\_prf\\_i\\{margin:0 8px 0 108px;\\}.gs\\_el\\_ta \\#gsc\\_prf\\_e\\{margin:0 8px 0 83px;\\}\\#gsc\\_prf\\_ib\\{float:right;position:relative;white-space:nowrap;\\}.gs\\_el\\_ta \\#gsc\\_prf\\_ib,.gs\\_el\\_ph \\#gsc\\_prf\\_ib\\{position:absolute;top:-37px;left:0;width:200\\%;height:0;\\}.gs\\_el\\_ph \\#gsc\\_prf\\_ib\\{width:100\\%;\\}\\#gsc\\_prf\\_ibi,\\#gsc\\_prf\\_ibi .gs\\_ibl\\{padding-left:16px;\\}.gs\\_el\\_ta \\#gsc\\_prf\\_ibi,.gs\\_el\\_ph \\#gsc\\_prf\\_ibi\\{text-align:right;padding-left:0;margin-right:60px;\\}.gs\\_el\\_ph \\#gsc\\_prf\\_ibi\\{margin-right:52px;\\}.gs\\_el\\_ph \\#gsc\\_prf\\_ibi .gs\\_ibl\\{padding-left:8px;\\}\\#gsc\\_prf\\_in\\{font-size:24px;line-height:24px;padding:3px 0 7px 0;\\}.gs\\_el\\_ta \\#gsc\\_prf\\_in,.gs\\_el\\_ph \\#gsc\\_prf\\_in\\{padding:0 0 2px 0;\\}.gsc\\_prf\\_il\\{font-size:15px;line-height:18px;padding:1px 0;\\}\\#gsc\\_prf\\_iv\\{display:none;font-size:15px;line-height:18px;padding:1px 0;\\}.gs\\_el\\_ph \\#gsc\\_prf\\_iv\\{margin:16px 8px;clear:both;\\}.gsc\\_prf\\_why \\#gsc\\_prf\\_iv\\{display:block\\}\\#gsc\\_prf\\_iv li\\{margin:8px 0 0 0;\\}\\#gsc\\_prf\\_iv ul\\{margin:-8px 0 16px 16px;\\}\\#gsc\\_prf\\_iv button\\{margin-left:16px;\\}.gsc\\_prf\\_iev\\{padding:4px 0 8px 0;\\}.gsc\\_prf\\_iel\\{color:\\#777;\\}\\#gsc\\_prf\\_iv table\\{width:100\\%;\\}\\#gsc\\_prf\\_iv td\\{vertical-align:top;\\}.gsc\\_prf\\_el\\{color:\\#777;\\}.gsc\\_prf\\_ev\\{padding:4px 0 8px 0;\\}\\#gsc\\_prf\\_ep\\{padding:8px 0;\\}\\#gsc\\_prf\\_eb\\{padding:16px 0 32px 0;\\}\\#gsc\\_prf\\_eb button\\{margin-right:16px;\\}\\#gsc\\_fol\\_dd\\{top:29px;left:auto;right:0;text-align:left;\\}.gs\\_el\\_ph \\#gsc\\_fol\\_dd\\{min-width:240px;max-width:284px;right:-44px;\\}\\#gsc\\_fol\\_f,\\#gsc\\_fol\\_p\\{padding:16px\\}\\#gsc\\_fol\\_p\\{background:\\#ffc\\}\\#gsc\\_fol\\_ml\\{color:\\#777;padding-bottom:4px\\}\\#gsc\\_fol\\_cb\\{padding:8px 0\\}.gsc\\_fol\\_cr\\{margin:8px 0;white-space:normal\\}.gs\\_el\\_tc .gsc\\_fol\\_cr\\{margin:0\\}\\#gsc\\_fol\\_dd \\#gsc\\_fol\\_b\\{margin:0\\}\\#gsc\\_fol\\_dd \\#gsc\\_fol\\_x\\{margin:0 16px\\}\\#gsc\\_fol\\_p \\#gsc\\_fol\\_x\\{margin-right:0\\}\\#gsc\\_fol\\_ll\\{display:inline-block;padding:7px 0 8px 0;white-space:nowrap\\}\\#gsc\\_fol\\_hlp\\{margin-bottom:16px;white-space:normal;\\}.gs\\_el\\_ph \\#gsc\\_fol\\_dd \\#gsc\\_fol\\_b,.gs\\_el\\_ph \\#gsc\\_fol\\_dd \\#gsc\\_fol\\_x,.gs\\_el\\_ph \\#gsc\\_fol\\_ll\\{display:block;width:100\\%;margin:8px 0 0 0;text-align:center;\\}.gs\\_el\\_ph \\#gsc\\_fol\\_ll\\{background:\\#fcfcfc\\}\\#gsc\\_dd\\_exp-md,\\#gsc\\_dd\\_mor-md\\{top:29px;\\}.gs\\_el\\_ph \\#gsc\\_dd\\_exp-md\\{left:auto;right:12px;\\}\\#gsc\\_dd\\_mor-md\\{width:196px;white-space:normal;\\}.gs\\_el\\_ph \\#gsc\\_dd\\_mor-md\\{left:-84px;\\}\\#gsc\\_dd\\_mor-m,.gs\\_el\\_ph \\#gsc\\_dd\\_mor-s\\{display:block;\\}\\#gsc\\_dd\\_mor-s\\{display:none;border-top:1px solid \\#ebebeb;\\}\\#gsc\\_dd\\_mor-s .gsc\\_dd\\_mor-sel\\{color:\\#dd4b39;\\}\\#gsc\\_dd\\_mor-p\\{border-top:1px solid \\#ebebeb;padding:10px 44px 10px 16px;color:\\#777;\\}.gsc\\_art\\_sel \\#gsc\\_btn\\_add,.gsc\\_art\\_sel \\#gsc\\_dd\\_mor-w,.gsc\\_art\\_sel \\#gsc\\_a\\_nn,\\#gsc\\_btn\\_mer,\\#gsc\\_btn\\_del,\\#gsc\\_btn\\_expw\\{display:none;\\}\\#gsc\\_dd\\_mor-w,.gsc\\_art\\_sel \\#gsc\\_btn\\_mer,.gsc\\_art\\_sel \\#gsc\\_btn\\_del,.gsc\\_art\\_sel \\#gsc\\_btn\\_expw\\{position:relative;display:inline-block;\\}\\#gsc\\_a\\_t\\{width:100\\%;table-layout:fixed;\\}\\#gsc\\_a\\_tr0 th.gsc\\_a\\_x,\\#gsc\\_a\\_tr0 th.gsc\\_a\\_t,\\#gsc\\_a\\_tr0 th.gsc\\_a\\_c,\\#gsc\\_a\\_tr0 th.gsc\\_a\\_y\\{height:0;padding-top:0;padding-bottom:0;border:none;border-top:1px solid \\#ccc;\\}\\#gsc\\_a\\_trh\\{left:0;top:0;z-index:700;background:\\#f1f1f1;\\}th.gsc\\_a\\_x,th.gsc\\_a\\_t,th.gsc\\_a\\_c,th.gsc\\_a\\_y\\{box-sizing:border-box;background:\\#f1f1f1;\\}.gsc\\_a\\_x,.gsc\\_a\\_t,.gsc\\_a\\_c,.gsc\\_a\\_y,.gsc\\_a\\_e\\{font-weight:normal;padding:8px 16px;vertical-align:middle;text-align:right;border-bottom:1px solid \\#ccc;\\}.gs\\_el\\_sm .gsc\\_a\\_t,.gs\\_el\\_sm .gsc\\_a\\_c,.gs\\_el\\_sm .gsc\\_a\\_y\\{padding:8px 8px;\\}.gsc\\_a\\_x\\{padding:0;\\}th.gsc\\_a\\_x\\{width:41px;height:41px;text-align:left;\\}th.gsc\\_a\\_x .gs\\_ico\\{background-position:-134px 0;opacity:.55;display:block;margin-left:12px;\\}.gsc\\_a\\_t\\{text-align:left;\\}\\#gsc\\_a\\_ta,\\#gsc\\_a\\_nn\\{display:inline-block;vertical-align:middle;margin-right:16px;\\}.gs\\_el\\_ph \\#gsc\\_a\\_nn\\{display:none;\\}th.gsc\\_a\\_c\\{width:90px;\\}.gs\\_el\\_sm th.gsc\\_a\\_c\\{width:74px;\\}.gs\\_el\\_ph th.gsc\\_a\\_c\\{padding:0 8px;width:74px;word-wrap:break-word;\\}\\#gsc\\_a\\_ca\\{display:block;width:58px;\\}.gs\\_el\\_ph \\#gsc\\_a\\_ca\\{width:58px;\\}.gs\\_el\\_ph .gsc\\_art\\_sel \\#gsc\\_a\\_ca\\{display:none\\}td.gsc\\_a\\_c\\{padding:8px;\\}th.gsc\\_a\\_y\\{width:71px;\\}.gs\\_el\\_sm th.gsc\\_a\\_y\\{width:55px;\\}.gs\\_el\\_ph th.gsc\\_a\\_y,.gs\\_el\\_ph td.gsc\\_a\\_y\\{width:0;padding:0;\\}.gs\\_el\\_ph .gsc\\_a\\_h\\{display:none\\}@media print\\{\\#gs\\_top th.gsc\\_a\\_c\\{width:63pt;\\}\\#gs\\_top th.gsc\\_a\\_y\\{width:45pt;\\}\\}.gsc\\_a\\_e\\{padding:16px;text-align:center;\\}.gsc\\_a\\_a\\{padding:8px 0\\}.gsc\\_a\\_at\\{padding:8px 0;font-size:16px\\}.gsc\\_a\\_ac\\{padding:8px\\}a.gsc\\_a\\_acm\\{text-decoration:line-through\\}a.gsc\\_a\\_acm:hover,a.gs\\_a\\_acm:active\\{text-decoration:underline\\}.gsc\\_a\\_m\\{position:absolute\\}.gs\\_el\\_ph .gsc\\_a\\_m\\{display:block;position:static;\\}.gsc\\_a\\_am\\{font-size:24px;position:absolute;top:-12px;left:-8px;padding:8px 12px 4px 8px;\\}.gs\\_el\\_ph .gsc\\_a\\_am\\{display:inline-block;position:static;padding:6px 16px;margin-bottom:-6px;\\}\\#gsc\\_a\\_sp\\{margin-top:16px;height:25px;background:url('/intl/en/scholar/images/spinner.gif') no-repeat 50\\% 0\\%;padding-bottom:16px;border-bottom:1px solid \\#ccc;\\}\\#gsc\\_a\\_err\\{padding:28px 0;\\}.gsc\\_a\\_fix\\{position:fixed;\\}\\#gsc\\_lwp\\{margin:35px 0;text-align:center;\\}\\#gsc\\_bpf\\{display:inline-block;\\}\\#gsc\\_bpf\\_more\\{min-width:200px;margin:0 16px;\\}.gs\\_el\\_ph \\#gsc\\_bpf\\_more\\{margin:0;\\}\\#gsc\\_md\\_mopt,\\#gsc\\_md\\_cbyd,\\#gsc\\_md\\_cbym\\{width:600px;\\}.gs\\_el\\_ta \\#gsc\\_md\\_mopt,.gs\\_el\\_ta \\#gsc\\_md\\_cbyd,.gs\\_el\\_ta \\#gsc\\_md\\_cbym\\{width:500px;\\}.gs\\_el\\_ph \\#gsc\\_md\\_mopt,.gs\\_el\\_ph \\#gsc\\_md\\_cbyd,.gs\\_el\\_ph \\#gsc\\_md\\_cbym\\{width:80\\%;\\}\\#gsc\\_md\\_mopt .gs\\_md\\_prg,\\#gsc\\_md\\_cbyd .gs\\_md\\_prg,\\#gsc\\_md\\_cbym .gs\\_md\\_prg\\{margin:48px 0;\\}.gsc\\_mob\\_art\\{vertical-align:top;padding:8px 0;\\}.gsc\\_mob\\_cby\\{vertical-align:top;text-align:right;padding:8px 12px;\\}.gsc\\_mob\\_ttl,.gsc\\_mob\\_pub\\{display:block;\\}.gsc\\_mob\\_pub\\{color:\\#666;\\}.gsc\\_mob\\_cbym\\{text-decoration:line-through\\}.gsc\\_mob\\_cbm\\{font-size:24px;position:absolute;padding:4px 0 0 4px;line-height:16px;\\}@media print\\{\\#gs\\_top \\#gs\\_gb,\\#gs\\_top \\#gsc\\_nag,\\#gs\\_top \\#gsc\\_rsb\\_lg\\_m,\\#gs\\_top \\#gsc\\_rsb\\_lg,\\#gs\\_top \\#gsc\\_prf\\_e,\\#gs\\_top \\#gsc\\_prf\\_ib,\\#gs\\_top \\#gsc\\_prf\\_ip,\\#gs\\_top \\#gsc\\_prf\\_ivh,\\#gs\\_top \\#gsc\\_prf\\_puf,\\#gs\\_top \\#gsc\\_rsb\\_ssc,\\#gs\\_top \\#gsc\\_rsb\\_co,\\#gs\\_top \\#gsc\\_rsb\\_vc,\\#gs\\_top \\#gsc\\_g,\\#gs\\_top \\#gsc\\_btn\\_add,\\#gs\\_top \\#gsc\\_btn\\_mer, \\#gs\\_top \\#gsc\\_btn\\_del,\\#gs\\_top \\#gsc\\_btn\\_expw,\\#gs\\_top \\#gsc\\_dd\\_mor-w,\\#gs\\_top .gsc\\_a\\_x,\\#gs\\_top \\#gsc\\_lwp,\\#gs\\_top \\#gsc\\_ftr\\_h\\{display:none;\\}\\#gs\\_top,\\#gs\\_top \\#gsc\\_bdy,\\#gs\\_top \\#gsc\\_prf\\_w,\\#gs\\_top \\#gsc\\_prf,\\#gs\\_top \\#gsc\\_prf\\_pu,\\#gs\\_top \\#gsc\\_prf\\_i,\\#gs\\_top .gsc\\_rsb\\_s,\\#gs\\_top .gsc\\_lcl,\\#gs\\_top \\#gsc\\_rsb,\\#gs\\_top \\#gsc\\_a\\_t,\\#gs\\_top .gsc\\_prf\\_il,\\#gs\\_top \\#gsc\\_rsb\\_st\\{background:none;border:none;padding:0;margin:0;height:auto;width:auto;min-width:0;max-width:none;float:none;display:block;position:static;color:black;font-weight:normal;font-size:12pt;\\}\\#gs\\_top .gsc\\_a\\_ac,\\#gs\\_top .gsc\\_a\\_a,\\#gs\\_top \\#gsc\\_a\\_ca,\\#gs\\_top .gsc\\_a\\_at,\\#gs\\_top .gsc\\_rsb\\_sc1,\\#gs\\_top .gsc\\_rsb\\_sth,\\#gs\\_top .gsc\\_rsb\\_std,\\#gs\\_top \\#gsc\\_bdy .gsc\\_a\\_x,\\#gs\\_top \\#gsc\\_bdy .gsc\\_a\\_t,\\#gs\\_top \\#gsc\\_bdy .gsc\\_a\\_c,\\#gs\\_top \\#gsc\\_bdy .gsc\\_a\\_y,\\#gs\\_top \\#gsc\\_a\\_trh,\\#gs\\_top .gsc\\_a\\_m,\\#gs\\_top .gsc\\_a\\_am\\{color:black;font-weight:normal;font-size:12pt;padding:0;margin:0;background:none;border:none;\\}\\#gs\\_top .gsc\\_a\\_ac\\{font-size:10pt\\}\\#gs\\_top \\#gsc\\_prf\\_pu\\{float:left;width:80pt;text-align:center;margin:0 7pt 7pt 0;\\}\\#gs\\_top \\#gsc\\_prf\\_i\\{margin:0 7pt 7pt 0;\\}\\#gs\\_top \\#gsc\\_prf\\_in\\{font-size:20pt;line-height:20pt;padding:0 0 4pt 0;\\}\\#gs\\_top \\#gsc\\_prf\\_w\\{float:left;width:64\\%;\\}\\#gs\\_top \\#gsc\\_rsb\\{float:right;width:35\\%;\\}\\#gs\\_top \\#gsc\\_rsb\\_st\\{display:table;width:100\\%;\\}\\#gs\\_top \\#gsc\\_rsb\\_t\\{display:block;text-align:right;line-height:20pt;padding-bottom:5pt;font-weight:bold;\\}\\#gs\\_top .gsc\\_rsb\\_sc1,\\#gs\\_top .gsc\\_rsb\\_sth,\\#gs\\_top .gsc\\_rsb\\_std\\{font-size:10pt;\\}\\#gs\\_top th.gsc\\_rsb\\_sc1,\\#gs\\_top .gsc\\_rsb\\_sth\\{border-bottom:1pt solid \\#ccc;\\}\\#gs\\_top .gsc\\_rsb\\_sth\\{padding-left:14pt;\\}\\#gs\\_top \\#gsc\\_bdy .gsc\\_a\\_x,\\#gs\\_top \\#gsc\\_bdy .gsc\\_a\\_t,\\#gs\\_top \\#gsc\\_bdy .gsc\\_a\\_c,\\#gs\\_top \\#gsc\\_bdy .gsc\\_a\\_y,\\#gs\\_top \\#gsc\\_a\\_trh\\{padding:6pt 0;\\}\\#gs\\_top \\#gsc\\_a\\_trh\\{border-bottom:1pt solid \\#ccc;\\}\\#gs\\_top \\#gsc\\_a\\_ca\\{display:block;width:auto;\\}\\#gs\\_top \\#gsc\\_a\\_ta,\\#gs\\_top \\#gsc\\_a\\_nn\\{display:inline-block;vertical-align:middle;margin-right:12pt;\\}\\#gs\\_top .gsc\\_a\\_h\\{display:inline;font-size:10pt;\\}\\#gs\\_top .gsc\\_a\\_at,\\#gs\\_top .gsc\\_prf\\_ila\\{color:blue;\\}\\#gs\\_top .gsc\\_a\\_m,\\#gs\\_top .gsc\\_a\\_am\\{display:inline;position:absolute;\\}\\#gs\\_top .gsc\\_a\\_am\\{padding: 11pt 0 0 8pt;\\}\\#gs\\_top .gsc\\_a\\_fix\\{position:static\\}\\#gs\\_top .gsc\\_a\\_t .gs\\_gray\\{color:black;font-size:10pt;\\}\\#gs\\_top \\#gsc\\_dscl\\{margin:12pt 0 0 0;color:black;\\}\\}</style><script>var gs\\_ie\\_ver=100;</script><!--{[}if lte IE 8{]}><script>gs\\_ie\\_ver=8;</script><!{[}endif{]}--><script>function gs\\_id(i)\\{return document.getElementById(i)\\}function gs\\_ch(e,t)\\{return e?e.getElementsByTagName(t):{[}{]}\\}function gs\\_ech(e)\\{return e.children\\textbar{}\\textbar{}e.childNodes\\}function gs\\_atr(e,a)\\{return e.getAttribute(a)\\}function gs\\_hatr(e,a)\\{var n=e.getAttributeNode(a);return n\\&\\&n.specified\\}function gs\\_xatr(e,a,v)\\{e.setAttribute(a,v)\\}function gs\\_uatr(e,a)\\{e.removeAttribute(a)\\}function gs\\_catr(e,a,v)\\{gs\\_hatr(e,a)\\&\\&gs\\_xatr(e,a,v)\\}function gs\\_ctai(e,v)\\{gs\\_hatr(e,\\textbackslash{}\"tabindex\\textbackslash{}\")\\&\\&(e.tabIndex=v)\\}function gs\\_uas(s)\\{return (navigator.userAgent\\textbar{}\\textbar{}\\textbackslash{}\"\\textbackslash{}\").indexOf(s)>=0\\}var gs\\_is\\_tc=/{[}?\\&{]}tc=({[}01{]})/.exec(window.location.search\\textbar{}\\textbar{}\\textbackslash{}\"\\textbackslash{}\"),gs\\_is\\_ios=gs\\_uas(\\textbackslash{}\"iPhone\\textbackslash{}\")\\textbar{}\\textbar{}gs\\_uas(\\textbackslash{}\"iPod\\textbackslash{}\")\\textbar{}\\textbar{}gs\\_uas(\\textbackslash{}\"iPad\\textbackslash{}\");if(gs\\_is\\_tc)\\{gs\\_is\\_tc=parseInt(gs\\_is\\_tc{[}1{]});\\}else if(window.matchMedia\\&\\&matchMedia(\\textbackslash{}\"(pointer),(-moz-touch-enabled),(-moz-touch-enabled:0)\\textbackslash{}\").matches)\\{gs\\_is\\_tc=matchMedia(\\textbackslash{}\"(pointer:coarse),(-moz-touch-enabled)\\textbackslash{}\").matches;\\}else\\{gs\\_is\\_tc=0\\textbar{}\\textbar{}('ontouchstart' in window)\\textbar{}\\textbar{}(navigator.msMaxTouchPoints\\textbar{}\\textbar{}0)>0;\\}var gs\\_re\\_sp=/\\textbackslash{}s+/,gs\\_re\\_sel=/(?:\\textasciicircum{}\\textbar{}\\textbackslash{}s)gs\\_sel(?!\\textbackslash{}S)/g,gs\\_re\\_par=/(?:\\textasciicircum{}\\textbar{}\\textbackslash{}s)gs\\_par(?!\\textbackslash{}S)/g,gs\\_re\\_dis=/(?:\\textasciicircum{}\\textbar{}\\textbackslash{}s)gs\\_dis(?!\\textbackslash{}S)/g,gs\\_re\\_vis=/(?:\\textasciicircum{}\\textbar{}\\textbackslash{}s)gs\\_vis(?!\\textbackslash{}S)/g,gs\\_re\\_anm=/(?:\\textasciicircum{}\\textbar{}\\textbackslash{}s)gs\\_anm(?!\\textbackslash{}S)/g,gs\\_re\\_bsp=/(?:\\textasciicircum{}\\textbar{}\\textbackslash{}s)gs\\_bsp(?!\\textbackslash{}S)/g,gs\\_re\\_err=/(?:\\textasciicircum{}\\textbar{}\\textbackslash{}s)gs\\_err(?!\\textbackslash{}S)/g,gs\\_re\\_nscl=/(?:\\textasciicircum{}\\textbar{}\\textbackslash{}s)gs\\_nscl(?!\\textbackslash{}S)/g,gs\\_re\\_cb=/(?:\\textasciicircum{}\\textbar{}\\textbackslash{}s)gs\\_in\\_cb(?!\\textbackslash{}S)/,gs\\_re\\_ra=/(?:\\textasciicircum{}\\textbar{}\\textbackslash{}s)gs\\_in\\_ra(?!\\textbackslash{}S)/,gs\\_re\\_qsp=/{[}\\textbackslash{}s\\textbackslash{}u0000-\\textbackslash{}u002f\\textbackslash{}u003a-\\textbackslash{}u0040\\textbackslash{}u005b-\\textbackslash{}u0060\\textbackslash{}u007b-\\textbackslash{}u00bf\\textbackslash{}u2000-\\textbackslash{}u206f\\textbackslash{}u2e00-\\textbackslash{}u2e42\\textbackslash{}u3000-\\textbackslash{}u303f\\textbackslash{}uff00-\\textbackslash{}uff0f\\textbackslash{}uff1a-\\textbackslash{}uff20\\textbackslash{}uff3b-\\textbackslash{}uff40\\textbackslash{}uff5b-\\textbackslash{}uff65{]}+/;function gs\\_xcls(e,c)\\{gs\\_scls(e,e.className+\\textbackslash{}\" \\textbackslash{}\"+c)\\}function gs\\_ucls(e,r)\\{gs\\_scls(e,e.className.replace(r,\\textbackslash{}\"\\textbackslash{}\"))\\}function gs\\_scls(e,c)\\{return e.className!=c\\&\\&(e.className=c,true)\\}function gs\\_usel(e)\\{gs\\_ucls(e,gs\\_re\\_sel)\\}function gs\\_xsel(e)\\{gs\\_usel(e);gs\\_xcls(e,\\textbackslash{}\"gs\\_sel\\textbackslash{}\")\\}function gs\\_tsel(e)\\{return e.className.match(gs\\_re\\_sel)\\}function gs\\_isel(e)\\{(gs\\_tsel(e)?gs\\_usel:gs\\_xsel)(e)\\}function gs\\_upar(e)\\{gs\\_ucls(e,gs\\_re\\_par)\\}function gs\\_xpar(e)\\{gs\\_upar(e);gs\\_xcls(e,\\textbackslash{}\"gs\\_par\\textbackslash{}\")\\}function gs\\_tpar(e)\\{return e.className.match(gs\\_re\\_par)\\}function gs\\_udis(e)\\{gs\\_ucls(e,gs\\_re\\_dis)\\}function gs\\_xdis(e)\\{gs\\_udis(e);gs\\_xcls(e,\\textbackslash{}\"gs\\_dis\\textbackslash{}\")\\}function gs\\_tdis(e)\\{return e.className.match(gs\\_re\\_dis)\\}function gs\\_uvis(e)\\{gs\\_ucls(e,gs\\_re\\_vis)\\}function gs\\_xvis(e)\\{gs\\_uvis(e);gs\\_xcls(e,\\textbackslash{}\"gs\\_vis\\textbackslash{}\")\\}function gs\\_uanm(e)\\{gs\\_ucls(e,gs\\_re\\_anm)\\}function gs\\_xanm(e)\\{gs\\_uanm(e);gs\\_xcls(e,\\textbackslash{}\"gs\\_anm\\textbackslash{}\")\\}function gs\\_ubsp(e)\\{gs\\_ucls(e,gs\\_re\\_bsp)\\}function gs\\_xbsp(e)\\{gs\\_ubsp(e);gs\\_xcls(e,\\textbackslash{}\"gs\\_bsp\\textbackslash{}\")\\}function gs\\_uerr(e)\\{gs\\_ucls(e,gs\\_re\\_err)\\}function gs\\_xerr(e)\\{gs\\_uerr(e);gs\\_xcls(e,\\textbackslash{}\"gs\\_err\\textbackslash{}\")\\}function gs\\_unscl(e)\\{gs\\_ucls(e,gs\\_re\\_nscl)\\}function gs\\_xnscl(e)\\{gs\\_unscl(e);gs\\_xcls(e,\\textbackslash{}\"gs\\_nscl\\textbackslash{}\")\\}var gs\\_gcs=window.getComputedStyle?function(e)\\{return getComputedStyle(e,null)\\}:function(e)\\{return e.currentStyle\\};var gs\\_ctd=function()\\{var s=document.documentElement.style,p,l={[}'OT','MozT','webkitT','t'{]},i=l.length;function f(s)\\{return Math.max.apply(null,(s\\textbar{}\\textbar{}\\textbackslash{}\"\\textbackslash{}\").split(\\textbackslash{}\",\\textbackslash{}\").map(parseFloat))\\textbar{}\\textbar{}0;\\}do\\{p=l{[}--i{]}+'ransition'\\}while(i\\&\\&!(p in s));return i?function(e)\\{var s=gs\\_gcs(e);return f(s{[}p+\\textbackslash{}\"Delay\\textbackslash{}\"{]})+f(s{[}p+\\textbackslash{}\"Duration\\textbackslash{}\"{]});\\}:function()\\{return 0\\};\\}();var gs\\_tmh=function()\\{var X,P=\\{\\};return \\{a:function(e)\\{var t=pageYOffset+e.getBoundingClientRect().bottom;X=X\\textbar{}\\textbar{}gs\\_id(\\textbackslash{}\"gs\\_top\\textbackslash{}\");if(e.id)\\{P{[}e.id{]}=1;t>X.offsetHeight\\&\\&(X.style.minHeight=t+\\textbackslash{}\"px\\textbackslash{}\");\\}\\},r:function(e)\\{if(e.id\\&\\&X)\\{delete P{[}e.id{]};if(!Object.keys(P).length)\\{X.style.minHeight=\\textbackslash{}\"\\textbackslash{}\";\\}\\}\\}\\}\\}();var gs\\_vis=function()\\{return function(e,v,c)\\{var s=e\\&\\&e.style,h,f;if(s)\\{gs\\_catr(e,\\textbackslash{}\"aria-hidden\\textbackslash{}\",v?\\textbackslash{}\"false\\textbackslash{}\":\\textbackslash{}\"true\\textbackslash{}\");if(v)\\{s.display=v===2?\\textbackslash{}\"inline\\textbackslash{}\":\\textbackslash{}\"block\\textbackslash{}\";gs\\_ctd(e);gs\\_xvis(e);f=gs\\_ctd(e);gs\\_uas(\\textbackslash{}\"AppleWebKit\\textbackslash{}\")\\&\\&f\\&\\&gs\\_evt\\_one(e,\\textbackslash{}\"transitionend webkitTransitionEnd\\textbackslash{}\",function()\\{gs\\_tmh.a(e);\\});c\\&\\&(f?setTimeout(c,1000*f):c());\\}else\\{gs\\_uvis(e);h=function()\\{s.display=\\textbackslash{}\"none\\textbackslash{}\";gs\\_tmh.r(e);c\\&\\&c();\\};f=gs\\_ctd(e);f?setTimeout(h,1000*f):h();\\}\\}\\};\\}();function gs\\_visi(i,v,c)\\{gs\\_vis(gs\\_id(i),v,c)\\}function gs\\_sel\\_clk(p,t)\\{var l=gs\\_ch(gs\\_id(p),\\textbackslash{}\"li\\textbackslash{}\"),i=l.length,c,x,s;while(i--)\\{if((c=gs\\_ch(x=l{[}i{]},\\textbackslash{}\"a\\textbackslash{}\")).length)\\{s=c{[}0{]}===t;(s?gs\\_xsel:gs\\_usel)(x);gs\\_catr(c{[}0{]},\\textbackslash{}\"aria-selected\\textbackslash{}\",s?\\textbackslash{}\"true\\textbackslash{}\":\\textbackslash{}\"false\\textbackslash{}\");\\}\\}return false;\\}function gs\\_efl(f)\\{if(typeof f==\\textbackslash{}\"string\\textbackslash{}\")\\{var c=f.charAt(0),x=f.slice(1);if(c===\\textbackslash{}\"\\#\\textbackslash{}\")f=function(t)\\{return t.id===x\\};else if(c===\\textbackslash{}\".\\textbackslash{}\")f=function(t)\\{return (\\textbackslash{}\" \\textbackslash{}\"+t.className+\\textbackslash{}\" \\textbackslash{}\").indexOf(\\textbackslash{}\" \\textbackslash{}\"+x+\\textbackslash{}\" \\textbackslash{}\")>=0\\};else\\{c=f.toLowerCase();f=function(t)\\{return t.nodeName.toLowerCase()===c\\};\\}\\}return f;\\}function gs\\_dfcn(d)\\{return (d?\\textbackslash{}\"last\\textbackslash{}\":\\textbackslash{}\"first\\textbackslash{}\")+\\textbackslash{}\"Child\\textbackslash{}\"\\}function gs\\_dnsn(d)\\{return (d?\\textbackslash{}\"previous\\textbackslash{}\":\\textbackslash{}\"next\\textbackslash{}\")+\\textbackslash{}\"Sibling\\textbackslash{}\"\\}var gs\\_trv=function()\\{function h(r,x,f,s,n,c)\\{var t,p;while(x)\\{if(x.nodeType===1)\\{if(f(x))\\{if(c)return x;\\}else\\{for(p=x{[}s{]};p;p=p{[}n{]})if(t=h(p,p,f,s,n,1))return t;\\}\\}c=1;while(1)\\{if(x===r)return;p=x.parentNode;if(x=x{[}n{]})break;x=p;\\}\\}\\}return function(r,x,f,d)\\{return h(r,x,gs\\_efl(f),gs\\_dfcn(d),gs\\_dnsn(d))\\};\\}();function gs\\_bind()\\{var a=Array.prototype.slice.call(arguments),f=a.shift();return function()\\{return f.apply(null,a.concat(Array.prototype.slice.call(arguments)))\\};\\}function gs\\_evt1(e,n,f)\\{e.addEventListener(n,f,false)\\}function gs\\_uevt1(e,n,f)\\{e.removeEventListener(n,f,false)\\}if(!window.addEventListener)\\{gs\\_evt1=function(e,n,f)\\{e.attachEvent(\\textbackslash{}\"on\\textbackslash{}\"+n,f)\\};gs\\_uevt1=function(e,n,f)\\{e.detachEvent(\\textbackslash{}\"on\\textbackslash{}\"+n,f)\\};\\}function gs\\_evtX(e,n,f,w)\\{var i,a;typeof n===\\textbackslash{}\"string\\textbackslash{}\"\\&\\&(n=n.split(\\textbackslash{}\" \\textbackslash{}\"));for(i=n.length;i--;)(a=n{[}i{]})\\&\\&w(e,a,f);\\}function gs\\_evt(e,n,f)\\{gs\\_evtX(e,n,f,gs\\_evt1)\\}function gs\\_uevt(e,n,f)\\{gs\\_evtX(e,n,f,gs\\_uevt1)\\}function gs\\_evt\\_one(e,n,f)\\{function g(E)\\{gs\\_uevt(e,n,g);f(E);\\}gs\\_evt(e,n,g);\\}function gs\\_evt\\_all(l,n,f)\\{for(var i=l.length;i--;)\\{gs\\_evt(l{[}i{]},n,gs\\_bind(f,l{[}i{]}))\\}\\}function gs\\_evt\\_dlg(p,c,n,f)\\{p!==c\\&\\&(c=gs\\_efl(c));gs\\_evt(p,n,p===c?function(e)\\{f(p,e)\\}:function(e)\\{var t=gs\\_evt\\_tgt(e);while(t)\\{if(c(t))return f(t,e);if(t===p)return;t=t.parentNode;\\}\\});\\}function gs\\_evt\\_sms(v)\\{var L={[}{]},l={[}\\textbackslash{}\"mousedown\\textbackslash{}\",\\textbackslash{}\"click\\textbackslash{}\"{]},i=l.length;function s(e)\\{for(var l=L,n=l.length,i=0,x=e.clientX,y=e.clientY;i<n;i+=2)\\{if(Math.abs(x-l{[}i{]})<10\\&\\&Math.abs(y-l{[}i+1{]})<10)\\{gs\\_evt\\_ntr(e);break;\\}\\}\\}while(i--)document.addEventListener(l{[}i{]},s,true);gs\\_evt\\_sms=function(e)\\{var l=e.changedTouches\\textbar{}\\textbar{}{[}{]},h=l{[}0{]}\\textbar{}\\textbar{}\\{\\};L.push(h.clientX,h.clientY);setTimeout(function()\\{L.splice(0,2)\\},2000);\\};gs\\_evt\\_sms(v);v=0;\\}function gs\\_evt\\_clk(e,f,w,k)\\{return gs\\_evt\\_dlg\\_clk(e,e,function(t,e)\\{f(e)\\},w,k);\\}function gs\\_evt\\_dlg\\_clk(p,c,f,w,k)\\{k=\\textbackslash{}\",\\textbackslash{}\"+(k\\textbar{}\\textbar{}{[}13,32{]}).join(\\textbackslash{}\",\\textbackslash{}\")+\\textbackslash{}\",\\textbackslash{}\";return gs\\_evt\\_dlg\\_xclk(p,c,function(t,e)\\{if(e.type==\\textbackslash{}\"keydown\\textbackslash{}\")\\{if(k.indexOf(\\textbackslash{}\",\\textbackslash{}\"+e.keyCode+\\textbackslash{}\",\\textbackslash{}\")<0)return;gs\\_evt\\_ntr(e);\\}f(t,e);\\},w);\\}function gs\\_evt\\_xclk(e,f,w)\\{return gs\\_evt\\_dlg\\_xclk(e,e,function(t,e)\\{f(e)\\},w);\\}function gs\\_evt\\_dlg\\_xclk(p,c,f,w)\\{var T,S=0,X=0,Y=0,O=0,V=0;function u(t,e)\\{var n=e.type,h,l;if(t!==T)\\{T=t;S=0;\\}if(!gs\\_evt\\_spk(e))\\{if(n===\\textbackslash{}\"mousedown\\textbackslash{}\")\\{if(w!==2)return S=0;S=1;\\}else if(n===\\textbackslash{}\"click\\textbackslash{}\")\\{if(S)\\{gs\\_evt\\_ntr(e);return S=0;\\}\\}else if(n===\\textbackslash{}\"touchstart\\textbackslash{}\"\\&\\&w)\\{if(e.timeStamp-V<200)\\{gs\\_evt\\_ntr(e);return S=0;\\}if(w===2)\\{S=0;\\}else\\{if((l=e.touches).length!==1)return S=-3;h=l{[}0{]};X=h.pageX;Y=h.pageY;O=pageYOffset;return S=3;\\}\\}else if(n===\\textbackslash{}\"touchcancel\\textbackslash{}\")\\{return S=0;\\}else if(n===\\textbackslash{}\"touchend\\textbackslash{}\"\\&\\&w)\\{gs\\_evt\\_sms(e);V=e.timeStamp;if(w===2)\\{gs\\_evt\\_ntr(e);return S=0;\\}if(S!==3\\textbar{}\\textbar{}(l=e.changedTouches).length!==1\\textbar{}\\textbar{}Math.abs(X-(h=l{[}0{]}).pageX)>10\\textbar{}\\textbar{}Math.abs(Y-h.pageY)>10\\textbar{}\\textbar{}Math.abs(O-pageYOffset)>1)\\{return S=(e.touches.length?-4:0);\\}S=0;\\}else if(n===\\textbackslash{}\"keydown\\textbackslash{}\")\\{f(t,e);return;\\}else if(n===\\textbackslash{}\"keyup\\textbackslash{}\")\\{e.keyCode===32\\&\\&gs\\_evt\\_pdf(e);return;\\}else\\{return\\}gs\\_evt\\_ntr(e);f(t,e);\\}\\}gs\\_evt\\_dlg(p,c,{[}\\textbackslash{}\"keydown\\textbackslash{}\",\\textbackslash{}\"keyup\\textbackslash{}\",\\textbackslash{}\"click\\textbackslash{}\"{]}.concat(w?{[}\\textbackslash{}\"mousedown\\textbackslash{}\"{]}.concat((w===2?1:0)?{[}\\textbackslash{}\"touchstart\\textbackslash{}\",\\textbackslash{}\"touchend\\textbackslash{}\",\\textbackslash{}\"touchcancel\\textbackslash{}\"{]}:{[}{]}):{[}{]}),u);return u;\\}function gs\\_evt\\_inp(e,f)\\{gs\\_evt(e,{[}\\textbackslash{}\"input\\textbackslash{}\",\\textbackslash{}\"keyup\\textbackslash{}\",\\textbackslash{}\"cut\\textbackslash{}\",\\textbackslash{}\"paste\\textbackslash{}\",\\textbackslash{}\"change\\textbackslash{}\",\\textbackslash{}\"gs-change\\textbackslash{}\"{]},function()\\{setTimeout(f,0)\\});\\}function gs\\_evt\\_fcs(e,f)\\{e.addEventListener(\\textbackslash{}\"focus\\textbackslash{}\",f,true)\\}function gs\\_evt\\_blr(e,f)\\{e.addEventListener(\\textbackslash{}\"blur\\textbackslash{}\",f,true)\\}if(\\textbackslash{}\"onfocusin\\textbackslash{}\" in document)\\{gs\\_evt\\_fcs=function(e,f)\\{gs\\_evt(e,\\textbackslash{}\"focusin\\textbackslash{}\",f)\\};gs\\_evt\\_blr=function(e,f)\\{gs\\_evt(e,\\textbackslash{}\"focusout\\textbackslash{}\",f)\\};\\}function gs\\_evt\\_stp(e)\\{e.cancelBubble=true;e.stopPropagation\\&\\&e.stopPropagation();return false;\\}function gs\\_evt\\_pdf(e)\\{e.returnValue=false;e.preventDefault\\&\\&e.preventDefault();\\}function gs\\_evt\\_ntr(e)\\{gs\\_evt\\_stp(e);gs\\_evt\\_pdf(e);\\}function gs\\_evt\\_tgt(e)\\{var t=e.target\\textbar{}\\textbar{}e.srcElement;t\\&\\&t.nodeType===3\\&\\&(t=t.parentNode);return t;\\}function gs\\_evt\\_spk(e)\\{return (e.ctrlKey?1:0)\\textbar{}(e.altKey?2:0)\\textbar{}(e.metaKey?4:0)\\textbar{}(e.shiftKey?8:0);\\}function gs\\_evt\\_crt(d,t)\\{if(document.createEvent)\\{var e=document.createEvent('Event');e.initEvent(t,!0,!0);d.dispatchEvent(e);\\}\\}function gs\\_tfcs(t)\\{if(!gs\\_is\\_tc\\textbar{}\\textbar{}(gs\\_uas(\\textbackslash{}\"Windows\\textbackslash{}\")\\&\\&!gs\\_uas(\\textbackslash{}\"Windows Phone\\textbackslash{}\")))\\{t.focus();t.value=t.value;\\}\\}var gs\\_raf=window.requestAnimationFrame\\textbar{}\\textbar{}window.webkitRequestAnimationFrame\\textbar{}\\textbar{}window.mozRequestAnimationFrame\\textbar{}\\textbar{}function(c)\\{setTimeout(c,33)\\};var gs\\_evt\\_rdy=function()\\{var d=document,l={[}{]},h=function()\\{var n=l.length,i=0;while(i<n)l{[}i++{]}();l={[}{]};\\};gs\\_evt(d,\\textbackslash{}\"DOMContentLoaded\\textbackslash{}\",h);gs\\_evt(d,\\textbackslash{}\"readystatechange\\textbackslash{}\",function()\\{var s=d.readyState;(s==\\textbackslash{}\"complete\\textbackslash{}\"\\textbar{}\\textbar{}(s==\\textbackslash{}\"interactive\\textbackslash{}\"\\&\\&gs\\_id(\\textbackslash{}\"gs\\_rdy\\textbackslash{}\")))\\&\\&h();\\});gs\\_evt(window,\\textbackslash{}\"load\\textbackslash{}\",h);return function(f)\\{l.push(f)\\};\\}();function gs\\_evt\\_raf(e,n)\\{var l={[}{]},t=0,h=function()\\{var x=l,n=x.length,i=0;while(i<n)x{[}i++{]}();t=0;\\};return function(f)\\{l.length\\textbar{}\\textbar{}gs\\_evt(e,n,function()\\{!t++\\&\\&gs\\_raf(h)\\});l.push(f);\\};\\}var gs\\_evt\\_wsc=gs\\_evt\\_raf(window,\\textbackslash{}\"scroll\\textbackslash{}\"),gs\\_evt\\_wre=gs\\_evt\\_raf(window,\\textbackslash{}\"resize\\textbackslash{}\");var gs\\_md\\_st={[}{]},gs\\_md\\_lv=\\{\\},gs\\_md\\_fc=\\{\\},gs\\_md\\_if,gs\\_md\\_is=0;function gs\\_md\\_ifc(d,f)\\{gs\\_md\\_fc{[}d{]}=f\\}function gs\\_md\\_sif()\\{gs\\_md\\_if=1;setTimeout(function()\\{gs\\_md\\_if=0\\},0);\\}function gs\\_md\\_plv(n)\\{var l=gs\\_md\\_lv,x=0;while(n\\&\\&!x)\\{x=l{[}n.id{]}\\textbar{}\\textbar{}0;n=n.parentNode;\\}return x;\\}gs\\_evt(document,\\textbackslash{}\"click\\textbackslash{}\",function(e)\\{var m=gs\\_md\\_st.length;if(m\\&\\&!gs\\_evt\\_spk(e)\\&\\&m>gs\\_md\\_plv(gs\\_evt\\_tgt(e)))\\{(gs\\_md\\_st.pop())();gs\\_evt\\_pdf(e);\\}\\});gs\\_evt(document,\\textbackslash{}\"keydown\\textbackslash{}\",function(e)\\{e.keyCode==27\\&\\&!gs\\_evt\\_spk(e)\\&\\&gs\\_md\\_st.length\\&\\&(gs\\_md\\_st.pop())();\\});gs\\_evt(document,\\textbackslash{}\"selectstart\\textbackslash{}\",function(e)\\{gs\\_md\\_is\\&\\&gs\\_evt\\_pdf(e)\\});gs\\_evt\\_fcs(document,function(e)\\{var l=gs\\_md\\_lv,m=gs\\_md\\_st.length,x,k,v,d;if(m\\&\\&!gs\\_md\\_if)\\{x=gs\\_md\\_plv(gs\\_evt\\_tgt(e));while(x<m)\\{v=0;for(k in l)l.hasOwnProperty(k)\\&\\&l{[}k{]}>v\\&\\&(v=l{[}d=k{]});if(v=gs\\_md\\_fc{[}d{]})\\{gs\\_evt\\_stp(e);gs\\_id(v).focus();break;\\}else\\{(gs\\_md\\_st.pop())(1);--m;!gs\\_md\\_is++\\&\\&setTimeout(function()\\{gs\\_md\\_is=0\\},1000);\\}\\}\\}\\});function gs\\_md\\_cls(d,e)\\{var x=gs\\_md\\_lv{[}d{]}\\textbar{}\\textbar{}1e6;while(gs\\_md\\_st.length>=x)(gs\\_md\\_st.pop())();return gs\\_evt\\_stp(e);\\}function gs\\_md\\_shw(d,e,o,c)\\{if(!gs\\_md\\_lv{[}d{]})\\{var x=gs\\_md\\_plv(gs\\_id(d));while(gs\\_md\\_st.length>x)(gs\\_md\\_st.pop())();o\\&\\&o();gs\\_md\\_st.push(function(u)\\{gs\\_md\\_lv{[}d{]}=0;c\\&\\&c(u);\\});gs\\_md\\_lv{[}d{]}=gs\\_md\\_st.length;return gs\\_evt\\_stp(e);\\}\\}function gs\\_md\\_opn(d,e,c,z)\\{var a=document.activeElement;return gs\\_md\\_shw(d,e,gs\\_bind(gs\\_visi,d,1),function(u)\\{gs\\_visi(d,0,z);try\\{u\\textbar{}\\textbar{}a.focus()\\}catch(\\_)\\{\\}c\\&\\&c(u);\\});\\}function gs\\_evt\\_md\\_mnu(d,b,f,a,w)\\{var O,X;d=gs\\_id(d);b=gs\\_id(b);f=f?gs\\_efl(f):function(t)\\{return (gs\\_hatr(t,\\textbackslash{}\"data-a\\textbackslash{}\")\\textbar{}\\textbar{}t.nodeName===\\textbackslash{}\"A\\textbackslash{}\"\\&\\&t.href)\\&\\&t.offsetWidth;\\};a=a\\textbar{}\\textbar{}function(t)\\{var c=gs\\_atr(t,\\textbackslash{}\"data-a\\textbackslash{}\");c?eval(c):t.nodeName===\\textbackslash{}\"A\\textbackslash{}\"\\&\\&t.href\\&\\&(location=t.href);\\};function u(e)\\{if(e.type==\\textbackslash{}\"keydown\\textbackslash{}\")\\{var k=e.keyCode;if(k==38\\textbar{}\\textbar{}k==40)\\{if(O)\\{try\\{gs\\_trv(d,d,f,k==38).focus()\\}catch(\\_)\\{\\}gs\\_evt\\_ntr(e);return;\\}\\}else if(k!=13\\&\\&k!=32)\\{return;\\}gs\\_evt\\_pdf(e);\\}if(O)\\{gs\\_md\\_cls(d.id,e);\\}else\\{gs\\_md\\_sif();O=1;gs\\_xsel(b);gs\\_md\\_opn(d.id,e,function()\\{O=0;gs\\_usel(b);try\\{X.blur()\\}catch(\\_)\\{\\}\\});w\\&\\&w();\\}\\}function c(x,r)\\{var p=x.parentNode,c=gs\\_ech(p),i=c.length,l=\\textbackslash{}\"offsetLeft\\textbackslash{}\";if(p!==d)\\{while(c{[}--i{]}!==x);p=p{[}gs\\_dnsn(r){]}\\textbar{}\\textbar{}p.parentNode{[}gs\\_dfcn(r){]};c=gs\\_ech(p);if(i=Math.min(i+1,c.length))\\{p=c{[}i-1{]};if(p.nodeType==1\\&\\&f(p)\\&\\&p{[}l{]}!=x{[}l{]})return p;\\}\\}\\}function g(t,e)\\{function m(x)\\{if(x)\\{gs\\_evt\\_ntr(e);x.focus();\\}\\}if(O)\\{if(e.type==\\textbackslash{}\"keydown\\textbackslash{}\")\\{var k=e.keyCode;if(k==13\\textbar{}\\textbar{}k==32)\\{\\}else\\{if(k==38\\textbar{}\\textbar{}k==40)\\{m(gs\\_trv(d,t,f,k==38)\\textbar{}\\textbar{}gs\\_trv(d,d,f,k==38));\\}else if(k==37\\textbar{}\\textbar{}k==39)\\{m(c(t,k==37));\\}return;\\}\\}gs\\_md\\_cls(d.id,e);gs\\_evt\\_pdf(e);gs\\_md\\_sif();a(t);\\}\\}gs\\_evt\\_xclk(b,u,2);gs\\_evt\\_fcs(d,function(e)\\{var x=gs\\_evt\\_tgt(e);if(x\\&\\&f(x))\\{gs\\_ctai(x,0);X=x;\\}\\});gs\\_evt\\_blr(d,function(e)\\{var x=gs\\_evt\\_tgt(e);if(x\\&\\&f(x))\\{gs\\_ctai(x,-1);X=0;\\}\\});gs\\_evt\\_dlg\\_xclk(d,f,g,1);return u;\\}function gs\\_evt\\_md\\_sel(d,b,h,c,s,u)\\{h=gs\\_id(h);c=gs\\_id(c);s=gs\\_id(s);return gs\\_evt\\_md\\_mnu(d,b,function(t)\\{return gs\\_hatr(t,\\textbackslash{}\"data-v\\textbackslash{}\")\\},function(t)\\{h.innerHTML=t.innerHTML;c.value=gs\\_atr(t,\\textbackslash{}\"data-v\\textbackslash{}\");if(t!==s)\\{gs\\_usel(s);gs\\_uatr(s,\\textbackslash{}\"aria-selected\\textbackslash{}\");gs\\_xsel(s=t);gs\\_xatr(s,\\textbackslash{}\"aria-selected\\textbackslash{}\",\\textbackslash{}\"true\\textbackslash{}\");\\}gs\\_evt\\_crt(c,\\textbackslash{}\"gs-change\\textbackslash{}\");u\\&\\&u();\\},function()\\{s.focus()\\});\\}function gs\\_xhr()\\{if(window.XMLHttpRequest)return new XMLHttpRequest();var c={[}\\textbackslash{}\"Microsoft.XMLHTTP\\textbackslash{}\",\\textbackslash{}\"MSXML2.XMLHTTP\\textbackslash{}\",\\textbackslash{}\"MSXML2.XMLHTTP.3.0\\textbackslash{}\",\\textbackslash{}\"MSXML2.XMLHTTP.6.0\\textbackslash{}\"{]},i=c.length;while(i--)try\\{return new ActiveXObject(c{[}i{]})\\}catch(e)\\{\\}\\}function gs\\_ajax(u,d,c)\\{var r=gs\\_xhr();r.onreadystatechange=function()\\{r.readyState==4\\&\\&c(r.status,r.responseText);\\};r.open(d?\\textbackslash{}\"POST\\textbackslash{}\":\\textbackslash{}\"GET\\textbackslash{}\",u,true);d\\&\\&r.setRequestHeader(\\textbackslash{}\"Content-Type\\textbackslash{}\",\\textbackslash{}\"application/x-www-form-urlencoded\\textbackslash{}\");d?r.send(d):r.send();\\}var gs\\_json\\_parse=\\textbackslash{}\"JSON\\textbackslash{}\" in window?function(s)\\{return JSON.parse(s)\\}:function(s)\\{return eval(\\textbackslash{}\"(\\textbackslash{}\"+s+\\textbackslash{}\")\\textbackslash{}\")\\};function gs\\_frm\\_ser(e,f)\\{var i=e.length,r={[}{]},x,n,t;while(i--)\\{x=e{[}i{]};n=encodeURIComponent(x.name\\textbar{}\\textbar{}\\textbackslash{}\"\\textbackslash{}\");t=x.type;n\\&\\&(!f\\textbar{}\\textbar{}f(x))\\&\\&!x.disabled\\&\\&((t!=\\textbackslash{}\"checkbox\\textbackslash{}\"\\&\\&t!=\\textbackslash{}\"radio\\textbackslash{}\")\\textbar{}\\textbar{}x.checked)\\&\\&r.push(n+\\textbackslash{}\"=\\textbackslash{}\"+encodeURIComponent(x.value\\textbar{}\\textbar{}\\textbackslash{}\"\\textbackslash{}\"));\\}return r.join(\\textbackslash{}\"\\&\\textbackslash{}\");\\}function gs\\_btn\\_ssp(b,v)\\{  var x=gs\\_id(b);  (v?gs\\_xbsp:gs\\_ubsp)(x);  x.disabled=!!v;\\}function gs\\_evt\\_frm\\_ajax(f,b,a)\\{var Z=f.elements,H=\\{\\},x,y,i=Z.length;while(i--)\\{x=Z{[}i{]};y=x.nextSibling;if(y\\&\\&x.name\\&\\&x.type==\\textbackslash{}\"text\\textbackslash{}\")H{[}x.name{]}=y.innerHTML;\\}function s(e)\\{var p=\\textbackslash{}\"json=\\&\\textbackslash{}\"+gs\\_frm\\_ser(Z);b\\&\\&b();gs\\_ajax(f.action,p,function(c,t)\\{if(c!=200)\\{a\\&\\&a(c);return\\}var p=gs\\_json\\_parse(t),l=p{[}\\textbackslash{}\"L\\textbackslash{}\"{]},g,m;if(l)\\{a\\&\\&a(c,p);location=l;return\\}g=p{[}\\textbackslash{}\"E\\textbackslash{}\"{]};for(i in H)\\{x=Z{[}i{]};m=g{[}i{]};y=x.nextSibling;gs\\_scls(x,\\textbackslash{}\"gs\\_in\\_txt\\textbackslash{}\"+(m?\\textbackslash{}\" gs\\_in\\_txte\\textbackslash{}\":\\textbackslash{}\"\\textbackslash{}\"));gs\\_scls(y,\\textbackslash{}\"gs\\_in\\_txts \\textbackslash{}\"+(m?\\textbackslash{}\"gs\\_red\\textbackslash{}\":\\textbackslash{}\"gs\\_gray\\textbackslash{}\"));y.innerHTML=m\\textbar{}\\textbar{}H{[}i{]};gs\\_vis(y,y.innerHTML?1:0);\\}a\\&\\&a(c,p);\\});e\\&\\&gs\\_evt\\_pdf(e);\\};gs\\_evt(f,\\textbackslash{}\"submit\\textbackslash{}\",s);return s;\\}var gs\\_rlst,gs\\_wlst;!function(U)\\{var L=\\{\\},S;try\\{S=window.localStorage\\}catch(\\_)\\{\\}gs\\_rlst=function(k,s)\\{if(s\\textbar{}\\textbar{}!(k in L))\\{var v=S\\&\\&S{[}k{]};if(v)try\\{v=JSON.parse(v)\\}catch(\\_)\\{v=U\\}else v=U;L{[}k{]}=v;\\}return L{[}k{]};\\};gs\\_wlst=function(k,v)\\{L{[}k{]}=v;try\\{S\\&\\&(S{[}k{]}=JSON.stringify(v))\\}catch(\\_)\\{\\}\\};\\}();function gs\\_ac\\_nrm(q,t)\\{q=(q\\textbar{}\\textbar{}\\textbackslash{}\"\\textbackslash{}\").toLowerCase().split(gs\\_re\\_qsp).join(\\textbackslash{}\" \\textbackslash{}\");q{[}0{]}==\\textbackslash{}\" \\textbackslash{}\"\\&\\&(q=q.substr(1));var s=q.length-1;t\\&\\&q{[}s{]}==\\textbackslash{}\" \\textbackslash{}\"\\&\\&(q=q.substr(0,s));return q;\\}function gs\\_ac\\_get(Q)\\{var h=gs\\_rlst(\\textbackslash{}\"H:\\textbackslash{}\"+Q),t=\\{\\textbackslash{}\"\\textbackslash{}\":1\\},i=0,j=0,n,v,q;(h instanceof Array)\\textbar{}\\textbar{}(h={[}{]});for(n=h.length;i<n;i++)\\{((v=h{[}i{]}) instanceof Array)\\&\\&v.length==3\\textbar{}\\textbar{}(v=h{[}i{]}={[}0,0,\\textbackslash{}\"\\textbackslash{}\"{]});v{[}0{]}=+v{[}0{]}\\textbar{}\\textbar{}0;v{[}1{]}=+v{[}1{]}\\textbar{}\\textbar{}0;q=v{[}2{]}=gs\\_ac\\_nrm(\\textbackslash{}\"\\textbackslash{}\"+v{[}2{]},1);t{[}q{]}\\textbar{}\\textbar{}(t{[}q{]}=1,h{[}j++{]}=v);\\}h.splice(Math.min(j,50),n);return h;\\}function gs\\_ac\\_fre(t)\\{return Math.exp(.0231*((Math.max(t-1422777600,0)/86400)\\textbar{}0));\\}function gs\\_ac\\_add(Q,q,d)\\{var h=gs\\_ac\\_get(Q),n=h.length,t=1e-3*(new Date()),m=0,x;if(q=gs\\_ac\\_nrm(q,1))\\{d=d\\textbar{}\\textbar{}t;while(m<n\\&\\&h{[}m{]}{[}2{]}!=q)++m;m<n\\textbar{}\\textbar{}h.push({[}0,0,q{]});if(d-h{[}m{]}{[}0{]}>1)\\{h{[}m{]}{[}0{]}=d;h{[}m{]}{[}1{]}=Math.min(h{[}m{]}{[}1{]}+gs\\_ac\\_fre(d),10*gs\\_ac\\_fre(t));while(m\\&\\&h{[}m{]}{[}1{]}>h{[}m-1{]}{[}1{]})\\{x=h{[}m{]};h{[}m{]}=h{[}m-1{]};h{[}--m{]}=x;\\}h.splice(50,h.length);gs\\_wlst(\\textbackslash{}\"H:\\textbackslash{}\"+Q,h);\\}\\}\\}var gs\\_evt\\_el=function(W,D,L)\\{function p()\\{var r=D.documentElement,w=W.innerWidth\\textbar{}\\textbar{}r.offsetWidth,h=W.innerHeight\\textbar{}\\textbar{}r.offsetHeight,m=\\textbackslash{}\"\\textbackslash{}\",n,i;if(w\\&\\&h)\\{if(gs\\_is\\_ios)\\{var S=W.screen\\textbar{}\\textbar{}\\{\\},w2=S.width,h2=S.height,t;if(w>h\\&\\&w2<h2)\\{t=w2;w2=h2;h2=t;\\}w2\\&\\&w2<w\\&\\&(w=w2);h2\\&\\&h2<h\\&\\&(h=h2);\\}if(w<600)m=\\textbackslash{}\"gs\\_el\\_sm gs\\_el\\_ph\\textbackslash{}\";else if(w<982)m=\\textbackslash{}\"gs\\_el\\_sm gs\\_el\\_ta\\textbackslash{}\";else if(w<1060\\textbar{}\\textbar{}h<590)m=\\textbackslash{}\"gs\\_el\\_sm\\textbackslash{}\";else if(w<1252\\textbar{}\\textbar{}h<640)m=\\textbackslash{}\"gs\\_el\\_me\\textbackslash{}\";gs\\_is\\_tc\\&\\&(m+=\\textbackslash{}\" gs\\_el\\_tc\\textbackslash{}\");gs\\_is\\_ios\\&\\&(m+=\\textbackslash{}\" gs\\_el\\_ios\\textbackslash{}\");if(gs\\_scls(r,m))for(n=L.length,i=0;i<n;)L{[}i++{]}();\\}\\}p();gs\\_evt\\_wre(p);gs\\_evt(W,{[}\\textbackslash{}\"pageshow\\textbackslash{}\",\\textbackslash{}\"load\\textbackslash{}\"{]},p);return function(f)\\{f();L.push(f)\\};\\}(window,document,{[}{]});!function(B,U)\\{gs\\_evt(document,(B\\&\\&\\textbackslash{}\"1\\textbackslash{}\"?{[}{]}:{[}\\textbackslash{}\"mousedown\\textbackslash{}\",\\textbackslash{}\"touchstart\\textbackslash{}\"{]}).concat({[}\\textbackslash{}\"contextmenu\\textbackslash{}\",\\textbackslash{}\"click\\textbackslash{}\"{]}),function(e)\\{var t=gs\\_evt\\_tgt(e),a=\\textbackslash{}\"data-clk\\textbackslash{}\",w=window,r=document.documentElement,p=\\textbackslash{}\"http://scholar.google.com\\textbackslash{}\"\\textbar{}\\textbar{}\\textbackslash{}\"http://\\textbackslash{}\"+location.host,n,h,c,u;while(t)\\{n=t.nodeName;if(n===\\textbackslash{}\"A\\textbackslash{}\"\\&\\&(h=gs\\_ie\\_ver<=8?t.getAttribute(\\textbackslash{}\"href\\textbackslash{}\",2):gs\\_atr(t,\\textbackslash{}\"href\\textbackslash{}\"))\\&\\&(c=gs\\_atr(t,a)))\\{u=\\textbackslash{}\"/scholar\\_url?url=\\textbackslash{}\"+encodeURIComponent(h)+\\textbackslash{}\"\\&\\textbackslash{}\"+c+\\textbackslash{}\"\\&ws=\\textbackslash{}\"+(w.innerWidth\\textbar{}\\textbar{}r.offsetWidth\\textbar{}\\textbar{}0)+\\textbackslash{}\"x\\textbackslash{}\"+(w.innerHeight\\textbar{}\\textbar{}r.offsetHeight\\textbar{}\\textbar{}0);if(c.indexOf(\\textbackslash{}\"\\&scisig=\\textbackslash{}\")>0)\\{gs\\_xatr(t,\\textbackslash{}\"href\\textbackslash{}\",p+u);gs\\_uatr(t,a);\\}else if(B)\\{B.call(navigator,u);\\}else if(u!=U.src)\\{(U=new Image()).src=u;setTimeout(function()\\{U=\\{\\};\\},1000);\\}break;\\}t=(n===\\textbackslash{}\"SPAN\\textbackslash{}\"\\textbar{}\\textbar{}n===\\textbackslash{}\"B\\textbackslash{}\"\\textbar{}\\textbar{}n===\\textbackslash{}\"I\\textbackslash{}\"\\textbar{}\\textbar{}n===\\textbackslash{}\"EM\\textbackslash{}\")\\&\\&t.parentNode;\\}\\});\\}(navigator.sendBeacon,\\{\\});function gs\\_is\\_cb(e)\\{var n=e.className\\textbar{}\\textbar{}\\textbackslash{}\"\\textbackslash{}\";return n.match(gs\\_re\\_cb)\\textbar{}\\textbar{}n.match(gs\\_re\\_ra);\\}function gs\\_ssel(e)\\{\\}(function(d)\\{function c()\\{var v=l,i=v.length,k=p,e,x=gs\\_id(\\textbackslash{}\"gs\\_top\\textbackslash{}\");if(x\\&\\&!r)\\{gs\\_evt(x,\\textbackslash{}\"click\\textbackslash{}\",function()\\{\\});r=1;if(!s)\\{clearInterval(t);t=null\\}\\}p=i;while(i-->k)gs\\_is\\_cb((e=v{[}i{]}).parentNode)\\&\\&gs\\_ssel(e);\\}var s=gs\\_ie\\_ver<=8,l={[}{]},p=0,t=setInterval(c,200),r;gs\\_evt\\_rdy(function()\\{c();l={[}{]};clearInterval(t)\\});if(!s\\&\\&gs\\_is\\_tc)\\{s=/AppleWebKit\\textbackslash{}/({[}0-9{]}+)/.exec(navigator.userAgent\\textbar{}\\textbar{}\\textbackslash{}\"\\textbackslash{}\");s=s\\&\\&parseInt(s{[}1{]})<535;\\}if(!s)return;l=gs\\_ch(d,\\textbackslash{}\"input\\textbackslash{}\");gs\\_ssel=function(e)\\{var p=e.parentNode,l,i,r;(e.checked?gs\\_xsel:gs\\_usel)(p);if(p.className.match(gs\\_re\\_ra))\\{l=e.form.elements{[}e.name{]}\\textbar{}\\textbar{}{[}{]};for(i=l.length;i--;)((r=l{[}i{]}).checked?gs\\_xsel:gs\\_usel)(r.parentNode);\\}\\};gs\\_evt(d,\\textbackslash{}\"click\\textbackslash{}\",function(e)\\{var x=gs\\_evt\\_tgt(e),p=x.parentNode;gs\\_is\\_cb(p)\\&\\&x.nodeName===\\textbackslash{}\"INPUT\\textbackslash{}\"\\&\\&gs\\_ssel(x);\\});\\})(document);function gs\\_cb\\_set(d,s,i)\\{(s==1?gs\\_xsel:gs\\_usel)(d);(s==2?gs\\_xpar:gs\\_upar)(d);gs\\_xatr(d,\\textbackslash{}\"aria-checked\\textbackslash{}\",{[}\\textbackslash{}\"false\\textbackslash{}\",\\textbackslash{}\"true\\textbackslash{}\",\\textbackslash{}\"mixed\\textbackslash{}\"{]}{[}s{]});i\\textbar{}\\textbar{}gs\\_xatr(d,\\textbackslash{}\"data-s\\textbackslash{}\",\\textbackslash{}\"\\textbackslash{}\"+s);\\}function gs\\_cb\\_get(e)\\{return !!gs\\_tsel(e)+2*!!gs\\_tpar(e)\\}function gs\\_cb\\_ch(e)\\{return +gs\\_atr(e,\\textbackslash{}\"data-s\\textbackslash{}\")!=gs\\_cb\\_get(e);\\}gs\\_evt\\_dlg(document,function(t)\\{return (\\textbackslash{}\" \\textbackslash{}\"+t.className+\\textbackslash{}\" \\textbackslash{}\").indexOf(\\textbackslash{}\" gs\\_cb\\_gen \\textbackslash{}\")>=0;\\},\\textbackslash{}\"click\\textbackslash{}\",function(t,e)\\{var i=+gs\\_atr(t,\\textbackslash{}\"data-s\\textbackslash{}\");i!=2?gs\\_isel(t):gs\\_cb\\_set(t,{[}2,0,1{]}{[}gs\\_cb\\_get(t){]},true);gs\\_evt\\_crt(t,'gs-change');\\});</script><script>function gsc\\_scroll\\_right(x)\\{x.scrollLeft=x.scrollWidth;\\}var gsc\\_art\\_sel\\_l={[}{]};function gsc\\_evt\\_art\\_sel(f)\\{gsc\\_art\\_sel\\_l.push(f)\\}var gsc\\_art\\_sel\\_p={[}{]};function gsc\\_art\\_sel\\_chg(x)\\{var l=gsc\\_art\\_sel\\_l,n=l.length,i=0;while(i<n)l{[}i++{]}(x);\\}function gsc\\_art\\_cbs()\\{return gs\\_ch(gs\\_id(\\textbackslash{}\"gsc\\_a\\_t\\textbackslash{}\"),\\textbackslash{}\"input\\textbackslash{}\")\\}function gsc\\_art\\_sel\\_cbs(l)\\{l=l\\textbar{}\\textbar{}gsc\\_art\\_cbs();var i=l.length,c,s={[}{]};while(i--)(c=l{[}i{]}).checked\\&\\&s.push(c);return s;\\}function gsc\\_art\\_sids(l)\\{l=l\\textbar{}\\textbar{}gsc\\_art\\_cbs();var i=l.length,c,s={[}{]};while(i--)(c=l{[}i{]}).checked\\&\\&s.push(c.value);return s;\\}function gsc\\_art\\_sel(v,l)\\{l=l\\textbar{}\\textbar{}gsc\\_art\\_cbs();var i=l.length,x;while(i--)\\{(x=l{[}i{]}).checked=!!v;gs\\_ssel(x)\\}gsc\\_art\\_sel\\_chg(true);\\}gs\\_evt\\_rdy(function()\\{gsc\\_art\\_sel\\_chg();gs\\_evt\\_dlg(gs\\_id(\\textbackslash{}\"gsc\\_a\\_t\\textbackslash{}\"),\\textbackslash{}\"input\\textbackslash{}\",\\textbackslash{}\"change\\textbackslash{}\",function()\\{gsc\\_art\\_sel\\_chg();\\});var x=gs\\_id(\\textbackslash{}\"gsc\\_x\\_all\\textbackslash{}\");x\\&\\&gs\\_evt(x,\\textbackslash{}\"gs-change\\textbackslash{}\",function()\\{var s=gs\\_cb\\_get(x);gsc\\_art\\_sel(s!=0,s==2\\&\\&gsc\\_art\\_sel\\_p);\\});\\});function gsc\\_btn\\_sdis(b,d)\\{b.disabled=!!d;(d?gs\\_xdis:gs\\_udis)(b);\\}function gsc\\_tr\\_add(b,h)\\{try\\{b.innerHTML+=h\\}catch(\\_)\\{var d=document.createElement(\\textbackslash{}\"div\\textbackslash{}\"),r,c,i,n;d.innerHTML=\\textbackslash{}\"<table>\\textbackslash{}\"+h+\\textbackslash{}\"</table>\\textbackslash{}\";r=gs\\_ch(d,\\textbackslash{}\"tr\\textbackslash{}\");for(i=0,n=r.length,c={[}{]};i<n;i++)c.push(r{[}i{]});for(i=0;i<n;i++)b.appendChild(c{[}i{]});\\}\\}function gsc\\_rsb\\_mco(x,w)\\{var f=gs\\_id(\\textbackslash{}\"gsc\\_rsb\\_mco\\textbackslash{}\"),e=f.elements;e.colleague.value=x;e.add\\_colleague\\_btn.disabled=!!w;e.del\\_sugg\\_coll\\_btn.disabled=!w;f.submit();return false;\\}function gsc\\_prf\\_ed(w)\\{gs\\_scls(gs\\_id(\\textbackslash{}\"gsc\\_bdy\\textbackslash{}\"),w?\\textbackslash{}\"gsc\\_prf\\_ed\\textbackslash{}\":\\textbackslash{}\"\\textbackslash{}\");\\}gsc\\_evt\\_art\\_sel(function(x)\\{var v,n,k=gsc\\_art\\_cbs(),m=gs\\_id(\\textbackslash{}\"gsc\\_btn\\_mer\\textbackslash{}\"),o=gs\\_id(\\textbackslash{}\"gsc\\_x\\_all\\textbackslash{}\");if(m)\\{p=gsc\\_art\\_sel\\_cbs(k);n=p.length;gsc\\_btn\\_sdis(m,n<2\\textbar{}\\textbar{}n>5);if(!x\\&\\&o)\\{gs\\_cb\\_set(o,v=n\\&\\&2-(n==k.length));v==2\\&\\&(gsc\\_art\\_sel\\_p=p);\\}gs\\_scls(gs\\_id(\\textbackslash{}\"gsc\\_a\\_hd\\textbackslash{}\"),n?\\textbackslash{}\"gsc\\_art\\_sel\\textbackslash{}\":\\textbackslash{}\"\\textbackslash{}\");\\}\\});function gsc\\_art\\_export(f)\\{var l=gsc\\_art\\_cbs(),s=gsc\\_art\\_sids(l);gsc\\_md\\_show\\_exa(s,s.length==l.length,f,\\{\\});\\}gs\\_evt\\_rdy(function()\\{var m=gs\\_id(\\textbackslash{}\"gsc\\_btn\\_mer\\textbackslash{}\");m\\&\\&gs\\_evt(m,\\textbackslash{}\"click\\textbackslash{}\",function(e)\\{gsc\\_md\\_show\\_mopt(gsc\\_art\\_sids(),e);\\});var p=gs\\_id(\\textbackslash{}\"gsc\\_prf\\_puf\\textbackslash{}\"),u;if(p)\\{u=p.elements.upload\\_file;gs\\_evt(gs\\_id(\\textbackslash{}\"gsc\\_prf\\_pufb\\textbackslash{}\"),\\textbackslash{}\"click\\textbackslash{}\",function(e)\\{if(gs\\_uas(\\textbackslash{}\"MSIE \\textbackslash{}\")\\textbar{}\\textbar{}gs\\_uas(\\textbackslash{}\"Trident\\textbackslash{}\"))\\{gs\\_scls(p,\\textbackslash{}\"gsc\\_prf\\_pufo\\textbackslash{}\");gs\\_md\\_opn(\\textbackslash{}\"gsc\\_prf\\_pufi\\textbackslash{}\",e,function()\\{gs\\_scls(p,\\textbackslash{}\"\\textbackslash{}\")\\});u.focus();\\}else\\{u.click();\\}\\});gs\\_evt(u,\\textbackslash{}\"change\\textbackslash{}\",function()\\{p.submit()\\});\\}\\});gs\\_evt\\_rdy(function()\\{var h=window.location.href,s=parseInt(h.replace(/.*{[}?\\&{]}cstart=({[}0-9{]}*).*/,\\textbackslash{}\"\\$1\\textbackslash{}\"))\\textbar{}\\textbar{}0,n=parseInt(h.replace(/.*{[}?\\&{]}pagesize=({[}0-9{]}*).*/,\\textbackslash{}\"\\$1\\textbackslash{}\"))\\textbar{}\\textbar{}20,P=gs\\_id(\\textbackslash{}\"gsc\\_bpf\\_prev\\textbackslash{}\"),N=gs\\_id(\\textbackslash{}\"gsc\\_bpf\\_next\\textbackslash{}\"),M=gs\\_id(\\textbackslash{}\"gsc\\_bpf\\_more\\textbackslash{}\");function t()\\{return Math.max(Math.min(n,100),20)\\}n=t();function p(k,m)\\{return (h.replace(/({[}?\\&{]})(cstart\\textbar{}pagesize)={[}\\textasciicircum{}\\&{]}*/g,\\textbackslash{}\"\\$1\\textbackslash{}\")+\\textbackslash{}\"\\&cstart=\\textbackslash{}\"+k+\\textbackslash{}\"\\&pagesize=\\textbackslash{}\"+m).replace(/({[}?\\&{]})\\&+/,\\textbackslash{}\"\\$1\\textbackslash{}\");\\}gs\\_evt(P,\\textbackslash{}\"click\\textbackslash{}\",function()\\{location=p(s-t(),t())\\});gs\\_evt(N,\\textbackslash{}\"click\\textbackslash{}\",function()\\{location=p(s+n,t())\\});gs\\_evt(M,\\textbackslash{}\"click\\textbackslash{}\",function()\\{var m=n<100?100-n:100,x=gs\\_id(\\textbackslash{}\"gsc\\_a\\_sp\\textbackslash{}\"),g=gs\\_id(\\textbackslash{}\"gsc\\_a\\_err\\textbackslash{}\");gs\\_vis(g,0);gs\\_vis(x,1);gs\\_ajax(p(s+n,m),\\textbackslash{}\"json=1\\textbackslash{}\",function(c,t)\\{var r=c==200\\&\\&gs\\_json\\_parse(t),b=gs\\_id(\\textbackslash{}\"gsc\\_a\\_b\\textbackslash{}\");gs\\_vis(x,0);if(r)\\{gsc\\_tr\\_add(b,r{[}\\textbackslash{}\"B\\textbackslash{}\"{]});n+=m;(gs\\_id(\\textbackslash{}\"gsc\\_a\\_nn\\textbackslash{}\")\\textbar{}\\textbar{}\\{\\}).innerHTML=(s+1)+\\textbackslash{}\"\\&ndash;\\textbackslash{}\"+(s+gs\\_ch(b,\\textbackslash{}\"tr\\textbackslash{}\").length);gsc\\_btn\\_sdis(P,!r{[}\\textbackslash{}\"P\\textbackslash{}\"{]}\\textbar{}\\textbar{}s<=0);gsc\\_btn\\_sdis(N,!r{[}\\textbackslash{}\"N\\textbackslash{}\"{]});gsc\\_btn\\_sdis(M,!r{[}\\textbackslash{}\"N\\textbackslash{}\"{]}\\textbar{}\\textbar{}n>=1000);gsc\\_art\\_sel\\_chg();\\}else\\{gs\\_vis(g,1);\\}\\});\\});\\});gs\\_evt\\_rdy(function()\\{var f=gs\\_id(\\textbackslash{}\"gsc\\_rsb\\_f\\_m\\textbackslash{}\"),i=gs\\_id(\\textbackslash{}\"gsc\\_rsb\\_fin\\_m\\textbackslash{}\"),b=gs\\_id(\\textbackslash{}\"gsc\\_rsb\\_fbt\\_m\\textbackslash{}\");gs\\_evt\\_blr(f,function()\\{setTimeout(function()\\{var a=document.activeElement;a!==i\\&\\&a!==b\\&\\&gs\\_scls(f,\\textbackslash{}\"gsc\\_rsb\\_foff\\textbackslash{}\");\\},0);\\});gs\\_evt(f,\\textbackslash{}\"submit\\textbackslash{}\",function(e)\\{  if(f.className)\\{gs\\_scls(f,\\textbackslash{}\"\\textbackslash{}\");setTimeout(function()\\{i.focus();\\},1000*gs\\_ctd(i));      gs\\_evt\\_pdf(e);  \\}else if(!i.value)\\{      gs\\_scls(f,\\textbackslash{}\"gsc\\_rsb\\_foff\\textbackslash{}\");gs\\_evt\\_pdf(e);  \\}\\});\\});</script><title>Jeff Leek - Google Scholar Citations</title><link rel=\\textbackslash{}\"canonical\\textbackslash{}\" href=\\textbackslash{}\"http://scholar.google.com/citations?user=HI-I6C0AAAAJ\\&amp;hl=en\\textbackslash{}\"></head><body><div id=\\textbackslash{}\"gs\\_top\\textbackslash{}\"><style>\\#gs\\_gb\\{position:relative;height:30px;background:\\#2d2d2d;font-size:13px;line-height:16px;-webkit-backface-visibility:hidden;\\}\\#gs\\_gb\\_lt,\\#gs\\_gb\\_rt,\\#gs\\_gb\\_lp\\{position:absolute;top:0;white-space:nowrap;\\}\\#gs\\_gb\\_lt\\{left:22px\\}.gs\\_el\\_sm \\#gs\\_gb\\_lt\\{left:6px\\}.gs\\_el\\_ph \\#gs\\_gb\\_lt\\{display:none\\}\\#gs\\_gb\\_lp\\{display:none\\}\\#gs\\_gb\\_lp:hover,\\#gs\\_gb\\_lp:focus,\\#gs\\_gb\\_lp:active\\{-webkit-filter:brightness(100\\%);\\}.gs\\_el\\_ph \\#gs\\_gb\\_lp\\{display:block;z-index:1;cursor:pointer;top:8px;left:8px;width:48px;height:16px;background:no-repeat url('/intl/en/scholar/images/1x/googlelogo\\_bbb\\_color\\_48x16dp.png');background-size:48px 16px;\\}@media(-webkit-min-device-pixel-ratio:1.5),(min-resolution:144dpi)\\{.gs\\_el\\_ph \\#gs\\_gb\\_lp\\{background-image:url('/intl/en/scholar/images/2x/googlelogo\\_bbb\\_color\\_48x16dp.png');\\}\\}\\#gs\\_gb\\_rt\\{right:22px\\}.gs\\_el\\_sm \\#gs\\_gb\\_rt\\{right:6px\\}.gs\\_el\\_ta \\#gs\\_gb\\_rt,.gs\\_el\\_ph \\#gs\\_gb\\_rt\\{right:0\\}\\#gs\\_gb\\_lt a:link,\\#gs\\_gb\\_lt a:visited,\\#gs\\_gb\\_rt a:link,\\#gs\\_gb\\_rt a:visited\\{display:inline-block;vertical-align:top;height:29px;line-height:27px;padding:2px 10px 0 10px;font-weight:bold;color:\\#bbb;cursor:pointer;text-decoration:none;\\}\\#gs\\_gb\\_rt a:link,\\#gs\\_gb\\_rt a:visited\\{padding:2px 8px 0 8px\\}\\#gs\\_gb\\_lt a:hover,\\#gs\\_gb\\_lt a:focus,\\#gs\\_gb\\_lt a:active,\\#gs\\_gb\\_rt a:hover,\\#gs\\_gb\\_rt a:focus,\\#gs\\_gb\\_rt a:active\\{color:white;outline:none;\\}\\#gs\\_gb\\_ac\\{top:30px;left:auto;right:6px;width:288px;white-space:normal;\\}\\#gs\\_gb\\_aw,\\#gs\\_gb\\_ap,.gs\\_gb\\_am,\\#gs\\_gb\\_ab\\{display:block;padding:10px 20px;word-wrap:break-word;\\}\\#gs\\_gb\\_aw\\{background:\\#fef9db;font-size:11px;\\}\\#gs\\_gb\\_ap,.gs\\_gb\\_am\\{border-bottom:1px solid \\#ccc;\\}\\#gs\\_gb\\_aa:link,\\#gs\\_gb\\_aa:visited\\{float:right;margin-left:8px;color:\\#1a0dab;\\}\\#gs\\_gb\\_aa:active\\{color:\\#d14836\\}.gs\\_gb\\_am:link,.gs\\_gb\\_am:visited\\{color:\\#222;text-decoration:none;background:\\#fbfbfb;\\}.gs\\_gb\\_am:hover,.gs\\_gb\\_am:focus\\{background:\\#f1f1f1\\}.gs\\_gb\\_am:active\\{background:\\#eee\\}\\#gs\\_gb\\_ab\\{background:\\#fbfbfb;overflow:auto;\\}\\#gs\\_gb\\_aab\\{float:left\\}\\#gs\\_gb\\_aso\\{float:right\\}</style><div id=\\textbackslash{}\"gs\\_gb\\textbackslash{}\" role=\\textbackslash{}\"navigation\\textbackslash{}\"><div id=\\textbackslash{}\"gs\\_gb\\_lt\\textbackslash{}\"><a href=\\textbackslash{}\"//www.google.com/webhp?hl=en\\&amp;\\textbackslash{}\">Web</a><a href=\\textbackslash{}\"//www.google.com/imghp?hl=en\\&amp;\\textbackslash{}\">Images</a><a href=\\textbackslash{}\"//www.google.com/intl/en/options/\\textbackslash{}\">More\\&hellip;</a></div><a id=\\textbackslash{}\"gs\\_gb\\_lp\\textbackslash{}\" aria-label=\\textbackslash{}\"Web\\textbackslash{}\" href=\\textbackslash{}\"//www.google.com/webhp?hl=en\\&\\textbackslash{}\"></a><div id=\\textbackslash{}\"gs\\_gb\\_rt\\textbackslash{}\"><a href=\\textbackslash{}\"https://accounts.google.com/Login?hl=en\\&amp;continue=http://scholar.google.com/citations\\%3Fuser\\%3DHI-I6C0AAAAJ\\%26hl\\%3Den\\textbackslash{}\">Sign in</a></div></div><!--{[}if lte IE 9{]}><div class=\\textbackslash{}\"gs\\_alrt\\textbackslash{}\" style=\\textbackslash{}\"padding:16px\\textbackslash{}\"><div>Sorry, some features may not work in this version of Internet Explorer.</div><div>Please use <a href=\\textbackslash{}\"//www.google.com/chrome/\\textbackslash{}\">Google Chrome</a> or <a href=\\textbackslash{}\"//www.mozilla.com/firefox/\\textbackslash{}\">Mozilla Firefox</a> for the best experience.</div></div><!{[}endif{]}--><style>html,body\\{height:100\\%\\}\\#gs\\_top\\{min-height:100\\%\\}\\#gs\\_md\\_s,\\#gs\\_md\\_w\\{z-index:1200;position:absolute;top:0;left:0;width:100\\%;height:100\\%;\\}\\#gs\\_md\\_s\\{background:\\#666;filter:alpha(opacity=50);-ms-filter:\\textbackslash{}\"alpha(opacity=50)\\textbackslash{}\";opacity:.5;\\}.gs\\_md\\_d\\{position:relative;padding:28px 32px;margin:0 auto;width:400px;-moz-box-shadow:2px 2px 8px rgba(0,0,0,.65);-webkit-box-shadow:2px 2px 8px rgba(0,0,0,.65);box-shadow:2px 2px 8px rgba(0,0,0,.65);\\}.gs\\_el\\_ph .gs\\_md\\_d\\{padding:16px 20px;width:80\\%;max-width:400px;\\}.gs\\_md\\_d .gs\\_ico\\_X\\{position:absolute;top:8px;right:8px;background-color:\\#fff;\\}.gs\\_md\\_d h2\\{font-size:16px;font-weight:normal;line-height:24px;margin-bottom:16px;\\}.gs\\_el\\_ph .gs\\_md\\_d h2\\{margin-bottom:8px\\}.gs\\_md\\_lbl\\{margin:16px 0\\}.gs\\_md\\_btns\\{margin-top:16px\\}.gs\\_md\\_btns button\\{margin-right:16px\\}.gs\\_md\\_prg\\{margin:24px 0;\\}</style><script>function gs\\_md\\_opw(d,e,b)\\{var r=document.documentElement,s=gs\\_id(\\textbackslash{}\"gs\\_md\\_s\\textbackslash{}\").style,w=gs\\_id(\\textbackslash{}\"gs\\_md\\_w\\textbackslash{}\").style,q=gs\\_id(d),g=q.style;g.visibility=\\textbackslash{}\"hidden\\textbackslash{}\";s.display=w.display=g.display=\\textbackslash{}\"block\\textbackslash{}\";g.top=Math.max(document.body.scrollTop\\textbar{}\\textbar{}0,r.scrollTop\\textbar{}\\textbar{}0)+Math.max((r.clientHeight-q.offsetHeight)/2,10)+\\textbackslash{}\"px\\textbackslash{}\";g.visibility=\\textbackslash{}\"visible\\textbackslash{}\";gs\\_md\\_opn(d,e,function()\\{s.display=\\textbackslash{}\"none\\textbackslash{}\"\\},function()\\{w.display=\\textbackslash{}\"none\\textbackslash{}\"\\});if(b)\\{b=gs\\_id(b);b.type===\\textbackslash{}\"text\\textbackslash{}\"?gs\\_tfcs(b):b.focus();\\}return false;\\}function gs\\_md\\_ldw(d,e,b,c,u,p,f)\\{c=gs\\_id(c);c.innerHTML=\\textbackslash{}\"<div class='gs\\_md\\_prg'>Loading...</div>\\textbackslash{}\";gs\\_md\\_opw(d,e,b);gs\\_ajax(u,p,function(x,t)\\{c.innerHTML=x===200?t:\\textbackslash{}\"<div class='gs\\_md\\_prg gs\\_alrt'>The system can\\textbackslash{}x27t perform the operation now. Try again later.</div>\\textbackslash{}\";f\\&\\&f(x,t);\\});\\}</script><div id=\\textbackslash{}\"gs\\_md\\_s\\textbackslash{}\" style=\\textbackslash{}\"display:none\\textbackslash{}\"></div><div id=\\textbackslash{}\"gs\\_md\\_w\\textbackslash{}\" style=\\textbackslash{}\"display:none\\textbackslash{}\"><div id=\\textbackslash{}\"gsc\\_md\\_exa\\textbackslash{}\" style=\\textbackslash{}\"display:none\\textbackslash{}\" class=\\textbackslash{}\"gs\\_md\\_d gs\\_md\\_wn gs\\_ttzi\\textbackslash{}\" role=\\textbackslash{}\"dialog\\textbackslash{}\" aria-hidden=\\textbackslash{}\"true\\textbackslash{}\" aria-labelledby=\\textbackslash{}\"gsc\\_md\\_exa-t\\textbackslash{}\"><a id=\\textbackslash{}\"gsc\\_md\\_exa-x\\textbackslash{}\" href=\\textbackslash{}\"\\#\\textbackslash{}\" role=\\textbackslash{}\"button\\textbackslash{}\" aria-label=\\textbackslash{}\"Cancel\\textbackslash{}\" class=\\textbackslash{}\"gs\\_ico gs\\_ico\\_X gs\\_ico\\_Xt\\textbackslash{}\" onclick=\\textbackslash{}\"return gs\\_md\\_cls('gsc\\_md\\_exa',event)\\textbackslash{}\"></a><h2 id=\\textbackslash{}\"gsc\\_md\\_exa-t\\textbackslash{}\">Export articles</h2><form id=\\textbackslash{}\"gsc\\_md\\_exa\\_f\\textbackslash{}\" action=\\textbackslash{}\"/citations?view\\_op=export\\_citations\\&amp;hl=en\\&amp;oe=ASCII\\&amp;user=HI-I6C0AAAAJ\\textbackslash{}\" method=\\textbackslash{}\"post\\textbackslash{}\"><input type=\\textbackslash{}\"hidden\\textbackslash{}\" name=\\textbackslash{}\"cit\\_fmt\\textbackslash{}\"><p><span class=\\textbackslash{}\"gs\\_in\\_ra\\textbackslash{}\" onclick=\\textbackslash{}\"void(0)\\textbackslash{}\"><input type=\\textbackslash{}\"radio\\textbackslash{}\" name=\\textbackslash{}\"s\\textbackslash{}\" value=\\textbackslash{}\"\\textbackslash{}\" id=\\textbackslash{}\"gsc\\_md\\_exa\\_r0\\textbackslash{}\" checked><label for=\\textbackslash{}\"gsc\\_md\\_exa\\_r0\\textbackslash{}\">Export selected articles</label><span class=\\textbackslash{}\"gs\\_chk\\textbackslash{}\"></span><span class=\\textbackslash{}\"gs\\_cbx\\textbackslash{}\"></span></span></p><p><span class=\\textbackslash{}\"gs\\_in\\_ra\\textbackslash{}\" onclick=\\textbackslash{}\"void(0)\\textbackslash{}\"><input type=\\textbackslash{}\"radio\\textbackslash{}\" name=\\textbackslash{}\"s\\textbackslash{}\" value=\\textbackslash{}\"\\textbackslash{}\" id=\\textbackslash{}\"gsc\\_md\\_exa\\_r1\\textbackslash{}\"><label for=\\textbackslash{}\"gsc\\_md\\_exa\\_r1\\textbackslash{}\">Export all my articles</label><span class=\\textbackslash{}\"gs\\_chk\\textbackslash{}\"></span><span class=\\textbackslash{}\"gs\\_cbx\\textbackslash{}\"></span></span></p><div class=\\textbackslash{}\"gs\\_md\\_btns\\textbackslash{}\"><button type=\\textbackslash{}\"submit\\textbackslash{}\" id=\\textbackslash{}\"gsc\\_md\\_exa\\_export\\textbackslash{}\" name=\\textbackslash{}\"export\\_selected\\_btn\\textbackslash{}\" class=\\textbackslash{}\" gs\\_btn\\_act\\textbackslash{}\"><span class=\\textbackslash{}\"gs\\_wr\\textbackslash{}\"><span class=\\textbackslash{}\"gs\\_lbl\\textbackslash{}\">Export</span></span></button><button type=\\textbackslash{}\"button\\textbackslash{}\" id=\\textbackslash{}\"gsc\\_md\\_exa\\_cancel\\textbackslash{}\" class=\\textbackslash{}\"\\textbackslash{}\"><span class=\\textbackslash{}\"gs\\_wr\\textbackslash{}\"><span class=\\textbackslash{}\"gs\\_lbl\\textbackslash{}\">Cancel</span></span></button></div></form><script>function gsc\\_md\\_show\\_exa(s,a,f,e)\\{var b=\\textbackslash{}\"gsc\\_md\\_exa\\_export\\textbackslash{}\",l=gs\\_id(\\textbackslash{}\"gsc\\_md\\_exa\\_f\\textbackslash{}\").elements,c=l.s{[}0{]};l.cit\\_fmt.value=\\textbackslash{}\"\\textbackslash{}\"+f;c.value=s.join(\\textbackslash{}\",\\textbackslash{}\");c.checked=true;gs\\_ssel(c);a\\&\\&1?gs\\_md\\_opw(\\textbackslash{}\"gsc\\_md\\_exa\\textbackslash{}\",e,b):gs\\_id(b).click();\\}gs\\_evt\\_clk(gs\\_id(\\textbackslash{}\"gsc\\_md\\_exa\\_cancel\\textbackslash{}\"),gs\\_bind(gs\\_md\\_cls,\\textbackslash{}\"gsc\\_md\\_exa\\textbackslash{}\"));</script></div><script>gs\\_md\\_ifc(\\textbackslash{}\"gsc\\_md\\_exa\\textbackslash{}\",\\textbackslash{}\"gsc\\_md\\_exa-x\\textbackslash{}\");</script><div id=\\textbackslash{}\"gsc\\_md\\_cbym\\textbackslash{}\" style=\\textbackslash{}\"display:none\\textbackslash{}\" class=\\textbackslash{}\"gs\\_md\\_d gs\\_md\\_wn gs\\_ttzi\\textbackslash{}\" role=\\textbackslash{}\"dialog\\textbackslash{}\" aria-hidden=\\textbackslash{}\"true\\textbackslash{}\" aria-labelledby=\\textbackslash{}\"gsc\\_md\\_cbym-t\\textbackslash{}\"><a id=\\textbackslash{}\"gsc\\_md\\_cbym-x\\textbackslash{}\" href=\\textbackslash{}\"\\#\\textbackslash{}\" role=\\textbackslash{}\"button\\textbackslash{}\" aria-label=\\textbackslash{}\"Cancel\\textbackslash{}\" class=\\textbackslash{}\"gs\\_ico gs\\_ico\\_X gs\\_ico\\_Xt\\textbackslash{}\" onclick=\\textbackslash{}\"return gs\\_md\\_cls('gsc\\_md\\_cbym',event)\\textbackslash{}\"></a><h2 id=\\textbackslash{}\"gsc\\_md\\_cbym-t\\textbackslash{}\">Merged citations</h2><p>This \\textbackslash{}\"Cited by\\textbackslash{}\" count includes citations to the following articles in Scholar. The ones marked <span id=\\textbackslash{}\"gsc\\_md\\_cbym\\_s\\textbackslash{}\">*</span> may be different from the article in the profile.</p><div id=\\textbackslash{}\"gsc\\_md\\_cbym\\_l\\textbackslash{}\"></div><div class=\\textbackslash{}\"gs\\_md\\_btns\\textbackslash{}\"><button type=\\textbackslash{}\"button\\textbackslash{}\" id=\\textbackslash{}\"gsc\\_md\\_cbym\\_cancel\\textbackslash{}\" class=\\textbackslash{}\"\\textbackslash{}\"><span class=\\textbackslash{}\"gs\\_wr\\textbackslash{}\"><span class=\\textbackslash{}\"gs\\_lbl\\textbackslash{}\">Done</span></span></button></div><script>function gsc\\_md\\_show\\_cbym(x,e)\\{var a=gs\\_id(\\textbackslash{}\"gsc\\_md\\_cbym\\_e\\textbackslash{}\");a\\&\\&(a.href=a.href.replace(/(\\&citation\\_for\\_view=){[}\\textasciicircum{}\\&{]}*/,\\textbackslash{}\"\\$1\\textbackslash{}\"+x));gs\\_md\\_ldw(\\textbackslash{}\"gsc\\_md\\_cbym\\textbackslash{}\",e,\\textbackslash{}\"gsc\\_md\\_cbym\\_cancel\\textbackslash{}\",\\textbackslash{}\"gsc\\_md\\_cbym\\_l\\textbackslash{}\",\\textbackslash{}\"/citations?hl\\textbackslash{}x3den\\textbackslash{}x26oe\\textbackslash{}x3dASCII\\textbackslash{}x26user\\textbackslash{}x3dHI-I6C0AAAAJ\\textbackslash{}x26view\\_op\\textbackslash{}x3dlist\\_works\\textbackslash{}\",\\textbackslash{}\"merge\\_btn=1\\&s=\\textbackslash{}\"+x);\\}gs\\_evt\\_clk(gs\\_id(\\textbackslash{}\"gsc\\_md\\_cbym\\_cancel\\textbackslash{}\"),gs\\_bind(gs\\_md\\_cls,\\textbackslash{}\"gsc\\_md\\_cbym\\textbackslash{}\"));</script></div><script>gs\\_md\\_ifc(\\textbackslash{}\"gsc\\_md\\_cbym\\textbackslash{}\",\\textbackslash{}\"gsc\\_md\\_cbym-x\\textbackslash{}\");</script><div id=\\textbackslash{}\"gsc\\_md\\_cbyd\\textbackslash{}\" style=\\textbackslash{}\"display:none\\textbackslash{}\" class=\\textbackslash{}\"gs\\_md\\_d gs\\_md\\_wn gs\\_ttzi\\textbackslash{}\" role=\\textbackslash{}\"dialog\\textbackslash{}\" aria-hidden=\\textbackslash{}\"true\\textbackslash{}\" aria-labelledby=\\textbackslash{}\"gsc\\_md\\_cbyd-t\\textbackslash{}\"><a id=\\textbackslash{}\"gsc\\_md\\_cbyd-x\\textbackslash{}\" href=\\textbackslash{}\"\\#\\textbackslash{}\" role=\\textbackslash{}\"button\\textbackslash{}\" aria-label=\\textbackslash{}\"Cancel\\textbackslash{}\" class=\\textbackslash{}\"gs\\_ico gs\\_ico\\_X gs\\_ico\\_Xt\\textbackslash{}\" onclick=\\textbackslash{}\"return gs\\_md\\_cls('gsc\\_md\\_cbyd',event)\\textbackslash{}\"></a><h2 id=\\textbackslash{}\"gsc\\_md\\_cbyd-t\\textbackslash{}\">Duplicate citations</h2><p>The following articles are merged in Scholar. Their <a id=\\textbackslash{}\"gsc\\_md\\_cbyd\\_c\\textbackslash{}\" href=\\textbackslash{}\"\\#\\textbackslash{}\">combined citations</a> are counted only for the first article.</p><div id=\\textbackslash{}\"gsc\\_md\\_cbyd\\_l\\textbackslash{}\"></div><div class=\\textbackslash{}\"gs\\_md\\_btns\\textbackslash{}\"><button type=\\textbackslash{}\"button\\textbackslash{}\" id=\\textbackslash{}\"gsc\\_md\\_cbyd\\_cancel\\textbackslash{}\" class=\\textbackslash{}\"\\textbackslash{}\"><span class=\\textbackslash{}\"gs\\_wr\\textbackslash{}\"><span class=\\textbackslash{}\"gs\\_lbl\\textbackslash{}\">Done</span></span></button></div><script>function gsc\\_md\\_show\\_cbyd(a,x,u,e)\\{var f=gs\\_id(\\textbackslash{}\"gsc\\_md\\_cbyd\\_f\\textbackslash{}\"),m=gs\\_id(\\textbackslash{}\"gsc\\_md\\_cbyd\\_merge\\textbackslash{}\"),s=u+\\textbackslash{}\",\\textbackslash{}\"+x;f\\&\\&(f.elements.s.value=s);gs\\_id(\\textbackslash{}\"gsc\\_md\\_cbyd\\_c\\textbackslash{}\").href=a;if(m)\\{m.disabled=false;gs\\_udis(m);\\}gs\\_md\\_ldw(\\textbackslash{}\"gsc\\_md\\_cbyd\\textbackslash{}\",e,m?m.id:\\textbackslash{}\"gsc\\_md\\_cbyd\\_cancel\\textbackslash{}\",\\textbackslash{}\"gsc\\_md\\_cbyd\\_l\\textbackslash{}\",\\textbackslash{}\"/citations?hl\\textbackslash{}x3den\\textbackslash{}x26oe\\textbackslash{}x3dASCII\\textbackslash{}x26user\\textbackslash{}x3dHI-I6C0AAAAJ\\textbackslash{}x26view\\_op\\textbackslash{}x3dlist\\_works\\textbackslash{}\",\\textbackslash{}\"merge\\_btn=1\\&s=\\textbackslash{}\"+s,function()\\{if(f\\&\\&m)\\{var c=f.elements.choose;m.disabled=!c;(c?gs\\_udis:gs\\_xdis)(m);c\\&\\&gs\\_ssel(c{[}0{]});\\}\\});\\}gs\\_evt\\_clk(gs\\_id(\\textbackslash{}\"gsc\\_md\\_cbyd\\_cancel\\textbackslash{}\"),gs\\_bind(gs\\_md\\_cls,\\textbackslash{}\"gsc\\_md\\_cbyd\\textbackslash{}\"));</script></div><script>gs\\_md\\_ifc(\\textbackslash{}\"gsc\\_md\\_cbyd\\textbackslash{}\",\\textbackslash{}\"gsc\\_md\\_cbyd-x\\textbackslash{}\");</script><div id=\\textbackslash{}\"gsc\\_md\\_mopt\\textbackslash{}\" style=\\textbackslash{}\"display:none\\textbackslash{}\" class=\\textbackslash{}\"gs\\_md\\_d gs\\_md\\_wn gs\\_ttzi\\textbackslash{}\" role=\\textbackslash{}\"dialog\\textbackslash{}\" aria-hidden=\\textbackslash{}\"true\\textbackslash{}\" aria-labelledby=\\textbackslash{}\"gsc\\_md\\_mopt-t\\textbackslash{}\"><a id=\\textbackslash{}\"gsc\\_md\\_mopt-x\\textbackslash{}\" href=\\textbackslash{}\"\\#\\textbackslash{}\" role=\\textbackslash{}\"button\\textbackslash{}\" aria-label=\\textbackslash{}\"Cancel\\textbackslash{}\" class=\\textbackslash{}\"gs\\_ico gs\\_ico\\_X gs\\_ico\\_Xt\\textbackslash{}\" onclick=\\textbackslash{}\"return gs\\_md\\_cls('gsc\\_md\\_mopt',event)\\textbackslash{}\"></a><h2 id=\\textbackslash{}\"gsc\\_md\\_mopt-t\\textbackslash{}\">Merge duplicates</h2></div><script>gs\\_md\\_ifc(\\textbackslash{}\"gsc\\_md\\_mopt\\textbackslash{}\",\\textbackslash{}\"gsc\\_md\\_mopt-x\\textbackslash{}\");</script><div id=\\textbackslash{}\"gsc\\_md\\_hist\\textbackslash{}\" style=\\textbackslash{}\"display:none\\textbackslash{}\" class=\\textbackslash{}\"gs\\_md\\_d gs\\_md\\_wn gs\\_ttzi\\textbackslash{}\" role=\\textbackslash{}\"dialog\\textbackslash{}\" aria-hidden=\\textbackslash{}\"true\\textbackslash{}\" aria-labelledby=\\textbackslash{}\"gsc\\_md\\_hist-t\\textbackslash{}\"><a id=\\textbackslash{}\"gsc\\_md\\_hist-x\\textbackslash{}\" href=\\textbackslash{}\"\\#\\textbackslash{}\" role=\\textbackslash{}\"button\\textbackslash{}\" aria-label=\\textbackslash{}\"Cancel\\textbackslash{}\" class=\\textbackslash{}\"gs\\_ico gs\\_ico\\_X gs\\_ico\\_Xt\\textbackslash{}\" onclick=\\textbackslash{}\"return gs\\_md\\_cls('gsc\\_md\\_hist',event)\\textbackslash{}\"></a><h2 id=\\textbackslash{}\"gsc\\_md\\_hist-t\\textbackslash{}\">Citations per year</h2><div id=\\textbackslash{}\"gsc\\_md\\_hist\\_c\\textbackslash{}\"></div></div><script>gs\\_md\\_ifc(\\textbackslash{}\"gsc\\_md\\_hist\\textbackslash{}\",\\textbackslash{}\"gsc\\_md\\_hist-x\\textbackslash{}\");</script></div><style>\\#gs\\_alrt\\_w\\{position:fixed;width:100\\%;z-index:1050;display:none;opacity:0;transition:opacity .3s ease-out;\\}\\#gs\\_alrt\\_w.gs\\_vis\\{opacity:1\\}\\#gs\\_alrt\\_p\\{position:absolute;top:-15px;right:0;width:100\\%;text-align:center;\\}\\#gs\\_alrt\\{display:inline-block;font-size:13px;line-height:16px;padding:0 16px 6px 16px;\\}\\#gs\\_alrt\\_m,\\#gs\\_alrt\\_u\\{display:inline-block;padding-top:7px;\\}\\#gs\\_alrt\\_l:link,\\#gs\\_alrt\\_l:visited\\{margin-left:16px;padding:7px 0 6px 0;color:\\#222;text-decoration:underline;\\}\\#gs\\_alrt\\_l:hover\\{color:\\#1a0dab\\}\\#gs\\_alrt\\_l:active\\{color:\\#d14836\\}</style><div id=\\textbackslash{}\"gs\\_alrt\\_w\\textbackslash{}\"><div id=\\textbackslash{}\"gs\\_alrt\\_p\\textbackslash{}\"><form><input type=\\textbackslash{}\"hidden\\textbackslash{}\" id=\\textbackslash{}\"gs\\_alrt\\_ss\\textbackslash{}\"></form><form action=\\textbackslash{}\"\\textbackslash{}\" method=\\textbackslash{}\"post\\textbackslash{}\" id=\\textbackslash{}\"gs\\_alrt\\textbackslash{}\" class=\\textbackslash{}\"gs\\_alrt\\textbackslash{}\"><span id=\\textbackslash{}\"gs\\_alrt\\_m\\textbackslash{}\"></span><span id=\\textbackslash{}\"gs\\_alrt\\_h\\textbackslash{}\"></span><span id=\\textbackslash{}\"gs\\_alrt\\_u\\textbackslash{}\" style=\\textbackslash{}\"display:none\\textbackslash{}\"><a id=\\textbackslash{}\"gs\\_alrt\\_l\\textbackslash{}\" href=\\textbackslash{}\"javascript:void(0)\\textbackslash{}\" onclick=\\textbackslash{}\"gs\\_id('gs\\_alrt').submit();return false\\textbackslash{}\"></a></span></form></div></div><script>var gs\\_wa\\_t;function gs\\_wa\\_hf(e)\\{gs\\_uevt(document,\\textbackslash{}\"click\\textbackslash{}\",gs\\_wa\\_hf);clearTimeout(gs\\_wa\\_t);gs\\_wa\\_t=undefined;var d=gs\\_id(\\textbackslash{}\"gs\\_alrt\\_w\\textbackslash{}\");if(e)\\{setTimeout(function()\\{d.style.display=\\textbackslash{}\"none\\textbackslash{}\";gs\\_uvis(d);\\},0);\\}else\\{gs\\_vis(d,0);\\}\\}function gs\\_wa\\_sf()\\{gs\\_visi(\\textbackslash{}\"gs\\_alrt\\_w\\textbackslash{}\",1);gs\\_evt(document,\\textbackslash{}\"click\\textbackslash{}\",gs\\_wa\\_hf);clearTimeout(gs\\_wa\\_t);gs\\_wa\\_t=setTimeout(gs\\_wa\\_hf,60000);\\}function gs\\_wa\\_m(m,l,u,f) \\{var x,h,e;gs\\_id(\\textbackslash{}\"gs\\_alrt\\_m\\textbackslash{}\").innerHTML=m;if(l\\&\\&u\\&\\&f)\\{x=gs\\_id(\\textbackslash{}\"gs\\_alrt\\_l\\textbackslash{}\");\\textbackslash{}\"innerText\\textbackslash{}\" in x?(x.innerText=l):(x.textContent=l);gs\\_id(\\textbackslash{}\"gs\\_alrt\\textbackslash{}\").action=u;h=gs\\_id(\\textbackslash{}\"gs\\_alrt\\_h\\textbackslash{}\");h.innerHTML=\\textbackslash{}\"\\textbackslash{}\";for(i in f)\\{e=document.createElement(\\textbackslash{}\"input\\textbackslash{}\");e.name=i;e.type=\\textbackslash{}\"hidden\\textbackslash{}\";e.value=f{[}i{]};h.appendChild(e);\\}gs\\_visi(\\textbackslash{}\"gs\\_alrt\\_u\\textbackslash{}\",2);\\} else \\{gs\\_visi(\\textbackslash{}\"gs\\_alrt\\_u\\textbackslash{}\",0);\\}gs\\_wa\\_sf();\\}gs\\_evt\\_rdy(function()\\{gs\\_evt(window,\\textbackslash{}\"pagehide\\textbackslash{}\",gs\\_bind(gs\\_visi,\\textbackslash{}\"gs\\_alrt\\_w\\textbackslash{}\",0));\\});</script><div id=\\textbackslash{}\"gsc\\_bdy\\textbackslash{}\"><div id=\\textbackslash{}\"gsc\\_rsb\\_m\\textbackslash{}\" role=\\textbackslash{}\"search\\textbackslash{}\"><div class=\\textbackslash{}\"gsc\\_rsb\\_s\\_m\\textbackslash{}\" id=\\textbackslash{}\"gsc\\_rsb\\_lg\\_m\\textbackslash{}\"><a href=\\textbackslash{}\"/schhp?hl=en\\&amp;oe=ASCII\\textbackslash{}\" id=\\textbackslash{}\"gsc\\_rsb\\_icol\\_m\\textbackslash{}\" aria-label=\\textbackslash{}\"Scholar Home\\textbackslash{}\"><span class=\\textbackslash{}\"gs\\_oph\\textbackslash{}\">Scholar</span></a><form action=\\textbackslash{}\"/citations\\textbackslash{}\" id=\\textbackslash{}\"gsc\\_rsb\\_f\\_m\\textbackslash{}\" class=\\textbackslash{}\"gsc\\_rsb\\_foff\\textbackslash{}\"><input type=hidden name=hl value=\\textbackslash{}\"en\\textbackslash{}\"><input type=hidden name=oe value=\\textbackslash{}\"ASCII\\textbackslash{}\"><input type=\\textbackslash{}\"hidden\\textbackslash{}\" name=\\textbackslash{}\"view\\_op\\textbackslash{}\" value=\\textbackslash{}\"search\\_authors\\textbackslash{}\"><input type=\\textbackslash{}\"text\\textbackslash{}\" class=\\textbackslash{}\"gs\\_in\\_txt\\textbackslash{}\" name=\\textbackslash{}\"mauthors\\textbackslash{}\" value=\\textbackslash{}\"\\textbackslash{}\" id=\\textbackslash{}\"gsc\\_rsb\\_fin\\_m\\textbackslash{}\" size=\\textbackslash{}\"57\\textbackslash{}\" maxlength=\\textbackslash{}\"256\\textbackslash{}\" autocapitalize=\\textbackslash{}\"off\\textbackslash{}\" aria-label=\\textbackslash{}\"Search\\textbackslash{}\"><button type=\\textbackslash{}\"submit\\textbackslash{}\" id=\\textbackslash{}\"gsc\\_rsb\\_fbt\\_m\\textbackslash{}\" aria-label=\\textbackslash{}\"Search Authors\\textbackslash{}\" class=\\textbackslash{}\"gs\\_btnSB gs\\_in\\_ib gs\\_btn\\_half\\textbackslash{}\"><span class=\\textbackslash{}\"gs\\_wr\\textbackslash{}\"><span class=\\textbackslash{}\"gs\\_lbl\\textbackslash{}\"></span><span class=\\textbackslash{}\"gs\\_ico\\textbackslash{}\"></span></span></button></form></div></div><div class=\\textbackslash{}\"gsc\\_lcl\\textbackslash{}\" role=\\textbackslash{}\"main\\textbackslash{}\" id=\\textbackslash{}\"gsc\\_prf\\_w\\textbackslash{}\"><div id=\\textbackslash{}\"gsc\\_prf\\textbackslash{}\" class=\\textbackslash{}\"gs\\_scl\\textbackslash{}\"><div id=\\textbackslash{}\"gsc\\_prf\\_pu\\textbackslash{}\"><style>\\#gsc\\_prf\\_pup\\{width:113px;height:150px;\\}.gs\\_el\\_ta \\#gsc\\_prf\\_pup\\{width:75px;height:100px;\\}.gs\\_el\\_ph \\#gsc\\_prf\\_pup\\{width:56px;height:75px;\\}@media print\\{\\#gs\\_top \\#gsc\\_prf\\_pup\\{width:60pt;height:80pt;\\}\\}</style><a href=\\textbackslash{}\"/citations?user=HI-I6C0AAAAJ\\&amp;hl=en\\&amp;oe=ASCII\\textbackslash{}\" id=\\textbackslash{}\"gsc\\_prf\\_pua\\textbackslash{}\"><img src=\\textbackslash{}\"/citations?view\\_op=view\\_photo\\&amp;user=HI-I6C0AAAAJ\\&amp;citpid=1\\textbackslash{}\" sizes=\\textbackslash{}\"print 60px,(max-width:599px) 56px,(max-width:981px) 75px,113px\\textbackslash{}\" srcset=\\textbackslash{}\"/citations?view\\_op=view\\_photo\\&amp;user=HI-I6C0AAAAJ\\&amp;citpid=1 113w,/citations?view\\_op=medium\\_photo\\&amp;user=HI-I6C0AAAAJ\\&amp;citpid=1 225w\\textbackslash{}\" id=\\textbackslash{}\"gsc\\_prf\\_pup\\textbackslash{}\" alt=\\textbackslash{}\"Jeff Leek\\textbackslash{}\"></a></div><div id=\\textbackslash{}\"gsc\\_prf\\_i\\textbackslash{}\"><div id=\\textbackslash{}\"gsc\\_prf\\_ib\\textbackslash{}\"><div id=\\textbackslash{}\"gsc\\_prf\\_ibi\\textbackslash{}\"><div style=\\textbackslash{}\"position:relative\\textbackslash{}\" class=\\textbackslash{}\"gs\\_ibl\\textbackslash{}\"><button type=\\textbackslash{}\"button\\textbackslash{}\" id=\\textbackslash{}\"gsc\\_fol\\_btn\\textbackslash{}\" aria-controls=\\textbackslash{}\"gsc\\_fol\\_dd\\textbackslash{}\" aria-haspopup=\\textbackslash{}\"true\\textbackslash{}\" class=\\textbackslash{}\"gs\\_btnMW gs\\_in\\_ib gs\\_in\\_se gs\\_btn\\_mnu gs\\_btn\\_mn2 gs\\_btn\\_act gs\\_btn\\_hph\\textbackslash{}\"><span class=\\textbackslash{}\"gs\\_wr\\textbackslash{}\"><span class=\\textbackslash{}\"gs\\_lbl\\textbackslash{}\">Follow</span><span class=\\textbackslash{}\"gs\\_ico\\textbackslash{}\"></span><span class=\\textbackslash{}\"gs\\_icm\\textbackslash{}\"></span></span></button><div class=\\textbackslash{}\"gs\\_md\\_se\\textbackslash{}\" id=\\textbackslash{}\"gsc\\_fol\\_dd\\textbackslash{}\"><form method=\\textbackslash{}\"post\\textbackslash{}\" id=\\textbackslash{}\"gsc\\_fol\\_f\\textbackslash{}\" action=\\textbackslash{}\"/citations?hl=en\\&amp;oe=ASCII\\&amp;user=HI-I6C0AAAAJ\\&amp;view\\_op=list\\_works\\textbackslash{}\"><input type=\\textbackslash{}\"hidden\\textbackslash{}\" name=\\textbackslash{}\"xsrf\\textbackslash{}\" value=\\textbackslash{}\"AMstHGQAAAAAV38nLkWyFR8rdUO8A-3FjOfhfYZJwS43\\textbackslash{}\"><input type=\\textbackslash{}\"hidden\\textbackslash{}\" name=\\textbackslash{}\"user\\textbackslash{}\" value=\\textbackslash{}\"HI-I6C0AAAAJ\\textbackslash{}\"><div id=\\textbackslash{}\"gsc\\_fol\\_ml\\textbackslash{}\">Email</div><div class=\\textbackslash{}\"gs\\_in\\_txtf\\textbackslash{}\"><input type=\\textbackslash{}\"text\\textbackslash{}\" class=\\textbackslash{}\"gs\\_in\\_txt\\textbackslash{}\" name=\\textbackslash{}\"email\\_for\\_op\\textbackslash{}\" value=\\textbackslash{}\"\\textbackslash{}\" id=\\textbackslash{}\"gsc\\_fol\\_m\\textbackslash{}\" maxlength=\\textbackslash{}\"100\\textbackslash{}\" autocapitalize=\\textbackslash{}\"off\\textbackslash{}\" autocorrect=\\textbackslash{}\"off\\textbackslash{}\"></div><div id=\\textbackslash{}\"gsc\\_fol\\_cb\\textbackslash{}\"><div class=\\textbackslash{}\"gsc\\_fol\\_cr\\textbackslash{}\"><span class=\\textbackslash{}\"gs\\_in\\_cb\\textbackslash{}\" onclick=\\textbackslash{}\"void(0)\\textbackslash{}\"><input type=\\textbackslash{}\"checkbox\\textbackslash{}\" name=\\textbackslash{}\"follow\\_articles\\_btn\\textbackslash{}\" id=\\textbackslash{}\"gsc\\_fol\\_a\\textbackslash{}\" value=\\textbackslash{}\"1\\textbackslash{}\" checked><label for=\\textbackslash{}\"gsc\\_fol\\_a\\textbackslash{}\">Follow new articles</label><span class=\\textbackslash{}\"gs\\_chk\\textbackslash{}\"></span><span class=\\textbackslash{}\"gs\\_cbx\\textbackslash{}\"></span></span></div><div class=\\textbackslash{}\"gsc\\_fol\\_cr\\textbackslash{}\"><span class=\\textbackslash{}\"gs\\_in\\_cb\\textbackslash{}\" onclick=\\textbackslash{}\"void(0)\\textbackslash{}\"><input type=\\textbackslash{}\"checkbox\\textbackslash{}\" name=\\textbackslash{}\"follow\\_citations\\_btn\\textbackslash{}\" id=\\textbackslash{}\"gsc\\_fol\\_c\\textbackslash{}\" value=\\textbackslash{}\"1\\textbackslash{}\"><label for=\\textbackslash{}\"gsc\\_fol\\_c\\textbackslash{}\">Follow new citations</label><span class=\\textbackslash{}\"gs\\_chk\\textbackslash{}\"></span><span class=\\textbackslash{}\"gs\\_cbx\\textbackslash{}\"></span></span></div></div><div><button type=\\textbackslash{}\"submit\\textbackslash{}\" id=\\textbackslash{}\"gsc\\_fol\\_b\\textbackslash{}\" class=\\textbackslash{}\" gs\\_btn\\_cre\\textbackslash{}\"><span class=\\textbackslash{}\"gs\\_wr\\textbackslash{}\"><span class=\\textbackslash{}\"gs\\_lbl\\textbackslash{}\">Create alert</span></span></button><button type=\\textbackslash{}\"button\\textbackslash{}\" id=\\textbackslash{}\"gsc\\_fol\\_x\\textbackslash{}\" class=\\textbackslash{}\"\\textbackslash{}\"><span class=\\textbackslash{}\"gs\\_wr\\textbackslash{}\"><span class=\\textbackslash{}\"gs\\_lbl\\textbackslash{}\">Cancel</span></span></button></div></form></div></div><script>gs\\_md\\_ifc(\\textbackslash{}\"gsc\\_fol\\_dd\\textbackslash{}\",\\textbackslash{}\"gsc\\_fol\\_m\\textbackslash{}\");!function()\\{var t=gs\\_id(\\textbackslash{}\"gsc\\_fol\\_btn\\textbackslash{}\"),d=\\textbackslash{}\"gsc\\_fol\\_dd\\textbackslash{}\",b=gs\\_id(\\textbackslash{}\"gsc\\_fol\\_b\\textbackslash{}\");var a=gs\\_id(\\textbackslash{}\"gsc\\_fol\\_a\\textbackslash{}\"),c=gs\\_id(\\textbackslash{}\"gsc\\_fol\\_c\\textbackslash{}\"),m=gs\\_id(\\textbackslash{}\"gsc\\_fol\\_m\\textbackslash{}\"),r=/\\textbackslash{}S+@\\textbackslash{}S+\\textbackslash{}.\\textbackslash{}S+/,s=function(x)\\{return x.checked\\&\\&!x.disabled\\},f=function()\\{((b.disabled=!r.test(m.value)\\textbar{}\\textbar{}!s(a)\\&\\&!s(c))?gs\\_xdis:gs\\_udis)(b);\\};f();gs\\_evt\\_rdy(f);gs\\_evt\\_all({[}a,c{]},\\textbackslash{}\"click\\textbackslash{}\",f);gs\\_evt\\_inp(m,f);gs\\_evt\\_clk(gs\\_id(\\textbackslash{}\"gsc\\_fol\\_x\\textbackslash{}\"),gs\\_bind(gs\\_md\\_cls,d));gs\\_evt\\_clk(t,function(e)\\{if(gs\\_id(d).offsetWidth)\\{gs\\_md\\_cls(d,e);\\}else\\{gs\\_xsel(t);gs\\_md\\_opn(d,e,gs\\_bind(gs\\_usel,t));b.disabled?gs\\_tfcs(m):b.focus();\\}\\},2,{[}13,32,38,40{]});\\}();</script></div></div><div id=\\textbackslash{}\"gsc\\_prf\\_in\\textbackslash{}\">Jeff Leek</div><div class=\\textbackslash{}\"gsc\\_prf\\_il\\textbackslash{}\">Associate Professor of Biostatistics, Johns Hopkins Bloomberg School of Public Health</div><div class=\\textbackslash{}\"gsc\\_prf\\_il\\textbackslash{}\"><a href=\\textbackslash{}\"/citations?view\\_op=search\\_authors\\&amp;hl=en\\&amp;oe=ASCII\\&amp;mauthors=label:statistics\\textbackslash{}\" class=\\textbackslash{}\"gsc\\_prf\\_ila\\textbackslash{}\">Statistics</a>, <a href=\\textbackslash{}\"/citations?view\\_op=search\\_authors\\&amp;hl=en\\&amp;oe=ASCII\\&amp;mauthors=label:computing\\textbackslash{}\" class=\\textbackslash{}\"gsc\\_prf\\_ila\\textbackslash{}\">Computing</a>, <a href=\\textbackslash{}\"/citations?view\\_op=search\\_authors\\&amp;hl=en\\&amp;oe=ASCII\\&amp;mauthors=label:genomics\\textbackslash{}\" class=\\textbackslash{}\"gsc\\_prf\\_ila\\textbackslash{}\">Genomics</a>, <a href=\\textbackslash{}\"/citations?view\\_op=search\\_authors\\&amp;hl=en\\&amp;oe=ASCII\\&amp;mauthors=label:personalized\\_medicine\\textbackslash{}\" class=\\textbackslash{}\"gsc\\_prf\\_ila\\textbackslash{}\">Personalized Medicine</a>, <a href=\\textbackslash{}\"/citations?view\\_op=search\\_authors\\&amp;hl=en\\&amp;oe=ASCII\\&amp;mauthors=label:scientific\\_communication\\textbackslash{}\" class=\\textbackslash{}\"gsc\\_prf\\_ila\\textbackslash{}\">Scientific Communication</a></div><div class=\\textbackslash{}\"gsc\\_prf\\_il\\textbackslash{}\" id=\\textbackslash{}\"gsc\\_prf\\_ivh\\textbackslash{}\">Verified email at jhsph.edu - <a href=\\textbackslash{}\"http://jtleek.com/\\textbackslash{}\" rel=\\textbackslash{}\"nofollow\\textbackslash{}\">Homepage</a></div></div></div></div><div id=\\textbackslash{}\"gsc\\_rsb\\textbackslash{}\" role=\\textbackslash{}\"navigation\\textbackslash{}\"><div class=\\textbackslash{}\"gsc\\_rsb\\_s\\textbackslash{}\" id=\\textbackslash{}\"gsc\\_rsb\\_lg\\textbackslash{}\"><a href=\\textbackslash{}\"/schhp?hl=en\\&amp;oe=ASCII\\textbackslash{}\" id=\\textbackslash{}\"gsc\\_rsb\\_icol\\textbackslash{}\" aria-label=\\textbackslash{}\"Scholar Home\\textbackslash{}\"><span class=\\textbackslash{}\"gs\\_oph\\textbackslash{}\">Scholar</span></a><form action=\\textbackslash{}\"/citations\\textbackslash{}\" id=\\textbackslash{}\"gsc\\_rsb\\_f\\textbackslash{}\" class=\\textbackslash{}\"gsc\\_rsb\\_foff\\textbackslash{}\"><input type=hidden name=hl value=\\textbackslash{}\"en\\textbackslash{}\"><input type=hidden name=oe value=\\textbackslash{}\"ASCII\\textbackslash{}\"><input type=\\textbackslash{}\"hidden\\textbackslash{}\" name=\\textbackslash{}\"view\\_op\\textbackslash{}\" value=\\textbackslash{}\"search\\_authors\\textbackslash{}\"><input type=\\textbackslash{}\"text\\textbackslash{}\" class=\\textbackslash{}\"gs\\_in\\_txt\\textbackslash{}\" name=\\textbackslash{}\"mauthors\\textbackslash{}\" value=\\textbackslash{}\"\\textbackslash{}\" id=\\textbackslash{}\"gsc\\_rsb\\_fin\\textbackslash{}\" size=\\textbackslash{}\"57\\textbackslash{}\" maxlength=\\textbackslash{}\"256\\textbackslash{}\" autocapitalize=\\textbackslash{}\"off\\textbackslash{}\" aria-label=\\textbackslash{}\"Search\\textbackslash{}\"><button type=\\textbackslash{}\"submit\\textbackslash{}\" id=\\textbackslash{}\"gsc\\_rsb\\_fbt\\textbackslash{}\" aria-label=\\textbackslash{}\"Search Authors\\textbackslash{}\" class=\\textbackslash{}\"gs\\_btnSB gs\\_in\\_ib gs\\_btn\\_half\\textbackslash{}\"><span class=\\textbackslash{}\"gs\\_wr\\textbackslash{}\"><span class=\\textbackslash{}\"gs\\_lbl\\textbackslash{}\"></span><span class=\\textbackslash{}\"gs\\_ico\\textbackslash{}\"></span></span></button></form><div id=\\textbackslash{}\"gsc\\_rsb\\_gpl\\textbackslash{}\"><button type=\\textbackslash{}\"button\\textbackslash{}\" onclick=\\textbackslash{}\"window.location='/citations?hl\\textbackslash{}x3den\\textbackslash{}x26oe\\textbackslash{}x3dASCII'\\textbackslash{}\" class=\\textbackslash{}\" gs\\_btn\\_act\\textbackslash{}\"><span class=\\textbackslash{}\"gs\\_wr\\textbackslash{}\"><span class=\\textbackslash{}\"gs\\_lbl\\textbackslash{}\">Get my own profile</span></span></button></div></div><div class=\\textbackslash{}\"gsc\\_rsb\\_s\\textbackslash{}\"><div id=\\textbackslash{}\"gsc\\_rsb\\_t\\textbackslash{}\">Google Scholar</div><table id=\\textbackslash{}\"gsc\\_rsb\\_st\\textbackslash{}\"><tr><th class=\\textbackslash{}\"gsc\\_rsb\\_sc1\\textbackslash{}\"><a href=\\textbackslash{}\"javascript:void(0)\\textbackslash{}\" onclick=\\textbackslash{}\"gs\\_md\\_hist\\_opn(event);\\textbackslash{}\">Citation indices</a></th><th class=\\textbackslash{}\"gsc\\_rsb\\_sth\\textbackslash{}\">All</th><th class=\\textbackslash{}\"gsc\\_rsb\\_sth\\textbackslash{}\">Since 2011</th></tr><tr><td class=\\textbackslash{}\"gsc\\_rsb\\_sc1\\textbackslash{}\"><a href=\\textbackslash{}\"javascript:void(0)\\textbackslash{}\" class=\\textbackslash{}\"gsc\\_rsb\\_f\\textbackslash{}\" title='This is the number of citations to all publications. The second column has the \\&quot;recent\\&quot; version of this metric which is the number of new citations in the last 5 years to all publications.'>Citations</a></td><td class=\\textbackslash{}\"gsc\\_rsb\\_std\\textbackslash{}\">3854</td><td class=\\textbackslash{}\"gsc\\_rsb\\_std\\textbackslash{}\">3259</td></tr><tr><td class=\\textbackslash{}\"gsc\\_rsb\\_sc1\\textbackslash{}\"><a href=\\textbackslash{}\"javascript:void(0)\\textbackslash{}\" class=\\textbackslash{}\"gsc\\_rsb\\_f\\textbackslash{}\" title='h-index is the largest number h such that h publications have at least h citations. The second column has the \\&quot;recent\\&quot; version of this metric which is the largest number h such that h publications have at least h new citations in the last 5 years.'>h-index</a></td><td class=\\textbackslash{}\"gsc\\_rsb\\_std\\textbackslash{}\">22</td><td class=\\textbackslash{}\"gsc\\_rsb\\_std\\textbackslash{}\">22</td></tr><tr><td class=\\textbackslash{}\"gsc\\_rsb\\_sc1\\textbackslash{}\"><a href=\\textbackslash{}\"javascript:void(0)\\textbackslash{}\" class=\\textbackslash{}\"gsc\\_rsb\\_f\\textbackslash{}\" title='i10-index is the number of publications with at least 10 citations. The second column has the \\&quot;recent\\&quot; version of this metric which is the number of publications that have received at least 10 new citations in the last 5 years.'>i10-index</a></td><td class=\\textbackslash{}\"gsc\\_rsb\\_std\\textbackslash{}\">32</td><td class=\\textbackslash{}\"gsc\\_rsb\\_std\\textbackslash{}\">32</td></tr></table><div id=\\textbackslash{}\"gsc\\_g\\textbackslash{}\"><div id=\\textbackslash{}\"gsc\\_g\\_x\\textbackslash{}\"><span class=\\textbackslash{}\"gsc\\_g\\_t\\textbackslash{}\" style=\\textbackslash{}\"left:3px\\textbackslash{}\">2008</span><span class=\\textbackslash{}\"gsc\\_g\\_t\\textbackslash{}\" style=\\textbackslash{}\"left:35px\\textbackslash{}\">2009</span><span class=\\textbackslash{}\"gsc\\_g\\_t\\textbackslash{}\" style=\\textbackslash{}\"left:67px\\textbackslash{}\">2010</span><span class=\\textbackslash{}\"gsc\\_g\\_t\\textbackslash{}\" style=\\textbackslash{}\"left:99px\\textbackslash{}\">2011</span><span class=\\textbackslash{}\"gsc\\_g\\_t\\textbackslash{}\" style=\\textbackslash{}\"left:131px\\textbackslash{}\">2012</span><span class=\\textbackslash{}\"gsc\\_g\\_t\\textbackslash{}\" style=\\textbackslash{}\"left:163px\\textbackslash{}\">2013</span><span class=\\textbackslash{}\"gsc\\_g\\_t\\textbackslash{}\" style=\\textbackslash{}\"left:195px\\textbackslash{}\">2014</span><span class=\\textbackslash{}\"gsc\\_g\\_t\\textbackslash{}\" style=\\textbackslash{}\"left:227px\\textbackslash{}\">2015</span><span class=\\textbackslash{}\"gsc\\_g\\_t\\textbackslash{}\" style=\\textbackslash{}\"left:259px\\textbackslash{}\">2016</span></div><div id=\\textbackslash{}\"gsc\\_g\\_bars\\textbackslash{}\"><a href=\\textbackslash{}\"javascript:void(0)\\textbackslash{}\" class=\\textbackslash{}\"gsc\\_g\\_a\\textbackslash{}\" style=\\textbackslash{}\"left:8px;height:9px;z-index:9\\textbackslash{}\"><span class=\\textbackslash{}\"gsc\\_g\\_al\\textbackslash{}\">129</span></a><a href=\\textbackslash{}\"javascript:void(0)\\textbackslash{}\" class=\\textbackslash{}\"gsc\\_g\\_a\\textbackslash{}\" style=\\textbackslash{}\"left:40px;height:8px;z-index:8\\textbackslash{}\"><span class=\\textbackslash{}\"gsc\\_g\\_al\\textbackslash{}\">116</span></a><a href=\\textbackslash{}\"javascript:void(0)\\textbackslash{}\" class=\\textbackslash{}\"gsc\\_g\\_a\\textbackslash{}\" style=\\textbackslash{}\"left:72px;height:13px;z-index:7\\textbackslash{}\"><span class=\\textbackslash{}\"gsc\\_g\\_al\\textbackslash{}\">184</span></a><a href=\\textbackslash{}\"javascript:void(0)\\textbackslash{}\" class=\\textbackslash{}\"gsc\\_g\\_a\\textbackslash{}\" style=\\textbackslash{}\"left:104px;height:21px;z-index:6\\textbackslash{}\"><span class=\\textbackslash{}\"gsc\\_g\\_al\\textbackslash{}\">292</span></a><a href=\\textbackslash{}\"javascript:void(0)\\textbackslash{}\" class=\\textbackslash{}\"gsc\\_g\\_a\\textbackslash{}\" style=\\textbackslash{}\"left:136px;height:33px;z-index:5\\textbackslash{}\"><span class=\\textbackslash{}\"gsc\\_g\\_al\\textbackslash{}\">449</span></a><a href=\\textbackslash{}\"javascript:void(0)\\textbackslash{}\" class=\\textbackslash{}\"gsc\\_g\\_a\\textbackslash{}\" style=\\textbackslash{}\"left:168px;height:42px;z-index:4\\textbackslash{}\"><span class=\\textbackslash{}\"gsc\\_g\\_al\\textbackslash{}\">572</span></a><a href=\\textbackslash{}\"javascript:void(0)\\textbackslash{}\" class=\\textbackslash{}\"gsc\\_g\\_a\\textbackslash{}\" style=\\textbackslash{}\"left:200px;height:50px;z-index:3\\textbackslash{}\"><span class=\\textbackslash{}\"gsc\\_g\\_al\\textbackslash{}\">682</span></a><a href=\\textbackslash{}\"javascript:void(0)\\textbackslash{}\" class=\\textbackslash{}\"gsc\\_g\\_a\\textbackslash{}\" style=\\textbackslash{}\"left:232px;height:57px;z-index:2\\textbackslash{}\"><span class=\\textbackslash{}\"gsc\\_g\\_al\\textbackslash{}\">765</span></a><a href=\\textbackslash{}\"javascript:void(0)\\textbackslash{}\" class=\\textbackslash{}\"gsc\\_g\\_a\\textbackslash{}\" style=\\textbackslash{}\"left:264px;height:36px;z-index:1\\textbackslash{}\"><span class=\\textbackslash{}\"gsc\\_g\\_al\\textbackslash{}\">485</span></a></div></div><script>function gs\\_md\\_hist\\_opn(e)\\{gs\\_md\\_ldw(\\textbackslash{}\"gsc\\_md\\_hist\\textbackslash{}\",e,0,\\textbackslash{}\"gsc\\_md\\_hist\\_c\\textbackslash{}\",\\textbackslash{}\"/citations?hl\\textbackslash{}x3den\\textbackslash{}x26oe\\textbackslash{}x3dASCII\\textbackslash{}x26user\\textbackslash{}x3dHI-I6C0AAAAJ\\textbackslash{}x26view\\_op\\textbackslash{}x3dcitations\\_histogram\\textbackslash{}\",\\textbackslash{}\"\\textbackslash{}\",function()\\{var x=gs\\_id(\\textbackslash{}\"gsc\\_md\\_hist\\_b\\textbackslash{}\");x\\&\\&gsc\\_scroll\\_right(x);\\});\\}gs\\_evt\\_rdy(function()\\{gs\\_evt\\_clk(gs\\_id(\\textbackslash{}\"gsc\\_g\\textbackslash{}\"),gs\\_md\\_hist\\_opn);\\});</script></div></div><div class=\\textbackslash{}\"gsc\\_lcl\\textbackslash{}\" role=\\textbackslash{}\"complementary\\textbackslash{}\" id=\\textbackslash{}\"gsc\\_art\\textbackslash{}\"><form method=\\textbackslash{}\"post\\textbackslash{}\" action=\\textbackslash{}\"/citations?hl=en\\&amp;oe=ASCII\\&amp;user=HI-I6C0AAAAJ\\&amp;view\\_op=list\\_works\\textbackslash{}\" id=\\textbackslash{}\"citationsForm\\textbackslash{}\"><input type=\\textbackslash{}\"hidden\\textbackslash{}\" name=\\textbackslash{}\"xsrf\\textbackslash{}\" value=\\textbackslash{}\"AMstHGQAAAAAV38nLkWyFR8rdUO8A-3FjOfhfYZJwS43\\textbackslash{}\"><table id=\\textbackslash{}\"gsc\\_a\\_t\\textbackslash{}\"><thead id=\\textbackslash{}\"gsc\\_a\\_hd\\textbackslash{}\"><tr id=\\textbackslash{}\"gsc\\_a\\_tr0\\textbackslash{}\" aria-hidden=\\textbackslash{}\"true\\textbackslash{}\"><th class=\\textbackslash{}\"gsc\\_a\\_t\\textbackslash{}\" id=\\textbackslash{}\"gsc\\_a\\_tr0\\_t\\textbackslash{}\"></th><th class=\\textbackslash{}\"gsc\\_a\\_c\\textbackslash{}\"></th><th class=\\textbackslash{}\"gsc\\_a\\_y\\textbackslash{}\"></th></tr><tr id=\\textbackslash{}\"gsc\\_a\\_trh\\textbackslash{}\"><th class=\\textbackslash{}\"gsc\\_a\\_t\\textbackslash{}\" id=\\textbackslash{}\"gsc\\_a\\_trh\\_t\\textbackslash{}\" scope=\\textbackslash{}\"col\\textbackslash{}\"><span id=\\textbackslash{}\"gsc\\_a\\_ta\\textbackslash{}\"><a href=\\textbackslash{}\"/citations?hl=en\\&amp;oe=ASCII\\&amp;user=HI-I6C0AAAAJ\\&amp;view\\_op=list\\_works\\&amp;sortby=title\\textbackslash{}\" class=\\textbackslash{}\"gsc\\_a\\_a\\textbackslash{}\">Title</a></span><span id=\\textbackslash{}\"gsc\\_a\\_nn\\textbackslash{}\">1\\&ndash;20</span></th><th class=\\textbackslash{}\"gsc\\_a\\_c\\textbackslash{}\" scope=\\textbackslash{}\"col\\textbackslash{}\"><span id=\\textbackslash{}\"gsc\\_a\\_ca\\textbackslash{}\">Cited by</span></th><th class=\\textbackslash{}\"gsc\\_a\\_y\\textbackslash{}\" scope=\\textbackslash{}\"col\\textbackslash{}\"><span class=\\textbackslash{}\"gsc\\_a\\_h\\textbackslash{}\"><a href=\\textbackslash{}\"/citations?hl=en\\&amp;oe=ASCII\\&amp;user=HI-I6C0AAAAJ\\&amp;view\\_op=list\\_works\\&amp;sortby=pubdate\\textbackslash{}\" class=\\textbackslash{}\"gsc\\_a\\_a\\textbackslash{}\">Year</a></span></th></tr></thead><tbody id=\\textbackslash{}\"gsc\\_a\\_b\\textbackslash{}\"><tr class=\\textbackslash{}\"gsc\\_a\\_tr\\textbackslash{}\"><td class=\\textbackslash{}\"gsc\\_a\\_t\\textbackslash{}\"><a href=\\textbackslash{}\"/citations?view\\_op=view\\_citation\\&amp;hl=en\\&amp;oe=ASCII\\&amp;user=HI-I6C0AAAAJ\\&amp;citation\\_for\\_view=HI-I6C0AAAAJ:UeHWp8X0CEIC\\textbackslash{}\" class=\\textbackslash{}\"gsc\\_a\\_at\\textbackslash{}\">Tackling the widespread and critical impact of batch effects in high-throughput data</a><div class=\\textbackslash{}\"gs\\_gray\\textbackslash{}\">JT Leek, RB Scharpf, HC Bravo, D Simcha, B Langmead, WE Johnson, ...</div><div class=\\textbackslash{}\"gs\\_gray\\textbackslash{}\">Nature Reviews Genetics 11 (10), 733-739<span class=\\textbackslash{}\"gs\\_oph\\textbackslash{}\">, 2010</span></div></td><td class=\\textbackslash{}\"gsc\\_a\\_c\\textbackslash{}\"><a href=\\textbackslash{}\"http://scholar.google.com/scholar?oi=bibs\\&amp;hl=en\\&amp;oe=ASCII\\&amp;cites=16403016020126782741\\textbackslash{}\" class=\\textbackslash{}\"gsc\\_a\\_ac\\textbackslash{}\">559</a></td><td class=\\textbackslash{}\"gsc\\_a\\_y\\textbackslash{}\"><span class=\\textbackslash{}\"gsc\\_a\\_h\\textbackslash{}\">2010</span></td></tr><tr class=\\textbackslash{}\"gsc\\_a\\_tr\\textbackslash{}\"><td class=\\textbackslash{}\"gsc\\_a\\_t\\textbackslash{}\"><a href=\\textbackslash{}\"/citations?view\\_op=view\\_citation\\&amp;hl=en\\&amp;oe=ASCII\\&amp;user=HI-I6C0AAAAJ\\&amp;citation\\_for\\_view=HI-I6C0AAAAJ:d1gkVwhDpl0C\\textbackslash{}\" class=\\textbackslash{}\"gsc\\_a\\_at\\textbackslash{}\">Capturing heterogeneity in gene expression studies by surrogate variable analysis</a><div class=\\textbackslash{}\"gs\\_gray\\textbackslash{}\">JT Leek, JD Storey</div><div class=\\textbackslash{}\"gs\\_gray\\textbackslash{}\">PLoS Genet 3 (9), e161<span class=\\textbackslash{}\"gs\\_oph\\textbackslash{}\">, 2007</span></div></td><td class=\\textbackslash{}\"gsc\\_a\\_c\\textbackslash{}\"><a href=\\textbackslash{}\"http://scholar.google.com/scholar?oi=bibs\\&amp;hl=en\\&amp;oe=ASCII\\&amp;cites=14943880347723800617\\textbackslash{}\" class=\\textbackslash{}\"gsc\\_a\\_ac\\textbackslash{}\">530</a></td><td class=\\textbackslash{}\"gsc\\_a\\_y\\textbackslash{}\"><span class=\\textbackslash{}\"gsc\\_a\\_h\\textbackslash{}\">2007</span></td></tr><tr class=\\textbackslash{}\"gsc\\_a\\_tr\\textbackslash{}\"><td class=\\textbackslash{}\"gsc\\_a\\_t\\textbackslash{}\"><a href=\\textbackslash{}\"/citations?view\\_op=view\\_citation\\&amp;hl=en\\&amp;oe=ASCII\\&amp;user=HI-I6C0AAAAJ\\&amp;citation\\_for\\_view=HI-I6C0AAAAJ:u5HHmVD\\_uO8C\\textbackslash{}\" class=\\textbackslash{}\"gsc\\_a\\_at\\textbackslash{}\">Significance analysis of time course microarray experiments</a><div class=\\textbackslash{}\"gs\\_gray\\textbackslash{}\">JD Storey, W Xiao, JT Leek, RG Tompkins, RW Davis</div><div class=\\textbackslash{}\"gs\\_gray\\textbackslash{}\">Proceedings of the National Academy of Sciences of the United States of ...<span class=\\textbackslash{}\"gs\\_oph\\textbackslash{}\">, 2005</span></div></td><td class=\\textbackslash{}\"gsc\\_a\\_c\\textbackslash{}\"><a href=\\textbackslash{}\"http://scholar.google.com/scholar?oi=bibs\\&amp;hl=en\\&amp;oe=ASCII\\&amp;cites=8692182196465189153\\textbackslash{}\" class=\\textbackslash{}\"gsc\\_a\\_ac\\textbackslash{}\">490</a></td><td class=\\textbackslash{}\"gsc\\_a\\_y\\textbackslash{}\"><span class=\\textbackslash{}\"gsc\\_a\\_h\\textbackslash{}\">2005</span></td></tr><tr class=\\textbackslash{}\"gsc\\_a\\_tr\\textbackslash{}\"><td class=\\textbackslash{}\"gsc\\_a\\_t\\textbackslash{}\"><a href=\\textbackslash{}\"/citations?view\\_op=view\\_citation\\&amp;hl=en\\&amp;oe=ASCII\\&amp;user=HI-I6C0AAAAJ\\&amp;citation\\_for\\_view=HI-I6C0AAAAJ:Se3iqnhoufwC\\textbackslash{}\" class=\\textbackslash{}\"gsc\\_a\\_at\\textbackslash{}\">Temporal dynamics and genetic control of transcription in the human prefrontal cortex</a><div class=\\textbackslash{}\"gs\\_gray\\textbackslash{}\">C Colantuoni, BK Lipska, T Ye, TM Hyde, R Tao, JT Leek, EA Colantuoni, ...</div><div class=\\textbackslash{}\"gs\\_gray\\textbackslash{}\">Nature 478 (7370), 519-523<span class=\\textbackslash{}\"gs\\_oph\\textbackslash{}\">, 2011</span></div></td><td class=\\textbackslash{}\"gsc\\_a\\_c\\textbackslash{}\"><a href=\\textbackslash{}\"http://scholar.google.com/scholar?oi=bibs\\&amp;hl=en\\&amp;oe=ASCII\\&amp;cites=15401379057477374674\\textbackslash{}\" class=\\textbackslash{}\"gsc\\_a\\_ac\\textbackslash{}\">290</a></td><td class=\\textbackslash{}\"gsc\\_a\\_y\\textbackslash{}\"><span class=\\textbackslash{}\"gsc\\_a\\_h\\textbackslash{}\">2011</span></td></tr><tr class=\\textbackslash{}\"gsc\\_a\\_tr\\textbackslash{}\"><td class=\\textbackslash{}\"gsc\\_a\\_t\\textbackslash{}\"><a href=\\textbackslash{}\"/citations?view\\_op=view\\_citation\\&amp;hl=en\\&amp;oe=ASCII\\&amp;user=HI-I6C0AAAAJ\\&amp;citation\\_for\\_view=HI-I6C0AAAAJ:IjCSPb-OGe4C\\textbackslash{}\" class=\\textbackslash{}\"gsc\\_a\\_at\\textbackslash{}\">Cloud-scale RNA-sequencing differential expression analysis with Myrna</a><div class=\\textbackslash{}\"gs\\_gray\\textbackslash{}\">B Langmead, KD Hansen, JT Leek</div><div class=\\textbackslash{}\"gs\\_gray\\textbackslash{}\">Genome biology 11 (8), 1<span class=\\textbackslash{}\"gs\\_oph\\textbackslash{}\">, 2010</span></div></td><td class=\\textbackslash{}\"gsc\\_a\\_c\\textbackslash{}\"><a href=\\textbackslash{}\"http://scholar.google.com/scholar?oi=bibs\\&amp;hl=en\\&amp;oe=ASCII\\&amp;cites=9392678635432440961\\textbackslash{}\" class=\\textbackslash{}\"gsc\\_a\\_ac\\textbackslash{}\">242</a></td><td class=\\textbackslash{}\"gsc\\_a\\_y\\textbackslash{}\"><span class=\\textbackslash{}\"gsc\\_a\\_h\\textbackslash{}\">2010</span></td></tr><tr class=\\textbackslash{}\"gsc\\_a\\_tr\\textbackslash{}\"><td class=\\textbackslash{}\"gsc\\_a\\_t\\textbackslash{}\"><a href=\\textbackslash{}\"/citations?view\\_op=view\\_citation\\&amp;hl=en\\&amp;oe=ASCII\\&amp;user=HI-I6C0AAAAJ\\&amp;citation\\_for\\_view=HI-I6C0AAAAJ:u-x6o8ySG0sC\\textbackslash{}\" class=\\textbackslash{}\"gsc\\_a\\_at\\textbackslash{}\">EDGE: extraction and analysis of differential gene expression</a><div class=\\textbackslash{}\"gs\\_gray\\textbackslash{}\">JT Leek, E Monsen, AR Dabney, JD Storey</div><div class=\\textbackslash{}\"gs\\_gray\\textbackslash{}\">Bioinformatics 22 (4), 507-508<span class=\\textbackslash{}\"gs\\_oph\\textbackslash{}\">, 2006</span></div></td><td class=\\textbackslash{}\"gsc\\_a\\_c\\textbackslash{}\"><a href=\\textbackslash{}\"http://scholar.google.com/scholar?oi=bibs\\&amp;hl=en\\&amp;oe=ASCII\\&amp;cites=8862746171832697560\\textbackslash{}\" class=\\textbackslash{}\"gsc\\_a\\_ac\\textbackslash{}\">210</a></td><td class=\\textbackslash{}\"gsc\\_a\\_y\\textbackslash{}\"><span class=\\textbackslash{}\"gsc\\_a\\_h\\textbackslash{}\">2006</span></td></tr><tr class=\\textbackslash{}\"gsc\\_a\\_tr\\textbackslash{}\"><td class=\\textbackslash{}\"gsc\\_a\\_t\\textbackslash{}\"><a href=\\textbackslash{}\"/citations?view\\_op=view\\_citation\\&amp;hl=en\\&amp;oe=ASCII\\&amp;user=HI-I6C0AAAAJ\\&amp;citation\\_for\\_view=HI-I6C0AAAAJ:8k81kl-MbHgC\\textbackslash{}\" class=\\textbackslash{}\"gsc\\_a\\_at\\textbackslash{}\">The sva package for removing batch effects and other unwanted variation in high-throughput experiments</a><div class=\\textbackslash{}\"gs\\_gray\\textbackslash{}\">JT Leek, WE Johnson, HS Parker, AE Jaffe, JD Storey</div><div class=\\textbackslash{}\"gs\\_gray\\textbackslash{}\">Bioinformatics 28 (6), 882-883<span class=\\textbackslash{}\"gs\\_oph\\textbackslash{}\">, 2012</span></div></td><td class=\\textbackslash{}\"gsc\\_a\\_c\\textbackslash{}\"><a href=\\textbackslash{}\"http://scholar.google.com/scholar?oi=bibs\\&amp;hl=en\\&amp;oe=ASCII\\&amp;cites=8144311546232376767\\textbackslash{}\" class=\\textbackslash{}\"gsc\\_a\\_ac\\textbackslash{}\">191</a></td><td class=\\textbackslash{}\"gsc\\_a\\_y\\textbackslash{}\"><span class=\\textbackslash{}\"gsc\\_a\\_h\\textbackslash{}\">2012</span></td></tr><tr class=\\textbackslash{}\"gsc\\_a\\_tr\\textbackslash{}\"><td class=\\textbackslash{}\"gsc\\_a\\_t\\textbackslash{}\"><a href=\\textbackslash{}\"/citations?view\\_op=view\\_citation\\&amp;hl=en\\&amp;oe=ASCII\\&amp;user=HI-I6C0AAAAJ\\&amp;citation\\_for\\_view=HI-I6C0AAAAJ:qjMakFHDy7sC\\textbackslash{}\" class=\\textbackslash{}\"gsc\\_a\\_at\\textbackslash{}\">Systems-level dynamic analyses of fate change in murine embryonic stem cells</a><div class=\\textbackslash{}\"gs\\_gray\\textbackslash{}\">R Lu, F Markowetz, RD Unwin, JT Leek, EM Airoldi, BD MacArthur, ...</div><div class=\\textbackslash{}\"gs\\_gray\\textbackslash{}\">Nature 462 (7271), 358-362<span class=\\textbackslash{}\"gs\\_oph\\textbackslash{}\">, 2009</span></div></td><td class=\\textbackslash{}\"gsc\\_a\\_c\\textbackslash{}\"><a href=\\textbackslash{}\"http://scholar.google.com/scholar?oi=bibs\\&amp;hl=en\\&amp;oe=ASCII\\&amp;cites=4114573275173642545\\textbackslash{}\" class=\\textbackslash{}\"gsc\\_a\\_ac\\textbackslash{}\">184</a></td><td class=\\textbackslash{}\"gsc\\_a\\_y\\textbackslash{}\"><span class=\\textbackslash{}\"gsc\\_a\\_h\\textbackslash{}\">2009</span></td></tr><tr class=\\textbackslash{}\"gsc\\_a\\_tr\\textbackslash{}\"><td class=\\textbackslash{}\"gsc\\_a\\_t\\textbackslash{}\"><a href=\\textbackslash{}\"/citations?view\\_op=view\\_citation\\&amp;hl=en\\&amp;oe=ASCII\\&amp;user=HI-I6C0AAAAJ\\&amp;citation\\_for\\_view=HI-I6C0AAAAJ:2osOgNQ5qMEC\\textbackslash{}\" class=\\textbackslash{}\"gsc\\_a\\_at\\textbackslash{}\">A general framework for multiple testing dependence</a><div class=\\textbackslash{}\"gs\\_gray\\textbackslash{}\">JT Leek, JD Storey</div><div class=\\textbackslash{}\"gs\\_gray\\textbackslash{}\">Proceedings of the National Academy of Sciences 105 (48), 18718-18723<span class=\\textbackslash{}\"gs\\_oph\\textbackslash{}\">, 2008</span></div></td><td class=\\textbackslash{}\"gsc\\_a\\_c\\textbackslash{}\"><a href=\\textbackslash{}\"http://scholar.google.com/scholar?oi=bibs\\&amp;hl=en\\&amp;oe=ASCII\\&amp;cites=6862569568109470250\\textbackslash{}\" class=\\textbackslash{}\"gsc\\_a\\_ac\\textbackslash{}\">170</a></td><td class=\\textbackslash{}\"gsc\\_a\\_y\\textbackslash{}\"><span class=\\textbackslash{}\"gsc\\_a\\_h\\textbackslash{}\">2008</span></td></tr><tr class=\\textbackslash{}\"gsc\\_a\\_tr\\textbackslash{}\"><td class=\\textbackslash{}\"gsc\\_a\\_t\\textbackslash{}\"><a href=\\textbackslash{}\"/citations?view\\_op=view\\_citation\\&amp;hl=en\\&amp;oe=ASCII\\&amp;user=HI-I6C0AAAAJ\\&amp;citation\\_for\\_view=HI-I6C0AAAAJ:5nxA0vEk-isC\\textbackslash{}\" class=\\textbackslash{}\"gsc\\_a\\_at\\textbackslash{}\">Bump hunting to identify differentially methylated regions in epigenetic epidemiology studies</a><div class=\\textbackslash{}\"gs\\_gray\\textbackslash{}\">AE Jaffe, P Murakami, H Lee, JT Leek, MD Fallin, AP Feinberg, RA Irizarry</div><div class=\\textbackslash{}\"gs\\_gray\\textbackslash{}\">International journal of epidemiology 41 (1), 200-209<span class=\\textbackslash{}\"gs\\_oph\\textbackslash{}\">, 2012</span></div></td><td class=\\textbackslash{}\"gsc\\_a\\_c\\textbackslash{}\"><a href=\\textbackslash{}\"http://scholar.google.com/scholar?oi=bibs\\&amp;hl=en\\&amp;oe=ASCII\\&amp;cites=13917393765835926103\\textbackslash{}\" class=\\textbackslash{}\"gsc\\_a\\_ac\\textbackslash{}\">160</a></td><td class=\\textbackslash{}\"gsc\\_a\\_y\\textbackslash{}\"><span class=\\textbackslash{}\"gsc\\_a\\_h\\textbackslash{}\">2012</span></td></tr><tr class=\\textbackslash{}\"gsc\\_a\\_tr\\textbackslash{}\"><td class=\\textbackslash{}\"gsc\\_a\\_t\\textbackslash{}\"><a href=\\textbackslash{}\"/citations?view\\_op=view\\_citation\\&amp;hl=en\\&amp;oe=ASCII\\&amp;user=HI-I6C0AAAAJ\\&amp;citation\\_for\\_view=HI-I6C0AAAAJ:9yKSN-GCB0IC\\textbackslash{}\" class=\\textbackslash{}\"gsc\\_a\\_at\\textbackslash{}\">The optimal discovery procedure for large-scale significance testing, with applications to comparative microarray experiments</a><div class=\\textbackslash{}\"gs\\_gray\\textbackslash{}\">JD Storey, JY Dai, JT Leek</div><div class=\\textbackslash{}\"gs\\_gray\\textbackslash{}\">Biostatistics 8 (2), 414-432<span class=\\textbackslash{}\"gs\\_oph\\textbackslash{}\">, 2007</span></div></td><td class=\\textbackslash{}\"gsc\\_a\\_c\\textbackslash{}\"><a href=\\textbackslash{}\"http://scholar.google.com/scholar?oi=bibs\\&amp;hl=en\\&amp;oe=ASCII\\&amp;cites=6987233910267027632\\textbackslash{}\" class=\\textbackslash{}\"gsc\\_a\\_ac\\textbackslash{}\">148</a></td><td class=\\textbackslash{}\"gsc\\_a\\_y\\textbackslash{}\"><span class=\\textbackslash{}\"gsc\\_a\\_h\\textbackslash{}\">2007</span></td></tr><tr class=\\textbackslash{}\"gsc\\_a\\_tr\\textbackslash{}\"><td class=\\textbackslash{}\"gsc\\_a\\_t\\textbackslash{}\"><a href=\\textbackslash{}\"/citations?view\\_op=view\\_citation\\&amp;hl=en\\&amp;oe=ASCII\\&amp;user=HI-I6C0AAAAJ\\&amp;citation\\_for\\_view=HI-I6C0AAAAJ:0EnyYjriUFMC\\textbackslash{}\" class=\\textbackslash{}\"gsc\\_a\\_at\\textbackslash{}\">ReCount: a multi-experiment resource of analysis-ready RNA-seq gene count datasets</a><div class=\\textbackslash{}\"gs\\_gray\\textbackslash{}\">AC Frazee, B Langmead, JT Leek</div><div class=\\textbackslash{}\"gs\\_gray\\textbackslash{}\">BMC bioinformatics 12 (1), 449<span class=\\textbackslash{}\"gs\\_oph\\textbackslash{}\">, 2011</span></div></td><td class=\\textbackslash{}\"gsc\\_a\\_c\\textbackslash{}\"><a href=\\textbackslash{}\"http://scholar.google.com/scholar?oi=bibs\\&amp;hl=en\\&amp;oe=ASCII\\&amp;cites=5499264026160610251\\textbackslash{}\" class=\\textbackslash{}\"gsc\\_a\\_ac\\textbackslash{}\">86</a></td><td class=\\textbackslash{}\"gsc\\_a\\_y\\textbackslash{}\"><span class=\\textbackslash{}\"gsc\\_a\\_h\\textbackslash{}\">2011</span></td></tr><tr class=\\textbackslash{}\"gsc\\_a\\_tr\\textbackslash{}\"><td class=\\textbackslash{}\"gsc\\_a\\_t\\textbackslash{}\"><a href=\\textbackslash{}\"/citations?view\\_op=view\\_citation\\&amp;hl=en\\&amp;oe=ASCII\\&amp;user=HI-I6C0AAAAJ\\&amp;citation\\_for\\_view=HI-I6C0AAAAJ:LkGwnXOMwfcC\\textbackslash{}\" class=\\textbackslash{}\"gsc\\_a\\_at\\textbackslash{}\">Sequencing technology does not eliminate biological variability</a><div class=\\textbackslash{}\"gs\\_gray\\textbackslash{}\">KD Hansen, Z Wu, RA Irizarry, JT Leek</div><div class=\\textbackslash{}\"gs\\_gray\\textbackslash{}\">Nature biotechnology 29 (7), 572-573<span class=\\textbackslash{}\"gs\\_oph\\textbackslash{}\">, 2011</span></div></td><td class=\\textbackslash{}\"gsc\\_a\\_c\\textbackslash{}\"><a href=\\textbackslash{}\"http://scholar.google.com/scholar?oi=bibs\\&amp;hl=en\\&amp;oe=ASCII\\&amp;cites=13984583295080419572\\textbackslash{}\" class=\\textbackslash{}\"gsc\\_a\\_ac\\textbackslash{}\">78</a></td><td class=\\textbackslash{}\"gsc\\_a\\_y\\textbackslash{}\"><span class=\\textbackslash{}\"gsc\\_a\\_h\\textbackslash{}\">2011</span></td></tr><tr class=\\textbackslash{}\"gsc\\_a\\_tr\\textbackslash{}\"><td class=\\textbackslash{}\"gsc\\_a\\_t\\textbackslash{}\"><a href=\\textbackslash{}\"/citations?view\\_op=view\\_citation\\&amp;hl=en\\&amp;oe=ASCII\\&amp;user=HI-I6C0AAAAJ\\&amp;citation\\_for\\_view=HI-I6C0AAAAJ:hqOjcs7Dif8C\\textbackslash{}\" class=\\textbackslash{}\"gsc\\_a\\_at\\textbackslash{}\">Significance analysis and statistical dissection of variably methylated regions</a><div class=\\textbackslash{}\"gs\\_gray\\textbackslash{}\">AE Jaffe, AP Feinberg, RA Irizarry, JT Leek</div><div class=\\textbackslash{}\"gs\\_gray\\textbackslash{}\">Biostatistics 13 (1), 166-178<span class=\\textbackslash{}\"gs\\_oph\\textbackslash{}\">, 2012</span></div></td><td class=\\textbackslash{}\"gsc\\_a\\_c\\textbackslash{}\"><a href=\\textbackslash{}\"http://scholar.google.com/scholar?oi=bibs\\&amp;hl=en\\&amp;oe=ASCII\\&amp;cites=8713725236803269731\\textbackslash{}\" class=\\textbackslash{}\"gsc\\_a\\_ac\\textbackslash{}\">51</a></td><td class=\\textbackslash{}\"gsc\\_a\\_y\\textbackslash{}\"><span class=\\textbackslash{}\"gsc\\_a\\_h\\textbackslash{}\">2012</span></td></tr><tr class=\\textbackslash{}\"gsc\\_a\\_tr\\textbackslash{}\"><td class=\\textbackslash{}\"gsc\\_a\\_t\\textbackslash{}\"><a href=\\textbackslash{}\"/citations?view\\_op=view\\_citation\\&amp;hl=en\\&amp;oe=ASCII\\&amp;user=HI-I6C0AAAAJ\\&amp;citation\\_for\\_view=HI-I6C0AAAAJ:-f6ydRqryjwC\\textbackslash{}\" class=\\textbackslash{}\"gsc\\_a\\_at\\textbackslash{}\">An estimate of the science-wise false discovery rate and application to the top medical literature</a><div class=\\textbackslash{}\"gs\\_gray\\textbackslash{}\">LR Jager, JT Leek</div><div class=\\textbackslash{}\"gs\\_gray\\textbackslash{}\">Biostatistics 15 (1), 1-12<span class=\\textbackslash{}\"gs\\_oph\\textbackslash{}\">, 2014</span></div></td><td class=\\textbackslash{}\"gsc\\_a\\_c\\textbackslash{}\"><a href=\\textbackslash{}\"http://scholar.google.com/scholar?oi=bibs\\&amp;hl=en\\&amp;oe=ASCII\\&amp;cites=8145998925353022831,15367445605081037117\\textbackslash{}\" class=\\textbackslash{}\"gsc\\_a\\_ac\\textbackslash{}\">45</a><span class=\\textbackslash{}\"gsc\\_a\\_m\\textbackslash{}\"><a href=\\textbackslash{}\"\\#\\textbackslash{}\" class=\\textbackslash{}\"gsc\\_a\\_am\\textbackslash{}\" onclick=\\textbackslash{}\"gsc\\_md\\_show\\_cbym('HI-I6C0AAAAJ:-f6ydRqryjwC',event);return false\\textbackslash{}\">*</a></span></td><td class=\\textbackslash{}\"gsc\\_a\\_y\\textbackslash{}\"><span class=\\textbackslash{}\"gsc\\_a\\_h\\textbackslash{}\">2014</span></td></tr><tr class=\\textbackslash{}\"gsc\\_a\\_tr\\textbackslash{}\"><td class=\\textbackslash{}\"gsc\\_a\\_t\\textbackslash{}\"><a href=\\textbackslash{}\"/citations?view\\_op=view\\_citation\\&amp;hl=en\\&amp;oe=ASCII\\&amp;user=HI-I6C0AAAAJ\\&amp;citation\\_for\\_view=HI-I6C0AAAAJ:ldfaerwXgEUC\\textbackslash{}\" class=\\textbackslash{}\"gsc\\_a\\_at\\textbackslash{}\">Statistics: P values are just the tip of the iceberg</a><div class=\\textbackslash{}\"gs\\_gray\\textbackslash{}\">JT Leek, RD Peng</div><div class=\\textbackslash{}\"gs\\_gray\\textbackslash{}\">Nature 520 (7549), 612<span class=\\textbackslash{}\"gs\\_oph\\textbackslash{}\">, 2015</span></div></td><td class=\\textbackslash{}\"gsc\\_a\\_c\\textbackslash{}\"><a href=\\textbackslash{}\"http://scholar.google.com/scholar?oi=bibs\\&amp;hl=en\\&amp;oe=ASCII\\&amp;cites=7990176079596762579\\textbackslash{}\" class=\\textbackslash{}\"gsc\\_a\\_ac\\textbackslash{}\">40</a></td><td class=\\textbackslash{}\"gsc\\_a\\_y\\textbackslash{}\"><span class=\\textbackslash{}\"gsc\\_a\\_h\\textbackslash{}\">2015</span></td></tr><tr class=\\textbackslash{}\"gsc\\_a\\_tr\\textbackslash{}\"><td class=\\textbackslash{}\"gsc\\_a\\_t\\textbackslash{}\"><a href=\\textbackslash{}\"/citations?view\\_op=view\\_citation\\&amp;hl=en\\&amp;oe=ASCII\\&amp;user=HI-I6C0AAAAJ\\&amp;citation\\_for\\_view=HI-I6C0AAAAJ:TQgYirikUcIC\\textbackslash{}\" class=\\textbackslash{}\"gsc\\_a\\_at\\textbackslash{}\">Differential expression analysis of RNA-seq data at single-base resolution</a><div class=\\textbackslash{}\"gs\\_gray\\textbackslash{}\">AC Frazee, S Sabunciyan, KD Hansen, RA Irizarry, JT Leek</div><div class=\\textbackslash{}\"gs\\_gray\\textbackslash{}\">Biostatistics, kxt053<span class=\\textbackslash{}\"gs\\_oph\\textbackslash{}\">, 2014</span></div></td><td class=\\textbackslash{}\"gsc\\_a\\_c\\textbackslash{}\"><a href=\\textbackslash{}\"http://scholar.google.com/scholar?oi=bibs\\&amp;hl=en\\&amp;oe=ASCII\\&amp;cites=1603345619966351948\\textbackslash{}\" class=\\textbackslash{}\"gsc\\_a\\_ac\\textbackslash{}\">32</a></td><td class=\\textbackslash{}\"gsc\\_a\\_y\\textbackslash{}\"><span class=\\textbackslash{}\"gsc\\_a\\_h\\textbackslash{}\">2014</span></td></tr><tr class=\\textbackslash{}\"gsc\\_a\\_tr\\textbackslash{}\"><td class=\\textbackslash{}\"gsc\\_a\\_t\\textbackslash{}\"><a href=\\textbackslash{}\"/citations?view\\_op=view\\_citation\\&amp;hl=en\\&amp;oe=ASCII\\&amp;user=HI-I6C0AAAAJ\\&amp;citation\\_for\\_view=HI-I6C0AAAAJ:\\_kc\\_bZDykSQC\\textbackslash{}\" class=\\textbackslash{}\"gsc\\_a\\_at\\textbackslash{}\">Gene expression anti-profiles as a basis for accurate universal cancer signatures</a><div class=\\textbackslash{}\"gs\\_gray\\textbackslash{}\">HC Bravo, V Pihur, M McCall, RA Irizarry, JT Leek</div><div class=\\textbackslash{}\"gs\\_gray\\textbackslash{}\">BMC bioinformatics 13 (1), 272<span class=\\textbackslash{}\"gs\\_oph\\textbackslash{}\">, 2012</span></div></td><td class=\\textbackslash{}\"gsc\\_a\\_c\\textbackslash{}\"><a href=\\textbackslash{}\"http://scholar.google.com/scholar?oi=bibs\\&amp;hl=en\\&amp;oe=ASCII\\&amp;cites=5170926751178488472\\textbackslash{}\" class=\\textbackslash{}\"gsc\\_a\\_ac\\textbackslash{}\">27</a></td><td class=\\textbackslash{}\"gsc\\_a\\_y\\textbackslash{}\"><span class=\\textbackslash{}\"gsc\\_a\\_h\\textbackslash{}\">2012</span></td></tr><tr class=\\textbackslash{}\"gsc\\_a\\_tr\\textbackslash{}\"><td class=\\textbackslash{}\"gsc\\_a\\_t\\textbackslash{}\"><a href=\\textbackslash{}\"/citations?view\\_op=view\\_citation\\&amp;hl=en\\&amp;oe=ASCII\\&amp;user=HI-I6C0AAAAJ\\&amp;citation\\_for\\_view=HI-I6C0AAAAJ:BqipwSGYUEgC\\textbackslash{}\" class=\\textbackslash{}\"gsc\\_a\\_at\\textbackslash{}\">Developmental regulation of human cortex transcription and its clinical relevance at single base resolution</a><div class=\\textbackslash{}\"gs\\_gray\\textbackslash{}\">AE Jaffe, J Shin, L Collado-Torres, JT Leek, R Tao, C Li, Y Gao, Y Jia, ...</div><div class=\\textbackslash{}\"gs\\_gray\\textbackslash{}\">Nature neuroscience 18 (1), 154-161<span class=\\textbackslash{}\"gs\\_oph\\textbackslash{}\">, 2015</span></div></td><td class=\\textbackslash{}\"gsc\\_a\\_c\\textbackslash{}\"><a href=\\textbackslash{}\"http://scholar.google.com/scholar?oi=bibs\\&amp;hl=en\\&amp;oe=ASCII\\&amp;cites=10491065069728818067\\textbackslash{}\" class=\\textbackslash{}\"gsc\\_a\\_ac\\textbackslash{}\">26</a></td><td class=\\textbackslash{}\"gsc\\_a\\_y\\textbackslash{}\"><span class=\\textbackslash{}\"gsc\\_a\\_h\\textbackslash{}\">2015</span></td></tr><tr class=\\textbackslash{}\"gsc\\_a\\_tr\\textbackslash{}\"><td class=\\textbackslash{}\"gsc\\_a\\_t\\textbackslash{}\"><a href=\\textbackslash{}\"/citations?view\\_op=view\\_citation\\&amp;hl=en\\&amp;oe=ASCII\\&amp;user=HI-I6C0AAAAJ\\&amp;citation\\_for\\_view=HI-I6C0AAAAJ:bEWYMUwI8FkC\\textbackslash{}\" class=\\textbackslash{}\"gsc\\_a\\_at\\textbackslash{}\">Inflammatory molecular signature associated with infectious agents in psychosis</a><div class=\\textbackslash{}\"gs\\_gray\\textbackslash{}\">LN Hayes, EG Severance, JT Leek, KL Gressitt, C Rohleder, JM Coughlin, ...</div><div class=\\textbackslash{}\"gs\\_gray\\textbackslash{}\">Schizophrenia bulletin 40 (5), 963-972<span class=\\textbackslash{}\"gs\\_oph\\textbackslash{}\">, 2014</span></div></td><td class=\\textbackslash{}\"gsc\\_a\\_c\\textbackslash{}\"><a href=\\textbackslash{}\"http://scholar.google.com/scholar?oi=bibs\\&amp;hl=en\\&amp;oe=ASCII\\&amp;cites=16513563558053101459\\textbackslash{}\" class=\\textbackslash{}\"gsc\\_a\\_ac\\textbackslash{}\">26</a></td><td class=\\textbackslash{}\"gsc\\_a\\_y\\textbackslash{}\"><span class=\\textbackslash{}\"gsc\\_a\\_h\\textbackslash{}\">2014</span></td></tr></tbody></table><div id=\\textbackslash{}\"gsc\\_a\\_sp\\textbackslash{}\" style=\\textbackslash{}\"display:none\\textbackslash{}\"></div><div id=\\textbackslash{}\"gsc\\_a\\_err\\textbackslash{}\" class=\\textbackslash{}\"gs\\_alrt\\textbackslash{}\" style=\\textbackslash{}\"display:none\\textbackslash{}\">The system can\\&\\#39;t perform the operation now. Try again later.</div><div id=\\textbackslash{}\"gsc\\_lwp\\textbackslash{}\"><div id=\\textbackslash{}\"gsc\\_bpf\\textbackslash{}\"><button type=\\textbackslash{}\"button\\textbackslash{}\" id=\\textbackslash{}\"gsc\\_bpf\\_prev\\textbackslash{}\" aria-label=\\textbackslash{}\"Previous\\textbackslash{}\" disabled class=\\textbackslash{}\"gs\\_btnPL gs\\_in\\_ib gs\\_btn\\_half gs\\_btn\\_slt gs\\_dis\\textbackslash{}\"><span class=\\textbackslash{}\"gs\\_wr\\textbackslash{}\"><span class=\\textbackslash{}\"gs\\_lbl\\textbackslash{}\"></span><span class=\\textbackslash{}\"gs\\_ico gs\\_ico\\_dis\\textbackslash{}\"></span></span></button><button type=\\textbackslash{}\"button\\textbackslash{}\" id=\\textbackslash{}\"gsc\\_bpf\\_more\\textbackslash{}\" class=\\textbackslash{}\" gs\\_btn\\_smd\\textbackslash{}\"><span class=\\textbackslash{}\"gs\\_wr\\textbackslash{}\"><span class=\\textbackslash{}\"gs\\_lbl\\textbackslash{}\">Show more</span></span></button><button type=\\textbackslash{}\"button\\textbackslash{}\" id=\\textbackslash{}\"gsc\\_bpf\\_next\\textbackslash{}\" aria-label=\\textbackslash{}\"Next\\textbackslash{}\" class=\\textbackslash{}\"gs\\_btnPR gs\\_in\\_ib gs\\_btn\\_half gs\\_btn\\_srt\\textbackslash{}\"><span class=\\textbackslash{}\"gs\\_wr\\textbackslash{}\"><span class=\\textbackslash{}\"gs\\_lbl\\textbackslash{}\"></span><span class=\\textbackslash{}\"gs\\_ico\\textbackslash{}\"></span></span></button></div></div></form></div><div class=\\textbackslash{}\"gsc\\_lcl\\textbackslash{}\"><div id=\\textbackslash{}\"gs\\_ftr\\textbackslash{}\" role=\\textbackslash{}\"contentinfo\\textbackslash{}\"><div id=\\textbackslash{}\"gsc\\_dscl\\textbackslash{}\">Dates and citation counts are estimated and are determined automatically by a computer program.</div><div id=\\textbackslash{}\"gsc\\_ftr\\_h\\textbackslash{}\"><a href=\\textbackslash{}\"/intl/en/scholar/citations.html\\textbackslash{}\">Help</a> <a href=\\textbackslash{}\"//www.google.com/intl/en/policies/privacy/\\textbackslash{}\">Privacy</a> <a href=\\textbackslash{}\"//www.google.com/intl/en/policies/terms/\\textbackslash{}\">Terms</a> <a href=\\textbackslash{}\"//support.google.com/scholar/contact/general\\textbackslash{}\">Provide feedback</a> <a href=\\textbackslash{}\"/citations?hl=en\\&amp;oe=ASCII\\textbackslash{}\">Get my own profile</a></div></div></div></div></div><div id=\\textbackslash{}\"gs\\_rdy\\textbackslash{}\"></div></body></html>\""
      ],
      "text/markdown": [
       "\"&lt;!doctype html&gt;&lt;head&gt;&lt;meta http-equiv=\\\"Content-Type\\\" content=\\\"text/html;charset=ISO-8859-1\\\"&gt;&lt;meta http-equiv=\\\"X-UA-Compatible\\\" content=\\\"IE=Edge\\\"&gt;&lt;meta name=\\\"referrer\\\" content=\\\"always\\\"&gt;&lt;meta name=\\\"viewport\\\" content=\\\"width=device-width,initial-scale=1,minimum-scale=1,maximum-scale=2\\\"&gt;&lt;style&gt;@viewport{width:device-width;min-zoom:1;max-zoom:2;}&lt;/style&gt;&lt;meta name=\\\"format-detection\\\" content=\\\"telephone=no\\\"&gt;&lt;style&gt;html,body,form,table,div,h1,h2,h3,h4,h5,h6,img,ol,ul,li,button{margin:0;padding:0;border:0;}table{border-collapse:collapse;border-width:0;empty-cells:show;}#gs_top{position:relative;min-width:964px;-webkit-tap-highlight-color:rgba(0,0,0,0);}#gs_top&gt;*:not(#x){-webkit-tap-highlight-color:rgba(204,204,204,.5);}.gs_el_ph #gs_top,.gs_el_ta #gs_top{min-width:300px;}body,td,input{font-size:13px;font-family:Arial,sans-serif;line-height:1.24}body{background:#fff;color:#222;-webkit-text-size-adjust:100%;-moz-text-size-adjust:none;}.gs_gray{color:#777777}.gs_red{color:#dd4b39}.gs_grn{color:#006621}.gs_lil{font-size:11px}.gs_med{font-size:16px}.gs_hlt{font-weight:bold;}a:link{color:#1a0dab;text-decoration:none}a:visited{color:#660099;text-decoration:none}a:hover,a:active,a:hover .gs_lbl,a:active .gs_lbl,a .gs_lbl:active{text-decoration:underline;outline:none;}a:active,a:active .gs_lbl,a .gs_lbl:active{color:#d14836}.gs_a,.gs_a a:link,.gs_a a:visited{color:#006621}.gs_a a:active{color:#d14836}a.gs_fl:link,.gs_fl a:link{color:#1a0dab}a.gs_fl:visited,.gs_fl a:visited{color:#660099}a.gs_fl:active,.gs_fl a:active{color:#d14836}.gs_fl{color:#777777}.gs_ctc,.gs_ctu{vertical-align:middle;font-size:11px;font-weight:bold}.gs_ctc{color:#1a0dab}.gs_ctg,.gs_ctg2{font-size:13px;font-weight:bold}.gs_ctg{color:#1a0dab}a.gs_pda,.gs_pda a{padding:7px 0 5px 0}.gs_alrt{background:#f9edbe;border:1px solid #f0c36d;padding:0 16px;text-align:center;-webkit-box-shadow:0 2px 4px rgba(0,0,0,.2);-moz-box-shadow:0 2px 4px rgba(0,0,0,.2);box-shadow:0 2px 4px rgba(0,0,0,.2);-webkit-border-radius:2px;-moz-border-radius:2px;border-radius:2px;}.gs_spc{display:inline-block;width:12px}.gs_br{width:0;font-size:0}.gs_ibl{display:inline-block;}.gs_scl:after{content:\\\"\\\";display:table;clear:both;}.gs_nscl{overflow-y:hidden;}.gs_ind{padding-left:8px;text-indent:-8px}.gs_ico,.gs_icm{display:inline-block;background:no-repeat url(/intl/en/scholar/images/1x/sprite_20160531.png);background-size:169px;width:21px;height:21px;}@media(-webkit-min-device-pixel-ratio:1.5),(min-resolution:144dpi){.gs_ico,.gs_icm{background-image:url(/intl/en/scholar/images/2x/sprite_20160531.png);}}.gs_el_ta .gs_nta,.gs_ota,.gs_el_ph .gs_nph,.gs_oph{display:none}.gs_el_ta .gs_ota,.gs_el_ph .gs_oph{display:inline}.gs_el_ta div.gs_ota,.gs_el_ph div.gs_oph{display:block}#gs_ftr{margin:32px 0 0 0;text-align:center;clear:both;}#gs_ftr a{display:inline-block;margin:0 12px;padding:7px 0 8px 0;}#gs_ftr a:link,#gs_ftr a:visited{color:#1a0dab}#gs_ftr a:active{color:#d14836}.gs_in_txt{color:black;background:#fff;font-size:16px;height:23px;line-height:23px;border:1px solid #d9d9d9;border-top:1px solid #c0c0c0;padding:3px 6px 1px 8px;-webkit-border-radius:1px;-moz-border-radius:1px;border-radius:1px;outline:none;vertical-align:middle;-webkit-appearance:none;-moz-appearance:none;}.gs_el_tc .gs_in_txt{font-size:18px;}.gs_in_txt:hover{border:1px solid #b9b9b9;border-top:1px solid #a0a0a0;-webkit-box-shadow:inset 0px 1px 2px rgba(0,0,0,0.1);-moz-box-shadow:inset 0px 1px 2px rgba(0,0,0,0.1);box-shadow:inset 0px 1px 2px rgba(0,0,0,0.1);}.gs_in_txte,.gs_in_txte:hover{border:1px solid #DD4B39;}.gs_in_txt:focus{border:1px solid #4d90fe;-webkit-box-shadow:inset 0px 1px 2px rgba(0,0,0,0.3);-moz-box-shadow:inset 0px 1px 2px rgba(0,0,0,0.3);box-shadow:inset 0px 1px 2px rgba(0,0,0,0.3);}.gs_in_txt:disabled{color:#b8b8b8;border-color:#f1f1f1;-webkit-box-shadow:none;-moz-box-shadow:none;box-shadow:none;}input.gs_mini{font-size:13px;height:16px;line-height:16px;padding:3px 6px;}.gs_el_tc input.gs_mini{font-size:13px;height:21px;line-height:21px;}.gs_in_txtf{margin-right:16px}.gs_in_txtm{margin-right:14px}.gs_in_txtf .gs_in_txt,.gs_in_txtm .gs_in_txt{width:100%;}.gs_in_txts{font-size:13px;line-height:18px;}button{position:relative;z-index:1;box-sizing:border-box;font-size:11px;font-weight:bold;cursor:default;height:29px;min-width:72px;overflow:visible;color:#444;border:1px solid #dcdcdc;border:1px solid rgba(0,0,0,.1);border-radius:2px;text-align:center;background-color:#f5f5f5;background-image:linear-gradient(to bottom,#f5f5f5,#f1f1f1);transition:all .218s;user-select:none;}button .gs_wr{line-height:27px;}button.gs_btn_mini{min-width:26px;height:26px;}.gs_btn_mini .gs_wr{line-height:24px;}.gs_btn_half,.gs_el_ph .gs_btn_hph{min-width:36px;}&gt;. }}.gs_btn_slt{border-radius:2px 0 0 2px;}.gs_btn_srt{margin-left:-1px;border-radius:0 2px 2px 0;}.gs_btn_smd{margin-left:-1px;border-radius:0;}button:hover{z-index:2;color:#222;border:1px solid #c6c6c6;box-shadow:0 1px 1px rgba(0,0,0,.1);background-color:#f8f8f8;background-image:linear-gradient(to bottom,#f8f8f8,#f1f1f1);transition:all 0s;}button.gs_sel{color:#333;border:1px solid #ccc;box-shadow:inset 0 1px 2px rgba(0,0,0,.1);background-color:#e8e8e8;background-image:linear-gradient(to bottom,#eee,#e0e0e0);}button:active{z-index:2;color:#333;background-color:#f6f6f6;background-image:linear-gradient(to bottom,#f6f6f6,#f1f1f1);box-shadow:inset 0px 1px 2px rgba(0,0,0,.1);}button:focus{z-index:2;outline:none;border:1px solid #4d90fe;}button::-moz-focus-inner{padding:0;border:0}button .gs_lbl{padding:0px 8px;}a.gs_in_ib{position:relative;display:inline-block;line-height:16px;padding:5px 0 6px 0;user-select:none;}a.gs_btn_mini{height:24px;line-height:24px;padding:0;}a .gs_lbl,button .gs_lbl{vertical-align:baseline;}a.gs_in_ib .gs_lbl{display:inline-block;padding-left:21px}button.gs_in_ib .gs_lbl{padding-left:29px;}button.gs_btn_mini .gs_lbl,button.gs_btn_half .gs_lbl,button.gs_btn_eml .gs_lbl{padding:11px;}.gs_el_ph .gs_btn_hph .gs_lbl,.gs_el_ph .gs_btn_cph .gs_lbl{padding:11px;font-size:0;visibility:hidden;}.gs_in_ib .gs_ico{position:absolute;top:2px;left:8px;}.gs_btn_mini .gs_ico{top:1px;left:2px;}.gs_btn_half .gs_ico,.gs_el_ph .gs_btn_hph .gs_ico{left:7px}.gs_btn_eml .gs_ico,.gs_el_ph .gs_btn_cph .gs_ico{left:25px}a.gs_in_ib .gs_ico{top:3px;left:0}a.gs_in_ib.gs_md_li .gs_ico{left:14px}.gs_el_tc a.gs_in_ib.gs_md_li .gs_ico{top:11px}a.gs_btn_mini .gs_ico{top:1px;left:0}.gs_in_ib .gs_ico{opacity:.55;}a.gs_in_ib .gs_ico{opacity:.65;}.gs_in_ib:hover .gs_ico{opacity:.72;}.gs_in_ib:active .gs_ico,.gs_in_ib .gs_ico:active,.gs_in_ib :active~.gs_ico{opacity:1;}.gs_in_ib:disabled .gs_ico{opacity:.28;}a.gs_in_ib.gs_dis .gs_ico{opacity:.33;}button.gs_btn_act{color:#fff;border:1px solid #3079ed;background-color:#4d90fe;background-image:linear-gradient(to bottom,#4d90fe,#4787ed);}button.gs_btn_act:hover{color:#fff;border:1px solid #2f5bb7;background-color:#357ae8;background-image:linear-gradient(to bottom,#4d90fe,#357ae8);box-shadow:inset 0 1px 1px rgba(0,0,0,.1);}button.gs_btnG{width:70px;min-width:0;}button.gs_btn_cre{color:#fff;border:1px solid transparent;background-color:#d14836;background-image:linear-gradient(to bottom,#dd4b39,#d14836);}button.gs_btn_cre .gs_lbl{text-transform:uppercase;text-shadow:0px 1px rgba(0,0,0,.1);}button.gs_btn_cre:hover{color:#fff;border:1px solid #b0281a;border-bottom:1px solid #af301f;background-color:#c53727;background-image:linear-gradient(to bottom,#dd4b39,#c53727);box-shadow:inset 0 1px 1px rgba(0,0,0,.2);}button.gs_btn_act:focus,button.gs_btn_cre:focus{box-shadow:inset 0 0 0 1px rgba(255,255,255,.5);}button.gs_btn_act:focus{border-color:#404040;}button.gs_btn_cre:focus{border-color:#d14836;}button.gs_btn_act:active{border:1px solid #315da3;background-color:#2f6de1;background-image:linear-gradient(to bottom,#4d90fe,#2f6de1);}button.gs_btn_cre:active{border:1px solid #992a1b;background-color:#b0281a;background-image:linear-gradient(to bottom,#dd4b39,#b0281a);}button.gs_btn_act:active,button.gs_btn_cre:active{box-shadow:inset 0 1px 2px rgba(0,0,0,.3);}button.gs_bsp,button.gs_bsp:hover,button.gs_bsp:active,button.gs_bsp:focus,button:disabled,button:disabled:hover,button:disabled:active{color:#b8b8b8;border:1px solid #f3f3f3;border:1px solid rgba(0,0,0,.05);background:none;box-shadow:none;z-index:0;}button.gs_btn_act:disabled{color:white;border-color:#98bcf6;background:#a6c8ff;}button.gs_btn_cre:disabled{color:white;border-color:#d8948d;background:#e8a49b;}button:disabled:active{box-shadow:inset 0 1px 2px rgba(0,0,0,.1);z-index:2;}a.gs_dis{cursor:default}.gs_ttp{position:absolute;top:100%;right:50%;z-index:10;pointer-events:none;visibility:hidden;opacity:0;transition:visibility 0s .13s,opacity .13s ease-out;}button:hover .gs_ttp,button:focus .gs_ttp,a:hover .gs_ttp,a:focus .gs_ttp{transition:visibility 0s .3s,opacity .13s ease-in .3s;visibility:visible;opacity:1;}.gs_ttp .gs_aro,.gs_ttp .gs_aru{position:absolute;top:-2px;right:-5px;width:0;height:0;line-height:0;font-size:0;border:5px solid transparent;border-top:none;border-bottom-color:#2a2a2a;z-index:1;}.gs_ttp .gs_aro{top:-3px;right:-6px;border-width:6px;border-top:none;border-bottom-color:white;}.gs_ttp .gs_txt{display:block;position:relative;top:2px;right:-50%;padding:7px 9px;background:#2a2a2a;color:white;font-size:11px;font-weight:bold;line-height:normal;white-space:nowrap;border:1px solid white;box-shadow:inset 0 1px 4px rgba(0,0,0,.2);}.gs_in_se,.gs_tan{touch-action:none;}.gs_in_se .gs_lbl{padding-left:8px;padding-right:22px;}.gs_in_se .gs_icm{position:absolute;top:8px;right:8px;width:7px;height:11px;background-position:-21px -88px;opacity:.55;}a.gs_in_se .gs_icm{opacity:.65;}.gs_in_se:hover .gs_icm{opacity:.72;}.gs_in_se:active .gs_icm,.gs_in_se .gs_icm:active,.gs_in_se :active~.gs_icm{opacity:1;}.gs_in_ib:disabled .gs_icm{opacity:.28;}.gs_el_ph .gs_btn_hph .gs_icm,.gs_el_ph .gs_btn_cph .gs_icm{display:none}.gs_btn_mnu .gs_icm{top:11px;height:7px;background-position:0 -110px;}.gs_btn_mn2 .gs_icm,.gs_btn_mn2:hover .gs_icm,.gs_btn_mn2:active .gs_icm,.gs_btn_mn2 .gs_icm:active,.gs_btn_mn2 :active~.gs_icm{background-position:-42px -44px;opacity:1;}.gs_btn_mn2 .gs_ico,.gs_btn_mn2:hover .gs_ico,.gs_btn_mn2:active .gs_ico,.gs_btn_mn2 .gs_ico:active,.gs_btn_mn2 :active~.gs_ico{opacity:1;}.gs_md_se,.gs_md_wn,.gs_el_ph .gs_md_wp{position:absolute;top:0;left:0;border:1px solid #ccc;border-color:rgba(0,0,0,.2);background:white;box-shadow:0 2px 4px rgba(0,0,0,.2);z-index:1100;display:none;opacity:0;transition:opacity .13s;}.gs_md_se.gs_vis,.gs_md_wn.gs_vis,.gs_el_ph .gs_md_wp.gs_vis{opacity:1;transition:all 0s;}.gs_el_tc .gs_md_se,.gs_el_tc .gs_md_wn,.gs_el_ph.gs_el_tc .gs_md_wp{transform-origin:100% 0;transform:scale(1,0);transition:opacity .218s ease-out,transform 0s .218s;}.gs_el_tc .gs_md_wn.gs_ttss,.gs_el_ph.gs_el_tc .gs_md_wp.gs_ttss{transform:scale(0,1);}.gs_el_tc .gs_md_wn.gs_ttzi,.gs_el_ph.gs_el_tc .gs_md_wp.gs_ttzi{transform-origin:50% 50%;transform:scale(0,0);}.gs_el_tc .gs_md_se.gs_vis,.gs_el_tc .gs_md_wn.gs_vis,.gs_el_ph.gs_el_tc .gs_md_wp.gs_vis{transform:scale(1,1);transition:transform .218s ease-out;}.gs_md_wm{opacity:0;visibility:hidden;background:#fff;border:1px solid #ccc;border-color:rgba(0,0,0,.2);box-shadow:0 2px 4px rgba(0,0,0,.2);z-index:1100;position:absolute;transform-origin:50% 50%;margin-top:-500px;}.gs_md_wm.gs_vis{opacity:1;visibility:visible;margin-top:0;}.gs_md_wm.gs_vis.gs_anm{animation:none;}.gs_md_wm.gs_anm{animation:gs_anm_fo .13s ease-out;}.gs_el_tc .gs_md_wm.gs_vis.gs_anm{animation:gs_anm_scli .218s ease-out;}.gs_el_tc .gs_md_wm.gs_anm{animation:gs_anm_fo .218s ease-out;}.gs_el_ph .gs_md_wmw{top:0;left:0;position:fixed;height:100%;width:100%;visibility:hidden;z-index:1100;}.gs_el_ph .gs_md_wm{top:0;left:0;padding:0;width:100%;height:100%;border:none;box-shadow:none;}.gs_el_ph .gs_md_wm.gs_vis.gs_anm{animation:gs_anm_sli .218s ease-out;}.gs_el_ph .gs_md_wm.gs_anm{animation:gs_anm_slo .218s ease-in;}@keyframes gs_anm_fo{from{opacity:1;visibility:visible;margin-top:0;}to{opacity:0;visibility:hidden;margin-top:0;}}@keyframes gs_anm_scli{from{transform:scale(0,0);}to{transform:scale(1,1);}}@keyframes gs_anm_slo{from{opacity:1;visibility:visible;margin-top:0;transform:translate(0,0);}to{opacity:1;visibility:hidden;margin-top:0;transform:translate(0,100%);}}@keyframes gs_anm_sli{from{transform:translate(0,100%);}to{transform:translate(0,0);}}.gs_md_se{white-space:nowrap}.gs_md_se ul{list-style-type:none;word-wrap:break-word;display:inline-block;vertical-align:top;}.gs_md_se li,.gs_md_li,.gs_md_li:link,.gs_md_li:visited{display:block;padding:6px 44px 6px 16px;font-size:13px;line-height:16px;color:#222;cursor:default;text-decoration:none;background:white;transition:background .13s;}a.gs_md_li:hover .gs_lbl,a.gs_md_li:active .gs_lbl{text-decoration:none}.gs_el_tc .gs_md_se li,.gs_el_tc .gs_md_li{padding-top:14px;padding-bottom:10px;}.gs_md_se li:hover,.gs_md_li:hover,.gs_md_li:focus{background:#f1f1f1;transition:background 0s;}.gs_md_se li.gs_sel{color:#dd4b39}.gs_md_wn:focus,.gs_md_se li:focus,.gs_md_li:focus{outline:none}button.gs_btnG .gs_ico,button.gs_btnG:hover .gs_ico,button.gs_btnG:active .gs_ico,button.gs_btnG .gs_ico:active,button.gs_btnG :active~.gs_ico{width:14px;height:14px;top:7px;left:27px;background-position:-113px -44px;opacity:1;}button .gs_bsc{position:absolute;top:0;right:50%;width:25px;}button .gs_bs{background:url('/intl/en/scholar/images/spinner.gif') no-repeat;position:relative;height:25px;width:25px;left:50%;display:none;}button.gs_bsp .gs_bs{display:block;}a.gs_in_cb:link,a.gs_in_cb:visited,a.gs_in_cb:active,a.gs_in_cb:hover,a.gs_in_cb.gs_dis:active .gs_lbl{cursor:default;color:#222;text-decoration:none;}.gs_in_cb,.gs_in_ra{position:relative;line-height:16px;display:inline-block;user-select:none;}.gs_in_cb.gs_md_li{padding:6px 44px 6px 16px;}.gs_in_cb input,.gs_in_ra input{position:absolute;top:1px;left:1px;width:15px;height:15px;margin:0;padding:0;opacity:0;z-index:2;}.gs_in_ra input{top:0;left:0}.gs_el_tc .gs_in_cb input{top:9px}.gs_el_tc .gs_in_ra input{top:8px}.gs_in_cb.gs_in_cbj input{top:15px;left:15px}.gs_in_cb label,.gs_in_cb .gs_lbl,.gs_in_ra label{display:inline-block;padding-left:21px;min-height:16px;}.gs_el_tc .gs_in_cb label,.gs_el_tc .gs_in_cb .gs_lbl,.gs_el_tc .gs_in_ra label{padding-top:8px;padding-bottom:5px;}.gs_in_cb.gs_in_cbj label,.gs_in_cb.gs_in_cbj .gs_lbl{padding:13px 0 12px 41px;}.gs_in_cb .gs_cbx,.gs_in_ra .gs_cbx{position:absolute}.gs_in_cb .gs_cbx{top:2px;left:2px;width:11px;height:11px;border:1px solid #c6c6c6;border-radius:1px;}.gs_md_li .gs_cbx{top:8px;left:18px}.gs_el_tc .gs_in_cb .gs_cbx{top:10px}.gs_el_tc .gs_md_li .gs_cbx{top:16px}.gs_in_cb.gs_in_cbj .gs_cbx{top:15px;left:15px}.gs_el_tc .gs_in_ra .gs_cbx{top:8px}.gs_in_ra .gs_cbx{top:0;left:0;border:1px solid #c6c6c6;width:13px;height:13px;border-radius:7px;}.gs_in_cb:hover .gs_cbx,.gs_in_ra:hover .gs_cbx{border-color:#666;box-shadow:inset 0 1px 1px rgba(0,0,0,.1);}.gs_in_cb:focus .gs_cbx,.gs_in_cb :focus~.gs_cbx,.gs_in_ra :focus~.gs_cbx{border-color:#4d90fe;}.gs_in_cb:active .gs_cbx,.gs_in_ra:active .gs_cbx,.gs_in_cb .gs_cbx:active,.gs_in_ra .gs_cbx:active,.gs_in_cb :active~.gs_cbx,.gs_in_ra :active~.gs_cbx{border-color:#666;background:#ebebeb;}.gs_in_cb :disabled~.gs_cbx,.gs_in_ra :disabled~.gs_cbx{border-color:#f1f1f1;box-shadow:none;}.gs_in_cb :disabled~label,.gs_in_ra :disabled~label{color:#b8b8b8;}.gs_in_cb.gs_err .gs_cbx{border-color:#eda29b;}.gs_in_cb .gs_chk,.gs_in_ra .gs_chk{position:absolute;z-index:1;top:-3px;left:-2px;width:21px;height:21px;}.gs_md_li .gs_chk{top:3px;left:14px}.gs_el_tc .gs_in_cb .gs_chk{top:5px}.gs_el_tc .gs_md_li .gs_chk{top:11px}.gs_in_cb.gs_in_cbj .gs_chk{top:10px;left:10px}.gs_in_ra .gs_chk{top:4px;left:4px;width:7px;height:7px;}.gs_el_tc .gs_in_ra .gs_chk{top:12px}.gs_in_cb input:checked~.gs_chk,.gs_in_cb.gs_sel .gs_chk{background:no-repeat url(/intl/en/scholar/images/1x/sprite_20160531.png) -69px -67px;opacity:.62;}.gs_in_ra input:checked~.gs_chk{border-radius:4px;background:#666;}.gs_in_cb.gs_par .gs_chk{background:no-repeat url(/intl/en/scholar/images/1x/sprite_20160531.png) -20px -44px;opacity:.55;}@media(-webkit-min-device-pixel-ratio:1.5),(min-resolution:144dpi){.gs_in_cb input:checked~.gs_chk,.gs_in_cb.gs_sel .gs_chk,.gs_in_cb.gs_par .gs_chk{background-image:url(/intl/en/scholar/images/2x/sprite_20160531.png);background-size:169px;}}.gs_in_cb input:checked:disabled~.gs_chk{background-position:-69px -67px;opacity:.22;}.gs_ico_X{background-position:-71px 0;opacity:.55;}.gs_ico_X:hover{opacity:.72;}.gs_ico_X:active{opacity:1;}.gs_el_tc .gs_ico_Xt{-webkit-background-origin:content;background-origin:content-box;-webkit-background-clip:content;background-clip:content-box;padding:10px 6px 10px 14px;}.gs_ico_P{background-position:0 0;opacity:.55;}.gs_ico_P:hover{opacity:.72;}.gs_ico_P:active{opacity:1;}.gs_btnC .gs_ico{background-position:0 -66px;}.gs_btnM .gs_ico{background-position:-92px 0;}.gs_btnMW .gs_ico{background-position:-21px -22px;}.gs_btnSB .gs_ico{background-position:0 -44px;}.gs_btnPL .gs_ico{background-position:-148px -66px;}.gs_btnPR .gs_ico{background-position:-21px -66px;}.gs_btnDE .gs_ico{background-position:-134px 0;}.gs_btnADD .gs_ico{background-position:-92px -66px;}.gs_btnMRG .gs_ico{background-position:-113px 0;}.gs_btnDWL .gs_ico{background-position:-28px -88px;}.gs_btnMNU .gs_ico{background-position:0 -88px;}#gsc_bdy{position:relative;margin:0 auto;width:1100px;}.gs_el_me #gsc_bdy{width:1028px}.gs_el_sm #gsc_bdy{width:964px}.gs_el_ph #gsc_bdy,.gs_el_ta #gsc_bdy{width:auto;margin-top:44px;}.gsc_lcl{position:relative;margin:0 337px 0 16px;}.gs_el_sm .gsc_lcl{margin-right:321px;}.gs_el_ta .gsc_lcl,.gs_el_ph .gsc_lcl{margin:0}#gsc_prf,#gsc_a_t{border-right:1px solid #ccc}.gs_el_ta #gsc_prf,.gs_el_ta #gsc_a_t,.gs_el_ph #gsc_prf,.gs_el_ph #gsc_a_t{border:none;}#gsc_rsb{position:absolute;top:0;right:0;width:336px;}.gs_el_sm #gsc_rsb{width:320px;}.gs_el_ta #gsc_rsb{position:relative;width:49%;float:right;margin:8px 0;}.gs_el_ta .gsc_prf_ed #gsc_rsb{display:none;}.gs_el_ph #gsc_rsb{position:relative;width:100%;}#gsc_rsb_m{display:none}.gs_el_ta #gsc_rsb_m,.gs_el_ph #gsc_rsb_m{display:block;position:absolute;top:-44px;width:100%;height:43px;border-bottom:1px solid #ccc;}.gs_el_ta #gsc_rsb_icol,.gs_el_ph #gsc_rsb_icol,.gs_el_ta #gsc_rsb_f,.gs_el_ph #gsc_rsb_f,.gs_el_ta #gsc_rsb_gpl,.gs_el_ph #gsc_rsb_gpl{display:none;}.gsc_rsb_s{margin:20px 24px 24px 24px;position:relative;}.gs_el_sm .gsc_rsb_s{margin:8px 16px 16px 16px}.gs_el_ta .gsc_rsb_s{margin:8px 16px}.gs_el_ph .gsc_rsb_s{margin:8px}.gsc_rsb_h{font-weight:bold;font-size:13px;border-bottom:1px solid #ccc;padding-bottom:4px;margin-bottom:4px;}.gs_el_sm .gsc_rsb_h{margin-bottom:0;}#gsc_rsb_icol,.gs_el_ta #gsc_rsb_icol_m{display:inline-block;width:189px;height:30px;margin:8px 0;background:no-repeat url('/intl/en/scholar/images/1x/scholar_logo_30dp.png');background-size:189px 30px;}.gs_el_ta #gsc_rsb_icol_m{margin:8px 16px;position:relative;z-index:1;}@media(-webkit-min-device-pixel-ratio:1.5),(min-resolution:144dpi){#gsc_rsb_icol,.gs_el_ta #gsc_rsb_icol_m{background-image:url('/intl/en/scholar/images/2x/scholar_logo_30dp.png');}}.gs_el_ph #gsc_rsb_icol_m{color:#dd4b39;font-size:20px;line-height:43px;margin:0 8px;position:relative;z-index:1;}.gs_el_ta #gsc_rsb_f_m,.gs_el_ph #gsc_rsb_f_m{position:absolute;top:7px;right:8px;z-index:2;}#gsc_rsb_fin,#gsc_rsb_fin_m,#gsc_rsb_fbt,#gsc_rsb_fbt_m{vertical-align:top}#gsc_rsb_fin,#gsc_rsb_fin_m{width:228px;border-radius:2px 0 0 2px;}.gs_el_ta #gsc_rsb_fin_m{width:240px}.gs_el_ph #gsc_rsb_fin_m{width:170px}#gsc_rsb_fbt,#gsc_rsb_fbt_m{margin-left:-1px;border-radius:0 2px 2px 0;}.gsc_rsb_foff #gsc_rsb_fin_m{display:none;}.gs_el_tc #gsc_rsb_fin_m{display:inline-block;transform:scale(1,1);visibility:visible;transform-origin:right;transition:visibility 0s,transform .218s;}.gs_el_tc .gsc_rsb_foff #gsc_rsb_fin_m{transform:scale(0,1);visibility:hidden;transition:visibility 0s .218s,transform .218s;}.gs_el_tc #gsc_rsb_f_m.gsc_rsb_foff{z-index:0;transition:z-index 0s .218s;}#gsc_rsb_gpl{margin:16px 0;text-align:center;}#gsc_rsb_st{width:100%;max-width:320px}.gs_el_ph #gsc_rsb_st{width:288px}#gsc_rsb_t{display:none}.gsc_rsb_std{text-align:right;padding-right:8px;}.gsc_rsb_sc1{text-align:left;}.gsc_rsb_sth{font-weight:normal;padding-bottom:4px;padding-right:8px;border-bottom:1px solid #ccc;text-align:right;}th.gsc_rsb_sc1{border-bottom:1px solid #ccc;padding-bottom:4px;font-weight:bold;font-size:13px;}.gsc_rsb_f:link,.gsc_rsb_f:visited{color:#222;}#gsc_g{position:relative;width:288px;height:100px;border:1px solid white;}#gsc_g:hover{border:1px solid #ccc;background:#f5f5f5;}#gsc_g:active{border:1px solid #4d90fe;background:#f1f1f1;}.gs_el_ta #gsc_g,.gs_el_ph #gsc_g{display:none}#gsc_g_x,#gsc_g_bars{position:absolute;bottom:13px;left:0;width:288px;height:57px;}#gsc_g_x{height:13px;border-top:1px solid #777;}.gsc_g_t{position:absolute;bottom:0;color:#777;font-size:11px;}.gsc_g_a{position:absolute;bottom:13px;width:15px;background:#777;}.gsc_g_a:hover,.gsc_g_a:focus,.gsc_g_a:active{text-decoration:none;cursor:default;}.gsc_g_al{position:absolute;bottom:15px;left:7px;color:#222;background:white;font-size:11px;padding:1px;border:1px solid #777;border-radius:1px;visibility:hidden;opacity:0;transition:opacity .218s,visibility 0s .218s;}.gsc_g_a:hover .gsc_g_al,.gsc_g_a:focus .gsc_g_al,.gsc_g_a:active .gsc_g_al{visibility:visible;opacity:1;transition:all 0s;}.gsc_rsb_a{position:relative;list-style:none;}.gsc_rsb_aa:hover{background:#f1f1f1;}span.gsc_rsb_aa:hover{background:white;}.gsc_rsb_lc{margin-left:12px;font-weight:normal;}.gsc_rsb_sp{display:none}.gs_el_ph .gsc_rsb_sp,.gs_el_ta .gsc_rsb_sp{display:inline;margin-right:8px;}.gs_el_ph #gsc_rsb_co .gsc_rsb_a,.gs_el_ta #gsc_rsb_co .gsc_rsb_a{width:auto;overflow-x:hidden;white-space:nowrap;}.gs_el_ph #gsc_rsb_co .gsc_rsb_aa,.gs_el_ta #gsc_rsb_co .gsc_rsb_aa{display:inline-block;}.gs_el_ph #gsc_rsb_co .gsc_rsb_a li,.gs_el_ta #gsc_rsb_co .gsc_rsb_a li{display:inline;}.gsc_rsb_fade{display:none}.gs_el_ph #gsc_rsb_co .gsc_rsb_fade,.gs_el_ta #gsc_rsb_co .gsc_rsb_fade{position:absolute;right:0;bottom:0;width:60px;height:100%;background-image:linear-gradient(to right,rgba(255,255,255,0),rgba(255,255,255,1) 80%);}.gsc_rsb_aa{display:block;padding:4px 0;line-height:17px;}.gs_el_tc .gsc_rsb_aa{line-height:26px}.gsc_rsb_aa:hover,.gsc_rsb_aa:active{text-decoration:none;}#gsc_rsb_ssc .gsc_rsb_h{margin-bottom:0}#gsc_rsb_ssc li{position:relative;border-bottom:1px solid #f1f1f1;}.gs_el_ta #gsc_rsb_ssc,.gs_el_ph #gsc_rsb_ssc,#gsc_rsb_vc{display:none}.gs_el_ta #gsc_rsb_vc,.gs_el_ph #gsc_rsb_vc{display:block;text-align:center;background:#4d90fe;border:1px solid #ccc;margin:0 7px;}.gsc_rsb_vca:link,.gsc_rsb_vca:visited{font-size:13px;font-weight:bold;display:block;color:#eeeeee;text-decoration:underline;padding:16px 8px;}.gsc_rsb_t{position:absolute;top:4px;right:0;width:58px;height:21px;}.gs_el_tc .gsc_rsb_t{top:10px}.gsc_rsb_t .gs_ico{margin-left:8px;}#gsc_rsb_ssc .gsc_rsb_aa{padding:6px 0;margin-right:58px;word-break:break-word;}#gsc_dscl{margin:0 0 8px 0;color:#777;font-style:italic;}#gsc_ftr_h{padding-bottom:13px;}#gsc_prf{padding:24px 8px 16px 0;}.gs_el_sm #gsc_prf{padding:16px 0 8px 0;}.gs_el_ta #gsc_prf{padding:16px 0 8px 16px;}.gs_el_ph #gsc_prf{padding:16px 8px 8px 8px;}.gs_el_ta #gsc_prf_w{width:50%;float:left;}.gs_el_ta .gsc_prf_ed #gsc_prf_w{width:80%;}#gsc_art{clear:both}#gsc_prf_pu{float:left;width:150px;text-align:center;background:#f8f8f8;margin:0 8px 8px 0;}#gsc_prf_pu form{padding:8px 8px 0 8px;background:white;}.gs_el_ph #gsc_prf_pu{width:75px}.gs_el_ta #gsc_prf_pu{width:100px}.gs_el_ta #gsc_prf_pu form,.gs_el_ph #gsc_prf_pu form{padding:4px 4px 0 4px}.gs_el_ph .gsc_prf_ed #gsc_prf_pu{display:none;}#gsc_prf_pua{display:block;line-height:0;}#gsc_prf_pufi{width:0;height:0;overflow:hidden;}.gsc_prf_pufo #gsc_prf_pufi{width:auto;height:auto;overflow:visible;position:relative;z-index:1;}.gsc_prf_pufo #gsc_prf_pufi2{display:inline-block;background:#fcfcfc;padding:8px 8px 8px 0;}#gsc_prf_pufb{word-wrap:break-word;}.gsc_prf_pufo #gsc_prf_pufb{display:none;}#gsc_prf_e,.gsc_prf_ed #gsc_prf_i{display:none}.gsc_prf_ed #gsc_prf_e{display:block;max-width:400px}#gsc_prf_i,#gsc_prf_e,#gsc_prf_iv{margin:0 16px 0 166px;}.gs_el_sm #gsc_prf_i,.gs_el_sm #gsc_prf_e,.gs_el_sm #gsc_prf_iv{margin:0 8px 0 158px;}.gs_el_ph #gsc_prf_i,.gs_el_ph #gsc_prf_e{margin:0 8px 0 0;}.gs_el_ta #gsc_prf_i{margin:0 8px 0 108px;}.gs_el_ta #gsc_prf_e{margin:0 8px 0 83px;}#gsc_prf_ib{float:right;position:relative;white-space:nowrap;}.gs_el_ta #gsc_prf_ib,.gs_el_ph #gsc_prf_ib{position:absolute;top:-37px;left:0;width:200%;height:0;}.gs_el_ph #gsc_prf_ib{width:100%;}#gsc_prf_ibi,#gsc_prf_ibi .gs_ibl{padding-left:16px;}.gs_el_ta #gsc_prf_ibi,.gs_el_ph #gsc_prf_ibi{text-align:right;padding-left:0;margin-right:60px;}.gs_el_ph #gsc_prf_ibi{margin-right:52px;}.gs_el_ph #gsc_prf_ibi .gs_ibl{padding-left:8px;}#gsc_prf_in{font-size:24px;line-height:24px;padding:3px 0 7px 0;}.gs_el_ta #gsc_prf_in,.gs_el_ph #gsc_prf_in{padding:0 0 2px 0;}.gsc_prf_il{font-size:15px;line-height:18px;padding:1px 0;}#gsc_prf_iv{display:none;font-size:15px;line-height:18px;padding:1px 0;}.gs_el_ph #gsc_prf_iv{margin:16px 8px;clear:both;}.gsc_prf_why #gsc_prf_iv{display:block}#gsc_prf_iv li{margin:8px 0 0 0;}#gsc_prf_iv ul{margin:-8px 0 16px 16px;}#gsc_prf_iv button{margin-left:16px;}.gsc_prf_iev{padding:4px 0 8px 0;}.gsc_prf_iel{color:#777;}#gsc_prf_iv table{width:100%;}#gsc_prf_iv td{vertical-align:top;}.gsc_prf_el{color:#777;}.gsc_prf_ev{padding:4px 0 8px 0;}#gsc_prf_ep{padding:8px 0;}#gsc_prf_eb{padding:16px 0 32px 0;}#gsc_prf_eb button{margin-right:16px;}#gsc_fol_dd{top:29px;left:auto;right:0;text-align:left;}.gs_el_ph #gsc_fol_dd{min-width:240px;max-width:284px;right:-44px;}#gsc_fol_f,#gsc_fol_p{padding:16px}#gsc_fol_p{background:#ffc}#gsc_fol_ml{color:#777;padding-bottom:4px}#gsc_fol_cb{padding:8px 0}.gsc_fol_cr{margin:8px 0;white-space:normal}.gs_el_tc .gsc_fol_cr{margin:0}#gsc_fol_dd #gsc_fol_b{margin:0}#gsc_fol_dd #gsc_fol_x{margin:0 16px}#gsc_fol_p #gsc_fol_x{margin-right:0}#gsc_fol_ll{display:inline-block;padding:7px 0 8px 0;white-space:nowrap}#gsc_fol_hlp{margin-bottom:16px;white-space:normal;}.gs_el_ph #gsc_fol_dd #gsc_fol_b,.gs_el_ph #gsc_fol_dd #gsc_fol_x,.gs_el_ph #gsc_fol_ll{display:block;width:100%;margin:8px 0 0 0;text-align:center;}.gs_el_ph #gsc_fol_ll{background:#fcfcfc}#gsc_dd_exp-md,#gsc_dd_mor-md{top:29px;}.gs_el_ph #gsc_dd_exp-md{left:auto;right:12px;}#gsc_dd_mor-md{width:196px;white-space:normal;}.gs_el_ph #gsc_dd_mor-md{left:-84px;}#gsc_dd_mor-m,.gs_el_ph #gsc_dd_mor-s{display:block;}#gsc_dd_mor-s{display:none;border-top:1px solid #ebebeb;}#gsc_dd_mor-s .gsc_dd_mor-sel{color:#dd4b39;}#gsc_dd_mor-p{border-top:1px solid #ebebeb;padding:10px 44px 10px 16px;color:#777;}.gsc_art_sel #gsc_btn_add,.gsc_art_sel #gsc_dd_mor-w,.gsc_art_sel #gsc_a_nn,#gsc_btn_mer,#gsc_btn_del,#gsc_btn_expw{display:none;}#gsc_dd_mor-w,.gsc_art_sel #gsc_btn_mer,.gsc_art_sel #gsc_btn_del,.gsc_art_sel #gsc_btn_expw{position:relative;display:inline-block;}#gsc_a_t{width:100%;table-layout:fixed;}#gsc_a_tr0 th.gsc_a_x,#gsc_a_tr0 th.gsc_a_t,#gsc_a_tr0 th.gsc_a_c,#gsc_a_tr0 th.gsc_a_y{height:0;padding-top:0;padding-bottom:0;border:none;border-top:1px solid #ccc;}#gsc_a_trh{left:0;top:0;z-index:700;background:#f1f1f1;}th.gsc_a_x,th.gsc_a_t,th.gsc_a_c,th.gsc_a_y{box-sizing:border-box;background:#f1f1f1;}.gsc_a_x,.gsc_a_t,.gsc_a_c,.gsc_a_y,.gsc_a_e{font-weight:normal;padding:8px 16px;vertical-align:middle;text-align:right;border-bottom:1px solid #ccc;}.gs_el_sm .gsc_a_t,.gs_el_sm .gsc_a_c,.gs_el_sm .gsc_a_y{padding:8px 8px;}.gsc_a_x{padding:0;}th.gsc_a_x{width:41px;height:41px;text-align:left;}th.gsc_a_x .gs_ico{background-position:-134px 0;opacity:.55;display:block;margin-left:12px;}.gsc_a_t{text-align:left;}#gsc_a_ta,#gsc_a_nn{display:inline-block;vertical-align:middle;margin-right:16px;}.gs_el_ph #gsc_a_nn{display:none;}th.gsc_a_c{width:90px;}.gs_el_sm th.gsc_a_c{width:74px;}.gs_el_ph th.gsc_a_c{padding:0 8px;width:74px;word-wrap:break-word;}#gsc_a_ca{display:block;width:58px;}.gs_el_ph #gsc_a_ca{width:58px;}.gs_el_ph .gsc_art_sel #gsc_a_ca{display:none}td.gsc_a_c{padding:8px;}th.gsc_a_y{width:71px;}.gs_el_sm th.gsc_a_y{width:55px;}.gs_el_ph th.gsc_a_y,.gs_el_ph td.gsc_a_y{width:0;padding:0;}.gs_el_ph .gsc_a_h{display:none}@media print{#gs_top th.gsc_a_c{width:63pt;}#gs_top th.gsc_a_y{width:45pt;}}.gsc_a_e{padding:16px;text-align:center;}.gsc_a_a{padding:8px 0}.gsc_a_at{padding:8px 0;font-size:16px}.gsc_a_ac{padding:8px}a.gsc_a_acm{text-decoration:line-through}a.gsc_a_acm:hover,a.gs_a_acm:active{text-decoration:underline}.gsc_a_m{position:absolute}.gs_el_ph .gsc_a_m{display:block;position:static;}.gsc_a_am{font-size:24px;position:absolute;top:-12px;left:-8px;padding:8px 12px 4px 8px;}.gs_el_ph .gsc_a_am{display:inline-block;position:static;padding:6px 16px;margin-bottom:-6px;}#gsc_a_sp{margin-top:16px;height:25px;background:url('/intl/en/scholar/images/spinner.gif') no-repeat 50% 0%;padding-bottom:16px;border-bottom:1px solid #ccc;}#gsc_a_err{padding:28px 0;}.gsc_a_fix{position:fixed;}#gsc_lwp{margin:35px 0;text-align:center;}#gsc_bpf{display:inline-block;}#gsc_bpf_more{min-width:200px;margin:0 16px;}.gs_el_ph #gsc_bpf_more{margin:0;}#gsc_md_mopt,#gsc_md_cbyd,#gsc_md_cbym{width:600px;}.gs_el_ta #gsc_md_mopt,.gs_el_ta #gsc_md_cbyd,.gs_el_ta #gsc_md_cbym{width:500px;}.gs_el_ph #gsc_md_mopt,.gs_el_ph #gsc_md_cbyd,.gs_el_ph #gsc_md_cbym{width:80%;}#gsc_md_mopt .gs_md_prg,#gsc_md_cbyd .gs_md_prg,#gsc_md_cbym .gs_md_prg{margin:48px 0;}.gsc_mob_art{vertical-align:top;padding:8px 0;}.gsc_mob_cby{vertical-align:top;text-align:right;padding:8px 12px;}.gsc_mob_ttl,.gsc_mob_pub{display:block;}.gsc_mob_pub{color:#666;}.gsc_mob_cbym{text-decoration:line-through}.gsc_mob_cbm{font-size:24px;position:absolute;padding:4px 0 0 4px;line-height:16px;}@media print{#gs_top #gs_gb,#gs_top #gsc_nag,#gs_top #gsc_rsb_lg_m,#gs_top #gsc_rsb_lg,#gs_top #gsc_prf_e,#gs_top #gsc_prf_ib,#gs_top #gsc_prf_ip,#gs_top #gsc_prf_ivh,#gs_top #gsc_prf_puf,#gs_top #gsc_rsb_ssc,#gs_top #gsc_rsb_co,#gs_top #gsc_rsb_vc,#gs_top #gsc_g,#gs_top #gsc_btn_add,#gs_top #gsc_btn_mer, #gs_top #gsc_btn_del,#gs_top #gsc_btn_expw,#gs_top #gsc_dd_mor-w,#gs_top .gsc_a_x,#gs_top #gsc_lwp,#gs_top #gsc_ftr_h{display:none;}#gs_top,#gs_top #gsc_bdy,#gs_top #gsc_prf_w,#gs_top #gsc_prf,#gs_top #gsc_prf_pu,#gs_top #gsc_prf_i,#gs_top .gsc_rsb_s,#gs_top .gsc_lcl,#gs_top #gsc_rsb,#gs_top #gsc_a_t,#gs_top .gsc_prf_il,#gs_top #gsc_rsb_st{background:none;border:none;padding:0;margin:0;height:auto;width:auto;min-width:0;max-width:none;float:none;display:block;position:static;color:black;font-weight:normal;font-size:12pt;}#gs_top .gsc_a_ac,#gs_top .gsc_a_a,#gs_top #gsc_a_ca,#gs_top .gsc_a_at,#gs_top .gsc_rsb_sc1,#gs_top .gsc_rsb_sth,#gs_top .gsc_rsb_std,#gs_top #gsc_bdy .gsc_a_x,#gs_top #gsc_bdy .gsc_a_t,#gs_top #gsc_bdy .gsc_a_c,#gs_top #gsc_bdy .gsc_a_y,#gs_top #gsc_a_trh,#gs_top .gsc_a_m,#gs_top .gsc_a_am{color:black;font-weight:normal;font-size:12pt;padding:0;margin:0;background:none;border:none;}#gs_top .gsc_a_ac{font-size:10pt}#gs_top #gsc_prf_pu{float:left;width:80pt;text-align:center;margin:0 7pt 7pt 0;}#gs_top #gsc_prf_i{margin:0 7pt 7pt 0;}#gs_top #gsc_prf_in{font-size:20pt;line-height:20pt;padding:0 0 4pt 0;}#gs_top #gsc_prf_w{float:left;width:64%;}#gs_top #gsc_rsb{float:right;width:35%;}#gs_top #gsc_rsb_st{display:table;width:100%;}#gs_top #gsc_rsb_t{display:block;text-align:right;line-height:20pt;padding-bottom:5pt;font-weight:bold;}#gs_top .gsc_rsb_sc1,#gs_top .gsc_rsb_sth,#gs_top .gsc_rsb_std{font-size:10pt;}#gs_top th.gsc_rsb_sc1,#gs_top .gsc_rsb_sth{border-bottom:1pt solid #ccc;}#gs_top .gsc_rsb_sth{padding-left:14pt;}#gs_top #gsc_bdy .gsc_a_x,#gs_top #gsc_bdy .gsc_a_t,#gs_top #gsc_bdy .gsc_a_c,#gs_top #gsc_bdy .gsc_a_y,#gs_top #gsc_a_trh{padding:6pt 0;}#gs_top #gsc_a_trh{border-bottom:1pt solid #ccc;}#gs_top #gsc_a_ca{display:block;width:auto;}#gs_top #gsc_a_ta,#gs_top #gsc_a_nn{display:inline-block;vertical-align:middle;margin-right:12pt;}#gs_top .gsc_a_h{display:inline;font-size:10pt;}#gs_top .gsc_a_at,#gs_top .gsc_prf_ila{color:blue;}#gs_top .gsc_a_m,#gs_top .gsc_a_am{display:inline;position:absolute;}#gs_top .gsc_a_am{padding: 11pt 0 0 8pt;}#gs_top .gsc_a_fix{position:static}#gs_top .gsc_a_t .gs_gray{color:black;font-size:10pt;}#gs_top #gsc_dscl{margin:12pt 0 0 0;color:black;}}&lt;/style&gt;&lt;script&gt;var gs_ie_ver=100;&lt;/script&gt;&lt;!--[if lte IE 8]&gt;&lt;script&gt;gs_ie_ver=8;&lt;/script&gt;&lt;![endif]--&gt;&lt;script&gt;function gs_id(i){return document.getElementById(i)}function gs_ch(e,t){return e?e.getElementsByTagName(t):[]}function gs_ech(e){return e.children||e.childNodes}function gs_atr(e,a){return e.getAttribute(a)}function gs_hatr(e,a){var n=e.getAttributeNode(a);return n&amp;&amp;n.specified}function gs_xatr(e,a,v){e.setAttribute(a,v)}function gs_uatr(e,a){e.removeAttribute(a)}function gs_catr(e,a,v){gs_hatr(e,a)&amp;&amp;gs_xatr(e,a,v)}function gs_ctai(e,v){gs_hatr(e,\\\"tabindex\\\")&amp;&amp;(e.tabIndex=v)}function gs_uas(s){return (navigator.userAgent||\\\"\\\").indexOf(s)&gt;=0}var gs_is_tc=/[?&amp;]tc=([01])/.exec(window.location.search||\\\"\\\"),gs_is_ios=gs_uas(\\\"iPhone\\\")||gs_uas(\\\"iPod\\\")||gs_uas(\\\"iPad\\\");if(gs_is_tc){gs_is_tc=parseInt(gs_is_tc[1]);}else if(window.matchMedia&amp;&amp;matchMedia(\\\"(pointer),(-moz-touch-enabled),(-moz-touch-enabled:0)\\\").matches){gs_is_tc=matchMedia(\\\"(pointer:coarse),(-moz-touch-enabled)\\\").matches;}else{gs_is_tc=0||('ontouchstart' in window)||(navigator.msMaxTouchPoints||0)&gt;0;}var gs_re_sp=/\\s+/,gs_re_sel=/(?:^|\\s)gs_sel(?!\\S)/g,gs_re_par=/(?:^|\\s)gs_par(?!\\S)/g,gs_re_dis=/(?:^|\\s)gs_dis(?!\\S)/g,gs_re_vis=/(?:^|\\s)gs_vis(?!\\S)/g,gs_re_anm=/(?:^|\\s)gs_anm(?!\\S)/g,gs_re_bsp=/(?:^|\\s)gs_bsp(?!\\S)/g,gs_re_err=/(?:^|\\s)gs_err(?!\\S)/g,gs_re_nscl=/(?:^|\\s)gs_nscl(?!\\S)/g,gs_re_cb=/(?:^|\\s)gs_in_cb(?!\\S)/,gs_re_ra=/(?:^|\\s)gs_in_ra(?!\\S)/,gs_re_qsp=/[\\s\\u0000-\\u002f\\u003a-\\u0040\\u005b-\\u0060\\u007b-\\u00bf\\u2000-\\u206f\\u2e00-\\u2e42\\u3000-\\u303f\\uff00-\\uff0f\\uff1a-\\uff20\\uff3b-\\uff40\\uff5b-\\uff65]+/;function gs_xcls(e,c){gs_scls(e,e.className+\\\" \\\"+c)}function gs_ucls(e,r){gs_scls(e,e.className.replace(r,\\\"\\\"))}function gs_scls(e,c){return e.className!=c&amp;&amp;(e.className=c,true)}function gs_usel(e){gs_ucls(e,gs_re_sel)}function gs_xsel(e){gs_usel(e);gs_xcls(e,\\\"gs_sel\\\")}function gs_tsel(e){return e.className.match(gs_re_sel)}function gs_isel(e){(gs_tsel(e)?gs_usel:gs_xsel)(e)}function gs_upar(e){gs_ucls(e,gs_re_par)}function gs_xpar(e){gs_upar(e);gs_xcls(e,\\\"gs_par\\\")}function gs_tpar(e){return e.className.match(gs_re_par)}function gs_udis(e){gs_ucls(e,gs_re_dis)}function gs_xdis(e){gs_udis(e);gs_xcls(e,\\\"gs_dis\\\")}function gs_tdis(e){return e.className.match(gs_re_dis)}function gs_uvis(e){gs_ucls(e,gs_re_vis)}function gs_xvis(e){gs_uvis(e);gs_xcls(e,\\\"gs_vis\\\")}function gs_uanm(e){gs_ucls(e,gs_re_anm)}function gs_xanm(e){gs_uanm(e);gs_xcls(e,\\\"gs_anm\\\")}function gs_ubsp(e){gs_ucls(e,gs_re_bsp)}function gs_xbsp(e){gs_ubsp(e);gs_xcls(e,\\\"gs_bsp\\\")}function gs_uerr(e){gs_ucls(e,gs_re_err)}function gs_xerr(e){gs_uerr(e);gs_xcls(e,\\\"gs_err\\\")}function gs_unscl(e){gs_ucls(e,gs_re_nscl)}function gs_xnscl(e){gs_unscl(e);gs_xcls(e,\\\"gs_nscl\\\")}var gs_gcs=window.getComputedStyle?function(e){return getComputedStyle(e,null)}:function(e){return e.currentStyle};var gs_ctd=function(){var s=document.documentElement.style,p,l=['OT','MozT','webkitT','t'],i=l.length;function f(s){return Math.max.apply(null,(s||\\\"\\\").split(\\\",\\\").map(parseFloat))||0;}do{p=l[--i]+'ransition'}while(i&amp;&amp;!(p in s));return i?function(e){var s=gs_gcs(e);return f(s[p+\\\"Delay\\\"])+f(s[p+\\\"Duration\\\"]);}:function(){return 0};}();var gs_tmh=function(){var X,P={};return {a:function(e){var t=pageYOffset+e.getBoundingClientRect().bottom;X=X||gs_id(\\\"gs_top\\\");if(e.id){P[e.id]=1;t&gt;X.offsetHeight&amp;&amp;(X.style.minHeight=t+\\\"px\\\");}},r:function(e){if(e.id&amp;&amp;X){delete P[e.id];if(!Object.keys(P).length){X.style.minHeight=\\\"\\\";}}}}}();var gs_vis=function(){return function(e,v,c){var s=e&amp;&amp;e.style,h,f;if(s){gs_catr(e,\\\"aria-hidden\\\",v?\\\"false\\\":\\\"true\\\");if(v){s.display=v===2?\\\"inline\\\":\\\"block\\\";gs_ctd(e);gs_xvis(e);f=gs_ctd(e);gs_uas(\\\"AppleWebKit\\\")&amp;&amp;f&amp;&amp;gs_evt_one(e,\\\"transitionend webkitTransitionEnd\\\",function(){gs_tmh.a(e);});c&amp;&amp;(f?setTimeout(c,1000*f):c());}else{gs_uvis(e);h=function(){s.display=\\\"none\\\";gs_tmh.r(e);c&amp;&amp;c();};f=gs_ctd(e);f?setTimeout(h,1000*f):h();}}};}();function gs_visi(i,v,c){gs_vis(gs_id(i),v,c)}function gs_sel_clk(p,t){var l=gs_ch(gs_id(p),\\\"li\\\"),i=l.length,c,x,s;while(i--){if((c=gs_ch(x=l[i],\\\"a\\\")).length){s=c[0]===t;(s?gs_xsel:gs_usel)(x);gs_catr(c[0],\\\"aria-selected\\\",s?\\\"true\\\":\\\"false\\\");}}return false;}function gs_efl(f){if(typeof f==\\\"string\\\"){var c=f.charAt(0),x=f.slice(1);if(c===\\\"#\\\")f=function(t){return t.id===x};else if(c===\\\".\\\")f=function(t){return (\\\" \\\"+t.className+\\\" \\\").indexOf(\\\" \\\"+x+\\\" \\\")&gt;=0};else{c=f.toLowerCase();f=function(t){return t.nodeName.toLowerCase()===c};}}return f;}function gs_dfcn(d){return (d?\\\"last\\\":\\\"first\\\")+\\\"Child\\\"}function gs_dnsn(d){return (d?\\\"previous\\\":\\\"next\\\")+\\\"Sibling\\\"}var gs_trv=function(){function h(r,x,f,s,n,c){var t,p;while(x){if(x.nodeType===1){if(f(x)){if(c)return x;}else{for(p=x[s];p;p=p[n])if(t=h(p,p,f,s,n,1))return t;}}c=1;while(1){if(x===r)return;p=x.parentNode;if(x=x[n])break;x=p;}}}return function(r,x,f,d){return h(r,x,gs_efl(f),gs_dfcn(d),gs_dnsn(d))};}();function gs_bind(){var a=Array.prototype.slice.call(arguments),f=a.shift();return function(){return f.apply(null,a.concat(Array.prototype.slice.call(arguments)))};}function gs_evt1(e,n,f){e.addEventListener(n,f,false)}function gs_uevt1(e,n,f){e.removeEventListener(n,f,false)}if(!window.addEventListener){gs_evt1=function(e,n,f){e.attachEvent(\\\"on\\\"+n,f)};gs_uevt1=function(e,n,f){e.detachEvent(\\\"on\\\"+n,f)};}function gs_evtX(e,n,f,w){var i,a;typeof n===\\\"string\\\"&amp;&amp;(n=n.split(\\\" \\\"));for(i=n.length;i--;)(a=n[i])&amp;&amp;w(e,a,f);}function gs_evt(e,n,f){gs_evtX(e,n,f,gs_evt1)}function gs_uevt(e,n,f){gs_evtX(e,n,f,gs_uevt1)}function gs_evt_one(e,n,f){function g(E){gs_uevt(e,n,g);f(E);}gs_evt(e,n,g);}function gs_evt_all(l,n,f){for(var i=l.length;i--;){gs_evt(l[i],n,gs_bind(f,l[i]))}}function gs_evt_dlg(p,c,n,f){p!==c&amp;&amp;(c=gs_efl(c));gs_evt(p,n,p===c?function(e){f(p,e)}:function(e){var t=gs_evt_tgt(e);while(t){if(c(t))return f(t,e);if(t===p)return;t=t.parentNode;}});}function gs_evt_sms(v){var L=[],l=[\\\"mousedown\\\",\\\"click\\\"],i=l.length;function s(e){for(var l=L,n=l.length,i=0,x=e.clientX,y=e.clientY;i&lt;n;i+=2){if(Math.abs(x-l[i])&lt;10&amp;&amp;Math.abs(y-l[i+1])&lt;10){gs_evt_ntr(e);break;}}}while(i--)document.addEventListener(l[i],s,true);gs_evt_sms=function(e){var l=e.changedTouches||[],h=l[0]||{};L.push(h.clientX,h.clientY);setTimeout(function(){L.splice(0,2)},2000);};gs_evt_sms(v);v=0;}function gs_evt_clk(e,f,w,k){return gs_evt_dlg_clk(e,e,function(t,e){f(e)},w,k);}function gs_evt_dlg_clk(p,c,f,w,k){k=\\\",\\\"+(k||[13,32]).join(\\\",\\\")+\\\",\\\";return gs_evt_dlg_xclk(p,c,function(t,e){if(e.type==\\\"keydown\\\"){if(k.indexOf(\\\",\\\"+e.keyCode+\\\",\\\")&lt;0)return;gs_evt_ntr(e);}f(t,e);},w);}function gs_evt_xclk(e,f,w){return gs_evt_dlg_xclk(e,e,function(t,e){f(e)},w);}function gs_evt_dlg_xclk(p,c,f,w){var T,S=0,X=0,Y=0,O=0,V=0;function u(t,e){var n=e.type,h,l;if(t!==T){T=t;S=0;}if(!gs_evt_spk(e)){if(n===\\\"mousedown\\\"){if(w!==2)return S=0;S=1;}else if(n===\\\"click\\\"){if(S){gs_evt_ntr(e);return S=0;}}else if(n===\\\"touchstart\\\"&amp;&amp;w){if(e.timeStamp-V&lt;200){gs_evt_ntr(e);return S=0;}if(w===2){S=0;}else{if((l=e.touches).length!==1)return S=-3;h=l[0];X=h.pageX;Y=h.pageY;O=pageYOffset;return S=3;}}else if(n===\\\"touchcancel\\\"){return S=0;}else if(n===\\\"touchend\\\"&amp;&amp;w){gs_evt_sms(e);V=e.timeStamp;if(w===2){gs_evt_ntr(e);return S=0;}if(S!==3||(l=e.changedTouches).length!==1||Math.abs(X-(h=l[0]).pageX)&gt;10||Math.abs(Y-h.pageY)&gt;10||Math.abs(O-pageYOffset)&gt;1){return S=(e.touches.length?-4:0);}S=0;}else if(n===\\\"keydown\\\"){f(t,e);return;}else if(n===\\\"keyup\\\"){e.keyCode===32&amp;&amp;gs_evt_pdf(e);return;}else{return}gs_evt_ntr(e);f(t,e);}}gs_evt_dlg(p,c,[\\\"keydown\\\",\\\"keyup\\\",\\\"click\\\"].concat(w?[\\\"mousedown\\\"].concat((w===2?1:0)?[\\\"touchstart\\\",\\\"touchend\\\",\\\"touchcancel\\\"]:[]):[]),u);return u;}function gs_evt_inp(e,f){gs_evt(e,[\\\"input\\\",\\\"keyup\\\",\\\"cut\\\",\\\"paste\\\",\\\"change\\\",\\\"gs-change\\\"],function(){setTimeout(f,0)});}function gs_evt_fcs(e,f){e.addEventListener(\\\"focus\\\",f,true)}function gs_evt_blr(e,f){e.addEventListener(\\\"blur\\\",f,true)}if(\\\"onfocusin\\\" in document){gs_evt_fcs=function(e,f){gs_evt(e,\\\"focusin\\\",f)};gs_evt_blr=function(e,f){gs_evt(e,\\\"focusout\\\",f)};}function gs_evt_stp(e){e.cancelBubble=true;e.stopPropagation&amp;&amp;e.stopPropagation();return false;}function gs_evt_pdf(e){e.returnValue=false;e.preventDefault&amp;&amp;e.preventDefault();}function gs_evt_ntr(e){gs_evt_stp(e);gs_evt_pdf(e);}function gs_evt_tgt(e){var t=e.target||e.srcElement;t&amp;&amp;t.nodeType===3&amp;&amp;(t=t.parentNode);return t;}function gs_evt_spk(e){return (e.ctrlKey?1:0)|(e.altKey?2:0)|(e.metaKey?4:0)|(e.shiftKey?8:0);}function gs_evt_crt(d,t){if(document.createEvent){var e=document.createEvent('Event');e.initEvent(t,!0,!0);d.dispatchEvent(e);}}function gs_tfcs(t){if(!gs_is_tc||(gs_uas(\\\"Windows\\\")&amp;&amp;!gs_uas(\\\"Windows Phone\\\"))){t.focus();t.value=t.value;}}var gs_raf=window.requestAnimationFrame||window.webkitRequestAnimationFrame||window.mozRequestAnimationFrame||function(c){setTimeout(c,33)};var gs_evt_rdy=function(){var d=document,l=[],h=function(){var n=l.length,i=0;while(i&lt;n)l[i++]();l=[];};gs_evt(d,\\\"DOMContentLoaded\\\",h);gs_evt(d,\\\"readystatechange\\\",function(){var s=d.readyState;(s==\\\"complete\\\"||(s==\\\"interactive\\\"&amp;&amp;gs_id(\\\"gs_rdy\\\")))&amp;&amp;h();});gs_evt(window,\\\"load\\\",h);return function(f){l.push(f)};}();function gs_evt_raf(e,n){var l=[],t=0,h=function(){var x=l,n=x.length,i=0;while(i&lt;n)x[i++]();t=0;};return function(f){l.length||gs_evt(e,n,function(){!t++&amp;&amp;gs_raf(h)});l.push(f);};}var gs_evt_wsc=gs_evt_raf(window,\\\"scroll\\\"),gs_evt_wre=gs_evt_raf(window,\\\"resize\\\");var gs_md_st=[],gs_md_lv={},gs_md_fc={},gs_md_if,gs_md_is=0;function gs_md_ifc(d,f){gs_md_fc[d]=f}function gs_md_sif(){gs_md_if=1;setTimeout(function(){gs_md_if=0},0);}function gs_md_plv(n){var l=gs_md_lv,x=0;while(n&amp;&amp;!x){x=l[n.id]||0;n=n.parentNode;}return x;}gs_evt(document,\\\"click\\\",function(e){var m=gs_md_st.length;if(m&amp;&amp;!gs_evt_spk(e)&amp;&amp;m&gt;gs_md_plv(gs_evt_tgt(e))){(gs_md_st.pop())();gs_evt_pdf(e);}});gs_evt(document,\\\"keydown\\\",function(e){e.keyCode==27&amp;&amp;!gs_evt_spk(e)&amp;&amp;gs_md_st.length&amp;&amp;(gs_md_st.pop())();});gs_evt(document,\\\"selectstart\\\",function(e){gs_md_is&amp;&amp;gs_evt_pdf(e)});gs_evt_fcs(document,function(e){var l=gs_md_lv,m=gs_md_st.length,x,k,v,d;if(m&amp;&amp;!gs_md_if){x=gs_md_plv(gs_evt_tgt(e));while(x&lt;m){v=0;for(k in l)l.hasOwnProperty(k)&amp;&amp;l[k]&gt;v&amp;&amp;(v=l[d=k]);if(v=gs_md_fc[d]){gs_evt_stp(e);gs_id(v).focus();break;}else{(gs_md_st.pop())(1);--m;!gs_md_is++&amp;&amp;setTimeout(function(){gs_md_is=0},1000);}}}});function gs_md_cls(d,e){var x=gs_md_lv[d]||1e6;while(gs_md_st.length&gt;=x)(gs_md_st.pop())();return gs_evt_stp(e);}function gs_md_shw(d,e,o,c){if(!gs_md_lv[d]){var x=gs_md_plv(gs_id(d));while(gs_md_st.length&gt;x)(gs_md_st.pop())();o&amp;&amp;o();gs_md_st.push(function(u){gs_md_lv[d]=0;c&amp;&amp;c(u);});gs_md_lv[d]=gs_md_st.length;return gs_evt_stp(e);}}function gs_md_opn(d,e,c,z){var a=document.activeElement;return gs_md_shw(d,e,gs_bind(gs_visi,d,1),function(u){gs_visi(d,0,z);try{u||a.focus()}catch(_){}c&amp;&amp;c(u);});}function gs_evt_md_mnu(d,b,f,a,w){var O,X;d=gs_id(d);b=gs_id(b);f=f?gs_efl(f):function(t){return (gs_hatr(t,\\\"data-a\\\")||t.nodeName===\\\"A\\\"&amp;&amp;t.href)&amp;&amp;t.offsetWidth;};a=a||function(t){var c=gs_atr(t,\\\"data-a\\\");c?eval(c):t.nodeName===\\\"A\\\"&amp;&amp;t.href&amp;&amp;(location=t.href);};function u(e){if(e.type==\\\"keydown\\\"){var k=e.keyCode;if(k==38||k==40){if(O){try{gs_trv(d,d,f,k==38).focus()}catch(_){}gs_evt_ntr(e);return;}}else if(k!=13&amp;&amp;k!=32){return;}gs_evt_pdf(e);}if(O){gs_md_cls(d.id,e);}else{gs_md_sif();O=1;gs_xsel(b);gs_md_opn(d.id,e,function(){O=0;gs_usel(b);try{X.blur()}catch(_){}});w&amp;&amp;w();}}function c(x,r){var p=x.parentNode,c=gs_ech(p),i=c.length,l=\\\"offsetLeft\\\";if(p!==d){while(c[--i]!==x);p=p[gs_dnsn(r)]||p.parentNode[gs_dfcn(r)];c=gs_ech(p);if(i=Math.min(i+1,c.length)){p=c[i-1];if(p.nodeType==1&amp;&amp;f(p)&amp;&amp;p[l]!=x[l])return p;}}}function g(t,e){function m(x){if(x){gs_evt_ntr(e);x.focus();}}if(O){if(e.type==\\\"keydown\\\"){var k=e.keyCode;if(k==13||k==32){}else{if(k==38||k==40){m(gs_trv(d,t,f,k==38)||gs_trv(d,d,f,k==38));}else if(k==37||k==39){m(c(t,k==37));}return;}}gs_md_cls(d.id,e);gs_evt_pdf(e);gs_md_sif();a(t);}}gs_evt_xclk(b,u,2);gs_evt_fcs(d,function(e){var x=gs_evt_tgt(e);if(x&amp;&amp;f(x)){gs_ctai(x,0);X=x;}});gs_evt_blr(d,function(e){var x=gs_evt_tgt(e);if(x&amp;&amp;f(x)){gs_ctai(x,-1);X=0;}});gs_evt_dlg_xclk(d,f,g,1);return u;}function gs_evt_md_sel(d,b,h,c,s,u){h=gs_id(h);c=gs_id(c);s=gs_id(s);return gs_evt_md_mnu(d,b,function(t){return gs_hatr(t,\\\"data-v\\\")},function(t){h.innerHTML=t.innerHTML;c.value=gs_atr(t,\\\"data-v\\\");if(t!==s){gs_usel(s);gs_uatr(s,\\\"aria-selected\\\");gs_xsel(s=t);gs_xatr(s,\\\"aria-selected\\\",\\\"true\\\");}gs_evt_crt(c,\\\"gs-change\\\");u&amp;&amp;u();},function(){s.focus()});}function gs_xhr(){if(window.XMLHttpRequest)return new XMLHttpRequest();var c=[\\\"Microsoft.XMLHTTP\\\",\\\"MSXML2.XMLHTTP\\\",\\\"MSXML2.XMLHTTP.3.0\\\",\\\"MSXML2.XMLHTTP.6.0\\\"],i=c.length;while(i--)try{return new ActiveXObject(c[i])}catch(e){}}function gs_ajax(u,d,c){var r=gs_xhr();r.onreadystatechange=function(){r.readyState==4&amp;&amp;c(r.status,r.responseText);};r.open(d?\\\"POST\\\":\\\"GET\\\",u,true);d&amp;&amp;r.setRequestHeader(\\\"Content-Type\\\",\\\"application/x-www-form-urlencoded\\\");d?r.send(d):r.send();}var gs_json_parse=\\\"JSON\\\" in window?function(s){return JSON.parse(s)}:function(s){return eval(\\\"(\\\"+s+\\\")\\\")};function gs_frm_ser(e,f){var i=e.length,r=[],x,n,t;while(i--){x=e[i];n=encodeURIComponent(x.name||\\\"\\\");t=x.type;n&amp;&amp;(!f||f(x))&amp;&amp;!x.disabled&amp;&amp;((t!=\\\"checkbox\\\"&amp;&amp;t!=\\\"radio\\\")||x.checked)&amp;&amp;r.push(n+\\\"=\\\"+encodeURIComponent(x.value||\\\"\\\"));}return r.join(\\\"&amp;\\\");}function gs_btn_ssp(b,v){  var x=gs_id(b);  (v?gs_xbsp:gs_ubsp)(x);  x.disabled=!!v;}function gs_evt_frm_ajax(f,b,a){var Z=f.elements,H={},x,y,i=Z.length;while(i--){x=Z[i];y=x.nextSibling;if(y&amp;&amp;x.name&amp;&amp;x.type==\\\"text\\\")H[x.name]=y.innerHTML;}function s(e){var p=\\\"json=&amp;\\\"+gs_frm_ser(Z);b&amp;&amp;b();gs_ajax(f.action,p,function(c,t){if(c!=200){a&amp;&amp;a(c);return}var p=gs_json_parse(t),l=p[\\\"L\\\"],g,m;if(l){a&amp;&amp;a(c,p);location=l;return}g=p[\\\"E\\\"];for(i in H){x=Z[i];m=g[i];y=x.nextSibling;gs_scls(x,\\\"gs_in_txt\\\"+(m?\\\" gs_in_txte\\\":\\\"\\\"));gs_scls(y,\\\"gs_in_txts \\\"+(m?\\\"gs_red\\\":\\\"gs_gray\\\"));y.innerHTML=m||H[i];gs_vis(y,y.innerHTML?1:0);}a&amp;&amp;a(c,p);});e&amp;&amp;gs_evt_pdf(e);};gs_evt(f,\\\"submit\\\",s);return s;}var gs_rlst,gs_wlst;!function(U){var L={},S;try{S=window.localStorage}catch(_){}gs_rlst=function(k,s){if(s||!(k in L)){var v=S&amp;&amp;S[k];if(v)try{v=JSON.parse(v)}catch(_){v=U}else v=U;L[k]=v;}return L[k];};gs_wlst=function(k,v){L[k]=v;try{S&amp;&amp;(S[k]=JSON.stringify(v))}catch(_){}};}();function gs_ac_nrm(q,t){q=(q||\\\"\\\").toLowerCase().split(gs_re_qsp).join(\\\" \\\");q[0]==\\\" \\\"&amp;&amp;(q=q.substr(1));var s=q.length-1;t&amp;&amp;q[s]==\\\" \\\"&amp;&amp;(q=q.substr(0,s));return q;}function gs_ac_get(Q){var h=gs_rlst(\\\"H:\\\"+Q),t={\\\"\\\":1},i=0,j=0,n,v,q;(h instanceof Array)||(h=[]);for(n=h.length;i&lt;n;i++){((v=h[i]) instanceof Array)&amp;&amp;v.length==3||(v=h[i]=[0,0,\\\"\\\"]);v[0]=+v[0]||0;v[1]=+v[1]||0;q=v[2]=gs_ac_nrm(\\\"\\\"+v[2],1);t[q]||(t[q]=1,h[j++]=v);}h.splice(Math.min(j,50),n);return h;}function gs_ac_fre(t){return Math.exp(.0231*((Math.max(t-1422777600,0)/86400)|0));}function gs_ac_add(Q,q,d){var h=gs_ac_get(Q),n=h.length,t=1e-3*(new Date()),m=0,x;if(q=gs_ac_nrm(q,1)){d=d||t;while(m&lt;n&amp;&amp;h[m][2]!=q)++m;m&lt;n||h.push([0,0,q]);if(d-h[m][0]&gt;1){h[m][0]=d;h[m][1]=Math.min(h[m][1]+gs_ac_fre(d),10*gs_ac_fre(t));while(m&amp;&amp;h[m][1]&gt;h[m-1][1]){x=h[m];h[m]=h[m-1];h[--m]=x;}h.splice(50,h.length);gs_wlst(\\\"H:\\\"+Q,h);}}}var gs_evt_el=function(W,D,L){function p(){var r=D.documentElement,w=W.innerWidth||r.offsetWidth,h=W.innerHeight||r.offsetHeight,m=\\\"\\\",n,i;if(w&amp;&amp;h){if(gs_is_ios){var S=W.screen||{},w2=S.width,h2=S.height,t;if(w&gt;h&amp;&amp;w2&lt;h2){t=w2;w2=h2;h2=t;}w2&amp;&amp;w2&lt;w&amp;&amp;(w=w2);h2&amp;&amp;h2&lt;h&amp;&amp;(h=h2);}if(w&lt;600)m=\\\"gs_el_sm gs_el_ph\\\";else if(w&lt;982)m=\\\"gs_el_sm gs_el_ta\\\";else if(w&lt;1060||h&lt;590)m=\\\"gs_el_sm\\\";else if(w&lt;1252||h&lt;640)m=\\\"gs_el_me\\\";gs_is_tc&amp;&amp;(m+=\\\" gs_el_tc\\\");gs_is_ios&amp;&amp;(m+=\\\" gs_el_ios\\\");if(gs_scls(r,m))for(n=L.length,i=0;i&lt;n;)L[i++]();}}p();gs_evt_wre(p);gs_evt(W,[\\\"pageshow\\\",\\\"load\\\"],p);return function(f){f();L.push(f)};}(window,document,[]);!function(B,U){gs_evt(document,(B&amp;&amp;\\\"1\\\"?[]:[\\\"mousedown\\\",\\\"touchstart\\\"]).concat([\\\"contextmenu\\\",\\\"click\\\"]),function(e){var t=gs_evt_tgt(e),a=\\\"data-clk\\\",w=window,r=document.documentElement,p=\\\"http://scholar.google.com\\\"||\\\"http://\\\"+location.host,n,h,c,u;while(t){n=t.nodeName;if(n===\\\"A\\\"&amp;&amp;(h=gs_ie_ver&lt;=8?t.getAttribute(\\\"href\\\",2):gs_atr(t,\\\"href\\\"))&amp;&amp;(c=gs_atr(t,a))){u=\\\"/scholar_url?url=\\\"+encodeURIComponent(h)+\\\"&amp;\\\"+c+\\\"&amp;ws=\\\"+(w.innerWidth||r.offsetWidth||0)+\\\"x\\\"+(w.innerHeight||r.offsetHeight||0);if(c.indexOf(\\\"&amp;scisig=\\\")&gt;0){gs_xatr(t,\\\"href\\\",p+u);gs_uatr(t,a);}else if(B){B.call(navigator,u);}else if(u!=U.src){(U=new Image()).src=u;setTimeout(function(){U={};},1000);}break;}t=(n===\\\"SPAN\\\"||n===\\\"B\\\"||n===\\\"I\\\"||n===\\\"EM\\\")&amp;&amp;t.parentNode;}});}(navigator.sendBeacon,{});function gs_is_cb(e){var n=e.className||\\\"\\\";return n.match(gs_re_cb)||n.match(gs_re_ra);}function gs_ssel(e){}(function(d){function c(){var v=l,i=v.length,k=p,e,x=gs_id(\\\"gs_top\\\");if(x&amp;&amp;!r){gs_evt(x,\\\"click\\\",function(){});r=1;if(!s){clearInterval(t);t=null}}p=i;while(i--&gt;k)gs_is_cb((e=v[i]).parentNode)&amp;&amp;gs_ssel(e);}var s=gs_ie_ver&lt;=8,l=[],p=0,t=setInterval(c,200),r;gs_evt_rdy(function(){c();l=[];clearInterval(t)});if(!s&amp;&amp;gs_is_tc){s=/AppleWebKit\\/([0-9]+)/.exec(navigator.userAgent||\\\"\\\");s=s&amp;&amp;parseInt(s[1])&lt;535;}if(!s)return;l=gs_ch(d,\\\"input\\\");gs_ssel=function(e){var p=e.parentNode,l,i,r;(e.checked?gs_xsel:gs_usel)(p);if(p.className.match(gs_re_ra)){l=e.form.elements[e.name]||[];for(i=l.length;i--;)((r=l[i]).checked?gs_xsel:gs_usel)(r.parentNode);}};gs_evt(d,\\\"click\\\",function(e){var x=gs_evt_tgt(e),p=x.parentNode;gs_is_cb(p)&amp;&amp;x.nodeName===\\\"INPUT\\\"&amp;&amp;gs_ssel(x);});})(document);function gs_cb_set(d,s,i){(s==1?gs_xsel:gs_usel)(d);(s==2?gs_xpar:gs_upar)(d);gs_xatr(d,\\\"aria-checked\\\",[\\\"false\\\",\\\"true\\\",\\\"mixed\\\"][s]);i||gs_xatr(d,\\\"data-s\\\",\\\"\\\"+s);}function gs_cb_get(e){return !!gs_tsel(e)+2*!!gs_tpar(e)}function gs_cb_ch(e){return +gs_atr(e,\\\"data-s\\\")!=gs_cb_get(e);}gs_evt_dlg(document,function(t){return (\\\" \\\"+t.className+\\\" \\\").indexOf(\\\" gs_cb_gen \\\")&gt;=0;},\\\"click\\\",function(t,e){var i=+gs_atr(t,\\\"data-s\\\");i!=2?gs_isel(t):gs_cb_set(t,[2,0,1][gs_cb_get(t)],true);gs_evt_crt(t,'gs-change');});&lt;/script&gt;&lt;script&gt;function gsc_scroll_right(x){x.scrollLeft=x.scrollWidth;}var gsc_art_sel_l=[];function gsc_evt_art_sel(f){gsc_art_sel_l.push(f)}var gsc_art_sel_p=[];function gsc_art_sel_chg(x){var l=gsc_art_sel_l,n=l.length,i=0;while(i&lt;n)l[i++](x);}function gsc_art_cbs(){return gs_ch(gs_id(\\\"gsc_a_t\\\"),\\\"input\\\")}function gsc_art_sel_cbs(l){l=l||gsc_art_cbs();var i=l.length,c,s=[];while(i--)(c=l[i]).checked&amp;&amp;s.push(c);return s;}function gsc_art_sids(l){l=l||gsc_art_cbs();var i=l.length,c,s=[];while(i--)(c=l[i]).checked&amp;&amp;s.push(c.value);return s;}function gsc_art_sel(v,l){l=l||gsc_art_cbs();var i=l.length,x;while(i--){(x=l[i]).checked=!!v;gs_ssel(x)}gsc_art_sel_chg(true);}gs_evt_rdy(function(){gsc_art_sel_chg();gs_evt_dlg(gs_id(\\\"gsc_a_t\\\"),\\\"input\\\",\\\"change\\\",function(){gsc_art_sel_chg();});var x=gs_id(\\\"gsc_x_all\\\");x&amp;&amp;gs_evt(x,\\\"gs-change\\\",function(){var s=gs_cb_get(x);gsc_art_sel(s!=0,s==2&amp;&amp;gsc_art_sel_p);});});function gsc_btn_sdis(b,d){b.disabled=!!d;(d?gs_xdis:gs_udis)(b);}function gsc_tr_add(b,h){try{b.innerHTML+=h}catch(_){var d=document.createElement(\\\"div\\\"),r,c,i,n;d.innerHTML=\\\"&lt;table&gt;\\\"+h+\\\"&lt;/table&gt;\\\";r=gs_ch(d,\\\"tr\\\");for(i=0,n=r.length,c=[];i&lt;n;i++)c.push(r[i]);for(i=0;i&lt;n;i++)b.appendChild(c[i]);}}function gsc_rsb_mco(x,w){var f=gs_id(\\\"gsc_rsb_mco\\\"),e=f.elements;e.colleague.value=x;e.add_colleague_btn.disabled=!!w;e.del_sugg_coll_btn.disabled=!w;f.submit();return false;}function gsc_prf_ed(w){gs_scls(gs_id(\\\"gsc_bdy\\\"),w?\\\"gsc_prf_ed\\\":\\\"\\\");}gsc_evt_art_sel(function(x){var v,n,k=gsc_art_cbs(),m=gs_id(\\\"gsc_btn_mer\\\"),o=gs_id(\\\"gsc_x_all\\\");if(m){p=gsc_art_sel_cbs(k);n=p.length;gsc_btn_sdis(m,n&lt;2||n&gt;5);if(!x&amp;&amp;o){gs_cb_set(o,v=n&amp;&amp;2-(n==k.length));v==2&amp;&amp;(gsc_art_sel_p=p);}gs_scls(gs_id(\\\"gsc_a_hd\\\"),n?\\\"gsc_art_sel\\\":\\\"\\\");}});function gsc_art_export(f){var l=gsc_art_cbs(),s=gsc_art_sids(l);gsc_md_show_exa(s,s.length==l.length,f,{});}gs_evt_rdy(function(){var m=gs_id(\\\"gsc_btn_mer\\\");m&amp;&amp;gs_evt(m,\\\"click\\\",function(e){gsc_md_show_mopt(gsc_art_sids(),e);});var p=gs_id(\\\"gsc_prf_puf\\\"),u;if(p){u=p.elements.upload_file;gs_evt(gs_id(\\\"gsc_prf_pufb\\\"),\\\"click\\\",function(e){if(gs_uas(\\\"MSIE \\\")||gs_uas(\\\"Trident\\\")){gs_scls(p,\\\"gsc_prf_pufo\\\");gs_md_opn(\\\"gsc_prf_pufi\\\",e,function(){gs_scls(p,\\\"\\\")});u.focus();}else{u.click();}});gs_evt(u,\\\"change\\\",function(){p.submit()});}});gs_evt_rdy(function(){var h=window.location.href,s=parseInt(h.replace(/.*[?&amp;]cstart=([0-9]*).*/,\\\"$1\\\"))||0,n=parseInt(h.replace(/.*[?&amp;]pagesize=([0-9]*).*/,\\\"$1\\\"))||20,P=gs_id(\\\"gsc_bpf_prev\\\"),N=gs_id(\\\"gsc_bpf_next\\\"),M=gs_id(\\\"gsc_bpf_more\\\");function t(){return Math.max(Math.min(n,100),20)}n=t();function p(k,m){return (h.replace(/([?&amp;])(cstart|pagesize)=[^&amp;]*/g,\\\"$1\\\")+\\\"&amp;cstart=\\\"+k+\\\"&amp;pagesize=\\\"+m).replace(/([?&amp;])&amp;+/,\\\"$1\\\");}gs_evt(P,\\\"click\\\",function(){location=p(s-t(),t())});gs_evt(N,\\\"click\\\",function(){location=p(s+n,t())});gs_evt(M,\\\"click\\\",function(){var m=n&lt;100?100-n:100,x=gs_id(\\\"gsc_a_sp\\\"),g=gs_id(\\\"gsc_a_err\\\");gs_vis(g,0);gs_vis(x,1);gs_ajax(p(s+n,m),\\\"json=1\\\",function(c,t){var r=c==200&amp;&amp;gs_json_parse(t),b=gs_id(\\\"gsc_a_b\\\");gs_vis(x,0);if(r){gsc_tr_add(b,r[\\\"B\\\"]);n+=m;(gs_id(\\\"gsc_a_nn\\\")||{}).innerHTML=(s+1)+\\\"&amp;ndash;\\\"+(s+gs_ch(b,\\\"tr\\\").length);gsc_btn_sdis(P,!r[\\\"P\\\"]||s&lt;=0);gsc_btn_sdis(N,!r[\\\"N\\\"]);gsc_btn_sdis(M,!r[\\\"N\\\"]||n&gt;=1000);gsc_art_sel_chg();}else{gs_vis(g,1);}});});});gs_evt_rdy(function(){var f=gs_id(\\\"gsc_rsb_f_m\\\"),i=gs_id(\\\"gsc_rsb_fin_m\\\"),b=gs_id(\\\"gsc_rsb_fbt_m\\\");gs_evt_blr(f,function(){setTimeout(function(){var a=document.activeElement;a!==i&amp;&amp;a!==b&amp;&amp;gs_scls(f,\\\"gsc_rsb_foff\\\");},0);});gs_evt(f,\\\"submit\\\",function(e){  if(f.className){gs_scls(f,\\\"\\\");setTimeout(function(){i.focus();},1000*gs_ctd(i));      gs_evt_pdf(e);  }else if(!i.value){      gs_scls(f,\\\"gsc_rsb_foff\\\");gs_evt_pdf(e);  }});});&lt;/script&gt;&lt;title&gt;Jeff Leek - Google Scholar Citations&lt;/title&gt;&lt;link rel=\\\"canonical\\\" href=\\\"http://scholar.google.com/citations?user=HI-I6C0AAAAJ&amp;amp;hl=en\\\"&gt;&lt;/head&gt;&lt;body&gt;&lt;div id=\\\"gs_top\\\"&gt;&lt;style&gt;#gs_gb{position:relative;height:30px;background:#2d2d2d;font-size:13px;line-height:16px;-webkit-backface-visibility:hidden;}#gs_gb_lt,#gs_gb_rt,#gs_gb_lp{position:absolute;top:0;white-space:nowrap;}#gs_gb_lt{left:22px}.gs_el_sm #gs_gb_lt{left:6px}.gs_el_ph #gs_gb_lt{display:none}#gs_gb_lp{display:none}#gs_gb_lp:hover,#gs_gb_lp:focus,#gs_gb_lp:active{-webkit-filter:brightness(100%);}.gs_el_ph #gs_gb_lp{display:block;z-index:1;cursor:pointer;top:8px;left:8px;width:48px;height:16px;background:no-repeat url('/intl/en/scholar/images/1x/googlelogo_bbb_color_48x16dp.png');background-size:48px 16px;}@media(-webkit-min-device-pixel-ratio:1.5),(min-resolution:144dpi){.gs_el_ph #gs_gb_lp{background-image:url('/intl/en/scholar/images/2x/googlelogo_bbb_color_48x16dp.png');}}#gs_gb_rt{right:22px}.gs_el_sm #gs_gb_rt{right:6px}.gs_el_ta #gs_gb_rt,.gs_el_ph #gs_gb_rt{right:0}#gs_gb_lt a:link,#gs_gb_lt a:visited,#gs_gb_rt a:link,#gs_gb_rt a:visited{display:inline-block;vertical-align:top;height:29px;line-height:27px;padding:2px 10px 0 10px;font-weight:bold;color:#bbb;cursor:pointer;text-decoration:none;}#gs_gb_rt a:link,#gs_gb_rt a:visited{padding:2px 8px 0 8px}#gs_gb_lt a:hover,#gs_gb_lt a:focus,#gs_gb_lt a:active,#gs_gb_rt a:hover,#gs_gb_rt a:focus,#gs_gb_rt a:active{color:white;outline:none;}#gs_gb_ac{top:30px;left:auto;right:6px;width:288px;white-space:normal;}#gs_gb_aw,#gs_gb_ap,.gs_gb_am,#gs_gb_ab{display:block;padding:10px 20px;word-wrap:break-word;}#gs_gb_aw{background:#fef9db;font-size:11px;}#gs_gb_ap,.gs_gb_am{border-bottom:1px solid #ccc;}#gs_gb_aa:link,#gs_gb_aa:visited{float:right;margin-left:8px;color:#1a0dab;}#gs_gb_aa:active{color:#d14836}.gs_gb_am:link,.gs_gb_am:visited{color:#222;text-decoration:none;background:#fbfbfb;}.gs_gb_am:hover,.gs_gb_am:focus{background:#f1f1f1}.gs_gb_am:active{background:#eee}#gs_gb_ab{background:#fbfbfb;overflow:auto;}#gs_gb_aab{float:left}#gs_gb_aso{float:right}&lt;/style&gt;&lt;div id=\\\"gs_gb\\\" role=\\\"navigation\\\"&gt;&lt;div id=\\\"gs_gb_lt\\\"&gt;&lt;a href=\\\"//www.google.com/webhp?hl=en&amp;amp;\\\"&gt;Web&lt;/a&gt;&lt;a href=\\\"//www.google.com/imghp?hl=en&amp;amp;\\\"&gt;Images&lt;/a&gt;&lt;a href=\\\"//www.google.com/intl/en/options/\\\"&gt;More&amp;hellip;&lt;/a&gt;&lt;/div&gt;&lt;a id=\\\"gs_gb_lp\\\" aria-label=\\\"Web\\\" href=\\\"//www.google.com/webhp?hl=en&amp;\\\"&gt;&lt;/a&gt;&lt;div id=\\\"gs_gb_rt\\\"&gt;&lt;a href=\\\"https://accounts.google.com/Login?hl=en&amp;amp;continue=http://scholar.google.com/citations%3Fuser%3DHI-I6C0AAAAJ%26hl%3Den\\\"&gt;Sign in&lt;/a&gt;&lt;/div&gt;&lt;/div&gt;&lt;!--[if lte IE 9]&gt;&lt;div class=\\\"gs_alrt\\\" style=\\\"padding:16px\\\"&gt;&lt;div&gt;Sorry, some features may not work in this version of Internet Explorer.&lt;/div&gt;&lt;div&gt;Please use &lt;a href=\\\"//www.google.com/chrome/\\\"&gt;Google Chrome&lt;/a&gt; or &lt;a href=\\\"//www.mozilla.com/firefox/\\\"&gt;Mozilla Firefox&lt;/a&gt; for the best experience.&lt;/div&gt;&lt;/div&gt;&lt;![endif]--&gt;&lt;style&gt;html,body{height:100%}#gs_top{min-height:100%}#gs_md_s,#gs_md_w{z-index:1200;position:absolute;top:0;left:0;width:100%;height:100%;}#gs_md_s{background:#666;filter:alpha(opacity=50);-ms-filter:\\\"alpha(opacity=50)\\\";opacity:.5;}.gs_md_d{position:relative;padding:28px 32px;margin:0 auto;width:400px;-moz-box-shadow:2px 2px 8px rgba(0,0,0,.65);-webkit-box-shadow:2px 2px 8px rgba(0,0,0,.65);box-shadow:2px 2px 8px rgba(0,0,0,.65);}.gs_el_ph .gs_md_d{padding:16px 20px;width:80%;max-width:400px;}.gs_md_d .gs_ico_X{position:absolute;top:8px;right:8px;background-color:#fff;}.gs_md_d h2{font-size:16px;font-weight:normal;line-height:24px;margin-bottom:16px;}.gs_el_ph .gs_md_d h2{margin-bottom:8px}.gs_md_lbl{margin:16px 0}.gs_md_btns{margin-top:16px}.gs_md_btns button{margin-right:16px}.gs_md_prg{margin:24px 0;}&lt;/style&gt;&lt;script&gt;function gs_md_opw(d,e,b){var r=document.documentElement,s=gs_id(\\\"gs_md_s\\\").style,w=gs_id(\\\"gs_md_w\\\").style,q=gs_id(d),g=q.style;g.visibility=\\\"hidden\\\";s.display=w.display=g.display=\\\"block\\\";g.top=Math.max(document.body.scrollTop||0,r.scrollTop||0)+Math.max((r.clientHeight-q.offsetHeight)/2,10)+\\\"px\\\";g.visibility=\\\"visible\\\";gs_md_opn(d,e,function(){s.display=\\\"none\\\"},function(){w.display=\\\"none\\\"});if(b){b=gs_id(b);b.type===\\\"text\\\"?gs_tfcs(b):b.focus();}return false;}function gs_md_ldw(d,e,b,c,u,p,f){c=gs_id(c);c.innerHTML=\\\"&lt;div class='gs_md_prg'&gt;Loading...&lt;/div&gt;\\\";gs_md_opw(d,e,b);gs_ajax(u,p,function(x,t){c.innerHTML=x===200?t:\\\"&lt;div class='gs_md_prg gs_alrt'&gt;The system can\\x27t perform the operation now. Try again later.&lt;/div&gt;\\\";f&amp;&amp;f(x,t);});}&lt;/script&gt;&lt;div id=\\\"gs_md_s\\\" style=\\\"display:none\\\"&gt;&lt;/div&gt;&lt;div id=\\\"gs_md_w\\\" style=\\\"display:none\\\"&gt;&lt;div id=\\\"gsc_md_exa\\\" style=\\\"display:none\\\" class=\\\"gs_md_d gs_md_wn gs_ttzi\\\" role=\\\"dialog\\\" aria-hidden=\\\"true\\\" aria-labelledby=\\\"gsc_md_exa-t\\\"&gt;&lt;a id=\\\"gsc_md_exa-x\\\" href=\\\"#\\\" role=\\\"button\\\" aria-label=\\\"Cancel\\\" class=\\\"gs_ico gs_ico_X gs_ico_Xt\\\" onclick=\\\"return gs_md_cls('gsc_md_exa',event)\\\"&gt;&lt;/a&gt;&lt;h2 id=\\\"gsc_md_exa-t\\\"&gt;Export articles&lt;/h2&gt;&lt;form id=\\\"gsc_md_exa_f\\\" action=\\\"/citations?view_op=export_citations&amp;amp;hl=en&amp;amp;oe=ASCII&amp;amp;user=HI-I6C0AAAAJ\\\" method=\\\"post\\\"&gt;&lt;input type=\\\"hidden\\\" name=\\\"cit_fmt\\\"&gt;&lt;p&gt;&lt;span class=\\\"gs_in_ra\\\" onclick=\\\"void(0)\\\"&gt;&lt;input type=\\\"radio\\\" name=\\\"s\\\" value=\\\"\\\" id=\\\"gsc_md_exa_r0\\\" checked&gt;&lt;label for=\\\"gsc_md_exa_r0\\\"&gt;Export selected articles&lt;/label&gt;&lt;span class=\\\"gs_chk\\\"&gt;&lt;/span&gt;&lt;span class=\\\"gs_cbx\\\"&gt;&lt;/span&gt;&lt;/span&gt;&lt;/p&gt;&lt;p&gt;&lt;span class=\\\"gs_in_ra\\\" onclick=\\\"void(0)\\\"&gt;&lt;input type=\\\"radio\\\" name=\\\"s\\\" value=\\\"\\\" id=\\\"gsc_md_exa_r1\\\"&gt;&lt;label for=\\\"gsc_md_exa_r1\\\"&gt;Export all my articles&lt;/label&gt;&lt;span class=\\\"gs_chk\\\"&gt;&lt;/span&gt;&lt;span class=\\\"gs_cbx\\\"&gt;&lt;/span&gt;&lt;/span&gt;&lt;/p&gt;&lt;div class=\\\"gs_md_btns\\\"&gt;&lt;button type=\\\"submit\\\" id=\\\"gsc_md_exa_export\\\" name=\\\"export_selected_btn\\\" class=\\\" gs_btn_act\\\"&gt;&lt;span class=\\\"gs_wr\\\"&gt;&lt;span class=\\\"gs_lbl\\\"&gt;Export&lt;/span&gt;&lt;/span&gt;&lt;/button&gt;&lt;button type=\\\"button\\\" id=\\\"gsc_md_exa_cancel\\\" class=\\\"\\\"&gt;&lt;span class=\\\"gs_wr\\\"&gt;&lt;span class=\\\"gs_lbl\\\"&gt;Cancel&lt;/span&gt;&lt;/span&gt;&lt;/button&gt;&lt;/div&gt;&lt;/form&gt;&lt;script&gt;function gsc_md_show_exa(s,a,f,e){var b=\\\"gsc_md_exa_export\\\",l=gs_id(\\\"gsc_md_exa_f\\\").elements,c=l.s[0];l.cit_fmt.value=\\\"\\\"+f;c.value=s.join(\\\",\\\");c.checked=true;gs_ssel(c);a&amp;&amp;1?gs_md_opw(\\\"gsc_md_exa\\\",e,b):gs_id(b).click();}gs_evt_clk(gs_id(\\\"gsc_md_exa_cancel\\\"),gs_bind(gs_md_cls,\\\"gsc_md_exa\\\"));&lt;/script&gt;&lt;/div&gt;&lt;script&gt;gs_md_ifc(\\\"gsc_md_exa\\\",\\\"gsc_md_exa-x\\\");&lt;/script&gt;&lt;div id=\\\"gsc_md_cbym\\\" style=\\\"display:none\\\" class=\\\"gs_md_d gs_md_wn gs_ttzi\\\" role=\\\"dialog\\\" aria-hidden=\\\"true\\\" aria-labelledby=\\\"gsc_md_cbym-t\\\"&gt;&lt;a id=\\\"gsc_md_cbym-x\\\" href=\\\"#\\\" role=\\\"button\\\" aria-label=\\\"Cancel\\\" class=\\\"gs_ico gs_ico_X gs_ico_Xt\\\" onclick=\\\"return gs_md_cls('gsc_md_cbym',event)\\\"&gt;&lt;/a&gt;&lt;h2 id=\\\"gsc_md_cbym-t\\\"&gt;Merged citations&lt;/h2&gt;&lt;p&gt;This \\\"Cited by\\\" count includes citations to the following articles in Scholar. The ones marked &lt;span id=\\\"gsc_md_cbym_s\\\"&gt;*&lt;/span&gt; may be different from the article in the profile.&lt;/p&gt;&lt;div id=\\\"gsc_md_cbym_l\\\"&gt;&lt;/div&gt;&lt;div class=\\\"gs_md_btns\\\"&gt;&lt;button type=\\\"button\\\" id=\\\"gsc_md_cbym_cancel\\\" class=\\\"\\\"&gt;&lt;span class=\\\"gs_wr\\\"&gt;&lt;span class=\\\"gs_lbl\\\"&gt;Done&lt;/span&gt;&lt;/span&gt;&lt;/button&gt;&lt;/div&gt;&lt;script&gt;function gsc_md_show_cbym(x,e){var a=gs_id(\\\"gsc_md_cbym_e\\\");a&amp;&amp;(a.href=a.href.replace(/(&amp;citation_for_view=)[^&amp;]*/,\\\"$1\\\"+x));gs_md_ldw(\\\"gsc_md_cbym\\\",e,\\\"gsc_md_cbym_cancel\\\",\\\"gsc_md_cbym_l\\\",\\\"/citations?hl\\x3den\\x26oe\\x3dASCII\\x26user\\x3dHI-I6C0AAAAJ\\x26view_op\\x3dlist_works\\\",\\\"merge_btn=1&amp;s=\\\"+x);}gs_evt_clk(gs_id(\\\"gsc_md_cbym_cancel\\\"),gs_bind(gs_md_cls,\\\"gsc_md_cbym\\\"));&lt;/script&gt;&lt;/div&gt;&lt;script&gt;gs_md_ifc(\\\"gsc_md_cbym\\\",\\\"gsc_md_cbym-x\\\");&lt;/script&gt;&lt;div id=\\\"gsc_md_cbyd\\\" style=\\\"display:none\\\" class=\\\"gs_md_d gs_md_wn gs_ttzi\\\" role=\\\"dialog\\\" aria-hidden=\\\"true\\\" aria-labelledby=\\\"gsc_md_cbyd-t\\\"&gt;&lt;a id=\\\"gsc_md_cbyd-x\\\" href=\\\"#\\\" role=\\\"button\\\" aria-label=\\\"Cancel\\\" class=\\\"gs_ico gs_ico_X gs_ico_Xt\\\" onclick=\\\"return gs_md_cls('gsc_md_cbyd',event)\\\"&gt;&lt;/a&gt;&lt;h2 id=\\\"gsc_md_cbyd-t\\\"&gt;Duplicate citations&lt;/h2&gt;&lt;p&gt;The following articles are merged in Scholar. Their &lt;a id=\\\"gsc_md_cbyd_c\\\" href=\\\"#\\\"&gt;combined citations&lt;/a&gt; are counted only for the first article.&lt;/p&gt;&lt;div id=\\\"gsc_md_cbyd_l\\\"&gt;&lt;/div&gt;&lt;div class=\\\"gs_md_btns\\\"&gt;&lt;button type=\\\"button\\\" id=\\\"gsc_md_cbyd_cancel\\\" class=\\\"\\\"&gt;&lt;span class=\\\"gs_wr\\\"&gt;&lt;span class=\\\"gs_lbl\\\"&gt;Done&lt;/span&gt;&lt;/span&gt;&lt;/button&gt;&lt;/div&gt;&lt;script&gt;function gsc_md_show_cbyd(a,x,u,e){var f=gs_id(\\\"gsc_md_cbyd_f\\\"),m=gs_id(\\\"gsc_md_cbyd_merge\\\"),s=u+\\\",\\\"+x;f&amp;&amp;(f.elements.s.value=s);gs_id(\\\"gsc_md_cbyd_c\\\").href=a;if(m){m.disabled=false;gs_udis(m);}gs_md_ldw(\\\"gsc_md_cbyd\\\",e,m?m.id:\\\"gsc_md_cbyd_cancel\\\",\\\"gsc_md_cbyd_l\\\",\\\"/citations?hl\\x3den\\x26oe\\x3dASCII\\x26user\\x3dHI-I6C0AAAAJ\\x26view_op\\x3dlist_works\\\",\\\"merge_btn=1&amp;s=\\\"+s,function(){if(f&amp;&amp;m){var c=f.elements.choose;m.disabled=!c;(c?gs_udis:gs_xdis)(m);c&amp;&amp;gs_ssel(c[0]);}});}gs_evt_clk(gs_id(\\\"gsc_md_cbyd_cancel\\\"),gs_bind(gs_md_cls,\\\"gsc_md_cbyd\\\"));&lt;/script&gt;&lt;/div&gt;&lt;script&gt;gs_md_ifc(\\\"gsc_md_cbyd\\\",\\\"gsc_md_cbyd-x\\\");&lt;/script&gt;&lt;div id=\\\"gsc_md_mopt\\\" style=\\\"display:none\\\" class=\\\"gs_md_d gs_md_wn gs_ttzi\\\" role=\\\"dialog\\\" aria-hidden=\\\"true\\\" aria-labelledby=\\\"gsc_md_mopt-t\\\"&gt;&lt;a id=\\\"gsc_md_mopt-x\\\" href=\\\"#\\\" role=\\\"button\\\" aria-label=\\\"Cancel\\\" class=\\\"gs_ico gs_ico_X gs_ico_Xt\\\" onclick=\\\"return gs_md_cls('gsc_md_mopt',event)\\\"&gt;&lt;/a&gt;&lt;h2 id=\\\"gsc_md_mopt-t\\\"&gt;Merge duplicates&lt;/h2&gt;&lt;/div&gt;&lt;script&gt;gs_md_ifc(\\\"gsc_md_mopt\\\",\\\"gsc_md_mopt-x\\\");&lt;/script&gt;&lt;div id=\\\"gsc_md_hist\\\" style=\\\"display:none\\\" class=\\\"gs_md_d gs_md_wn gs_ttzi\\\" role=\\\"dialog\\\" aria-hidden=\\\"true\\\" aria-labelledby=\\\"gsc_md_hist-t\\\"&gt;&lt;a id=\\\"gsc_md_hist-x\\\" href=\\\"#\\\" role=\\\"button\\\" aria-label=\\\"Cancel\\\" class=\\\"gs_ico gs_ico_X gs_ico_Xt\\\" onclick=\\\"return gs_md_cls('gsc_md_hist',event)\\\"&gt;&lt;/a&gt;&lt;h2 id=\\\"gsc_md_hist-t\\\"&gt;Citations per year&lt;/h2&gt;&lt;div id=\\\"gsc_md_hist_c\\\"&gt;&lt;/div&gt;&lt;/div&gt;&lt;script&gt;gs_md_ifc(\\\"gsc_md_hist\\\",\\\"gsc_md_hist-x\\\");&lt;/script&gt;&lt;/div&gt;&lt;style&gt;#gs_alrt_w{position:fixed;width:100%;z-index:1050;display:none;opacity:0;transition:opacity .3s ease-out;}#gs_alrt_w.gs_vis{opacity:1}#gs_alrt_p{position:absolute;top:-15px;right:0;width:100%;text-align:center;}#gs_alrt{display:inline-block;font-size:13px;line-height:16px;padding:0 16px 6px 16px;}#gs_alrt_m,#gs_alrt_u{display:inline-block;padding-top:7px;}#gs_alrt_l:link,#gs_alrt_l:visited{margin-left:16px;padding:7px 0 6px 0;color:#222;text-decoration:underline;}#gs_alrt_l:hover{color:#1a0dab}#gs_alrt_l:active{color:#d14836}&lt;/style&gt;&lt;div id=\\\"gs_alrt_w\\\"&gt;&lt;div id=\\\"gs_alrt_p\\\"&gt;&lt;form&gt;&lt;input type=\\\"hidden\\\" id=\\\"gs_alrt_ss\\\"&gt;&lt;/form&gt;&lt;form action=\\\"\\\" method=\\\"post\\\" id=\\\"gs_alrt\\\" class=\\\"gs_alrt\\\"&gt;&lt;span id=\\\"gs_alrt_m\\\"&gt;&lt;/span&gt;&lt;span id=\\\"gs_alrt_h\\\"&gt;&lt;/span&gt;&lt;span id=\\\"gs_alrt_u\\\" style=\\\"display:none\\\"&gt;&lt;a id=\\\"gs_alrt_l\\\" href=\\\"javascript:void(0)\\\" onclick=\\\"gs_id('gs_alrt').submit();return false\\\"&gt;&lt;/a&gt;&lt;/span&gt;&lt;/form&gt;&lt;/div&gt;&lt;/div&gt;&lt;script&gt;var gs_wa_t;function gs_wa_hf(e){gs_uevt(document,\\\"click\\\",gs_wa_hf);clearTimeout(gs_wa_t);gs_wa_t=undefined;var d=gs_id(\\\"gs_alrt_w\\\");if(e){setTimeout(function(){d.style.display=\\\"none\\\";gs_uvis(d);},0);}else{gs_vis(d,0);}}function gs_wa_sf(){gs_visi(\\\"gs_alrt_w\\\",1);gs_evt(document,\\\"click\\\",gs_wa_hf);clearTimeout(gs_wa_t);gs_wa_t=setTimeout(gs_wa_hf,60000);}function gs_wa_m(m,l,u,f) {var x,h,e;gs_id(\\\"gs_alrt_m\\\").innerHTML=m;if(l&amp;&amp;u&amp;&amp;f){x=gs_id(\\\"gs_alrt_l\\\");\\\"innerText\\\" in x?(x.innerText=l):(x.textContent=l);gs_id(\\\"gs_alrt\\\").action=u;h=gs_id(\\\"gs_alrt_h\\\");h.innerHTML=\\\"\\\";for(i in f){e=document.createElement(\\\"input\\\");e.name=i;e.type=\\\"hidden\\\";e.value=f[i];h.appendChild(e);}gs_visi(\\\"gs_alrt_u\\\",2);} else {gs_visi(\\\"gs_alrt_u\\\",0);}gs_wa_sf();}gs_evt_rdy(function(){gs_evt(window,\\\"pagehide\\\",gs_bind(gs_visi,\\\"gs_alrt_w\\\",0));});&lt;/script&gt;&lt;div id=\\\"gsc_bdy\\\"&gt;&lt;div id=\\\"gsc_rsb_m\\\" role=\\\"search\\\"&gt;&lt;div class=\\\"gsc_rsb_s_m\\\" id=\\\"gsc_rsb_lg_m\\\"&gt;&lt;a href=\\\"/schhp?hl=en&amp;amp;oe=ASCII\\\" id=\\\"gsc_rsb_icol_m\\\" aria-label=\\\"Scholar Home\\\"&gt;&lt;span class=\\\"gs_oph\\\"&gt;Scholar&lt;/span&gt;&lt;/a&gt;&lt;form action=\\\"/citations\\\" id=\\\"gsc_rsb_f_m\\\" class=\\\"gsc_rsb_foff\\\"&gt;&lt;input type=hidden name=hl value=\\\"en\\\"&gt;&lt;input type=hidden name=oe value=\\\"ASCII\\\"&gt;&lt;input type=\\\"hidden\\\" name=\\\"view_op\\\" value=\\\"search_authors\\\"&gt;&lt;input type=\\\"text\\\" class=\\\"gs_in_txt\\\" name=\\\"mauthors\\\" value=\\\"\\\" id=\\\"gsc_rsb_fin_m\\\" size=\\\"57\\\" maxlength=\\\"256\\\" autocapitalize=\\\"off\\\" aria-label=\\\"Search\\\"&gt;&lt;button type=\\\"submit\\\" id=\\\"gsc_rsb_fbt_m\\\" aria-label=\\\"Search Authors\\\" class=\\\"gs_btnSB gs_in_ib gs_btn_half\\\"&gt;&lt;span class=\\\"gs_wr\\\"&gt;&lt;span class=\\\"gs_lbl\\\"&gt;&lt;/span&gt;&lt;span class=\\\"gs_ico\\\"&gt;&lt;/span&gt;&lt;/span&gt;&lt;/button&gt;&lt;/form&gt;&lt;/div&gt;&lt;/div&gt;&lt;div class=\\\"gsc_lcl\\\" role=\\\"main\\\" id=\\\"gsc_prf_w\\\"&gt;&lt;div id=\\\"gsc_prf\\\" class=\\\"gs_scl\\\"&gt;&lt;div id=\\\"gsc_prf_pu\\\"&gt;&lt;style&gt;#gsc_prf_pup{width:113px;height:150px;}.gs_el_ta #gsc_prf_pup{width:75px;height:100px;}.gs_el_ph #gsc_prf_pup{width:56px;height:75px;}@media print{#gs_top #gsc_prf_pup{width:60pt;height:80pt;}}&lt;/style&gt;&lt;a href=\\\"/citations?user=HI-I6C0AAAAJ&amp;amp;hl=en&amp;amp;oe=ASCII\\\" id=\\\"gsc_prf_pua\\\"&gt;&lt;img src=\\\"/citations?view_op=view_photo&amp;amp;user=HI-I6C0AAAAJ&amp;amp;citpid=1\\\" sizes=\\\"print 60px,(max-width:599px) 56px,(max-width:981px) 75px,113px\\\" srcset=\\\"/citations?view_op=view_photo&amp;amp;user=HI-I6C0AAAAJ&amp;amp;citpid=1 113w,/citations?view_op=medium_photo&amp;amp;user=HI-I6C0AAAAJ&amp;amp;citpid=1 225w\\\" id=\\\"gsc_prf_pup\\\" alt=\\\"Jeff Leek\\\"&gt;&lt;/a&gt;&lt;/div&gt;&lt;div id=\\\"gsc_prf_i\\\"&gt;&lt;div id=\\\"gsc_prf_ib\\\"&gt;&lt;div id=\\\"gsc_prf_ibi\\\"&gt;&lt;div style=\\\"position:relative\\\" class=\\\"gs_ibl\\\"&gt;&lt;button type=\\\"button\\\" id=\\\"gsc_fol_btn\\\" aria-controls=\\\"gsc_fol_dd\\\" aria-haspopup=\\\"true\\\" class=\\\"gs_btnMW gs_in_ib gs_in_se gs_btn_mnu gs_btn_mn2 gs_btn_act gs_btn_hph\\\"&gt;&lt;span class=\\\"gs_wr\\\"&gt;&lt;span class=\\\"gs_lbl\\\"&gt;Follow&lt;/span&gt;&lt;span class=\\\"gs_ico\\\"&gt;&lt;/span&gt;&lt;span class=\\\"gs_icm\\\"&gt;&lt;/span&gt;&lt;/span&gt;&lt;/button&gt;&lt;div class=\\\"gs_md_se\\\" id=\\\"gsc_fol_dd\\\"&gt;&lt;form method=\\\"post\\\" id=\\\"gsc_fol_f\\\" action=\\\"/citations?hl=en&amp;amp;oe=ASCII&amp;amp;user=HI-I6C0AAAAJ&amp;amp;view_op=list_works\\\"&gt;&lt;input type=\\\"hidden\\\" name=\\\"xsrf\\\" value=\\\"AMstHGQAAAAAV38nLkWyFR8rdUO8A-3FjOfhfYZJwS43\\\"&gt;&lt;input type=\\\"hidden\\\" name=\\\"user\\\" value=\\\"HI-I6C0AAAAJ\\\"&gt;&lt;div id=\\\"gsc_fol_ml\\\"&gt;Email&lt;/div&gt;&lt;div class=\\\"gs_in_txtf\\\"&gt;&lt;input type=\\\"text\\\" class=\\\"gs_in_txt\\\" name=\\\"email_for_op\\\" value=\\\"\\\" id=\\\"gsc_fol_m\\\" maxlength=\\\"100\\\" autocapitalize=\\\"off\\\" autocorrect=\\\"off\\\"&gt;&lt;/div&gt;&lt;div id=\\\"gsc_fol_cb\\\"&gt;&lt;div class=\\\"gsc_fol_cr\\\"&gt;&lt;span class=\\\"gs_in_cb\\\" onclick=\\\"void(0)\\\"&gt;&lt;input type=\\\"checkbox\\\" name=\\\"follow_articles_btn\\\" id=\\\"gsc_fol_a\\\" value=\\\"1\\\" checked&gt;&lt;label for=\\\"gsc_fol_a\\\"&gt;Follow new articles&lt;/label&gt;&lt;span class=\\\"gs_chk\\\"&gt;&lt;/span&gt;&lt;span class=\\\"gs_cbx\\\"&gt;&lt;/span&gt;&lt;/span&gt;&lt;/div&gt;&lt;div class=\\\"gsc_fol_cr\\\"&gt;&lt;span class=\\\"gs_in_cb\\\" onclick=\\\"void(0)\\\"&gt;&lt;input type=\\\"checkbox\\\" name=\\\"follow_citations_btn\\\" id=\\\"gsc_fol_c\\\" value=\\\"1\\\"&gt;&lt;label for=\\\"gsc_fol_c\\\"&gt;Follow new citations&lt;/label&gt;&lt;span class=\\\"gs_chk\\\"&gt;&lt;/span&gt;&lt;span class=\\\"gs_cbx\\\"&gt;&lt;/span&gt;&lt;/span&gt;&lt;/div&gt;&lt;/div&gt;&lt;div&gt;&lt;button type=\\\"submit\\\" id=\\\"gsc_fol_b\\\" class=\\\" gs_btn_cre\\\"&gt;&lt;span class=\\\"gs_wr\\\"&gt;&lt;span class=\\\"gs_lbl\\\"&gt;Create alert&lt;/span&gt;&lt;/span&gt;&lt;/button&gt;&lt;button type=\\\"button\\\" id=\\\"gsc_fol_x\\\" class=\\\"\\\"&gt;&lt;span class=\\\"gs_wr\\\"&gt;&lt;span class=\\\"gs_lbl\\\"&gt;Cancel&lt;/span&gt;&lt;/span&gt;&lt;/button&gt;&lt;/div&gt;&lt;/form&gt;&lt;/div&gt;&lt;/div&gt;&lt;script&gt;gs_md_ifc(\\\"gsc_fol_dd\\\",\\\"gsc_fol_m\\\");!function(){var t=gs_id(\\\"gsc_fol_btn\\\"),d=\\\"gsc_fol_dd\\\",b=gs_id(\\\"gsc_fol_b\\\");var a=gs_id(\\\"gsc_fol_a\\\"),c=gs_id(\\\"gsc_fol_c\\\"),m=gs_id(\\\"gsc_fol_m\\\"),r=/\\S+@\\S+\\.\\S+/,s=function(x){return x.checked&amp;&amp;!x.disabled},f=function(){((b.disabled=!r.test(m.value)||!s(a)&amp;&amp;!s(c))?gs_xdis:gs_udis)(b);};f();gs_evt_rdy(f);gs_evt_all([a,c],\\\"click\\\",f);gs_evt_inp(m,f);gs_evt_clk(gs_id(\\\"gsc_fol_x\\\"),gs_bind(gs_md_cls,d));gs_evt_clk(t,function(e){if(gs_id(d).offsetWidth){gs_md_cls(d,e);}else{gs_xsel(t);gs_md_opn(d,e,gs_bind(gs_usel,t));b.disabled?gs_tfcs(m):b.focus();}},2,[13,32,38,40]);}();&lt;/script&gt;&lt;/div&gt;&lt;/div&gt;&lt;div id=\\\"gsc_prf_in\\\"&gt;Jeff Leek&lt;/div&gt;&lt;div class=\\\"gsc_prf_il\\\"&gt;Associate Professor of Biostatistics, Johns Hopkins Bloomberg School of Public Health&lt;/div&gt;&lt;div class=\\\"gsc_prf_il\\\"&gt;&lt;a href=\\\"/citations?view_op=search_authors&amp;amp;hl=en&amp;amp;oe=ASCII&amp;amp;mauthors=label:statistics\\\" class=\\\"gsc_prf_ila\\\"&gt;Statistics&lt;/a&gt;, &lt;a href=\\\"/citations?view_op=search_authors&amp;amp;hl=en&amp;amp;oe=ASCII&amp;amp;mauthors=label:computing\\\" class=\\\"gsc_prf_ila\\\"&gt;Computing&lt;/a&gt;, &lt;a href=\\\"/citations?view_op=search_authors&amp;amp;hl=en&amp;amp;oe=ASCII&amp;amp;mauthors=label:genomics\\\" class=\\\"gsc_prf_ila\\\"&gt;Genomics&lt;/a&gt;, &lt;a href=\\\"/citations?view_op=search_authors&amp;amp;hl=en&amp;amp;oe=ASCII&amp;amp;mauthors=label:personalized_medicine\\\" class=\\\"gsc_prf_ila\\\"&gt;Personalized Medicine&lt;/a&gt;, &lt;a href=\\\"/citations?view_op=search_authors&amp;amp;hl=en&amp;amp;oe=ASCII&amp;amp;mauthors=label:scientific_communication\\\" class=\\\"gsc_prf_ila\\\"&gt;Scientific Communication&lt;/a&gt;&lt;/div&gt;&lt;div class=\\\"gsc_prf_il\\\" id=\\\"gsc_prf_ivh\\\"&gt;Verified email at jhsph.edu - &lt;a href=\\\"http://jtleek.com/\\\" rel=\\\"nofollow\\\"&gt;Homepage&lt;/a&gt;&lt;/div&gt;&lt;/div&gt;&lt;/div&gt;&lt;/div&gt;&lt;div id=\\\"gsc_rsb\\\" role=\\\"navigation\\\"&gt;&lt;div class=\\\"gsc_rsb_s\\\" id=\\\"gsc_rsb_lg\\\"&gt;&lt;a href=\\\"/schhp?hl=en&amp;amp;oe=ASCII\\\" id=\\\"gsc_rsb_icol\\\" aria-label=\\\"Scholar Home\\\"&gt;&lt;span class=\\\"gs_oph\\\"&gt;Scholar&lt;/span&gt;&lt;/a&gt;&lt;form action=\\\"/citations\\\" id=\\\"gsc_rsb_f\\\" class=\\\"gsc_rsb_foff\\\"&gt;&lt;input type=hidden name=hl value=\\\"en\\\"&gt;&lt;input type=hidden name=oe value=\\\"ASCII\\\"&gt;&lt;input type=\\\"hidden\\\" name=\\\"view_op\\\" value=\\\"search_authors\\\"&gt;&lt;input type=\\\"text\\\" class=\\\"gs_in_txt\\\" name=\\\"mauthors\\\" value=\\\"\\\" id=\\\"gsc_rsb_fin\\\" size=\\\"57\\\" maxlength=\\\"256\\\" autocapitalize=\\\"off\\\" aria-label=\\\"Search\\\"&gt;&lt;button type=\\\"submit\\\" id=\\\"gsc_rsb_fbt\\\" aria-label=\\\"Search Authors\\\" class=\\\"gs_btnSB gs_in_ib gs_btn_half\\\"&gt;&lt;span class=\\\"gs_wr\\\"&gt;&lt;span class=\\\"gs_lbl\\\"&gt;&lt;/span&gt;&lt;span class=\\\"gs_ico\\\"&gt;&lt;/span&gt;&lt;/span&gt;&lt;/button&gt;&lt;/form&gt;&lt;div id=\\\"gsc_rsb_gpl\\\"&gt;&lt;button type=\\\"button\\\" onclick=\\\"window.location='/citations?hl\\x3den\\x26oe\\x3dASCII'\\\" class=\\\" gs_btn_act\\\"&gt;&lt;span class=\\\"gs_wr\\\"&gt;&lt;span class=\\\"gs_lbl\\\"&gt;Get my own profile&lt;/span&gt;&lt;/span&gt;&lt;/button&gt;&lt;/div&gt;&lt;/div&gt;&lt;div class=\\\"gsc_rsb_s\\\"&gt;&lt;div id=\\\"gsc_rsb_t\\\"&gt;Google Scholar&lt;/div&gt;&lt;table id=\\\"gsc_rsb_st\\\"&gt;&lt;tr&gt;&lt;th class=\\\"gsc_rsb_sc1\\\"&gt;&lt;a href=\\\"javascript:void(0)\\\" onclick=\\\"gs_md_hist_opn(event);\\\"&gt;Citation indices&lt;/a&gt;&lt;/th&gt;&lt;th class=\\\"gsc_rsb_sth\\\"&gt;All&lt;/th&gt;&lt;th class=\\\"gsc_rsb_sth\\\"&gt;Since 2011&lt;/th&gt;&lt;/tr&gt;&lt;tr&gt;&lt;td class=\\\"gsc_rsb_sc1\\\"&gt;&lt;a href=\\\"javascript:void(0)\\\" class=\\\"gsc_rsb_f\\\" title='This is the number of citations to all publications. The second column has the &amp;quot;recent&amp;quot; version of this metric which is the number of new citations in the last 5 years to all publications.'&gt;Citations&lt;/a&gt;&lt;/td&gt;&lt;td class=\\\"gsc_rsb_std\\\"&gt;3854&lt;/td&gt;&lt;td class=\\\"gsc_rsb_std\\\"&gt;3259&lt;/td&gt;&lt;/tr&gt;&lt;tr&gt;&lt;td class=\\\"gsc_rsb_sc1\\\"&gt;&lt;a href=\\\"javascript:void(0)\\\" class=\\\"gsc_rsb_f\\\" title='h-index is the largest number h such that h publications have at least h citations. The second column has the &amp;quot;recent&amp;quot; version of this metric which is the largest number h such that h publications have at least h new citations in the last 5 years.'&gt;h-index&lt;/a&gt;&lt;/td&gt;&lt;td class=\\\"gsc_rsb_std\\\"&gt;22&lt;/td&gt;&lt;td class=\\\"gsc_rsb_std\\\"&gt;22&lt;/td&gt;&lt;/tr&gt;&lt;tr&gt;&lt;td class=\\\"gsc_rsb_sc1\\\"&gt;&lt;a href=\\\"javascript:void(0)\\\" class=\\\"gsc_rsb_f\\\" title='i10-index is the number of publications with at least 10 citations. The second column has the &amp;quot;recent&amp;quot; version of this metric which is the number of publications that have received at least 10 new citations in the last 5 years.'&gt;i10-index&lt;/a&gt;&lt;/td&gt;&lt;td class=\\\"gsc_rsb_std\\\"&gt;32&lt;/td&gt;&lt;td class=\\\"gsc_rsb_std\\\"&gt;32&lt;/td&gt;&lt;/tr&gt;&lt;/table&gt;&lt;div id=\\\"gsc_g\\\"&gt;&lt;div id=\\\"gsc_g_x\\\"&gt;&lt;span class=\\\"gsc_g_t\\\" style=\\\"left:3px\\\"&gt;2008&lt;/span&gt;&lt;span class=\\\"gsc_g_t\\\" style=\\\"left:35px\\\"&gt;2009&lt;/span&gt;&lt;span class=\\\"gsc_g_t\\\" style=\\\"left:67px\\\"&gt;2010&lt;/span&gt;&lt;span class=\\\"gsc_g_t\\\" style=\\\"left:99px\\\"&gt;2011&lt;/span&gt;&lt;span class=\\\"gsc_g_t\\\" style=\\\"left:131px\\\"&gt;2012&lt;/span&gt;&lt;span class=\\\"gsc_g_t\\\" style=\\\"left:163px\\\"&gt;2013&lt;/span&gt;&lt;span class=\\\"gsc_g_t\\\" style=\\\"left:195px\\\"&gt;2014&lt;/span&gt;&lt;span class=\\\"gsc_g_t\\\" style=\\\"left:227px\\\"&gt;2015&lt;/span&gt;&lt;span class=\\\"gsc_g_t\\\" style=\\\"left:259px\\\"&gt;2016&lt;/span&gt;&lt;/div&gt;&lt;div id=\\\"gsc_g_bars\\\"&gt;&lt;a href=\\\"javascript:void(0)\\\" class=\\\"gsc_g_a\\\" style=\\\"left:8px;height:9px;z-index:9\\\"&gt;&lt;span class=\\\"gsc_g_al\\\"&gt;129&lt;/span&gt;&lt;/a&gt;&lt;a href=\\\"javascript:void(0)\\\" class=\\\"gsc_g_a\\\" style=\\\"left:40px;height:8px;z-index:8\\\"&gt;&lt;span class=\\\"gsc_g_al\\\"&gt;116&lt;/span&gt;&lt;/a&gt;&lt;a href=\\\"javascript:void(0)\\\" class=\\\"gsc_g_a\\\" style=\\\"left:72px;height:13px;z-index:7\\\"&gt;&lt;span class=\\\"gsc_g_al\\\"&gt;184&lt;/span&gt;&lt;/a&gt;&lt;a href=\\\"javascript:void(0)\\\" class=\\\"gsc_g_a\\\" style=\\\"left:104px;height:21px;z-index:6\\\"&gt;&lt;span class=\\\"gsc_g_al\\\"&gt;292&lt;/span&gt;&lt;/a&gt;&lt;a href=\\\"javascript:void(0)\\\" class=\\\"gsc_g_a\\\" style=\\\"left:136px;height:33px;z-index:5\\\"&gt;&lt;span class=\\\"gsc_g_al\\\"&gt;449&lt;/span&gt;&lt;/a&gt;&lt;a href=\\\"javascript:void(0)\\\" class=\\\"gsc_g_a\\\" style=\\\"left:168px;height:42px;z-index:4\\\"&gt;&lt;span class=\\\"gsc_g_al\\\"&gt;572&lt;/span&gt;&lt;/a&gt;&lt;a href=\\\"javascript:void(0)\\\" class=\\\"gsc_g_a\\\" style=\\\"left:200px;height:50px;z-index:3\\\"&gt;&lt;span class=\\\"gsc_g_al\\\"&gt;682&lt;/span&gt;&lt;/a&gt;&lt;a href=\\\"javascript:void(0)\\\" class=\\\"gsc_g_a\\\" style=\\\"left:232px;height:57px;z-index:2\\\"&gt;&lt;span class=\\\"gsc_g_al\\\"&gt;765&lt;/span&gt;&lt;/a&gt;&lt;a href=\\\"javascript:void(0)\\\" class=\\\"gsc_g_a\\\" style=\\\"left:264px;height:36px;z-index:1\\\"&gt;&lt;span class=\\\"gsc_g_al\\\"&gt;485&lt;/span&gt;&lt;/a&gt;&lt;/div&gt;&lt;/div&gt;&lt;script&gt;function gs_md_hist_opn(e){gs_md_ldw(\\\"gsc_md_hist\\\",e,0,\\\"gsc_md_hist_c\\\",\\\"/citations?hl\\x3den\\x26oe\\x3dASCII\\x26user\\x3dHI-I6C0AAAAJ\\x26view_op\\x3dcitations_histogram\\\",\\\"\\\",function(){var x=gs_id(\\\"gsc_md_hist_b\\\");x&amp;&amp;gsc_scroll_right(x);});}gs_evt_rdy(function(){gs_evt_clk(gs_id(\\\"gsc_g\\\"),gs_md_hist_opn);});&lt;/script&gt;&lt;/div&gt;&lt;/div&gt;&lt;div class=\\\"gsc_lcl\\\" role=\\\"complementary\\\" id=\\\"gsc_art\\\"&gt;&lt;form method=\\\"post\\\" action=\\\"/citations?hl=en&amp;amp;oe=ASCII&amp;amp;user=HI-I6C0AAAAJ&amp;amp;view_op=list_works\\\" id=\\\"citationsForm\\\"&gt;&lt;input type=\\\"hidden\\\" name=\\\"xsrf\\\" value=\\\"AMstHGQAAAAAV38nLkWyFR8rdUO8A-3FjOfhfYZJwS43\\\"&gt;&lt;table id=\\\"gsc_a_t\\\"&gt;&lt;thead id=\\\"gsc_a_hd\\\"&gt;&lt;tr id=\\\"gsc_a_tr0\\\" aria-hidden=\\\"true\\\"&gt;&lt;th class=\\\"gsc_a_t\\\" id=\\\"gsc_a_tr0_t\\\"&gt;&lt;/th&gt;&lt;th class=\\\"gsc_a_c\\\"&gt;&lt;/th&gt;&lt;th class=\\\"gsc_a_y\\\"&gt;&lt;/th&gt;&lt;/tr&gt;&lt;tr id=\\\"gsc_a_trh\\\"&gt;&lt;th class=\\\"gsc_a_t\\\" id=\\\"gsc_a_trh_t\\\" scope=\\\"col\\\"&gt;&lt;span id=\\\"gsc_a_ta\\\"&gt;&lt;a href=\\\"/citations?hl=en&amp;amp;oe=ASCII&amp;amp;user=HI-I6C0AAAAJ&amp;amp;view_op=list_works&amp;amp;sortby=title\\\" class=\\\"gsc_a_a\\\"&gt;Title&lt;/a&gt;&lt;/span&gt;&lt;span id=\\\"gsc_a_nn\\\"&gt;1&amp;ndash;20&lt;/span&gt;&lt;/th&gt;&lt;th class=\\\"gsc_a_c\\\" scope=\\\"col\\\"&gt;&lt;span id=\\\"gsc_a_ca\\\"&gt;Cited by&lt;/span&gt;&lt;/th&gt;&lt;th class=\\\"gsc_a_y\\\" scope=\\\"col\\\"&gt;&lt;span class=\\\"gsc_a_h\\\"&gt;&lt;a href=\\\"/citations?hl=en&amp;amp;oe=ASCII&amp;amp;user=HI-I6C0AAAAJ&amp;amp;view_op=list_works&amp;amp;sortby=pubdate\\\" class=\\\"gsc_a_a\\\"&gt;Year&lt;/a&gt;&lt;/span&gt;&lt;/th&gt;&lt;/tr&gt;&lt;/thead&gt;&lt;tbody id=\\\"gsc_a_b\\\"&gt;&lt;tr class=\\\"gsc_a_tr\\\"&gt;&lt;td class=\\\"gsc_a_t\\\"&gt;&lt;a href=\\\"/citations?view_op=view_citation&amp;amp;hl=en&amp;amp;oe=ASCII&amp;amp;user=HI-I6C0AAAAJ&amp;amp;citation_for_view=HI-I6C0AAAAJ:UeHWp8X0CEIC\\\" class=\\\"gsc_a_at\\\"&gt;Tackling the widespread and critical impact of batch effects in high-throughput data&lt;/a&gt;&lt;div class=\\\"gs_gray\\\"&gt;JT Leek, RB Scharpf, HC Bravo, D Simcha, B Langmead, WE Johnson, ...&lt;/div&gt;&lt;div class=\\\"gs_gray\\\"&gt;Nature Reviews Genetics 11 (10), 733-739&lt;span class=\\\"gs_oph\\\"&gt;, 2010&lt;/span&gt;&lt;/div&gt;&lt;/td&gt;&lt;td class=\\\"gsc_a_c\\\"&gt;&lt;a href=\\\"http://scholar.google.com/scholar?oi=bibs&amp;amp;hl=en&amp;amp;oe=ASCII&amp;amp;cites=16403016020126782741\\\" class=\\\"gsc_a_ac\\\"&gt;559&lt;/a&gt;&lt;/td&gt;&lt;td class=\\\"gsc_a_y\\\"&gt;&lt;span class=\\\"gsc_a_h\\\"&gt;2010&lt;/span&gt;&lt;/td&gt;&lt;/tr&gt;&lt;tr class=\\\"gsc_a_tr\\\"&gt;&lt;td class=\\\"gsc_a_t\\\"&gt;&lt;a href=\\\"/citations?view_op=view_citation&amp;amp;hl=en&amp;amp;oe=ASCII&amp;amp;user=HI-I6C0AAAAJ&amp;amp;citation_for_view=HI-I6C0AAAAJ:d1gkVwhDpl0C\\\" class=\\\"gsc_a_at\\\"&gt;Capturing heterogeneity in gene expression studies by surrogate variable analysis&lt;/a&gt;&lt;div class=\\\"gs_gray\\\"&gt;JT Leek, JD Storey&lt;/div&gt;&lt;div class=\\\"gs_gray\\\"&gt;PLoS Genet 3 (9), e161&lt;span class=\\\"gs_oph\\\"&gt;, 2007&lt;/span&gt;&lt;/div&gt;&lt;/td&gt;&lt;td class=\\\"gsc_a_c\\\"&gt;&lt;a href=\\\"http://scholar.google.com/scholar?oi=bibs&amp;amp;hl=en&amp;amp;oe=ASCII&amp;amp;cites=14943880347723800617\\\" class=\\\"gsc_a_ac\\\"&gt;530&lt;/a&gt;&lt;/td&gt;&lt;td class=\\\"gsc_a_y\\\"&gt;&lt;span class=\\\"gsc_a_h\\\"&gt;2007&lt;/span&gt;&lt;/td&gt;&lt;/tr&gt;&lt;tr class=\\\"gsc_a_tr\\\"&gt;&lt;td class=\\\"gsc_a_t\\\"&gt;&lt;a href=\\\"/citations?view_op=view_citation&amp;amp;hl=en&amp;amp;oe=ASCII&amp;amp;user=HI-I6C0AAAAJ&amp;amp;citation_for_view=HI-I6C0AAAAJ:u5HHmVD_uO8C\\\" class=\\\"gsc_a_at\\\"&gt;Significance analysis of time course microarray experiments&lt;/a&gt;&lt;div class=\\\"gs_gray\\\"&gt;JD Storey, W Xiao, JT Leek, RG Tompkins, RW Davis&lt;/div&gt;&lt;div class=\\\"gs_gray\\\"&gt;Proceedings of the National Academy of Sciences of the United States of ...&lt;span class=\\\"gs_oph\\\"&gt;, 2005&lt;/span&gt;&lt;/div&gt;&lt;/td&gt;&lt;td class=\\\"gsc_a_c\\\"&gt;&lt;a href=\\\"http://scholar.google.com/scholar?oi=bibs&amp;amp;hl=en&amp;amp;oe=ASCII&amp;amp;cites=8692182196465189153\\\" class=\\\"gsc_a_ac\\\"&gt;490&lt;/a&gt;&lt;/td&gt;&lt;td class=\\\"gsc_a_y\\\"&gt;&lt;span class=\\\"gsc_a_h\\\"&gt;2005&lt;/span&gt;&lt;/td&gt;&lt;/tr&gt;&lt;tr class=\\\"gsc_a_tr\\\"&gt;&lt;td class=\\\"gsc_a_t\\\"&gt;&lt;a href=\\\"/citations?view_op=view_citation&amp;amp;hl=en&amp;amp;oe=ASCII&amp;amp;user=HI-I6C0AAAAJ&amp;amp;citation_for_view=HI-I6C0AAAAJ:Se3iqnhoufwC\\\" class=\\\"gsc_a_at\\\"&gt;Temporal dynamics and genetic control of transcription in the human prefrontal cortex&lt;/a&gt;&lt;div class=\\\"gs_gray\\\"&gt;C Colantuoni, BK Lipska, T Ye, TM Hyde, R Tao, JT Leek, EA Colantuoni, ...&lt;/div&gt;&lt;div class=\\\"gs_gray\\\"&gt;Nature 478 (7370), 519-523&lt;span class=\\\"gs_oph\\\"&gt;, 2011&lt;/span&gt;&lt;/div&gt;&lt;/td&gt;&lt;td class=\\\"gsc_a_c\\\"&gt;&lt;a href=\\\"http://scholar.google.com/scholar?oi=bibs&amp;amp;hl=en&amp;amp;oe=ASCII&amp;amp;cites=15401379057477374674\\\" class=\\\"gsc_a_ac\\\"&gt;290&lt;/a&gt;&lt;/td&gt;&lt;td class=\\\"gsc_a_y\\\"&gt;&lt;span class=\\\"gsc_a_h\\\"&gt;2011&lt;/span&gt;&lt;/td&gt;&lt;/tr&gt;&lt;tr class=\\\"gsc_a_tr\\\"&gt;&lt;td class=\\\"gsc_a_t\\\"&gt;&lt;a href=\\\"/citations?view_op=view_citation&amp;amp;hl=en&amp;amp;oe=ASCII&amp;amp;user=HI-I6C0AAAAJ&amp;amp;citation_for_view=HI-I6C0AAAAJ:IjCSPb-OGe4C\\\" class=\\\"gsc_a_at\\\"&gt;Cloud-scale RNA-sequencing differential expression analysis with Myrna&lt;/a&gt;&lt;div class=\\\"gs_gray\\\"&gt;B Langmead, KD Hansen, JT Leek&lt;/div&gt;&lt;div class=\\\"gs_gray\\\"&gt;Genome biology 11 (8), 1&lt;span class=\\\"gs_oph\\\"&gt;, 2010&lt;/span&gt;&lt;/div&gt;&lt;/td&gt;&lt;td class=\\\"gsc_a_c\\\"&gt;&lt;a href=\\\"http://scholar.google.com/scholar?oi=bibs&amp;amp;hl=en&amp;amp;oe=ASCII&amp;amp;cites=9392678635432440961\\\" class=\\\"gsc_a_ac\\\"&gt;242&lt;/a&gt;&lt;/td&gt;&lt;td class=\\\"gsc_a_y\\\"&gt;&lt;span class=\\\"gsc_a_h\\\"&gt;2010&lt;/span&gt;&lt;/td&gt;&lt;/tr&gt;&lt;tr class=\\\"gsc_a_tr\\\"&gt;&lt;td class=\\\"gsc_a_t\\\"&gt;&lt;a href=\\\"/citations?view_op=view_citation&amp;amp;hl=en&amp;amp;oe=ASCII&amp;amp;user=HI-I6C0AAAAJ&amp;amp;citation_for_view=HI-I6C0AAAAJ:u-x6o8ySG0sC\\\" class=\\\"gsc_a_at\\\"&gt;EDGE: extraction and analysis of differential gene expression&lt;/a&gt;&lt;div class=\\\"gs_gray\\\"&gt;JT Leek, E Monsen, AR Dabney, JD Storey&lt;/div&gt;&lt;div class=\\\"gs_gray\\\"&gt;Bioinformatics 22 (4), 507-508&lt;span class=\\\"gs_oph\\\"&gt;, 2006&lt;/span&gt;&lt;/div&gt;&lt;/td&gt;&lt;td class=\\\"gsc_a_c\\\"&gt;&lt;a href=\\\"http://scholar.google.com/scholar?oi=bibs&amp;amp;hl=en&amp;amp;oe=ASCII&amp;amp;cites=8862746171832697560\\\" class=\\\"gsc_a_ac\\\"&gt;210&lt;/a&gt;&lt;/td&gt;&lt;td class=\\\"gsc_a_y\\\"&gt;&lt;span class=\\\"gsc_a_h\\\"&gt;2006&lt;/span&gt;&lt;/td&gt;&lt;/tr&gt;&lt;tr class=\\\"gsc_a_tr\\\"&gt;&lt;td class=\\\"gsc_a_t\\\"&gt;&lt;a href=\\\"/citations?view_op=view_citation&amp;amp;hl=en&amp;amp;oe=ASCII&amp;amp;user=HI-I6C0AAAAJ&amp;amp;citation_for_view=HI-I6C0AAAAJ:8k81kl-MbHgC\\\" class=\\\"gsc_a_at\\\"&gt;The sva package for removing batch effects and other unwanted variation in high-throughput experiments&lt;/a&gt;&lt;div class=\\\"gs_gray\\\"&gt;JT Leek, WE Johnson, HS Parker, AE Jaffe, JD Storey&lt;/div&gt;&lt;div class=\\\"gs_gray\\\"&gt;Bioinformatics 28 (6), 882-883&lt;span class=\\\"gs_oph\\\"&gt;, 2012&lt;/span&gt;&lt;/div&gt;&lt;/td&gt;&lt;td class=\\\"gsc_a_c\\\"&gt;&lt;a href=\\\"http://scholar.google.com/scholar?oi=bibs&amp;amp;hl=en&amp;amp;oe=ASCII&amp;amp;cites=8144311546232376767\\\" class=\\\"gsc_a_ac\\\"&gt;191&lt;/a&gt;&lt;/td&gt;&lt;td class=\\\"gsc_a_y\\\"&gt;&lt;span class=\\\"gsc_a_h\\\"&gt;2012&lt;/span&gt;&lt;/td&gt;&lt;/tr&gt;&lt;tr class=\\\"gsc_a_tr\\\"&gt;&lt;td class=\\\"gsc_a_t\\\"&gt;&lt;a href=\\\"/citations?view_op=view_citation&amp;amp;hl=en&amp;amp;oe=ASCII&amp;amp;user=HI-I6C0AAAAJ&amp;amp;citation_for_view=HI-I6C0AAAAJ:qjMakFHDy7sC\\\" class=\\\"gsc_a_at\\\"&gt;Systems-level dynamic analyses of fate change in murine embryonic stem cells&lt;/a&gt;&lt;div class=\\\"gs_gray\\\"&gt;R Lu, F Markowetz, RD Unwin, JT Leek, EM Airoldi, BD MacArthur, ...&lt;/div&gt;&lt;div class=\\\"gs_gray\\\"&gt;Nature 462 (7271), 358-362&lt;span class=\\\"gs_oph\\\"&gt;, 2009&lt;/span&gt;&lt;/div&gt;&lt;/td&gt;&lt;td class=\\\"gsc_a_c\\\"&gt;&lt;a href=\\\"http://scholar.google.com/scholar?oi=bibs&amp;amp;hl=en&amp;amp;oe=ASCII&amp;amp;cites=4114573275173642545\\\" class=\\\"gsc_a_ac\\\"&gt;184&lt;/a&gt;&lt;/td&gt;&lt;td class=\\\"gsc_a_y\\\"&gt;&lt;span class=\\\"gsc_a_h\\\"&gt;2009&lt;/span&gt;&lt;/td&gt;&lt;/tr&gt;&lt;tr class=\\\"gsc_a_tr\\\"&gt;&lt;td class=\\\"gsc_a_t\\\"&gt;&lt;a href=\\\"/citations?view_op=view_citation&amp;amp;hl=en&amp;amp;oe=ASCII&amp;amp;user=HI-I6C0AAAAJ&amp;amp;citation_for_view=HI-I6C0AAAAJ:2osOgNQ5qMEC\\\" class=\\\"gsc_a_at\\\"&gt;A general framework for multiple testing dependence&lt;/a&gt;&lt;div class=\\\"gs_gray\\\"&gt;JT Leek, JD Storey&lt;/div&gt;&lt;div class=\\\"gs_gray\\\"&gt;Proceedings of the National Academy of Sciences 105 (48), 18718-18723&lt;span class=\\\"gs_oph\\\"&gt;, 2008&lt;/span&gt;&lt;/div&gt;&lt;/td&gt;&lt;td class=\\\"gsc_a_c\\\"&gt;&lt;a href=\\\"http://scholar.google.com/scholar?oi=bibs&amp;amp;hl=en&amp;amp;oe=ASCII&amp;amp;cites=6862569568109470250\\\" class=\\\"gsc_a_ac\\\"&gt;170&lt;/a&gt;&lt;/td&gt;&lt;td class=\\\"gsc_a_y\\\"&gt;&lt;span class=\\\"gsc_a_h\\\"&gt;2008&lt;/span&gt;&lt;/td&gt;&lt;/tr&gt;&lt;tr class=\\\"gsc_a_tr\\\"&gt;&lt;td class=\\\"gsc_a_t\\\"&gt;&lt;a href=\\\"/citations?view_op=view_citation&amp;amp;hl=en&amp;amp;oe=ASCII&amp;amp;user=HI-I6C0AAAAJ&amp;amp;citation_for_view=HI-I6C0AAAAJ:5nxA0vEk-isC\\\" class=\\\"gsc_a_at\\\"&gt;Bump hunting to identify differentially methylated regions in epigenetic epidemiology studies&lt;/a&gt;&lt;div class=\\\"gs_gray\\\"&gt;AE Jaffe, P Murakami, H Lee, JT Leek, MD Fallin, AP Feinberg, RA Irizarry&lt;/div&gt;&lt;div class=\\\"gs_gray\\\"&gt;International journal of epidemiology 41 (1), 200-209&lt;span class=\\\"gs_oph\\\"&gt;, 2012&lt;/span&gt;&lt;/div&gt;&lt;/td&gt;&lt;td class=\\\"gsc_a_c\\\"&gt;&lt;a href=\\\"http://scholar.google.com/scholar?oi=bibs&amp;amp;hl=en&amp;amp;oe=ASCII&amp;amp;cites=13917393765835926103\\\" class=\\\"gsc_a_ac\\\"&gt;160&lt;/a&gt;&lt;/td&gt;&lt;td class=\\\"gsc_a_y\\\"&gt;&lt;span class=\\\"gsc_a_h\\\"&gt;2012&lt;/span&gt;&lt;/td&gt;&lt;/tr&gt;&lt;tr class=\\\"gsc_a_tr\\\"&gt;&lt;td class=\\\"gsc_a_t\\\"&gt;&lt;a href=\\\"/citations?view_op=view_citation&amp;amp;hl=en&amp;amp;oe=ASCII&amp;amp;user=HI-I6C0AAAAJ&amp;amp;citation_for_view=HI-I6C0AAAAJ:9yKSN-GCB0IC\\\" class=\\\"gsc_a_at\\\"&gt;The optimal discovery procedure for large-scale significance testing, with applications to comparative microarray experiments&lt;/a&gt;&lt;div class=\\\"gs_gray\\\"&gt;JD Storey, JY Dai, JT Leek&lt;/div&gt;&lt;div class=\\\"gs_gray\\\"&gt;Biostatistics 8 (2), 414-432&lt;span class=\\\"gs_oph\\\"&gt;, 2007&lt;/span&gt;&lt;/div&gt;&lt;/td&gt;&lt;td class=\\\"gsc_a_c\\\"&gt;&lt;a href=\\\"http://scholar.google.com/scholar?oi=bibs&amp;amp;hl=en&amp;amp;oe=ASCII&amp;amp;cites=6987233910267027632\\\" class=\\\"gsc_a_ac\\\"&gt;148&lt;/a&gt;&lt;/td&gt;&lt;td class=\\\"gsc_a_y\\\"&gt;&lt;span class=\\\"gsc_a_h\\\"&gt;2007&lt;/span&gt;&lt;/td&gt;&lt;/tr&gt;&lt;tr class=\\\"gsc_a_tr\\\"&gt;&lt;td class=\\\"gsc_a_t\\\"&gt;&lt;a href=\\\"/citations?view_op=view_citation&amp;amp;hl=en&amp;amp;oe=ASCII&amp;amp;user=HI-I6C0AAAAJ&amp;amp;citation_for_view=HI-I6C0AAAAJ:0EnyYjriUFMC\\\" class=\\\"gsc_a_at\\\"&gt;ReCount: a multi-experiment resource of analysis-ready RNA-seq gene count datasets&lt;/a&gt;&lt;div class=\\\"gs_gray\\\"&gt;AC Frazee, B Langmead, JT Leek&lt;/div&gt;&lt;div class=\\\"gs_gray\\\"&gt;BMC bioinformatics 12 (1), 449&lt;span class=\\\"gs_oph\\\"&gt;, 2011&lt;/span&gt;&lt;/div&gt;&lt;/td&gt;&lt;td class=\\\"gsc_a_c\\\"&gt;&lt;a href=\\\"http://scholar.google.com/scholar?oi=bibs&amp;amp;hl=en&amp;amp;oe=ASCII&amp;amp;cites=5499264026160610251\\\" class=\\\"gsc_a_ac\\\"&gt;86&lt;/a&gt;&lt;/td&gt;&lt;td class=\\\"gsc_a_y\\\"&gt;&lt;span class=\\\"gsc_a_h\\\"&gt;2011&lt;/span&gt;&lt;/td&gt;&lt;/tr&gt;&lt;tr class=\\\"gsc_a_tr\\\"&gt;&lt;td class=\\\"gsc_a_t\\\"&gt;&lt;a href=\\\"/citations?view_op=view_citation&amp;amp;hl=en&amp;amp;oe=ASCII&amp;amp;user=HI-I6C0AAAAJ&amp;amp;citation_for_view=HI-I6C0AAAAJ:LkGwnXOMwfcC\\\" class=\\\"gsc_a_at\\\"&gt;Sequencing technology does not eliminate biological variability&lt;/a&gt;&lt;div class=\\\"gs_gray\\\"&gt;KD Hansen, Z Wu, RA Irizarry, JT Leek&lt;/div&gt;&lt;div class=\\\"gs_gray\\\"&gt;Nature biotechnology 29 (7), 572-573&lt;span class=\\\"gs_oph\\\"&gt;, 2011&lt;/span&gt;&lt;/div&gt;&lt;/td&gt;&lt;td class=\\\"gsc_a_c\\\"&gt;&lt;a href=\\\"http://scholar.google.com/scholar?oi=bibs&amp;amp;hl=en&amp;amp;oe=ASCII&amp;amp;cites=13984583295080419572\\\" class=\\\"gsc_a_ac\\\"&gt;78&lt;/a&gt;&lt;/td&gt;&lt;td class=\\\"gsc_a_y\\\"&gt;&lt;span class=\\\"gsc_a_h\\\"&gt;2011&lt;/span&gt;&lt;/td&gt;&lt;/tr&gt;&lt;tr class=\\\"gsc_a_tr\\\"&gt;&lt;td class=\\\"gsc_a_t\\\"&gt;&lt;a href=\\\"/citations?view_op=view_citation&amp;amp;hl=en&amp;amp;oe=ASCII&amp;amp;user=HI-I6C0AAAAJ&amp;amp;citation_for_view=HI-I6C0AAAAJ:hqOjcs7Dif8C\\\" class=\\\"gsc_a_at\\\"&gt;Significance analysis and statistical dissection of variably methylated regions&lt;/a&gt;&lt;div class=\\\"gs_gray\\\"&gt;AE Jaffe, AP Feinberg, RA Irizarry, JT Leek&lt;/div&gt;&lt;div class=\\\"gs_gray\\\"&gt;Biostatistics 13 (1), 166-178&lt;span class=\\\"gs_oph\\\"&gt;, 2012&lt;/span&gt;&lt;/div&gt;&lt;/td&gt;&lt;td class=\\\"gsc_a_c\\\"&gt;&lt;a href=\\\"http://scholar.google.com/scholar?oi=bibs&amp;amp;hl=en&amp;amp;oe=ASCII&amp;amp;cites=8713725236803269731\\\" class=\\\"gsc_a_ac\\\"&gt;51&lt;/a&gt;&lt;/td&gt;&lt;td class=\\\"gsc_a_y\\\"&gt;&lt;span class=\\\"gsc_a_h\\\"&gt;2012&lt;/span&gt;&lt;/td&gt;&lt;/tr&gt;&lt;tr class=\\\"gsc_a_tr\\\"&gt;&lt;td class=\\\"gsc_a_t\\\"&gt;&lt;a href=\\\"/citations?view_op=view_citation&amp;amp;hl=en&amp;amp;oe=ASCII&amp;amp;user=HI-I6C0AAAAJ&amp;amp;citation_for_view=HI-I6C0AAAAJ:-f6ydRqryjwC\\\" class=\\\"gsc_a_at\\\"&gt;An estimate of the science-wise false discovery rate and application to the top medical literature&lt;/a&gt;&lt;div class=\\\"gs_gray\\\"&gt;LR Jager, JT Leek&lt;/div&gt;&lt;div class=\\\"gs_gray\\\"&gt;Biostatistics 15 (1), 1-12&lt;span class=\\\"gs_oph\\\"&gt;, 2014&lt;/span&gt;&lt;/div&gt;&lt;/td&gt;&lt;td class=\\\"gsc_a_c\\\"&gt;&lt;a href=\\\"http://scholar.google.com/scholar?oi=bibs&amp;amp;hl=en&amp;amp;oe=ASCII&amp;amp;cites=8145998925353022831,15367445605081037117\\\" class=\\\"gsc_a_ac\\\"&gt;45&lt;/a&gt;&lt;span class=\\\"gsc_a_m\\\"&gt;&lt;a href=\\\"#\\\" class=\\\"gsc_a_am\\\" onclick=\\\"gsc_md_show_cbym('HI-I6C0AAAAJ:-f6ydRqryjwC',event);return false\\\"&gt;*&lt;/a&gt;&lt;/span&gt;&lt;/td&gt;&lt;td class=\\\"gsc_a_y\\\"&gt;&lt;span class=\\\"gsc_a_h\\\"&gt;2014&lt;/span&gt;&lt;/td&gt;&lt;/tr&gt;&lt;tr class=\\\"gsc_a_tr\\\"&gt;&lt;td class=\\\"gsc_a_t\\\"&gt;&lt;a href=\\\"/citations?view_op=view_citation&amp;amp;hl=en&amp;amp;oe=ASCII&amp;amp;user=HI-I6C0AAAAJ&amp;amp;citation_for_view=HI-I6C0AAAAJ:ldfaerwXgEUC\\\" class=\\\"gsc_a_at\\\"&gt;Statistics: P values are just the tip of the iceberg&lt;/a&gt;&lt;div class=\\\"gs_gray\\\"&gt;JT Leek, RD Peng&lt;/div&gt;&lt;div class=\\\"gs_gray\\\"&gt;Nature 520 (7549), 612&lt;span class=\\\"gs_oph\\\"&gt;, 2015&lt;/span&gt;&lt;/div&gt;&lt;/td&gt;&lt;td class=\\\"gsc_a_c\\\"&gt;&lt;a href=\\\"http://scholar.google.com/scholar?oi=bibs&amp;amp;hl=en&amp;amp;oe=ASCII&amp;amp;cites=7990176079596762579\\\" class=\\\"gsc_a_ac\\\"&gt;40&lt;/a&gt;&lt;/td&gt;&lt;td class=\\\"gsc_a_y\\\"&gt;&lt;span class=\\\"gsc_a_h\\\"&gt;2015&lt;/span&gt;&lt;/td&gt;&lt;/tr&gt;&lt;tr class=\\\"gsc_a_tr\\\"&gt;&lt;td class=\\\"gsc_a_t\\\"&gt;&lt;a href=\\\"/citations?view_op=view_citation&amp;amp;hl=en&amp;amp;oe=ASCII&amp;amp;user=HI-I6C0AAAAJ&amp;amp;citation_for_view=HI-I6C0AAAAJ:TQgYirikUcIC\\\" class=\\\"gsc_a_at\\\"&gt;Differential expression analysis of RNA-seq data at single-base resolution&lt;/a&gt;&lt;div class=\\\"gs_gray\\\"&gt;AC Frazee, S Sabunciyan, KD Hansen, RA Irizarry, JT Leek&lt;/div&gt;&lt;div class=\\\"gs_gray\\\"&gt;Biostatistics, kxt053&lt;span class=\\\"gs_oph\\\"&gt;, 2014&lt;/span&gt;&lt;/div&gt;&lt;/td&gt;&lt;td class=\\\"gsc_a_c\\\"&gt;&lt;a href=\\\"http://scholar.google.com/scholar?oi=bibs&amp;amp;hl=en&amp;amp;oe=ASCII&amp;amp;cites=1603345619966351948\\\" class=\\\"gsc_a_ac\\\"&gt;32&lt;/a&gt;&lt;/td&gt;&lt;td class=\\\"gsc_a_y\\\"&gt;&lt;span class=\\\"gsc_a_h\\\"&gt;2014&lt;/span&gt;&lt;/td&gt;&lt;/tr&gt;&lt;tr class=\\\"gsc_a_tr\\\"&gt;&lt;td class=\\\"gsc_a_t\\\"&gt;&lt;a href=\\\"/citations?view_op=view_citation&amp;amp;hl=en&amp;amp;oe=ASCII&amp;amp;user=HI-I6C0AAAAJ&amp;amp;citation_for_view=HI-I6C0AAAAJ:_kc_bZDykSQC\\\" class=\\\"gsc_a_at\\\"&gt;Gene expression anti-profiles as a basis for accurate universal cancer signatures&lt;/a&gt;&lt;div class=\\\"gs_gray\\\"&gt;HC Bravo, V Pihur, M McCall, RA Irizarry, JT Leek&lt;/div&gt;&lt;div class=\\\"gs_gray\\\"&gt;BMC bioinformatics 13 (1), 272&lt;span class=\\\"gs_oph\\\"&gt;, 2012&lt;/span&gt;&lt;/div&gt;&lt;/td&gt;&lt;td class=\\\"gsc_a_c\\\"&gt;&lt;a href=\\\"http://scholar.google.com/scholar?oi=bibs&amp;amp;hl=en&amp;amp;oe=ASCII&amp;amp;cites=5170926751178488472\\\" class=\\\"gsc_a_ac\\\"&gt;27&lt;/a&gt;&lt;/td&gt;&lt;td class=\\\"gsc_a_y\\\"&gt;&lt;span class=\\\"gsc_a_h\\\"&gt;2012&lt;/span&gt;&lt;/td&gt;&lt;/tr&gt;&lt;tr class=\\\"gsc_a_tr\\\"&gt;&lt;td class=\\\"gsc_a_t\\\"&gt;&lt;a href=\\\"/citations?view_op=view_citation&amp;amp;hl=en&amp;amp;oe=ASCII&amp;amp;user=HI-I6C0AAAAJ&amp;amp;citation_for_view=HI-I6C0AAAAJ:BqipwSGYUEgC\\\" class=\\\"gsc_a_at\\\"&gt;Developmental regulation of human cortex transcription and its clinical relevance at single base resolution&lt;/a&gt;&lt;div class=\\\"gs_gray\\\"&gt;AE Jaffe, J Shin, L Collado-Torres, JT Leek, R Tao, C Li, Y Gao, Y Jia, ...&lt;/div&gt;&lt;div class=\\\"gs_gray\\\"&gt;Nature neuroscience 18 (1), 154-161&lt;span class=\\\"gs_oph\\\"&gt;, 2015&lt;/span&gt;&lt;/div&gt;&lt;/td&gt;&lt;td class=\\\"gsc_a_c\\\"&gt;&lt;a href=\\\"http://scholar.google.com/scholar?oi=bibs&amp;amp;hl=en&amp;amp;oe=ASCII&amp;amp;cites=10491065069728818067\\\" class=\\\"gsc_a_ac\\\"&gt;26&lt;/a&gt;&lt;/td&gt;&lt;td class=\\\"gsc_a_y\\\"&gt;&lt;span class=\\\"gsc_a_h\\\"&gt;2015&lt;/span&gt;&lt;/td&gt;&lt;/tr&gt;&lt;tr class=\\\"gsc_a_tr\\\"&gt;&lt;td class=\\\"gsc_a_t\\\"&gt;&lt;a href=\\\"/citations?view_op=view_citation&amp;amp;hl=en&amp;amp;oe=ASCII&amp;amp;user=HI-I6C0AAAAJ&amp;amp;citation_for_view=HI-I6C0AAAAJ:bEWYMUwI8FkC\\\" class=\\\"gsc_a_at\\\"&gt;Inflammatory molecular signature associated with infectious agents in psychosis&lt;/a&gt;&lt;div class=\\\"gs_gray\\\"&gt;LN Hayes, EG Severance, JT Leek, KL Gressitt, C Rohleder, JM Coughlin, ...&lt;/div&gt;&lt;div class=\\\"gs_gray\\\"&gt;Schizophrenia bulletin 40 (5), 963-972&lt;span class=\\\"gs_oph\\\"&gt;, 2014&lt;/span&gt;&lt;/div&gt;&lt;/td&gt;&lt;td class=\\\"gsc_a_c\\\"&gt;&lt;a href=\\\"http://scholar.google.com/scholar?oi=bibs&amp;amp;hl=en&amp;amp;oe=ASCII&amp;amp;cites=16513563558053101459\\\" class=\\\"gsc_a_ac\\\"&gt;26&lt;/a&gt;&lt;/td&gt;&lt;td class=\\\"gsc_a_y\\\"&gt;&lt;span class=\\\"gsc_a_h\\\"&gt;2014&lt;/span&gt;&lt;/td&gt;&lt;/tr&gt;&lt;/tbody&gt;&lt;/table&gt;&lt;div id=\\\"gsc_a_sp\\\" style=\\\"display:none\\\"&gt;&lt;/div&gt;&lt;div id=\\\"gsc_a_err\\\" class=\\\"gs_alrt\\\" style=\\\"display:none\\\"&gt;The system can&amp;#39;t perform the operation now. Try again later.&lt;/div&gt;&lt;div id=\\\"gsc_lwp\\\"&gt;&lt;div id=\\\"gsc_bpf\\\"&gt;&lt;button type=\\\"button\\\" id=\\\"gsc_bpf_prev\\\" aria-label=\\\"Previous\\\" disabled class=\\\"gs_btnPL gs_in_ib gs_btn_half gs_btn_slt gs_dis\\\"&gt;&lt;span class=\\\"gs_wr\\\"&gt;&lt;span class=\\\"gs_lbl\\\"&gt;&lt;/span&gt;&lt;span class=\\\"gs_ico gs_ico_dis\\\"&gt;&lt;/span&gt;&lt;/span&gt;&lt;/button&gt;&lt;button type=\\\"button\\\" id=\\\"gsc_bpf_more\\\" class=\\\" gs_btn_smd\\\"&gt;&lt;span class=\\\"gs_wr\\\"&gt;&lt;span class=\\\"gs_lbl\\\"&gt;Show more&lt;/span&gt;&lt;/span&gt;&lt;/button&gt;&lt;button type=\\\"button\\\" id=\\\"gsc_bpf_next\\\" aria-label=\\\"Next\\\" class=\\\"gs_btnPR gs_in_ib gs_btn_half gs_btn_srt\\\"&gt;&lt;span class=\\\"gs_wr\\\"&gt;&lt;span class=\\\"gs_lbl\\\"&gt;&lt;/span&gt;&lt;span class=\\\"gs_ico\\\"&gt;&lt;/span&gt;&lt;/span&gt;&lt;/button&gt;&lt;/div&gt;&lt;/div&gt;&lt;/form&gt;&lt;/div&gt;&lt;div class=\\\"gsc_lcl\\\"&gt;&lt;div id=\\\"gs_ftr\\\" role=\\\"contentinfo\\\"&gt;&lt;div id=\\\"gsc_dscl\\\"&gt;Dates and citation counts are estimated and are determined automatically by a computer program.&lt;/div&gt;&lt;div id=\\\"gsc_ftr_h\\\"&gt;&lt;a href=\\\"/intl/en/scholar/citations.html\\\"&gt;Help&lt;/a&gt; &lt;a href=\\\"//www.google.com/intl/en/policies/privacy/\\\"&gt;Privacy&lt;/a&gt; &lt;a href=\\\"//www.google.com/intl/en/policies/terms/\\\"&gt;Terms&lt;/a&gt; &lt;a href=\\\"//support.google.com/scholar/contact/general\\\"&gt;Provide feedback&lt;/a&gt; &lt;a href=\\\"/citations?hl=en&amp;amp;oe=ASCII\\\"&gt;Get my own profile&lt;/a&gt;&lt;/div&gt;&lt;/div&gt;&lt;/div&gt;&lt;/div&gt;&lt;/div&gt;&lt;div id=\\\"gs_rdy\\\"&gt;&lt;/div&gt;&lt;/body&gt;&lt;/html&gt;\""
      ],
      "text/plain": [
       "[1] \"<!doctype html><head><meta http-equiv=\\\"Content-Type\\\" content=\\\"text/html;charset=ISO-8859-1\\\"><meta http-equiv=\\\"X-UA-Compatible\\\" content=\\\"IE=Edge\\\"><meta name=\\\"referrer\\\" content=\\\"always\\\"><meta name=\\\"viewport\\\" content=\\\"width=device-width,initial-scale=1,minimum-scale=1,maximum-scale=2\\\"><style>@viewport{width:device-width;min-zoom:1;max-zoom:2;}</style><meta name=\\\"format-detection\\\" content=\\\"telephone=no\\\"><style>html,body,form,table,div,h1,h2,h3,h4,h5,h6,img,ol,ul,li,button{margin:0;padding:0;border:0;}table{border-collapse:collapse;border-width:0;empty-cells:show;}#gs_top{position:relative;min-width:964px;-webkit-tap-highlight-color:rgba(0,0,0,0);}#gs_top>*:not(#x){-webkit-tap-highlight-color:rgba(204,204,204,.5);}.gs_el_ph #gs_top,.gs_el_ta #gs_top{min-width:300px;}body,td,input{font-size:13px;font-family:Arial,sans-serif;line-height:1.24}body{background:#fff;color:#222;-webkit-text-size-adjust:100%;-moz-text-size-adjust:none;}.gs_gray{color:#777777}.gs_red{color:#dd4b39}.gs_grn{color:#006621}.gs_lil{font-size:11px}.gs_med{font-size:16px}.gs_hlt{font-weight:bold;}a:link{color:#1a0dab;text-decoration:none}a:visited{color:#660099;text-decoration:none}a:hover,a:active,a:hover .gs_lbl,a:active .gs_lbl,a .gs_lbl:active{text-decoration:underline;outline:none;}a:active,a:active .gs_lbl,a .gs_lbl:active{color:#d14836}.gs_a,.gs_a a:link,.gs_a a:visited{color:#006621}.gs_a a:active{color:#d14836}a.gs_fl:link,.gs_fl a:link{color:#1a0dab}a.gs_fl:visited,.gs_fl a:visited{color:#660099}a.gs_fl:active,.gs_fl a:active{color:#d14836}.gs_fl{color:#777777}.gs_ctc,.gs_ctu{vertical-align:middle;font-size:11px;font-weight:bold}.gs_ctc{color:#1a0dab}.gs_ctg,.gs_ctg2{font-size:13px;font-weight:bold}.gs_ctg{color:#1a0dab}a.gs_pda,.gs_pda a{padding:7px 0 5px 0}.gs_alrt{background:#f9edbe;border:1px solid #f0c36d;padding:0 16px;text-align:center;-webkit-box-shadow:0 2px 4px rgba(0,0,0,.2);-moz-box-shadow:0 2px 4px rgba(0,0,0,.2);box-shadow:0 2px 4px rgba(0,0,0,.2);-webkit-border-radius:2px;-moz-border-radius:2px;border-radius:2px;}.gs_spc{display:inline-block;width:12px}.gs_br{width:0;font-size:0}.gs_ibl{display:inline-block;}.gs_scl:after{content:\\\"\\\";display:table;clear:both;}.gs_nscl{overflow-y:hidden;}.gs_ind{padding-left:8px;text-indent:-8px}.gs_ico,.gs_icm{display:inline-block;background:no-repeat url(/intl/en/scholar/images/1x/sprite_20160531.png);background-size:169px;width:21px;height:21px;}@media(-webkit-min-device-pixel-ratio:1.5),(min-resolution:144dpi){.gs_ico,.gs_icm{background-image:url(/intl/en/scholar/images/2x/sprite_20160531.png);}}.gs_el_ta .gs_nta,.gs_ota,.gs_el_ph .gs_nph,.gs_oph{display:none}.gs_el_ta .gs_ota,.gs_el_ph .gs_oph{display:inline}.gs_el_ta div.gs_ota,.gs_el_ph div.gs_oph{display:block}#gs_ftr{margin:32px 0 0 0;text-align:center;clear:both;}#gs_ftr a{display:inline-block;margin:0 12px;padding:7px 0 8px 0;}#gs_ftr a:link,#gs_ftr a:visited{color:#1a0dab}#gs_ftr a:active{color:#d14836}.gs_in_txt{color:black;background:#fff;font-size:16px;height:23px;line-height:23px;border:1px solid #d9d9d9;border-top:1px solid #c0c0c0;padding:3px 6px 1px 8px;-webkit-border-radius:1px;-moz-border-radius:1px;border-radius:1px;outline:none;vertical-align:middle;-webkit-appearance:none;-moz-appearance:none;}.gs_el_tc .gs_in_txt{font-size:18px;}.gs_in_txt:hover{border:1px solid #b9b9b9;border-top:1px solid #a0a0a0;-webkit-box-shadow:inset 0px 1px 2px rgba(0,0,0,0.1);-moz-box-shadow:inset 0px 1px 2px rgba(0,0,0,0.1);box-shadow:inset 0px 1px 2px rgba(0,0,0,0.1);}.gs_in_txte,.gs_in_txte:hover{border:1px solid #DD4B39;}.gs_in_txt:focus{border:1px solid #4d90fe;-webkit-box-shadow:inset 0px 1px 2px rgba(0,0,0,0.3);-moz-box-shadow:inset 0px 1px 2px rgba(0,0,0,0.3);box-shadow:inset 0px 1px 2px rgba(0,0,0,0.3);}.gs_in_txt:disabled{color:#b8b8b8;border-color:#f1f1f1;-webkit-box-shadow:none;-moz-box-shadow:none;box-shadow:none;}input.gs_mini{font-size:13px;height:16px;line-height:16px;padding:3px 6px;}.gs_el_tc input.gs_mini{font-size:13px;height:21px;line-height:21px;}.gs_in_txtf{margin-right:16px}.gs_in_txtm{margin-right:14px}.gs_in_txtf .gs_in_txt,.gs_in_txtm .gs_in_txt{width:100%;}.gs_in_txts{font-size:13px;line-height:18px;}button{position:relative;z-index:1;box-sizing:border-box;font-size:11px;font-weight:bold;cursor:default;height:29px;min-width:72px;overflow:visible;color:#444;border:1px solid #dcdcdc;border:1px solid rgba(0,0,0,.1);border-radius:2px;text-align:center;background-color:#f5f5f5;background-image:linear-gradient(to bottom,#f5f5f5,#f1f1f1);transition:all .218s;user-select:none;}button .gs_wr{line-height:27px;}button.gs_btn_mini{min-width:26px;height:26px;}.gs_btn_mini .gs_wr{line-height:24px;}.gs_btn_half,.gs_el_ph .gs_btn_hph{min-width:36px;}>. }}.gs_btn_slt{border-radius:2px 0 0 2px;}.gs_btn_srt{margin-left:-1px;border-radius:0 2px 2px 0;}.gs_btn_smd{margin-left:-1px;border-radius:0;}button:hover{z-index:2;color:#222;border:1px solid #c6c6c6;box-shadow:0 1px 1px rgba(0,0,0,.1);background-color:#f8f8f8;background-image:linear-gradient(to bottom,#f8f8f8,#f1f1f1);transition:all 0s;}button.gs_sel{color:#333;border:1px solid #ccc;box-shadow:inset 0 1px 2px rgba(0,0,0,.1);background-color:#e8e8e8;background-image:linear-gradient(to bottom,#eee,#e0e0e0);}button:active{z-index:2;color:#333;background-color:#f6f6f6;background-image:linear-gradient(to bottom,#f6f6f6,#f1f1f1);box-shadow:inset 0px 1px 2px rgba(0,0,0,.1);}button:focus{z-index:2;outline:none;border:1px solid #4d90fe;}button::-moz-focus-inner{padding:0;border:0}button .gs_lbl{padding:0px 8px;}a.gs_in_ib{position:relative;display:inline-block;line-height:16px;padding:5px 0 6px 0;user-select:none;}a.gs_btn_mini{height:24px;line-height:24px;padding:0;}a .gs_lbl,button .gs_lbl{vertical-align:baseline;}a.gs_in_ib .gs_lbl{display:inline-block;padding-left:21px}button.gs_in_ib .gs_lbl{padding-left:29px;}button.gs_btn_mini .gs_lbl,button.gs_btn_half .gs_lbl,button.gs_btn_eml .gs_lbl{padding:11px;}.gs_el_ph .gs_btn_hph .gs_lbl,.gs_el_ph .gs_btn_cph .gs_lbl{padding:11px;font-size:0;visibility:hidden;}.gs_in_ib .gs_ico{position:absolute;top:2px;left:8px;}.gs_btn_mini .gs_ico{top:1px;left:2px;}.gs_btn_half .gs_ico,.gs_el_ph .gs_btn_hph .gs_ico{left:7px}.gs_btn_eml .gs_ico,.gs_el_ph .gs_btn_cph .gs_ico{left:25px}a.gs_in_ib .gs_ico{top:3px;left:0}a.gs_in_ib.gs_md_li .gs_ico{left:14px}.gs_el_tc a.gs_in_ib.gs_md_li .gs_ico{top:11px}a.gs_btn_mini .gs_ico{top:1px;left:0}.gs_in_ib .gs_ico{opacity:.55;}a.gs_in_ib .gs_ico{opacity:.65;}.gs_in_ib:hover .gs_ico{opacity:.72;}.gs_in_ib:active .gs_ico,.gs_in_ib .gs_ico:active,.gs_in_ib :active~.gs_ico{opacity:1;}.gs_in_ib:disabled .gs_ico{opacity:.28;}a.gs_in_ib.gs_dis .gs_ico{opacity:.33;}button.gs_btn_act{color:#fff;border:1px solid #3079ed;background-color:#4d90fe;background-image:linear-gradient(to bottom,#4d90fe,#4787ed);}button.gs_btn_act:hover{color:#fff;border:1px solid #2f5bb7;background-color:#357ae8;background-image:linear-gradient(to bottom,#4d90fe,#357ae8);box-shadow:inset 0 1px 1px rgba(0,0,0,.1);}button.gs_btnG{width:70px;min-width:0;}button.gs_btn_cre{color:#fff;border:1px solid transparent;background-color:#d14836;background-image:linear-gradient(to bottom,#dd4b39,#d14836);}button.gs_btn_cre .gs_lbl{text-transform:uppercase;text-shadow:0px 1px rgba(0,0,0,.1);}button.gs_btn_cre:hover{color:#fff;border:1px solid #b0281a;border-bottom:1px solid #af301f;background-color:#c53727;background-image:linear-gradient(to bottom,#dd4b39,#c53727);box-shadow:inset 0 1px 1px rgba(0,0,0,.2);}button.gs_btn_act:focus,button.gs_btn_cre:focus{box-shadow:inset 0 0 0 1px rgba(255,255,255,.5);}button.gs_btn_act:focus{border-color:#404040;}button.gs_btn_cre:focus{border-color:#d14836;}button.gs_btn_act:active{border:1px solid #315da3;background-color:#2f6de1;background-image:linear-gradient(to bottom,#4d90fe,#2f6de1);}button.gs_btn_cre:active{border:1px solid #992a1b;background-color:#b0281a;background-image:linear-gradient(to bottom,#dd4b39,#b0281a);}button.gs_btn_act:active,button.gs_btn_cre:active{box-shadow:inset 0 1px 2px rgba(0,0,0,.3);}button.gs_bsp,button.gs_bsp:hover,button.gs_bsp:active,button.gs_bsp:focus,button:disabled,button:disabled:hover,button:disabled:active{color:#b8b8b8;border:1px solid #f3f3f3;border:1px solid rgba(0,0,0,.05);background:none;box-shadow:none;z-index:0;}button.gs_btn_act:disabled{color:white;border-color:#98bcf6;background:#a6c8ff;}button.gs_btn_cre:disabled{color:white;border-color:#d8948d;background:#e8a49b;}button:disabled:active{box-shadow:inset 0 1px 2px rgba(0,0,0,.1);z-index:2;}a.gs_dis{cursor:default}.gs_ttp{position:absolute;top:100%;right:50%;z-index:10;pointer-events:none;visibility:hidden;opacity:0;transition:visibility 0s .13s,opacity .13s ease-out;}button:hover .gs_ttp,button:focus .gs_ttp,a:hover .gs_ttp,a:focus .gs_ttp{transition:visibility 0s .3s,opacity .13s ease-in .3s;visibility:visible;opacity:1;}.gs_ttp .gs_aro,.gs_ttp .gs_aru{position:absolute;top:-2px;right:-5px;width:0;height:0;line-height:0;font-size:0;border:5px solid transparent;border-top:none;border-bottom-color:#2a2a2a;z-index:1;}.gs_ttp .gs_aro{top:-3px;right:-6px;border-width:6px;border-top:none;border-bottom-color:white;}.gs_ttp .gs_txt{display:block;position:relative;top:2px;right:-50%;padding:7px 9px;background:#2a2a2a;color:white;font-size:11px;font-weight:bold;line-height:normal;white-space:nowrap;border:1px solid white;box-shadow:inset 0 1px 4px rgba(0,0,0,.2);}.gs_in_se,.gs_tan{touch-action:none;}.gs_in_se .gs_lbl{padding-left:8px;padding-right:22px;}.gs_in_se .gs_icm{position:absolute;top:8px;right:8px;width:7px;height:11px;background-position:-21px -88px;opacity:.55;}a.gs_in_se .gs_icm{opacity:.65;}.gs_in_se:hover .gs_icm{opacity:.72;}.gs_in_se:active .gs_icm,.gs_in_se .gs_icm:active,.gs_in_se :active~.gs_icm{opacity:1;}.gs_in_ib:disabled .gs_icm{opacity:.28;}.gs_el_ph .gs_btn_hph .gs_icm,.gs_el_ph .gs_btn_cph .gs_icm{display:none}.gs_btn_mnu .gs_icm{top:11px;height:7px;background-position:0 -110px;}.gs_btn_mn2 .gs_icm,.gs_btn_mn2:hover .gs_icm,.gs_btn_mn2:active .gs_icm,.gs_btn_mn2 .gs_icm:active,.gs_btn_mn2 :active~.gs_icm{background-position:-42px -44px;opacity:1;}.gs_btn_mn2 .gs_ico,.gs_btn_mn2:hover .gs_ico,.gs_btn_mn2:active .gs_ico,.gs_btn_mn2 .gs_ico:active,.gs_btn_mn2 :active~.gs_ico{opacity:1;}.gs_md_se,.gs_md_wn,.gs_el_ph .gs_md_wp{position:absolute;top:0;left:0;border:1px solid #ccc;border-color:rgba(0,0,0,.2);background:white;box-shadow:0 2px 4px rgba(0,0,0,.2);z-index:1100;display:none;opacity:0;transition:opacity .13s;}.gs_md_se.gs_vis,.gs_md_wn.gs_vis,.gs_el_ph .gs_md_wp.gs_vis{opacity:1;transition:all 0s;}.gs_el_tc .gs_md_se,.gs_el_tc .gs_md_wn,.gs_el_ph.gs_el_tc .gs_md_wp{transform-origin:100% 0;transform:scale(1,0);transition:opacity .218s ease-out,transform 0s .218s;}.gs_el_tc .gs_md_wn.gs_ttss,.gs_el_ph.gs_el_tc .gs_md_wp.gs_ttss{transform:scale(0,1);}.gs_el_tc .gs_md_wn.gs_ttzi,.gs_el_ph.gs_el_tc .gs_md_wp.gs_ttzi{transform-origin:50% 50%;transform:scale(0,0);}.gs_el_tc .gs_md_se.gs_vis,.gs_el_tc .gs_md_wn.gs_vis,.gs_el_ph.gs_el_tc .gs_md_wp.gs_vis{transform:scale(1,1);transition:transform .218s ease-out;}.gs_md_wm{opacity:0;visibility:hidden;background:#fff;border:1px solid #ccc;border-color:rgba(0,0,0,.2);box-shadow:0 2px 4px rgba(0,0,0,.2);z-index:1100;position:absolute;transform-origin:50% 50%;margin-top:-500px;}.gs_md_wm.gs_vis{opacity:1;visibility:visible;margin-top:0;}.gs_md_wm.gs_vis.gs_anm{animation:none;}.gs_md_wm.gs_anm{animation:gs_anm_fo .13s ease-out;}.gs_el_tc .gs_md_wm.gs_vis.gs_anm{animation:gs_anm_scli .218s ease-out;}.gs_el_tc .gs_md_wm.gs_anm{animation:gs_anm_fo .218s ease-out;}.gs_el_ph .gs_md_wmw{top:0;left:0;position:fixed;height:100%;width:100%;visibility:hidden;z-index:1100;}.gs_el_ph .gs_md_wm{top:0;left:0;padding:0;width:100%;height:100%;border:none;box-shadow:none;}.gs_el_ph .gs_md_wm.gs_vis.gs_anm{animation:gs_anm_sli .218s ease-out;}.gs_el_ph .gs_md_wm.gs_anm{animation:gs_anm_slo .218s ease-in;}@keyframes gs_anm_fo{from{opacity:1;visibility:visible;margin-top:0;}to{opacity:0;visibility:hidden;margin-top:0;}}@keyframes gs_anm_scli{from{transform:scale(0,0);}to{transform:scale(1,1);}}@keyframes gs_anm_slo{from{opacity:1;visibility:visible;margin-top:0;transform:translate(0,0);}to{opacity:1;visibility:hidden;margin-top:0;transform:translate(0,100%);}}@keyframes gs_anm_sli{from{transform:translate(0,100%);}to{transform:translate(0,0);}}.gs_md_se{white-space:nowrap}.gs_md_se ul{list-style-type:none;word-wrap:break-word;display:inline-block;vertical-align:top;}.gs_md_se li,.gs_md_li,.gs_md_li:link,.gs_md_li:visited{display:block;padding:6px 44px 6px 16px;font-size:13px;line-height:16px;color:#222;cursor:default;text-decoration:none;background:white;transition:background .13s;}a.gs_md_li:hover .gs_lbl,a.gs_md_li:active .gs_lbl{text-decoration:none}.gs_el_tc .gs_md_se li,.gs_el_tc .gs_md_li{padding-top:14px;padding-bottom:10px;}.gs_md_se li:hover,.gs_md_li:hover,.gs_md_li:focus{background:#f1f1f1;transition:background 0s;}.gs_md_se li.gs_sel{color:#dd4b39}.gs_md_wn:focus,.gs_md_se li:focus,.gs_md_li:focus{outline:none}button.gs_btnG .gs_ico,button.gs_btnG:hover .gs_ico,button.gs_btnG:active .gs_ico,button.gs_btnG .gs_ico:active,button.gs_btnG :active~.gs_ico{width:14px;height:14px;top:7px;left:27px;background-position:-113px -44px;opacity:1;}button .gs_bsc{position:absolute;top:0;right:50%;width:25px;}button .gs_bs{background:url('/intl/en/scholar/images/spinner.gif') no-repeat;position:relative;height:25px;width:25px;left:50%;display:none;}button.gs_bsp .gs_bs{display:block;}a.gs_in_cb:link,a.gs_in_cb:visited,a.gs_in_cb:active,a.gs_in_cb:hover,a.gs_in_cb.gs_dis:active .gs_lbl{cursor:default;color:#222;text-decoration:none;}.gs_in_cb,.gs_in_ra{position:relative;line-height:16px;display:inline-block;user-select:none;}.gs_in_cb.gs_md_li{padding:6px 44px 6px 16px;}.gs_in_cb input,.gs_in_ra input{position:absolute;top:1px;left:1px;width:15px;height:15px;margin:0;padding:0;opacity:0;z-index:2;}.gs_in_ra input{top:0;left:0}.gs_el_tc .gs_in_cb input{top:9px}.gs_el_tc .gs_in_ra input{top:8px}.gs_in_cb.gs_in_cbj input{top:15px;left:15px}.gs_in_cb label,.gs_in_cb .gs_lbl,.gs_in_ra label{display:inline-block;padding-left:21px;min-height:16px;}.gs_el_tc .gs_in_cb label,.gs_el_tc .gs_in_cb .gs_lbl,.gs_el_tc .gs_in_ra label{padding-top:8px;padding-bottom:5px;}.gs_in_cb.gs_in_cbj label,.gs_in_cb.gs_in_cbj .gs_lbl{padding:13px 0 12px 41px;}.gs_in_cb .gs_cbx,.gs_in_ra .gs_cbx{position:absolute}.gs_in_cb .gs_cbx{top:2px;left:2px;width:11px;height:11px;border:1px solid #c6c6c6;border-radius:1px;}.gs_md_li .gs_cbx{top:8px;left:18px}.gs_el_tc .gs_in_cb .gs_cbx{top:10px}.gs_el_tc .gs_md_li .gs_cbx{top:16px}.gs_in_cb.gs_in_cbj .gs_cbx{top:15px;left:15px}.gs_el_tc .gs_in_ra .gs_cbx{top:8px}.gs_in_ra .gs_cbx{top:0;left:0;border:1px solid #c6c6c6;width:13px;height:13px;border-radius:7px;}.gs_in_cb:hover .gs_cbx,.gs_in_ra:hover .gs_cbx{border-color:#666;box-shadow:inset 0 1px 1px rgba(0,0,0,.1);}.gs_in_cb:focus .gs_cbx,.gs_in_cb :focus~.gs_cbx,.gs_in_ra :focus~.gs_cbx{border-color:#4d90fe;}.gs_in_cb:active .gs_cbx,.gs_in_ra:active .gs_cbx,.gs_in_cb .gs_cbx:active,.gs_in_ra .gs_cbx:active,.gs_in_cb :active~.gs_cbx,.gs_in_ra :active~.gs_cbx{border-color:#666;background:#ebebeb;}.gs_in_cb :disabled~.gs_cbx,.gs_in_ra :disabled~.gs_cbx{border-color:#f1f1f1;box-shadow:none;}.gs_in_cb :disabled~label,.gs_in_ra :disabled~label{color:#b8b8b8;}.gs_in_cb.gs_err .gs_cbx{border-color:#eda29b;}.gs_in_cb .gs_chk,.gs_in_ra .gs_chk{position:absolute;z-index:1;top:-3px;left:-2px;width:21px;height:21px;}.gs_md_li .gs_chk{top:3px;left:14px}.gs_el_tc .gs_in_cb .gs_chk{top:5px}.gs_el_tc .gs_md_li .gs_chk{top:11px}.gs_in_cb.gs_in_cbj .gs_chk{top:10px;left:10px}.gs_in_ra .gs_chk{top:4px;left:4px;width:7px;height:7px;}.gs_el_tc .gs_in_ra .gs_chk{top:12px}.gs_in_cb input:checked~.gs_chk,.gs_in_cb.gs_sel .gs_chk{background:no-repeat url(/intl/en/scholar/images/1x/sprite_20160531.png) -69px -67px;opacity:.62;}.gs_in_ra input:checked~.gs_chk{border-radius:4px;background:#666;}.gs_in_cb.gs_par .gs_chk{background:no-repeat url(/intl/en/scholar/images/1x/sprite_20160531.png) -20px -44px;opacity:.55;}@media(-webkit-min-device-pixel-ratio:1.5),(min-resolution:144dpi){.gs_in_cb input:checked~.gs_chk,.gs_in_cb.gs_sel .gs_chk,.gs_in_cb.gs_par .gs_chk{background-image:url(/intl/en/scholar/images/2x/sprite_20160531.png);background-size:169px;}}.gs_in_cb input:checked:disabled~.gs_chk{background-position:-69px -67px;opacity:.22;}.gs_ico_X{background-position:-71px 0;opacity:.55;}.gs_ico_X:hover{opacity:.72;}.gs_ico_X:active{opacity:1;}.gs_el_tc .gs_ico_Xt{-webkit-background-origin:content;background-origin:content-box;-webkit-background-clip:content;background-clip:content-box;padding:10px 6px 10px 14px;}.gs_ico_P{background-position:0 0;opacity:.55;}.gs_ico_P:hover{opacity:.72;}.gs_ico_P:active{opacity:1;}.gs_btnC .gs_ico{background-position:0 -66px;}.gs_btnM .gs_ico{background-position:-92px 0;}.gs_btnMW .gs_ico{background-position:-21px -22px;}.gs_btnSB .gs_ico{background-position:0 -44px;}.gs_btnPL .gs_ico{background-position:-148px -66px;}.gs_btnPR .gs_ico{background-position:-21px -66px;}.gs_btnDE .gs_ico{background-position:-134px 0;}.gs_btnADD .gs_ico{background-position:-92px -66px;}.gs_btnMRG .gs_ico{background-position:-113px 0;}.gs_btnDWL .gs_ico{background-position:-28px -88px;}.gs_btnMNU .gs_ico{background-position:0 -88px;}#gsc_bdy{position:relative;margin:0 auto;width:1100px;}.gs_el_me #gsc_bdy{width:1028px}.gs_el_sm #gsc_bdy{width:964px}.gs_el_ph #gsc_bdy,.gs_el_ta #gsc_bdy{width:auto;margin-top:44px;}.gsc_lcl{position:relative;margin:0 337px 0 16px;}.gs_el_sm .gsc_lcl{margin-right:321px;}.gs_el_ta .gsc_lcl,.gs_el_ph .gsc_lcl{margin:0}#gsc_prf,#gsc_a_t{border-right:1px solid #ccc}.gs_el_ta #gsc_prf,.gs_el_ta #gsc_a_t,.gs_el_ph #gsc_prf,.gs_el_ph #gsc_a_t{border:none;}#gsc_rsb{position:absolute;top:0;right:0;width:336px;}.gs_el_sm #gsc_rsb{width:320px;}.gs_el_ta #gsc_rsb{position:relative;width:49%;float:right;margin:8px 0;}.gs_el_ta .gsc_prf_ed #gsc_rsb{display:none;}.gs_el_ph #gsc_rsb{position:relative;width:100%;}#gsc_rsb_m{display:none}.gs_el_ta #gsc_rsb_m,.gs_el_ph #gsc_rsb_m{display:block;position:absolute;top:-44px;width:100%;height:43px;border-bottom:1px solid #ccc;}.gs_el_ta #gsc_rsb_icol,.gs_el_ph #gsc_rsb_icol,.gs_el_ta #gsc_rsb_f,.gs_el_ph #gsc_rsb_f,.gs_el_ta #gsc_rsb_gpl,.gs_el_ph #gsc_rsb_gpl{display:none;}.gsc_rsb_s{margin:20px 24px 24px 24px;position:relative;}.gs_el_sm .gsc_rsb_s{margin:8px 16px 16px 16px}.gs_el_ta .gsc_rsb_s{margin:8px 16px}.gs_el_ph .gsc_rsb_s{margin:8px}.gsc_rsb_h{font-weight:bold;font-size:13px;border-bottom:1px solid #ccc;padding-bottom:4px;margin-bottom:4px;}.gs_el_sm .gsc_rsb_h{margin-bottom:0;}#gsc_rsb_icol,.gs_el_ta #gsc_rsb_icol_m{display:inline-block;width:189px;height:30px;margin:8px 0;background:no-repeat url('/intl/en/scholar/images/1x/scholar_logo_30dp.png');background-size:189px 30px;}.gs_el_ta #gsc_rsb_icol_m{margin:8px 16px;position:relative;z-index:1;}@media(-webkit-min-device-pixel-ratio:1.5),(min-resolution:144dpi){#gsc_rsb_icol,.gs_el_ta #gsc_rsb_icol_m{background-image:url('/intl/en/scholar/images/2x/scholar_logo_30dp.png');}}.gs_el_ph #gsc_rsb_icol_m{color:#dd4b39;font-size:20px;line-height:43px;margin:0 8px;position:relative;z-index:1;}.gs_el_ta #gsc_rsb_f_m,.gs_el_ph #gsc_rsb_f_m{position:absolute;top:7px;right:8px;z-index:2;}#gsc_rsb_fin,#gsc_rsb_fin_m,#gsc_rsb_fbt,#gsc_rsb_fbt_m{vertical-align:top}#gsc_rsb_fin,#gsc_rsb_fin_m{width:228px;border-radius:2px 0 0 2px;}.gs_el_ta #gsc_rsb_fin_m{width:240px}.gs_el_ph #gsc_rsb_fin_m{width:170px}#gsc_rsb_fbt,#gsc_rsb_fbt_m{margin-left:-1px;border-radius:0 2px 2px 0;}.gsc_rsb_foff #gsc_rsb_fin_m{display:none;}.gs_el_tc #gsc_rsb_fin_m{display:inline-block;transform:scale(1,1);visibility:visible;transform-origin:right;transition:visibility 0s,transform .218s;}.gs_el_tc .gsc_rsb_foff #gsc_rsb_fin_m{transform:scale(0,1);visibility:hidden;transition:visibility 0s .218s,transform .218s;}.gs_el_tc #gsc_rsb_f_m.gsc_rsb_foff{z-index:0;transition:z-index 0s .218s;}#gsc_rsb_gpl{margin:16px 0;text-align:center;}#gsc_rsb_st{width:100%;max-width:320px}.gs_el_ph #gsc_rsb_st{width:288px}#gsc_rsb_t{display:none}.gsc_rsb_std{text-align:right;padding-right:8px;}.gsc_rsb_sc1{text-align:left;}.gsc_rsb_sth{font-weight:normal;padding-bottom:4px;padding-right:8px;border-bottom:1px solid #ccc;text-align:right;}th.gsc_rsb_sc1{border-bottom:1px solid #ccc;padding-bottom:4px;font-weight:bold;font-size:13px;}.gsc_rsb_f:link,.gsc_rsb_f:visited{color:#222;}#gsc_g{position:relative;width:288px;height:100px;border:1px solid white;}#gsc_g:hover{border:1px solid #ccc;background:#f5f5f5;}#gsc_g:active{border:1px solid #4d90fe;background:#f1f1f1;}.gs_el_ta #gsc_g,.gs_el_ph #gsc_g{display:none}#gsc_g_x,#gsc_g_bars{position:absolute;bottom:13px;left:0;width:288px;height:57px;}#gsc_g_x{height:13px;border-top:1px solid #777;}.gsc_g_t{position:absolute;bottom:0;color:#777;font-size:11px;}.gsc_g_a{position:absolute;bottom:13px;width:15px;background:#777;}.gsc_g_a:hover,.gsc_g_a:focus,.gsc_g_a:active{text-decoration:none;cursor:default;}.gsc_g_al{position:absolute;bottom:15px;left:7px;color:#222;background:white;font-size:11px;padding:1px;border:1px solid #777;border-radius:1px;visibility:hidden;opacity:0;transition:opacity .218s,visibility 0s .218s;}.gsc_g_a:hover .gsc_g_al,.gsc_g_a:focus .gsc_g_al,.gsc_g_a:active .gsc_g_al{visibility:visible;opacity:1;transition:all 0s;}.gsc_rsb_a{position:relative;list-style:none;}.gsc_rsb_aa:hover{background:#f1f1f1;}span.gsc_rsb_aa:hover{background:white;}.gsc_rsb_lc{margin-left:12px;font-weight:normal;}.gsc_rsb_sp{display:none}.gs_el_ph .gsc_rsb_sp,.gs_el_ta .gsc_rsb_sp{display:inline;margin-right:8px;}.gs_el_ph #gsc_rsb_co .gsc_rsb_a,.gs_el_ta #gsc_rsb_co .gsc_rsb_a{width:auto;overflow-x:hidden;white-space:nowrap;}.gs_el_ph #gsc_rsb_co .gsc_rsb_aa,.gs_el_ta #gsc_rsb_co .gsc_rsb_aa{display:inline-block;}.gs_el_ph #gsc_rsb_co .gsc_rsb_a li,.gs_el_ta #gsc_rsb_co .gsc_rsb_a li{display:inline;}.gsc_rsb_fade{display:none}.gs_el_ph #gsc_rsb_co .gsc_rsb_fade,.gs_el_ta #gsc_rsb_co .gsc_rsb_fade{position:absolute;right:0;bottom:0;width:60px;height:100%;background-image:linear-gradient(to right,rgba(255,255,255,0),rgba(255,255,255,1) 80%);}.gsc_rsb_aa{display:block;padding:4px 0;line-height:17px;}.gs_el_tc .gsc_rsb_aa{line-height:26px}.gsc_rsb_aa:hover,.gsc_rsb_aa:active{text-decoration:none;}#gsc_rsb_ssc .gsc_rsb_h{margin-bottom:0}#gsc_rsb_ssc li{position:relative;border-bottom:1px solid #f1f1f1;}.gs_el_ta #gsc_rsb_ssc,.gs_el_ph #gsc_rsb_ssc,#gsc_rsb_vc{display:none}.gs_el_ta #gsc_rsb_vc,.gs_el_ph #gsc_rsb_vc{display:block;text-align:center;background:#4d90fe;border:1px solid #ccc;margin:0 7px;}.gsc_rsb_vca:link,.gsc_rsb_vca:visited{font-size:13px;font-weight:bold;display:block;color:#eeeeee;text-decoration:underline;padding:16px 8px;}.gsc_rsb_t{position:absolute;top:4px;right:0;width:58px;height:21px;}.gs_el_tc .gsc_rsb_t{top:10px}.gsc_rsb_t .gs_ico{margin-left:8px;}#gsc_rsb_ssc .gsc_rsb_aa{padding:6px 0;margin-right:58px;word-break:break-word;}#gsc_dscl{margin:0 0 8px 0;color:#777;font-style:italic;}#gsc_ftr_h{padding-bottom:13px;}#gsc_prf{padding:24px 8px 16px 0;}.gs_el_sm #gsc_prf{padding:16px 0 8px 0;}.gs_el_ta #gsc_prf{padding:16px 0 8px 16px;}.gs_el_ph #gsc_prf{padding:16px 8px 8px 8px;}.gs_el_ta #gsc_prf_w{width:50%;float:left;}.gs_el_ta .gsc_prf_ed #gsc_prf_w{width:80%;}#gsc_art{clear:both}#gsc_prf_pu{float:left;width:150px;text-align:center;background:#f8f8f8;margin:0 8px 8px 0;}#gsc_prf_pu form{padding:8px 8px 0 8px;background:white;}.gs_el_ph #gsc_prf_pu{width:75px}.gs_el_ta #gsc_prf_pu{width:100px}.gs_el_ta #gsc_prf_pu form,.gs_el_ph #gsc_prf_pu form{padding:4px 4px 0 4px}.gs_el_ph .gsc_prf_ed #gsc_prf_pu{display:none;}#gsc_prf_pua{display:block;line-height:0;}#gsc_prf_pufi{width:0;height:0;overflow:hidden;}.gsc_prf_pufo #gsc_prf_pufi{width:auto;height:auto;overflow:visible;position:relative;z-index:1;}.gsc_prf_pufo #gsc_prf_pufi2{display:inline-block;background:#fcfcfc;padding:8px 8px 8px 0;}#gsc_prf_pufb{word-wrap:break-word;}.gsc_prf_pufo #gsc_prf_pufb{display:none;}#gsc_prf_e,.gsc_prf_ed #gsc_prf_i{display:none}.gsc_prf_ed #gsc_prf_e{display:block;max-width:400px}#gsc_prf_i,#gsc_prf_e,#gsc_prf_iv{margin:0 16px 0 166px;}.gs_el_sm #gsc_prf_i,.gs_el_sm #gsc_prf_e,.gs_el_sm #gsc_prf_iv{margin:0 8px 0 158px;}.gs_el_ph #gsc_prf_i,.gs_el_ph #gsc_prf_e{margin:0 8px 0 0;}.gs_el_ta #gsc_prf_i{margin:0 8px 0 108px;}.gs_el_ta #gsc_prf_e{margin:0 8px 0 83px;}#gsc_prf_ib{float:right;position:relative;white-space:nowrap;}.gs_el_ta #gsc_prf_ib,.gs_el_ph #gsc_prf_ib{position:absolute;top:-37px;left:0;width:200%;height:0;}.gs_el_ph #gsc_prf_ib{width:100%;}#gsc_prf_ibi,#gsc_prf_ibi .gs_ibl{padding-left:16px;}.gs_el_ta #gsc_prf_ibi,.gs_el_ph #gsc_prf_ibi{text-align:right;padding-left:0;margin-right:60px;}.gs_el_ph #gsc_prf_ibi{margin-right:52px;}.gs_el_ph #gsc_prf_ibi .gs_ibl{padding-left:8px;}#gsc_prf_in{font-size:24px;line-height:24px;padding:3px 0 7px 0;}.gs_el_ta #gsc_prf_in,.gs_el_ph #gsc_prf_in{padding:0 0 2px 0;}.gsc_prf_il{font-size:15px;line-height:18px;padding:1px 0;}#gsc_prf_iv{display:none;font-size:15px;line-height:18px;padding:1px 0;}.gs_el_ph #gsc_prf_iv{margin:16px 8px;clear:both;}.gsc_prf_why #gsc_prf_iv{display:block}#gsc_prf_iv li{margin:8px 0 0 0;}#gsc_prf_iv ul{margin:-8px 0 16px 16px;}#gsc_prf_iv button{margin-left:16px;}.gsc_prf_iev{padding:4px 0 8px 0;}.gsc_prf_iel{color:#777;}#gsc_prf_iv table{width:100%;}#gsc_prf_iv td{vertical-align:top;}.gsc_prf_el{color:#777;}.gsc_prf_ev{padding:4px 0 8px 0;}#gsc_prf_ep{padding:8px 0;}#gsc_prf_eb{padding:16px 0 32px 0;}#gsc_prf_eb button{margin-right:16px;}#gsc_fol_dd{top:29px;left:auto;right:0;text-align:left;}.gs_el_ph #gsc_fol_dd{min-width:240px;max-width:284px;right:-44px;}#gsc_fol_f,#gsc_fol_p{padding:16px}#gsc_fol_p{background:#ffc}#gsc_fol_ml{color:#777;padding-bottom:4px}#gsc_fol_cb{padding:8px 0}.gsc_fol_cr{margin:8px 0;white-space:normal}.gs_el_tc .gsc_fol_cr{margin:0}#gsc_fol_dd #gsc_fol_b{margin:0}#gsc_fol_dd #gsc_fol_x{margin:0 16px}#gsc_fol_p #gsc_fol_x{margin-right:0}#gsc_fol_ll{display:inline-block;padding:7px 0 8px 0;white-space:nowrap}#gsc_fol_hlp{margin-bottom:16px;white-space:normal;}.gs_el_ph #gsc_fol_dd #gsc_fol_b,.gs_el_ph #gsc_fol_dd #gsc_fol_x,.gs_el_ph #gsc_fol_ll{display:block;width:100%;margin:8px 0 0 0;text-align:center;}.gs_el_ph #gsc_fol_ll{background:#fcfcfc}#gsc_dd_exp-md,#gsc_dd_mor-md{top:29px;}.gs_el_ph #gsc_dd_exp-md{left:auto;right:12px;}#gsc_dd_mor-md{width:196px;white-space:normal;}.gs_el_ph #gsc_dd_mor-md{left:-84px;}#gsc_dd_mor-m,.gs_el_ph #gsc_dd_mor-s{display:block;}#gsc_dd_mor-s{display:none;border-top:1px solid #ebebeb;}#gsc_dd_mor-s .gsc_dd_mor-sel{color:#dd4b39;}#gsc_dd_mor-p{border-top:1px solid #ebebeb;padding:10px 44px 10px 16px;color:#777;}.gsc_art_sel #gsc_btn_add,.gsc_art_sel #gsc_dd_mor-w,.gsc_art_sel #gsc_a_nn,#gsc_btn_mer,#gsc_btn_del,#gsc_btn_expw{display:none;}#gsc_dd_mor-w,.gsc_art_sel #gsc_btn_mer,.gsc_art_sel #gsc_btn_del,.gsc_art_sel #gsc_btn_expw{position:relative;display:inline-block;}#gsc_a_t{width:100%;table-layout:fixed;}#gsc_a_tr0 th.gsc_a_x,#gsc_a_tr0 th.gsc_a_t,#gsc_a_tr0 th.gsc_a_c,#gsc_a_tr0 th.gsc_a_y{height:0;padding-top:0;padding-bottom:0;border:none;border-top:1px solid #ccc;}#gsc_a_trh{left:0;top:0;z-index:700;background:#f1f1f1;}th.gsc_a_x,th.gsc_a_t,th.gsc_a_c,th.gsc_a_y{box-sizing:border-box;background:#f1f1f1;}.gsc_a_x,.gsc_a_t,.gsc_a_c,.gsc_a_y,.gsc_a_e{font-weight:normal;padding:8px 16px;vertical-align:middle;text-align:right;border-bottom:1px solid #ccc;}.gs_el_sm .gsc_a_t,.gs_el_sm .gsc_a_c,.gs_el_sm .gsc_a_y{padding:8px 8px;}.gsc_a_x{padding:0;}th.gsc_a_x{width:41px;height:41px;text-align:left;}th.gsc_a_x .gs_ico{background-position:-134px 0;opacity:.55;display:block;margin-left:12px;}.gsc_a_t{text-align:left;}#gsc_a_ta,#gsc_a_nn{display:inline-block;vertical-align:middle;margin-right:16px;}.gs_el_ph #gsc_a_nn{display:none;}th.gsc_a_c{width:90px;}.gs_el_sm th.gsc_a_c{width:74px;}.gs_el_ph th.gsc_a_c{padding:0 8px;width:74px;word-wrap:break-word;}#gsc_a_ca{display:block;width:58px;}.gs_el_ph #gsc_a_ca{width:58px;}.gs_el_ph .gsc_art_sel #gsc_a_ca{display:none}td.gsc_a_c{padding:8px;}th.gsc_a_y{width:71px;}.gs_el_sm th.gsc_a_y{width:55px;}.gs_el_ph th.gsc_a_y,.gs_el_ph td.gsc_a_y{width:0;padding:0;}.gs_el_ph .gsc_a_h{display:none}@media print{#gs_top th.gsc_a_c{width:63pt;}#gs_top th.gsc_a_y{width:45pt;}}.gsc_a_e{padding:16px;text-align:center;}.gsc_a_a{padding:8px 0}.gsc_a_at{padding:8px 0;font-size:16px}.gsc_a_ac{padding:8px}a.gsc_a_acm{text-decoration:line-through}a.gsc_a_acm:hover,a.gs_a_acm:active{text-decoration:underline}.gsc_a_m{position:absolute}.gs_el_ph .gsc_a_m{display:block;position:static;}.gsc_a_am{font-size:24px;position:absolute;top:-12px;left:-8px;padding:8px 12px 4px 8px;}.gs_el_ph .gsc_a_am{display:inline-block;position:static;padding:6px 16px;margin-bottom:-6px;}#gsc_a_sp{margin-top:16px;height:25px;background:url('/intl/en/scholar/images/spinner.gif') no-repeat 50% 0%;padding-bottom:16px;border-bottom:1px solid #ccc;}#gsc_a_err{padding:28px 0;}.gsc_a_fix{position:fixed;}#gsc_lwp{margin:35px 0;text-align:center;}#gsc_bpf{display:inline-block;}#gsc_bpf_more{min-width:200px;margin:0 16px;}.gs_el_ph #gsc_bpf_more{margin:0;}#gsc_md_mopt,#gsc_md_cbyd,#gsc_md_cbym{width:600px;}.gs_el_ta #gsc_md_mopt,.gs_el_ta #gsc_md_cbyd,.gs_el_ta #gsc_md_cbym{width:500px;}.gs_el_ph #gsc_md_mopt,.gs_el_ph #gsc_md_cbyd,.gs_el_ph #gsc_md_cbym{width:80%;}#gsc_md_mopt .gs_md_prg,#gsc_md_cbyd .gs_md_prg,#gsc_md_cbym .gs_md_prg{margin:48px 0;}.gsc_mob_art{vertical-align:top;padding:8px 0;}.gsc_mob_cby{vertical-align:top;text-align:right;padding:8px 12px;}.gsc_mob_ttl,.gsc_mob_pub{display:block;}.gsc_mob_pub{color:#666;}.gsc_mob_cbym{text-decoration:line-through}.gsc_mob_cbm{font-size:24px;position:absolute;padding:4px 0 0 4px;line-height:16px;}@media print{#gs_top #gs_gb,#gs_top #gsc_nag,#gs_top #gsc_rsb_lg_m,#gs_top #gsc_rsb_lg,#gs_top #gsc_prf_e,#gs_top #gsc_prf_ib,#gs_top #gsc_prf_ip,#gs_top #gsc_prf_ivh,#gs_top #gsc_prf_puf,#gs_top #gsc_rsb_ssc,#gs_top #gsc_rsb_co,#gs_top #gsc_rsb_vc,#gs_top #gsc_g,#gs_top #gsc_btn_add,#gs_top #gsc_btn_mer, #gs_top #gsc_btn_del,#gs_top #gsc_btn_expw,#gs_top #gsc_dd_mor-w,#gs_top .gsc_a_x,#gs_top #gsc_lwp,#gs_top #gsc_ftr_h{display:none;}#gs_top,#gs_top #gsc_bdy,#gs_top #gsc_prf_w,#gs_top #gsc_prf,#gs_top #gsc_prf_pu,#gs_top #gsc_prf_i,#gs_top .gsc_rsb_s,#gs_top .gsc_lcl,#gs_top #gsc_rsb,#gs_top #gsc_a_t,#gs_top .gsc_prf_il,#gs_top #gsc_rsb_st{background:none;border:none;padding:0;margin:0;height:auto;width:auto;min-width:0;max-width:none;float:none;display:block;position:static;color:black;font-weight:normal;font-size:12pt;}#gs_top .gsc_a_ac,#gs_top .gsc_a_a,#gs_top #gsc_a_ca,#gs_top .gsc_a_at,#gs_top .gsc_rsb_sc1,#gs_top .gsc_rsb_sth,#gs_top .gsc_rsb_std,#gs_top #gsc_bdy .gsc_a_x,#gs_top #gsc_bdy .gsc_a_t,#gs_top #gsc_bdy .gsc_a_c,#gs_top #gsc_bdy .gsc_a_y,#gs_top #gsc_a_trh,#gs_top .gsc_a_m,#gs_top .gsc_a_am{color:black;font-weight:normal;font-size:12pt;padding:0;margin:0;background:none;border:none;}#gs_top .gsc_a_ac{font-size:10pt}#gs_top #gsc_prf_pu{float:left;width:80pt;text-align:center;margin:0 7pt 7pt 0;}#gs_top #gsc_prf_i{margin:0 7pt 7pt 0;}#gs_top #gsc_prf_in{font-size:20pt;line-height:20pt;padding:0 0 4pt 0;}#gs_top #gsc_prf_w{float:left;width:64%;}#gs_top #gsc_rsb{float:right;width:35%;}#gs_top #gsc_rsb_st{display:table;width:100%;}#gs_top #gsc_rsb_t{display:block;text-align:right;line-height:20pt;padding-bottom:5pt;font-weight:bold;}#gs_top .gsc_rsb_sc1,#gs_top .gsc_rsb_sth,#gs_top .gsc_rsb_std{font-size:10pt;}#gs_top th.gsc_rsb_sc1,#gs_top .gsc_rsb_sth{border-bottom:1pt solid #ccc;}#gs_top .gsc_rsb_sth{padding-left:14pt;}#gs_top #gsc_bdy .gsc_a_x,#gs_top #gsc_bdy .gsc_a_t,#gs_top #gsc_bdy .gsc_a_c,#gs_top #gsc_bdy .gsc_a_y,#gs_top #gsc_a_trh{padding:6pt 0;}#gs_top #gsc_a_trh{border-bottom:1pt solid #ccc;}#gs_top #gsc_a_ca{display:block;width:auto;}#gs_top #gsc_a_ta,#gs_top #gsc_a_nn{display:inline-block;vertical-align:middle;margin-right:12pt;}#gs_top .gsc_a_h{display:inline;font-size:10pt;}#gs_top .gsc_a_at,#gs_top .gsc_prf_ila{color:blue;}#gs_top .gsc_a_m,#gs_top .gsc_a_am{display:inline;position:absolute;}#gs_top .gsc_a_am{padding: 11pt 0 0 8pt;}#gs_top .gsc_a_fix{position:static}#gs_top .gsc_a_t .gs_gray{color:black;font-size:10pt;}#gs_top #gsc_dscl{margin:12pt 0 0 0;color:black;}}</style><script>var gs_ie_ver=100;</script><!--[if lte IE 8]><script>gs_ie_ver=8;</script><![endif]--><script>function gs_id(i){return document.getElementById(i)}function gs_ch(e,t){return e?e.getElementsByTagName(t):[]}function gs_ech(e){return e.children||e.childNodes}function gs_atr(e,a){return e.getAttribute(a)}function gs_hatr(e,a){var n=e.getAttributeNode(a);return n&&n.specified}function gs_xatr(e,a,v){e.setAttribute(a,v)}function gs_uatr(e,a){e.removeAttribute(a)}function gs_catr(e,a,v){gs_hatr(e,a)&&gs_xatr(e,a,v)}function gs_ctai(e,v){gs_hatr(e,\\\"tabindex\\\")&&(e.tabIndex=v)}function gs_uas(s){return (navigator.userAgent||\\\"\\\").indexOf(s)>=0}var gs_is_tc=/[?&]tc=([01])/.exec(window.location.search||\\\"\\\"),gs_is_ios=gs_uas(\\\"iPhone\\\")||gs_uas(\\\"iPod\\\")||gs_uas(\\\"iPad\\\");if(gs_is_tc){gs_is_tc=parseInt(gs_is_tc[1]);}else if(window.matchMedia&&matchMedia(\\\"(pointer),(-moz-touch-enabled),(-moz-touch-enabled:0)\\\").matches){gs_is_tc=matchMedia(\\\"(pointer:coarse),(-moz-touch-enabled)\\\").matches;}else{gs_is_tc=0||('ontouchstart' in window)||(navigator.msMaxTouchPoints||0)>0;}var gs_re_sp=/\\\\s+/,gs_re_sel=/(?:^|\\\\s)gs_sel(?!\\\\S)/g,gs_re_par=/(?:^|\\\\s)gs_par(?!\\\\S)/g,gs_re_dis=/(?:^|\\\\s)gs_dis(?!\\\\S)/g,gs_re_vis=/(?:^|\\\\s)gs_vis(?!\\\\S)/g,gs_re_anm=/(?:^|\\\\s)gs_anm(?!\\\\S)/g,gs_re_bsp=/(?:^|\\\\s)gs_bsp(?!\\\\S)/g,gs_re_err=/(?:^|\\\\s)gs_err(?!\\\\S)/g,gs_re_nscl=/(?:^|\\\\s)gs_nscl(?!\\\\S)/g,gs_re_cb=/(?:^|\\\\s)gs_in_cb(?!\\\\S)/,gs_re_ra=/(?:^|\\\\s)gs_in_ra(?!\\\\S)/,gs_re_qsp=/[\\\\s\\\\u0000-\\\\u002f\\\\u003a-\\\\u0040\\\\u005b-\\\\u0060\\\\u007b-\\\\u00bf\\\\u2000-\\\\u206f\\\\u2e00-\\\\u2e42\\\\u3000-\\\\u303f\\\\uff00-\\\\uff0f\\\\uff1a-\\\\uff20\\\\uff3b-\\\\uff40\\\\uff5b-\\\\uff65]+/;function gs_xcls(e,c){gs_scls(e,e.className+\\\" \\\"+c)}function gs_ucls(e,r){gs_scls(e,e.className.replace(r,\\\"\\\"))}function gs_scls(e,c){return e.className!=c&&(e.className=c,true)}function gs_usel(e){gs_ucls(e,gs_re_sel)}function gs_xsel(e){gs_usel(e);gs_xcls(e,\\\"gs_sel\\\")}function gs_tsel(e){return e.className.match(gs_re_sel)}function gs_isel(e){(gs_tsel(e)?gs_usel:gs_xsel)(e)}function gs_upar(e){gs_ucls(e,gs_re_par)}function gs_xpar(e){gs_upar(e);gs_xcls(e,\\\"gs_par\\\")}function gs_tpar(e){return e.className.match(gs_re_par)}function gs_udis(e){gs_ucls(e,gs_re_dis)}function gs_xdis(e){gs_udis(e);gs_xcls(e,\\\"gs_dis\\\")}function gs_tdis(e){return e.className.match(gs_re_dis)}function gs_uvis(e){gs_ucls(e,gs_re_vis)}function gs_xvis(e){gs_uvis(e);gs_xcls(e,\\\"gs_vis\\\")}function gs_uanm(e){gs_ucls(e,gs_re_anm)}function gs_xanm(e){gs_uanm(e);gs_xcls(e,\\\"gs_anm\\\")}function gs_ubsp(e){gs_ucls(e,gs_re_bsp)}function gs_xbsp(e){gs_ubsp(e);gs_xcls(e,\\\"gs_bsp\\\")}function gs_uerr(e){gs_ucls(e,gs_re_err)}function gs_xerr(e){gs_uerr(e);gs_xcls(e,\\\"gs_err\\\")}function gs_unscl(e){gs_ucls(e,gs_re_nscl)}function gs_xnscl(e){gs_unscl(e);gs_xcls(e,\\\"gs_nscl\\\")}var gs_gcs=window.getComputedStyle?function(e){return getComputedStyle(e,null)}:function(e){return e.currentStyle};var gs_ctd=function(){var s=document.documentElement.style,p,l=['OT','MozT','webkitT','t'],i=l.length;function f(s){return Math.max.apply(null,(s||\\\"\\\").split(\\\",\\\").map(parseFloat))||0;}do{p=l[--i]+'ransition'}while(i&&!(p in s));return i?function(e){var s=gs_gcs(e);return f(s[p+\\\"Delay\\\"])+f(s[p+\\\"Duration\\\"]);}:function(){return 0};}();var gs_tmh=function(){var X,P={};return {a:function(e){var t=pageYOffset+e.getBoundingClientRect().bottom;X=X||gs_id(\\\"gs_top\\\");if(e.id){P[e.id]=1;t>X.offsetHeight&&(X.style.minHeight=t+\\\"px\\\");}},r:function(e){if(e.id&&X){delete P[e.id];if(!Object.keys(P).length){X.style.minHeight=\\\"\\\";}}}}}();var gs_vis=function(){return function(e,v,c){var s=e&&e.style,h,f;if(s){gs_catr(e,\\\"aria-hidden\\\",v?\\\"false\\\":\\\"true\\\");if(v){s.display=v===2?\\\"inline\\\":\\\"block\\\";gs_ctd(e);gs_xvis(e);f=gs_ctd(e);gs_uas(\\\"AppleWebKit\\\")&&f&&gs_evt_one(e,\\\"transitionend webkitTransitionEnd\\\",function(){gs_tmh.a(e);});c&&(f?setTimeout(c,1000*f):c());}else{gs_uvis(e);h=function(){s.display=\\\"none\\\";gs_tmh.r(e);c&&c();};f=gs_ctd(e);f?setTimeout(h,1000*f):h();}}};}();function gs_visi(i,v,c){gs_vis(gs_id(i),v,c)}function gs_sel_clk(p,t){var l=gs_ch(gs_id(p),\\\"li\\\"),i=l.length,c,x,s;while(i--){if((c=gs_ch(x=l[i],\\\"a\\\")).length){s=c[0]===t;(s?gs_xsel:gs_usel)(x);gs_catr(c[0],\\\"aria-selected\\\",s?\\\"true\\\":\\\"false\\\");}}return false;}function gs_efl(f){if(typeof f==\\\"string\\\"){var c=f.charAt(0),x=f.slice(1);if(c===\\\"#\\\")f=function(t){return t.id===x};else if(c===\\\".\\\")f=function(t){return (\\\" \\\"+t.className+\\\" \\\").indexOf(\\\" \\\"+x+\\\" \\\")>=0};else{c=f.toLowerCase();f=function(t){return t.nodeName.toLowerCase()===c};}}return f;}function gs_dfcn(d){return (d?\\\"last\\\":\\\"first\\\")+\\\"Child\\\"}function gs_dnsn(d){return (d?\\\"previous\\\":\\\"next\\\")+\\\"Sibling\\\"}var gs_trv=function(){function h(r,x,f,s,n,c){var t,p;while(x){if(x.nodeType===1){if(f(x)){if(c)return x;}else{for(p=x[s];p;p=p[n])if(t=h(p,p,f,s,n,1))return t;}}c=1;while(1){if(x===r)return;p=x.parentNode;if(x=x[n])break;x=p;}}}return function(r,x,f,d){return h(r,x,gs_efl(f),gs_dfcn(d),gs_dnsn(d))};}();function gs_bind(){var a=Array.prototype.slice.call(arguments),f=a.shift();return function(){return f.apply(null,a.concat(Array.prototype.slice.call(arguments)))};}function gs_evt1(e,n,f){e.addEventListener(n,f,false)}function gs_uevt1(e,n,f){e.removeEventListener(n,f,false)}if(!window.addEventListener){gs_evt1=function(e,n,f){e.attachEvent(\\\"on\\\"+n,f)};gs_uevt1=function(e,n,f){e.detachEvent(\\\"on\\\"+n,f)};}function gs_evtX(e,n,f,w){var i,a;typeof n===\\\"string\\\"&&(n=n.split(\\\" \\\"));for(i=n.length;i--;)(a=n[i])&&w(e,a,f);}function gs_evt(e,n,f){gs_evtX(e,n,f,gs_evt1)}function gs_uevt(e,n,f){gs_evtX(e,n,f,gs_uevt1)}function gs_evt_one(e,n,f){function g(E){gs_uevt(e,n,g);f(E);}gs_evt(e,n,g);}function gs_evt_all(l,n,f){for(var i=l.length;i--;){gs_evt(l[i],n,gs_bind(f,l[i]))}}function gs_evt_dlg(p,c,n,f){p!==c&&(c=gs_efl(c));gs_evt(p,n,p===c?function(e){f(p,e)}:function(e){var t=gs_evt_tgt(e);while(t){if(c(t))return f(t,e);if(t===p)return;t=t.parentNode;}});}function gs_evt_sms(v){var L=[],l=[\\\"mousedown\\\",\\\"click\\\"],i=l.length;function s(e){for(var l=L,n=l.length,i=0,x=e.clientX,y=e.clientY;i<n;i+=2){if(Math.abs(x-l[i])<10&&Math.abs(y-l[i+1])<10){gs_evt_ntr(e);break;}}}while(i--)document.addEventListener(l[i],s,true);gs_evt_sms=function(e){var l=e.changedTouches||[],h=l[0]||{};L.push(h.clientX,h.clientY);setTimeout(function(){L.splice(0,2)},2000);};gs_evt_sms(v);v=0;}function gs_evt_clk(e,f,w,k){return gs_evt_dlg_clk(e,e,function(t,e){f(e)},w,k);}function gs_evt_dlg_clk(p,c,f,w,k){k=\\\",\\\"+(k||[13,32]).join(\\\",\\\")+\\\",\\\";return gs_evt_dlg_xclk(p,c,function(t,e){if(e.type==\\\"keydown\\\"){if(k.indexOf(\\\",\\\"+e.keyCode+\\\",\\\")<0)return;gs_evt_ntr(e);}f(t,e);},w);}function gs_evt_xclk(e,f,w){return gs_evt_dlg_xclk(e,e,function(t,e){f(e)},w);}function gs_evt_dlg_xclk(p,c,f,w){var T,S=0,X=0,Y=0,O=0,V=0;function u(t,e){var n=e.type,h,l;if(t!==T){T=t;S=0;}if(!gs_evt_spk(e)){if(n===\\\"mousedown\\\"){if(w!==2)return S=0;S=1;}else if(n===\\\"click\\\"){if(S){gs_evt_ntr(e);return S=0;}}else if(n===\\\"touchstart\\\"&&w){if(e.timeStamp-V<200){gs_evt_ntr(e);return S=0;}if(w===2){S=0;}else{if((l=e.touches).length!==1)return S=-3;h=l[0];X=h.pageX;Y=h.pageY;O=pageYOffset;return S=3;}}else if(n===\\\"touchcancel\\\"){return S=0;}else if(n===\\\"touchend\\\"&&w){gs_evt_sms(e);V=e.timeStamp;if(w===2){gs_evt_ntr(e);return S=0;}if(S!==3||(l=e.changedTouches).length!==1||Math.abs(X-(h=l[0]).pageX)>10||Math.abs(Y-h.pageY)>10||Math.abs(O-pageYOffset)>1){return S=(e.touches.length?-4:0);}S=0;}else if(n===\\\"keydown\\\"){f(t,e);return;}else if(n===\\\"keyup\\\"){e.keyCode===32&&gs_evt_pdf(e);return;}else{return}gs_evt_ntr(e);f(t,e);}}gs_evt_dlg(p,c,[\\\"keydown\\\",\\\"keyup\\\",\\\"click\\\"].concat(w?[\\\"mousedown\\\"].concat((w===2?1:0)?[\\\"touchstart\\\",\\\"touchend\\\",\\\"touchcancel\\\"]:[]):[]),u);return u;}function gs_evt_inp(e,f){gs_evt(e,[\\\"input\\\",\\\"keyup\\\",\\\"cut\\\",\\\"paste\\\",\\\"change\\\",\\\"gs-change\\\"],function(){setTimeout(f,0)});}function gs_evt_fcs(e,f){e.addEventListener(\\\"focus\\\",f,true)}function gs_evt_blr(e,f){e.addEventListener(\\\"blur\\\",f,true)}if(\\\"onfocusin\\\" in document){gs_evt_fcs=function(e,f){gs_evt(e,\\\"focusin\\\",f)};gs_evt_blr=function(e,f){gs_evt(e,\\\"focusout\\\",f)};}function gs_evt_stp(e){e.cancelBubble=true;e.stopPropagation&&e.stopPropagation();return false;}function gs_evt_pdf(e){e.returnValue=false;e.preventDefault&&e.preventDefault();}function gs_evt_ntr(e){gs_evt_stp(e);gs_evt_pdf(e);}function gs_evt_tgt(e){var t=e.target||e.srcElement;t&&t.nodeType===3&&(t=t.parentNode);return t;}function gs_evt_spk(e){return (e.ctrlKey?1:0)|(e.altKey?2:0)|(e.metaKey?4:0)|(e.shiftKey?8:0);}function gs_evt_crt(d,t){if(document.createEvent){var e=document.createEvent('Event');e.initEvent(t,!0,!0);d.dispatchEvent(e);}}function gs_tfcs(t){if(!gs_is_tc||(gs_uas(\\\"Windows\\\")&&!gs_uas(\\\"Windows Phone\\\"))){t.focus();t.value=t.value;}}var gs_raf=window.requestAnimationFrame||window.webkitRequestAnimationFrame||window.mozRequestAnimationFrame||function(c){setTimeout(c,33)};var gs_evt_rdy=function(){var d=document,l=[],h=function(){var n=l.length,i=0;while(i<n)l[i++]();l=[];};gs_evt(d,\\\"DOMContentLoaded\\\",h);gs_evt(d,\\\"readystatechange\\\",function(){var s=d.readyState;(s==\\\"complete\\\"||(s==\\\"interactive\\\"&&gs_id(\\\"gs_rdy\\\")))&&h();});gs_evt(window,\\\"load\\\",h);return function(f){l.push(f)};}();function gs_evt_raf(e,n){var l=[],t=0,h=function(){var x=l,n=x.length,i=0;while(i<n)x[i++]();t=0;};return function(f){l.length||gs_evt(e,n,function(){!t++&&gs_raf(h)});l.push(f);};}var gs_evt_wsc=gs_evt_raf(window,\\\"scroll\\\"),gs_evt_wre=gs_evt_raf(window,\\\"resize\\\");var gs_md_st=[],gs_md_lv={},gs_md_fc={},gs_md_if,gs_md_is=0;function gs_md_ifc(d,f){gs_md_fc[d]=f}function gs_md_sif(){gs_md_if=1;setTimeout(function(){gs_md_if=0},0);}function gs_md_plv(n){var l=gs_md_lv,x=0;while(n&&!x){x=l[n.id]||0;n=n.parentNode;}return x;}gs_evt(document,\\\"click\\\",function(e){var m=gs_md_st.length;if(m&&!gs_evt_spk(e)&&m>gs_md_plv(gs_evt_tgt(e))){(gs_md_st.pop())();gs_evt_pdf(e);}});gs_evt(document,\\\"keydown\\\",function(e){e.keyCode==27&&!gs_evt_spk(e)&&gs_md_st.length&&(gs_md_st.pop())();});gs_evt(document,\\\"selectstart\\\",function(e){gs_md_is&&gs_evt_pdf(e)});gs_evt_fcs(document,function(e){var l=gs_md_lv,m=gs_md_st.length,x,k,v,d;if(m&&!gs_md_if){x=gs_md_plv(gs_evt_tgt(e));while(x<m){v=0;for(k in l)l.hasOwnProperty(k)&&l[k]>v&&(v=l[d=k]);if(v=gs_md_fc[d]){gs_evt_stp(e);gs_id(v).focus();break;}else{(gs_md_st.pop())(1);--m;!gs_md_is++&&setTimeout(function(){gs_md_is=0},1000);}}}});function gs_md_cls(d,e){var x=gs_md_lv[d]||1e6;while(gs_md_st.length>=x)(gs_md_st.pop())();return gs_evt_stp(e);}function gs_md_shw(d,e,o,c){if(!gs_md_lv[d]){var x=gs_md_plv(gs_id(d));while(gs_md_st.length>x)(gs_md_st.pop())();o&&o();gs_md_st.push(function(u){gs_md_lv[d]=0;c&&c(u);});gs_md_lv[d]=gs_md_st.length;return gs_evt_stp(e);}}function gs_md_opn(d,e,c,z){var a=document.activeElement;return gs_md_shw(d,e,gs_bind(gs_visi,d,1),function(u){gs_visi(d,0,z);try{u||a.focus()}catch(_){}c&&c(u);});}function gs_evt_md_mnu(d,b,f,a,w){var O,X;d=gs_id(d);b=gs_id(b);f=f?gs_efl(f):function(t){return (gs_hatr(t,\\\"data-a\\\")||t.nodeName===\\\"A\\\"&&t.href)&&t.offsetWidth;};a=a||function(t){var c=gs_atr(t,\\\"data-a\\\");c?eval(c):t.nodeName===\\\"A\\\"&&t.href&&(location=t.href);};function u(e){if(e.type==\\\"keydown\\\"){var k=e.keyCode;if(k==38||k==40){if(O){try{gs_trv(d,d,f,k==38).focus()}catch(_){}gs_evt_ntr(e);return;}}else if(k!=13&&k!=32){return;}gs_evt_pdf(e);}if(O){gs_md_cls(d.id,e);}else{gs_md_sif();O=1;gs_xsel(b);gs_md_opn(d.id,e,function(){O=0;gs_usel(b);try{X.blur()}catch(_){}});w&&w();}}function c(x,r){var p=x.parentNode,c=gs_ech(p),i=c.length,l=\\\"offsetLeft\\\";if(p!==d){while(c[--i]!==x);p=p[gs_dnsn(r)]||p.parentNode[gs_dfcn(r)];c=gs_ech(p);if(i=Math.min(i+1,c.length)){p=c[i-1];if(p.nodeType==1&&f(p)&&p[l]!=x[l])return p;}}}function g(t,e){function m(x){if(x){gs_evt_ntr(e);x.focus();}}if(O){if(e.type==\\\"keydown\\\"){var k=e.keyCode;if(k==13||k==32){}else{if(k==38||k==40){m(gs_trv(d,t,f,k==38)||gs_trv(d,d,f,k==38));}else if(k==37||k==39){m(c(t,k==37));}return;}}gs_md_cls(d.id,e);gs_evt_pdf(e);gs_md_sif();a(t);}}gs_evt_xclk(b,u,2);gs_evt_fcs(d,function(e){var x=gs_evt_tgt(e);if(x&&f(x)){gs_ctai(x,0);X=x;}});gs_evt_blr(d,function(e){var x=gs_evt_tgt(e);if(x&&f(x)){gs_ctai(x,-1);X=0;}});gs_evt_dlg_xclk(d,f,g,1);return u;}function gs_evt_md_sel(d,b,h,c,s,u){h=gs_id(h);c=gs_id(c);s=gs_id(s);return gs_evt_md_mnu(d,b,function(t){return gs_hatr(t,\\\"data-v\\\")},function(t){h.innerHTML=t.innerHTML;c.value=gs_atr(t,\\\"data-v\\\");if(t!==s){gs_usel(s);gs_uatr(s,\\\"aria-selected\\\");gs_xsel(s=t);gs_xatr(s,\\\"aria-selected\\\",\\\"true\\\");}gs_evt_crt(c,\\\"gs-change\\\");u&&u();},function(){s.focus()});}function gs_xhr(){if(window.XMLHttpRequest)return new XMLHttpRequest();var c=[\\\"Microsoft.XMLHTTP\\\",\\\"MSXML2.XMLHTTP\\\",\\\"MSXML2.XMLHTTP.3.0\\\",\\\"MSXML2.XMLHTTP.6.0\\\"],i=c.length;while(i--)try{return new ActiveXObject(c[i])}catch(e){}}function gs_ajax(u,d,c){var r=gs_xhr();r.onreadystatechange=function(){r.readyState==4&&c(r.status,r.responseText);};r.open(d?\\\"POST\\\":\\\"GET\\\",u,true);d&&r.setRequestHeader(\\\"Content-Type\\\",\\\"application/x-www-form-urlencoded\\\");d?r.send(d):r.send();}var gs_json_parse=\\\"JSON\\\" in window?function(s){return JSON.parse(s)}:function(s){return eval(\\\"(\\\"+s+\\\")\\\")};function gs_frm_ser(e,f){var i=e.length,r=[],x,n,t;while(i--){x=e[i];n=encodeURIComponent(x.name||\\\"\\\");t=x.type;n&&(!f||f(x))&&!x.disabled&&((t!=\\\"checkbox\\\"&&t!=\\\"radio\\\")||x.checked)&&r.push(n+\\\"=\\\"+encodeURIComponent(x.value||\\\"\\\"));}return r.join(\\\"&\\\");}function gs_btn_ssp(b,v){  var x=gs_id(b);  (v?gs_xbsp:gs_ubsp)(x);  x.disabled=!!v;}function gs_evt_frm_ajax(f,b,a){var Z=f.elements,H={},x,y,i=Z.length;while(i--){x=Z[i];y=x.nextSibling;if(y&&x.name&&x.type==\\\"text\\\")H[x.name]=y.innerHTML;}function s(e){var p=\\\"json=&\\\"+gs_frm_ser(Z);b&&b();gs_ajax(f.action,p,function(c,t){if(c!=200){a&&a(c);return}var p=gs_json_parse(t),l=p[\\\"L\\\"],g,m;if(l){a&&a(c,p);location=l;return}g=p[\\\"E\\\"];for(i in H){x=Z[i];m=g[i];y=x.nextSibling;gs_scls(x,\\\"gs_in_txt\\\"+(m?\\\" gs_in_txte\\\":\\\"\\\"));gs_scls(y,\\\"gs_in_txts \\\"+(m?\\\"gs_red\\\":\\\"gs_gray\\\"));y.innerHTML=m||H[i];gs_vis(y,y.innerHTML?1:0);}a&&a(c,p);});e&&gs_evt_pdf(e);};gs_evt(f,\\\"submit\\\",s);return s;}var gs_rlst,gs_wlst;!function(U){var L={},S;try{S=window.localStorage}catch(_){}gs_rlst=function(k,s){if(s||!(k in L)){var v=S&&S[k];if(v)try{v=JSON.parse(v)}catch(_){v=U}else v=U;L[k]=v;}return L[k];};gs_wlst=function(k,v){L[k]=v;try{S&&(S[k]=JSON.stringify(v))}catch(_){}};}();function gs_ac_nrm(q,t){q=(q||\\\"\\\").toLowerCase().split(gs_re_qsp).join(\\\" \\\");q[0]==\\\" \\\"&&(q=q.substr(1));var s=q.length-1;t&&q[s]==\\\" \\\"&&(q=q.substr(0,s));return q;}function gs_ac_get(Q){var h=gs_rlst(\\\"H:\\\"+Q),t={\\\"\\\":1},i=0,j=0,n,v,q;(h instanceof Array)||(h=[]);for(n=h.length;i<n;i++){((v=h[i]) instanceof Array)&&v.length==3||(v=h[i]=[0,0,\\\"\\\"]);v[0]=+v[0]||0;v[1]=+v[1]||0;q=v[2]=gs_ac_nrm(\\\"\\\"+v[2],1);t[q]||(t[q]=1,h[j++]=v);}h.splice(Math.min(j,50),n);return h;}function gs_ac_fre(t){return Math.exp(.0231*((Math.max(t-1422777600,0)/86400)|0));}function gs_ac_add(Q,q,d){var h=gs_ac_get(Q),n=h.length,t=1e-3*(new Date()),m=0,x;if(q=gs_ac_nrm(q,1)){d=d||t;while(m<n&&h[m][2]!=q)++m;m<n||h.push([0,0,q]);if(d-h[m][0]>1){h[m][0]=d;h[m][1]=Math.min(h[m][1]+gs_ac_fre(d),10*gs_ac_fre(t));while(m&&h[m][1]>h[m-1][1]){x=h[m];h[m]=h[m-1];h[--m]=x;}h.splice(50,h.length);gs_wlst(\\\"H:\\\"+Q,h);}}}var gs_evt_el=function(W,D,L){function p(){var r=D.documentElement,w=W.innerWidth||r.offsetWidth,h=W.innerHeight||r.offsetHeight,m=\\\"\\\",n,i;if(w&&h){if(gs_is_ios){var S=W.screen||{},w2=S.width,h2=S.height,t;if(w>h&&w2<h2){t=w2;w2=h2;h2=t;}w2&&w2<w&&(w=w2);h2&&h2<h&&(h=h2);}if(w<600)m=\\\"gs_el_sm gs_el_ph\\\";else if(w<982)m=\\\"gs_el_sm gs_el_ta\\\";else if(w<1060||h<590)m=\\\"gs_el_sm\\\";else if(w<1252||h<640)m=\\\"gs_el_me\\\";gs_is_tc&&(m+=\\\" gs_el_tc\\\");gs_is_ios&&(m+=\\\" gs_el_ios\\\");if(gs_scls(r,m))for(n=L.length,i=0;i<n;)L[i++]();}}p();gs_evt_wre(p);gs_evt(W,[\\\"pageshow\\\",\\\"load\\\"],p);return function(f){f();L.push(f)};}(window,document,[]);!function(B,U){gs_evt(document,(B&&\\\"1\\\"?[]:[\\\"mousedown\\\",\\\"touchstart\\\"]).concat([\\\"contextmenu\\\",\\\"click\\\"]),function(e){var t=gs_evt_tgt(e),a=\\\"data-clk\\\",w=window,r=document.documentElement,p=\\\"http://scholar.google.com\\\"||\\\"http://\\\"+location.host,n,h,c,u;while(t){n=t.nodeName;if(n===\\\"A\\\"&&(h=gs_ie_ver<=8?t.getAttribute(\\\"href\\\",2):gs_atr(t,\\\"href\\\"))&&(c=gs_atr(t,a))){u=\\\"/scholar_url?url=\\\"+encodeURIComponent(h)+\\\"&\\\"+c+\\\"&ws=\\\"+(w.innerWidth||r.offsetWidth||0)+\\\"x\\\"+(w.innerHeight||r.offsetHeight||0);if(c.indexOf(\\\"&scisig=\\\")>0){gs_xatr(t,\\\"href\\\",p+u);gs_uatr(t,a);}else if(B){B.call(navigator,u);}else if(u!=U.src){(U=new Image()).src=u;setTimeout(function(){U={};},1000);}break;}t=(n===\\\"SPAN\\\"||n===\\\"B\\\"||n===\\\"I\\\"||n===\\\"EM\\\")&&t.parentNode;}});}(navigator.sendBeacon,{});function gs_is_cb(e){var n=e.className||\\\"\\\";return n.match(gs_re_cb)||n.match(gs_re_ra);}function gs_ssel(e){}(function(d){function c(){var v=l,i=v.length,k=p,e,x=gs_id(\\\"gs_top\\\");if(x&&!r){gs_evt(x,\\\"click\\\",function(){});r=1;if(!s){clearInterval(t);t=null}}p=i;while(i-->k)gs_is_cb((e=v[i]).parentNode)&&gs_ssel(e);}var s=gs_ie_ver<=8,l=[],p=0,t=setInterval(c,200),r;gs_evt_rdy(function(){c();l=[];clearInterval(t)});if(!s&&gs_is_tc){s=/AppleWebKit\\\\/([0-9]+)/.exec(navigator.userAgent||\\\"\\\");s=s&&parseInt(s[1])<535;}if(!s)return;l=gs_ch(d,\\\"input\\\");gs_ssel=function(e){var p=e.parentNode,l,i,r;(e.checked?gs_xsel:gs_usel)(p);if(p.className.match(gs_re_ra)){l=e.form.elements[e.name]||[];for(i=l.length;i--;)((r=l[i]).checked?gs_xsel:gs_usel)(r.parentNode);}};gs_evt(d,\\\"click\\\",function(e){var x=gs_evt_tgt(e),p=x.parentNode;gs_is_cb(p)&&x.nodeName===\\\"INPUT\\\"&&gs_ssel(x);});})(document);function gs_cb_set(d,s,i){(s==1?gs_xsel:gs_usel)(d);(s==2?gs_xpar:gs_upar)(d);gs_xatr(d,\\\"aria-checked\\\",[\\\"false\\\",\\\"true\\\",\\\"mixed\\\"][s]);i||gs_xatr(d,\\\"data-s\\\",\\\"\\\"+s);}function gs_cb_get(e){return !!gs_tsel(e)+2*!!gs_tpar(e)}function gs_cb_ch(e){return +gs_atr(e,\\\"data-s\\\")!=gs_cb_get(e);}gs_evt_dlg(document,function(t){return (\\\" \\\"+t.className+\\\" \\\").indexOf(\\\" gs_cb_gen \\\")>=0;},\\\"click\\\",function(t,e){var i=+gs_atr(t,\\\"data-s\\\");i!=2?gs_isel(t):gs_cb_set(t,[2,0,1][gs_cb_get(t)],true);gs_evt_crt(t,'gs-change');});</script><script>function gsc_scroll_right(x){x.scrollLeft=x.scrollWidth;}var gsc_art_sel_l=[];function gsc_evt_art_sel(f){gsc_art_sel_l.push(f)}var gsc_art_sel_p=[];function gsc_art_sel_chg(x){var l=gsc_art_sel_l,n=l.length,i=0;while(i<n)l[i++](x);}function gsc_art_cbs(){return gs_ch(gs_id(\\\"gsc_a_t\\\"),\\\"input\\\")}function gsc_art_sel_cbs(l){l=l||gsc_art_cbs();var i=l.length,c,s=[];while(i--)(c=l[i]).checked&&s.push(c);return s;}function gsc_art_sids(l){l=l||gsc_art_cbs();var i=l.length,c,s=[];while(i--)(c=l[i]).checked&&s.push(c.value);return s;}function gsc_art_sel(v,l){l=l||gsc_art_cbs();var i=l.length,x;while(i--){(x=l[i]).checked=!!v;gs_ssel(x)}gsc_art_sel_chg(true);}gs_evt_rdy(function(){gsc_art_sel_chg();gs_evt_dlg(gs_id(\\\"gsc_a_t\\\"),\\\"input\\\",\\\"change\\\",function(){gsc_art_sel_chg();});var x=gs_id(\\\"gsc_x_all\\\");x&&gs_evt(x,\\\"gs-change\\\",function(){var s=gs_cb_get(x);gsc_art_sel(s!=0,s==2&&gsc_art_sel_p);});});function gsc_btn_sdis(b,d){b.disabled=!!d;(d?gs_xdis:gs_udis)(b);}function gsc_tr_add(b,h){try{b.innerHTML+=h}catch(_){var d=document.createElement(\\\"div\\\"),r,c,i,n;d.innerHTML=\\\"<table>\\\"+h+\\\"</table>\\\";r=gs_ch(d,\\\"tr\\\");for(i=0,n=r.length,c=[];i<n;i++)c.push(r[i]);for(i=0;i<n;i++)b.appendChild(c[i]);}}function gsc_rsb_mco(x,w){var f=gs_id(\\\"gsc_rsb_mco\\\"),e=f.elements;e.colleague.value=x;e.add_colleague_btn.disabled=!!w;e.del_sugg_coll_btn.disabled=!w;f.submit();return false;}function gsc_prf_ed(w){gs_scls(gs_id(\\\"gsc_bdy\\\"),w?\\\"gsc_prf_ed\\\":\\\"\\\");}gsc_evt_art_sel(function(x){var v,n,k=gsc_art_cbs(),m=gs_id(\\\"gsc_btn_mer\\\"),o=gs_id(\\\"gsc_x_all\\\");if(m){p=gsc_art_sel_cbs(k);n=p.length;gsc_btn_sdis(m,n<2||n>5);if(!x&&o){gs_cb_set(o,v=n&&2-(n==k.length));v==2&&(gsc_art_sel_p=p);}gs_scls(gs_id(\\\"gsc_a_hd\\\"),n?\\\"gsc_art_sel\\\":\\\"\\\");}});function gsc_art_export(f){var l=gsc_art_cbs(),s=gsc_art_sids(l);gsc_md_show_exa(s,s.length==l.length,f,{});}gs_evt_rdy(function(){var m=gs_id(\\\"gsc_btn_mer\\\");m&&gs_evt(m,\\\"click\\\",function(e){gsc_md_show_mopt(gsc_art_sids(),e);});var p=gs_id(\\\"gsc_prf_puf\\\"),u;if(p){u=p.elements.upload_file;gs_evt(gs_id(\\\"gsc_prf_pufb\\\"),\\\"click\\\",function(e){if(gs_uas(\\\"MSIE \\\")||gs_uas(\\\"Trident\\\")){gs_scls(p,\\\"gsc_prf_pufo\\\");gs_md_opn(\\\"gsc_prf_pufi\\\",e,function(){gs_scls(p,\\\"\\\")});u.focus();}else{u.click();}});gs_evt(u,\\\"change\\\",function(){p.submit()});}});gs_evt_rdy(function(){var h=window.location.href,s=parseInt(h.replace(/.*[?&]cstart=([0-9]*).*/,\\\"$1\\\"))||0,n=parseInt(h.replace(/.*[?&]pagesize=([0-9]*).*/,\\\"$1\\\"))||20,P=gs_id(\\\"gsc_bpf_prev\\\"),N=gs_id(\\\"gsc_bpf_next\\\"),M=gs_id(\\\"gsc_bpf_more\\\");function t(){return Math.max(Math.min(n,100),20)}n=t();function p(k,m){return (h.replace(/([?&])(cstart|pagesize)=[^&]*/g,\\\"$1\\\")+\\\"&cstart=\\\"+k+\\\"&pagesize=\\\"+m).replace(/([?&])&+/,\\\"$1\\\");}gs_evt(P,\\\"click\\\",function(){location=p(s-t(),t())});gs_evt(N,\\\"click\\\",function(){location=p(s+n,t())});gs_evt(M,\\\"click\\\",function(){var m=n<100?100-n:100,x=gs_id(\\\"gsc_a_sp\\\"),g=gs_id(\\\"gsc_a_err\\\");gs_vis(g,0);gs_vis(x,1);gs_ajax(p(s+n,m),\\\"json=1\\\",function(c,t){var r=c==200&&gs_json_parse(t),b=gs_id(\\\"gsc_a_b\\\");gs_vis(x,0);if(r){gsc_tr_add(b,r[\\\"B\\\"]);n+=m;(gs_id(\\\"gsc_a_nn\\\")||{}).innerHTML=(s+1)+\\\"&ndash;\\\"+(s+gs_ch(b,\\\"tr\\\").length);gsc_btn_sdis(P,!r[\\\"P\\\"]||s<=0);gsc_btn_sdis(N,!r[\\\"N\\\"]);gsc_btn_sdis(M,!r[\\\"N\\\"]||n>=1000);gsc_art_sel_chg();}else{gs_vis(g,1);}});});});gs_evt_rdy(function(){var f=gs_id(\\\"gsc_rsb_f_m\\\"),i=gs_id(\\\"gsc_rsb_fin_m\\\"),b=gs_id(\\\"gsc_rsb_fbt_m\\\");gs_evt_blr(f,function(){setTimeout(function(){var a=document.activeElement;a!==i&&a!==b&&gs_scls(f,\\\"gsc_rsb_foff\\\");},0);});gs_evt(f,\\\"submit\\\",function(e){  if(f.className){gs_scls(f,\\\"\\\");setTimeout(function(){i.focus();},1000*gs_ctd(i));      gs_evt_pdf(e);  }else if(!i.value){      gs_scls(f,\\\"gsc_rsb_foff\\\");gs_evt_pdf(e);  }});});</script><title>Jeff Leek - Google Scholar Citations</title><link rel=\\\"canonical\\\" href=\\\"http://scholar.google.com/citations?user=HI-I6C0AAAAJ&amp;hl=en\\\"></head><body><div id=\\\"gs_top\\\"><style>#gs_gb{position:relative;height:30px;background:#2d2d2d;font-size:13px;line-height:16px;-webkit-backface-visibility:hidden;}#gs_gb_lt,#gs_gb_rt,#gs_gb_lp{position:absolute;top:0;white-space:nowrap;}#gs_gb_lt{left:22px}.gs_el_sm #gs_gb_lt{left:6px}.gs_el_ph #gs_gb_lt{display:none}#gs_gb_lp{display:none}#gs_gb_lp:hover,#gs_gb_lp:focus,#gs_gb_lp:active{-webkit-filter:brightness(100%);}.gs_el_ph #gs_gb_lp{display:block;z-index:1;cursor:pointer;top:8px;left:8px;width:48px;height:16px;background:no-repeat url('/intl/en/scholar/images/1x/googlelogo_bbb_color_48x16dp.png');background-size:48px 16px;}@media(-webkit-min-device-pixel-ratio:1.5),(min-resolution:144dpi){.gs_el_ph #gs_gb_lp{background-image:url('/intl/en/scholar/images/2x/googlelogo_bbb_color_48x16dp.png');}}#gs_gb_rt{right:22px}.gs_el_sm #gs_gb_rt{right:6px}.gs_el_ta #gs_gb_rt,.gs_el_ph #gs_gb_rt{right:0}#gs_gb_lt a:link,#gs_gb_lt a:visited,#gs_gb_rt a:link,#gs_gb_rt a:visited{display:inline-block;vertical-align:top;height:29px;line-height:27px;padding:2px 10px 0 10px;font-weight:bold;color:#bbb;cursor:pointer;text-decoration:none;}#gs_gb_rt a:link,#gs_gb_rt a:visited{padding:2px 8px 0 8px}#gs_gb_lt a:hover,#gs_gb_lt a:focus,#gs_gb_lt a:active,#gs_gb_rt a:hover,#gs_gb_rt a:focus,#gs_gb_rt a:active{color:white;outline:none;}#gs_gb_ac{top:30px;left:auto;right:6px;width:288px;white-space:normal;}#gs_gb_aw,#gs_gb_ap,.gs_gb_am,#gs_gb_ab{display:block;padding:10px 20px;word-wrap:break-word;}#gs_gb_aw{background:#fef9db;font-size:11px;}#gs_gb_ap,.gs_gb_am{border-bottom:1px solid #ccc;}#gs_gb_aa:link,#gs_gb_aa:visited{float:right;margin-left:8px;color:#1a0dab;}#gs_gb_aa:active{color:#d14836}.gs_gb_am:link,.gs_gb_am:visited{color:#222;text-decoration:none;background:#fbfbfb;}.gs_gb_am:hover,.gs_gb_am:focus{background:#f1f1f1}.gs_gb_am:active{background:#eee}#gs_gb_ab{background:#fbfbfb;overflow:auto;}#gs_gb_aab{float:left}#gs_gb_aso{float:right}</style><div id=\\\"gs_gb\\\" role=\\\"navigation\\\"><div id=\\\"gs_gb_lt\\\"><a href=\\\"//www.google.com/webhp?hl=en&amp;\\\">Web</a><a href=\\\"//www.google.com/imghp?hl=en&amp;\\\">Images</a><a href=\\\"//www.google.com/intl/en/options/\\\">More&hellip;</a></div><a id=\\\"gs_gb_lp\\\" aria-label=\\\"Web\\\" href=\\\"//www.google.com/webhp?hl=en&\\\"></a><div id=\\\"gs_gb_rt\\\"><a href=\\\"https://accounts.google.com/Login?hl=en&amp;continue=http://scholar.google.com/citations%3Fuser%3DHI-I6C0AAAAJ%26hl%3Den\\\">Sign in</a></div></div><!--[if lte IE 9]><div class=\\\"gs_alrt\\\" style=\\\"padding:16px\\\"><div>Sorry, some features may not work in this version of Internet Explorer.</div><div>Please use <a href=\\\"//www.google.com/chrome/\\\">Google Chrome</a> or <a href=\\\"//www.mozilla.com/firefox/\\\">Mozilla Firefox</a> for the best experience.</div></div><![endif]--><style>html,body{height:100%}#gs_top{min-height:100%}#gs_md_s,#gs_md_w{z-index:1200;position:absolute;top:0;left:0;width:100%;height:100%;}#gs_md_s{background:#666;filter:alpha(opacity=50);-ms-filter:\\\"alpha(opacity=50)\\\";opacity:.5;}.gs_md_d{position:relative;padding:28px 32px;margin:0 auto;width:400px;-moz-box-shadow:2px 2px 8px rgba(0,0,0,.65);-webkit-box-shadow:2px 2px 8px rgba(0,0,0,.65);box-shadow:2px 2px 8px rgba(0,0,0,.65);}.gs_el_ph .gs_md_d{padding:16px 20px;width:80%;max-width:400px;}.gs_md_d .gs_ico_X{position:absolute;top:8px;right:8px;background-color:#fff;}.gs_md_d h2{font-size:16px;font-weight:normal;line-height:24px;margin-bottom:16px;}.gs_el_ph .gs_md_d h2{margin-bottom:8px}.gs_md_lbl{margin:16px 0}.gs_md_btns{margin-top:16px}.gs_md_btns button{margin-right:16px}.gs_md_prg{margin:24px 0;}</style><script>function gs_md_opw(d,e,b){var r=document.documentElement,s=gs_id(\\\"gs_md_s\\\").style,w=gs_id(\\\"gs_md_w\\\").style,q=gs_id(d),g=q.style;g.visibility=\\\"hidden\\\";s.display=w.display=g.display=\\\"block\\\";g.top=Math.max(document.body.scrollTop||0,r.scrollTop||0)+Math.max((r.clientHeight-q.offsetHeight)/2,10)+\\\"px\\\";g.visibility=\\\"visible\\\";gs_md_opn(d,e,function(){s.display=\\\"none\\\"},function(){w.display=\\\"none\\\"});if(b){b=gs_id(b);b.type===\\\"text\\\"?gs_tfcs(b):b.focus();}return false;}function gs_md_ldw(d,e,b,c,u,p,f){c=gs_id(c);c.innerHTML=\\\"<div class='gs_md_prg'>Loading...</div>\\\";gs_md_opw(d,e,b);gs_ajax(u,p,function(x,t){c.innerHTML=x===200?t:\\\"<div class='gs_md_prg gs_alrt'>The system can\\\\x27t perform the operation now. Try again later.</div>\\\";f&&f(x,t);});}</script><div id=\\\"gs_md_s\\\" style=\\\"display:none\\\"></div><div id=\\\"gs_md_w\\\" style=\\\"display:none\\\"><div id=\\\"gsc_md_exa\\\" style=\\\"display:none\\\" class=\\\"gs_md_d gs_md_wn gs_ttzi\\\" role=\\\"dialog\\\" aria-hidden=\\\"true\\\" aria-labelledby=\\\"gsc_md_exa-t\\\"><a id=\\\"gsc_md_exa-x\\\" href=\\\"#\\\" role=\\\"button\\\" aria-label=\\\"Cancel\\\" class=\\\"gs_ico gs_ico_X gs_ico_Xt\\\" onclick=\\\"return gs_md_cls('gsc_md_exa',event)\\\"></a><h2 id=\\\"gsc_md_exa-t\\\">Export articles</h2><form id=\\\"gsc_md_exa_f\\\" action=\\\"/citations?view_op=export_citations&amp;hl=en&amp;oe=ASCII&amp;user=HI-I6C0AAAAJ\\\" method=\\\"post\\\"><input type=\\\"hidden\\\" name=\\\"cit_fmt\\\"><p><span class=\\\"gs_in_ra\\\" onclick=\\\"void(0)\\\"><input type=\\\"radio\\\" name=\\\"s\\\" value=\\\"\\\" id=\\\"gsc_md_exa_r0\\\" checked><label for=\\\"gsc_md_exa_r0\\\">Export selected articles</label><span class=\\\"gs_chk\\\"></span><span class=\\\"gs_cbx\\\"></span></span></p><p><span class=\\\"gs_in_ra\\\" onclick=\\\"void(0)\\\"><input type=\\\"radio\\\" name=\\\"s\\\" value=\\\"\\\" id=\\\"gsc_md_exa_r1\\\"><label for=\\\"gsc_md_exa_r1\\\">Export all my articles</label><span class=\\\"gs_chk\\\"></span><span class=\\\"gs_cbx\\\"></span></span></p><div class=\\\"gs_md_btns\\\"><button type=\\\"submit\\\" id=\\\"gsc_md_exa_export\\\" name=\\\"export_selected_btn\\\" class=\\\" gs_btn_act\\\"><span class=\\\"gs_wr\\\"><span class=\\\"gs_lbl\\\">Export</span></span></button><button type=\\\"button\\\" id=\\\"gsc_md_exa_cancel\\\" class=\\\"\\\"><span class=\\\"gs_wr\\\"><span class=\\\"gs_lbl\\\">Cancel</span></span></button></div></form><script>function gsc_md_show_exa(s,a,f,e){var b=\\\"gsc_md_exa_export\\\",l=gs_id(\\\"gsc_md_exa_f\\\").elements,c=l.s[0];l.cit_fmt.value=\\\"\\\"+f;c.value=s.join(\\\",\\\");c.checked=true;gs_ssel(c);a&&1?gs_md_opw(\\\"gsc_md_exa\\\",e,b):gs_id(b).click();}gs_evt_clk(gs_id(\\\"gsc_md_exa_cancel\\\"),gs_bind(gs_md_cls,\\\"gsc_md_exa\\\"));</script></div><script>gs_md_ifc(\\\"gsc_md_exa\\\",\\\"gsc_md_exa-x\\\");</script><div id=\\\"gsc_md_cbym\\\" style=\\\"display:none\\\" class=\\\"gs_md_d gs_md_wn gs_ttzi\\\" role=\\\"dialog\\\" aria-hidden=\\\"true\\\" aria-labelledby=\\\"gsc_md_cbym-t\\\"><a id=\\\"gsc_md_cbym-x\\\" href=\\\"#\\\" role=\\\"button\\\" aria-label=\\\"Cancel\\\" class=\\\"gs_ico gs_ico_X gs_ico_Xt\\\" onclick=\\\"return gs_md_cls('gsc_md_cbym',event)\\\"></a><h2 id=\\\"gsc_md_cbym-t\\\">Merged citations</h2><p>This \\\"Cited by\\\" count includes citations to the following articles in Scholar. The ones marked <span id=\\\"gsc_md_cbym_s\\\">*</span> may be different from the article in the profile.</p><div id=\\\"gsc_md_cbym_l\\\"></div><div class=\\\"gs_md_btns\\\"><button type=\\\"button\\\" id=\\\"gsc_md_cbym_cancel\\\" class=\\\"\\\"><span class=\\\"gs_wr\\\"><span class=\\\"gs_lbl\\\">Done</span></span></button></div><script>function gsc_md_show_cbym(x,e){var a=gs_id(\\\"gsc_md_cbym_e\\\");a&&(a.href=a.href.replace(/(&citation_for_view=)[^&]*/,\\\"$1\\\"+x));gs_md_ldw(\\\"gsc_md_cbym\\\",e,\\\"gsc_md_cbym_cancel\\\",\\\"gsc_md_cbym_l\\\",\\\"/citations?hl\\\\x3den\\\\x26oe\\\\x3dASCII\\\\x26user\\\\x3dHI-I6C0AAAAJ\\\\x26view_op\\\\x3dlist_works\\\",\\\"merge_btn=1&s=\\\"+x);}gs_evt_clk(gs_id(\\\"gsc_md_cbym_cancel\\\"),gs_bind(gs_md_cls,\\\"gsc_md_cbym\\\"));</script></div><script>gs_md_ifc(\\\"gsc_md_cbym\\\",\\\"gsc_md_cbym-x\\\");</script><div id=\\\"gsc_md_cbyd\\\" style=\\\"display:none\\\" class=\\\"gs_md_d gs_md_wn gs_ttzi\\\" role=\\\"dialog\\\" aria-hidden=\\\"true\\\" aria-labelledby=\\\"gsc_md_cbyd-t\\\"><a id=\\\"gsc_md_cbyd-x\\\" href=\\\"#\\\" role=\\\"button\\\" aria-label=\\\"Cancel\\\" class=\\\"gs_ico gs_ico_X gs_ico_Xt\\\" onclick=\\\"return gs_md_cls('gsc_md_cbyd',event)\\\"></a><h2 id=\\\"gsc_md_cbyd-t\\\">Duplicate citations</h2><p>The following articles are merged in Scholar. Their <a id=\\\"gsc_md_cbyd_c\\\" href=\\\"#\\\">combined citations</a> are counted only for the first article.</p><div id=\\\"gsc_md_cbyd_l\\\"></div><div class=\\\"gs_md_btns\\\"><button type=\\\"button\\\" id=\\\"gsc_md_cbyd_cancel\\\" class=\\\"\\\"><span class=\\\"gs_wr\\\"><span class=\\\"gs_lbl\\\">Done</span></span></button></div><script>function gsc_md_show_cbyd(a,x,u,e){var f=gs_id(\\\"gsc_md_cbyd_f\\\"),m=gs_id(\\\"gsc_md_cbyd_merge\\\"),s=u+\\\",\\\"+x;f&&(f.elements.s.value=s);gs_id(\\\"gsc_md_cbyd_c\\\").href=a;if(m){m.disabled=false;gs_udis(m);}gs_md_ldw(\\\"gsc_md_cbyd\\\",e,m?m.id:\\\"gsc_md_cbyd_cancel\\\",\\\"gsc_md_cbyd_l\\\",\\\"/citations?hl\\\\x3den\\\\x26oe\\\\x3dASCII\\\\x26user\\\\x3dHI-I6C0AAAAJ\\\\x26view_op\\\\x3dlist_works\\\",\\\"merge_btn=1&s=\\\"+s,function(){if(f&&m){var c=f.elements.choose;m.disabled=!c;(c?gs_udis:gs_xdis)(m);c&&gs_ssel(c[0]);}});}gs_evt_clk(gs_id(\\\"gsc_md_cbyd_cancel\\\"),gs_bind(gs_md_cls,\\\"gsc_md_cbyd\\\"));</script></div><script>gs_md_ifc(\\\"gsc_md_cbyd\\\",\\\"gsc_md_cbyd-x\\\");</script><div id=\\\"gsc_md_mopt\\\" style=\\\"display:none\\\" class=\\\"gs_md_d gs_md_wn gs_ttzi\\\" role=\\\"dialog\\\" aria-hidden=\\\"true\\\" aria-labelledby=\\\"gsc_md_mopt-t\\\"><a id=\\\"gsc_md_mopt-x\\\" href=\\\"#\\\" role=\\\"button\\\" aria-label=\\\"Cancel\\\" class=\\\"gs_ico gs_ico_X gs_ico_Xt\\\" onclick=\\\"return gs_md_cls('gsc_md_mopt',event)\\\"></a><h2 id=\\\"gsc_md_mopt-t\\\">Merge duplicates</h2></div><script>gs_md_ifc(\\\"gsc_md_mopt\\\",\\\"gsc_md_mopt-x\\\");</script><div id=\\\"gsc_md_hist\\\" style=\\\"display:none\\\" class=\\\"gs_md_d gs_md_wn gs_ttzi\\\" role=\\\"dialog\\\" aria-hidden=\\\"true\\\" aria-labelledby=\\\"gsc_md_hist-t\\\"><a id=\\\"gsc_md_hist-x\\\" href=\\\"#\\\" role=\\\"button\\\" aria-label=\\\"Cancel\\\" class=\\\"gs_ico gs_ico_X gs_ico_Xt\\\" onclick=\\\"return gs_md_cls('gsc_md_hist',event)\\\"></a><h2 id=\\\"gsc_md_hist-t\\\">Citations per year</h2><div id=\\\"gsc_md_hist_c\\\"></div></div><script>gs_md_ifc(\\\"gsc_md_hist\\\",\\\"gsc_md_hist-x\\\");</script></div><style>#gs_alrt_w{position:fixed;width:100%;z-index:1050;display:none;opacity:0;transition:opacity .3s ease-out;}#gs_alrt_w.gs_vis{opacity:1}#gs_alrt_p{position:absolute;top:-15px;right:0;width:100%;text-align:center;}#gs_alrt{display:inline-block;font-size:13px;line-height:16px;padding:0 16px 6px 16px;}#gs_alrt_m,#gs_alrt_u{display:inline-block;padding-top:7px;}#gs_alrt_l:link,#gs_alrt_l:visited{margin-left:16px;padding:7px 0 6px 0;color:#222;text-decoration:underline;}#gs_alrt_l:hover{color:#1a0dab}#gs_alrt_l:active{color:#d14836}</style><div id=\\\"gs_alrt_w\\\"><div id=\\\"gs_alrt_p\\\"><form><input type=\\\"hidden\\\" id=\\\"gs_alrt_ss\\\"></form><form action=\\\"\\\" method=\\\"post\\\" id=\\\"gs_alrt\\\" class=\\\"gs_alrt\\\"><span id=\\\"gs_alrt_m\\\"></span><span id=\\\"gs_alrt_h\\\"></span><span id=\\\"gs_alrt_u\\\" style=\\\"display:none\\\"><a id=\\\"gs_alrt_l\\\" href=\\\"javascript:void(0)\\\" onclick=\\\"gs_id('gs_alrt').submit();return false\\\"></a></span></form></div></div><script>var gs_wa_t;function gs_wa_hf(e){gs_uevt(document,\\\"click\\\",gs_wa_hf);clearTimeout(gs_wa_t);gs_wa_t=undefined;var d=gs_id(\\\"gs_alrt_w\\\");if(e){setTimeout(function(){d.style.display=\\\"none\\\";gs_uvis(d);},0);}else{gs_vis(d,0);}}function gs_wa_sf(){gs_visi(\\\"gs_alrt_w\\\",1);gs_evt(document,\\\"click\\\",gs_wa_hf);clearTimeout(gs_wa_t);gs_wa_t=setTimeout(gs_wa_hf,60000);}function gs_wa_m(m,l,u,f) {var x,h,e;gs_id(\\\"gs_alrt_m\\\").innerHTML=m;if(l&&u&&f){x=gs_id(\\\"gs_alrt_l\\\");\\\"innerText\\\" in x?(x.innerText=l):(x.textContent=l);gs_id(\\\"gs_alrt\\\").action=u;h=gs_id(\\\"gs_alrt_h\\\");h.innerHTML=\\\"\\\";for(i in f){e=document.createElement(\\\"input\\\");e.name=i;e.type=\\\"hidden\\\";e.value=f[i];h.appendChild(e);}gs_visi(\\\"gs_alrt_u\\\",2);} else {gs_visi(\\\"gs_alrt_u\\\",0);}gs_wa_sf();}gs_evt_rdy(function(){gs_evt(window,\\\"pagehide\\\",gs_bind(gs_visi,\\\"gs_alrt_w\\\",0));});</script><div id=\\\"gsc_bdy\\\"><div id=\\\"gsc_rsb_m\\\" role=\\\"search\\\"><div class=\\\"gsc_rsb_s_m\\\" id=\\\"gsc_rsb_lg_m\\\"><a href=\\\"/schhp?hl=en&amp;oe=ASCII\\\" id=\\\"gsc_rsb_icol_m\\\" aria-label=\\\"Scholar Home\\\"><span class=\\\"gs_oph\\\">Scholar</span></a><form action=\\\"/citations\\\" id=\\\"gsc_rsb_f_m\\\" class=\\\"gsc_rsb_foff\\\"><input type=hidden name=hl value=\\\"en\\\"><input type=hidden name=oe value=\\\"ASCII\\\"><input type=\\\"hidden\\\" name=\\\"view_op\\\" value=\\\"search_authors\\\"><input type=\\\"text\\\" class=\\\"gs_in_txt\\\" name=\\\"mauthors\\\" value=\\\"\\\" id=\\\"gsc_rsb_fin_m\\\" size=\\\"57\\\" maxlength=\\\"256\\\" autocapitalize=\\\"off\\\" aria-label=\\\"Search\\\"><button type=\\\"submit\\\" id=\\\"gsc_rsb_fbt_m\\\" aria-label=\\\"Search Authors\\\" class=\\\"gs_btnSB gs_in_ib gs_btn_half\\\"><span class=\\\"gs_wr\\\"><span class=\\\"gs_lbl\\\"></span><span class=\\\"gs_ico\\\"></span></span></button></form></div></div><div class=\\\"gsc_lcl\\\" role=\\\"main\\\" id=\\\"gsc_prf_w\\\"><div id=\\\"gsc_prf\\\" class=\\\"gs_scl\\\"><div id=\\\"gsc_prf_pu\\\"><style>#gsc_prf_pup{width:113px;height:150px;}.gs_el_ta #gsc_prf_pup{width:75px;height:100px;}.gs_el_ph #gsc_prf_pup{width:56px;height:75px;}@media print{#gs_top #gsc_prf_pup{width:60pt;height:80pt;}}</style><a href=\\\"/citations?user=HI-I6C0AAAAJ&amp;hl=en&amp;oe=ASCII\\\" id=\\\"gsc_prf_pua\\\"><img src=\\\"/citations?view_op=view_photo&amp;user=HI-I6C0AAAAJ&amp;citpid=1\\\" sizes=\\\"print 60px,(max-width:599px) 56px,(max-width:981px) 75px,113px\\\" srcset=\\\"/citations?view_op=view_photo&amp;user=HI-I6C0AAAAJ&amp;citpid=1 113w,/citations?view_op=medium_photo&amp;user=HI-I6C0AAAAJ&amp;citpid=1 225w\\\" id=\\\"gsc_prf_pup\\\" alt=\\\"Jeff Leek\\\"></a></div><div id=\\\"gsc_prf_i\\\"><div id=\\\"gsc_prf_ib\\\"><div id=\\\"gsc_prf_ibi\\\"><div style=\\\"position:relative\\\" class=\\\"gs_ibl\\\"><button type=\\\"button\\\" id=\\\"gsc_fol_btn\\\" aria-controls=\\\"gsc_fol_dd\\\" aria-haspopup=\\\"true\\\" class=\\\"gs_btnMW gs_in_ib gs_in_se gs_btn_mnu gs_btn_mn2 gs_btn_act gs_btn_hph\\\"><span class=\\\"gs_wr\\\"><span class=\\\"gs_lbl\\\">Follow</span><span class=\\\"gs_ico\\\"></span><span class=\\\"gs_icm\\\"></span></span></button><div class=\\\"gs_md_se\\\" id=\\\"gsc_fol_dd\\\"><form method=\\\"post\\\" id=\\\"gsc_fol_f\\\" action=\\\"/citations?hl=en&amp;oe=ASCII&amp;user=HI-I6C0AAAAJ&amp;view_op=list_works\\\"><input type=\\\"hidden\\\" name=\\\"xsrf\\\" value=\\\"AMstHGQAAAAAV38nLkWyFR8rdUO8A-3FjOfhfYZJwS43\\\"><input type=\\\"hidden\\\" name=\\\"user\\\" value=\\\"HI-I6C0AAAAJ\\\"><div id=\\\"gsc_fol_ml\\\">Email</div><div class=\\\"gs_in_txtf\\\"><input type=\\\"text\\\" class=\\\"gs_in_txt\\\" name=\\\"email_for_op\\\" value=\\\"\\\" id=\\\"gsc_fol_m\\\" maxlength=\\\"100\\\" autocapitalize=\\\"off\\\" autocorrect=\\\"off\\\"></div><div id=\\\"gsc_fol_cb\\\"><div class=\\\"gsc_fol_cr\\\"><span class=\\\"gs_in_cb\\\" onclick=\\\"void(0)\\\"><input type=\\\"checkbox\\\" name=\\\"follow_articles_btn\\\" id=\\\"gsc_fol_a\\\" value=\\\"1\\\" checked><label for=\\\"gsc_fol_a\\\">Follow new articles</label><span class=\\\"gs_chk\\\"></span><span class=\\\"gs_cbx\\\"></span></span></div><div class=\\\"gsc_fol_cr\\\"><span class=\\\"gs_in_cb\\\" onclick=\\\"void(0)\\\"><input type=\\\"checkbox\\\" name=\\\"follow_citations_btn\\\" id=\\\"gsc_fol_c\\\" value=\\\"1\\\"><label for=\\\"gsc_fol_c\\\">Follow new citations</label><span class=\\\"gs_chk\\\"></span><span class=\\\"gs_cbx\\\"></span></span></div></div><div><button type=\\\"submit\\\" id=\\\"gsc_fol_b\\\" class=\\\" gs_btn_cre\\\"><span class=\\\"gs_wr\\\"><span class=\\\"gs_lbl\\\">Create alert</span></span></button><button type=\\\"button\\\" id=\\\"gsc_fol_x\\\" class=\\\"\\\"><span class=\\\"gs_wr\\\"><span class=\\\"gs_lbl\\\">Cancel</span></span></button></div></form></div></div><script>gs_md_ifc(\\\"gsc_fol_dd\\\",\\\"gsc_fol_m\\\");!function(){var t=gs_id(\\\"gsc_fol_btn\\\"),d=\\\"gsc_fol_dd\\\",b=gs_id(\\\"gsc_fol_b\\\");var a=gs_id(\\\"gsc_fol_a\\\"),c=gs_id(\\\"gsc_fol_c\\\"),m=gs_id(\\\"gsc_fol_m\\\"),r=/\\\\S+@\\\\S+\\\\.\\\\S+/,s=function(x){return x.checked&&!x.disabled},f=function(){((b.disabled=!r.test(m.value)||!s(a)&&!s(c))?gs_xdis:gs_udis)(b);};f();gs_evt_rdy(f);gs_evt_all([a,c],\\\"click\\\",f);gs_evt_inp(m,f);gs_evt_clk(gs_id(\\\"gsc_fol_x\\\"),gs_bind(gs_md_cls,d));gs_evt_clk(t,function(e){if(gs_id(d).offsetWidth){gs_md_cls(d,e);}else{gs_xsel(t);gs_md_opn(d,e,gs_bind(gs_usel,t));b.disabled?gs_tfcs(m):b.focus();}},2,[13,32,38,40]);}();</script></div></div><div id=\\\"gsc_prf_in\\\">Jeff Leek</div><div class=\\\"gsc_prf_il\\\">Associate Professor of Biostatistics, Johns Hopkins Bloomberg School of Public Health</div><div class=\\\"gsc_prf_il\\\"><a href=\\\"/citations?view_op=search_authors&amp;hl=en&amp;oe=ASCII&amp;mauthors=label:statistics\\\" class=\\\"gsc_prf_ila\\\">Statistics</a>, <a href=\\\"/citations?view_op=search_authors&amp;hl=en&amp;oe=ASCII&amp;mauthors=label:computing\\\" class=\\\"gsc_prf_ila\\\">Computing</a>, <a href=\\\"/citations?view_op=search_authors&amp;hl=en&amp;oe=ASCII&amp;mauthors=label:genomics\\\" class=\\\"gsc_prf_ila\\\">Genomics</a>, <a href=\\\"/citations?view_op=search_authors&amp;hl=en&amp;oe=ASCII&amp;mauthors=label:personalized_medicine\\\" class=\\\"gsc_prf_ila\\\">Personalized Medicine</a>, <a href=\\\"/citations?view_op=search_authors&amp;hl=en&amp;oe=ASCII&amp;mauthors=label:scientific_communication\\\" class=\\\"gsc_prf_ila\\\">Scientific Communication</a></div><div class=\\\"gsc_prf_il\\\" id=\\\"gsc_prf_ivh\\\">Verified email at jhsph.edu - <a href=\\\"http://jtleek.com/\\\" rel=\\\"nofollow\\\">Homepage</a></div></div></div></div><div id=\\\"gsc_rsb\\\" role=\\\"navigation\\\"><div class=\\\"gsc_rsb_s\\\" id=\\\"gsc_rsb_lg\\\"><a href=\\\"/schhp?hl=en&amp;oe=ASCII\\\" id=\\\"gsc_rsb_icol\\\" aria-label=\\\"Scholar Home\\\"><span class=\\\"gs_oph\\\">Scholar</span></a><form action=\\\"/citations\\\" id=\\\"gsc_rsb_f\\\" class=\\\"gsc_rsb_foff\\\"><input type=hidden name=hl value=\\\"en\\\"><input type=hidden name=oe value=\\\"ASCII\\\"><input type=\\\"hidden\\\" name=\\\"view_op\\\" value=\\\"search_authors\\\"><input type=\\\"text\\\" class=\\\"gs_in_txt\\\" name=\\\"mauthors\\\" value=\\\"\\\" id=\\\"gsc_rsb_fin\\\" size=\\\"57\\\" maxlength=\\\"256\\\" autocapitalize=\\\"off\\\" aria-label=\\\"Search\\\"><button type=\\\"submit\\\" id=\\\"gsc_rsb_fbt\\\" aria-label=\\\"Search Authors\\\" class=\\\"gs_btnSB gs_in_ib gs_btn_half\\\"><span class=\\\"gs_wr\\\"><span class=\\\"gs_lbl\\\"></span><span class=\\\"gs_ico\\\"></span></span></button></form><div id=\\\"gsc_rsb_gpl\\\"><button type=\\\"button\\\" onclick=\\\"window.location='/citations?hl\\\\x3den\\\\x26oe\\\\x3dASCII'\\\" class=\\\" gs_btn_act\\\"><span class=\\\"gs_wr\\\"><span class=\\\"gs_lbl\\\">Get my own profile</span></span></button></div></div><div class=\\\"gsc_rsb_s\\\"><div id=\\\"gsc_rsb_t\\\">Google Scholar</div><table id=\\\"gsc_rsb_st\\\"><tr><th class=\\\"gsc_rsb_sc1\\\"><a href=\\\"javascript:void(0)\\\" onclick=\\\"gs_md_hist_opn(event);\\\">Citation indices</a></th><th class=\\\"gsc_rsb_sth\\\">All</th><th class=\\\"gsc_rsb_sth\\\">Since 2011</th></tr><tr><td class=\\\"gsc_rsb_sc1\\\"><a href=\\\"javascript:void(0)\\\" class=\\\"gsc_rsb_f\\\" title='This is the number of citations to all publications. The second column has the &quot;recent&quot; version of this metric which is the number of new citations in the last 5 years to all publications.'>Citations</a></td><td class=\\\"gsc_rsb_std\\\">3854</td><td class=\\\"gsc_rsb_std\\\">3259</td></tr><tr><td class=\\\"gsc_rsb_sc1\\\"><a href=\\\"javascript:void(0)\\\" class=\\\"gsc_rsb_f\\\" title='h-index is the largest number h such that h publications have at least h citations. The second column has the &quot;recent&quot; version of this metric which is the largest number h such that h publications have at least h new citations in the last 5 years.'>h-index</a></td><td class=\\\"gsc_rsb_std\\\">22</td><td class=\\\"gsc_rsb_std\\\">22</td></tr><tr><td class=\\\"gsc_rsb_sc1\\\"><a href=\\\"javascript:void(0)\\\" class=\\\"gsc_rsb_f\\\" title='i10-index is the number of publications with at least 10 citations. The second column has the &quot;recent&quot; version of this metric which is the number of publications that have received at least 10 new citations in the last 5 years.'>i10-index</a></td><td class=\\\"gsc_rsb_std\\\">32</td><td class=\\\"gsc_rsb_std\\\">32</td></tr></table><div id=\\\"gsc_g\\\"><div id=\\\"gsc_g_x\\\"><span class=\\\"gsc_g_t\\\" style=\\\"left:3px\\\">2008</span><span class=\\\"gsc_g_t\\\" style=\\\"left:35px\\\">2009</span><span class=\\\"gsc_g_t\\\" style=\\\"left:67px\\\">2010</span><span class=\\\"gsc_g_t\\\" style=\\\"left:99px\\\">2011</span><span class=\\\"gsc_g_t\\\" style=\\\"left:131px\\\">2012</span><span class=\\\"gsc_g_t\\\" style=\\\"left:163px\\\">2013</span><span class=\\\"gsc_g_t\\\" style=\\\"left:195px\\\">2014</span><span class=\\\"gsc_g_t\\\" style=\\\"left:227px\\\">2015</span><span class=\\\"gsc_g_t\\\" style=\\\"left:259px\\\">2016</span></div><div id=\\\"gsc_g_bars\\\"><a href=\\\"javascript:void(0)\\\" class=\\\"gsc_g_a\\\" style=\\\"left:8px;height:9px;z-index:9\\\"><span class=\\\"gsc_g_al\\\">129</span></a><a href=\\\"javascript:void(0)\\\" class=\\\"gsc_g_a\\\" style=\\\"left:40px;height:8px;z-index:8\\\"><span class=\\\"gsc_g_al\\\">116</span></a><a href=\\\"javascript:void(0)\\\" class=\\\"gsc_g_a\\\" style=\\\"left:72px;height:13px;z-index:7\\\"><span class=\\\"gsc_g_al\\\">184</span></a><a href=\\\"javascript:void(0)\\\" class=\\\"gsc_g_a\\\" style=\\\"left:104px;height:21px;z-index:6\\\"><span class=\\\"gsc_g_al\\\">292</span></a><a href=\\\"javascript:void(0)\\\" class=\\\"gsc_g_a\\\" style=\\\"left:136px;height:33px;z-index:5\\\"><span class=\\\"gsc_g_al\\\">449</span></a><a href=\\\"javascript:void(0)\\\" class=\\\"gsc_g_a\\\" style=\\\"left:168px;height:42px;z-index:4\\\"><span class=\\\"gsc_g_al\\\">572</span></a><a href=\\\"javascript:void(0)\\\" class=\\\"gsc_g_a\\\" style=\\\"left:200px;height:50px;z-index:3\\\"><span class=\\\"gsc_g_al\\\">682</span></a><a href=\\\"javascript:void(0)\\\" class=\\\"gsc_g_a\\\" style=\\\"left:232px;height:57px;z-index:2\\\"><span class=\\\"gsc_g_al\\\">765</span></a><a href=\\\"javascript:void(0)\\\" class=\\\"gsc_g_a\\\" style=\\\"left:264px;height:36px;z-index:1\\\"><span class=\\\"gsc_g_al\\\">485</span></a></div></div><script>function gs_md_hist_opn(e){gs_md_ldw(\\\"gsc_md_hist\\\",e,0,\\\"gsc_md_hist_c\\\",\\\"/citations?hl\\\\x3den\\\\x26oe\\\\x3dASCII\\\\x26user\\\\x3dHI-I6C0AAAAJ\\\\x26view_op\\\\x3dcitations_histogram\\\",\\\"\\\",function(){var x=gs_id(\\\"gsc_md_hist_b\\\");x&&gsc_scroll_right(x);});}gs_evt_rdy(function(){gs_evt_clk(gs_id(\\\"gsc_g\\\"),gs_md_hist_opn);});</script></div></div><div class=\\\"gsc_lcl\\\" role=\\\"complementary\\\" id=\\\"gsc_art\\\"><form method=\\\"post\\\" action=\\\"/citations?hl=en&amp;oe=ASCII&amp;user=HI-I6C0AAAAJ&amp;view_op=list_works\\\" id=\\\"citationsForm\\\"><input type=\\\"hidden\\\" name=\\\"xsrf\\\" value=\\\"AMstHGQAAAAAV38nLkWyFR8rdUO8A-3FjOfhfYZJwS43\\\"><table id=\\\"gsc_a_t\\\"><thead id=\\\"gsc_a_hd\\\"><tr id=\\\"gsc_a_tr0\\\" aria-hidden=\\\"true\\\"><th class=\\\"gsc_a_t\\\" id=\\\"gsc_a_tr0_t\\\"></th><th class=\\\"gsc_a_c\\\"></th><th class=\\\"gsc_a_y\\\"></th></tr><tr id=\\\"gsc_a_trh\\\"><th class=\\\"gsc_a_t\\\" id=\\\"gsc_a_trh_t\\\" scope=\\\"col\\\"><span id=\\\"gsc_a_ta\\\"><a href=\\\"/citations?hl=en&amp;oe=ASCII&amp;user=HI-I6C0AAAAJ&amp;view_op=list_works&amp;sortby=title\\\" class=\\\"gsc_a_a\\\">Title</a></span><span id=\\\"gsc_a_nn\\\">1&ndash;20</span></th><th class=\\\"gsc_a_c\\\" scope=\\\"col\\\"><span id=\\\"gsc_a_ca\\\">Cited by</span></th><th class=\\\"gsc_a_y\\\" scope=\\\"col\\\"><span class=\\\"gsc_a_h\\\"><a href=\\\"/citations?hl=en&amp;oe=ASCII&amp;user=HI-I6C0AAAAJ&amp;view_op=list_works&amp;sortby=pubdate\\\" class=\\\"gsc_a_a\\\">Year</a></span></th></tr></thead><tbody id=\\\"gsc_a_b\\\"><tr class=\\\"gsc_a_tr\\\"><td class=\\\"gsc_a_t\\\"><a href=\\\"/citations?view_op=view_citation&amp;hl=en&amp;oe=ASCII&amp;user=HI-I6C0AAAAJ&amp;citation_for_view=HI-I6C0AAAAJ:UeHWp8X0CEIC\\\" class=\\\"gsc_a_at\\\">Tackling the widespread and critical impact of batch effects in high-throughput data</a><div class=\\\"gs_gray\\\">JT Leek, RB Scharpf, HC Bravo, D Simcha, B Langmead, WE Johnson, ...</div><div class=\\\"gs_gray\\\">Nature Reviews Genetics 11 (10), 733-739<span class=\\\"gs_oph\\\">, 2010</span></div></td><td class=\\\"gsc_a_c\\\"><a href=\\\"http://scholar.google.com/scholar?oi=bibs&amp;hl=en&amp;oe=ASCII&amp;cites=16403016020126782741\\\" class=\\\"gsc_a_ac\\\">559</a></td><td class=\\\"gsc_a_y\\\"><span class=\\\"gsc_a_h\\\">2010</span></td></tr><tr class=\\\"gsc_a_tr\\\"><td class=\\\"gsc_a_t\\\"><a href=\\\"/citations?view_op=view_citation&amp;hl=en&amp;oe=ASCII&amp;user=HI-I6C0AAAAJ&amp;citation_for_view=HI-I6C0AAAAJ:d1gkVwhDpl0C\\\" class=\\\"gsc_a_at\\\">Capturing heterogeneity in gene expression studies by surrogate variable analysis</a><div class=\\\"gs_gray\\\">JT Leek, JD Storey</div><div class=\\\"gs_gray\\\">PLoS Genet 3 (9), e161<span class=\\\"gs_oph\\\">, 2007</span></div></td><td class=\\\"gsc_a_c\\\"><a href=\\\"http://scholar.google.com/scholar?oi=bibs&amp;hl=en&amp;oe=ASCII&amp;cites=14943880347723800617\\\" class=\\\"gsc_a_ac\\\">530</a></td><td class=\\\"gsc_a_y\\\"><span class=\\\"gsc_a_h\\\">2007</span></td></tr><tr class=\\\"gsc_a_tr\\\"><td class=\\\"gsc_a_t\\\"><a href=\\\"/citations?view_op=view_citation&amp;hl=en&amp;oe=ASCII&amp;user=HI-I6C0AAAAJ&amp;citation_for_view=HI-I6C0AAAAJ:u5HHmVD_uO8C\\\" class=\\\"gsc_a_at\\\">Significance analysis of time course microarray experiments</a><div class=\\\"gs_gray\\\">JD Storey, W Xiao, JT Leek, RG Tompkins, RW Davis</div><div class=\\\"gs_gray\\\">Proceedings of the National Academy of Sciences of the United States of ...<span class=\\\"gs_oph\\\">, 2005</span></div></td><td class=\\\"gsc_a_c\\\"><a href=\\\"http://scholar.google.com/scholar?oi=bibs&amp;hl=en&amp;oe=ASCII&amp;cites=8692182196465189153\\\" class=\\\"gsc_a_ac\\\">490</a></td><td class=\\\"gsc_a_y\\\"><span class=\\\"gsc_a_h\\\">2005</span></td></tr><tr class=\\\"gsc_a_tr\\\"><td class=\\\"gsc_a_t\\\"><a href=\\\"/citations?view_op=view_citation&amp;hl=en&amp;oe=ASCII&amp;user=HI-I6C0AAAAJ&amp;citation_for_view=HI-I6C0AAAAJ:Se3iqnhoufwC\\\" class=\\\"gsc_a_at\\\">Temporal dynamics and genetic control of transcription in the human prefrontal cortex</a><div class=\\\"gs_gray\\\">C Colantuoni, BK Lipska, T Ye, TM Hyde, R Tao, JT Leek, EA Colantuoni, ...</div><div class=\\\"gs_gray\\\">Nature 478 (7370), 519-523<span class=\\\"gs_oph\\\">, 2011</span></div></td><td class=\\\"gsc_a_c\\\"><a href=\\\"http://scholar.google.com/scholar?oi=bibs&amp;hl=en&amp;oe=ASCII&amp;cites=15401379057477374674\\\" class=\\\"gsc_a_ac\\\">290</a></td><td class=\\\"gsc_a_y\\\"><span class=\\\"gsc_a_h\\\">2011</span></td></tr><tr class=\\\"gsc_a_tr\\\"><td class=\\\"gsc_a_t\\\"><a href=\\\"/citations?view_op=view_citation&amp;hl=en&amp;oe=ASCII&amp;user=HI-I6C0AAAAJ&amp;citation_for_view=HI-I6C0AAAAJ:IjCSPb-OGe4C\\\" class=\\\"gsc_a_at\\\">Cloud-scale RNA-sequencing differential expression analysis with Myrna</a><div class=\\\"gs_gray\\\">B Langmead, KD Hansen, JT Leek</div><div class=\\\"gs_gray\\\">Genome biology 11 (8), 1<span class=\\\"gs_oph\\\">, 2010</span></div></td><td class=\\\"gsc_a_c\\\"><a href=\\\"http://scholar.google.com/scholar?oi=bibs&amp;hl=en&amp;oe=ASCII&amp;cites=9392678635432440961\\\" class=\\\"gsc_a_ac\\\">242</a></td><td class=\\\"gsc_a_y\\\"><span class=\\\"gsc_a_h\\\">2010</span></td></tr><tr class=\\\"gsc_a_tr\\\"><td class=\\\"gsc_a_t\\\"><a href=\\\"/citations?view_op=view_citation&amp;hl=en&amp;oe=ASCII&amp;user=HI-I6C0AAAAJ&amp;citation_for_view=HI-I6C0AAAAJ:u-x6o8ySG0sC\\\" class=\\\"gsc_a_at\\\">EDGE: extraction and analysis of differential gene expression</a><div class=\\\"gs_gray\\\">JT Leek, E Monsen, AR Dabney, JD Storey</div><div class=\\\"gs_gray\\\">Bioinformatics 22 (4), 507-508<span class=\\\"gs_oph\\\">, 2006</span></div></td><td class=\\\"gsc_a_c\\\"><a href=\\\"http://scholar.google.com/scholar?oi=bibs&amp;hl=en&amp;oe=ASCII&amp;cites=8862746171832697560\\\" class=\\\"gsc_a_ac\\\">210</a></td><td class=\\\"gsc_a_y\\\"><span class=\\\"gsc_a_h\\\">2006</span></td></tr><tr class=\\\"gsc_a_tr\\\"><td class=\\\"gsc_a_t\\\"><a href=\\\"/citations?view_op=view_citation&amp;hl=en&amp;oe=ASCII&amp;user=HI-I6C0AAAAJ&amp;citation_for_view=HI-I6C0AAAAJ:8k81kl-MbHgC\\\" class=\\\"gsc_a_at\\\">The sva package for removing batch effects and other unwanted variation in high-throughput experiments</a><div class=\\\"gs_gray\\\">JT Leek, WE Johnson, HS Parker, AE Jaffe, JD Storey</div><div class=\\\"gs_gray\\\">Bioinformatics 28 (6), 882-883<span class=\\\"gs_oph\\\">, 2012</span></div></td><td class=\\\"gsc_a_c\\\"><a href=\\\"http://scholar.google.com/scholar?oi=bibs&amp;hl=en&amp;oe=ASCII&amp;cites=8144311546232376767\\\" class=\\\"gsc_a_ac\\\">191</a></td><td class=\\\"gsc_a_y\\\"><span class=\\\"gsc_a_h\\\">2012</span></td></tr><tr class=\\\"gsc_a_tr\\\"><td class=\\\"gsc_a_t\\\"><a href=\\\"/citations?view_op=view_citation&amp;hl=en&amp;oe=ASCII&amp;user=HI-I6C0AAAAJ&amp;citation_for_view=HI-I6C0AAAAJ:qjMakFHDy7sC\\\" class=\\\"gsc_a_at\\\">Systems-level dynamic analyses of fate change in murine embryonic stem cells</a><div class=\\\"gs_gray\\\">R Lu, F Markowetz, RD Unwin, JT Leek, EM Airoldi, BD MacArthur, ...</div><div class=\\\"gs_gray\\\">Nature 462 (7271), 358-362<span class=\\\"gs_oph\\\">, 2009</span></div></td><td class=\\\"gsc_a_c\\\"><a href=\\\"http://scholar.google.com/scholar?oi=bibs&amp;hl=en&amp;oe=ASCII&amp;cites=4114573275173642545\\\" class=\\\"gsc_a_ac\\\">184</a></td><td class=\\\"gsc_a_y\\\"><span class=\\\"gsc_a_h\\\">2009</span></td></tr><tr class=\\\"gsc_a_tr\\\"><td class=\\\"gsc_a_t\\\"><a href=\\\"/citations?view_op=view_citation&amp;hl=en&amp;oe=ASCII&amp;user=HI-I6C0AAAAJ&amp;citation_for_view=HI-I6C0AAAAJ:2osOgNQ5qMEC\\\" class=\\\"gsc_a_at\\\">A general framework for multiple testing dependence</a><div class=\\\"gs_gray\\\">JT Leek, JD Storey</div><div class=\\\"gs_gray\\\">Proceedings of the National Academy of Sciences 105 (48), 18718-18723<span class=\\\"gs_oph\\\">, 2008</span></div></td><td class=\\\"gsc_a_c\\\"><a href=\\\"http://scholar.google.com/scholar?oi=bibs&amp;hl=en&amp;oe=ASCII&amp;cites=6862569568109470250\\\" class=\\\"gsc_a_ac\\\">170</a></td><td class=\\\"gsc_a_y\\\"><span class=\\\"gsc_a_h\\\">2008</span></td></tr><tr class=\\\"gsc_a_tr\\\"><td class=\\\"gsc_a_t\\\"><a href=\\\"/citations?view_op=view_citation&amp;hl=en&amp;oe=ASCII&amp;user=HI-I6C0AAAAJ&amp;citation_for_view=HI-I6C0AAAAJ:5nxA0vEk-isC\\\" class=\\\"gsc_a_at\\\">Bump hunting to identify differentially methylated regions in epigenetic epidemiology studies</a><div class=\\\"gs_gray\\\">AE Jaffe, P Murakami, H Lee, JT Leek, MD Fallin, AP Feinberg, RA Irizarry</div><div class=\\\"gs_gray\\\">International journal of epidemiology 41 (1), 200-209<span class=\\\"gs_oph\\\">, 2012</span></div></td><td class=\\\"gsc_a_c\\\"><a href=\\\"http://scholar.google.com/scholar?oi=bibs&amp;hl=en&amp;oe=ASCII&amp;cites=13917393765835926103\\\" class=\\\"gsc_a_ac\\\">160</a></td><td class=\\\"gsc_a_y\\\"><span class=\\\"gsc_a_h\\\">2012</span></td></tr><tr class=\\\"gsc_a_tr\\\"><td class=\\\"gsc_a_t\\\"><a href=\\\"/citations?view_op=view_citation&amp;hl=en&amp;oe=ASCII&amp;user=HI-I6C0AAAAJ&amp;citation_for_view=HI-I6C0AAAAJ:9yKSN-GCB0IC\\\" class=\\\"gsc_a_at\\\">The optimal discovery procedure for large-scale significance testing, with applications to comparative microarray experiments</a><div class=\\\"gs_gray\\\">JD Storey, JY Dai, JT Leek</div><div class=\\\"gs_gray\\\">Biostatistics 8 (2), 414-432<span class=\\\"gs_oph\\\">, 2007</span></div></td><td class=\\\"gsc_a_c\\\"><a href=\\\"http://scholar.google.com/scholar?oi=bibs&amp;hl=en&amp;oe=ASCII&amp;cites=6987233910267027632\\\" class=\\\"gsc_a_ac\\\">148</a></td><td class=\\\"gsc_a_y\\\"><span class=\\\"gsc_a_h\\\">2007</span></td></tr><tr class=\\\"gsc_a_tr\\\"><td class=\\\"gsc_a_t\\\"><a href=\\\"/citations?view_op=view_citation&amp;hl=en&amp;oe=ASCII&amp;user=HI-I6C0AAAAJ&amp;citation_for_view=HI-I6C0AAAAJ:0EnyYjriUFMC\\\" class=\\\"gsc_a_at\\\">ReCount: a multi-experiment resource of analysis-ready RNA-seq gene count datasets</a><div class=\\\"gs_gray\\\">AC Frazee, B Langmead, JT Leek</div><div class=\\\"gs_gray\\\">BMC bioinformatics 12 (1), 449<span class=\\\"gs_oph\\\">, 2011</span></div></td><td class=\\\"gsc_a_c\\\"><a href=\\\"http://scholar.google.com/scholar?oi=bibs&amp;hl=en&amp;oe=ASCII&amp;cites=5499264026160610251\\\" class=\\\"gsc_a_ac\\\">86</a></td><td class=\\\"gsc_a_y\\\"><span class=\\\"gsc_a_h\\\">2011</span></td></tr><tr class=\\\"gsc_a_tr\\\"><td class=\\\"gsc_a_t\\\"><a href=\\\"/citations?view_op=view_citation&amp;hl=en&amp;oe=ASCII&amp;user=HI-I6C0AAAAJ&amp;citation_for_view=HI-I6C0AAAAJ:LkGwnXOMwfcC\\\" class=\\\"gsc_a_at\\\">Sequencing technology does not eliminate biological variability</a><div class=\\\"gs_gray\\\">KD Hansen, Z Wu, RA Irizarry, JT Leek</div><div class=\\\"gs_gray\\\">Nature biotechnology 29 (7), 572-573<span class=\\\"gs_oph\\\">, 2011</span></div></td><td class=\\\"gsc_a_c\\\"><a href=\\\"http://scholar.google.com/scholar?oi=bibs&amp;hl=en&amp;oe=ASCII&amp;cites=13984583295080419572\\\" class=\\\"gsc_a_ac\\\">78</a></td><td class=\\\"gsc_a_y\\\"><span class=\\\"gsc_a_h\\\">2011</span></td></tr><tr class=\\\"gsc_a_tr\\\"><td class=\\\"gsc_a_t\\\"><a href=\\\"/citations?view_op=view_citation&amp;hl=en&amp;oe=ASCII&amp;user=HI-I6C0AAAAJ&amp;citation_for_view=HI-I6C0AAAAJ:hqOjcs7Dif8C\\\" class=\\\"gsc_a_at\\\">Significance analysis and statistical dissection of variably methylated regions</a><div class=\\\"gs_gray\\\">AE Jaffe, AP Feinberg, RA Irizarry, JT Leek</div><div class=\\\"gs_gray\\\">Biostatistics 13 (1), 166-178<span class=\\\"gs_oph\\\">, 2012</span></div></td><td class=\\\"gsc_a_c\\\"><a href=\\\"http://scholar.google.com/scholar?oi=bibs&amp;hl=en&amp;oe=ASCII&amp;cites=8713725236803269731\\\" class=\\\"gsc_a_ac\\\">51</a></td><td class=\\\"gsc_a_y\\\"><span class=\\\"gsc_a_h\\\">2012</span></td></tr><tr class=\\\"gsc_a_tr\\\"><td class=\\\"gsc_a_t\\\"><a href=\\\"/citations?view_op=view_citation&amp;hl=en&amp;oe=ASCII&amp;user=HI-I6C0AAAAJ&amp;citation_for_view=HI-I6C0AAAAJ:-f6ydRqryjwC\\\" class=\\\"gsc_a_at\\\">An estimate of the science-wise false discovery rate and application to the top medical literature</a><div class=\\\"gs_gray\\\">LR Jager, JT Leek</div><div class=\\\"gs_gray\\\">Biostatistics 15 (1), 1-12<span class=\\\"gs_oph\\\">, 2014</span></div></td><td class=\\\"gsc_a_c\\\"><a href=\\\"http://scholar.google.com/scholar?oi=bibs&amp;hl=en&amp;oe=ASCII&amp;cites=8145998925353022831,15367445605081037117\\\" class=\\\"gsc_a_ac\\\">45</a><span class=\\\"gsc_a_m\\\"><a href=\\\"#\\\" class=\\\"gsc_a_am\\\" onclick=\\\"gsc_md_show_cbym('HI-I6C0AAAAJ:-f6ydRqryjwC',event);return false\\\">*</a></span></td><td class=\\\"gsc_a_y\\\"><span class=\\\"gsc_a_h\\\">2014</span></td></tr><tr class=\\\"gsc_a_tr\\\"><td class=\\\"gsc_a_t\\\"><a href=\\\"/citations?view_op=view_citation&amp;hl=en&amp;oe=ASCII&amp;user=HI-I6C0AAAAJ&amp;citation_for_view=HI-I6C0AAAAJ:ldfaerwXgEUC\\\" class=\\\"gsc_a_at\\\">Statistics: P values are just the tip of the iceberg</a><div class=\\\"gs_gray\\\">JT Leek, RD Peng</div><div class=\\\"gs_gray\\\">Nature 520 (7549), 612<span class=\\\"gs_oph\\\">, 2015</span></div></td><td class=\\\"gsc_a_c\\\"><a href=\\\"http://scholar.google.com/scholar?oi=bibs&amp;hl=en&amp;oe=ASCII&amp;cites=7990176079596762579\\\" class=\\\"gsc_a_ac\\\">40</a></td><td class=\\\"gsc_a_y\\\"><span class=\\\"gsc_a_h\\\">2015</span></td></tr><tr class=\\\"gsc_a_tr\\\"><td class=\\\"gsc_a_t\\\"><a href=\\\"/citations?view_op=view_citation&amp;hl=en&amp;oe=ASCII&amp;user=HI-I6C0AAAAJ&amp;citation_for_view=HI-I6C0AAAAJ:TQgYirikUcIC\\\" class=\\\"gsc_a_at\\\">Differential expression analysis of RNA-seq data at single-base resolution</a><div class=\\\"gs_gray\\\">AC Frazee, S Sabunciyan, KD Hansen, RA Irizarry, JT Leek</div><div class=\\\"gs_gray\\\">Biostatistics, kxt053<span class=\\\"gs_oph\\\">, 2014</span></div></td><td class=\\\"gsc_a_c\\\"><a href=\\\"http://scholar.google.com/scholar?oi=bibs&amp;hl=en&amp;oe=ASCII&amp;cites=1603345619966351948\\\" class=\\\"gsc_a_ac\\\">32</a></td><td class=\\\"gsc_a_y\\\"><span class=\\\"gsc_a_h\\\">2014</span></td></tr><tr class=\\\"gsc_a_tr\\\"><td class=\\\"gsc_a_t\\\"><a href=\\\"/citations?view_op=view_citation&amp;hl=en&amp;oe=ASCII&amp;user=HI-I6C0AAAAJ&amp;citation_for_view=HI-I6C0AAAAJ:_kc_bZDykSQC\\\" class=\\\"gsc_a_at\\\">Gene expression anti-profiles as a basis for accurate universal cancer signatures</a><div class=\\\"gs_gray\\\">HC Bravo, V Pihur, M McCall, RA Irizarry, JT Leek</div><div class=\\\"gs_gray\\\">BMC bioinformatics 13 (1), 272<span class=\\\"gs_oph\\\">, 2012</span></div></td><td class=\\\"gsc_a_c\\\"><a href=\\\"http://scholar.google.com/scholar?oi=bibs&amp;hl=en&amp;oe=ASCII&amp;cites=5170926751178488472\\\" class=\\\"gsc_a_ac\\\">27</a></td><td class=\\\"gsc_a_y\\\"><span class=\\\"gsc_a_h\\\">2012</span></td></tr><tr class=\\\"gsc_a_tr\\\"><td class=\\\"gsc_a_t\\\"><a href=\\\"/citations?view_op=view_citation&amp;hl=en&amp;oe=ASCII&amp;user=HI-I6C0AAAAJ&amp;citation_for_view=HI-I6C0AAAAJ:BqipwSGYUEgC\\\" class=\\\"gsc_a_at\\\">Developmental regulation of human cortex transcription and its clinical relevance at single base resolution</a><div class=\\\"gs_gray\\\">AE Jaffe, J Shin, L Collado-Torres, JT Leek, R Tao, C Li, Y Gao, Y Jia, ...</div><div class=\\\"gs_gray\\\">Nature neuroscience 18 (1), 154-161<span class=\\\"gs_oph\\\">, 2015</span></div></td><td class=\\\"gsc_a_c\\\"><a href=\\\"http://scholar.google.com/scholar?oi=bibs&amp;hl=en&amp;oe=ASCII&amp;cites=10491065069728818067\\\" class=\\\"gsc_a_ac\\\">26</a></td><td class=\\\"gsc_a_y\\\"><span class=\\\"gsc_a_h\\\">2015</span></td></tr><tr class=\\\"gsc_a_tr\\\"><td class=\\\"gsc_a_t\\\"><a href=\\\"/citations?view_op=view_citation&amp;hl=en&amp;oe=ASCII&amp;user=HI-I6C0AAAAJ&amp;citation_for_view=HI-I6C0AAAAJ:bEWYMUwI8FkC\\\" class=\\\"gsc_a_at\\\">Inflammatory molecular signature associated with infectious agents in psychosis</a><div class=\\\"gs_gray\\\">LN Hayes, EG Severance, JT Leek, KL Gressitt, C Rohleder, JM Coughlin, ...</div><div class=\\\"gs_gray\\\">Schizophrenia bulletin 40 (5), 963-972<span class=\\\"gs_oph\\\">, 2014</span></div></td><td class=\\\"gsc_a_c\\\"><a href=\\\"http://scholar.google.com/scholar?oi=bibs&amp;hl=en&amp;oe=ASCII&amp;cites=16513563558053101459\\\" class=\\\"gsc_a_ac\\\">26</a></td><td class=\\\"gsc_a_y\\\"><span class=\\\"gsc_a_h\\\">2014</span></td></tr></tbody></table><div id=\\\"gsc_a_sp\\\" style=\\\"display:none\\\"></div><div id=\\\"gsc_a_err\\\" class=\\\"gs_alrt\\\" style=\\\"display:none\\\">The system can&#39;t perform the operation now. Try again later.</div><div id=\\\"gsc_lwp\\\"><div id=\\\"gsc_bpf\\\"><button type=\\\"button\\\" id=\\\"gsc_bpf_prev\\\" aria-label=\\\"Previous\\\" disabled class=\\\"gs_btnPL gs_in_ib gs_btn_half gs_btn_slt gs_dis\\\"><span class=\\\"gs_wr\\\"><span class=\\\"gs_lbl\\\"></span><span class=\\\"gs_ico gs_ico_dis\\\"></span></span></button><button type=\\\"button\\\" id=\\\"gsc_bpf_more\\\" class=\\\" gs_btn_smd\\\"><span class=\\\"gs_wr\\\"><span class=\\\"gs_lbl\\\">Show more</span></span></button><button type=\\\"button\\\" id=\\\"gsc_bpf_next\\\" aria-label=\\\"Next\\\" class=\\\"gs_btnPR gs_in_ib gs_btn_half gs_btn_srt\\\"><span class=\\\"gs_wr\\\"><span class=\\\"gs_lbl\\\"></span><span class=\\\"gs_ico\\\"></span></span></button></div></div></form></div><div class=\\\"gsc_lcl\\\"><div id=\\\"gs_ftr\\\" role=\\\"contentinfo\\\"><div id=\\\"gsc_dscl\\\">Dates and citation counts are estimated and are determined automatically by a computer program.</div><div id=\\\"gsc_ftr_h\\\"><a href=\\\"/intl/en/scholar/citations.html\\\">Help</a> <a href=\\\"//www.google.com/intl/en/policies/privacy/\\\">Privacy</a> <a href=\\\"//www.google.com/intl/en/policies/terms/\\\">Terms</a> <a href=\\\"//support.google.com/scholar/contact/general\\\">Provide feedback</a> <a href=\\\"/citations?hl=en&amp;oe=ASCII\\\">Get my own profile</a></div></div></div></div></div><div id=\\\"gs_rdy\\\"></div></body></html>\""
      ]
     },
     "metadata": {},
     "output_type": "display_data"
    }
   ],
   "source": [
    "htmlCode"
   ]
  },
  {
   "cell_type": "code",
   "execution_count": 71,
   "metadata": {
    "collapsed": false
   },
   "outputs": [
    {
     "ename": "ERROR",
     "evalue": "Error: failed to load external entity \"http://scholar.google.com/citations?user=HI-I6C0AAAAJ&hl=en\"\n\n",
     "output_type": "error",
     "traceback": [
      "Error: failed to load external entity \"http://scholar.google.com/citations?user=HI-I6C0AAAAJ&hl=en\"\n\nTraceback:\n",
      "1. htmlTreeParse(url, useInternalNodes = T)",
      "2. (function (msg, code, domain, line, col, level, filename, class = \"XMLError\") \n . {\n .     e = makeXMLError(msg, code, domain, line, col, level, filename, \n .         class)\n .     dom = names(e$domain)\n .     class(e) = c(names(e$code), sprintf(\"%s_Error\", gsub(\"_FROM_\", \n .         \"_\", dom)), class(e))\n .     if (e$code == xmlParserErrors[\"XML_IO_LOAD_ERROR\"]) \n .         stop(e)\n . })(\"failed to load external entity \\\"http://scholar.google.com/citations?user=HI-I6C0AAAAJ&hl=en\\\"\\n\", \n .     1549L, 8L, 0L, 0L, 1L, character(0))"
     ]
    }
   ],
   "source": [
    "library(XML)\n",
    "url=\"http://scholar.google.com/citations?user=HI-I6C0AAAAJ&hl=en\"\n",
    "html <- htmlTreeParse(url, useInternalNodes=T)\n",
    "xpathSApply(html, \"//title\", xmlValue)\n",
    "xpathSApply(html, \"//td[@id='col-citedby']\", xmlValue)"
   ]
  },
  {
   "cell_type": "code",
   "execution_count": null,
   "metadata": {
    "collapsed": true
   },
   "outputs": [],
   "source": [
    "# GET using httr\n",
    "library(httr)\n",
    "html2 = GET(url)\n",
    "content2 = content(html2, as=\"text\")\n",
    "parsedHtml = htmlParse(content2, asText=TRUE)\n",
    "xpathSApply(parsedHtml, \"//title\", xmlValue)"
   ]
  },
  {
   "cell_type": "code",
   "execution_count": null,
   "metadata": {
    "collapsed": true
   },
   "outputs": [],
   "source": [
    "pg1 = GET(\"http://httpbin.org/basic-auth/user/passwd\")\n",
    "pg1"
   ]
  },
  {
   "cell_type": "code",
   "execution_count": null,
   "metadata": {
    "collapsed": true
   },
   "outputs": [],
   "source": [
    "pg2 = GET(\"http://httpbin.org/basic-auth/user/passwd\",authenticate(\"user\",\"passwd\"))\n",
    "pg2\n",
    "names(pg2)"
   ]
  },
  {
   "cell_type": "code",
   "execution_count": null,
   "metadata": {
    "collapsed": true
   },
   "outputs": [],
   "source": [
    "# handles\n",
    "google = handle(\"http://google.com\")\n",
    "pg1 = GET(handle=google,path=\"/\")\n",
    "pg2 = GET(handle=google,path=\"search\")"
   ]
  },
  {
   "cell_type": "code",
   "execution_count": 44,
   "metadata": {
    "collapsed": true
   },
   "outputs": [],
   "source": [
    "# getting data from APIs\n",
    "library(httr)\n",
    "library(rjson)"
   ]
  },
  {
   "cell_type": "code",
   "execution_count": 45,
   "metadata": {
    "collapsed": true
   },
   "outputs": [],
   "source": [
    "myapp=oauth_app(\"twitter\",key=\"GWE6EG0aZxrZHYmO3ztg\",\n",
    "                secret=\"OmvwtODFrHGRorfMurjn0mWZTJopsz2hNJZLaZDXFYs\")\n",
    "sig=sign_oauth1.0(myapp,token=\"463708342-lihrJNiHNi5OjCWifyFuJCQDqNlKpjlwHubbrDKe\",\n",
    "                  token_secret=\"iMXPx2zO6xhymDZ1wplSTZx8Tt4KKqnfzHIZ6Ju3Cs\")\n",
    "homeTL=GET(\"https://api.twitter.com/1.1/statuses/home_timeline.json\",sig)"
   ]
  },
  {
   "cell_type": "code",
   "execution_count": 83,
   "metadata": {
    "collapsed": false
   },
   "outputs": [
    {
     "data": {
      "text/plain": [
       "Response [https://api.twitter.com/1.1/statuses/home_timeline.json]\n",
       "  Date: 2016-05-31 03:13\n",
       "  Status: 200\n",
       "  Content-Type: application/json;charset=utf-8\n",
       "  Size: 89.5 kB\n"
      ]
     },
     "execution_count": 83,
     "metadata": {},
     "output_type": "execute_result"
    }
   ],
   "source": [
    "homeTL"
   ]
  },
  {
   "cell_type": "code",
   "execution_count": 90,
   "metadata": {
    "collapsed": false
   },
   "outputs": [],
   "source": [
    "json1 = content(homeTL, \"parsed\", encoding=\"utf8\")"
   ]
  },
  {
   "cell_type": "code",
   "execution_count": null,
   "metadata": {
    "collapsed": false
   },
   "outputs": [],
   "source": [
    "print(json1)"
   ]
  },
  {
   "cell_type": "code",
   "execution_count": null,
   "metadata": {
    "collapsed": false
   },
   "outputs": [],
   "source": [
    "toJSON(json1)"
   ]
  },
  {
   "cell_type": "code",
   "execution_count": null,
   "metadata": {
    "collapsed": false
   },
   "outputs": [],
   "source": [
    "json2 = jsonlite::fromJSON(toJSON(json1))\n",
    "json2[1,1:4]"
   ]
  },
  {
   "cell_type": "markdown",
   "metadata": {},
   "source": [
    "----"
   ]
  },
  {
   "cell_type": "code",
   "execution_count": 98,
   "metadata": {
    "collapsed": true
   },
   "outputs": [],
   "source": [
    "#install.packages(\"quantmod\")\n",
    "library(quantmod)\n",
    "library(lubridate)"
   ]
  },
  {
   "cell_type": "code",
   "execution_count": 107,
   "metadata": {
    "collapsed": false
   },
   "outputs": [
    {
     "data": {
      "text/plain": [
       "           AMZN.Open AMZN.High AMZN.Low AMZN.Close AMZN.Volume AMZN.Adjusted\n",
       "2007-01-03     38.68     39.06    38.05      38.70    12405100         38.70\n",
       "2007-01-04     38.59     39.14    38.26      38.90     6318400         38.90\n",
       "2007-01-05     38.72     38.79    37.60      38.37     6619700         38.37\n",
       "2007-01-08     38.22     38.31    37.17      37.50     6783000         37.50\n",
       "2007-01-09     37.60     38.06    37.34      37.78     5703000         37.78\n",
       "2007-01-10     37.49     37.70    37.07      37.15     6527500         37.15"
      ]
     },
     "execution_count": 107,
     "metadata": {},
     "output_type": "execute_result"
    },
    {
     "data": {
      "text/plain": [
       "           AMZN.Open AMZN.High AMZN.Low AMZN.Close AMZN.Volume AMZN.Adjusted\n",
       "2016-05-20    701.05    707.24   700.00     702.80     2867400        702.80\n",
       "2016-05-23    704.25    706.00   696.42     696.75     2579200        696.75\n",
       "2016-05-24    698.01    707.50   698.00     704.20     3024000        704.20\n",
       "2016-05-25    708.00    710.86   705.52     708.35     3267700        708.35\n",
       "2016-05-26    708.33    715.00   707.29     714.91     2436800        714.91\n",
       "2016-05-27    715.00    716.60   711.10     712.24     2246400        712.24"
      ]
     },
     "execution_count": 107,
     "metadata": {},
     "output_type": "execute_result"
    }
   ],
   "source": [
    "amzn = getSymbols(\"AMZN\",auto.assign=FALSE); head(amzn); tail(amzn)"
   ]
  },
  {
   "cell_type": "code",
   "execution_count": 108,
   "metadata": {
    "collapsed": false
   },
   "outputs": [
    {
     "data": {
      "text/plain": [
       "[1] \"2007-01-03\" \"2007-01-04\" \"2007-01-05\" \"2007-01-08\" \"2007-01-09\"\n",
       "[6] \"2007-01-10\""
      ]
     },
     "execution_count": 108,
     "metadata": {},
     "output_type": "execute_result"
    },
    {
     "data": {
      "text/plain": [
       "[1] \"2016-05-20\" \"2016-05-23\" \"2016-05-24\" \"2016-05-25\" \"2016-05-26\"\n",
       "[6] \"2016-05-27\""
      ]
     },
     "execution_count": 108,
     "metadata": {},
     "output_type": "execute_result"
    }
   ],
   "source": [
    "sampleTimes = index(amzn); head(sampleTimes); tail(sampleTimes)"
   ]
  },
  {
   "cell_type": "code",
   "execution_count": 100,
   "metadata": {
    "collapsed": false
   },
   "outputs": [
    {
     "data": {
      "text/html": [
       "47"
      ],
      "text/latex": [
       "47"
      ],
      "text/markdown": [
       "47"
      ],
      "text/plain": [
       "[1] 47"
      ]
     },
     "execution_count": 100,
     "metadata": {},
     "output_type": "execute_result"
    }
   ],
   "source": [
    "length(grep(\"Mon\",lubridate::wday(sampleTimes[(grep(\"^2012\",sampleTimes))],label=TRUE)))"
   ]
  },
  {
   "cell_type": "markdown",
   "metadata": {},
   "source": [
    "----\n",
    "\n",
    "### Github"
   ]
  },
  {
   "cell_type": "code",
   "execution_count": 109,
   "metadata": {
    "collapsed": true
   },
   "outputs": [],
   "source": [
    "library(httr)\n",
    "library(rjson)"
   ]
  },
  {
   "cell_type": "code",
   "execution_count": 110,
   "metadata": {
    "collapsed": false
   },
   "outputs": [
    {
     "data": {
      "text/plain": [
       "<oauth_endpoint>\n",
       " authorize: https://github.com/login/oauth/authorize\n",
       " access:    https://github.com/login/oauth/access_token"
      ]
     },
     "execution_count": 110,
     "metadata": {},
     "output_type": "execute_result"
    }
   ],
   "source": [
    "# 1. Find OAuth settings for github:\n",
    "#    http://developer.github.com/v3/oauth/\n",
    "oauth_endpoints(\"github\")"
   ]
  },
  {
   "cell_type": "code",
   "execution_count": 113,
   "metadata": {
    "collapsed": false
   },
   "outputs": [],
   "source": [
    "# 2. Register an application at https://github.com/settings/applications\n",
    "#    Insert your values below - if secret is omitted, it will look it up in\n",
    "#    the GITHUB_CONSUMER_SECRET environmental variable.\n",
    "#\n",
    "#    Use http://localhost:1410 as the callback url\n",
    "myapp <- oauth_app(\"github\", \"225166f0bae7c2858934\", NULL)"
   ]
  },
  {
   "cell_type": "code",
   "execution_count": 117,
   "metadata": {
    "collapsed": false
   },
   "outputs": [
    {
     "data": {
      "text/plain": [
       "<oauth_app> github\n",
       "  key:    225166f0bae7c2858934\n",
       "  secret: <not supplied>"
      ]
     },
     "execution_count": 117,
     "metadata": {},
     "output_type": "execute_result"
    }
   ],
   "source": [
    "myapp"
   ]
  },
  {
   "cell_type": "code",
   "execution_count": 115,
   "metadata": {
    "collapsed": false
   },
   "outputs": [
    {
     "ename": "ERROR",
     "evalue": "Error: oauth_listener() needs an interactive environment.\n",
     "output_type": "error",
     "traceback": [
      "Error: oauth_listener() needs an interactive environment.\n"
     ]
    }
   ],
   "source": [
    "# 3. Get OAuth credentials\n",
    "github_token <- oauth2.0_token(oauth_endpoints(\"github\"), myapp)"
   ]
  },
  {
   "cell_type": "code",
   "execution_count": 116,
   "metadata": {
    "collapsed": false
   },
   "outputs": [
    {
     "ename": "ERROR",
     "evalue": "Error in structure(list(method = method, url = url, headers = keep_last(headers), : object 'github_token' not found\n",
     "output_type": "error",
     "traceback": [
      "Error in structure(list(method = method, url = url, headers = keep_last(headers), : object 'github_token' not found\n"
     ]
    }
   ],
   "source": [
    "# 4. Use API\n",
    "req <- GET(\"https://api.github.com/rate_limit\", config(token = github_token))\n",
    "#stop_for_status(req)\n",
    "#content(req)"
   ]
  },
  {
   "cell_type": "code",
   "execution_count": null,
   "metadata": {
    "collapsed": false
   },
   "outputs": [],
   "source": [
    "req<-GET(\"https://api.github.com/users/jtleek/repos\",config(token=github_token))\n",
    "json1=content(req)\n",
    "json2=jsonlite::fromJSON(toJSON(json1))\n",
    "json2[4,\"created_at\"]"
   ]
  },
  {
   "cell_type": "markdown",
   "metadata": {
    "collapsed": true
   },
   "source": [
    "----"
   ]
  }
 ],
 "metadata": {
  "kernelspec": {
   "display_name": "R",
   "language": "R",
   "name": "ir"
  },
  "language_info": {
   "codemirror_mode": "r",
   "file_extension": ".r",
   "mimetype": "text/x-r-source",
   "name": "R",
   "pygments_lexer": "r",
   "version": "3.2.4"
  },
  "widgets": {
   "state": {},
   "version": "1.1.1"
  }
 },
 "nbformat": 4,
 "nbformat_minor": 0
}
