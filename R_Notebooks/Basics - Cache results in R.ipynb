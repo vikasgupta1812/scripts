{
 "cells": [
  {
   "cell_type": "markdown",
   "metadata": {},
   "source": [
    "Source - https://github.com/sefakilic/coursera-rprog-assignment2/blob/master/cachematrix.R"
   ]
  },
  {
   "cell_type": "code",
   "execution_count": 1,
   "metadata": {
    "collapsed": true
   },
   "outputs": [],
   "source": [
    "# Matrix inversion is usually a costly computation and there may be some benefit\n",
    "# to caching the inverse of a matrix rather than compute it repeatedly. The\n",
    "# following two functions are used to cache the inverse of a matrix."
   ]
  },
  {
   "cell_type": "code",
   "execution_count": 2,
   "metadata": {
    "collapsed": true
   },
   "outputs": [],
   "source": [
    "# makeCacheMatrix creates a list containing a function to\n",
    "# 1. set the value of the matrix\n",
    "# 2. get the value of the matrix\n",
    "# 3. set the value of inverse of the matrix\n",
    "# 4. get the value of inverse of the matrix\n",
    "makeCacheMatrix <- function(x = matrix()) {\n",
    "    inv <- NULL\n",
    "    set <- function(y) {\n",
    "        x <<- y\n",
    "        inv <<- NULL\n",
    "    }\n",
    "    get <- function() x\n",
    "    setinverse <- function(inverse) inv <<- inverse\n",
    "    getinverse <- function() inv\n",
    "    list(set=set, get=get, setinverse=setinverse, getinverse=getinverse)\n",
    "}"
   ]
  },
  {
   "cell_type": "code",
   "execution_count": 3,
   "metadata": {
    "collapsed": true
   },
   "outputs": [],
   "source": [
    "# The following function returns the inverse of the matrix. It first checks if\n",
    "# the inverse has already been computed. If so, it gets the result and skips the\n",
    "# computation. If not, it computes the inverse, sets the value in the cache via\n",
    "# setinverse function.\n",
    "\n",
    "# This function assumes that the matrix is always invertible.\n",
    "cacheSolve <- function(x, ...) {\n",
    "    inv <- x$getinverse()\n",
    "    if(!is.null(inv)) {\n",
    "        message(\"getting cached data.\")\n",
    "        return(inv)\n",
    "    }\n",
    "    data <- x$get()\n",
    "    inv <- solve(data)\n",
    "    x$setinverse(inv)\n",
    "    inv\n",
    "}"
   ]
  },
  {
   "cell_type": "code",
   "execution_count": 4,
   "metadata": {
    "collapsed": false
   },
   "outputs": [
    {
     "data": {
      "text/html": [
       "<table>\n",
       "<tbody>\n",
       "\t<tr><td> 1.00</td><td>-0.25</td></tr>\n",
       "\t<tr><td>-0.25</td><td> 1.00</td></tr>\n",
       "</tbody>\n",
       "</table>\n"
      ],
      "text/latex": [
       "\\begin{tabular}{ll}\n",
       "\t  1.00 & -0.25\\\\\n",
       "\t -0.25 &  1.00\\\\\n",
       "\\end{tabular}\n"
      ],
      "text/markdown": [
       "1. 1\n",
       "2. -0.25\n",
       "3. -0.25\n",
       "4. 1\n",
       "\n",
       "\n"
      ],
      "text/plain": [
       "      [,1]  [,2]\n",
       "[1,]  1.00 -0.25\n",
       "[2,] -0.25  1.00"
      ]
     },
     "execution_count": 4,
     "metadata": {},
     "output_type": "execute_result"
    }
   ],
   "source": [
    "## Sample run:\n",
    "x = rbind(c(1, -1/4), c(-1/4, 1))\n",
    "m = makeCacheMatrix(x)\n",
    "m$get()\n",
    "##       [,1]  [,2]\n",
    "## [1,]  1.00 -0.25\n",
    "## [2,] -0.25  1.00"
   ]
  },
  {
   "cell_type": "code",
   "execution_count": 5,
   "metadata": {
    "collapsed": false
   },
   "outputs": [
    {
     "data": {
      "text/html": [
       "<table>\n",
       "<tbody>\n",
       "\t<tr><td>1.0666667</td><td>0.2666667</td></tr>\n",
       "\t<tr><td>0.2666667</td><td>1.0666667</td></tr>\n",
       "</tbody>\n",
       "</table>\n"
      ],
      "text/latex": [
       "\\begin{tabular}{ll}\n",
       "\t 1.0666667 & 0.2666667\\\\\n",
       "\t 0.2666667 & 1.0666667\\\\\n",
       "\\end{tabular}\n"
      ],
      "text/markdown": [
       "1. 1.06666666666667\n",
       "2. 0.266666666666667\n",
       "3. 0.266666666666667\n",
       "4. 1.06666666666667\n",
       "\n",
       "\n"
      ],
      "text/plain": [
       "          [,1]      [,2]\n",
       "[1,] 1.0666667 0.2666667\n",
       "[2,] 0.2666667 1.0666667"
      ]
     },
     "execution_count": 5,
     "metadata": {},
     "output_type": "execute_result"
    }
   ],
   "source": [
    "## No cache in the first run\n",
    "cacheSolve(m)\n",
    "##           [,1]      [,2]\n",
    "## [1,] 1.0666667 0.2666667\n",
    "## [2,] 0.2666667 1.0666667"
   ]
  },
  {
   "cell_type": "code",
   "execution_count": 6,
   "metadata": {
    "collapsed": false
   },
   "outputs": [
    {
     "name": "stderr",
     "output_type": "stream",
     "text": [
      "getting cached data.\n"
     ]
    },
    {
     "data": {
      "text/html": [
       "<table>\n",
       "<tbody>\n",
       "\t<tr><td>1.0666667</td><td>0.2666667</td></tr>\n",
       "\t<tr><td>0.2666667</td><td>1.0666667</td></tr>\n",
       "</tbody>\n",
       "</table>\n"
      ],
      "text/latex": [
       "\\begin{tabular}{ll}\n",
       "\t 1.0666667 & 0.2666667\\\\\n",
       "\t 0.2666667 & 1.0666667\\\\\n",
       "\\end{tabular}\n"
      ],
      "text/markdown": [
       "1. 1.06666666666667\n",
       "2. 0.266666666666667\n",
       "3. 0.266666666666667\n",
       "4. 1.06666666666667\n",
       "\n",
       "\n"
      ],
      "text/plain": [
       "          [,1]      [,2]\n",
       "[1,] 1.0666667 0.2666667\n",
       "[2,] 0.2666667 1.0666667"
      ]
     },
     "execution_count": 6,
     "metadata": {},
     "output_type": "execute_result"
    }
   ],
   "source": [
    "## Retrieving from the cache in the second run\n",
    "cacheSolve(m)\n",
    "## getting cached data.\n",
    "##           [,1]      [,2]\n",
    "## [1,] 1.0666667 0.2666667\n",
    "## [2,] 0.2666667 1.0666667\n",
    "## > "
   ]
  },
  {
   "cell_type": "code",
   "execution_count": null,
   "metadata": {
    "collapsed": true
   },
   "outputs": [],
   "source": []
  }
 ],
 "metadata": {
  "kernelspec": {
   "display_name": "R",
   "language": "R",
   "name": "ir"
  },
  "language_info": {
   "codemirror_mode": "r",
   "file_extension": ".r",
   "mimetype": "text/x-r-source",
   "name": "R",
   "pygments_lexer": "r",
   "version": "3.2.4"
  },
  "widgets": {
   "state": {},
   "version": "1.1.1"
  }
 },
 "nbformat": 4,
 "nbformat_minor": 0
}
