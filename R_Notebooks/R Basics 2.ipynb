{
 "cells": [
  {
   "cell_type": "code",
   "execution_count": 1,
   "metadata": {
    "collapsed": false
   },
   "outputs": [
    {
     "name": "stdout",
     "output_type": "stream",
     "text": [
      "function (object, ...)  \n"
     ]
    }
   ],
   "source": [
    "str(str)"
   ]
  },
  {
   "cell_type": "code",
   "execution_count": 2,
   "metadata": {
    "collapsed": false
   },
   "outputs": [
    {
     "name": "stdout",
     "output_type": "stream",
     "text": [
      "function (formula, data, subset, weights, na.action, method = \"qr\", model = TRUE, \n",
      "    x = FALSE, y = FALSE, qr = TRUE, singular.ok = TRUE, contrasts = NULL, \n",
      "    offset, ...)  \n"
     ]
    }
   ],
   "source": [
    "str(lm)"
   ]
  },
  {
   "cell_type": "code",
   "execution_count": 3,
   "metadata": {
    "collapsed": false
   },
   "outputs": [
    {
     "name": "stdout",
     "output_type": "stream",
     "text": [
      "function (name, pos = -1L, envir = as.environment(pos), all.names = FALSE, \n",
      "    pattern, sorted = TRUE)  \n"
     ]
    }
   ],
   "source": [
    "str(ls)"
   ]
  },
  {
   "cell_type": "code",
   "execution_count": 4,
   "metadata": {
    "collapsed": false
   },
   "outputs": [
    {
     "data": {
      "text/plain": [
       "   Min. 1st Qu.  Median    Mean 3rd Qu.    Max. \n",
       " -9.168  -1.195   1.571   1.602   4.622  12.700 "
      ]
     },
     "execution_count": 4,
     "metadata": {},
     "output_type": "execute_result"
    }
   ],
   "source": [
    "x <- rnorm(100,2,4)\n",
    "summary(x)"
   ]
  },
  {
   "cell_type": "code",
   "execution_count": 5,
   "metadata": {
    "collapsed": false
   },
   "outputs": [
    {
     "name": "stdout",
     "output_type": "stream",
     "text": [
      " num [1:100] 2.02 -1.2 5.9 7.87 9.36 ...\n"
     ]
    }
   ],
   "source": [
    "str(x)"
   ]
  },
  {
   "cell_type": "code",
   "execution_count": 7,
   "metadata": {
    "collapsed": false
   },
   "outputs": [],
   "source": [
    "f<-gl(40,10) ## 10 each of 1s, 2s, 3s ... 40s"
   ]
  },
  {
   "cell_type": "code",
   "execution_count": 8,
   "metadata": {
    "collapsed": false
   },
   "outputs": [
    {
     "name": "stdout",
     "output_type": "stream",
     "text": [
      " Factor w/ 40 levels \"1\",\"2\",\"3\",\"4\",..: 1 1 1 1 1 1 1 1 1 1 ...\n"
     ]
    }
   ],
   "source": [
    "str(f)"
   ]
  },
  {
   "cell_type": "code",
   "execution_count": 9,
   "metadata": {
    "collapsed": false
   },
   "outputs": [
    {
     "data": {
      "text/html": [
       "<dl class=dl-horizontal>\n",
       "\t<dt>1</dt>\n",
       "\t\t<dd>10</dd>\n",
       "\t<dt>2</dt>\n",
       "\t\t<dd>10</dd>\n",
       "\t<dt>3</dt>\n",
       "\t\t<dd>10</dd>\n",
       "\t<dt>4</dt>\n",
       "\t\t<dd>10</dd>\n",
       "\t<dt>5</dt>\n",
       "\t\t<dd>10</dd>\n",
       "\t<dt>6</dt>\n",
       "\t\t<dd>10</dd>\n",
       "\t<dt>7</dt>\n",
       "\t\t<dd>10</dd>\n",
       "\t<dt>8</dt>\n",
       "\t\t<dd>10</dd>\n",
       "\t<dt>9</dt>\n",
       "\t\t<dd>10</dd>\n",
       "\t<dt>10</dt>\n",
       "\t\t<dd>10</dd>\n",
       "\t<dt>11</dt>\n",
       "\t\t<dd>10</dd>\n",
       "\t<dt>12</dt>\n",
       "\t\t<dd>10</dd>\n",
       "\t<dt>13</dt>\n",
       "\t\t<dd>10</dd>\n",
       "\t<dt>14</dt>\n",
       "\t\t<dd>10</dd>\n",
       "\t<dt>15</dt>\n",
       "\t\t<dd>10</dd>\n",
       "\t<dt>16</dt>\n",
       "\t\t<dd>10</dd>\n",
       "\t<dt>17</dt>\n",
       "\t\t<dd>10</dd>\n",
       "\t<dt>18</dt>\n",
       "\t\t<dd>10</dd>\n",
       "\t<dt>19</dt>\n",
       "\t\t<dd>10</dd>\n",
       "\t<dt>20</dt>\n",
       "\t\t<dd>10</dd>\n",
       "\t<dt>21</dt>\n",
       "\t\t<dd>10</dd>\n",
       "\t<dt>22</dt>\n",
       "\t\t<dd>10</dd>\n",
       "\t<dt>23</dt>\n",
       "\t\t<dd>10</dd>\n",
       "\t<dt>24</dt>\n",
       "\t\t<dd>10</dd>\n",
       "\t<dt>25</dt>\n",
       "\t\t<dd>10</dd>\n",
       "\t<dt>26</dt>\n",
       "\t\t<dd>10</dd>\n",
       "\t<dt>27</dt>\n",
       "\t\t<dd>10</dd>\n",
       "\t<dt>28</dt>\n",
       "\t\t<dd>10</dd>\n",
       "\t<dt>29</dt>\n",
       "\t\t<dd>10</dd>\n",
       "\t<dt>30</dt>\n",
       "\t\t<dd>10</dd>\n",
       "\t<dt>31</dt>\n",
       "\t\t<dd>10</dd>\n",
       "\t<dt>32</dt>\n",
       "\t\t<dd>10</dd>\n",
       "\t<dt>33</dt>\n",
       "\t\t<dd>10</dd>\n",
       "\t<dt>34</dt>\n",
       "\t\t<dd>10</dd>\n",
       "\t<dt>35</dt>\n",
       "\t\t<dd>10</dd>\n",
       "\t<dt>36</dt>\n",
       "\t\t<dd>10</dd>\n",
       "\t<dt>37</dt>\n",
       "\t\t<dd>10</dd>\n",
       "\t<dt>38</dt>\n",
       "\t\t<dd>10</dd>\n",
       "\t<dt>39</dt>\n",
       "\t\t<dd>10</dd>\n",
       "\t<dt>40</dt>\n",
       "\t\t<dd>10</dd>\n",
       "</dl>\n"
      ],
      "text/latex": [
       "\\begin{description*}\n",
       "\\item[1] 10\n",
       "\\item[2] 10\n",
       "\\item[3] 10\n",
       "\\item[4] 10\n",
       "\\item[5] 10\n",
       "\\item[6] 10\n",
       "\\item[7] 10\n",
       "\\item[8] 10\n",
       "\\item[9] 10\n",
       "\\item[10] 10\n",
       "\\item[11] 10\n",
       "\\item[12] 10\n",
       "\\item[13] 10\n",
       "\\item[14] 10\n",
       "\\item[15] 10\n",
       "\\item[16] 10\n",
       "\\item[17] 10\n",
       "\\item[18] 10\n",
       "\\item[19] 10\n",
       "\\item[20] 10\n",
       "\\item[21] 10\n",
       "\\item[22] 10\n",
       "\\item[23] 10\n",
       "\\item[24] 10\n",
       "\\item[25] 10\n",
       "\\item[26] 10\n",
       "\\item[27] 10\n",
       "\\item[28] 10\n",
       "\\item[29] 10\n",
       "\\item[30] 10\n",
       "\\item[31] 10\n",
       "\\item[32] 10\n",
       "\\item[33] 10\n",
       "\\item[34] 10\n",
       "\\item[35] 10\n",
       "\\item[36] 10\n",
       "\\item[37] 10\n",
       "\\item[38] 10\n",
       "\\item[39] 10\n",
       "\\item[40] 10\n",
       "\\end{description*}\n"
      ],
      "text/markdown": [
       "1\n",
       ":   102\n",
       ":   103\n",
       ":   104\n",
       ":   105\n",
       ":   106\n",
       ":   107\n",
       ":   108\n",
       ":   109\n",
       ":   1010\n",
       ":   1011\n",
       ":   1012\n",
       ":   1013\n",
       ":   1014\n",
       ":   1015\n",
       ":   1016\n",
       ":   1017\n",
       ":   1018\n",
       ":   1019\n",
       ":   1020\n",
       ":   1021\n",
       ":   1022\n",
       ":   1023\n",
       ":   1024\n",
       ":   1025\n",
       ":   1026\n",
       ":   1027\n",
       ":   1028\n",
       ":   1029\n",
       ":   1030\n",
       ":   1031\n",
       ":   1032\n",
       ":   1033\n",
       ":   1034\n",
       ":   1035\n",
       ":   1036\n",
       ":   1037\n",
       ":   1038\n",
       ":   1039\n",
       ":   1040\n",
       ":   10\n",
       "\n"
      ],
      "text/plain": [
       " 1  2  3  4  5  6  7  8  9 10 11 12 13 14 15 16 17 18 19 20 21 22 23 24 25 26 \n",
       "10 10 10 10 10 10 10 10 10 10 10 10 10 10 10 10 10 10 10 10 10 10 10 10 10 10 \n",
       "27 28 29 30 31 32 33 34 35 36 37 38 39 40 \n",
       "10 10 10 10 10 10 10 10 10 10 10 10 10 10 "
      ]
     },
     "execution_count": 9,
     "metadata": {},
     "output_type": "execute_result"
    }
   ],
   "source": [
    "summary(f)"
   ]
  },
  {
   "cell_type": "code",
   "execution_count": 10,
   "metadata": {
    "collapsed": false
   },
   "outputs": [
    {
     "data": {
      "text/html": [
       "<table>\n",
       "<thead><tr><th></th><th scope=col>Ozone</th><th scope=col>Solar.R</th><th scope=col>Wind</th><th scope=col>Temp</th><th scope=col>Month</th><th scope=col>Day</th></tr></thead>\n",
       "<tbody>\n",
       "\t<tr><th scope=row>1</th><td>41</td><td>190</td><td>7.4</td><td>67</td><td>5</td><td>1</td></tr>\n",
       "\t<tr><th scope=row>2</th><td>36</td><td>118</td><td>8</td><td>72</td><td>5</td><td>2</td></tr>\n",
       "\t<tr><th scope=row>3</th><td>12</td><td>149</td><td>12.6</td><td>74</td><td>5</td><td>3</td></tr>\n",
       "\t<tr><th scope=row>4</th><td>18</td><td>313</td><td>11.5</td><td>62</td><td>5</td><td>4</td></tr>\n",
       "\t<tr><th scope=row>5</th><td>NA</td><td>NA</td><td>14.3</td><td>56</td><td>5</td><td>5</td></tr>\n",
       "\t<tr><th scope=row>6</th><td>28</td><td>NA</td><td>14.9</td><td>66</td><td>5</td><td>6</td></tr>\n",
       "</tbody>\n",
       "</table>\n"
      ],
      "text/latex": [
       "\\begin{tabular}{r|llllll}\n",
       "  & Ozone & Solar.R & Wind & Temp & Month & Day\\\\\n",
       "\\hline\n",
       "\t1 & 41 & 190 & 7.4 & 67 & 5 & 1\\\\\n",
       "\t2 & 36 & 118 & 8 & 72 & 5 & 2\\\\\n",
       "\t3 & 12 & 149 & 12.6 & 74 & 5 & 3\\\\\n",
       "\t4 & 18 & 313 & 11.5 & 62 & 5 & 4\\\\\n",
       "\t5 & NA & NA & 14.3 & 56 & 5 & 5\\\\\n",
       "\t6 & 28 & NA & 14.9 & 66 & 5 & 6\\\\\n",
       "\\end{tabular}\n"
      ],
      "text/plain": [
       "  Ozone Solar.R Wind Temp Month Day\n",
       "1    41     190  7.4   67     5   1\n",
       "2    36     118  8.0   72     5   2\n",
       "3    12     149 12.6   74     5   3\n",
       "4    18     313 11.5   62     5   4\n",
       "5    NA      NA 14.3   56     5   5\n",
       "6    28      NA 14.9   66     5   6"
      ]
     },
     "execution_count": 10,
     "metadata": {},
     "output_type": "execute_result"
    }
   ],
   "source": [
    "library(datasets)\n",
    "head(airquality)"
   ]
  },
  {
   "cell_type": "code",
   "execution_count": 11,
   "metadata": {
    "collapsed": false
   },
   "outputs": [
    {
     "name": "stdout",
     "output_type": "stream",
     "text": [
      "'data.frame':\t153 obs. of  6 variables:\n",
      " $ Ozone  : int  41 36 12 18 NA 28 23 19 8 NA ...\n",
      " $ Solar.R: int  190 118 149 313 NA NA 299 99 19 194 ...\n",
      " $ Wind   : num  7.4 8 12.6 11.5 14.3 14.9 8.6 13.8 20.1 8.6 ...\n",
      " $ Temp   : int  67 72 74 62 56 66 65 59 61 69 ...\n",
      " $ Month  : int  5 5 5 5 5 5 5 5 5 5 ...\n",
      " $ Day    : int  1 2 3 4 5 6 7 8 9 10 ...\n"
     ]
    }
   ],
   "source": [
    "str(airquality)"
   ]
  },
  {
   "cell_type": "code",
   "execution_count": 16,
   "metadata": {
    "collapsed": false
   },
   "outputs": [
    {
     "name": "stdout",
     "output_type": "stream",
     "text": [
      " num [1:10, 1:10] -0.909 0.888 -1.061 1.662 0.944 ...\n"
     ]
    }
   ],
   "source": [
    "m<-matrix(rnorm(100),10,10); str(m)"
   ]
  },
  {
   "cell_type": "code",
   "execution_count": 15,
   "metadata": {
    "collapsed": false
   },
   "outputs": [
    {
     "name": "stdout",
     "output_type": "stream",
     "text": [
      "List of 5\n",
      " $ 5:'data.frame':\t31 obs. of  6 variables:\n",
      "  ..$ Ozone  : int [1:31] 41 36 12 18 NA 28 23 19 8 NA ...\n",
      "  ..$ Solar.R: int [1:31] 190 118 149 313 NA NA 299 99 19 194 ...\n",
      "  ..$ Wind   : num [1:31] 7.4 8 12.6 11.5 14.3 14.9 8.6 13.8 20.1 8.6 ...\n",
      "  ..$ Temp   : int [1:31] 67 72 74 62 56 66 65 59 61 69 ...\n",
      "  ..$ Month  : int [1:31] 5 5 5 5 5 5 5 5 5 5 ...\n",
      "  ..$ Day    : int [1:31] 1 2 3 4 5 6 7 8 9 10 ...\n",
      " $ 6:'data.frame':\t30 obs. of  6 variables:\n",
      "  ..$ Ozone  : int [1:30] NA NA NA NA NA NA 29 NA 71 39 ...\n",
      "  ..$ Solar.R: int [1:30] 286 287 242 186 220 264 127 273 291 323 ...\n",
      "  ..$ Wind   : num [1:30] 8.6 9.7 16.1 9.2 8.6 14.3 9.7 6.9 13.8 11.5 ...\n",
      "  ..$ Temp   : int [1:30] 78 74 67 84 85 79 82 87 90 87 ...\n",
      "  ..$ Month  : int [1:30] 6 6 6 6 6 6 6 6 6 6 ...\n",
      "  ..$ Day    : int [1:30] 1 2 3 4 5 6 7 8 9 10 ...\n",
      " $ 7:'data.frame':\t31 obs. of  6 variables:\n",
      "  ..$ Ozone  : int [1:31] 135 49 32 NA 64 40 77 97 97 85 ...\n",
      "  ..$ Solar.R: int [1:31] 269 248 236 101 175 314 276 267 272 175 ...\n",
      "  ..$ Wind   : num [1:31] 4.1 9.2 9.2 10.9 4.6 10.9 5.1 6.3 5.7 7.4 ...\n",
      "  ..$ Temp   : int [1:31] 84 85 81 84 83 83 88 92 92 89 ...\n",
      "  ..$ Month  : int [1:31] 7 7 7 7 7 7 7 7 7 7 ...\n",
      "  ..$ Day    : int [1:31] 1 2 3 4 5 6 7 8 9 10 ...\n",
      " $ 8:'data.frame':\t31 obs. of  6 variables:\n",
      "  ..$ Ozone  : int [1:31] 39 9 16 78 35 66 122 89 110 NA ...\n",
      "  ..$ Solar.R: int [1:31] 83 24 77 NA NA NA 255 229 207 222 ...\n",
      "  ..$ Wind   : num [1:31] 6.9 13.8 7.4 6.9 7.4 4.6 4 10.3 8 8.6 ...\n",
      "  ..$ Temp   : int [1:31] 81 81 82 86 85 87 89 90 90 92 ...\n",
      "  ..$ Month  : int [1:31] 8 8 8 8 8 8 8 8 8 8 ...\n",
      "  ..$ Day    : int [1:31] 1 2 3 4 5 6 7 8 9 10 ...\n",
      " $ 9:'data.frame':\t30 obs. of  6 variables:\n",
      "  ..$ Ozone  : int [1:30] 96 78 73 91 47 32 20 23 21 24 ...\n",
      "  ..$ Solar.R: int [1:30] 167 197 183 189 95 92 252 220 230 259 ...\n",
      "  ..$ Wind   : num [1:30] 6.9 5.1 2.8 4.6 7.4 15.5 10.9 10.3 10.9 9.7 ...\n",
      "  ..$ Temp   : int [1:30] 91 92 93 93 87 84 80 78 75 73 ...\n",
      "  ..$ Month  : int [1:30] 9 9 9 9 9 9 9 9 9 9 ...\n",
      "  ..$ Day    : int [1:30] 1 2 3 4 5 6 7 8 9 10 ...\n"
     ]
    }
   ],
   "source": [
    "s<-split(airquality,airquality$Month); str(s)"
   ]
  },
  {
   "cell_type": "code",
   "execution_count": 17,
   "metadata": {
    "collapsed": true
   },
   "outputs": [],
   "source": [
    "# Simulation\n",
    "# rnorm, dnorm, pnorm, rpois\n",
    "# d-density r-random p-cumulative q-quantile"
   ]
  },
  {
   "cell_type": "code",
   "execution_count": 26,
   "metadata": {
    "collapsed": false
   },
   "outputs": [
    {
     "data": {
      "text/html": [
       "<ol class=list-inline>\n",
       "\t<li>0.103310223155188</li>\n",
       "\t<li>0.292658769806064</li>\n",
       "\t<li>0.0470775765698536</li>\n",
       "\t<li>0.339416139163223</li>\n",
       "\t<li>0.170196629663345</li>\n",
       "\t<li>0.373598490986694</li>\n",
       "\t<li>0.338354006803127</li>\n",
       "\t<li>0.183050230979194</li>\n",
       "\t<li>0.215647539584007</li>\n",
       "\t<li>0.386753054014839</li>\n",
       "</ol>\n"
      ],
      "text/latex": [
       "\\begin{enumerate*}\n",
       "\\item 0.103310223155188\n",
       "\\item 0.292658769806064\n",
       "\\item 0.0470775765698536\n",
       "\\item 0.339416139163223\n",
       "\\item 0.170196629663345\n",
       "\\item 0.373598490986694\n",
       "\\item 0.338354006803127\n",
       "\\item 0.183050230979194\n",
       "\\item 0.215647539584007\n",
       "\\item 0.386753054014839\n",
       "\\end{enumerate*}\n"
      ],
      "text/markdown": [
       "1. 0.103310223155188\n",
       "2. 0.292658769806064\n",
       "3. 0.0470775765698536\n",
       "4. 0.339416139163223\n",
       "5. 0.170196629663345\n",
       "6. 0.373598490986694\n",
       "7. 0.338354006803127\n",
       "8. 0.183050230979194\n",
       "9. 0.215647539584007\n",
       "10. 0.386753054014839\n",
       "\n",
       "\n"
      ],
      "text/plain": [
       " [1] 0.10331022 0.29265877 0.04707758 0.33941614 0.17019663 0.37359849\n",
       " [7] 0.33835401 0.18305023 0.21564754 0.38675305"
      ]
     },
     "execution_count": 26,
     "metadata": {},
     "output_type": "execute_result"
    }
   ],
   "source": [
    "x<-rnorm(10)\n",
    "dnorm(x,mean=0,sd=1,log=FALSE)"
   ]
  },
  {
   "cell_type": "code",
   "execution_count": 27,
   "metadata": {
    "collapsed": false
   },
   "outputs": [
    {
     "data": {
      "text/html": [
       "<ol class=list-inline>\n",
       "\t<li>0.949893828000854</li>\n",
       "\t<li>0.784405520018566</li>\n",
       "\t<li>0.980650589520561</li>\n",
       "\t<li>0.71514849597351</li>\n",
       "\t<li>0.904099204103234</li>\n",
       "\t<li>0.641440642654015</li>\n",
       "\t<li>0.282992129131339</li>\n",
       "\t<li>0.105970915832639</li>\n",
       "\t<li>0.866329815233594</li>\n",
       "\t<li>0.401634022274392</li>\n",
       "</ol>\n"
      ],
      "text/latex": [
       "\\begin{enumerate*}\n",
       "\\item 0.949893828000854\n",
       "\\item 0.784405520018566\n",
       "\\item 0.980650589520561\n",
       "\\item 0.71514849597351\n",
       "\\item 0.904099204103234\n",
       "\\item 0.641440642654015\n",
       "\\item 0.282992129131339\n",
       "\\item 0.105970915832639\n",
       "\\item 0.866329815233594\n",
       "\\item 0.401634022274392\n",
       "\\end{enumerate*}\n"
      ],
      "text/markdown": [
       "1. 0.949893828000854\n",
       "2. 0.784405520018566\n",
       "3. 0.980650589520561\n",
       "4. 0.71514849597351\n",
       "5. 0.904099204103234\n",
       "6. 0.641440642654015\n",
       "7. 0.282992129131339\n",
       "8. 0.105970915832639\n",
       "9. 0.866329815233594\n",
       "10. 0.401634022274392\n",
       "\n",
       "\n"
      ],
      "text/plain": [
       " [1] 0.9498938 0.7844055 0.9806506 0.7151485 0.9040992 0.6414406 0.2829921\n",
       " [8] 0.1059709 0.8663298 0.4016340"
      ]
     },
     "execution_count": 27,
     "metadata": {},
     "output_type": "execute_result"
    },
    {
     "name": "stderr",
     "output_type": "stream",
     "text": [
      "Warning message:\n",
      "In qnorm(x, mean = 0, sd = 1, lower.tail = TRUE, log.p = FALSE): NaNs produced"
     ]
    },
    {
     "data": {
      "text/html": [
       "<ol class=list-inline>\n",
       "\t<li>NaN</li>\n",
       "\t<li>0.796601399928933</li>\n",
       "\t<li>NaN</li>\n",
       "\t<li>0.17252844117584</li>\n",
       "\t<li>NaN</li>\n",
       "\t<li>-0.3522850830333</li>\n",
       "\t<li>NaN</li>\n",
       "\t<li>NaN</li>\n",
       "\t<li>NaN</li>\n",
       "\t<li>NaN</li>\n",
       "</ol>\n"
      ],
      "text/latex": [
       "\\begin{enumerate*}\n",
       "\\item NaN\n",
       "\\item 0.796601399928933\n",
       "\\item NaN\n",
       "\\item 0.17252844117584\n",
       "\\item NaN\n",
       "\\item -0.3522850830333\n",
       "\\item NaN\n",
       "\\item NaN\n",
       "\\item NaN\n",
       "\\item NaN\n",
       "\\end{enumerate*}\n"
      ],
      "text/markdown": [
       "1. NaN\n",
       "2. 0.796601399928933\n",
       "3. NaN\n",
       "4. 0.17252844117584\n",
       "5. NaN\n",
       "6. -0.3522850830333\n",
       "7. NaN\n",
       "8. NaN\n",
       "9. NaN\n",
       "10. NaN\n",
       "\n",
       "\n"
      ],
      "text/plain": [
       " [1]        NaN  0.7966014        NaN  0.1725284        NaN -0.3522851\n",
       " [7]        NaN        NaN        NaN        NaN"
      ]
     },
     "execution_count": 27,
     "metadata": {},
     "output_type": "execute_result"
    },
    {
     "data": {
      "text/html": [
       "<ol class=list-inline>\n",
       "\t<li>0.212607603399894</li>\n",
       "\t<li>-1.36555641411364</li>\n",
       "\t<li>-1.00338281333841</li>\n",
       "\t<li>-1.92739205229312</li>\n",
       "\t<li>0.4171247252244</li>\n",
       "\t<li>0.172939427498518</li>\n",
       "\t<li>-0.461495488585387</li>\n",
       "\t<li>0.770570885177991</li>\n",
       "\t<li>-1.03876113082511</li>\n",
       "\t<li>-0.889524020620566</li>\n",
       "</ol>\n"
      ],
      "text/latex": [
       "\\begin{enumerate*}\n",
       "\\item 0.212607603399894\n",
       "\\item -1.36555641411364\n",
       "\\item -1.00338281333841\n",
       "\\item -1.92739205229312\n",
       "\\item 0.4171247252244\n",
       "\\item 0.172939427498518\n",
       "\\item -0.461495488585387\n",
       "\\item 0.770570885177991\n",
       "\\item -1.03876113082511\n",
       "\\item -0.889524020620566\n",
       "\\end{enumerate*}\n"
      ],
      "text/markdown": [
       "1. 0.212607603399894\n",
       "2. -1.36555641411364\n",
       "3. -1.00338281333841\n",
       "4. -1.92739205229312\n",
       "5. 0.4171247252244\n",
       "6. 0.172939427498518\n",
       "7. -0.461495488585387\n",
       "8. 0.770570885177991\n",
       "9. -1.03876113082511\n",
       "10. -0.889524020620566\n",
       "\n",
       "\n"
      ],
      "text/plain": [
       " [1]  0.2126076 -1.3655564 -1.0033828 -1.9273921  0.4171247  0.1729394\n",
       " [7] -0.4614955  0.7705709 -1.0387611 -0.8895240"
      ]
     },
     "execution_count": 27,
     "metadata": {},
     "output_type": "execute_result"
    }
   ],
   "source": [
    "pnorm(x,mean=0,sd=1,lower.tail=TRUE,log.p=FALSE)\n",
    "qnorm(x,mean=0,sd=1,lower.tail=TRUE,log.p=FALSE)\n",
    "rnorm(x,mean=0,sd=1)"
   ]
  },
  {
   "cell_type": "code",
   "execution_count": 28,
   "metadata": {
    "collapsed": false
   },
   "outputs": [
    {
     "data": {
      "text/plain": [
       "   Min. 1st Qu.  Median    Mean 3rd Qu.    Max. \n",
       "  17.75   19.27   20.47   20.05   21.01   22.03 "
      ]
     },
     "execution_count": 28,
     "metadata": {},
     "output_type": "execute_result"
    }
   ],
   "source": [
    "x<-rnorm(10,20,2)\n",
    "summary(x)"
   ]
  },
  {
   "cell_type": "code",
   "execution_count": 29,
   "metadata": {
    "collapsed": false
   },
   "outputs": [
    {
     "data": {
      "text/html": [
       "<ol class=list-inline>\n",
       "\t<li>-0.626453810742332</li>\n",
       "\t<li>0.183643324222082</li>\n",
       "\t<li>-0.835628612410047</li>\n",
       "\t<li>1.59528080213779</li>\n",
       "\t<li>0.329507771815361</li>\n",
       "</ol>\n"
      ],
      "text/latex": [
       "\\begin{enumerate*}\n",
       "\\item -0.626453810742332\n",
       "\\item 0.183643324222082\n",
       "\\item -0.835628612410047\n",
       "\\item 1.59528080213779\n",
       "\\item 0.329507771815361\n",
       "\\end{enumerate*}\n"
      ],
      "text/markdown": [
       "1. -0.626453810742332\n",
       "2. 0.183643324222082\n",
       "3. -0.835628612410047\n",
       "4. 1.59528080213779\n",
       "5. 0.329507771815361\n",
       "\n",
       "\n"
      ],
      "text/plain": [
       "[1] -0.6264538  0.1836433 -0.8356286  1.5952808  0.3295078"
      ]
     },
     "execution_count": 29,
     "metadata": {},
     "output_type": "execute_result"
    },
    {
     "data": {
      "text/html": [
       "<ol class=list-inline>\n",
       "\t<li>-0.626453810742332</li>\n",
       "\t<li>0.183643324222082</li>\n",
       "\t<li>-0.835628612410047</li>\n",
       "\t<li>1.59528080213779</li>\n",
       "\t<li>0.329507771815361</li>\n",
       "</ol>\n"
      ],
      "text/latex": [
       "\\begin{enumerate*}\n",
       "\\item -0.626453810742332\n",
       "\\item 0.183643324222082\n",
       "\\item -0.835628612410047\n",
       "\\item 1.59528080213779\n",
       "\\item 0.329507771815361\n",
       "\\end{enumerate*}\n"
      ],
      "text/markdown": [
       "1. -0.626453810742332\n",
       "2. 0.183643324222082\n",
       "3. -0.835628612410047\n",
       "4. 1.59528080213779\n",
       "5. 0.329507771815361\n",
       "\n",
       "\n"
      ],
      "text/plain": [
       "[1] -0.6264538  0.1836433 -0.8356286  1.5952808  0.3295078"
      ]
     },
     "execution_count": 29,
     "metadata": {},
     "output_type": "execute_result"
    }
   ],
   "source": [
    "set.seed(1)\n",
    "rnorm(5)\n",
    "set.seed(1)\n",
    "rnorm(5)\n"
   ]
  },
  {
   "cell_type": "code",
   "execution_count": 30,
   "metadata": {
    "collapsed": false
   },
   "outputs": [
    {
     "data": {
      "text/html": [
       "<ol class=list-inline>\n",
       "\t<li>0</li>\n",
       "\t<li>0</li>\n",
       "\t<li>1</li>\n",
       "\t<li>1</li>\n",
       "\t<li>2</li>\n",
       "\t<li>1</li>\n",
       "\t<li>1</li>\n",
       "\t<li>4</li>\n",
       "\t<li>1</li>\n",
       "\t<li>2</li>\n",
       "</ol>\n"
      ],
      "text/latex": [
       "\\begin{enumerate*}\n",
       "\\item 0\n",
       "\\item 0\n",
       "\\item 1\n",
       "\\item 1\n",
       "\\item 2\n",
       "\\item 1\n",
       "\\item 1\n",
       "\\item 4\n",
       "\\item 1\n",
       "\\item 2\n",
       "\\end{enumerate*}\n"
      ],
      "text/markdown": [
       "1. 0\n",
       "2. 0\n",
       "3. 1\n",
       "4. 1\n",
       "5. 2\n",
       "6. 1\n",
       "7. 1\n",
       "8. 4\n",
       "9. 1\n",
       "10. 2\n",
       "\n",
       "\n"
      ],
      "text/plain": [
       " [1] 0 0 1 1 2 1 1 4 1 2"
      ]
     },
     "execution_count": 30,
     "metadata": {},
     "output_type": "execute_result"
    },
    {
     "data": {
      "text/html": [
       "<ol class=list-inline>\n",
       "\t<li>4</li>\n",
       "\t<li>1</li>\n",
       "\t<li>2</li>\n",
       "\t<li>0</li>\n",
       "\t<li>1</li>\n",
       "\t<li>1</li>\n",
       "\t<li>0</li>\n",
       "\t<li>1</li>\n",
       "\t<li>4</li>\n",
       "\t<li>1</li>\n",
       "</ol>\n"
      ],
      "text/latex": [
       "\\begin{enumerate*}\n",
       "\\item 4\n",
       "\\item 1\n",
       "\\item 2\n",
       "\\item 0\n",
       "\\item 1\n",
       "\\item 1\n",
       "\\item 0\n",
       "\\item 1\n",
       "\\item 4\n",
       "\\item 1\n",
       "\\end{enumerate*}\n"
      ],
      "text/markdown": [
       "1. 4\n",
       "2. 1\n",
       "3. 2\n",
       "4. 0\n",
       "5. 1\n",
       "6. 1\n",
       "7. 0\n",
       "8. 1\n",
       "9. 4\n",
       "10. 1\n",
       "\n",
       "\n"
      ],
      "text/plain": [
       " [1] 4 1 2 0 1 1 0 1 4 1"
      ]
     },
     "execution_count": 30,
     "metadata": {},
     "output_type": "execute_result"
    },
    {
     "data": {
      "text/html": [
       "<ol class=list-inline>\n",
       "\t<li>19</li>\n",
       "\t<li>19</li>\n",
       "\t<li>24</li>\n",
       "\t<li>23</li>\n",
       "\t<li>22</li>\n",
       "\t<li>24</li>\n",
       "\t<li>23</li>\n",
       "\t<li>20</li>\n",
       "\t<li>11</li>\n",
       "\t<li>22</li>\n",
       "</ol>\n"
      ],
      "text/latex": [
       "\\begin{enumerate*}\n",
       "\\item 19\n",
       "\\item 19\n",
       "\\item 24\n",
       "\\item 23\n",
       "\\item 22\n",
       "\\item 24\n",
       "\\item 23\n",
       "\\item 20\n",
       "\\item 11\n",
       "\\item 22\n",
       "\\end{enumerate*}\n"
      ],
      "text/markdown": [
       "1. 19\n",
       "2. 19\n",
       "3. 24\n",
       "4. 23\n",
       "5. 22\n",
       "6. 24\n",
       "7. 23\n",
       "8. 20\n",
       "9. 11\n",
       "10. 22\n",
       "\n",
       "\n"
      ],
      "text/plain": [
       " [1] 19 19 24 23 22 24 23 20 11 22"
      ]
     },
     "execution_count": 30,
     "metadata": {},
     "output_type": "execute_result"
    }
   ],
   "source": [
    "rpois(10,1)\n",
    "rpois(10,2)\n",
    "rpois(10,20)"
   ]
  },
  {
   "cell_type": "code",
   "execution_count": 31,
   "metadata": {
    "collapsed": false
   },
   "outputs": [
    {
     "data": {
      "text/html": [
       "0.676676416183063"
      ],
      "text/latex": [
       "0.676676416183063"
      ],
      "text/markdown": [
       "0.676676416183063"
      ],
      "text/plain": [
       "[1] 0.6766764"
      ]
     },
     "execution_count": 31,
     "metadata": {},
     "output_type": "execute_result"
    },
    {
     "data": {
      "text/html": [
       "0.947346982656289"
      ],
      "text/latex": [
       "0.947346982656289"
      ],
      "text/markdown": [
       "0.947346982656289"
      ],
      "text/plain": [
       "[1] 0.947347"
      ]
     },
     "execution_count": 31,
     "metadata": {},
     "output_type": "execute_result"
    },
    {
     "data": {
      "text/html": [
       "0.995466194473751"
      ],
      "text/latex": [
       "0.995466194473751"
      ],
      "text/markdown": [
       "0.995466194473751"
      ],
      "text/plain": [
       "[1] 0.9954662"
      ]
     },
     "execution_count": 31,
     "metadata": {},
     "output_type": "execute_result"
    }
   ],
   "source": [
    "ppois(2,2)\n",
    "ppois(4,2)\n",
    "ppois(6,2)\n"
   ]
  },
  {
   "cell_type": "code",
   "execution_count": 32,
   "metadata": {
    "collapsed": false
   },
   "outputs": [
    {
     "data": {
      "text/plain": [
       "   Min. 1st Qu.  Median    Mean 3rd Qu.    Max. \n",
       "-6.4080 -1.5400  0.6789  0.6893  2.9300  6.5050 "
      ]
     },
     "execution_count": 32,
     "metadata": {},
     "output_type": "execute_result"
    },
    {
     "data": {
      "image/png": "[encoded data removed]",
      "image/svg+xml": [
       "<?xml version=\"1.0\" encoding=\"UTF-8\"?>\n",
       "<svg xmlns=\"http://www.w3.org/2000/svg\" xmlns:xlink=\"http://www.w3.org/1999/xlink\" width=\"504pt\" height=\"504pt\" viewBox=\"0 0 504 504\" version=\"1.1\">\n",
       "<defs>\n",
       "<g>\n",
       "<symbol overflow=\"visible\" id=\"glyph0-0\">\n",
       "<g transform=\"matrix(1,0,0,1,1,-9)\">\n",
       "<rect x=\"0\" y=\"0\" width=\"1\" height=\"1\"/>\n",
       "<rect x=\"2\" y=\"0\" width=\"1\" height=\"1\"/>\n",
       "<rect x=\"4\" y=\"0\" width=\"1\" height=\"1\"/>\n",
       "<rect x=\"6\" y=\"0\" width=\"1\" height=\"1\"/>\n",
       "<rect x=\"0\" y=\"2\" width=\"1\" height=\"1\"/>\n",
       "<rect x=\"6\" y=\"2\" width=\"1\" height=\"1\"/>\n",
       "<rect x=\"0\" y=\"4\" width=\"1\" height=\"1\"/>\n",
       "<rect x=\"6\" y=\"4\" width=\"1\" height=\"1\"/>\n",
       "<rect x=\"0\" y=\"6\" width=\"1\" height=\"1\"/>\n",
       "<rect x=\"6\" y=\"6\" width=\"1\" height=\"1\"/>\n",
       "<rect x=\"0\" y=\"8\" width=\"1\" height=\"1\"/>\n",
       "<rect x=\"2\" y=\"8\" width=\"1\" height=\"1\"/>\n",
       "<rect x=\"4\" y=\"8\" width=\"1\" height=\"1\"/>\n",
       "<rect x=\"6\" y=\"8\" width=\"1\" height=\"1\"/>\n",
       "</g>\n",
       "</symbol>\n",
       "<symbol overflow=\"visible\" id=\"glyph0-1\">\n",
       "<g transform=\"matrix(1,0,0,1,0,-4)\">\n",
       "<rect x=\"0\" y=\"0\" width=\"1\" height=\"1\"/>\n",
       "<rect x=\"1\" y=\"0\" width=\"1\" height=\"1\"/>\n",
       "<rect x=\"2\" y=\"0\" width=\"1\" height=\"1\"/>\n",
       "<rect x=\"3\" y=\"0\" width=\"1\" height=\"1\"/>\n",
       "</g>\n",
       "</symbol>\n",
       "<symbol overflow=\"visible\" id=\"glyph0-2\">\n",
       "<g transform=\"matrix(1,0,0,1,1,-9)\">\n",
       "<rect x=\"1\" y=\"0\" width=\"1\" height=\"1\"/>\n",
       "<rect x=\"2\" y=\"0\" width=\"1\" height=\"1\"/>\n",
       "<rect x=\"3\" y=\"0\" width=\"1\" height=\"1\"/>\n",
       "<rect x=\"0\" y=\"1\" width=\"1\" height=\"1\"/>\n",
       "<rect x=\"4\" y=\"1\" width=\"1\" height=\"1\"/>\n",
       "<rect x=\"4\" y=\"2\" width=\"1\" height=\"1\"/>\n",
       "<rect x=\"2\" y=\"3\" width=\"1\" height=\"1\"/>\n",
       "<rect x=\"3\" y=\"3\" width=\"1\" height=\"1\"/>\n",
       "<rect x=\"4\" y=\"4\" width=\"1\" height=\"1\"/>\n",
       "<rect x=\"4\" y=\"5\" width=\"1\" height=\"1\"/>\n",
       "<rect x=\"0\" y=\"6\" width=\"1\" height=\"1\"/>\n",
       "<rect x=\"4\" y=\"6\" width=\"1\" height=\"1\"/>\n",
       "<rect x=\"0\" y=\"7\" width=\"1\" height=\"1\"/>\n",
       "<rect x=\"4\" y=\"7\" width=\"1\" height=\"1\"/>\n",
       "<rect x=\"1\" y=\"8\" width=\"1\" height=\"1\"/>\n",
       "<rect x=\"2\" y=\"8\" width=\"1\" height=\"1\"/>\n",
       "<rect x=\"3\" y=\"8\" width=\"1\" height=\"1\"/>\n",
       "</g>\n",
       "</symbol>\n",
       "<symbol overflow=\"visible\" id=\"glyph0-3\">\n",
       "<g transform=\"matrix(1,0,0,1,1,-9)\">\n",
       "<rect x=\"1\" y=\"0\" width=\"1\" height=\"1\"/>\n",
       "<rect x=\"2\" y=\"0\" width=\"1\" height=\"1\"/>\n",
       "<rect x=\"3\" y=\"0\" width=\"1\" height=\"1\"/>\n",
       "<rect x=\"0\" y=\"1\" width=\"1\" height=\"1\"/>\n",
       "<rect x=\"4\" y=\"1\" width=\"1\" height=\"1\"/>\n",
       "<rect x=\"4\" y=\"2\" width=\"1\" height=\"1\"/>\n",
       "<rect x=\"3\" y=\"3\" width=\"1\" height=\"1\"/>\n",
       "<rect x=\"2\" y=\"4\" width=\"1\" height=\"1\"/>\n",
       "<rect x=\"1\" y=\"5\" width=\"1\" height=\"1\"/>\n",
       "<rect x=\"0\" y=\"6\" width=\"1\" height=\"1\"/>\n",
       "<rect x=\"0\" y=\"7\" width=\"1\" height=\"1\"/>\n",
       "<rect x=\"0\" y=\"8\" width=\"1\" height=\"1\"/>\n",
       "<rect x=\"1\" y=\"8\" width=\"1\" height=\"1\"/>\n",
       "<rect x=\"2\" y=\"8\" width=\"1\" height=\"1\"/>\n",
       "<rect x=\"3\" y=\"8\" width=\"1\" height=\"1\"/>\n",
       "<rect x=\"4\" y=\"8\" width=\"1\" height=\"1\"/>\n",
       "</g>\n",
       "</symbol>\n",
       "<symbol overflow=\"visible\" id=\"glyph0-4\">\n",
       "<g transform=\"matrix(1,0,0,1,1,-9)\">\n",
       "<rect x=\"2\" y=\"0\" width=\"1\" height=\"1\"/>\n",
       "<rect x=\"0\" y=\"1\" width=\"1\" height=\"1\"/>\n",
       "<rect x=\"1\" y=\"1\" width=\"1\" height=\"1\"/>\n",
       "<rect x=\"2\" y=\"1\" width=\"1\" height=\"1\"/>\n",
       "<rect x=\"2\" y=\"2\" width=\"1\" height=\"1\"/>\n",
       "<rect x=\"2\" y=\"3\" width=\"1\" height=\"1\"/>\n",
       "<rect x=\"2\" y=\"4\" width=\"1\" height=\"1\"/>\n",
       "<rect x=\"2\" y=\"5\" width=\"1\" height=\"1\"/>\n",
       "<rect x=\"2\" y=\"6\" width=\"1\" height=\"1\"/>\n",
       "<rect x=\"2\" y=\"7\" width=\"1\" height=\"1\"/>\n",
       "<rect x=\"2\" y=\"8\" width=\"1\" height=\"1\"/>\n",
       "</g>\n",
       "</symbol>\n",
       "<symbol overflow=\"visible\" id=\"glyph0-5\">\n",
       "<g transform=\"matrix(1,0,0,1,1,-9)\">\n",
       "<rect x=\"1\" y=\"0\" width=\"1\" height=\"1\"/>\n",
       "<rect x=\"2\" y=\"0\" width=\"1\" height=\"1\"/>\n",
       "<rect x=\"3\" y=\"0\" width=\"1\" height=\"1\"/>\n",
       "<rect x=\"0\" y=\"1\" width=\"1\" height=\"1\"/>\n",
       "<rect x=\"4\" y=\"1\" width=\"1\" height=\"1\"/>\n",
       "<rect x=\"0\" y=\"2\" width=\"1\" height=\"1\"/>\n",
       "<rect x=\"4\" y=\"2\" width=\"1\" height=\"1\"/>\n",
       "<rect x=\"0\" y=\"3\" width=\"1\" height=\"1\"/>\n",
       "<rect x=\"4\" y=\"3\" width=\"1\" height=\"1\"/>\n",
       "<rect x=\"0\" y=\"4\" width=\"1\" height=\"1\"/>\n",
       "<rect x=\"4\" y=\"4\" width=\"1\" height=\"1\"/>\n",
       "<rect x=\"0\" y=\"5\" width=\"1\" height=\"1\"/>\n",
       "<rect x=\"4\" y=\"5\" width=\"1\" height=\"1\"/>\n",
       "<rect x=\"0\" y=\"6\" width=\"1\" height=\"1\"/>\n",
       "<rect x=\"4\" y=\"6\" width=\"1\" height=\"1\"/>\n",
       "<rect x=\"0\" y=\"7\" width=\"1\" height=\"1\"/>\n",
       "<rect x=\"4\" y=\"7\" width=\"1\" height=\"1\"/>\n",
       "<rect x=\"1\" y=\"8\" width=\"1\" height=\"1\"/>\n",
       "<rect x=\"2\" y=\"8\" width=\"1\" height=\"1\"/>\n",
       "<rect x=\"3\" y=\"8\" width=\"1\" height=\"1\"/>\n",
       "</g>\n",
       "</symbol>\n",
       "<symbol overflow=\"visible\" id=\"glyph0-6\">\n",
       "<g transform=\"matrix(1,0,0,1,0,-7)\">\n",
       "<rect x=\"0\" y=\"0\" width=\"1\" height=\"1\"/>\n",
       "<rect x=\"5\" y=\"0\" width=\"1\" height=\"1\"/>\n",
       "<rect x=\"1\" y=\"1\" width=\"1\" height=\"1\"/>\n",
       "<rect x=\"4\" y=\"1\" width=\"1\" height=\"1\"/>\n",
       "<rect x=\"2\" y=\"2\" width=\"1\" height=\"1\"/>\n",
       "<rect x=\"3\" y=\"2\" width=\"1\" height=\"1\"/>\n",
       "<rect x=\"2\" y=\"3\" width=\"1\" height=\"1\"/>\n",
       "<rect x=\"3\" y=\"3\" width=\"1\" height=\"1\"/>\n",
       "<rect x=\"1\" y=\"4\" width=\"1\" height=\"1\"/>\n",
       "<rect x=\"4\" y=\"4\" width=\"1\" height=\"1\"/>\n",
       "<rect x=\"0\" y=\"5\" width=\"1\" height=\"1\"/>\n",
       "<rect x=\"5\" y=\"5\" width=\"1\" height=\"1\"/>\n",
       "<rect x=\"0\" y=\"6\" width=\"1\" height=\"1\"/>\n",
       "<rect x=\"5\" y=\"6\" width=\"1\" height=\"1\"/>\n",
       "</g>\n",
       "</symbol>\n",
       "<symbol overflow=\"visible\" id=\"glyph1-0\">\n",
       "<g transform=\"matrix(1,0,0,1,-9,-8)\">\n",
       "<rect x=\"0\" y=\"0\" width=\"1\" height=\"1\"/>\n",
       "<rect x=\"2\" y=\"0\" width=\"1\" height=\"1\"/>\n",
       "<rect x=\"4\" y=\"0\" width=\"1\" height=\"1\"/>\n",
       "<rect x=\"6\" y=\"0\" width=\"1\" height=\"1\"/>\n",
       "<rect x=\"8\" y=\"0\" width=\"1\" height=\"1\"/>\n",
       "<rect x=\"0\" y=\"2\" width=\"1\" height=\"1\"/>\n",
       "<rect x=\"8\" y=\"2\" width=\"1\" height=\"1\"/>\n",
       "<rect x=\"0\" y=\"4\" width=\"1\" height=\"1\"/>\n",
       "<rect x=\"8\" y=\"4\" width=\"1\" height=\"1\"/>\n",
       "<rect x=\"0\" y=\"6\" width=\"1\" height=\"1\"/>\n",
       "<rect x=\"2\" y=\"6\" width=\"1\" height=\"1\"/>\n",
       "<rect x=\"4\" y=\"6\" width=\"1\" height=\"1\"/>\n",
       "<rect x=\"6\" y=\"6\" width=\"1\" height=\"1\"/>\n",
       "<rect x=\"8\" y=\"6\" width=\"1\" height=\"1\"/>\n",
       "</g>\n",
       "</symbol>\n",
       "<symbol overflow=\"visible\" id=\"glyph1-1\">\n",
       "<g transform=\"matrix(1,0,0,1,-4,-4)\">\n",
       "<rect x=\"0\" y=\"0\" width=\"1\" height=\"1\"/>\n",
       "<rect x=\"0\" y=\"1\" width=\"1\" height=\"1\"/>\n",
       "<rect x=\"0\" y=\"2\" width=\"1\" height=\"1\"/>\n",
       "<rect x=\"0\" y=\"3\" width=\"1\" height=\"1\"/>\n",
       "</g>\n",
       "</symbol>\n",
       "<symbol overflow=\"visible\" id=\"glyph1-2\">\n",
       "<g transform=\"matrix(1,0,0,1,-9,-6)\">\n",
       "<rect x=\"1\" y=\"0\" width=\"1\" height=\"1\"/>\n",
       "<rect x=\"4\" y=\"0\" width=\"1\" height=\"1\"/>\n",
       "<rect x=\"5\" y=\"0\" width=\"1\" height=\"1\"/>\n",
       "<rect x=\"6\" y=\"0\" width=\"1\" height=\"1\"/>\n",
       "<rect x=\"7\" y=\"0\" width=\"1\" height=\"1\"/>\n",
       "<rect x=\"0\" y=\"1\" width=\"1\" height=\"1\"/>\n",
       "<rect x=\"3\" y=\"1\" width=\"1\" height=\"1\"/>\n",
       "<rect x=\"8\" y=\"1\" width=\"1\" height=\"1\"/>\n",
       "<rect x=\"0\" y=\"2\" width=\"1\" height=\"1\"/>\n",
       "<rect x=\"3\" y=\"2\" width=\"1\" height=\"1\"/>\n",
       "<rect x=\"8\" y=\"2\" width=\"1\" height=\"1\"/>\n",
       "<rect x=\"0\" y=\"3\" width=\"1\" height=\"1\"/>\n",
       "<rect x=\"4\" y=\"3\" width=\"1\" height=\"1\"/>\n",
       "<rect x=\"8\" y=\"3\" width=\"1\" height=\"1\"/>\n",
       "<rect x=\"1\" y=\"4\" width=\"1\" height=\"1\"/>\n",
       "<rect x=\"2\" y=\"4\" width=\"1\" height=\"1\"/>\n",
       "<rect x=\"3\" y=\"4\" width=\"1\" height=\"1\"/>\n",
       "<rect x=\"4\" y=\"4\" width=\"1\" height=\"1\"/>\n",
       "<rect x=\"5\" y=\"4\" width=\"1\" height=\"1\"/>\n",
       "<rect x=\"6\" y=\"4\" width=\"1\" height=\"1\"/>\n",
       "<rect x=\"7\" y=\"4\" width=\"1\" height=\"1\"/>\n",
       "</g>\n",
       "</symbol>\n",
       "<symbol overflow=\"visible\" id=\"glyph1-3\">\n",
       "<g transform=\"matrix(1,0,0,1,-9,-7)\">\n",
       "<rect x=\"6\" y=\"1\" width=\"1\" height=\"1\"/>\n",
       "<rect x=\"0\" y=\"2\" width=\"1\" height=\"1\"/>\n",
       "<rect x=\"1\" y=\"2\" width=\"1\" height=\"1\"/>\n",
       "<rect x=\"2\" y=\"2\" width=\"1\" height=\"1\"/>\n",
       "<rect x=\"3\" y=\"2\" width=\"1\" height=\"1\"/>\n",
       "<rect x=\"4\" y=\"2\" width=\"1\" height=\"1\"/>\n",
       "<rect x=\"5\" y=\"2\" width=\"1\" height=\"1\"/>\n",
       "<rect x=\"6\" y=\"2\" width=\"1\" height=\"1\"/>\n",
       "<rect x=\"7\" y=\"2\" width=\"1\" height=\"1\"/>\n",
       "<rect x=\"8\" y=\"2\" width=\"1\" height=\"1\"/>\n",
       "<rect x=\"1\" y=\"3\" width=\"1\" height=\"1\"/>\n",
       "<rect x=\"6\" y=\"3\" width=\"1\" height=\"1\"/>\n",
       "<rect x=\"2\" y=\"4\" width=\"1\" height=\"1\"/>\n",
       "<rect x=\"3\" y=\"4\" width=\"1\" height=\"1\"/>\n",
       "<rect x=\"6\" y=\"4\" width=\"1\" height=\"1\"/>\n",
       "<rect x=\"4\" y=\"5\" width=\"1\" height=\"1\"/>\n",
       "<rect x=\"6\" y=\"5\" width=\"1\" height=\"1\"/>\n",
       "<rect x=\"5\" y=\"6\" width=\"1\" height=\"1\"/>\n",
       "<rect x=\"6\" y=\"6\" width=\"1\" height=\"1\"/>\n",
       "</g>\n",
       "</symbol>\n",
       "<symbol overflow=\"visible\" id=\"glyph1-4\">\n",
       "<g transform=\"matrix(1,0,0,1,-9,-6)\">\n",
       "<rect x=\"1\" y=\"0\" width=\"1\" height=\"1\"/>\n",
       "<rect x=\"2\" y=\"0\" width=\"1\" height=\"1\"/>\n",
       "<rect x=\"8\" y=\"0\" width=\"1\" height=\"1\"/>\n",
       "<rect x=\"0\" y=\"1\" width=\"1\" height=\"1\"/>\n",
       "<rect x=\"3\" y=\"1\" width=\"1\" height=\"1\"/>\n",
       "<rect x=\"8\" y=\"1\" width=\"1\" height=\"1\"/>\n",
       "<rect x=\"0\" y=\"2\" width=\"1\" height=\"1\"/>\n",
       "<rect x=\"4\" y=\"2\" width=\"1\" height=\"1\"/>\n",
       "<rect x=\"8\" y=\"2\" width=\"1\" height=\"1\"/>\n",
       "<rect x=\"0\" y=\"3\" width=\"1\" height=\"1\"/>\n",
       "<rect x=\"5\" y=\"3\" width=\"1\" height=\"1\"/>\n",
       "<rect x=\"8\" y=\"3\" width=\"1\" height=\"1\"/>\n",
       "<rect x=\"1\" y=\"4\" width=\"1\" height=\"1\"/>\n",
       "<rect x=\"6\" y=\"4\" width=\"1\" height=\"1\"/>\n",
       "<rect x=\"7\" y=\"4\" width=\"1\" height=\"1\"/>\n",
       "<rect x=\"8\" y=\"4\" width=\"1\" height=\"1\"/>\n",
       "</g>\n",
       "</symbol>\n",
       "<symbol overflow=\"visible\" id=\"glyph1-5\">\n",
       "<g transform=\"matrix(1,0,0,1,-9,-6)\">\n",
       "<rect x=\"1\" y=\"0\" width=\"1\" height=\"1\"/>\n",
       "<rect x=\"2\" y=\"0\" width=\"1\" height=\"1\"/>\n",
       "<rect x=\"3\" y=\"0\" width=\"1\" height=\"1\"/>\n",
       "<rect x=\"4\" y=\"0\" width=\"1\" height=\"1\"/>\n",
       "<rect x=\"5\" y=\"0\" width=\"1\" height=\"1\"/>\n",
       "<rect x=\"6\" y=\"0\" width=\"1\" height=\"1\"/>\n",
       "<rect x=\"7\" y=\"0\" width=\"1\" height=\"1\"/>\n",
       "<rect x=\"0\" y=\"1\" width=\"1\" height=\"1\"/>\n",
       "<rect x=\"8\" y=\"1\" width=\"1\" height=\"1\"/>\n",
       "<rect x=\"0\" y=\"2\" width=\"1\" height=\"1\"/>\n",
       "<rect x=\"8\" y=\"2\" width=\"1\" height=\"1\"/>\n",
       "<rect x=\"0\" y=\"3\" width=\"1\" height=\"1\"/>\n",
       "<rect x=\"8\" y=\"3\" width=\"1\" height=\"1\"/>\n",
       "<rect x=\"1\" y=\"4\" width=\"1\" height=\"1\"/>\n",
       "<rect x=\"2\" y=\"4\" width=\"1\" height=\"1\"/>\n",
       "<rect x=\"3\" y=\"4\" width=\"1\" height=\"1\"/>\n",
       "<rect x=\"4\" y=\"4\" width=\"1\" height=\"1\"/>\n",
       "<rect x=\"5\" y=\"4\" width=\"1\" height=\"1\"/>\n",
       "<rect x=\"6\" y=\"4\" width=\"1\" height=\"1\"/>\n",
       "<rect x=\"7\" y=\"4\" width=\"1\" height=\"1\"/>\n",
       "</g>\n",
       "</symbol>\n",
       "<symbol overflow=\"visible\" id=\"glyph1-6\">\n",
       "<g transform=\"matrix(1,0,0,1,-7,-6)\">\n",
       "<rect x=\"0\" y=\"0\" width=\"1\" height=\"1\"/>\n",
       "<rect x=\"1\" y=\"0\" width=\"1\" height=\"1\"/>\n",
       "<rect x=\"2\" y=\"0\" width=\"1\" height=\"1\"/>\n",
       "<rect x=\"3\" y=\"1\" width=\"1\" height=\"1\"/>\n",
       "<rect x=\"4\" y=\"1\" width=\"1\" height=\"1\"/>\n",
       "<rect x=\"5\" y=\"1\" width=\"1\" height=\"1\"/>\n",
       "<rect x=\"6\" y=\"2\" width=\"1\" height=\"1\"/>\n",
       "<rect x=\"7\" y=\"2\" width=\"1\" height=\"1\"/>\n",
       "<rect x=\"4\" y=\"3\" width=\"1\" height=\"1\"/>\n",
       "<rect x=\"5\" y=\"3\" width=\"1\" height=\"1\"/>\n",
       "<rect x=\"8\" y=\"3\" width=\"1\" height=\"1\"/>\n",
       "<rect x=\"0\" y=\"4\" width=\"1\" height=\"1\"/>\n",
       "<rect x=\"1\" y=\"4\" width=\"1\" height=\"1\"/>\n",
       "<rect x=\"2\" y=\"4\" width=\"1\" height=\"1\"/>\n",
       "<rect x=\"3\" y=\"4\" width=\"1\" height=\"1\"/>\n",
       "<rect x=\"9\" y=\"4\" width=\"1\" height=\"1\"/>\n",
       "</g>\n",
       "</symbol>\n",
       "</g>\n",
       "</defs>\n",
       "<g id=\"surface1\">\n",
       "<rect x=\"0\" y=\"0\" width=\"504\" height=\"504\" style=\"fill:rgb(100%,100%,100%);fill-opacity:1;stroke:none;\"/>\n",
       "<path style=\"fill:none;stroke-width:0.75;stroke-linecap:round;stroke-linejoin:round;stroke:rgb(0%,0%,0%);stroke-opacity:1;stroke-miterlimit:10;\" d=\"M 382.332031 141.625 C 382.332031 145.226562 376.933594 145.226562 376.933594 141.625 C 376.933594 138.027344 382.332031 138.027344 382.332031 141.625 \"/>\n",
       "<path style=\"fill:none;stroke-width:0.75;stroke-linecap:round;stroke-linejoin:round;stroke:rgb(0%,0%,0%);stroke-opacity:1;stroke-miterlimit:10;\" d=\"M 250.625 276.003906 C 250.625 279.605469 245.226562 279.605469 245.226562 276.003906 C 245.226562 272.40625 250.625 272.40625 250.625 276.003906 \"/>\n",
       "<path style=\"fill:none;stroke-width:0.75;stroke-linecap:round;stroke-linejoin:round;stroke:rgb(0%,0%,0%);stroke-opacity:1;stroke-miterlimit:10;\" d=\"M 429.242188 72.800781 C 429.242188 76.398438 423.839844 76.398438 423.839844 72.800781 C 423.839844 69.199219 429.242188 69.199219 429.242188 72.800781 \"/>\n",
       "<path style=\"fill:none;stroke-width:0.75;stroke-linecap:round;stroke-linejoin:round;stroke:rgb(0%,0%,0%);stroke-opacity:1;stroke-miterlimit:10;\" d=\"M 194.382812 266.421875 C 194.382812 270.023438 188.984375 270.023438 188.984375 266.421875 C 188.984375 262.824219 194.382812 262.824219 194.382812 266.421875 \"/>\n",
       "<path style=\"fill:none;stroke-width:0.75;stroke-linecap:round;stroke-linejoin:round;stroke:rgb(0%,0%,0%);stroke-opacity:1;stroke-miterlimit:10;\" d=\"M 261.121094 207.972656 C 261.121094 211.574219 255.722656 211.574219 255.722656 207.972656 C 255.722656 204.375 261.121094 204.375 261.121094 207.972656 \"/>\n",
       "<path style=\"fill:none;stroke-width:0.75;stroke-linecap:round;stroke-linejoin:round;stroke:rgb(0%,0%,0%);stroke-opacity:1;stroke-miterlimit:10;\" d=\"M 337.660156 196.585938 C 337.660156 200.1875 332.261719 200.1875 332.261719 196.585938 C 332.261719 192.988281 337.660156 192.988281 337.660156 196.585938 \"/>\n",
       "<path style=\"fill:none;stroke-width:0.75;stroke-linecap:round;stroke-linejoin:round;stroke:rgb(0%,0%,0%);stroke-opacity:1;stroke-miterlimit:10;\" d=\"M 77.101562 392.585938 C 77.101562 396.183594 71.699219 396.183594 71.699219 392.585938 C 71.699219 388.984375 77.101562 388.984375 77.101562 392.585938 \"/>\n",
       "<path style=\"fill:none;stroke-width:0.75;stroke-linecap:round;stroke-linejoin:round;stroke:rgb(0%,0%,0%);stroke-opacity:1;stroke-miterlimit:10;\" d=\"M 229.300781 302.214844 C 229.300781 305.816406 223.902344 305.816406 223.902344 302.214844 C 223.902344 298.617188 229.300781 298.617188 229.300781 302.214844 \"/>\n",
       "<path style=\"fill:none;stroke-width:0.75;stroke-linecap:round;stroke-linejoin:round;stroke:rgb(0%,0%,0%);stroke-opacity:1;stroke-miterlimit:10;\" d=\"M 259.980469 228.007812 C 259.980469 231.609375 254.582031 231.609375 254.582031 228.007812 C 254.582031 224.410156 259.980469 224.410156 259.980469 228.007812 \"/>\n",
       "<path style=\"fill:none;stroke-width:0.75;stroke-linecap:round;stroke-linejoin:round;stroke:rgb(0%,0%,0%);stroke-opacity:1;stroke-miterlimit:10;\" d=\"M 252.914062 343.085938 C 252.914062 346.683594 247.511719 346.683594 247.511719 343.085938 C 247.511719 339.484375 252.914062 339.484375 252.914062 343.085938 \"/>\n",
       "<path style=\"fill:none;stroke-width:0.75;stroke-linecap:round;stroke-linejoin:round;stroke:rgb(0%,0%,0%);stroke-opacity:1;stroke-miterlimit:10;\" d=\"M 293.242188 188.734375 C 293.242188 192.335938 287.839844 192.335938 287.839844 188.734375 C 287.839844 185.136719 293.242188 185.136719 293.242188 188.734375 \"/>\n",
       "<path style=\"fill:none;stroke-width:0.75;stroke-linecap:round;stroke-linejoin:round;stroke:rgb(0%,0%,0%);stroke-opacity:1;stroke-miterlimit:10;\" d=\"M 283.429688 148.992188 C 283.429688 152.59375 278.03125 152.59375 278.03125 148.992188 C 278.03125 145.390625 283.429688 145.390625 283.429688 148.992188 \"/>\n",
       "<path style=\"fill:none;stroke-width:0.75;stroke-linecap:round;stroke-linejoin:round;stroke:rgb(0%,0%,0%);stroke-opacity:1;stroke-miterlimit:10;\" d=\"M 247.445312 316.878906 C 247.445312 320.480469 242.046875 320.480469 242.046875 316.878906 C 242.046875 313.28125 247.445312 313.28125 247.445312 316.878906 \"/>\n",
       "<path style=\"fill:none;stroke-width:0.75;stroke-linecap:round;stroke-linejoin:round;stroke:rgb(0%,0%,0%);stroke-opacity:1;stroke-miterlimit:10;\" d=\"M 394.425781 244.875 C 394.425781 248.476562 389.023438 248.476562 389.023438 244.875 C 389.023438 241.273438 394.425781 241.273438 394.425781 244.875 \"/>\n",
       "<path style=\"fill:none;stroke-width:0.75;stroke-linecap:round;stroke-linejoin:round;stroke:rgb(0%,0%,0%);stroke-opacity:1;stroke-miterlimit:10;\" d=\"M 180.167969 345.417969 C 180.167969 349.019531 174.765625 349.019531 174.765625 345.417969 C 174.765625 341.820312 180.167969 341.820312 180.167969 345.417969 \"/>\n",
       "<path style=\"fill:none;stroke-width:0.75;stroke-linecap:round;stroke-linejoin:round;stroke:rgb(0%,0%,0%);stroke-opacity:1;stroke-miterlimit:10;\" d=\"M 261.808594 305.671875 C 261.808594 309.269531 256.410156 309.269531 256.410156 305.671875 C 256.410156 302.070312 261.808594 302.070312 261.808594 305.671875 \"/>\n",
       "<path style=\"fill:none;stroke-width:0.75;stroke-linecap:round;stroke-linejoin:round;stroke:rgb(0%,0%,0%);stroke-opacity:1;stroke-miterlimit:10;\" d=\"M 367.863281 259.152344 C 367.863281 262.75 362.460938 262.75 362.460938 259.152344 C 362.460938 255.550781 367.863281 255.550781 367.863281 259.152344 \"/>\n",
       "<path style=\"fill:none;stroke-width:0.75;stroke-linecap:round;stroke-linejoin:round;stroke:rgb(0%,0%,0%);stroke-opacity:1;stroke-miterlimit:10;\" d=\"M 296.882812 129.175781 C 296.882812 132.773438 291.484375 132.773438 291.484375 129.175781 C 291.484375 125.574219 296.882812 125.574219 296.882812 129.175781 \"/>\n",
       "<path style=\"fill:none;stroke-width:0.75;stroke-linecap:round;stroke-linejoin:round;stroke:rgb(0%,0%,0%);stroke-opacity:1;stroke-miterlimit:10;\" d=\"M 288.296875 241.589844 C 288.296875 245.1875 282.894531 245.1875 282.894531 241.589844 C 282.894531 237.988281 288.296875 237.988281 288.296875 241.589844 \"/>\n",
       "<path style=\"fill:none;stroke-width:0.75;stroke-linecap:round;stroke-linejoin:round;stroke:rgb(0%,0%,0%);stroke-opacity:1;stroke-miterlimit:10;\" d=\"M 324.074219 232.015625 C 324.074219 235.617188 318.671875 235.617188 318.671875 232.015625 C 318.671875 228.414062 324.074219 228.414062 324.074219 232.015625 \"/>\n",
       "<path style=\"fill:none;stroke-width:0.75;stroke-linecap:round;stroke-linejoin:round;stroke:rgb(0%,0%,0%);stroke-opacity:1;stroke-miterlimit:10;\" d=\"M 312.585938 179.96875 C 312.585938 183.570312 307.183594 183.570312 307.183594 179.96875 C 307.183594 176.371094 312.585938 176.371094 312.585938 179.96875 \"/>\n",
       "<path style=\"fill:none;stroke-width:0.75;stroke-linecap:round;stroke-linejoin:round;stroke:rgb(0%,0%,0%);stroke-opacity:1;stroke-miterlimit:10;\" d=\"M 283.878906 225.671875 C 283.878906 229.273438 278.476562 229.273438 278.476562 225.671875 C 278.476562 222.074219 283.878906 222.074219 283.878906 225.671875 \"/>\n",
       "<path style=\"fill:none;stroke-width:0.75;stroke-linecap:round;stroke-linejoin:round;stroke:rgb(0%,0%,0%);stroke-opacity:1;stroke-miterlimit:10;\" d=\"M 349.15625 138.277344 C 349.15625 141.878906 343.757812 141.878906 343.757812 138.277344 C 343.757812 134.679688 349.15625 134.679688 349.15625 138.277344 \"/>\n",
       "<path style=\"fill:none;stroke-width:0.75;stroke-linecap:round;stroke-linejoin:round;stroke:rgb(0%,0%,0%);stroke-opacity:1;stroke-miterlimit:10;\" d=\"M 322.617188 126.621094 C 322.617188 130.21875 317.21875 130.21875 317.21875 126.621094 C 317.21875 123.019531 322.617188 123.019531 322.617188 126.621094 \"/>\n",
       "<path style=\"fill:none;stroke-width:0.75;stroke-linecap:round;stroke-linejoin:round;stroke:rgb(0%,0%,0%);stroke-opacity:1;stroke-miterlimit:10;\" d=\"M 276.523438 202.414062 C 276.523438 206.015625 271.125 206.015625 271.125 202.414062 C 271.125 198.8125 276.523438 198.8125 276.523438 202.414062 \"/>\n",
       "<path style=\"fill:none;stroke-width:0.75;stroke-linecap:round;stroke-linejoin:round;stroke:rgb(0%,0%,0%);stroke-opacity:1;stroke-miterlimit:10;\" d=\"M 183.878906 291.679688 C 183.878906 295.28125 178.480469 295.28125 178.480469 291.679688 C 178.480469 288.082031 183.878906 288.082031 183.878906 291.679688 \"/>\n",
       "<path style=\"fill:none;stroke-width:0.75;stroke-linecap:round;stroke-linejoin:round;stroke:rgb(0%,0%,0%);stroke-opacity:1;stroke-miterlimit:10;\" d=\"M 249.855469 227.996094 C 249.855469 231.597656 244.453125 231.597656 244.453125 227.996094 C 244.453125 224.398438 249.855469 224.398438 249.855469 227.996094 \"/>\n",
       "<path style=\"fill:none;stroke-width:0.75;stroke-linecap:round;stroke-linejoin:round;stroke:rgb(0%,0%,0%);stroke-opacity:1;stroke-miterlimit:10;\" d=\"M 208.386719 389.167969 C 208.386719 392.769531 202.984375 392.769531 202.984375 389.167969 C 202.984375 385.566406 208.386719 385.566406 208.386719 389.167969 \"/>\n",
       "<path style=\"fill:none;stroke-width:0.75;stroke-linecap:round;stroke-linejoin:round;stroke:rgb(0%,0%,0%);stroke-opacity:1;stroke-miterlimit:10;\" d=\"M 108.363281 400.894531 C 108.363281 404.496094 102.964844 404.496094 102.964844 400.894531 C 102.964844 397.296875 108.363281 397.296875 108.363281 400.894531 \"/>\n",
       "<path style=\"fill:none;stroke-width:0.75;stroke-linecap:round;stroke-linejoin:round;stroke:rgb(0%,0%,0%);stroke-opacity:1;stroke-miterlimit:10;\" d=\"M 248.546875 318.5 C 248.546875 322.097656 243.148438 322.097656 243.148438 318.5 C 243.148438 314.898438 248.546875 314.898438 248.546875 318.5 \"/>\n",
       "<path style=\"fill:none;stroke-width:0.75;stroke-linecap:round;stroke-linejoin:round;stroke:rgb(0%,0%,0%);stroke-opacity:1;stroke-miterlimit:10;\" d=\"M 278.464844 302.777344 C 278.464844 306.378906 273.0625 306.378906 273.0625 302.777344 C 273.0625 299.179688 278.464844 299.179688 278.464844 302.777344 \"/>\n",
       "<path style=\"fill:none;stroke-width:0.75;stroke-linecap:round;stroke-linejoin:round;stroke:rgb(0%,0%,0%);stroke-opacity:1;stroke-miterlimit:10;\" d=\"M 414.527344 85.710938 C 414.527344 89.308594 409.128906 89.308594 409.128906 85.710938 C 409.128906 82.109375 414.527344 82.109375 414.527344 85.710938 \"/>\n",
       "<path style=\"fill:none;stroke-width:0.75;stroke-linecap:round;stroke-linejoin:round;stroke:rgb(0%,0%,0%);stroke-opacity:1;stroke-miterlimit:10;\" d=\"M 411.96875 229.867188 C 411.96875 233.464844 406.566406 233.464844 406.566406 229.867188 C 406.566406 226.265625 411.96875 226.265625 411.96875 229.867188 \"/>\n",
       "<path style=\"fill:none;stroke-width:0.75;stroke-linecap:round;stroke-linejoin:round;stroke:rgb(0%,0%,0%);stroke-opacity:1;stroke-miterlimit:10;\" d=\"M 378.246094 84.785156 C 378.246094 88.386719 372.847656 88.386719 372.847656 84.785156 C 372.847656 81.1875 378.246094 81.1875 378.246094 84.785156 \"/>\n",
       "<path style=\"fill:none;stroke-width:0.75;stroke-linecap:round;stroke-linejoin:round;stroke:rgb(0%,0%,0%);stroke-opacity:1;stroke-miterlimit:10;\" d=\"M 212.105469 371.597656 C 212.105469 375.199219 206.703125 375.199219 206.703125 371.597656 C 206.703125 368 212.105469 368 212.105469 371.597656 \"/>\n",
       "<path style=\"fill:none;stroke-width:0.75;stroke-linecap:round;stroke-linejoin:round;stroke:rgb(0%,0%,0%);stroke-opacity:1;stroke-miterlimit:10;\" d=\"M 154.613281 363.15625 C 154.613281 366.757812 149.214844 366.757812 149.214844 363.15625 C 149.214844 359.554688 154.613281 359.554688 154.613281 363.15625 \"/>\n",
       "<path style=\"fill:none;stroke-width:0.75;stroke-linecap:round;stroke-linejoin:round;stroke:rgb(0%,0%,0%);stroke-opacity:1;stroke-miterlimit:10;\" d=\"M 225.945312 316.910156 C 225.945312 320.511719 220.546875 320.511719 220.546875 316.910156 C 220.546875 313.308594 225.945312 313.308594 225.945312 316.910156 \"/>\n",
       "<path style=\"fill:none;stroke-width:0.75;stroke-linecap:round;stroke-linejoin:round;stroke:rgb(0%,0%,0%);stroke-opacity:1;stroke-miterlimit:10;\" d=\"M 388.574219 150.671875 C 388.574219 154.273438 383.175781 154.273438 383.175781 150.671875 C 383.175781 147.074219 388.574219 147.074219 388.574219 150.671875 \"/>\n",
       "<path style=\"fill:none;stroke-width:0.75;stroke-linecap:round;stroke-linejoin:round;stroke:rgb(0%,0%,0%);stroke-opacity:1;stroke-miterlimit:10;\" d=\"M 301.375 286.289062 C 301.375 289.890625 295.972656 289.890625 295.972656 286.289062 C 295.972656 282.691406 301.375 282.691406 301.375 286.289062 \"/>\n",
       "<path style=\"fill:none;stroke-width:0.75;stroke-linecap:round;stroke-linejoin:round;stroke:rgb(0%,0%,0%);stroke-opacity:1;stroke-miterlimit:10;\" d=\"M 326.65625 160.824219 C 326.65625 164.425781 321.253906 164.425781 321.253906 160.824219 C 321.253906 157.222656 326.65625 157.222656 326.65625 160.824219 \"/>\n",
       "<path style=\"fill:none;stroke-width:0.75;stroke-linecap:round;stroke-linejoin:round;stroke:rgb(0%,0%,0%);stroke-opacity:1;stroke-miterlimit:10;\" d=\"M 233.109375 293.109375 C 233.109375 296.707031 227.707031 296.707031 227.707031 293.109375 C 227.707031 289.507812 233.109375 289.507812 233.109375 293.109375 \"/>\n",
       "<path style=\"fill:none;stroke-width:0.75;stroke-linecap:round;stroke-linejoin:round;stroke:rgb(0%,0%,0%);stroke-opacity:1;stroke-miterlimit:10;\" d=\"M 178.570312 333.679688 C 178.570312 337.277344 173.167969 337.277344 173.167969 333.679688 C 173.167969 330.078125 178.570312 330.078125 178.570312 333.679688 \"/>\n",
       "<path style=\"fill:none;stroke-width:0.75;stroke-linecap:round;stroke-linejoin:round;stroke:rgb(0%,0%,0%);stroke-opacity:1;stroke-miterlimit:10;\" d=\"M 336.628906 187.6875 C 336.628906 191.285156 331.226562 191.285156 331.226562 187.6875 C 331.226562 184.085938 336.628906 184.085938 336.628906 187.6875 \"/>\n",
       "<path style=\"fill:none;stroke-width:0.75;stroke-linecap:round;stroke-linejoin:round;stroke:rgb(0%,0%,0%);stroke-opacity:1;stroke-miterlimit:10;\" d=\"M 266.960938 177.90625 C 266.960938 181.503906 261.5625 181.503906 261.5625 177.90625 C 261.5625 174.304688 266.960938 174.304688 266.960938 177.90625 \"/>\n",
       "<path style=\"fill:none;stroke-width:0.75;stroke-linecap:round;stroke-linejoin:round;stroke:rgb(0%,0%,0%);stroke-opacity:1;stroke-miterlimit:10;\" d=\"M 215.871094 301.6875 C 215.871094 305.289062 210.46875 305.289062 210.46875 301.6875 C 210.46875 298.089844 215.871094 298.089844 215.871094 301.6875 \"/>\n",
       "<path style=\"fill:none;stroke-width:0.75;stroke-linecap:round;stroke-linejoin:round;stroke:rgb(0%,0%,0%);stroke-opacity:1;stroke-miterlimit:10;\" d=\"M 296.125 227.390625 C 296.125 230.992188 290.726562 230.992188 290.726562 227.390625 C 290.726562 223.789062 296.125 223.789062 296.125 227.390625 \"/>\n",
       "<path style=\"fill:none;stroke-width:0.75;stroke-linecap:round;stroke-linejoin:round;stroke:rgb(0%,0%,0%);stroke-opacity:1;stroke-miterlimit:10;\" d=\"M 361.179688 174.289062 C 361.179688 177.886719 355.78125 177.886719 355.78125 174.289062 C 355.78125 170.6875 361.179688 170.6875 361.179688 174.289062 \"/>\n",
       "<path style=\"fill:none;stroke-width:0.75;stroke-linecap:round;stroke-linejoin:round;stroke:rgb(0%,0%,0%);stroke-opacity:1;stroke-miterlimit:10;\" d=\"M 361.179688 83.820312 C 361.179688 87.421875 355.78125 87.421875 355.78125 83.820312 C 355.78125 80.222656 361.179688 80.222656 361.179688 83.820312 \"/>\n",
       "<path style=\"fill:none;stroke-width:0.75;stroke-linecap:round;stroke-linejoin:round;stroke:rgb(0%,0%,0%);stroke-opacity:1;stroke-miterlimit:10;\" d=\"M 372.054688 203.484375 C 372.054688 207.085938 366.65625 207.085938 366.65625 203.484375 C 366.65625 199.886719 372.054688 199.886719 372.054688 203.484375 \"/>\n",
       "<path style=\"fill:none;stroke-width:0.75;stroke-linecap:round;stroke-linejoin:round;stroke:rgb(0%,0%,0%);stroke-opacity:1;stroke-miterlimit:10;\" d=\"M 266.035156 273.507812 C 266.035156 277.109375 260.636719 277.109375 260.636719 273.507812 C 260.636719 269.910156 266.035156 269.910156 266.035156 273.507812 \"/>\n",
       "<path style=\"fill:none;stroke-width:0.75;stroke-linecap:round;stroke-linejoin:round;stroke:rgb(0%,0%,0%);stroke-opacity:1;stroke-miterlimit:10;\" d=\"M 377.566406 116.9375 C 377.566406 120.535156 372.167969 120.535156 372.167969 116.9375 C 372.167969 113.335938 377.566406 113.335938 377.566406 116.9375 \"/>\n",
       "<path style=\"fill:none;stroke-width:0.75;stroke-linecap:round;stroke-linejoin:round;stroke:rgb(0%,0%,0%);stroke-opacity:1;stroke-miterlimit:10;\" d=\"M 292.429688 280.085938 C 292.429688 283.6875 287.027344 283.6875 287.027344 280.085938 C 287.027344 276.488281 292.429688 276.488281 292.429688 280.085938 \"/>\n",
       "<path style=\"fill:none;stroke-width:0.75;stroke-linecap:round;stroke-linejoin:round;stroke:rgb(0%,0%,0%);stroke-opacity:1;stroke-miterlimit:10;\" d=\"M 309.09375 179.035156 C 309.09375 182.636719 303.695312 182.636719 303.695312 179.035156 C 303.695312 175.4375 309.09375 175.4375 309.09375 179.035156 \"/>\n",
       "<path style=\"fill:none;stroke-width:0.75;stroke-linecap:round;stroke-linejoin:round;stroke:rgb(0%,0%,0%);stroke-opacity:1;stroke-miterlimit:10;\" d=\"M 395.328125 248.453125 C 395.328125 252.054688 389.925781 252.054688 389.925781 248.453125 C 389.925781 244.855469 395.328125 244.855469 395.328125 248.453125 \"/>\n",
       "<path style=\"fill:none;stroke-width:0.75;stroke-linecap:round;stroke-linejoin:round;stroke:rgb(0%,0%,0%);stroke-opacity:1;stroke-miterlimit:10;\" d=\"M 349.785156 132.320312 C 349.785156 135.921875 344.382812 135.921875 344.382812 132.320312 C 344.382812 128.722656 349.785156 128.722656 349.785156 132.320312 \"/>\n",
       "<path style=\"fill:none;stroke-width:0.75;stroke-linecap:round;stroke-linejoin:round;stroke:rgb(0%,0%,0%);stroke-opacity:1;stroke-miterlimit:10;\" d=\"M 298.992188 204.886719 C 298.992188 208.484375 293.589844 208.484375 293.589844 204.886719 C 293.589844 201.285156 298.992188 201.285156 298.992188 204.886719 \"/>\n",
       "<path style=\"fill:none;stroke-width:0.75;stroke-linecap:round;stroke-linejoin:round;stroke:rgb(0%,0%,0%);stroke-opacity:1;stroke-miterlimit:10;\" d=\"M 394.882812 181.527344 C 394.882812 185.125 389.480469 185.125 389.480469 181.527344 C 389.480469 177.925781 394.882812 177.925781 394.882812 181.527344 \"/>\n",
       "<path style=\"fill:none;stroke-width:0.75;stroke-linecap:round;stroke-linejoin:round;stroke:rgb(0%,0%,0%);stroke-opacity:1;stroke-miterlimit:10;\" d=\"M 264.015625 262.269531 C 264.015625 265.871094 258.617188 265.871094 258.617188 262.269531 C 258.617188 258.671875 264.015625 258.671875 264.015625 262.269531 \"/>\n",
       "<path style=\"fill:none;stroke-width:0.75;stroke-linecap:round;stroke-linejoin:round;stroke:rgb(0%,0%,0%);stroke-opacity:1;stroke-miterlimit:10;\" d=\"M 233.125 261.273438 C 233.125 264.875 227.726562 264.875 227.726562 261.273438 C 227.726562 257.675781 233.125 257.675781 233.125 261.273438 \"/>\n",
       "<path style=\"fill:none;stroke-width:0.75;stroke-linecap:round;stroke-linejoin:round;stroke:rgb(0%,0%,0%);stroke-opacity:1;stroke-miterlimit:10;\" d=\"M 321.792969 130.960938 C 321.792969 134.558594 316.394531 134.558594 316.394531 130.960938 C 316.394531 127.359375 321.792969 127.359375 321.792969 130.960938 \"/>\n",
       "<path style=\"fill:none;stroke-width:0.75;stroke-linecap:round;stroke-linejoin:round;stroke:rgb(0%,0%,0%);stroke-opacity:1;stroke-miterlimit:10;\" d=\"M 299.179688 174.386719 C 299.179688 177.988281 293.78125 177.988281 293.78125 174.386719 C 293.78125 170.789062 299.179688 170.789062 299.179688 174.386719 \"/>\n",
       "<path style=\"fill:none;stroke-width:0.75;stroke-linecap:round;stroke-linejoin:round;stroke:rgb(0%,0%,0%);stroke-opacity:1;stroke-miterlimit:10;\" d=\"M 289.527344 218.855469 C 289.527344 222.457031 284.128906 222.457031 284.128906 218.855469 C 284.128906 215.253906 289.527344 215.253906 289.527344 218.855469 \"/>\n",
       "<path style=\"fill:none;stroke-width:0.75;stroke-linecap:round;stroke-linejoin:round;stroke:rgb(0%,0%,0%);stroke-opacity:1;stroke-miterlimit:10;\" d=\"M 265.773438 182.519531 C 265.773438 186.117188 260.371094 186.117188 260.371094 182.519531 C 260.371094 178.917969 265.773438 178.917969 265.773438 182.519531 \"/>\n",
       "<path style=\"fill:none;stroke-width:0.75;stroke-linecap:round;stroke-linejoin:round;stroke:rgb(0%,0%,0%);stroke-opacity:1;stroke-miterlimit:10;\" d=\"M 228.902344 261.550781 C 228.902344 265.152344 223.503906 265.152344 223.503906 261.550781 C 223.503906 257.949219 228.902344 257.949219 228.902344 261.550781 \"/>\n",
       "<path style=\"fill:none;stroke-width:0.75;stroke-linecap:round;stroke-linejoin:round;stroke:rgb(0%,0%,0%);stroke-opacity:1;stroke-miterlimit:10;\" d=\"M 384.867188 117.382812 C 384.867188 120.984375 379.464844 120.984375 379.464844 117.382812 C 379.464844 113.785156 384.867188 113.785156 384.867188 117.382812 \"/>\n",
       "<path style=\"fill:none;stroke-width:0.75;stroke-linecap:round;stroke-linejoin:round;stroke:rgb(0%,0%,0%);stroke-opacity:1;stroke-miterlimit:10;\" d=\"M 169.632812 416.800781 C 169.632812 420.398438 164.234375 420.398438 164.234375 416.800781 C 164.234375 413.199219 169.632812 413.199219 169.632812 416.800781 \"/>\n",
       "<path style=\"fill:none;stroke-width:0.75;stroke-linecap:round;stroke-linejoin:round;stroke:rgb(0%,0%,0%);stroke-opacity:1;stroke-miterlimit:10;\" d=\"M 382.523438 189.695312 C 382.523438 193.292969 377.121094 193.292969 377.121094 189.695312 C 377.121094 186.09375 382.523438 186.09375 382.523438 189.695312 \"/>\n",
       "<path style=\"fill:none;stroke-width:0.75;stroke-linecap:round;stroke-linejoin:round;stroke:rgb(0%,0%,0%);stroke-opacity:1;stroke-miterlimit:10;\" d=\"M 214.1875 250.699219 C 214.1875 254.296875 208.789062 254.296875 208.789062 250.699219 C 208.789062 247.097656 214.1875 247.097656 214.1875 250.699219 \"/>\n",
       "<path style=\"fill:none;stroke-width:0.75;stroke-linecap:round;stroke-linejoin:round;stroke:rgb(0%,0%,0%);stroke-opacity:1;stroke-miterlimit:10;\" d=\"M 363.214844 101.679688 C 363.214844 105.277344 357.816406 105.277344 357.816406 101.679688 C 357.816406 98.078125 363.214844 98.078125 363.214844 101.679688 \"/>\n",
       "<path style=\"fill:none;stroke-width:0.75;stroke-linecap:round;stroke-linejoin:round;stroke:rgb(0%,0%,0%);stroke-opacity:1;stroke-miterlimit:10;\" d=\"M 195.519531 285.640625 C 195.519531 289.242188 190.121094 289.242188 190.121094 285.640625 C 190.121094 282.042969 195.519531 282.042969 195.519531 285.640625 \"/>\n",
       "<path style=\"fill:none;stroke-width:0.75;stroke-linecap:round;stroke-linejoin:round;stroke:rgb(0%,0%,0%);stroke-opacity:1;stroke-miterlimit:10;\" d=\"M 344.125 172.269531 C 344.125 175.871094 338.726562 175.871094 338.726562 172.269531 C 338.726562 168.667969 344.125 168.667969 344.125 172.269531 \"/>\n",
       "<path style=\"fill:none;stroke-width:0.75;stroke-linecap:round;stroke-linejoin:round;stroke:rgb(0%,0%,0%);stroke-opacity:1;stroke-miterlimit:10;\" d=\"M 245.015625 240.554688 C 245.015625 244.15625 239.617188 244.15625 239.617188 240.554688 C 239.617188 236.957031 245.015625 236.957031 245.015625 240.554688 \"/>\n",
       "<path style=\"fill:none;stroke-width:0.75;stroke-linecap:round;stroke-linejoin:round;stroke:rgb(0%,0%,0%);stroke-opacity:1;stroke-miterlimit:10;\" d=\"M 369.445312 148.546875 C 369.445312 152.148438 364.042969 152.148438 364.042969 148.546875 C 364.042969 144.945312 369.445312 144.945312 369.445312 148.546875 \"/>\n",
       "<path style=\"fill:none;stroke-width:0.75;stroke-linecap:round;stroke-linejoin:round;stroke:rgb(0%,0%,0%);stroke-opacity:1;stroke-miterlimit:10;\" d=\"M 243.296875 298.929688 C 243.296875 302.53125 237.894531 302.53125 237.894531 298.929688 C 237.894531 295.328125 243.296875 295.328125 243.296875 298.929688 \"/>\n",
       "<path style=\"fill:none;stroke-width:0.75;stroke-linecap:round;stroke-linejoin:round;stroke:rgb(0%,0%,0%);stroke-opacity:1;stroke-miterlimit:10;\" d=\"M 379.214844 238.535156 C 379.214844 242.132812 373.816406 242.132812 373.816406 238.535156 C 373.816406 234.933594 379.214844 234.933594 379.214844 238.535156 \"/>\n",
       "<path style=\"fill:none;stroke-width:0.75;stroke-linecap:round;stroke-linejoin:round;stroke:rgb(0%,0%,0%);stroke-opacity:1;stroke-miterlimit:10;\" d=\"M 324.023438 285.613281 C 324.023438 289.210938 318.625 289.210938 318.625 285.613281 C 318.625 282.011719 324.023438 282.011719 324.023438 285.613281 \"/>\n",
       "<path style=\"fill:none;stroke-width:0.75;stroke-linecap:round;stroke-linejoin:round;stroke:rgb(0%,0%,0%);stroke-opacity:1;stroke-miterlimit:10;\" d=\"M 283.402344 319.621094 C 283.402344 323.21875 278 323.21875 278 319.621094 C 278 316.019531 283.402344 316.019531 283.402344 319.621094 \"/>\n",
       "<path style=\"fill:none;stroke-width:0.75;stroke-linecap:round;stroke-linejoin:round;stroke:rgb(0%,0%,0%);stroke-opacity:1;stroke-miterlimit:10;\" d=\"M 259.660156 237.316406 C 259.660156 240.914062 254.257812 240.914062 254.257812 237.316406 C 254.257812 233.714844 259.660156 233.714844 259.660156 237.316406 \"/>\n",
       "<path style=\"fill:none;stroke-width:0.75;stroke-linecap:round;stroke-linejoin:round;stroke:rgb(0%,0%,0%);stroke-opacity:1;stroke-miterlimit:10;\" d=\"M 192.28125 233.519531 C 192.28125 237.117188 186.882812 237.117188 186.882812 233.519531 C 186.882812 229.917969 192.28125 229.917969 192.28125 233.519531 \"/>\n",
       "<path style=\"fill:none;stroke-width:0.75;stroke-linecap:round;stroke-linejoin:round;stroke:rgb(0%,0%,0%);stroke-opacity:1;stroke-miterlimit:10;\" d=\"M 292.527344 255.238281 C 292.527344 258.839844 287.128906 258.839844 287.128906 255.238281 C 287.128906 251.640625 292.527344 251.640625 292.527344 255.238281 \"/>\n",
       "<path style=\"fill:none;stroke-width:0.75;stroke-linecap:round;stroke-linejoin:round;stroke:rgb(0%,0%,0%);stroke-opacity:1;stroke-miterlimit:10;\" d=\"M 276.621094 238.609375 C 276.621094 242.207031 271.222656 242.207031 271.222656 238.609375 C 271.222656 235.007812 276.621094 235.007812 276.621094 238.609375 \"/>\n",
       "<path style=\"fill:none;stroke-width:0.75;stroke-linecap:round;stroke-linejoin:round;stroke:rgb(0%,0%,0%);stroke-opacity:1;stroke-miterlimit:10;\" d=\"M 439.515625 107.292969 C 439.515625 110.890625 434.117188 110.890625 434.117188 107.292969 C 434.117188 103.691406 439.515625 103.691406 439.515625 107.292969 \"/>\n",
       "<path style=\"fill:none;stroke-width:0.75;stroke-linecap:round;stroke-linejoin:round;stroke:rgb(0%,0%,0%);stroke-opacity:1;stroke-miterlimit:10;\" d=\"M 302.074219 219.410156 C 302.074219 223.011719 296.671875 223.011719 296.671875 219.410156 C 296.671875 215.8125 302.074219 215.8125 302.074219 219.410156 \"/>\n",
       "<path style=\"fill:none;stroke-width:0.75;stroke-linecap:round;stroke-linejoin:round;stroke:rgb(0%,0%,0%);stroke-opacity:1;stroke-miterlimit:10;\" d=\"M 301.703125 134.164062 C 301.703125 137.765625 296.304688 137.765625 296.304688 134.164062 C 296.304688 130.5625 301.703125 130.5625 301.703125 134.164062 \"/>\n",
       "<path style=\"fill:none;stroke-width:0.75;stroke-linecap:round;stroke-linejoin:round;stroke:rgb(0%,0%,0%);stroke-opacity:1;stroke-miterlimit:10;\" d=\"M 308.957031 163.546875 C 308.957031 167.148438 303.558594 167.148438 303.558594 163.546875 C 303.558594 159.949219 308.957031 159.949219 308.957031 163.546875 \"/>\n",
       "<path style=\"fill:none;stroke-width:0.75;stroke-linecap:round;stroke-linejoin:round;stroke:rgb(0%,0%,0%);stroke-opacity:1;stroke-miterlimit:10;\" d=\"M 246.71875 194.414062 C 246.71875 198.015625 241.320312 198.015625 241.320312 194.414062 C 241.320312 190.816406 246.71875 190.816406 246.71875 194.414062 \"/>\n",
       "<path style=\"fill:none;stroke-width:0.75;stroke-linecap:round;stroke-linejoin:round;stroke:rgb(0%,0%,0%);stroke-opacity:1;stroke-miterlimit:10;\" d=\"M 292.058594 159.09375 C 292.058594 162.695312 286.65625 162.695312 286.65625 159.09375 C 286.65625 155.492188 292.058594 155.492188 292.058594 159.09375 \"/>\n",
       "<path style=\"fill:none;stroke-width:0.75;stroke-linecap:round;stroke-linejoin:round;stroke:rgb(0%,0%,0%);stroke-opacity:1;stroke-miterlimit:10;\" d=\"M 303.207031 211.222656 C 303.207031 214.820312 297.808594 214.820312 297.808594 211.222656 C 297.808594 207.621094 303.207031 207.621094 303.207031 211.222656 \"/>\n",
       "<path style=\"fill:none;stroke-width:0.75;stroke-linecap:round;stroke-linejoin:round;stroke:rgb(0%,0%,0%);stroke-opacity:1;stroke-miterlimit:10;\" d=\"M 385.96875 155.601562 C 385.96875 159.199219 380.566406 159.199219 380.566406 155.601562 C 380.566406 152 385.96875 152 385.96875 155.601562 \"/>\n",
       "<path style=\"fill:none;stroke-width:0.75;stroke-linecap:round;stroke-linejoin:round;stroke:rgb(0%,0%,0%);stroke-opacity:1;stroke-miterlimit:10;\" d=\"M 403.25 220.253906 C 403.25 223.855469 397.851562 223.855469 397.851562 220.253906 C 397.851562 216.65625 403.25 216.65625 403.25 220.253906 \"/>\n",
       "<path style=\"fill:none;stroke-width:0.75;stroke-linecap:round;stroke-linejoin:round;stroke:rgb(0%,0%,0%);stroke-opacity:1;stroke-miterlimit:10;\" d=\"M 461.101562 78.902344 C 461.101562 82.503906 455.699219 82.503906 455.699219 78.902344 C 455.699219 75.300781 461.101562 75.300781 461.101562 78.902344 \"/>\n",
       "<path style=\"fill:none;stroke-width:0.75;stroke-linecap:round;stroke-linejoin:round;stroke:rgb(0%,0%,0%);stroke-opacity:1;stroke-miterlimit:10;\" d=\"M 146.523438 399.789062 C 146.523438 403.386719 141.121094 403.386719 141.121094 399.789062 C 141.121094 396.1875 146.523438 396.1875 146.523438 399.789062 \"/>\n",
       "<path style=\"fill:none;stroke-width:0.75;stroke-linecap:round;stroke-linejoin:round;stroke:rgb(0%,0%,0%);stroke-opacity:1;stroke-miterlimit:10;\" d=\"M 336.820312 289.601562 C 336.820312 293.199219 331.421875 293.199219 331.421875 289.601562 C 331.421875 286 336.820312 286 336.820312 289.601562 \"/>\n",
       "<path style=\"fill:none;stroke-width:0.75;stroke-linecap:round;stroke-linejoin:round;stroke:rgb(0%,0%,0%);stroke-opacity:1;stroke-miterlimit:10;\" d=\"M 278.449219 305.082031 C 278.449219 308.683594 273.050781 308.683594 273.050781 305.082031 C 273.050781 301.484375 278.449219 301.484375 278.449219 305.082031 \"/>\n",
       "<path style=\"fill:none;stroke-width:0.75;stroke-linecap:round;stroke-linejoin:round;stroke:rgb(0%,0%,0%);stroke-opacity:1;stroke-miterlimit:10;\" d=\"M 289.652344 232.359375 C 289.652344 235.960938 284.253906 235.960938 284.253906 232.359375 C 284.253906 228.761719 289.652344 228.761719 289.652344 232.359375 \"/>\n",
       "<path style=\"fill:none;stroke-width:0.75;stroke-linecap:round;stroke-linejoin:round;stroke:rgb(0%,0%,0%);stroke-opacity:1;stroke-miterlimit:10;\" d=\"M 314.816406 313.117188 C 314.816406 316.71875 309.417969 316.71875 309.417969 313.117188 C 309.417969 309.515625 314.816406 309.515625 314.816406 313.117188 \"/>\n",
       "<path style=\"fill:none;stroke-width:0.75;stroke-linecap:round;stroke-linejoin:round;stroke:rgb(0%,0%,0%);stroke-opacity:1;stroke-miterlimit:10;\" d=\"M 391.605469 152.714844 C 391.605469 156.316406 386.207031 156.316406 386.207031 152.714844 C 386.207031 149.113281 391.605469 149.113281 391.605469 152.714844 \"/>\n",
       "<path style=\"fill:none;stroke-width:0.75;stroke-linecap:round;stroke-linejoin:round;stroke:rgb(0%,0%,0%);stroke-opacity:1;stroke-miterlimit:10;\" d=\"M 377.691406 128.628906 C 377.691406 132.226562 372.289062 132.226562 372.289062 128.628906 C 372.289062 125.027344 377.691406 125.027344 377.691406 128.628906 \"/>\n",
       "<path style=\"fill:none;stroke-width:0.75;stroke-linecap:round;stroke-linejoin:round;stroke:rgb(0%,0%,0%);stroke-opacity:1;stroke-miterlimit:10;\" d=\"M 249.902344 322.03125 C 249.902344 325.632812 244.503906 325.632812 244.503906 322.03125 C 244.503906 318.429688 249.902344 318.429688 249.902344 322.03125 \"/>\n",
       "<path style=\"fill:none;stroke-width:0.75;stroke-linecap:round;stroke-linejoin:round;stroke:rgb(0%,0%,0%);stroke-opacity:1;stroke-miterlimit:10;\" d=\"M 306.445312 169.523438 C 306.445312 173.121094 301.042969 173.121094 301.042969 169.523438 C 301.042969 165.921875 306.445312 165.921875 306.445312 169.523438 \"/>\n",
       "<path style=\"fill:none;stroke-width:0.75;stroke-linecap:round;stroke-linejoin:round;stroke:rgb(0%,0%,0%);stroke-opacity:1;stroke-miterlimit:10;\" d=\"M 66.09375 430.558594 L 442.699219 430.558594 \"/>\n",
       "<path style=\"fill:none;stroke-width:0.75;stroke-linecap:round;stroke-linejoin:round;stroke:rgb(0%,0%,0%);stroke-opacity:1;stroke-miterlimit:10;\" d=\"M 66.09375 430.558594 L 66.09375 437.761719 \"/>\n",
       "<path style=\"fill:none;stroke-width:0.75;stroke-linecap:round;stroke-linejoin:round;stroke:rgb(0%,0%,0%);stroke-opacity:1;stroke-miterlimit:10;\" d=\"M 141.414062 430.558594 L 141.414062 437.761719 \"/>\n",
       "<path style=\"fill:none;stroke-width:0.75;stroke-linecap:round;stroke-linejoin:round;stroke:rgb(0%,0%,0%);stroke-opacity:1;stroke-miterlimit:10;\" d=\"M 216.734375 430.558594 L 216.734375 437.761719 \"/>\n",
       "<path style=\"fill:none;stroke-width:0.75;stroke-linecap:round;stroke-linejoin:round;stroke:rgb(0%,0%,0%);stroke-opacity:1;stroke-miterlimit:10;\" d=\"M 292.058594 430.558594 L 292.058594 437.761719 \"/>\n",
       "<path style=\"fill:none;stroke-width:0.75;stroke-linecap:round;stroke-linejoin:round;stroke:rgb(0%,0%,0%);stroke-opacity:1;stroke-miterlimit:10;\" d=\"M 367.378906 430.558594 L 367.378906 437.761719 \"/>\n",
       "<path style=\"fill:none;stroke-width:0.75;stroke-linecap:round;stroke-linejoin:round;stroke:rgb(0%,0%,0%);stroke-opacity:1;stroke-miterlimit:10;\" d=\"M 442.699219 430.558594 L 442.699219 437.761719 \"/>\n",
       "<g style=\"fill:rgb(0%,0%,0%);fill-opacity:1;\">\n",
       "  <use xlink:href=\"#glyph0-1\" x=\"60.09375\" y=\"456.480469\"/>\n",
       "  <use xlink:href=\"#glyph0-2\" x=\"65.09375\" y=\"456.480469\"/>\n",
       "</g>\n",
       "<g style=\"fill:rgb(0%,0%,0%);fill-opacity:1;\">\n",
       "  <use xlink:href=\"#glyph0-1\" x=\"135.414062\" y=\"456.480469\"/>\n",
       "  <use xlink:href=\"#glyph0-3\" x=\"140.414062\" y=\"456.480469\"/>\n",
       "</g>\n",
       "<g style=\"fill:rgb(0%,0%,0%);fill-opacity:1;\">\n",
       "  <use xlink:href=\"#glyph0-1\" x=\"210.734375\" y=\"456.480469\"/>\n",
       "  <use xlink:href=\"#glyph0-4\" x=\"215.734375\" y=\"456.480469\"/>\n",
       "</g>\n",
       "<g style=\"fill:rgb(0%,0%,0%);fill-opacity:1;\">\n",
       "  <use xlink:href=\"#glyph0-5\" x=\"288.558594\" y=\"456.480469\"/>\n",
       "</g>\n",
       "<g style=\"fill:rgb(0%,0%,0%);fill-opacity:1;\">\n",
       "  <use xlink:href=\"#glyph0-4\" x=\"363.878906\" y=\"456.480469\"/>\n",
       "</g>\n",
       "<g style=\"fill:rgb(0%,0%,0%);fill-opacity:1;\">\n",
       "  <use xlink:href=\"#glyph0-3\" x=\"439.199219\" y=\"456.480469\"/>\n",
       "</g>\n",
       "<path style=\"fill:none;stroke-width:0.75;stroke-linecap:round;stroke-linejoin:round;stroke:rgb(0%,0%,0%);stroke-opacity:1;stroke-miterlimit:10;\" d=\"M 59.039062 405.917969 L 59.039062 86.257812 \"/>\n",
       "<path style=\"fill:none;stroke-width:0.75;stroke-linecap:round;stroke-linejoin:round;stroke:rgb(0%,0%,0%);stroke-opacity:1;stroke-miterlimit:10;\" d=\"M 59.039062 405.917969 L 51.839844 405.917969 \"/>\n",
       "<path style=\"fill:none;stroke-width:0.75;stroke-linecap:round;stroke-linejoin:round;stroke:rgb(0%,0%,0%);stroke-opacity:1;stroke-miterlimit:10;\" d=\"M 59.039062 352.644531 L 51.839844 352.644531 \"/>\n",
       "<path style=\"fill:none;stroke-width:0.75;stroke-linecap:round;stroke-linejoin:round;stroke:rgb(0%,0%,0%);stroke-opacity:1;stroke-miterlimit:10;\" d=\"M 59.039062 299.367188 L 51.839844 299.367188 \"/>\n",
       "<path style=\"fill:none;stroke-width:0.75;stroke-linecap:round;stroke-linejoin:round;stroke:rgb(0%,0%,0%);stroke-opacity:1;stroke-miterlimit:10;\" d=\"M 59.039062 246.089844 L 51.839844 246.089844 \"/>\n",
       "<path style=\"fill:none;stroke-width:0.75;stroke-linecap:round;stroke-linejoin:round;stroke:rgb(0%,0%,0%);stroke-opacity:1;stroke-miterlimit:10;\" d=\"M 59.039062 192.8125 L 51.839844 192.8125 \"/>\n",
       "<path style=\"fill:none;stroke-width:0.75;stroke-linecap:round;stroke-linejoin:round;stroke:rgb(0%,0%,0%);stroke-opacity:1;stroke-miterlimit:10;\" d=\"M 59.039062 139.535156 L 51.839844 139.535156 \"/>\n",
       "<path style=\"fill:none;stroke-width:0.75;stroke-linecap:round;stroke-linejoin:round;stroke:rgb(0%,0%,0%);stroke-opacity:1;stroke-miterlimit:10;\" d=\"M 59.039062 86.257812 L 51.839844 86.257812 \"/>\n",
       "<g style=\"fill:rgb(0%,0%,0%);fill-opacity:1;\">\n",
       "  <use xlink:href=\"#glyph1-1\" x=\"41.761719\" y=\"411.917969\"/>\n",
       "  <use xlink:href=\"#glyph1-2\" x=\"41.761719\" y=\"406.917969\"/>\n",
       "</g>\n",
       "<g style=\"fill:rgb(0%,0%,0%);fill-opacity:1;\">\n",
       "  <use xlink:href=\"#glyph1-1\" x=\"41.761719\" y=\"358.644531\"/>\n",
       "  <use xlink:href=\"#glyph1-3\" x=\"41.761719\" y=\"353.644531\"/>\n",
       "</g>\n",
       "<g style=\"fill:rgb(0%,0%,0%);fill-opacity:1;\">\n",
       "  <use xlink:href=\"#glyph1-1\" x=\"41.761719\" y=\"305.367188\"/>\n",
       "  <use xlink:href=\"#glyph1-4\" x=\"41.761719\" y=\"300.367188\"/>\n",
       "</g>\n",
       "<g style=\"fill:rgb(0%,0%,0%);fill-opacity:1;\">\n",
       "  <use xlink:href=\"#glyph1-5\" x=\"41.761719\" y=\"249.589844\"/>\n",
       "</g>\n",
       "<g style=\"fill:rgb(0%,0%,0%);fill-opacity:1;\">\n",
       "  <use xlink:href=\"#glyph1-4\" x=\"41.761719\" y=\"196.3125\"/>\n",
       "</g>\n",
       "<g style=\"fill:rgb(0%,0%,0%);fill-opacity:1;\">\n",
       "  <use xlink:href=\"#glyph1-3\" x=\"41.761719\" y=\"143.035156\"/>\n",
       "</g>\n",
       "<g style=\"fill:rgb(0%,0%,0%);fill-opacity:1;\">\n",
       "  <use xlink:href=\"#glyph1-2\" x=\"41.761719\" y=\"89.757812\"/>\n",
       "</g>\n",
       "<path style=\"fill:none;stroke-width:0.75;stroke-linecap:round;stroke-linejoin:round;stroke:rgb(0%,0%,0%);stroke-opacity:1;stroke-miterlimit:10;\" d=\"M 59.039062 430.558594 L 473.761719 430.558594 L 473.761719 59.039062 L 59.039062 59.039062 L 59.039062 430.558594 \"/>\n",
       "<g style=\"fill:rgb(0%,0%,0%);fill-opacity:1;\">\n",
       "  <use xlink:href=\"#glyph0-6\" x=\"263.398438\" y=\"485.28125\"/>\n",
       "</g>\n",
       "<g style=\"fill:rgb(0%,0%,0%);fill-opacity:1;\">\n",
       "  <use xlink:href=\"#glyph1-6\" x=\"12.960938\" y=\"248.300781\"/>\n",
       "</g>\n",
       "</g>\n",
       "</svg>\n"
      ],
      "text/plain": [
       "plot without title"
      ]
     },
     "metadata": {
      "image/svg+xml": {
       "isolated": true
      }
     },
     "output_type": "display_data"
    }
   ],
   "source": [
    "set.seed(20)\n",
    "x<-rnorm(100)\n",
    "e<-rnorm(100,0,2)\n",
    "y<-0.5 + 2*x +e\n",
    "summary(y)\n",
    "plot(x,y)"
   ]
  },
  {
   "cell_type": "code",
   "execution_count": 33,
   "metadata": {
    "collapsed": false
   },
   "outputs": [
    {
     "data": {
      "text/plain": [
       "   Min. 1st Qu.  Median    Mean 3rd Qu.    Max. \n",
       "-3.4940 -0.1409  1.5770  1.4320  2.8400  6.9410 "
      ]
     },
     "execution_count": 33,
     "metadata": {},
     "output_type": "execute_result"
    },
    {
     "data": {
      "image/png": "[encoded data removed]",
      "image/svg+xml": [
       "<?xml version=\"1.0\" encoding=\"UTF-8\"?>\n",
       "<svg xmlns=\"http://www.w3.org/2000/svg\" xmlns:xlink=\"http://www.w3.org/1999/xlink\" width=\"504pt\" height=\"504pt\" viewBox=\"0 0 504 504\" version=\"1.1\">\n",
       "<defs>\n",
       "<g>\n",
       "<symbol overflow=\"visible\" id=\"glyph0-0\">\n",
       "<g transform=\"matrix(1,0,0,1,1,-9)\">\n",
       "<rect x=\"0\" y=\"0\" width=\"1\" height=\"1\"/>\n",
       "<rect x=\"2\" y=\"0\" width=\"1\" height=\"1\"/>\n",
       "<rect x=\"4\" y=\"0\" width=\"1\" height=\"1\"/>\n",
       "<rect x=\"6\" y=\"0\" width=\"1\" height=\"1\"/>\n",
       "<rect x=\"0\" y=\"2\" width=\"1\" height=\"1\"/>\n",
       "<rect x=\"6\" y=\"2\" width=\"1\" height=\"1\"/>\n",
       "<rect x=\"0\" y=\"4\" width=\"1\" height=\"1\"/>\n",
       "<rect x=\"6\" y=\"4\" width=\"1\" height=\"1\"/>\n",
       "<rect x=\"0\" y=\"6\" width=\"1\" height=\"1\"/>\n",
       "<rect x=\"6\" y=\"6\" width=\"1\" height=\"1\"/>\n",
       "<rect x=\"0\" y=\"8\" width=\"1\" height=\"1\"/>\n",
       "<rect x=\"2\" y=\"8\" width=\"1\" height=\"1\"/>\n",
       "<rect x=\"4\" y=\"8\" width=\"1\" height=\"1\"/>\n",
       "<rect x=\"6\" y=\"8\" width=\"1\" height=\"1\"/>\n",
       "</g>\n",
       "</symbol>\n",
       "<symbol overflow=\"visible\" id=\"glyph0-1\">\n",
       "<g transform=\"matrix(1,0,0,1,1,-9)\">\n",
       "<rect x=\"1\" y=\"0\" width=\"1\" height=\"1\"/>\n",
       "<rect x=\"2\" y=\"0\" width=\"1\" height=\"1\"/>\n",
       "<rect x=\"3\" y=\"0\" width=\"1\" height=\"1\"/>\n",
       "<rect x=\"0\" y=\"1\" width=\"1\" height=\"1\"/>\n",
       "<rect x=\"4\" y=\"1\" width=\"1\" height=\"1\"/>\n",
       "<rect x=\"0\" y=\"2\" width=\"1\" height=\"1\"/>\n",
       "<rect x=\"4\" y=\"2\" width=\"1\" height=\"1\"/>\n",
       "<rect x=\"0\" y=\"3\" width=\"1\" height=\"1\"/>\n",
       "<rect x=\"4\" y=\"3\" width=\"1\" height=\"1\"/>\n",
       "<rect x=\"0\" y=\"4\" width=\"1\" height=\"1\"/>\n",
       "<rect x=\"4\" y=\"4\" width=\"1\" height=\"1\"/>\n",
       "<rect x=\"0\" y=\"5\" width=\"1\" height=\"1\"/>\n",
       "<rect x=\"4\" y=\"5\" width=\"1\" height=\"1\"/>\n",
       "<rect x=\"0\" y=\"6\" width=\"1\" height=\"1\"/>\n",
       "<rect x=\"4\" y=\"6\" width=\"1\" height=\"1\"/>\n",
       "<rect x=\"0\" y=\"7\" width=\"1\" height=\"1\"/>\n",
       "<rect x=\"4\" y=\"7\" width=\"1\" height=\"1\"/>\n",
       "<rect x=\"1\" y=\"8\" width=\"1\" height=\"1\"/>\n",
       "<rect x=\"2\" y=\"8\" width=\"1\" height=\"1\"/>\n",
       "<rect x=\"3\" y=\"8\" width=\"1\" height=\"1\"/>\n",
       "</g>\n",
       "</symbol>\n",
       "<symbol overflow=\"visible\" id=\"glyph0-2\">\n",
       "<g transform=\"matrix(1,0,0,1,1,-1)\">\n",
       "<rect x=\"0\" y=\"0\" width=\"1\" height=\"1\"/>\n",
       "</g>\n",
       "</symbol>\n",
       "<symbol overflow=\"visible\" id=\"glyph0-3\">\n",
       "<g transform=\"matrix(1,0,0,1,1,-9)\">\n",
       "<rect x=\"1\" y=\"0\" width=\"1\" height=\"1\"/>\n",
       "<rect x=\"2\" y=\"0\" width=\"1\" height=\"1\"/>\n",
       "<rect x=\"3\" y=\"0\" width=\"1\" height=\"1\"/>\n",
       "<rect x=\"0\" y=\"1\" width=\"1\" height=\"1\"/>\n",
       "<rect x=\"4\" y=\"1\" width=\"1\" height=\"1\"/>\n",
       "<rect x=\"4\" y=\"2\" width=\"1\" height=\"1\"/>\n",
       "<rect x=\"3\" y=\"3\" width=\"1\" height=\"1\"/>\n",
       "<rect x=\"2\" y=\"4\" width=\"1\" height=\"1\"/>\n",
       "<rect x=\"1\" y=\"5\" width=\"1\" height=\"1\"/>\n",
       "<rect x=\"0\" y=\"6\" width=\"1\" height=\"1\"/>\n",
       "<rect x=\"0\" y=\"7\" width=\"1\" height=\"1\"/>\n",
       "<rect x=\"0\" y=\"8\" width=\"1\" height=\"1\"/>\n",
       "<rect x=\"1\" y=\"8\" width=\"1\" height=\"1\"/>\n",
       "<rect x=\"2\" y=\"8\" width=\"1\" height=\"1\"/>\n",
       "<rect x=\"3\" y=\"8\" width=\"1\" height=\"1\"/>\n",
       "<rect x=\"4\" y=\"8\" width=\"1\" height=\"1\"/>\n",
       "</g>\n",
       "</symbol>\n",
       "<symbol overflow=\"visible\" id=\"glyph0-4\">\n",
       "<g transform=\"matrix(1,0,0,1,0,-9)\">\n",
       "<rect x=\"4\" y=\"0\" width=\"1\" height=\"1\"/>\n",
       "<rect x=\"3\" y=\"1\" width=\"1\" height=\"1\"/>\n",
       "<rect x=\"4\" y=\"1\" width=\"1\" height=\"1\"/>\n",
       "<rect x=\"2\" y=\"2\" width=\"1\" height=\"1\"/>\n",
       "<rect x=\"4\" y=\"2\" width=\"1\" height=\"1\"/>\n",
       "<rect x=\"2\" y=\"3\" width=\"1\" height=\"1\"/>\n",
       "<rect x=\"4\" y=\"3\" width=\"1\" height=\"1\"/>\n",
       "<rect x=\"1\" y=\"4\" width=\"1\" height=\"1\"/>\n",
       "<rect x=\"4\" y=\"4\" width=\"1\" height=\"1\"/>\n",
       "<rect x=\"0\" y=\"5\" width=\"1\" height=\"1\"/>\n",
       "<rect x=\"4\" y=\"5\" width=\"1\" height=\"1\"/>\n",
       "<rect x=\"0\" y=\"6\" width=\"1\" height=\"1\"/>\n",
       "<rect x=\"1\" y=\"6\" width=\"1\" height=\"1\"/>\n",
       "<rect x=\"2\" y=\"6\" width=\"1\" height=\"1\"/>\n",
       "<rect x=\"3\" y=\"6\" width=\"1\" height=\"1\"/>\n",
       "<rect x=\"4\" y=\"6\" width=\"1\" height=\"1\"/>\n",
       "<rect x=\"5\" y=\"6\" width=\"1\" height=\"1\"/>\n",
       "<rect x=\"4\" y=\"7\" width=\"1\" height=\"1\"/>\n",
       "<rect x=\"4\" y=\"8\" width=\"1\" height=\"1\"/>\n",
       "</g>\n",
       "</symbol>\n",
       "<symbol overflow=\"visible\" id=\"glyph0-5\">\n",
       "<g transform=\"matrix(1,0,0,1,1,-9)\">\n",
       "<rect x=\"1\" y=\"0\" width=\"1\" height=\"1\"/>\n",
       "<rect x=\"2\" y=\"0\" width=\"1\" height=\"1\"/>\n",
       "<rect x=\"3\" y=\"0\" width=\"1\" height=\"1\"/>\n",
       "<rect x=\"0\" y=\"1\" width=\"1\" height=\"1\"/>\n",
       "<rect x=\"4\" y=\"1\" width=\"1\" height=\"1\"/>\n",
       "<rect x=\"0\" y=\"2\" width=\"1\" height=\"1\"/>\n",
       "<rect x=\"0\" y=\"3\" width=\"1\" height=\"1\"/>\n",
       "<rect x=\"2\" y=\"3\" width=\"1\" height=\"1\"/>\n",
       "<rect x=\"3\" y=\"3\" width=\"1\" height=\"1\"/>\n",
       "<rect x=\"0\" y=\"4\" width=\"1\" height=\"1\"/>\n",
       "<rect x=\"1\" y=\"4\" width=\"1\" height=\"1\"/>\n",
       "<rect x=\"4\" y=\"4\" width=\"1\" height=\"1\"/>\n",
       "<rect x=\"0\" y=\"5\" width=\"1\" height=\"1\"/>\n",
       "<rect x=\"4\" y=\"5\" width=\"1\" height=\"1\"/>\n",
       "<rect x=\"0\" y=\"6\" width=\"1\" height=\"1\"/>\n",
       "<rect x=\"4\" y=\"6\" width=\"1\" height=\"1\"/>\n",
       "<rect x=\"0\" y=\"7\" width=\"1\" height=\"1\"/>\n",
       "<rect x=\"4\" y=\"7\" width=\"1\" height=\"1\"/>\n",
       "<rect x=\"1\" y=\"8\" width=\"1\" height=\"1\"/>\n",
       "<rect x=\"2\" y=\"8\" width=\"1\" height=\"1\"/>\n",
       "<rect x=\"3\" y=\"8\" width=\"1\" height=\"1\"/>\n",
       "</g>\n",
       "</symbol>\n",
       "<symbol overflow=\"visible\" id=\"glyph0-6\">\n",
       "<g transform=\"matrix(1,0,0,1,1,-9)\">\n",
       "<rect x=\"1\" y=\"0\" width=\"1\" height=\"1\"/>\n",
       "<rect x=\"2\" y=\"0\" width=\"1\" height=\"1\"/>\n",
       "<rect x=\"3\" y=\"0\" width=\"1\" height=\"1\"/>\n",
       "<rect x=\"0\" y=\"1\" width=\"1\" height=\"1\"/>\n",
       "<rect x=\"4\" y=\"1\" width=\"1\" height=\"1\"/>\n",
       "<rect x=\"0\" y=\"2\" width=\"1\" height=\"1\"/>\n",
       "<rect x=\"4\" y=\"2\" width=\"1\" height=\"1\"/>\n",
       "<rect x=\"1\" y=\"3\" width=\"1\" height=\"1\"/>\n",
       "<rect x=\"2\" y=\"3\" width=\"1\" height=\"1\"/>\n",
       "<rect x=\"3\" y=\"3\" width=\"1\" height=\"1\"/>\n",
       "<rect x=\"0\" y=\"4\" width=\"1\" height=\"1\"/>\n",
       "<rect x=\"4\" y=\"4\" width=\"1\" height=\"1\"/>\n",
       "<rect x=\"0\" y=\"5\" width=\"1\" height=\"1\"/>\n",
       "<rect x=\"4\" y=\"5\" width=\"1\" height=\"1\"/>\n",
       "<rect x=\"0\" y=\"6\" width=\"1\" height=\"1\"/>\n",
       "<rect x=\"4\" y=\"6\" width=\"1\" height=\"1\"/>\n",
       "<rect x=\"0\" y=\"7\" width=\"1\" height=\"1\"/>\n",
       "<rect x=\"4\" y=\"7\" width=\"1\" height=\"1\"/>\n",
       "<rect x=\"1\" y=\"8\" width=\"1\" height=\"1\"/>\n",
       "<rect x=\"2\" y=\"8\" width=\"1\" height=\"1\"/>\n",
       "<rect x=\"3\" y=\"8\" width=\"1\" height=\"1\"/>\n",
       "</g>\n",
       "</symbol>\n",
       "<symbol overflow=\"visible\" id=\"glyph0-7\">\n",
       "<g transform=\"matrix(1,0,0,1,1,-9)\">\n",
       "<rect x=\"2\" y=\"0\" width=\"1\" height=\"1\"/>\n",
       "<rect x=\"0\" y=\"1\" width=\"1\" height=\"1\"/>\n",
       "<rect x=\"1\" y=\"1\" width=\"1\" height=\"1\"/>\n",
       "<rect x=\"2\" y=\"1\" width=\"1\" height=\"1\"/>\n",
       "<rect x=\"2\" y=\"2\" width=\"1\" height=\"1\"/>\n",
       "<rect x=\"2\" y=\"3\" width=\"1\" height=\"1\"/>\n",
       "<rect x=\"2\" y=\"4\" width=\"1\" height=\"1\"/>\n",
       "<rect x=\"2\" y=\"5\" width=\"1\" height=\"1\"/>\n",
       "<rect x=\"2\" y=\"6\" width=\"1\" height=\"1\"/>\n",
       "<rect x=\"2\" y=\"7\" width=\"1\" height=\"1\"/>\n",
       "<rect x=\"2\" y=\"8\" width=\"1\" height=\"1\"/>\n",
       "</g>\n",
       "</symbol>\n",
       "<symbol overflow=\"visible\" id=\"glyph0-8\">\n",
       "<g transform=\"matrix(1,0,0,1,0,-7)\">\n",
       "<rect x=\"0\" y=\"0\" width=\"1\" height=\"1\"/>\n",
       "<rect x=\"5\" y=\"0\" width=\"1\" height=\"1\"/>\n",
       "<rect x=\"1\" y=\"1\" width=\"1\" height=\"1\"/>\n",
       "<rect x=\"4\" y=\"1\" width=\"1\" height=\"1\"/>\n",
       "<rect x=\"2\" y=\"2\" width=\"1\" height=\"1\"/>\n",
       "<rect x=\"3\" y=\"2\" width=\"1\" height=\"1\"/>\n",
       "<rect x=\"2\" y=\"3\" width=\"1\" height=\"1\"/>\n",
       "<rect x=\"3\" y=\"3\" width=\"1\" height=\"1\"/>\n",
       "<rect x=\"1\" y=\"4\" width=\"1\" height=\"1\"/>\n",
       "<rect x=\"4\" y=\"4\" width=\"1\" height=\"1\"/>\n",
       "<rect x=\"0\" y=\"5\" width=\"1\" height=\"1\"/>\n",
       "<rect x=\"5\" y=\"5\" width=\"1\" height=\"1\"/>\n",
       "<rect x=\"0\" y=\"6\" width=\"1\" height=\"1\"/>\n",
       "<rect x=\"5\" y=\"6\" width=\"1\" height=\"1\"/>\n",
       "</g>\n",
       "</symbol>\n",
       "<symbol overflow=\"visible\" id=\"glyph1-0\">\n",
       "<g transform=\"matrix(1,0,0,1,-9,-8)\">\n",
       "<rect x=\"0\" y=\"0\" width=\"1\" height=\"1\"/>\n",
       "<rect x=\"2\" y=\"0\" width=\"1\" height=\"1\"/>\n",
       "<rect x=\"4\" y=\"0\" width=\"1\" height=\"1\"/>\n",
       "<rect x=\"6\" y=\"0\" width=\"1\" height=\"1\"/>\n",
       "<rect x=\"8\" y=\"0\" width=\"1\" height=\"1\"/>\n",
       "<rect x=\"0\" y=\"2\" width=\"1\" height=\"1\"/>\n",
       "<rect x=\"8\" y=\"2\" width=\"1\" height=\"1\"/>\n",
       "<rect x=\"0\" y=\"4\" width=\"1\" height=\"1\"/>\n",
       "<rect x=\"8\" y=\"4\" width=\"1\" height=\"1\"/>\n",
       "<rect x=\"0\" y=\"6\" width=\"1\" height=\"1\"/>\n",
       "<rect x=\"2\" y=\"6\" width=\"1\" height=\"1\"/>\n",
       "<rect x=\"4\" y=\"6\" width=\"1\" height=\"1\"/>\n",
       "<rect x=\"6\" y=\"6\" width=\"1\" height=\"1\"/>\n",
       "<rect x=\"8\" y=\"6\" width=\"1\" height=\"1\"/>\n",
       "</g>\n",
       "</symbol>\n",
       "<symbol overflow=\"visible\" id=\"glyph1-1\">\n",
       "<g transform=\"matrix(1,0,0,1,-4,-4)\">\n",
       "<rect x=\"0\" y=\"0\" width=\"1\" height=\"1\"/>\n",
       "<rect x=\"0\" y=\"1\" width=\"1\" height=\"1\"/>\n",
       "<rect x=\"0\" y=\"2\" width=\"1\" height=\"1\"/>\n",
       "<rect x=\"0\" y=\"3\" width=\"1\" height=\"1\"/>\n",
       "</g>\n",
       "</symbol>\n",
       "<symbol overflow=\"visible\" id=\"glyph1-2\">\n",
       "<g transform=\"matrix(1,0,0,1,-9,-6)\">\n",
       "<rect x=\"1\" y=\"0\" width=\"1\" height=\"1\"/>\n",
       "<rect x=\"2\" y=\"0\" width=\"1\" height=\"1\"/>\n",
       "<rect x=\"8\" y=\"0\" width=\"1\" height=\"1\"/>\n",
       "<rect x=\"0\" y=\"1\" width=\"1\" height=\"1\"/>\n",
       "<rect x=\"3\" y=\"1\" width=\"1\" height=\"1\"/>\n",
       "<rect x=\"8\" y=\"1\" width=\"1\" height=\"1\"/>\n",
       "<rect x=\"0\" y=\"2\" width=\"1\" height=\"1\"/>\n",
       "<rect x=\"4\" y=\"2\" width=\"1\" height=\"1\"/>\n",
       "<rect x=\"8\" y=\"2\" width=\"1\" height=\"1\"/>\n",
       "<rect x=\"0\" y=\"3\" width=\"1\" height=\"1\"/>\n",
       "<rect x=\"5\" y=\"3\" width=\"1\" height=\"1\"/>\n",
       "<rect x=\"8\" y=\"3\" width=\"1\" height=\"1\"/>\n",
       "<rect x=\"1\" y=\"4\" width=\"1\" height=\"1\"/>\n",
       "<rect x=\"6\" y=\"4\" width=\"1\" height=\"1\"/>\n",
       "<rect x=\"7\" y=\"4\" width=\"1\" height=\"1\"/>\n",
       "<rect x=\"8\" y=\"4\" width=\"1\" height=\"1\"/>\n",
       "</g>\n",
       "</symbol>\n",
       "<symbol overflow=\"visible\" id=\"glyph1-3\">\n",
       "<g transform=\"matrix(1,0,0,1,-9,-6)\">\n",
       "<rect x=\"1\" y=\"0\" width=\"1\" height=\"1\"/>\n",
       "<rect x=\"2\" y=\"0\" width=\"1\" height=\"1\"/>\n",
       "<rect x=\"3\" y=\"0\" width=\"1\" height=\"1\"/>\n",
       "<rect x=\"4\" y=\"0\" width=\"1\" height=\"1\"/>\n",
       "<rect x=\"5\" y=\"0\" width=\"1\" height=\"1\"/>\n",
       "<rect x=\"6\" y=\"0\" width=\"1\" height=\"1\"/>\n",
       "<rect x=\"7\" y=\"0\" width=\"1\" height=\"1\"/>\n",
       "<rect x=\"0\" y=\"1\" width=\"1\" height=\"1\"/>\n",
       "<rect x=\"8\" y=\"1\" width=\"1\" height=\"1\"/>\n",
       "<rect x=\"0\" y=\"2\" width=\"1\" height=\"1\"/>\n",
       "<rect x=\"8\" y=\"2\" width=\"1\" height=\"1\"/>\n",
       "<rect x=\"0\" y=\"3\" width=\"1\" height=\"1\"/>\n",
       "<rect x=\"8\" y=\"3\" width=\"1\" height=\"1\"/>\n",
       "<rect x=\"1\" y=\"4\" width=\"1\" height=\"1\"/>\n",
       "<rect x=\"2\" y=\"4\" width=\"1\" height=\"1\"/>\n",
       "<rect x=\"3\" y=\"4\" width=\"1\" height=\"1\"/>\n",
       "<rect x=\"4\" y=\"4\" width=\"1\" height=\"1\"/>\n",
       "<rect x=\"5\" y=\"4\" width=\"1\" height=\"1\"/>\n",
       "<rect x=\"6\" y=\"4\" width=\"1\" height=\"1\"/>\n",
       "<rect x=\"7\" y=\"4\" width=\"1\" height=\"1\"/>\n",
       "</g>\n",
       "</symbol>\n",
       "<symbol overflow=\"visible\" id=\"glyph1-4\">\n",
       "<g transform=\"matrix(1,0,0,1,-9,-7)\">\n",
       "<rect x=\"6\" y=\"1\" width=\"1\" height=\"1\"/>\n",
       "<rect x=\"0\" y=\"2\" width=\"1\" height=\"1\"/>\n",
       "<rect x=\"1\" y=\"2\" width=\"1\" height=\"1\"/>\n",
       "<rect x=\"2\" y=\"2\" width=\"1\" height=\"1\"/>\n",
       "<rect x=\"3\" y=\"2\" width=\"1\" height=\"1\"/>\n",
       "<rect x=\"4\" y=\"2\" width=\"1\" height=\"1\"/>\n",
       "<rect x=\"5\" y=\"2\" width=\"1\" height=\"1\"/>\n",
       "<rect x=\"6\" y=\"2\" width=\"1\" height=\"1\"/>\n",
       "<rect x=\"7\" y=\"2\" width=\"1\" height=\"1\"/>\n",
       "<rect x=\"8\" y=\"2\" width=\"1\" height=\"1\"/>\n",
       "<rect x=\"1\" y=\"3\" width=\"1\" height=\"1\"/>\n",
       "<rect x=\"6\" y=\"3\" width=\"1\" height=\"1\"/>\n",
       "<rect x=\"2\" y=\"4\" width=\"1\" height=\"1\"/>\n",
       "<rect x=\"3\" y=\"4\" width=\"1\" height=\"1\"/>\n",
       "<rect x=\"6\" y=\"4\" width=\"1\" height=\"1\"/>\n",
       "<rect x=\"4\" y=\"5\" width=\"1\" height=\"1\"/>\n",
       "<rect x=\"6\" y=\"5\" width=\"1\" height=\"1\"/>\n",
       "<rect x=\"5\" y=\"6\" width=\"1\" height=\"1\"/>\n",
       "<rect x=\"6\" y=\"6\" width=\"1\" height=\"1\"/>\n",
       "</g>\n",
       "</symbol>\n",
       "<symbol overflow=\"visible\" id=\"glyph1-5\">\n",
       "<g transform=\"matrix(1,0,0,1,-9,-6)\">\n",
       "<rect x=\"1\" y=\"0\" width=\"1\" height=\"1\"/>\n",
       "<rect x=\"4\" y=\"0\" width=\"1\" height=\"1\"/>\n",
       "<rect x=\"5\" y=\"0\" width=\"1\" height=\"1\"/>\n",
       "<rect x=\"6\" y=\"0\" width=\"1\" height=\"1\"/>\n",
       "<rect x=\"7\" y=\"0\" width=\"1\" height=\"1\"/>\n",
       "<rect x=\"0\" y=\"1\" width=\"1\" height=\"1\"/>\n",
       "<rect x=\"3\" y=\"1\" width=\"1\" height=\"1\"/>\n",
       "<rect x=\"8\" y=\"1\" width=\"1\" height=\"1\"/>\n",
       "<rect x=\"0\" y=\"2\" width=\"1\" height=\"1\"/>\n",
       "<rect x=\"3\" y=\"2\" width=\"1\" height=\"1\"/>\n",
       "<rect x=\"8\" y=\"2\" width=\"1\" height=\"1\"/>\n",
       "<rect x=\"0\" y=\"3\" width=\"1\" height=\"1\"/>\n",
       "<rect x=\"4\" y=\"3\" width=\"1\" height=\"1\"/>\n",
       "<rect x=\"8\" y=\"3\" width=\"1\" height=\"1\"/>\n",
       "<rect x=\"1\" y=\"4\" width=\"1\" height=\"1\"/>\n",
       "<rect x=\"2\" y=\"4\" width=\"1\" height=\"1\"/>\n",
       "<rect x=\"3\" y=\"4\" width=\"1\" height=\"1\"/>\n",
       "<rect x=\"4\" y=\"4\" width=\"1\" height=\"1\"/>\n",
       "<rect x=\"5\" y=\"4\" width=\"1\" height=\"1\"/>\n",
       "<rect x=\"6\" y=\"4\" width=\"1\" height=\"1\"/>\n",
       "<rect x=\"7\" y=\"4\" width=\"1\" height=\"1\"/>\n",
       "</g>\n",
       "</symbol>\n",
       "<symbol overflow=\"visible\" id=\"glyph1-6\">\n",
       "<g transform=\"matrix(1,0,0,1,-7,-6)\">\n",
       "<rect x=\"0\" y=\"0\" width=\"1\" height=\"1\"/>\n",
       "<rect x=\"1\" y=\"0\" width=\"1\" height=\"1\"/>\n",
       "<rect x=\"2\" y=\"0\" width=\"1\" height=\"1\"/>\n",
       "<rect x=\"3\" y=\"1\" width=\"1\" height=\"1\"/>\n",
       "<rect x=\"4\" y=\"1\" width=\"1\" height=\"1\"/>\n",
       "<rect x=\"5\" y=\"1\" width=\"1\" height=\"1\"/>\n",
       "<rect x=\"6\" y=\"2\" width=\"1\" height=\"1\"/>\n",
       "<rect x=\"7\" y=\"2\" width=\"1\" height=\"1\"/>\n",
       "<rect x=\"4\" y=\"3\" width=\"1\" height=\"1\"/>\n",
       "<rect x=\"5\" y=\"3\" width=\"1\" height=\"1\"/>\n",
       "<rect x=\"8\" y=\"3\" width=\"1\" height=\"1\"/>\n",
       "<rect x=\"0\" y=\"4\" width=\"1\" height=\"1\"/>\n",
       "<rect x=\"1\" y=\"4\" width=\"1\" height=\"1\"/>\n",
       "<rect x=\"2\" y=\"4\" width=\"1\" height=\"1\"/>\n",
       "<rect x=\"3\" y=\"4\" width=\"1\" height=\"1\"/>\n",
       "<rect x=\"9\" y=\"4\" width=\"1\" height=\"1\"/>\n",
       "</g>\n",
       "</symbol>\n",
       "</g>\n",
       "</defs>\n",
       "<g id=\"surface41\">\n",
       "<rect x=\"0\" y=\"0\" width=\"504\" height=\"504\" style=\"fill:rgb(100%,100%,100%);fill-opacity:1;stroke:none;\"/>\n",
       "<path style=\"fill:none;stroke-width:0.75;stroke-linecap:round;stroke-linejoin:round;stroke:rgb(0%,0%,0%);stroke-opacity:1;stroke-miterlimit:10;\" d=\"M 461.101562 245.625 C 461.101562 249.222656 455.699219 249.222656 455.699219 245.625 C 455.699219 242.023438 461.101562 242.023438 461.101562 245.625 \"/>\n",
       "<path style=\"fill:none;stroke-width:0.75;stroke-linecap:round;stroke-linejoin:round;stroke:rgb(0%,0%,0%);stroke-opacity:1;stroke-miterlimit:10;\" d=\"M 77.101562 307.199219 C 77.101562 310.800781 71.699219 310.800781 71.699219 307.199219 C 71.699219 303.601562 77.101562 303.601562 77.101562 307.199219 \"/>\n",
       "<path style=\"fill:none;stroke-width:0.75;stroke-linecap:round;stroke-linejoin:round;stroke:rgb(0%,0%,0%);stroke-opacity:1;stroke-miterlimit:10;\" d=\"M 77.101562 194.945312 C 77.101562 198.546875 71.699219 198.546875 71.699219 194.945312 C 71.699219 191.347656 77.101562 191.347656 77.101562 194.945312 \"/>\n",
       "<path style=\"fill:none;stroke-width:0.75;stroke-linecap:round;stroke-linejoin:round;stroke:rgb(0%,0%,0%);stroke-opacity:1;stroke-miterlimit:10;\" d=\"M 461.101562 78.257812 C 461.101562 81.855469 455.699219 81.855469 455.699219 78.257812 C 455.699219 74.65625 461.101562 74.65625 461.101562 78.257812 \"/>\n",
       "<path style=\"fill:none;stroke-width:0.75;stroke-linecap:round;stroke-linejoin:round;stroke:rgb(0%,0%,0%);stroke-opacity:1;stroke-miterlimit:10;\" d=\"M 77.101562 251.792969 C 77.101562 255.390625 71.699219 255.390625 71.699219 251.792969 C 71.699219 248.191406 77.101562 248.191406 77.101562 251.792969 \"/>\n",
       "<path style=\"fill:none;stroke-width:0.75;stroke-linecap:round;stroke-linejoin:round;stroke:rgb(0%,0%,0%);stroke-opacity:1;stroke-miterlimit:10;\" d=\"M 77.101562 233.296875 C 77.101562 236.894531 71.699219 236.894531 71.699219 233.296875 C 71.699219 229.695312 77.101562 229.695312 77.101562 233.296875 \"/>\n",
       "<path style=\"fill:none;stroke-width:0.75;stroke-linecap:round;stroke-linejoin:round;stroke:rgb(0%,0%,0%);stroke-opacity:1;stroke-miterlimit:10;\" d=\"M 77.101562 344.628906 C 77.101562 348.226562 71.699219 348.226562 71.699219 344.628906 C 71.699219 341.027344 77.101562 341.027344 77.101562 344.628906 \"/>\n",
       "<path style=\"fill:none;stroke-width:0.75;stroke-linecap:round;stroke-linejoin:round;stroke:rgb(0%,0%,0%);stroke-opacity:1;stroke-miterlimit:10;\" d=\"M 77.101562 250.003906 C 77.101562 253.605469 71.699219 253.605469 71.699219 250.003906 C 71.699219 246.40625 77.101562 246.40625 77.101562 250.003906 \"/>\n",
       "<path style=\"fill:none;stroke-width:0.75;stroke-linecap:round;stroke-linejoin:round;stroke:rgb(0%,0%,0%);stroke-opacity:1;stroke-miterlimit:10;\" d=\"M 461.101562 261.792969 C 461.101562 265.394531 455.699219 265.394531 455.699219 261.792969 C 455.699219 258.195312 461.101562 258.195312 461.101562 261.792969 \"/>\n",
       "<path style=\"fill:none;stroke-width:0.75;stroke-linecap:round;stroke-linejoin:round;stroke:rgb(0%,0%,0%);stroke-opacity:1;stroke-miterlimit:10;\" d=\"M 77.101562 265.957031 C 77.101562 269.554688 71.699219 269.554688 71.699219 265.957031 C 71.699219 262.355469 77.101562 262.355469 77.101562 265.957031 \"/>\n",
       "<path style=\"fill:none;stroke-width:0.75;stroke-linecap:round;stroke-linejoin:round;stroke:rgb(0%,0%,0%);stroke-opacity:1;stroke-miterlimit:10;\" d=\"M 461.101562 300.808594 C 461.101562 304.40625 455.699219 304.40625 455.699219 300.808594 C 455.699219 297.207031 461.101562 297.207031 461.101562 300.808594 \"/>\n",
       "<path style=\"fill:none;stroke-width:0.75;stroke-linecap:round;stroke-linejoin:round;stroke:rgb(0%,0%,0%);stroke-opacity:1;stroke-miterlimit:10;\" d=\"M 461.101562 249.285156 C 461.101562 252.886719 455.699219 252.886719 455.699219 249.285156 C 455.699219 245.683594 461.101562 245.683594 461.101562 249.285156 \"/>\n",
       "<path style=\"fill:none;stroke-width:0.75;stroke-linecap:round;stroke-linejoin:round;stroke:rgb(0%,0%,0%);stroke-opacity:1;stroke-miterlimit:10;\" d=\"M 77.101562 339.886719 C 77.101562 343.488281 71.699219 343.488281 71.699219 339.886719 C 71.699219 336.289062 77.101562 336.289062 77.101562 339.886719 \"/>\n",
       "<path style=\"fill:none;stroke-width:0.75;stroke-linecap:round;stroke-linejoin:round;stroke:rgb(0%,0%,0%);stroke-opacity:1;stroke-miterlimit:10;\" d=\"M 461.101562 196.78125 C 461.101562 200.382812 455.699219 200.382812 455.699219 196.78125 C 455.699219 193.183594 461.101562 193.183594 461.101562 196.78125 \"/>\n",
       "<path style=\"fill:none;stroke-width:0.75;stroke-linecap:round;stroke-linejoin:round;stroke:rgb(0%,0%,0%);stroke-opacity:1;stroke-miterlimit:10;\" d=\"M 77.101562 214.832031 C 77.101562 218.429688 71.699219 218.429688 71.699219 214.832031 C 71.699219 211.230469 77.101562 211.230469 77.101562 214.832031 \"/>\n",
       "<path style=\"fill:none;stroke-width:0.75;stroke-linecap:round;stroke-linejoin:round;stroke:rgb(0%,0%,0%);stroke-opacity:1;stroke-miterlimit:10;\" d=\"M 77.101562 204.957031 C 77.101562 208.558594 71.699219 208.558594 71.699219 204.957031 C 71.699219 201.359375 77.101562 201.359375 77.101562 204.957031 \"/>\n",
       "<path style=\"fill:none;stroke-width:0.75;stroke-linecap:round;stroke-linejoin:round;stroke:rgb(0%,0%,0%);stroke-opacity:1;stroke-miterlimit:10;\" d=\"M 77.101562 236.636719 C 77.101562 240.234375 71.699219 240.234375 71.699219 236.636719 C 71.699219 233.035156 77.101562 233.035156 77.101562 236.636719 \"/>\n",
       "<path style=\"fill:none;stroke-width:0.75;stroke-linecap:round;stroke-linejoin:round;stroke:rgb(0%,0%,0%);stroke-opacity:1;stroke-miterlimit:10;\" d=\"M 77.101562 316.871094 C 77.101562 320.46875 71.699219 320.46875 71.699219 316.871094 C 71.699219 313.269531 77.101562 313.269531 77.101562 316.871094 \"/>\n",
       "<path style=\"fill:none;stroke-width:0.75;stroke-linecap:round;stroke-linejoin:round;stroke:rgb(0%,0%,0%);stroke-opacity:1;stroke-miterlimit:10;\" d=\"M 77.101562 248.039062 C 77.101562 251.636719 71.699219 251.636719 71.699219 248.039062 C 71.699219 244.4375 77.101562 244.4375 77.101562 248.039062 \"/>\n",
       "<path style=\"fill:none;stroke-width:0.75;stroke-linecap:round;stroke-linejoin:round;stroke:rgb(0%,0%,0%);stroke-opacity:1;stroke-miterlimit:10;\" d=\"M 461.101562 301.382812 C 461.101562 304.984375 455.699219 304.984375 455.699219 301.382812 C 455.699219 297.78125 461.101562 297.78125 461.101562 301.382812 \"/>\n",
       "<path style=\"fill:none;stroke-width:0.75;stroke-linecap:round;stroke-linejoin:round;stroke:rgb(0%,0%,0%);stroke-opacity:1;stroke-miterlimit:10;\" d=\"M 461.101562 194.09375 C 461.101562 197.691406 455.699219 197.691406 455.699219 194.09375 C 455.699219 190.492188 461.101562 190.492188 461.101562 194.09375 \"/>\n",
       "<path style=\"fill:none;stroke-width:0.75;stroke-linecap:round;stroke-linejoin:round;stroke:rgb(0%,0%,0%);stroke-opacity:1;stroke-miterlimit:10;\" d=\"M 461.101562 313.523438 C 461.101562 317.121094 455.699219 317.121094 455.699219 313.523438 C 455.699219 309.921875 461.101562 309.921875 461.101562 313.523438 \"/>\n",
       "<path style=\"fill:none;stroke-width:0.75;stroke-linecap:round;stroke-linejoin:round;stroke:rgb(0%,0%,0%);stroke-opacity:1;stroke-miterlimit:10;\" d=\"M 461.101562 288.335938 C 461.101562 291.9375 455.699219 291.9375 455.699219 288.335938 C 455.699219 284.734375 461.101562 284.734375 461.101562 288.335938 \"/>\n",
       "<path style=\"fill:none;stroke-width:0.75;stroke-linecap:round;stroke-linejoin:round;stroke:rgb(0%,0%,0%);stroke-opacity:1;stroke-miterlimit:10;\" d=\"M 77.101562 299.546875 C 77.101562 303.148438 71.699219 303.148438 71.699219 299.546875 C 71.699219 295.949219 77.101562 295.949219 77.101562 299.546875 \"/>\n",
       "<path style=\"fill:none;stroke-width:0.75;stroke-linecap:round;stroke-linejoin:round;stroke:rgb(0%,0%,0%);stroke-opacity:1;stroke-miterlimit:10;\" d=\"M 77.101562 383.378906 C 77.101562 386.980469 71.699219 386.980469 71.699219 383.378906 C 71.699219 379.78125 77.101562 379.78125 77.101562 383.378906 \"/>\n",
       "<path style=\"fill:none;stroke-width:0.75;stroke-linecap:round;stroke-linejoin:round;stroke:rgb(0%,0%,0%);stroke-opacity:1;stroke-miterlimit:10;\" d=\"M 461.101562 141.886719 C 461.101562 145.488281 455.699219 145.488281 455.699219 141.886719 C 455.699219 138.285156 461.101562 138.285156 461.101562 141.886719 \"/>\n",
       "<path style=\"fill:none;stroke-width:0.75;stroke-linecap:round;stroke-linejoin:round;stroke:rgb(0%,0%,0%);stroke-opacity:1;stroke-miterlimit:10;\" d=\"M 461.101562 316.777344 C 461.101562 320.378906 455.699219 320.378906 455.699219 316.777344 C 455.699219 313.179688 461.101562 313.179688 461.101562 316.777344 \"/>\n",
       "<path style=\"fill:none;stroke-width:0.75;stroke-linecap:round;stroke-linejoin:round;stroke:rgb(0%,0%,0%);stroke-opacity:1;stroke-miterlimit:10;\" d=\"M 77.101562 313.519531 C 77.101562 317.117188 71.699219 317.117188 71.699219 313.519531 C 71.699219 309.917969 77.101562 309.917969 77.101562 313.519531 \"/>\n",
       "<path style=\"fill:none;stroke-width:0.75;stroke-linecap:round;stroke-linejoin:round;stroke:rgb(0%,0%,0%);stroke-opacity:1;stroke-miterlimit:10;\" d=\"M 461.101562 288.546875 C 461.101562 292.148438 455.699219 292.148438 455.699219 288.546875 C 455.699219 284.945312 461.101562 284.945312 461.101562 288.546875 \"/>\n",
       "<path style=\"fill:none;stroke-width:0.75;stroke-linecap:round;stroke-linejoin:round;stroke:rgb(0%,0%,0%);stroke-opacity:1;stroke-miterlimit:10;\" d=\"M 77.101562 184.75 C 77.101562 188.351562 71.699219 188.351562 71.699219 184.75 C 71.699219 181.152344 77.101562 181.152344 77.101562 184.75 \"/>\n",
       "<path style=\"fill:none;stroke-width:0.75;stroke-linecap:round;stroke-linejoin:round;stroke:rgb(0%,0%,0%);stroke-opacity:1;stroke-miterlimit:10;\" d=\"M 461.101562 180.121094 C 461.101562 183.71875 455.699219 183.71875 455.699219 180.121094 C 455.699219 176.519531 461.101562 176.519531 461.101562 180.121094 \"/>\n",
       "<path style=\"fill:none;stroke-width:0.75;stroke-linecap:round;stroke-linejoin:round;stroke:rgb(0%,0%,0%);stroke-opacity:1;stroke-miterlimit:10;\" d=\"M 77.101562 299.824219 C 77.101562 303.421875 71.699219 303.421875 71.699219 299.824219 C 71.699219 296.222656 77.101562 296.222656 77.101562 299.824219 \"/>\n",
       "<path style=\"fill:none;stroke-width:0.75;stroke-linecap:round;stroke-linejoin:round;stroke:rgb(0%,0%,0%);stroke-opacity:1;stroke-miterlimit:10;\" d=\"M 77.101562 238.136719 C 77.101562 241.738281 71.699219 241.738281 71.699219 238.136719 C 71.699219 234.539062 77.101562 234.539062 77.101562 238.136719 \"/>\n",
       "<path style=\"fill:none;stroke-width:0.75;stroke-linecap:round;stroke-linejoin:round;stroke:rgb(0%,0%,0%);stroke-opacity:1;stroke-miterlimit:10;\" d=\"M 461.101562 171.960938 C 461.101562 175.558594 455.699219 175.558594 455.699219 171.960938 C 455.699219 168.359375 461.101562 168.359375 461.101562 171.960938 \"/>\n",
       "<path style=\"fill:none;stroke-width:0.75;stroke-linecap:round;stroke-linejoin:round;stroke:rgb(0%,0%,0%);stroke-opacity:1;stroke-miterlimit:10;\" d=\"M 77.101562 256.113281 C 77.101562 259.714844 71.699219 259.714844 71.699219 256.113281 C 71.699219 252.515625 77.101562 252.515625 77.101562 256.113281 \"/>\n",
       "<path style=\"fill:none;stroke-width:0.75;stroke-linecap:round;stroke-linejoin:round;stroke:rgb(0%,0%,0%);stroke-opacity:1;stroke-miterlimit:10;\" d=\"M 461.101562 208.734375 C 461.101562 212.335938 455.699219 212.335938 455.699219 208.734375 C 455.699219 205.136719 461.101562 205.136719 461.101562 208.734375 \"/>\n",
       "<path style=\"fill:none;stroke-width:0.75;stroke-linecap:round;stroke-linejoin:round;stroke:rgb(0%,0%,0%);stroke-opacity:1;stroke-miterlimit:10;\" d=\"M 461.101562 175.707031 C 461.101562 179.308594 455.699219 179.308594 455.699219 175.707031 C 455.699219 172.105469 461.101562 172.105469 461.101562 175.707031 \"/>\n",
       "<path style=\"fill:none;stroke-width:0.75;stroke-linecap:round;stroke-linejoin:round;stroke:rgb(0%,0%,0%);stroke-opacity:1;stroke-miterlimit:10;\" d=\"M 461.101562 72.800781 C 461.101562 76.398438 455.699219 76.398438 455.699219 72.800781 C 455.699219 69.199219 461.101562 69.199219 461.101562 72.800781 \"/>\n",
       "<path style=\"fill:none;stroke-width:0.75;stroke-linecap:round;stroke-linejoin:round;stroke:rgb(0%,0%,0%);stroke-opacity:1;stroke-miterlimit:10;\" d=\"M 461.101562 297.269531 C 461.101562 300.871094 455.699219 300.871094 455.699219 297.269531 C 455.699219 293.671875 461.101562 293.671875 461.101562 297.269531 \"/>\n",
       "<path style=\"fill:none;stroke-width:0.75;stroke-linecap:round;stroke-linejoin:round;stroke:rgb(0%,0%,0%);stroke-opacity:1;stroke-miterlimit:10;\" d=\"M 461.101562 224.085938 C 461.101562 227.683594 455.699219 227.683594 455.699219 224.085938 C 455.699219 220.484375 461.101562 220.484375 461.101562 224.085938 \"/>\n",
       "<path style=\"fill:none;stroke-width:0.75;stroke-linecap:round;stroke-linejoin:round;stroke:rgb(0%,0%,0%);stroke-opacity:1;stroke-miterlimit:10;\" d=\"M 77.101562 312.59375 C 77.101562 316.195312 71.699219 316.195312 71.699219 312.59375 C 71.699219 308.992188 77.101562 308.992188 77.101562 312.59375 \"/>\n",
       "<path style=\"fill:none;stroke-width:0.75;stroke-linecap:round;stroke-linejoin:round;stroke:rgb(0%,0%,0%);stroke-opacity:1;stroke-miterlimit:10;\" d=\"M 77.101562 297.765625 C 77.101562 301.367188 71.699219 301.367188 71.699219 297.765625 C 71.699219 294.167969 77.101562 294.167969 77.101562 297.765625 \"/>\n",
       "<path style=\"fill:none;stroke-width:0.75;stroke-linecap:round;stroke-linejoin:round;stroke:rgb(0%,0%,0%);stroke-opacity:1;stroke-miterlimit:10;\" d=\"M 77.101562 280.554688 C 77.101562 284.15625 71.699219 284.15625 71.699219 280.554688 C 71.699219 276.957031 77.101562 276.957031 77.101562 280.554688 \"/>\n",
       "<path style=\"fill:none;stroke-width:0.75;stroke-linecap:round;stroke-linejoin:round;stroke:rgb(0%,0%,0%);stroke-opacity:1;stroke-miterlimit:10;\" d=\"M 461.101562 143.03125 C 461.101562 146.632812 455.699219 146.632812 455.699219 143.03125 C 455.699219 139.429688 461.101562 139.429688 461.101562 143.03125 \"/>\n",
       "<path style=\"fill:none;stroke-width:0.75;stroke-linecap:round;stroke-linejoin:round;stroke:rgb(0%,0%,0%);stroke-opacity:1;stroke-miterlimit:10;\" d=\"M 77.101562 245.914062 C 77.101562 249.515625 71.699219 249.515625 71.699219 245.914062 C 71.699219 242.3125 77.101562 242.3125 77.101562 245.914062 \"/>\n",
       "<path style=\"fill:none;stroke-width:0.75;stroke-linecap:round;stroke-linejoin:round;stroke:rgb(0%,0%,0%);stroke-opacity:1;stroke-miterlimit:10;\" d=\"M 77.101562 378.746094 C 77.101562 382.34375 71.699219 382.34375 71.699219 378.746094 C 71.699219 375.144531 77.101562 375.144531 77.101562 378.746094 \"/>\n",
       "<path style=\"fill:none;stroke-width:0.75;stroke-linecap:round;stroke-linejoin:round;stroke:rgb(0%,0%,0%);stroke-opacity:1;stroke-miterlimit:10;\" d=\"M 77.101562 391.078125 C 77.101562 394.675781 71.699219 394.675781 71.699219 391.078125 C 71.699219 387.476562 77.101562 387.476562 77.101562 391.078125 \"/>\n",
       "<path style=\"fill:none;stroke-width:0.75;stroke-linecap:round;stroke-linejoin:round;stroke:rgb(0%,0%,0%);stroke-opacity:1;stroke-miterlimit:10;\" d=\"M 77.101562 226.269531 C 77.101562 229.867188 71.699219 229.867188 71.699219 226.269531 C 71.699219 222.667969 77.101562 222.667969 77.101562 226.269531 \"/>\n",
       "<path style=\"fill:none;stroke-width:0.75;stroke-linecap:round;stroke-linejoin:round;stroke:rgb(0%,0%,0%);stroke-opacity:1;stroke-miterlimit:10;\" d=\"M 77.101562 275.371094 C 77.101562 278.972656 71.699219 278.972656 71.699219 275.371094 C 71.699219 271.773438 77.101562 271.773438 77.101562 275.371094 \"/>\n",
       "<path style=\"fill:none;stroke-width:0.75;stroke-linecap:round;stroke-linejoin:round;stroke:rgb(0%,0%,0%);stroke-opacity:1;stroke-miterlimit:10;\" d=\"M 461.101562 138.304688 C 461.101562 141.90625 455.699219 141.90625 455.699219 138.304688 C 455.699219 134.703125 461.101562 134.703125 461.101562 138.304688 \"/>\n",
       "<path style=\"fill:none;stroke-width:0.75;stroke-linecap:round;stroke-linejoin:round;stroke:rgb(0%,0%,0%);stroke-opacity:1;stroke-miterlimit:10;\" d=\"M 77.101562 335.371094 C 77.101562 338.972656 71.699219 338.972656 71.699219 335.371094 C 71.699219 331.769531 77.101562 331.769531 77.101562 335.371094 \"/>\n",
       "<path style=\"fill:none;stroke-width:0.75;stroke-linecap:round;stroke-linejoin:round;stroke:rgb(0%,0%,0%);stroke-opacity:1;stroke-miterlimit:10;\" d=\"M 461.101562 191.558594 C 461.101562 195.15625 455.699219 195.15625 455.699219 191.558594 C 455.699219 187.957031 461.101562 187.957031 461.101562 191.558594 \"/>\n",
       "<path style=\"fill:none;stroke-width:0.75;stroke-linecap:round;stroke-linejoin:round;stroke:rgb(0%,0%,0%);stroke-opacity:1;stroke-miterlimit:10;\" d=\"M 77.101562 353.710938 C 77.101562 357.308594 71.699219 357.308594 71.699219 353.710938 C 71.699219 350.109375 77.101562 350.109375 77.101562 353.710938 \"/>\n",
       "<path style=\"fill:none;stroke-width:0.75;stroke-linecap:round;stroke-linejoin:round;stroke:rgb(0%,0%,0%);stroke-opacity:1;stroke-miterlimit:10;\" d=\"M 77.101562 238.226562 C 77.101562 241.824219 71.699219 241.824219 71.699219 238.226562 C 71.699219 234.625 77.101562 234.625 77.101562 238.226562 \"/>\n",
       "<path style=\"fill:none;stroke-width:0.75;stroke-linecap:round;stroke-linejoin:round;stroke:rgb(0%,0%,0%);stroke-opacity:1;stroke-miterlimit:10;\" d=\"M 77.101562 326.890625 C 77.101562 330.492188 71.699219 330.492188 71.699219 326.890625 C 71.699219 323.292969 77.101562 323.292969 77.101562 326.890625 \"/>\n",
       "<path style=\"fill:none;stroke-width:0.75;stroke-linecap:round;stroke-linejoin:round;stroke:rgb(0%,0%,0%);stroke-opacity:1;stroke-miterlimit:10;\" d=\"M 461.101562 182.074219 C 461.101562 185.675781 455.699219 185.675781 455.699219 182.074219 C 455.699219 178.476562 461.101562 178.476562 461.101562 182.074219 \"/>\n",
       "<path style=\"fill:none;stroke-width:0.75;stroke-linecap:round;stroke-linejoin:round;stroke:rgb(0%,0%,0%);stroke-opacity:1;stroke-miterlimit:10;\" d=\"M 77.101562 241.558594 C 77.101562 245.160156 71.699219 245.160156 71.699219 241.558594 C 71.699219 237.960938 77.101562 237.960938 77.101562 241.558594 \"/>\n",
       "<path style=\"fill:none;stroke-width:0.75;stroke-linecap:round;stroke-linejoin:round;stroke:rgb(0%,0%,0%);stroke-opacity:1;stroke-miterlimit:10;\" d=\"M 77.101562 394.464844 C 77.101562 398.0625 71.699219 398.0625 71.699219 394.464844 C 71.699219 390.863281 77.101562 390.863281 77.101562 394.464844 \"/>\n",
       "<path style=\"fill:none;stroke-width:0.75;stroke-linecap:round;stroke-linejoin:round;stroke:rgb(0%,0%,0%);stroke-opacity:1;stroke-miterlimit:10;\" d=\"M 77.101562 217.351562 C 77.101562 220.949219 71.699219 220.949219 71.699219 217.351562 C 71.699219 213.75 77.101562 213.75 77.101562 217.351562 \"/>\n",
       "<path style=\"fill:none;stroke-width:0.75;stroke-linecap:round;stroke-linejoin:round;stroke:rgb(0%,0%,0%);stroke-opacity:1;stroke-miterlimit:10;\" d=\"M 461.101562 144.835938 C 461.101562 148.4375 455.699219 148.4375 455.699219 144.835938 C 455.699219 141.238281 461.101562 141.238281 461.101562 144.835938 \"/>\n",
       "<path style=\"fill:none;stroke-width:0.75;stroke-linecap:round;stroke-linejoin:round;stroke:rgb(0%,0%,0%);stroke-opacity:1;stroke-miterlimit:10;\" d=\"M 77.101562 369.546875 C 77.101562 373.148438 71.699219 373.148438 71.699219 369.546875 C 71.699219 365.949219 77.101562 365.949219 77.101562 369.546875 \"/>\n",
       "<path style=\"fill:none;stroke-width:0.75;stroke-linecap:round;stroke-linejoin:round;stroke:rgb(0%,0%,0%);stroke-opacity:1;stroke-miterlimit:10;\" d=\"M 77.101562 210.710938 C 77.101562 214.3125 71.699219 214.3125 71.699219 210.710938 C 71.699219 207.109375 77.101562 207.109375 77.101562 210.710938 \"/>\n",
       "<path style=\"fill:none;stroke-width:0.75;stroke-linecap:round;stroke-linejoin:round;stroke:rgb(0%,0%,0%);stroke-opacity:1;stroke-miterlimit:10;\" d=\"M 77.101562 315.746094 C 77.101562 319.34375 71.699219 319.34375 71.699219 315.746094 C 71.699219 312.144531 77.101562 312.144531 77.101562 315.746094 \"/>\n",
       "<path style=\"fill:none;stroke-width:0.75;stroke-linecap:round;stroke-linejoin:round;stroke:rgb(0%,0%,0%);stroke-opacity:1;stroke-miterlimit:10;\" d=\"M 77.101562 305.960938 C 77.101562 309.5625 71.699219 309.5625 71.699219 305.960938 C 71.699219 302.359375 77.101562 302.359375 77.101562 305.960938 \"/>\n",
       "<path style=\"fill:none;stroke-width:0.75;stroke-linecap:round;stroke-linejoin:round;stroke:rgb(0%,0%,0%);stroke-opacity:1;stroke-miterlimit:10;\" d=\"M 461.101562 158.265625 C 461.101562 161.867188 455.699219 161.867188 455.699219 158.265625 C 455.699219 154.664062 461.101562 154.664062 461.101562 158.265625 \"/>\n",
       "<path style=\"fill:none;stroke-width:0.75;stroke-linecap:round;stroke-linejoin:round;stroke:rgb(0%,0%,0%);stroke-opacity:1;stroke-miterlimit:10;\" d=\"M 461.101562 214.121094 C 461.101562 217.722656 455.699219 217.722656 455.699219 214.121094 C 455.699219 210.519531 461.101562 210.519531 461.101562 214.121094 \"/>\n",
       "<path style=\"fill:none;stroke-width:0.75;stroke-linecap:round;stroke-linejoin:round;stroke:rgb(0%,0%,0%);stroke-opacity:1;stroke-miterlimit:10;\" d=\"M 461.101562 150.640625 C 461.101562 154.242188 455.699219 154.242188 455.699219 150.640625 C 455.699219 147.042969 461.101562 147.042969 461.101562 150.640625 \"/>\n",
       "<path style=\"fill:none;stroke-width:0.75;stroke-linecap:round;stroke-linejoin:round;stroke:rgb(0%,0%,0%);stroke-opacity:1;stroke-miterlimit:10;\" d=\"M 77.101562 236.226562 C 77.101562 239.828125 71.699219 239.828125 71.699219 236.226562 C 71.699219 232.625 77.101562 232.625 77.101562 236.226562 \"/>\n",
       "<path style=\"fill:none;stroke-width:0.75;stroke-linecap:round;stroke-linejoin:round;stroke:rgb(0%,0%,0%);stroke-opacity:1;stroke-miterlimit:10;\" d=\"M 77.101562 202.359375 C 77.101562 205.957031 71.699219 205.957031 71.699219 202.359375 C 71.699219 198.757812 77.101562 198.757812 77.101562 202.359375 \"/>\n",
       "<path style=\"fill:none;stroke-width:0.75;stroke-linecap:round;stroke-linejoin:round;stroke:rgb(0%,0%,0%);stroke-opacity:1;stroke-miterlimit:10;\" d=\"M 77.101562 222.445312 C 77.101562 226.042969 71.699219 226.042969 71.699219 222.445312 C 71.699219 218.84375 77.101562 218.84375 77.101562 222.445312 \"/>\n",
       "<path style=\"fill:none;stroke-width:0.75;stroke-linecap:round;stroke-linejoin:round;stroke:rgb(0%,0%,0%);stroke-opacity:1;stroke-miterlimit:10;\" d=\"M 77.101562 316.878906 C 77.101562 320.480469 71.699219 320.480469 71.699219 316.878906 C 71.699219 313.28125 77.101562 313.28125 77.101562 316.878906 \"/>\n",
       "<path style=\"fill:none;stroke-width:0.75;stroke-linecap:round;stroke-linejoin:round;stroke:rgb(0%,0%,0%);stroke-opacity:1;stroke-miterlimit:10;\" d=\"M 461.101562 205.832031 C 461.101562 209.429688 455.699219 209.429688 455.699219 205.832031 C 455.699219 202.230469 461.101562 202.230469 461.101562 205.832031 \"/>\n",
       "<path style=\"fill:none;stroke-width:0.75;stroke-linecap:round;stroke-linejoin:round;stroke:rgb(0%,0%,0%);stroke-opacity:1;stroke-miterlimit:10;\" d=\"M 461.101562 221.300781 C 461.101562 224.902344 455.699219 224.902344 455.699219 221.300781 C 455.699219 217.699219 461.101562 217.699219 461.101562 221.300781 \"/>\n",
       "<path style=\"fill:none;stroke-width:0.75;stroke-linecap:round;stroke-linejoin:round;stroke:rgb(0%,0%,0%);stroke-opacity:1;stroke-miterlimit:10;\" d=\"M 461.101562 298.039062 C 461.101562 301.636719 455.699219 301.636719 455.699219 298.039062 C 455.699219 294.4375 461.101562 294.4375 461.101562 298.039062 \"/>\n",
       "<path style=\"fill:none;stroke-width:0.75;stroke-linecap:round;stroke-linejoin:round;stroke:rgb(0%,0%,0%);stroke-opacity:1;stroke-miterlimit:10;\" d=\"M 77.101562 244.019531 C 77.101562 247.621094 71.699219 247.621094 71.699219 244.019531 C 71.699219 240.421875 77.101562 240.421875 77.101562 244.019531 \"/>\n",
       "<path style=\"fill:none;stroke-width:0.75;stroke-linecap:round;stroke-linejoin:round;stroke:rgb(0%,0%,0%);stroke-opacity:1;stroke-miterlimit:10;\" d=\"M 461.101562 279.523438 C 461.101562 283.125 455.699219 283.125 455.699219 279.523438 C 455.699219 275.925781 461.101562 275.925781 461.101562 279.523438 \"/>\n",
       "<path style=\"fill:none;stroke-width:0.75;stroke-linecap:round;stroke-linejoin:round;stroke:rgb(0%,0%,0%);stroke-opacity:1;stroke-miterlimit:10;\" d=\"M 77.101562 268.742188 C 77.101562 272.339844 71.699219 272.339844 71.699219 268.742188 C 71.699219 265.140625 77.101562 265.140625 77.101562 268.742188 \"/>\n",
       "<path style=\"fill:none;stroke-width:0.75;stroke-linecap:round;stroke-linejoin:round;stroke:rgb(0%,0%,0%);stroke-opacity:1;stroke-miterlimit:10;\" d=\"M 461.101562 289.269531 C 461.101562 292.871094 455.699219 292.871094 455.699219 289.269531 C 455.699219 285.671875 461.101562 285.671875 461.101562 289.269531 \"/>\n",
       "<path style=\"fill:none;stroke-width:0.75;stroke-linecap:round;stroke-linejoin:round;stroke:rgb(0%,0%,0%);stroke-opacity:1;stroke-miterlimit:10;\" d=\"M 77.101562 309.140625 C 77.101562 312.742188 71.699219 312.742188 71.699219 309.140625 C 71.699219 305.539062 77.101562 305.539062 77.101562 309.140625 \"/>\n",
       "<path style=\"fill:none;stroke-width:0.75;stroke-linecap:round;stroke-linejoin:round;stroke:rgb(0%,0%,0%);stroke-opacity:1;stroke-miterlimit:10;\" d=\"M 77.101562 364.722656 C 77.101562 368.324219 71.699219 368.324219 71.699219 364.722656 C 71.699219 361.125 77.101562 361.125 77.101562 364.722656 \"/>\n",
       "<path style=\"fill:none;stroke-width:0.75;stroke-linecap:round;stroke-linejoin:round;stroke:rgb(0%,0%,0%);stroke-opacity:1;stroke-miterlimit:10;\" d=\"M 461.101562 124.972656 C 461.101562 128.574219 455.699219 128.574219 455.699219 124.972656 C 455.699219 121.375 461.101562 121.375 461.101562 124.972656 \"/>\n",
       "<path style=\"fill:none;stroke-width:0.75;stroke-linecap:round;stroke-linejoin:round;stroke:rgb(0%,0%,0%);stroke-opacity:1;stroke-miterlimit:10;\" d=\"M 77.101562 243.375 C 77.101562 246.976562 71.699219 246.976562 71.699219 243.375 C 71.699219 239.777344 77.101562 239.777344 77.101562 243.375 \"/>\n",
       "<path style=\"fill:none;stroke-width:0.75;stroke-linecap:round;stroke-linejoin:round;stroke:rgb(0%,0%,0%);stroke-opacity:1;stroke-miterlimit:10;\" d=\"M 77.101562 416.800781 C 77.101562 420.398438 71.699219 420.398438 71.699219 416.800781 C 71.699219 413.199219 77.101562 413.199219 77.101562 416.800781 \"/>\n",
       "<path style=\"fill:none;stroke-width:0.75;stroke-linecap:round;stroke-linejoin:round;stroke:rgb(0%,0%,0%);stroke-opacity:1;stroke-miterlimit:10;\" d=\"M 461.101562 264.164062 C 461.101562 267.765625 455.699219 267.765625 455.699219 264.164062 C 455.699219 260.5625 461.101562 260.5625 461.101562 264.164062 \"/>\n",
       "<path style=\"fill:none;stroke-width:0.75;stroke-linecap:round;stroke-linejoin:round;stroke:rgb(0%,0%,0%);stroke-opacity:1;stroke-miterlimit:10;\" d=\"M 77.101562 315.476562 C 77.101562 319.074219 71.699219 319.074219 71.699219 315.476562 C 71.699219 311.875 77.101562 311.875 77.101562 315.476562 \"/>\n",
       "<path style=\"fill:none;stroke-width:0.75;stroke-linecap:round;stroke-linejoin:round;stroke:rgb(0%,0%,0%);stroke-opacity:1;stroke-miterlimit:10;\" d=\"M 77.101562 349.960938 C 77.101562 353.558594 71.699219 353.558594 71.699219 349.960938 C 71.699219 346.359375 77.101562 346.359375 77.101562 349.960938 \"/>\n",
       "<path style=\"fill:none;stroke-width:0.75;stroke-linecap:round;stroke-linejoin:round;stroke:rgb(0%,0%,0%);stroke-opacity:1;stroke-miterlimit:10;\" d=\"M 461.101562 186.546875 C 461.101562 190.148438 455.699219 190.148438 455.699219 186.546875 C 455.699219 182.949219 461.101562 182.949219 461.101562 186.546875 \"/>\n",
       "<path style=\"fill:none;stroke-width:0.75;stroke-linecap:round;stroke-linejoin:round;stroke:rgb(0%,0%,0%);stroke-opacity:1;stroke-miterlimit:10;\" d=\"M 77.101562 237.285156 C 77.101562 240.886719 71.699219 240.886719 71.699219 237.285156 C 71.699219 233.6875 77.101562 233.6875 77.101562 237.285156 \"/>\n",
       "<path style=\"fill:none;stroke-width:0.75;stroke-linecap:round;stroke-linejoin:round;stroke:rgb(0%,0%,0%);stroke-opacity:1;stroke-miterlimit:10;\" d=\"M 77.101562 241.144531 C 77.101562 244.746094 71.699219 244.746094 71.699219 241.144531 C 71.699219 237.542969 77.101562 237.542969 77.101562 241.144531 \"/>\n",
       "<path style=\"fill:none;stroke-width:0.75;stroke-linecap:round;stroke-linejoin:round;stroke:rgb(0%,0%,0%);stroke-opacity:1;stroke-miterlimit:10;\" d=\"M 77.101562 222.1875 C 77.101562 225.789062 71.699219 225.789062 71.699219 222.1875 C 71.699219 218.589844 77.101562 218.589844 77.101562 222.1875 \"/>\n",
       "<path style=\"fill:none;stroke-width:0.75;stroke-linecap:round;stroke-linejoin:round;stroke:rgb(0%,0%,0%);stroke-opacity:1;stroke-miterlimit:10;\" d=\"M 77.101562 395.601562 C 77.101562 399.203125 71.699219 399.203125 71.699219 395.601562 C 71.699219 392.003906 77.101562 392.003906 77.101562 395.601562 \"/>\n",
       "<path style=\"fill:none;stroke-width:0.75;stroke-linecap:round;stroke-linejoin:round;stroke:rgb(0%,0%,0%);stroke-opacity:1;stroke-miterlimit:10;\" d=\"M 461.101562 298.671875 C 461.101562 302.269531 455.699219 302.269531 455.699219 298.671875 C 455.699219 295.070312 461.101562 295.070312 461.101562 298.671875 \"/>\n",
       "<path style=\"fill:none;stroke-width:0.75;stroke-linecap:round;stroke-linejoin:round;stroke:rgb(0%,0%,0%);stroke-opacity:1;stroke-miterlimit:10;\" d=\"M 461.101562 348.652344 C 461.101562 352.253906 455.699219 352.253906 455.699219 348.652344 C 455.699219 345.054688 461.101562 345.054688 461.101562 348.652344 \"/>\n",
       "<path style=\"fill:none;stroke-width:0.75;stroke-linecap:round;stroke-linejoin:round;stroke:rgb(0%,0%,0%);stroke-opacity:1;stroke-miterlimit:10;\" d=\"M 461.101562 122.234375 C 461.101562 125.835938 455.699219 125.835938 455.699219 122.234375 C 455.699219 118.636719 461.101562 118.636719 461.101562 122.234375 \"/>\n",
       "<path style=\"fill:none;stroke-width:0.75;stroke-linecap:round;stroke-linejoin:round;stroke:rgb(0%,0%,0%);stroke-opacity:1;stroke-miterlimit:10;\" d=\"M 77.101562 260.582031 C 77.101562 264.183594 71.699219 264.183594 71.699219 260.582031 C 71.699219 256.984375 77.101562 256.984375 77.101562 260.582031 \"/>\n",
       "<path style=\"fill:none;stroke-width:0.75;stroke-linecap:round;stroke-linejoin:round;stroke:rgb(0%,0%,0%);stroke-opacity:1;stroke-miterlimit:10;\" d=\"M 461.101562 148.929688 C 461.101562 152.53125 455.699219 152.53125 455.699219 148.929688 C 455.699219 145.332031 461.101562 145.332031 461.101562 148.929688 \"/>\n",
       "<path style=\"fill:none;stroke-width:0.75;stroke-linecap:round;stroke-linejoin:round;stroke:rgb(0%,0%,0%);stroke-opacity:1;stroke-miterlimit:10;\" d=\"M 77.101562 250.152344 C 77.101562 253.753906 71.699219 253.753906 71.699219 250.152344 C 71.699219 246.554688 77.101562 246.554688 77.101562 250.152344 \"/>\n",
       "<path style=\"fill:none;stroke-width:0.75;stroke-linecap:round;stroke-linejoin:round;stroke:rgb(0%,0%,0%);stroke-opacity:1;stroke-miterlimit:10;\" d=\"M 461.101562 212.484375 C 461.101562 216.082031 455.699219 216.082031 455.699219 212.484375 C 455.699219 208.882812 461.101562 208.882812 461.101562 212.484375 \"/>\n",
       "<path style=\"fill:none;stroke-width:0.75;stroke-linecap:round;stroke-linejoin:round;stroke:rgb(0%,0%,0%);stroke-opacity:1;stroke-miterlimit:10;\" d=\"M 461.101562 131.003906 C 461.101562 134.601562 455.699219 134.601562 455.699219 131.003906 C 455.699219 127.402344 461.101562 127.402344 461.101562 131.003906 \"/>\n",
       "<path style=\"fill:none;stroke-width:0.75;stroke-linecap:round;stroke-linejoin:round;stroke:rgb(0%,0%,0%);stroke-opacity:1;stroke-miterlimit:10;\" d=\"M 77.101562 279.390625 C 77.101562 282.988281 71.699219 282.988281 71.699219 279.390625 C 71.699219 275.789062 77.101562 275.789062 77.101562 279.390625 \"/>\n",
       "<path style=\"fill:none;stroke-width:0.75;stroke-linecap:round;stroke-linejoin:round;stroke:rgb(0%,0%,0%);stroke-opacity:1;stroke-miterlimit:10;\" d=\"M 74.398438 430.558594 L 458.398438 430.558594 \"/>\n",
       "<path style=\"fill:none;stroke-width:0.75;stroke-linecap:round;stroke-linejoin:round;stroke:rgb(0%,0%,0%);stroke-opacity:1;stroke-miterlimit:10;\" d=\"M 74.398438 430.558594 L 74.398438 437.761719 \"/>\n",
       "<path style=\"fill:none;stroke-width:0.75;stroke-linecap:round;stroke-linejoin:round;stroke:rgb(0%,0%,0%);stroke-opacity:1;stroke-miterlimit:10;\" d=\"M 151.199219 430.558594 L 151.199219 437.761719 \"/>\n",
       "<path style=\"fill:none;stroke-width:0.75;stroke-linecap:round;stroke-linejoin:round;stroke:rgb(0%,0%,0%);stroke-opacity:1;stroke-miterlimit:10;\" d=\"M 228 430.558594 L 228 437.761719 \"/>\n",
       "<path style=\"fill:none;stroke-width:0.75;stroke-linecap:round;stroke-linejoin:round;stroke:rgb(0%,0%,0%);stroke-opacity:1;stroke-miterlimit:10;\" d=\"M 304.800781 430.558594 L 304.800781 437.761719 \"/>\n",
       "<path style=\"fill:none;stroke-width:0.75;stroke-linecap:round;stroke-linejoin:round;stroke:rgb(0%,0%,0%);stroke-opacity:1;stroke-miterlimit:10;\" d=\"M 381.601562 430.558594 L 381.601562 437.761719 \"/>\n",
       "<path style=\"fill:none;stroke-width:0.75;stroke-linecap:round;stroke-linejoin:round;stroke:rgb(0%,0%,0%);stroke-opacity:1;stroke-miterlimit:10;\" d=\"M 458.398438 430.558594 L 458.398438 437.761719 \"/>\n",
       "<g style=\"fill:rgb(0%,0%,0%);fill-opacity:1;\">\n",
       "  <use xlink:href=\"#glyph0-1\" x=\"65.898438\" y=\"456.480469\"/>\n",
       "  <use xlink:href=\"#glyph0-2\" x=\"72.898438\" y=\"456.480469\"/>\n",
       "  <use xlink:href=\"#glyph0-1\" x=\"75.898438\" y=\"456.480469\"/>\n",
       "</g>\n",
       "<g style=\"fill:rgb(0%,0%,0%);fill-opacity:1;\">\n",
       "  <use xlink:href=\"#glyph0-1\" x=\"142.699219\" y=\"456.480469\"/>\n",
       "  <use xlink:href=\"#glyph0-2\" x=\"149.699219\" y=\"456.480469\"/>\n",
       "  <use xlink:href=\"#glyph0-3\" x=\"152.699219\" y=\"456.480469\"/>\n",
       "</g>\n",
       "<g style=\"fill:rgb(0%,0%,0%);fill-opacity:1;\">\n",
       "  <use xlink:href=\"#glyph0-1\" x=\"219.5\" y=\"456.480469\"/>\n",
       "  <use xlink:href=\"#glyph0-2\" x=\"226.5\" y=\"456.480469\"/>\n",
       "  <use xlink:href=\"#glyph0-4\" x=\"229.5\" y=\"456.480469\"/>\n",
       "</g>\n",
       "<g style=\"fill:rgb(0%,0%,0%);fill-opacity:1;\">\n",
       "  <use xlink:href=\"#glyph0-1\" x=\"296.300781\" y=\"456.480469\"/>\n",
       "  <use xlink:href=\"#glyph0-2\" x=\"303.300781\" y=\"456.480469\"/>\n",
       "  <use xlink:href=\"#glyph0-5\" x=\"306.300781\" y=\"456.480469\"/>\n",
       "</g>\n",
       "<g style=\"fill:rgb(0%,0%,0%);fill-opacity:1;\">\n",
       "  <use xlink:href=\"#glyph0-1\" x=\"373.101562\" y=\"456.480469\"/>\n",
       "  <use xlink:href=\"#glyph0-2\" x=\"380.101562\" y=\"456.480469\"/>\n",
       "  <use xlink:href=\"#glyph0-6\" x=\"383.101562\" y=\"456.480469\"/>\n",
       "</g>\n",
       "<g style=\"fill:rgb(0%,0%,0%);fill-opacity:1;\">\n",
       "  <use xlink:href=\"#glyph0-7\" x=\"449.898438\" y=\"456.480469\"/>\n",
       "  <use xlink:href=\"#glyph0-2\" x=\"456.898438\" y=\"456.480469\"/>\n",
       "  <use xlink:href=\"#glyph0-1\" x=\"459.898438\" y=\"456.480469\"/>\n",
       "</g>\n",
       "<path style=\"fill:none;stroke-width:0.75;stroke-linecap:round;stroke-linejoin:round;stroke:rgb(0%,0%,0%);stroke-opacity:1;stroke-miterlimit:10;\" d=\"M 59.039062 367.558594 L 59.039062 103.824219 \"/>\n",
       "<path style=\"fill:none;stroke-width:0.75;stroke-linecap:round;stroke-linejoin:round;stroke:rgb(0%,0%,0%);stroke-opacity:1;stroke-miterlimit:10;\" d=\"M 59.039062 367.558594 L 51.839844 367.558594 \"/>\n",
       "<path style=\"fill:none;stroke-width:0.75;stroke-linecap:round;stroke-linejoin:round;stroke:rgb(0%,0%,0%);stroke-opacity:1;stroke-miterlimit:10;\" d=\"M 59.039062 301.625 L 51.839844 301.625 \"/>\n",
       "<path style=\"fill:none;stroke-width:0.75;stroke-linecap:round;stroke-linejoin:round;stroke:rgb(0%,0%,0%);stroke-opacity:1;stroke-miterlimit:10;\" d=\"M 59.039062 235.691406 L 51.839844 235.691406 \"/>\n",
       "<path style=\"fill:none;stroke-width:0.75;stroke-linecap:round;stroke-linejoin:round;stroke:rgb(0%,0%,0%);stroke-opacity:1;stroke-miterlimit:10;\" d=\"M 59.039062 169.757812 L 51.839844 169.757812 \"/>\n",
       "<path style=\"fill:none;stroke-width:0.75;stroke-linecap:round;stroke-linejoin:round;stroke:rgb(0%,0%,0%);stroke-opacity:1;stroke-miterlimit:10;\" d=\"M 59.039062 103.824219 L 51.839844 103.824219 \"/>\n",
       "<g style=\"fill:rgb(0%,0%,0%);fill-opacity:1;\">\n",
       "  <use xlink:href=\"#glyph1-1\" x=\"41.761719\" y=\"373.558594\"/>\n",
       "  <use xlink:href=\"#glyph1-2\" x=\"41.761719\" y=\"368.558594\"/>\n",
       "</g>\n",
       "<g style=\"fill:rgb(0%,0%,0%);fill-opacity:1;\">\n",
       "  <use xlink:href=\"#glyph1-3\" x=\"41.761719\" y=\"305.125\"/>\n",
       "</g>\n",
       "<g style=\"fill:rgb(0%,0%,0%);fill-opacity:1;\">\n",
       "  <use xlink:href=\"#glyph1-2\" x=\"41.761719\" y=\"239.191406\"/>\n",
       "</g>\n",
       "<g style=\"fill:rgb(0%,0%,0%);fill-opacity:1;\">\n",
       "  <use xlink:href=\"#glyph1-4\" x=\"41.761719\" y=\"173.257812\"/>\n",
       "</g>\n",
       "<g style=\"fill:rgb(0%,0%,0%);fill-opacity:1;\">\n",
       "  <use xlink:href=\"#glyph1-5\" x=\"41.761719\" y=\"107.324219\"/>\n",
       "</g>\n",
       "<path style=\"fill:none;stroke-width:0.75;stroke-linecap:round;stroke-linejoin:round;stroke:rgb(0%,0%,0%);stroke-opacity:1;stroke-miterlimit:10;\" d=\"M 59.039062 430.558594 L 473.761719 430.558594 L 473.761719 59.039062 L 59.039062 59.039062 L 59.039062 430.558594 \"/>\n",
       "<g style=\"fill:rgb(0%,0%,0%);fill-opacity:1;\">\n",
       "  <use xlink:href=\"#glyph0-8\" x=\"263.398438\" y=\"485.28125\"/>\n",
       "</g>\n",
       "<g style=\"fill:rgb(0%,0%,0%);fill-opacity:1;\">\n",
       "  <use xlink:href=\"#glyph1-6\" x=\"12.960938\" y=\"248.300781\"/>\n",
       "</g>\n",
       "</g>\n",
       "</svg>\n"
      ],
      "text/plain": [
       "plot without title"
      ]
     },
     "metadata": {
      "image/svg+xml": {
       "isolated": true
      }
     },
     "output_type": "display_data"
    }
   ],
   "source": [
    "set.seed(10)\n",
    "x<-rbinom(100,1,0.5)\n",
    "e<-rnorm(100,0,2)\n",
    "y<-0.5 + 2*x +e\n",
    "summary(y)\n",
    "plot(x,y)"
   ]
  },
  {
   "cell_type": "code",
   "execution_count": 34,
   "metadata": {
    "collapsed": false
   },
   "outputs": [
    {
     "data": {
      "text/plain": [
       "   Min. 1st Qu.  Median    Mean 3rd Qu.    Max. \n",
       "   0.00    1.00    1.00    1.55    2.00    6.00 "
      ]
     },
     "execution_count": 34,
     "metadata": {},
     "output_type": "execute_result"
    },
    {
     "data": {
      "image/png": "[encoded data removed]",
      "image/svg+xml": [
       "<?xml version=\"1.0\" encoding=\"UTF-8\"?>\n",
       "<svg xmlns=\"http://www.w3.org/2000/svg\" xmlns:xlink=\"http://www.w3.org/1999/xlink\" width=\"504pt\" height=\"504pt\" viewBox=\"0 0 504 504\" version=\"1.1\">\n",
       "<defs>\n",
       "<g>\n",
       "<symbol overflow=\"visible\" id=\"glyph0-0\">\n",
       "<g transform=\"matrix(1,0,0,1,1,-9)\">\n",
       "<rect x=\"0\" y=\"0\" width=\"1\" height=\"1\"/>\n",
       "<rect x=\"2\" y=\"0\" width=\"1\" height=\"1\"/>\n",
       "<rect x=\"4\" y=\"0\" width=\"1\" height=\"1\"/>\n",
       "<rect x=\"6\" y=\"0\" width=\"1\" height=\"1\"/>\n",
       "<rect x=\"0\" y=\"2\" width=\"1\" height=\"1\"/>\n",
       "<rect x=\"6\" y=\"2\" width=\"1\" height=\"1\"/>\n",
       "<rect x=\"0\" y=\"4\" width=\"1\" height=\"1\"/>\n",
       "<rect x=\"6\" y=\"4\" width=\"1\" height=\"1\"/>\n",
       "<rect x=\"0\" y=\"6\" width=\"1\" height=\"1\"/>\n",
       "<rect x=\"6\" y=\"6\" width=\"1\" height=\"1\"/>\n",
       "<rect x=\"0\" y=\"8\" width=\"1\" height=\"1\"/>\n",
       "<rect x=\"2\" y=\"8\" width=\"1\" height=\"1\"/>\n",
       "<rect x=\"4\" y=\"8\" width=\"1\" height=\"1\"/>\n",
       "<rect x=\"6\" y=\"8\" width=\"1\" height=\"1\"/>\n",
       "</g>\n",
       "</symbol>\n",
       "<symbol overflow=\"visible\" id=\"glyph0-1\">\n",
       "<g transform=\"matrix(1,0,0,1,0,-4)\">\n",
       "<rect x=\"0\" y=\"0\" width=\"1\" height=\"1\"/>\n",
       "<rect x=\"1\" y=\"0\" width=\"1\" height=\"1\"/>\n",
       "<rect x=\"2\" y=\"0\" width=\"1\" height=\"1\"/>\n",
       "<rect x=\"3\" y=\"0\" width=\"1\" height=\"1\"/>\n",
       "</g>\n",
       "</symbol>\n",
       "<symbol overflow=\"visible\" id=\"glyph0-2\">\n",
       "<g transform=\"matrix(1,0,0,1,1,-9)\">\n",
       "<rect x=\"1\" y=\"0\" width=\"1\" height=\"1\"/>\n",
       "<rect x=\"2\" y=\"0\" width=\"1\" height=\"1\"/>\n",
       "<rect x=\"3\" y=\"0\" width=\"1\" height=\"1\"/>\n",
       "<rect x=\"0\" y=\"1\" width=\"1\" height=\"1\"/>\n",
       "<rect x=\"4\" y=\"1\" width=\"1\" height=\"1\"/>\n",
       "<rect x=\"4\" y=\"2\" width=\"1\" height=\"1\"/>\n",
       "<rect x=\"3\" y=\"3\" width=\"1\" height=\"1\"/>\n",
       "<rect x=\"2\" y=\"4\" width=\"1\" height=\"1\"/>\n",
       "<rect x=\"1\" y=\"5\" width=\"1\" height=\"1\"/>\n",
       "<rect x=\"0\" y=\"6\" width=\"1\" height=\"1\"/>\n",
       "<rect x=\"0\" y=\"7\" width=\"1\" height=\"1\"/>\n",
       "<rect x=\"0\" y=\"8\" width=\"1\" height=\"1\"/>\n",
       "<rect x=\"1\" y=\"8\" width=\"1\" height=\"1\"/>\n",
       "<rect x=\"2\" y=\"8\" width=\"1\" height=\"1\"/>\n",
       "<rect x=\"3\" y=\"8\" width=\"1\" height=\"1\"/>\n",
       "<rect x=\"4\" y=\"8\" width=\"1\" height=\"1\"/>\n",
       "</g>\n",
       "</symbol>\n",
       "<symbol overflow=\"visible\" id=\"glyph0-3\">\n",
       "<g transform=\"matrix(1,0,0,1,1,-9)\">\n",
       "<rect x=\"2\" y=\"0\" width=\"1\" height=\"1\"/>\n",
       "<rect x=\"0\" y=\"1\" width=\"1\" height=\"1\"/>\n",
       "<rect x=\"1\" y=\"1\" width=\"1\" height=\"1\"/>\n",
       "<rect x=\"2\" y=\"1\" width=\"1\" height=\"1\"/>\n",
       "<rect x=\"2\" y=\"2\" width=\"1\" height=\"1\"/>\n",
       "<rect x=\"2\" y=\"3\" width=\"1\" height=\"1\"/>\n",
       "<rect x=\"2\" y=\"4\" width=\"1\" height=\"1\"/>\n",
       "<rect x=\"2\" y=\"5\" width=\"1\" height=\"1\"/>\n",
       "<rect x=\"2\" y=\"6\" width=\"1\" height=\"1\"/>\n",
       "<rect x=\"2\" y=\"7\" width=\"1\" height=\"1\"/>\n",
       "<rect x=\"2\" y=\"8\" width=\"1\" height=\"1\"/>\n",
       "</g>\n",
       "</symbol>\n",
       "<symbol overflow=\"visible\" id=\"glyph0-4\">\n",
       "<g transform=\"matrix(1,0,0,1,1,-9)\">\n",
       "<rect x=\"1\" y=\"0\" width=\"1\" height=\"1\"/>\n",
       "<rect x=\"2\" y=\"0\" width=\"1\" height=\"1\"/>\n",
       "<rect x=\"3\" y=\"0\" width=\"1\" height=\"1\"/>\n",
       "<rect x=\"0\" y=\"1\" width=\"1\" height=\"1\"/>\n",
       "<rect x=\"4\" y=\"1\" width=\"1\" height=\"1\"/>\n",
       "<rect x=\"0\" y=\"2\" width=\"1\" height=\"1\"/>\n",
       "<rect x=\"4\" y=\"2\" width=\"1\" height=\"1\"/>\n",
       "<rect x=\"0\" y=\"3\" width=\"1\" height=\"1\"/>\n",
       "<rect x=\"4\" y=\"3\" width=\"1\" height=\"1\"/>\n",
       "<rect x=\"0\" y=\"4\" width=\"1\" height=\"1\"/>\n",
       "<rect x=\"4\" y=\"4\" width=\"1\" height=\"1\"/>\n",
       "<rect x=\"0\" y=\"5\" width=\"1\" height=\"1\"/>\n",
       "<rect x=\"4\" y=\"5\" width=\"1\" height=\"1\"/>\n",
       "<rect x=\"0\" y=\"6\" width=\"1\" height=\"1\"/>\n",
       "<rect x=\"4\" y=\"6\" width=\"1\" height=\"1\"/>\n",
       "<rect x=\"0\" y=\"7\" width=\"1\" height=\"1\"/>\n",
       "<rect x=\"4\" y=\"7\" width=\"1\" height=\"1\"/>\n",
       "<rect x=\"1\" y=\"8\" width=\"1\" height=\"1\"/>\n",
       "<rect x=\"2\" y=\"8\" width=\"1\" height=\"1\"/>\n",
       "<rect x=\"3\" y=\"8\" width=\"1\" height=\"1\"/>\n",
       "</g>\n",
       "</symbol>\n",
       "<symbol overflow=\"visible\" id=\"glyph0-5\">\n",
       "<g transform=\"matrix(1,0,0,1,0,-7)\">\n",
       "<rect x=\"0\" y=\"0\" width=\"1\" height=\"1\"/>\n",
       "<rect x=\"5\" y=\"0\" width=\"1\" height=\"1\"/>\n",
       "<rect x=\"1\" y=\"1\" width=\"1\" height=\"1\"/>\n",
       "<rect x=\"4\" y=\"1\" width=\"1\" height=\"1\"/>\n",
       "<rect x=\"2\" y=\"2\" width=\"1\" height=\"1\"/>\n",
       "<rect x=\"3\" y=\"2\" width=\"1\" height=\"1\"/>\n",
       "<rect x=\"2\" y=\"3\" width=\"1\" height=\"1\"/>\n",
       "<rect x=\"3\" y=\"3\" width=\"1\" height=\"1\"/>\n",
       "<rect x=\"1\" y=\"4\" width=\"1\" height=\"1\"/>\n",
       "<rect x=\"4\" y=\"4\" width=\"1\" height=\"1\"/>\n",
       "<rect x=\"0\" y=\"5\" width=\"1\" height=\"1\"/>\n",
       "<rect x=\"5\" y=\"5\" width=\"1\" height=\"1\"/>\n",
       "<rect x=\"0\" y=\"6\" width=\"1\" height=\"1\"/>\n",
       "<rect x=\"5\" y=\"6\" width=\"1\" height=\"1\"/>\n",
       "</g>\n",
       "</symbol>\n",
       "<symbol overflow=\"visible\" id=\"glyph1-0\">\n",
       "<g transform=\"matrix(1,0,0,1,-9,-8)\">\n",
       "<rect x=\"0\" y=\"0\" width=\"1\" height=\"1\"/>\n",
       "<rect x=\"2\" y=\"0\" width=\"1\" height=\"1\"/>\n",
       "<rect x=\"4\" y=\"0\" width=\"1\" height=\"1\"/>\n",
       "<rect x=\"6\" y=\"0\" width=\"1\" height=\"1\"/>\n",
       "<rect x=\"8\" y=\"0\" width=\"1\" height=\"1\"/>\n",
       "<rect x=\"0\" y=\"2\" width=\"1\" height=\"1\"/>\n",
       "<rect x=\"8\" y=\"2\" width=\"1\" height=\"1\"/>\n",
       "<rect x=\"0\" y=\"4\" width=\"1\" height=\"1\"/>\n",
       "<rect x=\"8\" y=\"4\" width=\"1\" height=\"1\"/>\n",
       "<rect x=\"0\" y=\"6\" width=\"1\" height=\"1\"/>\n",
       "<rect x=\"2\" y=\"6\" width=\"1\" height=\"1\"/>\n",
       "<rect x=\"4\" y=\"6\" width=\"1\" height=\"1\"/>\n",
       "<rect x=\"6\" y=\"6\" width=\"1\" height=\"1\"/>\n",
       "<rect x=\"8\" y=\"6\" width=\"1\" height=\"1\"/>\n",
       "</g>\n",
       "</symbol>\n",
       "<symbol overflow=\"visible\" id=\"glyph1-1\">\n",
       "<g transform=\"matrix(1,0,0,1,-9,-6)\">\n",
       "<rect x=\"1\" y=\"0\" width=\"1\" height=\"1\"/>\n",
       "<rect x=\"2\" y=\"0\" width=\"1\" height=\"1\"/>\n",
       "<rect x=\"3\" y=\"0\" width=\"1\" height=\"1\"/>\n",
       "<rect x=\"4\" y=\"0\" width=\"1\" height=\"1\"/>\n",
       "<rect x=\"5\" y=\"0\" width=\"1\" height=\"1\"/>\n",
       "<rect x=\"6\" y=\"0\" width=\"1\" height=\"1\"/>\n",
       "<rect x=\"7\" y=\"0\" width=\"1\" height=\"1\"/>\n",
       "<rect x=\"0\" y=\"1\" width=\"1\" height=\"1\"/>\n",
       "<rect x=\"8\" y=\"1\" width=\"1\" height=\"1\"/>\n",
       "<rect x=\"0\" y=\"2\" width=\"1\" height=\"1\"/>\n",
       "<rect x=\"8\" y=\"2\" width=\"1\" height=\"1\"/>\n",
       "<rect x=\"0\" y=\"3\" width=\"1\" height=\"1\"/>\n",
       "<rect x=\"8\" y=\"3\" width=\"1\" height=\"1\"/>\n",
       "<rect x=\"1\" y=\"4\" width=\"1\" height=\"1\"/>\n",
       "<rect x=\"2\" y=\"4\" width=\"1\" height=\"1\"/>\n",
       "<rect x=\"3\" y=\"4\" width=\"1\" height=\"1\"/>\n",
       "<rect x=\"4\" y=\"4\" width=\"1\" height=\"1\"/>\n",
       "<rect x=\"5\" y=\"4\" width=\"1\" height=\"1\"/>\n",
       "<rect x=\"6\" y=\"4\" width=\"1\" height=\"1\"/>\n",
       "<rect x=\"7\" y=\"4\" width=\"1\" height=\"1\"/>\n",
       "</g>\n",
       "</symbol>\n",
       "<symbol overflow=\"visible\" id=\"glyph1-2\">\n",
       "<g transform=\"matrix(1,0,0,1,-9,-4)\">\n",
       "<rect x=\"0\" y=\"0\" width=\"1\" height=\"1\"/>\n",
       "<rect x=\"1\" y=\"0\" width=\"1\" height=\"1\"/>\n",
       "<rect x=\"2\" y=\"0\" width=\"1\" height=\"1\"/>\n",
       "<rect x=\"3\" y=\"0\" width=\"1\" height=\"1\"/>\n",
       "<rect x=\"4\" y=\"0\" width=\"1\" height=\"1\"/>\n",
       "<rect x=\"5\" y=\"0\" width=\"1\" height=\"1\"/>\n",
       "<rect x=\"6\" y=\"0\" width=\"1\" height=\"1\"/>\n",
       "<rect x=\"7\" y=\"0\" width=\"1\" height=\"1\"/>\n",
       "<rect x=\"8\" y=\"0\" width=\"1\" height=\"1\"/>\n",
       "<rect x=\"1\" y=\"1\" width=\"1\" height=\"1\"/>\n",
       "<rect x=\"1\" y=\"2\" width=\"1\" height=\"1\"/>\n",
       "</g>\n",
       "</symbol>\n",
       "<symbol overflow=\"visible\" id=\"glyph1-3\">\n",
       "<g transform=\"matrix(1,0,0,1,-9,-6)\">\n",
       "<rect x=\"1\" y=\"0\" width=\"1\" height=\"1\"/>\n",
       "<rect x=\"2\" y=\"0\" width=\"1\" height=\"1\"/>\n",
       "<rect x=\"8\" y=\"0\" width=\"1\" height=\"1\"/>\n",
       "<rect x=\"0\" y=\"1\" width=\"1\" height=\"1\"/>\n",
       "<rect x=\"3\" y=\"1\" width=\"1\" height=\"1\"/>\n",
       "<rect x=\"8\" y=\"1\" width=\"1\" height=\"1\"/>\n",
       "<rect x=\"0\" y=\"2\" width=\"1\" height=\"1\"/>\n",
       "<rect x=\"4\" y=\"2\" width=\"1\" height=\"1\"/>\n",
       "<rect x=\"8\" y=\"2\" width=\"1\" height=\"1\"/>\n",
       "<rect x=\"0\" y=\"3\" width=\"1\" height=\"1\"/>\n",
       "<rect x=\"5\" y=\"3\" width=\"1\" height=\"1\"/>\n",
       "<rect x=\"8\" y=\"3\" width=\"1\" height=\"1\"/>\n",
       "<rect x=\"1\" y=\"4\" width=\"1\" height=\"1\"/>\n",
       "<rect x=\"6\" y=\"4\" width=\"1\" height=\"1\"/>\n",
       "<rect x=\"7\" y=\"4\" width=\"1\" height=\"1\"/>\n",
       "<rect x=\"8\" y=\"4\" width=\"1\" height=\"1\"/>\n",
       "</g>\n",
       "</symbol>\n",
       "<symbol overflow=\"visible\" id=\"glyph1-4\">\n",
       "<g transform=\"matrix(1,0,0,1,-9,-6)\">\n",
       "<rect x=\"1\" y=\"0\" width=\"1\" height=\"1\"/>\n",
       "<rect x=\"2\" y=\"0\" width=\"1\" height=\"1\"/>\n",
       "<rect x=\"4\" y=\"0\" width=\"1\" height=\"1\"/>\n",
       "<rect x=\"5\" y=\"0\" width=\"1\" height=\"1\"/>\n",
       "<rect x=\"6\" y=\"0\" width=\"1\" height=\"1\"/>\n",
       "<rect x=\"7\" y=\"0\" width=\"1\" height=\"1\"/>\n",
       "<rect x=\"0\" y=\"1\" width=\"1\" height=\"1\"/>\n",
       "<rect x=\"3\" y=\"1\" width=\"1\" height=\"1\"/>\n",
       "<rect x=\"8\" y=\"1\" width=\"1\" height=\"1\"/>\n",
       "<rect x=\"0\" y=\"2\" width=\"1\" height=\"1\"/>\n",
       "<rect x=\"3\" y=\"2\" width=\"1\" height=\"1\"/>\n",
       "<rect x=\"8\" y=\"2\" width=\"1\" height=\"1\"/>\n",
       "<rect x=\"0\" y=\"3\" width=\"1\" height=\"1\"/>\n",
       "<rect x=\"8\" y=\"3\" width=\"1\" height=\"1\"/>\n",
       "<rect x=\"1\" y=\"4\" width=\"1\" height=\"1\"/>\n",
       "<rect x=\"6\" y=\"4\" width=\"1\" height=\"1\"/>\n",
       "<rect x=\"7\" y=\"4\" width=\"1\" height=\"1\"/>\n",
       "</g>\n",
       "</symbol>\n",
       "<symbol overflow=\"visible\" id=\"glyph1-5\">\n",
       "<g transform=\"matrix(1,0,0,1,-9,-7)\">\n",
       "<rect x=\"6\" y=\"1\" width=\"1\" height=\"1\"/>\n",
       "<rect x=\"0\" y=\"2\" width=\"1\" height=\"1\"/>\n",
       "<rect x=\"1\" y=\"2\" width=\"1\" height=\"1\"/>\n",
       "<rect x=\"2\" y=\"2\" width=\"1\" height=\"1\"/>\n",
       "<rect x=\"3\" y=\"2\" width=\"1\" height=\"1\"/>\n",
       "<rect x=\"4\" y=\"2\" width=\"1\" height=\"1\"/>\n",
       "<rect x=\"5\" y=\"2\" width=\"1\" height=\"1\"/>\n",
       "<rect x=\"6\" y=\"2\" width=\"1\" height=\"1\"/>\n",
       "<rect x=\"7\" y=\"2\" width=\"1\" height=\"1\"/>\n",
       "<rect x=\"8\" y=\"2\" width=\"1\" height=\"1\"/>\n",
       "<rect x=\"1\" y=\"3\" width=\"1\" height=\"1\"/>\n",
       "<rect x=\"6\" y=\"3\" width=\"1\" height=\"1\"/>\n",
       "<rect x=\"2\" y=\"4\" width=\"1\" height=\"1\"/>\n",
       "<rect x=\"3\" y=\"4\" width=\"1\" height=\"1\"/>\n",
       "<rect x=\"6\" y=\"4\" width=\"1\" height=\"1\"/>\n",
       "<rect x=\"4\" y=\"5\" width=\"1\" height=\"1\"/>\n",
       "<rect x=\"6\" y=\"5\" width=\"1\" height=\"1\"/>\n",
       "<rect x=\"5\" y=\"6\" width=\"1\" height=\"1\"/>\n",
       "<rect x=\"6\" y=\"6\" width=\"1\" height=\"1\"/>\n",
       "</g>\n",
       "</symbol>\n",
       "<symbol overflow=\"visible\" id=\"glyph1-6\">\n",
       "<g transform=\"matrix(1,0,0,1,-9,-6)\">\n",
       "<rect x=\"0\" y=\"0\" width=\"1\" height=\"1\"/>\n",
       "<rect x=\"4\" y=\"0\" width=\"1\" height=\"1\"/>\n",
       "<rect x=\"5\" y=\"0\" width=\"1\" height=\"1\"/>\n",
       "<rect x=\"6\" y=\"0\" width=\"1\" height=\"1\"/>\n",
       "<rect x=\"7\" y=\"0\" width=\"1\" height=\"1\"/>\n",
       "<rect x=\"0\" y=\"1\" width=\"1\" height=\"1\"/>\n",
       "<rect x=\"3\" y=\"1\" width=\"1\" height=\"1\"/>\n",
       "<rect x=\"8\" y=\"1\" width=\"1\" height=\"1\"/>\n",
       "<rect x=\"0\" y=\"2\" width=\"1\" height=\"1\"/>\n",
       "<rect x=\"3\" y=\"2\" width=\"1\" height=\"1\"/>\n",
       "<rect x=\"8\" y=\"2\" width=\"1\" height=\"1\"/>\n",
       "<rect x=\"0\" y=\"3\" width=\"1\" height=\"1\"/>\n",
       "<rect x=\"3\" y=\"3\" width=\"1\" height=\"1\"/>\n",
       "<rect x=\"8\" y=\"3\" width=\"1\" height=\"1\"/>\n",
       "<rect x=\"0\" y=\"4\" width=\"1\" height=\"1\"/>\n",
       "<rect x=\"1\" y=\"4\" width=\"1\" height=\"1\"/>\n",
       "<rect x=\"2\" y=\"4\" width=\"1\" height=\"1\"/>\n",
       "<rect x=\"3\" y=\"4\" width=\"1\" height=\"1\"/>\n",
       "<rect x=\"6\" y=\"4\" width=\"1\" height=\"1\"/>\n",
       "<rect x=\"7\" y=\"4\" width=\"1\" height=\"1\"/>\n",
       "</g>\n",
       "</symbol>\n",
       "<symbol overflow=\"visible\" id=\"glyph1-7\">\n",
       "<g transform=\"matrix(1,0,0,1,-9,-6)\">\n",
       "<rect x=\"1\" y=\"0\" width=\"1\" height=\"1\"/>\n",
       "<rect x=\"4\" y=\"0\" width=\"1\" height=\"1\"/>\n",
       "<rect x=\"5\" y=\"0\" width=\"1\" height=\"1\"/>\n",
       "<rect x=\"6\" y=\"0\" width=\"1\" height=\"1\"/>\n",
       "<rect x=\"7\" y=\"0\" width=\"1\" height=\"1\"/>\n",
       "<rect x=\"0\" y=\"1\" width=\"1\" height=\"1\"/>\n",
       "<rect x=\"3\" y=\"1\" width=\"1\" height=\"1\"/>\n",
       "<rect x=\"8\" y=\"1\" width=\"1\" height=\"1\"/>\n",
       "<rect x=\"0\" y=\"2\" width=\"1\" height=\"1\"/>\n",
       "<rect x=\"3\" y=\"2\" width=\"1\" height=\"1\"/>\n",
       "<rect x=\"8\" y=\"2\" width=\"1\" height=\"1\"/>\n",
       "<rect x=\"0\" y=\"3\" width=\"1\" height=\"1\"/>\n",
       "<rect x=\"4\" y=\"3\" width=\"1\" height=\"1\"/>\n",
       "<rect x=\"8\" y=\"3\" width=\"1\" height=\"1\"/>\n",
       "<rect x=\"1\" y=\"4\" width=\"1\" height=\"1\"/>\n",
       "<rect x=\"2\" y=\"4\" width=\"1\" height=\"1\"/>\n",
       "<rect x=\"3\" y=\"4\" width=\"1\" height=\"1\"/>\n",
       "<rect x=\"4\" y=\"4\" width=\"1\" height=\"1\"/>\n",
       "<rect x=\"5\" y=\"4\" width=\"1\" height=\"1\"/>\n",
       "<rect x=\"6\" y=\"4\" width=\"1\" height=\"1\"/>\n",
       "<rect x=\"7\" y=\"4\" width=\"1\" height=\"1\"/>\n",
       "</g>\n",
       "</symbol>\n",
       "<symbol overflow=\"visible\" id=\"glyph1-8\">\n",
       "<g transform=\"matrix(1,0,0,1,-7,-6)\">\n",
       "<rect x=\"0\" y=\"0\" width=\"1\" height=\"1\"/>\n",
       "<rect x=\"1\" y=\"0\" width=\"1\" height=\"1\"/>\n",
       "<rect x=\"2\" y=\"0\" width=\"1\" height=\"1\"/>\n",
       "<rect x=\"3\" y=\"1\" width=\"1\" height=\"1\"/>\n",
       "<rect x=\"4\" y=\"1\" width=\"1\" height=\"1\"/>\n",
       "<rect x=\"5\" y=\"1\" width=\"1\" height=\"1\"/>\n",
       "<rect x=\"6\" y=\"2\" width=\"1\" height=\"1\"/>\n",
       "<rect x=\"7\" y=\"2\" width=\"1\" height=\"1\"/>\n",
       "<rect x=\"4\" y=\"3\" width=\"1\" height=\"1\"/>\n",
       "<rect x=\"5\" y=\"3\" width=\"1\" height=\"1\"/>\n",
       "<rect x=\"8\" y=\"3\" width=\"1\" height=\"1\"/>\n",
       "<rect x=\"0\" y=\"4\" width=\"1\" height=\"1\"/>\n",
       "<rect x=\"1\" y=\"4\" width=\"1\" height=\"1\"/>\n",
       "<rect x=\"2\" y=\"4\" width=\"1\" height=\"1\"/>\n",
       "<rect x=\"3\" y=\"4\" width=\"1\" height=\"1\"/>\n",
       "<rect x=\"9\" y=\"4\" width=\"1\" height=\"1\"/>\n",
       "</g>\n",
       "</symbol>\n",
       "</g>\n",
       "</defs>\n",
       "<g id=\"surface57\">\n",
       "<rect x=\"0\" y=\"0\" width=\"504\" height=\"504\" style=\"fill:rgb(100%,100%,100%);fill-opacity:1;stroke:none;\"/>\n",
       "<path style=\"fill:none;stroke-width:0.75;stroke-linecap:round;stroke-linejoin:round;stroke:rgb(0%,0%,0%);stroke-opacity:1;stroke-miterlimit:10;\" d=\"M 209.214844 359.464844 C 209.214844 363.066406 203.816406 363.066406 203.816406 359.464844 C 203.816406 355.867188 209.214844 355.867188 209.214844 359.464844 \"/>\n",
       "<path style=\"fill:none;stroke-width:0.75;stroke-linecap:round;stroke-linejoin:round;stroke:rgb(0%,0%,0%);stroke-opacity:1;stroke-miterlimit:10;\" d=\"M 276.601562 359.464844 C 276.601562 363.066406 271.203125 363.066406 271.203125 359.464844 C 271.203125 355.867188 276.601562 355.867188 276.601562 359.464844 \"/>\n",
       "<path style=\"fill:none;stroke-width:0.75;stroke-linecap:round;stroke-linejoin:round;stroke:rgb(0%,0%,0%);stroke-opacity:1;stroke-miterlimit:10;\" d=\"M 191.816406 359.464844 C 191.816406 363.066406 186.414062 363.066406 186.414062 359.464844 C 186.414062 355.867188 191.816406 355.867188 191.816406 359.464844 \"/>\n",
       "<path style=\"fill:none;stroke-width:0.75;stroke-linecap:round;stroke-linejoin:round;stroke:rgb(0%,0%,0%);stroke-opacity:1;stroke-miterlimit:10;\" d=\"M 394.027344 302.132812 C 394.027344 305.734375 388.625 305.734375 388.625 302.132812 C 388.625 298.535156 394.027344 298.535156 394.027344 302.132812 \"/>\n",
       "<path style=\"fill:none;stroke-width:0.75;stroke-linecap:round;stroke-linejoin:round;stroke:rgb(0%,0%,0%);stroke-opacity:1;stroke-miterlimit:10;\" d=\"M 288.734375 359.464844 C 288.734375 363.066406 283.335938 363.066406 283.335938 359.464844 C 283.335938 355.867188 288.734375 355.867188 288.734375 359.464844 \"/>\n",
       "<path style=\"fill:none;stroke-width:0.75;stroke-linecap:round;stroke-linejoin:round;stroke:rgb(0%,0%,0%);stroke-opacity:1;stroke-miterlimit:10;\" d=\"M 193.078125 359.464844 C 193.078125 363.066406 187.675781 363.066406 187.675781 359.464844 C 187.675781 355.867188 193.078125 355.867188 193.078125 359.464844 \"/>\n",
       "<path style=\"fill:none;stroke-width:0.75;stroke-linecap:round;stroke-linejoin:round;stroke:rgb(0%,0%,0%);stroke-opacity:1;stroke-miterlimit:10;\" d=\"M 301.871094 302.132812 C 301.871094 305.734375 296.472656 305.734375 296.472656 302.132812 C 296.472656 298.535156 301.871094 298.535156 301.871094 302.132812 \"/>\n",
       "<path style=\"fill:none;stroke-width:0.75;stroke-linecap:round;stroke-linejoin:round;stroke:rgb(0%,0%,0%);stroke-opacity:1;stroke-miterlimit:10;\" d=\"M 322.742188 359.464844 C 322.742188 363.066406 317.34375 363.066406 317.34375 359.464844 C 317.34375 355.867188 322.742188 355.867188 322.742188 359.464844 \"/>\n",
       "<path style=\"fill:none;stroke-width:0.75;stroke-linecap:round;stroke-linejoin:round;stroke:rgb(0%,0%,0%);stroke-opacity:1;stroke-miterlimit:10;\" d=\"M 309.222656 359.464844 C 309.222656 363.066406 303.820312 363.066406 303.820312 359.464844 C 303.820312 355.867188 309.222656 355.867188 309.222656 359.464844 \"/>\n",
       "<path style=\"fill:none;stroke-width:0.75;stroke-linecap:round;stroke-linejoin:round;stroke:rgb(0%,0%,0%);stroke-opacity:1;stroke-miterlimit:10;\" d=\"M 235.921875 302.132812 C 235.921875 305.734375 230.523438 305.734375 230.523438 302.132812 C 230.523438 298.535156 235.921875 298.535156 235.921875 302.132812 \"/>\n",
       "<path style=\"fill:none;stroke-width:0.75;stroke-linecap:round;stroke-linejoin:round;stroke:rgb(0%,0%,0%);stroke-opacity:1;stroke-miterlimit:10;\" d=\"M 387.082031 72.800781 C 387.082031 76.398438 381.679688 76.398438 381.679688 72.800781 C 381.679688 69.199219 387.082031 69.199219 387.082031 72.800781 \"/>\n",
       "<path style=\"fill:none;stroke-width:0.75;stroke-linecap:round;stroke-linejoin:round;stroke:rgb(0%,0%,0%);stroke-opacity:1;stroke-miterlimit:10;\" d=\"M 293.753906 416.800781 C 293.753906 420.398438 288.355469 420.398438 288.355469 416.800781 C 288.355469 413.199219 293.753906 413.199219 293.753906 416.800781 \"/>\n",
       "<path style=\"fill:none;stroke-width:0.75;stroke-linecap:round;stroke-linejoin:round;stroke:rgb(0%,0%,0%);stroke-opacity:1;stroke-miterlimit:10;\" d=\"M 209.648438 302.132812 C 209.648438 305.734375 204.25 305.734375 204.25 302.132812 C 204.25 298.535156 209.648438 298.535156 209.648438 302.132812 \"/>\n",
       "<path style=\"fill:none;stroke-width:0.75;stroke-linecap:round;stroke-linejoin:round;stroke:rgb(0%,0%,0%);stroke-opacity:1;stroke-miterlimit:10;\" d=\"M 77.101562 244.800781 C 77.101562 248.398438 71.699219 248.398438 71.699219 244.800781 C 71.699219 241.199219 77.101562 241.199219 77.101562 244.800781 \"/>\n",
       "<path style=\"fill:none;stroke-width:0.75;stroke-linecap:round;stroke-linejoin:round;stroke:rgb(0%,0%,0%);stroke-opacity:1;stroke-miterlimit:10;\" d=\"M 354.902344 187.464844 C 354.902344 191.066406 349.5 191.066406 349.5 187.464844 C 349.5 183.867188 354.902344 183.867188 354.902344 187.464844 \"/>\n",
       "<path style=\"fill:none;stroke-width:0.75;stroke-linecap:round;stroke-linejoin:round;stroke:rgb(0%,0%,0%);stroke-opacity:1;stroke-miterlimit:10;\" d=\"M 257.589844 359.464844 C 257.589844 363.066406 252.1875 363.066406 252.1875 359.464844 C 252.1875 355.867188 257.589844 355.867188 257.589844 359.464844 \"/>\n",
       "<path style=\"fill:none;stroke-width:0.75;stroke-linecap:round;stroke-linejoin:round;stroke:rgb(0%,0%,0%);stroke-opacity:1;stroke-miterlimit:10;\" d=\"M 259.980469 302.132812 C 259.980469 305.734375 254.578125 305.734375 254.578125 302.132812 C 254.578125 298.535156 259.980469 298.535156 259.980469 302.132812 \"/>\n",
       "<path style=\"fill:none;stroke-width:0.75;stroke-linecap:round;stroke-linejoin:round;stroke:rgb(0%,0%,0%);stroke-opacity:1;stroke-miterlimit:10;\" d=\"M 339.835938 130.132812 C 339.835938 133.734375 334.4375 133.734375 334.4375 130.132812 C 334.4375 126.535156 339.835938 126.535156 339.835938 130.132812 \"/>\n",
       "<path style=\"fill:none;stroke-width:0.75;stroke-linecap:round;stroke-linejoin:round;stroke:rgb(0%,0%,0%);stroke-opacity:1;stroke-miterlimit:10;\" d=\"M 329.636719 130.132812 C 329.636719 133.734375 324.238281 133.734375 324.238281 130.132812 C 324.238281 126.535156 329.636719 126.535156 329.636719 130.132812 \"/>\n",
       "<path style=\"fill:none;stroke-width:0.75;stroke-linecap:round;stroke-linejoin:round;stroke:rgb(0%,0%,0%);stroke-opacity:1;stroke-miterlimit:10;\" d=\"M 310.726562 359.464844 C 310.726562 363.066406 305.328125 363.066406 305.328125 359.464844 C 305.328125 355.867188 310.726562 355.867188 310.726562 359.464844 \"/>\n",
       "<path style=\"fill:none;stroke-width:0.75;stroke-linecap:round;stroke-linejoin:round;stroke:rgb(0%,0%,0%);stroke-opacity:1;stroke-miterlimit:10;\" d=\"M 337.769531 359.464844 C 337.769531 363.066406 332.371094 363.066406 332.371094 359.464844 C 332.371094 355.867188 337.769531 355.867188 337.769531 359.464844 \"/>\n",
       "<path style=\"fill:none;stroke-width:0.75;stroke-linecap:round;stroke-linejoin:round;stroke:rgb(0%,0%,0%);stroke-opacity:1;stroke-miterlimit:10;\" d=\"M 326.386719 359.464844 C 326.386719 363.066406 320.988281 363.066406 320.988281 359.464844 C 320.988281 355.867188 326.386719 355.867188 326.386719 359.464844 \"/>\n",
       "<path style=\"fill:none;stroke-width:0.75;stroke-linecap:round;stroke-linejoin:round;stroke:rgb(0%,0%,0%);stroke-opacity:1;stroke-miterlimit:10;\" d=\"M 267.527344 359.464844 C 267.527344 363.066406 262.128906 363.066406 262.128906 359.464844 C 262.128906 355.867188 267.527344 355.867188 267.527344 359.464844 \"/>\n",
       "<path style=\"fill:none;stroke-width:0.75;stroke-linecap:round;stroke-linejoin:round;stroke:rgb(0%,0%,0%);stroke-opacity:1;stroke-miterlimit:10;\" d=\"M 95.84375 359.464844 C 95.84375 363.066406 90.445312 363.066406 90.445312 359.464844 C 90.445312 355.867188 95.84375 355.867188 95.84375 359.464844 \"/>\n",
       "<path style=\"fill:none;stroke-width:0.75;stroke-linecap:round;stroke-linejoin:round;stroke:rgb(0%,0%,0%);stroke-opacity:1;stroke-miterlimit:10;\" d=\"M 312.886719 187.464844 C 312.886719 191.066406 307.484375 191.066406 307.484375 187.464844 C 307.484375 183.867188 312.886719 183.867188 312.886719 187.464844 \"/>\n",
       "<path style=\"fill:none;stroke-width:0.75;stroke-linecap:round;stroke-linejoin:round;stroke:rgb(0%,0%,0%);stroke-opacity:1;stroke-miterlimit:10;\" d=\"M 256.65625 359.464844 C 256.65625 363.066406 251.257812 363.066406 251.257812 359.464844 C 251.257812 355.867188 256.65625 355.867188 256.65625 359.464844 \"/>\n",
       "<path style=\"fill:none;stroke-width:0.75;stroke-linecap:round;stroke-linejoin:round;stroke:rgb(0%,0%,0%);stroke-opacity:1;stroke-miterlimit:10;\" d=\"M 248.367188 359.464844 C 248.367188 363.066406 242.964844 363.066406 242.964844 359.464844 C 242.964844 355.867188 248.367188 355.867188 248.367188 359.464844 \"/>\n",
       "<path style=\"fill:none;stroke-width:0.75;stroke-linecap:round;stroke-linejoin:round;stroke:rgb(0%,0%,0%);stroke-opacity:1;stroke-miterlimit:10;\" d=\"M 138.984375 416.800781 C 138.984375 420.398438 133.582031 420.398438 133.582031 416.800781 C 133.582031 413.199219 138.984375 413.199219 138.984375 416.800781 \"/>\n",
       "<path style=\"fill:none;stroke-width:0.75;stroke-linecap:round;stroke-linejoin:round;stroke:rgb(0%,0%,0%);stroke-opacity:1;stroke-miterlimit:10;\" d=\"M 221.550781 359.464844 C 221.550781 363.066406 216.152344 363.066406 216.152344 359.464844 C 216.152344 355.867188 221.550781 355.867188 221.550781 359.464844 \"/>\n",
       "<path style=\"fill:none;stroke-width:0.75;stroke-linecap:round;stroke-linejoin:round;stroke:rgb(0%,0%,0%);stroke-opacity:1;stroke-miterlimit:10;\" d=\"M 296.089844 244.800781 C 296.089844 248.398438 290.691406 248.398438 290.691406 244.800781 C 290.691406 241.199219 296.089844 241.199219 296.089844 244.800781 \"/>\n",
       "<path style=\"fill:none;stroke-width:0.75;stroke-linecap:round;stroke-linejoin:round;stroke:rgb(0%,0%,0%);stroke-opacity:1;stroke-miterlimit:10;\" d=\"M 374.34375 302.132812 C 374.34375 305.734375 368.945312 305.734375 368.945312 302.132812 C 368.945312 298.535156 374.34375 298.535156 374.34375 302.132812 \"/>\n",
       "<path style=\"fill:none;stroke-width:0.75;stroke-linecap:round;stroke-linejoin:round;stroke:rgb(0%,0%,0%);stroke-opacity:1;stroke-miterlimit:10;\" d=\"M 252.777344 416.800781 C 252.777344 420.398438 247.375 420.398438 247.375 416.800781 C 247.375 413.199219 252.777344 413.199219 252.777344 416.800781 \"/>\n",
       "<path style=\"fill:none;stroke-width:0.75;stroke-linecap:round;stroke-linejoin:round;stroke:rgb(0%,0%,0%);stroke-opacity:1;stroke-miterlimit:10;\" d=\"M 293.574219 359.464844 C 293.574219 363.066406 288.171875 363.066406 288.171875 359.464844 C 288.171875 355.867188 293.574219 355.867188 293.574219 359.464844 \"/>\n",
       "<path style=\"fill:none;stroke-width:0.75;stroke-linecap:round;stroke-linejoin:round;stroke:rgb(0%,0%,0%);stroke-opacity:1;stroke-miterlimit:10;\" d=\"M 256.851562 302.132812 C 256.851562 305.734375 251.449219 305.734375 251.449219 302.132812 C 251.449219 298.535156 256.851562 298.535156 256.851562 302.132812 \"/>\n",
       "<path style=\"fill:none;stroke-width:0.75;stroke-linecap:round;stroke-linejoin:round;stroke:rgb(0%,0%,0%);stroke-opacity:1;stroke-miterlimit:10;\" d=\"M 146.777344 359.464844 C 146.777344 363.066406 141.378906 363.066406 141.378906 359.464844 C 141.378906 355.867188 146.777344 355.867188 146.777344 359.464844 \"/>\n",
       "<path style=\"fill:none;stroke-width:0.75;stroke-linecap:round;stroke-linejoin:round;stroke:rgb(0%,0%,0%);stroke-opacity:1;stroke-miterlimit:10;\" d=\"M 226.804688 302.132812 C 226.804688 305.734375 221.40625 305.734375 221.40625 302.132812 C 221.40625 298.535156 226.804688 298.535156 226.804688 302.132812 \"/>\n",
       "<path style=\"fill:none;stroke-width:0.75;stroke-linecap:round;stroke-linejoin:round;stroke:rgb(0%,0%,0%);stroke-opacity:1;stroke-miterlimit:10;\" d=\"M 228.527344 302.132812 C 228.527344 305.734375 223.128906 305.734375 223.128906 302.132812 C 223.128906 298.535156 228.527344 298.535156 228.527344 302.132812 \"/>\n",
       "<path style=\"fill:none;stroke-width:0.75;stroke-linecap:round;stroke-linejoin:round;stroke:rgb(0%,0%,0%);stroke-opacity:1;stroke-miterlimit:10;\" d=\"M 256.390625 302.132812 C 256.390625 305.734375 250.992188 305.734375 250.992188 302.132812 C 250.992188 298.535156 256.390625 298.535156 256.390625 302.132812 \"/>\n",
       "<path style=\"fill:none;stroke-width:0.75;stroke-linecap:round;stroke-linejoin:round;stroke:rgb(0%,0%,0%);stroke-opacity:1;stroke-miterlimit:10;\" d=\"M 352.828125 302.132812 C 352.828125 305.734375 347.429688 305.734375 347.429688 302.132812 C 347.429688 298.535156 352.828125 298.535156 352.828125 302.132812 \"/>\n",
       "<path style=\"fill:none;stroke-width:0.75;stroke-linecap:round;stroke-linejoin:round;stroke:rgb(0%,0%,0%);stroke-opacity:1;stroke-miterlimit:10;\" d=\"M 324.808594 302.132812 C 324.808594 305.734375 319.410156 305.734375 319.410156 302.132812 C 319.410156 298.535156 324.808594 298.535156 324.808594 302.132812 \"/>\n",
       "<path style=\"fill:none;stroke-width:0.75;stroke-linecap:round;stroke-linejoin:round;stroke:rgb(0%,0%,0%);stroke-opacity:1;stroke-miterlimit:10;\" d=\"M 247.640625 359.464844 C 247.640625 363.066406 242.238281 363.066406 242.238281 359.464844 C 242.238281 355.867188 247.640625 355.867188 247.640625 359.464844 \"/>\n",
       "<path style=\"fill:none;stroke-width:0.75;stroke-linecap:round;stroke-linejoin:round;stroke:rgb(0%,0%,0%);stroke-opacity:1;stroke-miterlimit:10;\" d=\"M 240.25 302.132812 C 240.25 305.734375 234.851562 305.734375 234.851562 302.132812 C 234.851562 298.535156 240.25 298.535156 240.25 302.132812 \"/>\n",
       "<path style=\"fill:none;stroke-width:0.75;stroke-linecap:round;stroke-linejoin:round;stroke:rgb(0%,0%,0%);stroke-opacity:1;stroke-miterlimit:10;\" d=\"M 319.300781 187.464844 C 319.300781 191.066406 313.902344 191.066406 313.902344 187.464844 C 313.902344 183.867188 319.300781 183.867188 319.300781 187.464844 \"/>\n",
       "<path style=\"fill:none;stroke-width:0.75;stroke-linecap:round;stroke-linejoin:round;stroke:rgb(0%,0%,0%);stroke-opacity:1;stroke-miterlimit:10;\" d=\"M 307.628906 359.464844 C 307.628906 363.066406 302.230469 363.066406 302.230469 359.464844 C 302.230469 355.867188 307.628906 355.867188 307.628906 359.464844 \"/>\n",
       "<path style=\"fill:none;stroke-width:0.75;stroke-linecap:round;stroke-linejoin:round;stroke:rgb(0%,0%,0%);stroke-opacity:1;stroke-miterlimit:10;\" d=\"M 204.03125 359.464844 C 204.03125 363.066406 198.632812 363.066406 198.632812 359.464844 C 198.632812 355.867188 204.03125 355.867188 204.03125 359.464844 \"/>\n",
       "<path style=\"fill:none;stroke-width:0.75;stroke-linecap:round;stroke-linejoin:round;stroke:rgb(0%,0%,0%);stroke-opacity:1;stroke-miterlimit:10;\" d=\"M 202.472656 416.800781 C 202.472656 420.398438 197.074219 420.398438 197.074219 416.800781 C 197.074219 413.199219 202.472656 413.199219 202.472656 416.800781 \"/>\n",
       "<path style=\"fill:none;stroke-width:0.75;stroke-linecap:round;stroke-linejoin:round;stroke:rgb(0%,0%,0%);stroke-opacity:1;stroke-miterlimit:10;\" d=\"M 291.652344 359.464844 C 291.652344 363.066406 286.253906 363.066406 286.253906 359.464844 C 286.253906 355.867188 291.652344 355.867188 291.652344 359.464844 \"/>\n",
       "<path style=\"fill:none;stroke-width:0.75;stroke-linecap:round;stroke-linejoin:round;stroke:rgb(0%,0%,0%);stroke-opacity:1;stroke-miterlimit:10;\" d=\"M 325.253906 359.464844 C 325.253906 363.066406 319.855469 363.066406 319.855469 359.464844 C 319.855469 355.867188 325.253906 355.867188 325.253906 359.464844 \"/>\n",
       "<path style=\"fill:none;stroke-width:0.75;stroke-linecap:round;stroke-linejoin:round;stroke:rgb(0%,0%,0%);stroke-opacity:1;stroke-miterlimit:10;\" d=\"M 251.980469 359.464844 C 251.980469 363.066406 246.582031 363.066406 246.582031 359.464844 C 246.582031 355.867188 251.980469 355.867188 251.980469 359.464844 \"/>\n",
       "<path style=\"fill:none;stroke-width:0.75;stroke-linecap:round;stroke-linejoin:round;stroke:rgb(0%,0%,0%);stroke-opacity:1;stroke-miterlimit:10;\" d=\"M 334.617188 130.132812 C 334.617188 133.734375 329.21875 133.734375 329.21875 130.132812 C 329.21875 126.535156 334.617188 126.535156 334.617188 130.132812 \"/>\n",
       "<path style=\"fill:none;stroke-width:0.75;stroke-linecap:round;stroke-linejoin:round;stroke:rgb(0%,0%,0%);stroke-opacity:1;stroke-miterlimit:10;\" d=\"M 294.441406 244.800781 C 294.441406 248.398438 289.042969 248.398438 289.042969 244.800781 C 289.042969 241.199219 294.441406 241.199219 294.441406 244.800781 \"/>\n",
       "<path style=\"fill:none;stroke-width:0.75;stroke-linecap:round;stroke-linejoin:round;stroke:rgb(0%,0%,0%);stroke-opacity:1;stroke-miterlimit:10;\" d=\"M 210.414062 244.800781 C 210.414062 248.398438 205.015625 248.398438 205.015625 244.800781 C 205.015625 241.199219 210.414062 241.199219 210.414062 244.800781 \"/>\n",
       "<path style=\"fill:none;stroke-width:0.75;stroke-linecap:round;stroke-linejoin:round;stroke:rgb(0%,0%,0%);stroke-opacity:1;stroke-miterlimit:10;\" d=\"M 289.703125 302.132812 C 289.703125 305.734375 284.300781 305.734375 284.300781 302.132812 C 284.300781 298.535156 289.703125 298.535156 289.703125 302.132812 \"/>\n",
       "<path style=\"fill:none;stroke-width:0.75;stroke-linecap:round;stroke-linejoin:round;stroke:rgb(0%,0%,0%);stroke-opacity:1;stroke-miterlimit:10;\" d=\"M 167.382812 359.464844 C 167.382812 363.066406 161.980469 363.066406 161.980469 359.464844 C 161.980469 355.867188 167.382812 355.867188 167.382812 359.464844 \"/>\n",
       "<path style=\"fill:none;stroke-width:0.75;stroke-linecap:round;stroke-linejoin:round;stroke:rgb(0%,0%,0%);stroke-opacity:1;stroke-miterlimit:10;\" d=\"M 380.527344 302.132812 C 380.527344 305.734375 375.128906 305.734375 375.128906 302.132812 C 375.128906 298.535156 380.527344 298.535156 380.527344 302.132812 \"/>\n",
       "<path style=\"fill:none;stroke-width:0.75;stroke-linecap:round;stroke-linejoin:round;stroke:rgb(0%,0%,0%);stroke-opacity:1;stroke-miterlimit:10;\" d=\"M 426.0625 359.464844 C 426.0625 363.066406 420.660156 363.066406 420.660156 359.464844 C 420.660156 355.867188 426.0625 355.867188 426.0625 359.464844 \"/>\n",
       "<path style=\"fill:none;stroke-width:0.75;stroke-linecap:round;stroke-linejoin:round;stroke:rgb(0%,0%,0%);stroke-opacity:1;stroke-miterlimit:10;\" d=\"M 230.777344 359.464844 C 230.777344 363.066406 225.378906 363.066406 225.378906 359.464844 C 225.378906 355.867188 230.777344 355.867188 230.777344 359.464844 \"/>\n",
       "<path style=\"fill:none;stroke-width:0.75;stroke-linecap:round;stroke-linejoin:round;stroke:rgb(0%,0%,0%);stroke-opacity:1;stroke-miterlimit:10;\" d=\"M 174.472656 359.464844 C 174.472656 363.066406 169.070312 363.066406 169.070312 359.464844 C 169.070312 355.867188 174.472656 355.867188 174.472656 359.464844 \"/>\n",
       "<path style=\"fill:none;stroke-width:0.75;stroke-linecap:round;stroke-linejoin:round;stroke:rgb(0%,0%,0%);stroke-opacity:1;stroke-miterlimit:10;\" d=\"M 308.71875 359.464844 C 308.71875 363.066406 303.316406 363.066406 303.316406 359.464844 C 303.316406 355.867188 308.71875 355.867188 308.71875 359.464844 \"/>\n",
       "<path style=\"fill:none;stroke-width:0.75;stroke-linecap:round;stroke-linejoin:round;stroke:rgb(0%,0%,0%);stroke-opacity:1;stroke-miterlimit:10;\" d=\"M 250.089844 187.464844 C 250.089844 191.066406 244.691406 191.066406 244.691406 187.464844 C 244.691406 183.867188 250.089844 183.867188 250.089844 187.464844 \"/>\n",
       "<path style=\"fill:none;stroke-width:0.75;stroke-linecap:round;stroke-linejoin:round;stroke:rgb(0%,0%,0%);stroke-opacity:1;stroke-miterlimit:10;\" d=\"M 461.101562 244.800781 C 461.101562 248.398438 455.699219 248.398438 455.699219 244.800781 C 455.699219 241.199219 461.101562 241.199219 461.101562 244.800781 \"/>\n",
       "<path style=\"fill:none;stroke-width:0.75;stroke-linecap:round;stroke-linejoin:round;stroke:rgb(0%,0%,0%);stroke-opacity:1;stroke-miterlimit:10;\" d=\"M 258.0625 359.464844 C 258.0625 363.066406 252.660156 363.066406 252.660156 359.464844 C 252.660156 355.867188 258.0625 355.867188 258.0625 359.464844 \"/>\n",
       "<path style=\"fill:none;stroke-width:0.75;stroke-linecap:round;stroke-linejoin:round;stroke:rgb(0%,0%,0%);stroke-opacity:1;stroke-miterlimit:10;\" d=\"M 318.699219 359.464844 C 318.699219 363.066406 313.300781 363.066406 313.300781 359.464844 C 313.300781 355.867188 318.699219 355.867188 318.699219 359.464844 \"/>\n",
       "<path style=\"fill:none;stroke-width:0.75;stroke-linecap:round;stroke-linejoin:round;stroke:rgb(0%,0%,0%);stroke-opacity:1;stroke-miterlimit:10;\" d=\"M 263.65625 244.800781 C 263.65625 248.398438 258.253906 248.398438 258.253906 244.800781 C 258.253906 241.199219 263.65625 241.199219 263.65625 244.800781 \"/>\n",
       "<path style=\"fill:none;stroke-width:0.75;stroke-linecap:round;stroke-linejoin:round;stroke:rgb(0%,0%,0%);stroke-opacity:1;stroke-miterlimit:10;\" d=\"M 199.496094 302.132812 C 199.496094 305.734375 194.097656 305.734375 194.097656 302.132812 C 194.097656 298.535156 199.496094 298.535156 199.496094 302.132812 \"/>\n",
       "<path style=\"fill:none;stroke-width:0.75;stroke-linecap:round;stroke-linejoin:round;stroke:rgb(0%,0%,0%);stroke-opacity:1;stroke-miterlimit:10;\" d=\"M 277.03125 416.800781 C 277.03125 420.398438 271.628906 420.398438 271.628906 416.800781 C 271.628906 413.199219 277.03125 413.199219 277.03125 416.800781 \"/>\n",
       "<path style=\"fill:none;stroke-width:0.75;stroke-linecap:round;stroke-linejoin:round;stroke:rgb(0%,0%,0%);stroke-opacity:1;stroke-miterlimit:10;\" d=\"M 111.183594 416.800781 C 111.183594 420.398438 105.785156 420.398438 105.785156 416.800781 C 105.785156 413.199219 111.183594 413.199219 111.183594 416.800781 \"/>\n",
       "<path style=\"fill:none;stroke-width:0.75;stroke-linecap:round;stroke-linejoin:round;stroke:rgb(0%,0%,0%);stroke-opacity:1;stroke-miterlimit:10;\" d=\"M 383.234375 187.464844 C 383.234375 191.066406 377.835938 191.066406 377.835938 187.464844 C 377.835938 183.867188 383.234375 183.867188 383.234375 187.464844 \"/>\n",
       "<path style=\"fill:none;stroke-width:0.75;stroke-linecap:round;stroke-linejoin:round;stroke:rgb(0%,0%,0%);stroke-opacity:1;stroke-miterlimit:10;\" d=\"M 274.074219 302.132812 C 274.074219 305.734375 268.675781 305.734375 268.675781 302.132812 C 268.675781 298.535156 274.074219 298.535156 274.074219 302.132812 \"/>\n",
       "<path style=\"fill:none;stroke-width:0.75;stroke-linecap:round;stroke-linejoin:round;stroke:rgb(0%,0%,0%);stroke-opacity:1;stroke-miterlimit:10;\" d=\"M 442.050781 359.464844 C 442.050781 363.066406 436.652344 363.066406 436.652344 359.464844 C 436.652344 355.867188 442.050781 355.867188 442.050781 359.464844 \"/>\n",
       "<path style=\"fill:none;stroke-width:0.75;stroke-linecap:round;stroke-linejoin:round;stroke:rgb(0%,0%,0%);stroke-opacity:1;stroke-miterlimit:10;\" d=\"M 300.878906 416.800781 C 300.878906 420.398438 295.480469 420.398438 295.480469 416.800781 C 295.480469 413.199219 300.878906 413.199219 300.878906 416.800781 \"/>\n",
       "<path style=\"fill:none;stroke-width:0.75;stroke-linecap:round;stroke-linejoin:round;stroke:rgb(0%,0%,0%);stroke-opacity:1;stroke-miterlimit:10;\" d=\"M 202.269531 416.800781 C 202.269531 420.398438 196.871094 420.398438 196.871094 416.800781 C 196.871094 413.199219 202.269531 413.199219 202.269531 416.800781 \"/>\n",
       "<path style=\"fill:none;stroke-width:0.75;stroke-linecap:round;stroke-linejoin:round;stroke:rgb(0%,0%,0%);stroke-opacity:1;stroke-miterlimit:10;\" d=\"M 312.128906 359.464844 C 312.128906 363.066406 306.726562 363.066406 306.726562 359.464844 C 306.726562 355.867188 312.128906 355.867188 312.128906 359.464844 \"/>\n",
       "<path style=\"fill:none;stroke-width:0.75;stroke-linecap:round;stroke-linejoin:round;stroke:rgb(0%,0%,0%);stroke-opacity:1;stroke-miterlimit:10;\" d=\"M 183.625 416.800781 C 183.625 420.398438 178.222656 420.398438 178.222656 416.800781 C 178.222656 413.199219 183.625 413.199219 183.625 416.800781 \"/>\n",
       "<path style=\"fill:none;stroke-width:0.75;stroke-linecap:round;stroke-linejoin:round;stroke:rgb(0%,0%,0%);stroke-opacity:1;stroke-miterlimit:10;\" d=\"M 157.042969 416.800781 C 157.042969 420.398438 151.644531 420.398438 151.644531 416.800781 C 151.644531 413.199219 157.042969 413.199219 157.042969 416.800781 \"/>\n",
       "<path style=\"fill:none;stroke-width:0.75;stroke-linecap:round;stroke-linejoin:round;stroke:rgb(0%,0%,0%);stroke-opacity:1;stroke-miterlimit:10;\" d=\"M 285.570312 359.464844 C 285.570312 363.066406 280.167969 363.066406 280.167969 359.464844 C 280.167969 355.867188 285.570312 355.867188 285.570312 359.464844 \"/>\n",
       "<path style=\"fill:none;stroke-width:0.75;stroke-linecap:round;stroke-linejoin:round;stroke:rgb(0%,0%,0%);stroke-opacity:1;stroke-miterlimit:10;\" d=\"M 224.453125 359.464844 C 224.453125 363.066406 219.050781 363.066406 219.050781 359.464844 C 219.050781 355.867188 224.453125 355.867188 224.453125 359.464844 \"/>\n",
       "<path style=\"fill:none;stroke-width:0.75;stroke-linecap:round;stroke-linejoin:round;stroke:rgb(0%,0%,0%);stroke-opacity:1;stroke-miterlimit:10;\" d=\"M 261.417969 416.800781 C 261.417969 420.398438 256.019531 420.398438 256.019531 416.800781 C 256.019531 413.199219 261.417969 413.199219 261.417969 416.800781 \"/>\n",
       "<path style=\"fill:none;stroke-width:0.75;stroke-linecap:round;stroke-linejoin:round;stroke:rgb(0%,0%,0%);stroke-opacity:1;stroke-miterlimit:10;\" d=\"M 267.507812 359.464844 C 267.507812 363.066406 262.109375 363.066406 262.109375 359.464844 C 262.109375 355.867188 267.507812 355.867188 267.507812 359.464844 \"/>\n",
       "<path style=\"fill:none;stroke-width:0.75;stroke-linecap:round;stroke-linejoin:round;stroke:rgb(0%,0%,0%);stroke-opacity:1;stroke-miterlimit:10;\" d=\"M 212.289062 302.132812 C 212.289062 305.734375 206.886719 305.734375 206.886719 302.132812 C 206.886719 298.535156 212.289062 298.535156 212.289062 302.132812 \"/>\n",
       "<path style=\"fill:none;stroke-width:0.75;stroke-linecap:round;stroke-linejoin:round;stroke:rgb(0%,0%,0%);stroke-opacity:1;stroke-miterlimit:10;\" d=\"M 214.023438 416.800781 C 214.023438 420.398438 208.621094 420.398438 208.621094 416.800781 C 208.621094 413.199219 214.023438 413.199219 214.023438 416.800781 \"/>\n",
       "<path style=\"fill:none;stroke-width:0.75;stroke-linecap:round;stroke-linejoin:round;stroke:rgb(0%,0%,0%);stroke-opacity:1;stroke-miterlimit:10;\" d=\"M 250.082031 359.464844 C 250.082031 363.066406 244.679688 363.066406 244.679688 359.464844 C 244.679688 355.867188 250.082031 355.867188 250.082031 359.464844 \"/>\n",
       "<path style=\"fill:none;stroke-width:0.75;stroke-linecap:round;stroke-linejoin:round;stroke:rgb(0%,0%,0%);stroke-opacity:1;stroke-miterlimit:10;\" d=\"M 359.324219 187.464844 C 359.324219 191.066406 353.921875 191.066406 353.921875 187.464844 C 353.921875 183.867188 359.324219 183.867188 359.324219 187.464844 \"/>\n",
       "<path style=\"fill:none;stroke-width:0.75;stroke-linecap:round;stroke-linejoin:round;stroke:rgb(0%,0%,0%);stroke-opacity:1;stroke-miterlimit:10;\" d=\"M 134.589844 359.464844 C 134.589844 363.066406 129.191406 363.066406 129.191406 359.464844 C 129.191406 355.867188 134.589844 355.867188 134.589844 359.464844 \"/>\n",
       "<path style=\"fill:none;stroke-width:0.75;stroke-linecap:round;stroke-linejoin:round;stroke:rgb(0%,0%,0%);stroke-opacity:1;stroke-miterlimit:10;\" d=\"M 310.730469 416.800781 C 310.730469 420.398438 305.332031 420.398438 305.332031 416.800781 C 305.332031 413.199219 310.730469 413.199219 310.730469 416.800781 \"/>\n",
       "<path style=\"fill:none;stroke-width:0.75;stroke-linecap:round;stroke-linejoin:round;stroke:rgb(0%,0%,0%);stroke-opacity:1;stroke-miterlimit:10;\" d=\"M 289.023438 416.800781 C 289.023438 420.398438 283.621094 420.398438 283.621094 416.800781 C 283.621094 413.199219 289.023438 413.199219 289.023438 416.800781 \"/>\n",
       "<path style=\"fill:none;stroke-width:0.75;stroke-linecap:round;stroke-linejoin:round;stroke:rgb(0%,0%,0%);stroke-opacity:1;stroke-miterlimit:10;\" d=\"M 349.757812 359.464844 C 349.757812 363.066406 344.359375 363.066406 344.359375 359.464844 C 344.359375 355.867188 349.757812 355.867188 349.757812 359.464844 \"/>\n",
       "<path style=\"fill:none;stroke-width:0.75;stroke-linecap:round;stroke-linejoin:round;stroke:rgb(0%,0%,0%);stroke-opacity:1;stroke-miterlimit:10;\" d=\"M 236.023438 416.800781 C 236.023438 420.398438 230.621094 420.398438 230.621094 416.800781 C 230.621094 413.199219 236.023438 413.199219 236.023438 416.800781 \"/>\n",
       "<path style=\"fill:none;stroke-width:0.75;stroke-linecap:round;stroke-linejoin:round;stroke:rgb(0%,0%,0%);stroke-opacity:1;stroke-miterlimit:10;\" d=\"M 292.105469 416.800781 C 292.105469 420.398438 286.707031 420.398438 286.707031 416.800781 C 286.707031 413.199219 292.105469 413.199219 292.105469 416.800781 \"/>\n",
       "<path style=\"fill:none;stroke-width:0.75;stroke-linecap:round;stroke-linejoin:round;stroke:rgb(0%,0%,0%);stroke-opacity:1;stroke-miterlimit:10;\" d=\"M 283.542969 359.464844 C 283.542969 363.066406 278.144531 363.066406 278.144531 359.464844 C 278.144531 355.867188 283.542969 355.867188 283.542969 359.464844 \"/>\n",
       "<path style=\"fill:none;stroke-width:0.75;stroke-linecap:round;stroke-linejoin:round;stroke:rgb(0%,0%,0%);stroke-opacity:1;stroke-miterlimit:10;\" d=\"M 216.195312 416.800781 C 216.195312 420.398438 210.796875 420.398438 210.796875 416.800781 C 210.796875 413.199219 216.195312 413.199219 216.195312 416.800781 \"/>\n",
       "<path style=\"fill:none;stroke-width:0.75;stroke-linecap:round;stroke-linejoin:round;stroke:rgb(0%,0%,0%);stroke-opacity:1;stroke-miterlimit:10;\" d=\"M 361.800781 359.464844 C 361.800781 363.066406 356.398438 363.066406 356.398438 359.464844 C 356.398438 355.867188 361.800781 355.867188 361.800781 359.464844 \"/>\n",
       "<path style=\"fill:none;stroke-width:0.75;stroke-linecap:round;stroke-linejoin:round;stroke:rgb(0%,0%,0%);stroke-opacity:1;stroke-miterlimit:10;\" d=\"M 357.851562 72.800781 C 357.851562 76.398438 352.453125 76.398438 352.453125 72.800781 C 352.453125 69.199219 357.851562 69.199219 357.851562 72.800781 \"/>\n",
       "<path style=\"fill:none;stroke-width:0.75;stroke-linecap:round;stroke-linejoin:round;stroke:rgb(0%,0%,0%);stroke-opacity:1;stroke-miterlimit:10;\" d=\"M 319.570312 359.464844 C 319.570312 363.066406 314.171875 363.066406 314.171875 359.464844 C 314.171875 355.867188 319.570312 355.867188 319.570312 359.464844 \"/>\n",
       "<path style=\"fill:none;stroke-width:0.75;stroke-linecap:round;stroke-linejoin:round;stroke:rgb(0%,0%,0%);stroke-opacity:1;stroke-miterlimit:10;\" d=\"M 393.324219 244.800781 C 393.324219 248.398438 387.921875 248.398438 387.921875 244.800781 C 387.921875 241.199219 393.324219 241.199219 393.324219 244.800781 \"/>\n",
       "<path style=\"fill:none;stroke-width:0.75;stroke-linecap:round;stroke-linejoin:round;stroke:rgb(0%,0%,0%);stroke-opacity:1;stroke-miterlimit:10;\" d=\"M 307.78125 302.132812 C 307.78125 305.734375 302.382812 305.734375 302.382812 302.132812 C 302.382812 298.535156 307.78125 298.535156 307.78125 302.132812 \"/>\n",
       "<path style=\"fill:none;stroke-width:0.75;stroke-linecap:round;stroke-linejoin:round;stroke:rgb(0%,0%,0%);stroke-opacity:1;stroke-miterlimit:10;\" d=\"M 155.136719 416.800781 C 155.136719 420.398438 149.734375 420.398438 149.734375 416.800781 C 149.734375 413.199219 155.136719 413.199219 155.136719 416.800781 \"/>\n",
       "<path style=\"fill:none;stroke-width:0.75;stroke-linecap:round;stroke-linejoin:round;stroke:rgb(0%,0%,0%);stroke-opacity:1;stroke-miterlimit:10;\" d=\"M 213.640625 416.800781 C 213.640625 420.398438 208.238281 420.398438 208.238281 416.800781 C 208.238281 413.199219 213.640625 413.199219 213.640625 416.800781 \"/>\n",
       "<path style=\"fill:none;stroke-width:0.75;stroke-linecap:round;stroke-linejoin:round;stroke:rgb(0%,0%,0%);stroke-opacity:1;stroke-miterlimit:10;\" d=\"M 159.457031 416.800781 C 159.457031 420.398438 154.058594 420.398438 154.058594 416.800781 C 154.058594 413.199219 159.457031 413.199219 159.457031 416.800781 \"/>\n",
       "<path style=\"fill:none;stroke-width:0.75;stroke-linecap:round;stroke-linejoin:round;stroke:rgb(0%,0%,0%);stroke-opacity:1;stroke-miterlimit:10;\" d=\"M 221.945312 244.800781 C 221.945312 248.398438 216.546875 248.398438 216.546875 244.800781 C 216.546875 241.199219 221.945312 241.199219 221.945312 244.800781 \"/>\n",
       "<path style=\"fill:none;stroke-width:0.75;stroke-linecap:round;stroke-linejoin:round;stroke:rgb(0%,0%,0%);stroke-opacity:1;stroke-miterlimit:10;\" d=\"M 92.257812 430.558594 L 424.992188 430.558594 \"/>\n",
       "<path style=\"fill:none;stroke-width:0.75;stroke-linecap:round;stroke-linejoin:round;stroke:rgb(0%,0%,0%);stroke-opacity:1;stroke-miterlimit:10;\" d=\"M 92.257812 430.558594 L 92.257812 437.761719 \"/>\n",
       "<path style=\"fill:none;stroke-width:0.75;stroke-linecap:round;stroke-linejoin:round;stroke:rgb(0%,0%,0%);stroke-opacity:1;stroke-miterlimit:10;\" d=\"M 175.441406 430.558594 L 175.441406 437.761719 \"/>\n",
       "<path style=\"fill:none;stroke-width:0.75;stroke-linecap:round;stroke-linejoin:round;stroke:rgb(0%,0%,0%);stroke-opacity:1;stroke-miterlimit:10;\" d=\"M 258.625 430.558594 L 258.625 437.761719 \"/>\n",
       "<path style=\"fill:none;stroke-width:0.75;stroke-linecap:round;stroke-linejoin:round;stroke:rgb(0%,0%,0%);stroke-opacity:1;stroke-miterlimit:10;\" d=\"M 341.808594 430.558594 L 341.808594 437.761719 \"/>\n",
       "<path style=\"fill:none;stroke-width:0.75;stroke-linecap:round;stroke-linejoin:round;stroke:rgb(0%,0%,0%);stroke-opacity:1;stroke-miterlimit:10;\" d=\"M 424.992188 430.558594 L 424.992188 437.761719 \"/>\n",
       "<g style=\"fill:rgb(0%,0%,0%);fill-opacity:1;\">\n",
       "  <use xlink:href=\"#glyph0-1\" x=\"86.257812\" y=\"456.480469\"/>\n",
       "  <use xlink:href=\"#glyph0-2\" x=\"91.257812\" y=\"456.480469\"/>\n",
       "</g>\n",
       "<g style=\"fill:rgb(0%,0%,0%);fill-opacity:1;\">\n",
       "  <use xlink:href=\"#glyph0-1\" x=\"169.441406\" y=\"456.480469\"/>\n",
       "  <use xlink:href=\"#glyph0-3\" x=\"174.441406\" y=\"456.480469\"/>\n",
       "</g>\n",
       "<g style=\"fill:rgb(0%,0%,0%);fill-opacity:1;\">\n",
       "  <use xlink:href=\"#glyph0-4\" x=\"255.125\" y=\"456.480469\"/>\n",
       "</g>\n",
       "<g style=\"fill:rgb(0%,0%,0%);fill-opacity:1;\">\n",
       "  <use xlink:href=\"#glyph0-3\" x=\"338.308594\" y=\"456.480469\"/>\n",
       "</g>\n",
       "<g style=\"fill:rgb(0%,0%,0%);fill-opacity:1;\">\n",
       "  <use xlink:href=\"#glyph0-2\" x=\"421.492188\" y=\"456.480469\"/>\n",
       "</g>\n",
       "<path style=\"fill:none;stroke-width:0.75;stroke-linecap:round;stroke-linejoin:round;stroke:rgb(0%,0%,0%);stroke-opacity:1;stroke-miterlimit:10;\" d=\"M 59.039062 416.800781 L 59.039062 72.800781 \"/>\n",
       "<path style=\"fill:none;stroke-width:0.75;stroke-linecap:round;stroke-linejoin:round;stroke:rgb(0%,0%,0%);stroke-opacity:1;stroke-miterlimit:10;\" d=\"M 59.039062 416.800781 L 51.839844 416.800781 \"/>\n",
       "<path style=\"fill:none;stroke-width:0.75;stroke-linecap:round;stroke-linejoin:round;stroke:rgb(0%,0%,0%);stroke-opacity:1;stroke-miterlimit:10;\" d=\"M 59.039062 359.464844 L 51.839844 359.464844 \"/>\n",
       "<path style=\"fill:none;stroke-width:0.75;stroke-linecap:round;stroke-linejoin:round;stroke:rgb(0%,0%,0%);stroke-opacity:1;stroke-miterlimit:10;\" d=\"M 59.039062 302.132812 L 51.839844 302.132812 \"/>\n",
       "<path style=\"fill:none;stroke-width:0.75;stroke-linecap:round;stroke-linejoin:round;stroke:rgb(0%,0%,0%);stroke-opacity:1;stroke-miterlimit:10;\" d=\"M 59.039062 244.800781 L 51.839844 244.800781 \"/>\n",
       "<path style=\"fill:none;stroke-width:0.75;stroke-linecap:round;stroke-linejoin:round;stroke:rgb(0%,0%,0%);stroke-opacity:1;stroke-miterlimit:10;\" d=\"M 59.039062 187.464844 L 51.839844 187.464844 \"/>\n",
       "<path style=\"fill:none;stroke-width:0.75;stroke-linecap:round;stroke-linejoin:round;stroke:rgb(0%,0%,0%);stroke-opacity:1;stroke-miterlimit:10;\" d=\"M 59.039062 130.132812 L 51.839844 130.132812 \"/>\n",
       "<path style=\"fill:none;stroke-width:0.75;stroke-linecap:round;stroke-linejoin:round;stroke:rgb(0%,0%,0%);stroke-opacity:1;stroke-miterlimit:10;\" d=\"M 59.039062 72.800781 L 51.839844 72.800781 \"/>\n",
       "<g style=\"fill:rgb(0%,0%,0%);fill-opacity:1;\">\n",
       "  <use xlink:href=\"#glyph1-1\" x=\"41.761719\" y=\"420.300781\"/>\n",
       "</g>\n",
       "<g style=\"fill:rgb(0%,0%,0%);fill-opacity:1;\">\n",
       "  <use xlink:href=\"#glyph1-2\" x=\"41.761719\" y=\"362.964844\"/>\n",
       "</g>\n",
       "<g style=\"fill:rgb(0%,0%,0%);fill-opacity:1;\">\n",
       "  <use xlink:href=\"#glyph1-3\" x=\"41.761719\" y=\"305.632812\"/>\n",
       "</g>\n",
       "<g style=\"fill:rgb(0%,0%,0%);fill-opacity:1;\">\n",
       "  <use xlink:href=\"#glyph1-4\" x=\"41.761719\" y=\"248.300781\"/>\n",
       "</g>\n",
       "<g style=\"fill:rgb(0%,0%,0%);fill-opacity:1;\">\n",
       "  <use xlink:href=\"#glyph1-5\" x=\"41.761719\" y=\"190.964844\"/>\n",
       "</g>\n",
       "<g style=\"fill:rgb(0%,0%,0%);fill-opacity:1;\">\n",
       "  <use xlink:href=\"#glyph1-6\" x=\"41.761719\" y=\"133.632812\"/>\n",
       "</g>\n",
       "<g style=\"fill:rgb(0%,0%,0%);fill-opacity:1;\">\n",
       "  <use xlink:href=\"#glyph1-7\" x=\"41.761719\" y=\"76.300781\"/>\n",
       "</g>\n",
       "<path style=\"fill:none;stroke-width:0.75;stroke-linecap:round;stroke-linejoin:round;stroke:rgb(0%,0%,0%);stroke-opacity:1;stroke-miterlimit:10;\" d=\"M 59.039062 430.558594 L 473.761719 430.558594 L 473.761719 59.039062 L 59.039062 59.039062 L 59.039062 430.558594 \"/>\n",
       "<g style=\"fill:rgb(0%,0%,0%);fill-opacity:1;\">\n",
       "  <use xlink:href=\"#glyph0-5\" x=\"263.398438\" y=\"485.28125\"/>\n",
       "</g>\n",
       "<g style=\"fill:rgb(0%,0%,0%);fill-opacity:1;\">\n",
       "  <use xlink:href=\"#glyph1-8\" x=\"12.960938\" y=\"248.300781\"/>\n",
       "</g>\n",
       "</g>\n",
       "</svg>\n"
      ],
      "text/plain": [
       "plot without title"
      ]
     },
     "metadata": {
      "image/svg+xml": {
       "isolated": true
      }
     },
     "output_type": "display_data"
    }
   ],
   "source": [
    "set.seed(1)\n",
    "x<-rnorm(100)\n",
    "log.mu<-0.5+0.3*x\n",
    "y<-rpois(100,exp(log.mu))\n",
    "summary(y)\n",
    "plot(x,y)"
   ]
  },
  {
   "cell_type": "code",
   "execution_count": 38,
   "metadata": {
    "collapsed": false
   },
   "outputs": [
    {
     "data": {
      "text/html": [
       "<ol class=list-inline>\n",
       "\t<li>3</li>\n",
       "\t<li>4</li>\n",
       "\t<li>5</li>\n",
       "\t<li>7</li>\n",
       "</ol>\n"
      ],
      "text/latex": [
       "\\begin{enumerate*}\n",
       "\\item 3\n",
       "\\item 4\n",
       "\\item 5\n",
       "\\item 7\n",
       "\\end{enumerate*}\n"
      ],
      "text/markdown": [
       "1. 3\n",
       "2. 4\n",
       "3. 5\n",
       "4. 7\n",
       "\n",
       "\n"
      ],
      "text/plain": [
       "[1] 3 4 5 7"
      ]
     },
     "execution_count": 38,
     "metadata": {},
     "output_type": "execute_result"
    },
    {
     "data": {
      "text/html": [
       "<ol class=list-inline>\n",
       "\t<li>3</li>\n",
       "\t<li>9</li>\n",
       "\t<li>8</li>\n",
       "\t<li>5</li>\n",
       "</ol>\n"
      ],
      "text/latex": [
       "\\begin{enumerate*}\n",
       "\\item 3\n",
       "\\item 9\n",
       "\\item 8\n",
       "\\item 5\n",
       "\\end{enumerate*}\n"
      ],
      "text/markdown": [
       "1. 3\n",
       "2. 9\n",
       "3. 8\n",
       "4. 5\n",
       "\n",
       "\n"
      ],
      "text/plain": [
       "[1] 3 9 8 5"
      ]
     },
     "execution_count": 38,
     "metadata": {},
     "output_type": "execute_result"
    },
    {
     "data": {
      "text/html": [
       "<ol class=list-inline>\n",
       "\t<li>7</li>\n",
       "\t<li>1</li>\n",
       "\t<li>2</li>\n",
       "\t<li>8</li>\n",
       "</ol>\n"
      ],
      "text/latex": [
       "\\begin{enumerate*}\n",
       "\\item 7\n",
       "\\item 1\n",
       "\\item 2\n",
       "\\item 8\n",
       "\\end{enumerate*}\n"
      ],
      "text/markdown": [
       "1. 7\n",
       "2. 1\n",
       "3. 2\n",
       "4. 8\n",
       "\n",
       "\n"
      ],
      "text/plain": [
       "[1] 7 1 2 8"
      ]
     },
     "execution_count": 38,
     "metadata": {},
     "output_type": "execute_result"
    },
    {
     "data": {
      "text/html": [
       "<ol class=list-inline>\n",
       "\t<li>7</li>\n",
       "\t<li>4</li>\n",
       "\t<li>10</li>\n",
       "\t<li>9</li>\n",
       "</ol>\n"
      ],
      "text/latex": [
       "\\begin{enumerate*}\n",
       "\\item 7\n",
       "\\item 4\n",
       "\\item 10\n",
       "\\item 9\n",
       "\\end{enumerate*}\n"
      ],
      "text/markdown": [
       "1. 7\n",
       "2. 4\n",
       "3. 10\n",
       "4. 9\n",
       "\n",
       "\n"
      ],
      "text/plain": [
       "[1]  7  4 10  9"
      ]
     },
     "execution_count": 38,
     "metadata": {},
     "output_type": "execute_result"
    },
    {
     "data": {
      "text/html": [
       "<ol class=list-inline>\n",
       "\t<li>8</li>\n",
       "\t<li>9</li>\n",
       "\t<li>4</li>\n",
       "\t<li>6</li>\n",
       "</ol>\n"
      ],
      "text/latex": [
       "\\begin{enumerate*}\n",
       "\\item 8\n",
       "\\item 9\n",
       "\\item 4\n",
       "\\item 6\n",
       "\\end{enumerate*}\n"
      ],
      "text/markdown": [
       "1. 8\n",
       "2. 9\n",
       "3. 4\n",
       "4. 6\n",
       "\n",
       "\n"
      ],
      "text/plain": [
       "[1] 8 9 4 6"
      ]
     },
     "execution_count": 38,
     "metadata": {},
     "output_type": "execute_result"
    }
   ],
   "source": [
    "set.seed(1)\n",
    "sample(1:10,4)\n",
    "sample(1:10,4)\n",
    "sample(1:10,4)\n",
    "sample(1:10,4)\n",
    "sample(1:10,4)"
   ]
  },
  {
   "cell_type": "code",
   "execution_count": 37,
   "metadata": {
    "collapsed": false
   },
   "outputs": [
    {
     "data": {
      "text/html": [
       "<ol class=list-inline>\n",
       "\t<li>3</li>\n",
       "\t<li>4</li>\n",
       "\t<li>5</li>\n",
       "\t<li>7</li>\n",
       "</ol>\n"
      ],
      "text/latex": [
       "\\begin{enumerate*}\n",
       "\\item 3\n",
       "\\item 4\n",
       "\\item 5\n",
       "\\item 7\n",
       "\\end{enumerate*}\n"
      ],
      "text/markdown": [
       "1. 3\n",
       "2. 4\n",
       "3. 5\n",
       "4. 7\n",
       "\n",
       "\n"
      ],
      "text/plain": [
       "[1] 3 4 5 7"
      ]
     },
     "execution_count": 37,
     "metadata": {},
     "output_type": "execute_result"
    },
    {
     "data": {
      "text/html": [
       "<ol class=list-inline>\n",
       "\t<li>3</li>\n",
       "\t<li>9</li>\n",
       "\t<li>8</li>\n",
       "\t<li>5</li>\n",
       "</ol>\n"
      ],
      "text/latex": [
       "\\begin{enumerate*}\n",
       "\\item 3\n",
       "\\item 9\n",
       "\\item 8\n",
       "\\item 5\n",
       "\\end{enumerate*}\n"
      ],
      "text/markdown": [
       "1. 3\n",
       "2. 9\n",
       "3. 8\n",
       "4. 5\n",
       "\n",
       "\n"
      ],
      "text/plain": [
       "[1] 3 9 8 5"
      ]
     },
     "execution_count": 37,
     "metadata": {},
     "output_type": "execute_result"
    },
    {
     "data": {
      "text/html": [
       "<ol class=list-inline>\n",
       "\t<li>7</li>\n",
       "\t<li>1</li>\n",
       "\t<li>2</li>\n",
       "\t<li>8</li>\n",
       "</ol>\n"
      ],
      "text/latex": [
       "\\begin{enumerate*}\n",
       "\\item 7\n",
       "\\item 1\n",
       "\\item 2\n",
       "\\item 8\n",
       "\\end{enumerate*}\n"
      ],
      "text/markdown": [
       "1. 7\n",
       "2. 1\n",
       "3. 2\n",
       "4. 8\n",
       "\n",
       "\n"
      ],
      "text/plain": [
       "[1] 7 1 2 8"
      ]
     },
     "execution_count": 37,
     "metadata": {},
     "output_type": "execute_result"
    },
    {
     "data": {
      "text/html": [
       "<ol class=list-inline>\n",
       "\t<li>7</li>\n",
       "\t<li>4</li>\n",
       "\t<li>10</li>\n",
       "\t<li>9</li>\n",
       "</ol>\n"
      ],
      "text/latex": [
       "\\begin{enumerate*}\n",
       "\\item 7\n",
       "\\item 4\n",
       "\\item 10\n",
       "\\item 9\n",
       "\\end{enumerate*}\n"
      ],
      "text/markdown": [
       "1. 7\n",
       "2. 4\n",
       "3. 10\n",
       "4. 9\n",
       "\n",
       "\n"
      ],
      "text/plain": [
       "[1]  7  4 10  9"
      ]
     },
     "execution_count": 37,
     "metadata": {},
     "output_type": "execute_result"
    },
    {
     "data": {
      "text/html": [
       "<ol class=list-inline>\n",
       "\t<li>8</li>\n",
       "\t<li>9</li>\n",
       "\t<li>4</li>\n",
       "\t<li>6</li>\n",
       "</ol>\n"
      ],
      "text/latex": [
       "\\begin{enumerate*}\n",
       "\\item 8\n",
       "\\item 9\n",
       "\\item 4\n",
       "\\item 6\n",
       "\\end{enumerate*}\n"
      ],
      "text/markdown": [
       "1. 8\n",
       "2. 9\n",
       "3. 4\n",
       "4. 6\n",
       "\n",
       "\n"
      ],
      "text/plain": [
       "[1] 8 9 4 6"
      ]
     },
     "execution_count": 37,
     "metadata": {},
     "output_type": "execute_result"
    }
   ],
   "source": [
    "set.seed(1)\n",
    "sample(1:10,4)\n",
    "sample(1:10,4)\n",
    "sample(1:10,4)\n",
    "sample(1:10,4)\n",
    "sample(1:10,4)"
   ]
  },
  {
   "cell_type": "code",
   "execution_count": 40,
   "metadata": {
    "collapsed": false
   },
   "outputs": [
    {
     "data": {
      "text/html": [
       "<ol class=list-inline>\n",
       "\t<li>'k'</li>\n",
       "\t<li>'a'</li>\n",
       "\t<li>'j'</li>\n",
       "\t<li>'u'</li>\n",
       "\t<li>'h'</li>\n",
       "</ol>\n"
      ],
      "text/latex": [
       "\\begin{enumerate*}\n",
       "\\item 'k'\n",
       "\\item 'a'\n",
       "\\item 'j'\n",
       "\\item 'u'\n",
       "\\item 'h'\n",
       "\\end{enumerate*}\n"
      ],
      "text/markdown": [
       "1. 'k'\n",
       "2. 'a'\n",
       "3. 'j'\n",
       "4. 'u'\n",
       "5. 'h'\n",
       "\n",
       "\n"
      ],
      "text/plain": [
       "[1] \"k\" \"a\" \"j\" \"u\" \"h\""
      ]
     },
     "execution_count": 40,
     "metadata": {},
     "output_type": "execute_result"
    },
    {
     "data": {
      "text/html": [
       "<ol class=list-inline>\n",
       "\t<li>'m'</li>\n",
       "\t<li>'o'</li>\n",
       "\t<li>'l'</li>\n",
       "\t<li>'e'</li>\n",
       "\t<li>'s'</li>\n",
       "</ol>\n"
      ],
      "text/latex": [
       "\\begin{enumerate*}\n",
       "\\item 'm'\n",
       "\\item 'o'\n",
       "\\item 'l'\n",
       "\\item 'e'\n",
       "\\item 's'\n",
       "\\end{enumerate*}\n"
      ],
      "text/markdown": [
       "1. 'm'\n",
       "2. 'o'\n",
       "3. 'l'\n",
       "4. 'e'\n",
       "5. 's'\n",
       "\n",
       "\n"
      ],
      "text/plain": [
       "[1] \"m\" \"o\" \"l\" \"e\" \"s\""
      ]
     },
     "execution_count": 40,
     "metadata": {},
     "output_type": "execute_result"
    },
    {
     "data": {
      "text/html": [
       "<ol class=list-inline>\n",
       "\t<li>'r'</li>\n",
       "\t<li>'t'</li>\n",
       "\t<li>'c'</li>\n",
       "\t<li>'q'</li>\n",
       "\t<li>'j'</li>\n",
       "</ol>\n"
      ],
      "text/latex": [
       "\\begin{enumerate*}\n",
       "\\item 'r'\n",
       "\\item 't'\n",
       "\\item 'c'\n",
       "\\item 'q'\n",
       "\\item 'j'\n",
       "\\end{enumerate*}\n"
      ],
      "text/markdown": [
       "1. 'r'\n",
       "2. 't'\n",
       "3. 'c'\n",
       "4. 'q'\n",
       "5. 'j'\n",
       "\n",
       "\n"
      ],
      "text/plain": [
       "[1] \"r\" \"t\" \"c\" \"q\" \"j\""
      ]
     },
     "execution_count": 40,
     "metadata": {},
     "output_type": "execute_result"
    },
    {
     "data": {
      "text/html": [
       "<ol class=list-inline>\n",
       "\t<li>'v'</li>\n",
       "\t<li>'q'</li>\n",
       "\t<li>'s'</li>\n",
       "\t<li>'m'</li>\n",
       "\t<li>'l'</li>\n",
       "</ol>\n"
      ],
      "text/latex": [
       "\\begin{enumerate*}\n",
       "\\item 'v'\n",
       "\\item 'q'\n",
       "\\item 's'\n",
       "\\item 'm'\n",
       "\\item 'l'\n",
       "\\end{enumerate*}\n"
      ],
      "text/markdown": [
       "1. 'v'\n",
       "2. 'q'\n",
       "3. 's'\n",
       "4. 'm'\n",
       "5. 'l'\n",
       "\n",
       "\n"
      ],
      "text/plain": [
       "[1] \"v\" \"q\" \"s\" \"m\" \"l\""
      ]
     },
     "execution_count": 40,
     "metadata": {},
     "output_type": "execute_result"
    }
   ],
   "source": [
    "sample(letters,5);sample(letters,5);sample(letters,5);sample(letters,5);"
   ]
  },
  {
   "cell_type": "code",
   "execution_count": 41,
   "metadata": {
    "collapsed": false
   },
   "outputs": [
    {
     "data": {
      "text/html": [
       "<ol class=list-inline>\n",
       "\t<li>8</li>\n",
       "\t<li>1</li>\n",
       "\t<li>4</li>\n",
       "\t<li>6</li>\n",
       "\t<li>5</li>\n",
       "\t<li>3</li>\n",
       "\t<li>10</li>\n",
       "\t<li>2</li>\n",
       "\t<li>9</li>\n",
       "\t<li>7</li>\n",
       "</ol>\n"
      ],
      "text/latex": [
       "\\begin{enumerate*}\n",
       "\\item 8\n",
       "\\item 1\n",
       "\\item 4\n",
       "\\item 6\n",
       "\\item 5\n",
       "\\item 3\n",
       "\\item 10\n",
       "\\item 2\n",
       "\\item 9\n",
       "\\item 7\n",
       "\\end{enumerate*}\n"
      ],
      "text/markdown": [
       "1. 8\n",
       "2. 1\n",
       "3. 4\n",
       "4. 6\n",
       "5. 5\n",
       "6. 3\n",
       "7. 10\n",
       "8. 2\n",
       "9. 9\n",
       "10. 7\n",
       "\n",
       "\n"
      ],
      "text/plain": [
       " [1]  8  1  4  6  5  3 10  2  9  7"
      ]
     },
     "execution_count": 41,
     "metadata": {},
     "output_type": "execute_result"
    },
    {
     "data": {
      "text/html": [
       "<ol class=list-inline>\n",
       "\t<li>1</li>\n",
       "\t<li>3</li>\n",
       "\t<li>5</li>\n",
       "\t<li>8</li>\n",
       "\t<li>9</li>\n",
       "\t<li>7</li>\n",
       "\t<li>2</li>\n",
       "\t<li>4</li>\n",
       "\t<li>10</li>\n",
       "\t<li>6</li>\n",
       "</ol>\n"
      ],
      "text/latex": [
       "\\begin{enumerate*}\n",
       "\\item 1\n",
       "\\item 3\n",
       "\\item 5\n",
       "\\item 8\n",
       "\\item 9\n",
       "\\item 7\n",
       "\\item 2\n",
       "\\item 4\n",
       "\\item 10\n",
       "\\item 6\n",
       "\\end{enumerate*}\n"
      ],
      "text/markdown": [
       "1. 1\n",
       "2. 3\n",
       "3. 5\n",
       "4. 8\n",
       "5. 9\n",
       "6. 7\n",
       "7. 2\n",
       "8. 4\n",
       "9. 10\n",
       "10. 6\n",
       "\n",
       "\n"
      ],
      "text/plain": [
       " [1]  1  3  5  8  9  7  2  4 10  6"
      ]
     },
     "execution_count": 41,
     "metadata": {},
     "output_type": "execute_result"
    }
   ],
   "source": [
    "sample(1:10)\n",
    "sample(1:10)"
   ]
  },
  {
   "cell_type": "code",
   "execution_count": 42,
   "metadata": {
    "collapsed": false
   },
   "outputs": [
    {
     "data": {
      "text/html": [
       "<ol class=list-inline>\n",
       "\t<li>3</li>\n",
       "\t<li>5</li>\n",
       "\t<li>8</li>\n",
       "\t<li>1</li>\n",
       "\t<li>9</li>\n",
       "\t<li>4</li>\n",
       "\t<li>9</li>\n",
       "\t<li>4</li>\n",
       "\t<li>4</li>\n",
       "\t<li>5</li>\n",
       "</ol>\n"
      ],
      "text/latex": [
       "\\begin{enumerate*}\n",
       "\\item 3\n",
       "\\item 5\n",
       "\\item 8\n",
       "\\item 1\n",
       "\\item 9\n",
       "\\item 4\n",
       "\\item 9\n",
       "\\item 4\n",
       "\\item 4\n",
       "\\item 5\n",
       "\\end{enumerate*}\n"
      ],
      "text/markdown": [
       "1. 3\n",
       "2. 5\n",
       "3. 8\n",
       "4. 1\n",
       "5. 9\n",
       "6. 4\n",
       "7. 9\n",
       "8. 4\n",
       "9. 4\n",
       "10. 5\n",
       "\n",
       "\n"
      ],
      "text/plain": [
       " [1] 3 5 8 1 9 4 9 4 4 5"
      ]
     },
     "execution_count": 42,
     "metadata": {},
     "output_type": "execute_result"
    }
   ],
   "source": [
    "sample(1:10,replace=TRUE)"
   ]
  },
  {
   "cell_type": "code",
   "execution_count": 43,
   "metadata": {
    "collapsed": false
   },
   "outputs": [
    {
     "data": {
      "text/plain": [
       "   user  system elapsed \n",
       "  0.008   0.008   4.202 "
      ]
     },
     "execution_count": 43,
     "metadata": {},
     "output_type": "execute_result"
    }
   ],
   "source": [
    "# Profiling\n",
    "system.time(readLines(\"http://www.jhsph.edu\"))"
   ]
  },
  {
   "cell_type": "code",
   "execution_count": 50,
   "metadata": {
    "collapsed": true
   },
   "outputs": [],
   "source": [
    "hilbert<-function(n){\n",
    "  i<-1:n\n",
    "  1/outer(i-1,i,\"+\")\n",
    "}"
   ]
  },
  {
   "cell_type": "code",
   "execution_count": 61,
   "metadata": {
    "collapsed": false
   },
   "outputs": [
    {
     "data": {
      "text/html": [
       "<table>\n",
       "<tbody>\n",
       "\t<tr><td>1.0000000</td><td>0.5000000</td><td>0.3333333</td><td>0.2500000</td><td>0.2000000</td><td>0.1666667</td><td>0.1428571</td><td>0.1250000</td><td>0.1111111</td><td>0.1000000</td></tr>\n",
       "\t<tr><td>0.50000000</td><td>0.33333333</td><td>0.25000000</td><td>0.20000000</td><td>0.16666667</td><td>0.14285714</td><td>0.12500000</td><td>0.11111111</td><td>0.10000000</td><td>0.09090909</td></tr>\n",
       "\t<tr><td>0.33333333</td><td>0.25000000</td><td>0.20000000</td><td>0.16666667</td><td>0.14285714</td><td>0.12500000</td><td>0.11111111</td><td>0.10000000</td><td>0.09090909</td><td>0.08333333</td></tr>\n",
       "\t<tr><td>0.25000000</td><td>0.20000000</td><td>0.16666667</td><td>0.14285714</td><td>0.12500000</td><td>0.11111111</td><td>0.10000000</td><td>0.09090909</td><td>0.08333333</td><td>0.07692308</td></tr>\n",
       "\t<tr><td>0.20000000</td><td>0.16666667</td><td>0.14285714</td><td>0.12500000</td><td>0.11111111</td><td>0.10000000</td><td>0.09090909</td><td>0.08333333</td><td>0.07692308</td><td>0.07142857</td></tr>\n",
       "\t<tr><td>0.16666667</td><td>0.14285714</td><td>0.12500000</td><td>0.11111111</td><td>0.10000000</td><td>0.09090909</td><td>0.08333333</td><td>0.07692308</td><td>0.07142857</td><td>0.06666667</td></tr>\n",
       "\t<tr><td>0.14285714</td><td>0.12500000</td><td>0.11111111</td><td>0.10000000</td><td>0.09090909</td><td>0.08333333</td><td>0.07692308</td><td>0.07142857</td><td>0.06666667</td><td>0.06250000</td></tr>\n",
       "\t<tr><td>0.12500000</td><td>0.11111111</td><td>0.10000000</td><td>0.09090909</td><td>0.08333333</td><td>0.07692308</td><td>0.07142857</td><td>0.06666667</td><td>0.06250000</td><td>0.05882353</td></tr>\n",
       "\t<tr><td>0.11111111</td><td>0.10000000</td><td>0.09090909</td><td>0.08333333</td><td>0.07692308</td><td>0.07142857</td><td>0.06666667</td><td>0.06250000</td><td>0.05882353</td><td>0.05555556</td></tr>\n",
       "\t<tr><td>0.10000000</td><td>0.09090909</td><td>0.08333333</td><td>0.07692308</td><td>0.07142857</td><td>0.06666667</td><td>0.06250000</td><td>0.05882353</td><td>0.05555556</td><td>0.05263158</td></tr>\n",
       "</tbody>\n",
       "</table>\n"
      ],
      "text/latex": [
       "\\begin{tabular}{llllllllll}\n",
       "\t 1.0000000 & 0.5000000 & 0.3333333 & 0.2500000 & 0.2000000 & 0.1666667 & 0.1428571 & 0.1250000 & 0.1111111 & 0.1000000\\\\\n",
       "\t 0.50000000 & 0.33333333 & 0.25000000 & 0.20000000 & 0.16666667 & 0.14285714 & 0.12500000 & 0.11111111 & 0.10000000 & 0.09090909\\\\\n",
       "\t 0.33333333 & 0.25000000 & 0.20000000 & 0.16666667 & 0.14285714 & 0.12500000 & 0.11111111 & 0.10000000 & 0.09090909 & 0.08333333\\\\\n",
       "\t 0.25000000 & 0.20000000 & 0.16666667 & 0.14285714 & 0.12500000 & 0.11111111 & 0.10000000 & 0.09090909 & 0.08333333 & 0.07692308\\\\\n",
       "\t 0.20000000 & 0.16666667 & 0.14285714 & 0.12500000 & 0.11111111 & 0.10000000 & 0.09090909 & 0.08333333 & 0.07692308 & 0.07142857\\\\\n",
       "\t 0.16666667 & 0.14285714 & 0.12500000 & 0.11111111 & 0.10000000 & 0.09090909 & 0.08333333 & 0.07692308 & 0.07142857 & 0.06666667\\\\\n",
       "\t 0.14285714 & 0.12500000 & 0.11111111 & 0.10000000 & 0.09090909 & 0.08333333 & 0.07692308 & 0.07142857 & 0.06666667 & 0.06250000\\\\\n",
       "\t 0.12500000 & 0.11111111 & 0.10000000 & 0.09090909 & 0.08333333 & 0.07692308 & 0.07142857 & 0.06666667 & 0.06250000 & 0.05882353\\\\\n",
       "\t 0.11111111 & 0.10000000 & 0.09090909 & 0.08333333 & 0.07692308 & 0.07142857 & 0.06666667 & 0.06250000 & 0.05882353 & 0.05555556\\\\\n",
       "\t 0.10000000 & 0.09090909 & 0.08333333 & 0.07692308 & 0.07142857 & 0.06666667 & 0.06250000 & 0.05882353 & 0.05555556 & 0.05263158\\\\\n",
       "\\end{tabular}\n"
      ],
      "text/markdown": [
       "1. 1\n",
       "2. 0.5\n",
       "3. 0.333333333333333\n",
       "4. 0.25\n",
       "5. 0.2\n",
       "6. 0.166666666666667\n",
       "7. 0.142857142857143\n",
       "8. 0.125\n",
       "9. 0.111111111111111\n",
       "10. 0.1\n",
       "11. 0.5\n",
       "12. 0.333333333333333\n",
       "13. 0.25\n",
       "14. 0.2\n",
       "15. 0.166666666666667\n",
       "16. 0.142857142857143\n",
       "17. 0.125\n",
       "18. 0.111111111111111\n",
       "19. 0.1\n",
       "20. 0.0909090909090909\n",
       "21. 0.333333333333333\n",
       "22. 0.25\n",
       "23. 0.2\n",
       "24. 0.166666666666667\n",
       "25. 0.142857142857143\n",
       "26. 0.125\n",
       "27. 0.111111111111111\n",
       "28. 0.1\n",
       "29. 0.0909090909090909\n",
       "30. 0.0833333333333333\n",
       "31. 0.25\n",
       "32. 0.2\n",
       "33. 0.166666666666667\n",
       "34. 0.142857142857143\n",
       "35. 0.125\n",
       "36. 0.111111111111111\n",
       "37. 0.1\n",
       "38. 0.0909090909090909\n",
       "39. 0.0833333333333333\n",
       "40. 0.0769230769230769\n",
       "41. 0.2\n",
       "42. 0.166666666666667\n",
       "43. 0.142857142857143\n",
       "44. 0.125\n",
       "45. 0.111111111111111\n",
       "46. 0.1\n",
       "47. 0.0909090909090909\n",
       "48. 0.0833333333333333\n",
       "49. 0.0769230769230769\n",
       "50. 0.0714285714285714\n",
       "51. 0.166666666666667\n",
       "52. 0.142857142857143\n",
       "53. 0.125\n",
       "54. 0.111111111111111\n",
       "55. 0.1\n",
       "56. 0.0909090909090909\n",
       "57. 0.0833333333333333\n",
       "58. 0.0769230769230769\n",
       "59. 0.0714285714285714\n",
       "60. 0.0666666666666667\n",
       "61. 0.142857142857143\n",
       "62. 0.125\n",
       "63. 0.111111111111111\n",
       "64. 0.1\n",
       "65. 0.0909090909090909\n",
       "66. 0.0833333333333333\n",
       "67. 0.0769230769230769\n",
       "68. 0.0714285714285714\n",
       "69. 0.0666666666666667\n",
       "70. 0.0625\n",
       "71. 0.125\n",
       "72. 0.111111111111111\n",
       "73. 0.1\n",
       "74. 0.0909090909090909\n",
       "75. 0.0833333333333333\n",
       "76. 0.0769230769230769\n",
       "77. 0.0714285714285714\n",
       "78. 0.0666666666666667\n",
       "79. 0.0625\n",
       "80. 0.0588235294117647\n",
       "81. 0.111111111111111\n",
       "82. 0.1\n",
       "83. 0.0909090909090909\n",
       "84. 0.0833333333333333\n",
       "85. 0.0769230769230769\n",
       "86. 0.0714285714285714\n",
       "87. 0.0666666666666667\n",
       "88. 0.0625\n",
       "89. 0.0588235294117647\n",
       "90. 0.0555555555555556\n",
       "91. 0.1\n",
       "92. 0.0909090909090909\n",
       "93. 0.0833333333333333\n",
       "94. 0.0769230769230769\n",
       "95. 0.0714285714285714\n",
       "96. 0.0666666666666667\n",
       "97. 0.0625\n",
       "98. 0.0588235294117647\n",
       "99. 0.0555555555555556\n",
       "100. 0.0526315789473684\n",
       "\n",
       "\n"
      ],
      "text/plain": [
       "           [,1]       [,2]       [,3]       [,4]       [,5]       [,6]\n",
       " [1,] 1.0000000 0.50000000 0.33333333 0.25000000 0.20000000 0.16666667\n",
       " [2,] 0.5000000 0.33333333 0.25000000 0.20000000 0.16666667 0.14285714\n",
       " [3,] 0.3333333 0.25000000 0.20000000 0.16666667 0.14285714 0.12500000\n",
       " [4,] 0.2500000 0.20000000 0.16666667 0.14285714 0.12500000 0.11111111\n",
       " [5,] 0.2000000 0.16666667 0.14285714 0.12500000 0.11111111 0.10000000\n",
       " [6,] 0.1666667 0.14285714 0.12500000 0.11111111 0.10000000 0.09090909\n",
       " [7,] 0.1428571 0.12500000 0.11111111 0.10000000 0.09090909 0.08333333\n",
       " [8,] 0.1250000 0.11111111 0.10000000 0.09090909 0.08333333 0.07692308\n",
       " [9,] 0.1111111 0.10000000 0.09090909 0.08333333 0.07692308 0.07142857\n",
       "[10,] 0.1000000 0.09090909 0.08333333 0.07692308 0.07142857 0.06666667\n",
       "            [,7]       [,8]       [,9]      [,10]\n",
       " [1,] 0.14285714 0.12500000 0.11111111 0.10000000\n",
       " [2,] 0.12500000 0.11111111 0.10000000 0.09090909\n",
       " [3,] 0.11111111 0.10000000 0.09090909 0.08333333\n",
       " [4,] 0.10000000 0.09090909 0.08333333 0.07692308\n",
       " [5,] 0.09090909 0.08333333 0.07692308 0.07142857\n",
       " [6,] 0.08333333 0.07692308 0.07142857 0.06666667\n",
       " [7,] 0.07692308 0.07142857 0.06666667 0.06250000\n",
       " [8,] 0.07142857 0.06666667 0.06250000 0.05882353\n",
       " [9,] 0.06666667 0.06250000 0.05882353 0.05555556\n",
       "[10,] 0.06250000 0.05882353 0.05555556 0.05263158"
      ]
     },
     "execution_count": 61,
     "metadata": {},
     "output_type": "execute_result"
    }
   ],
   "source": [
    "x<-hilbert(10);x "
   ]
  },
  {
   "cell_type": "code",
   "execution_count": 59,
   "metadata": {
    "collapsed": false
   },
   "outputs": [
    {
     "data": {
      "text/html": [
       "<ol class=list-inline>\n",
       "\t<li>0</li>\n",
       "\t<li>1</li>\n",
       "\t<li>2</li>\n",
       "\t<li>3</li>\n",
       "\t<li>4</li>\n",
       "\t<li>5</li>\n",
       "\t<li>6</li>\n",
       "\t<li>7</li>\n",
       "\t<li>8</li>\n",
       "\t<li>9</li>\n",
       "</ol>\n"
      ],
      "text/latex": [
       "\\begin{enumerate*}\n",
       "\\item 0\n",
       "\\item 1\n",
       "\\item 2\n",
       "\\item 3\n",
       "\\item 4\n",
       "\\item 5\n",
       "\\item 6\n",
       "\\item 7\n",
       "\\item 8\n",
       "\\item 9\n",
       "\\end{enumerate*}\n"
      ],
      "text/markdown": [
       "1. 0\n",
       "2. 1\n",
       "3. 2\n",
       "4. 3\n",
       "5. 4\n",
       "6. 5\n",
       "7. 6\n",
       "8. 7\n",
       "9. 8\n",
       "10. 9\n",
       "\n",
       "\n"
      ],
      "text/plain": [
       " [1] 0 1 2 3 4 5 6 7 8 9"
      ]
     },
     "execution_count": 59,
     "metadata": {},
     "output_type": "execute_result"
    },
    {
     "data": {
      "text/html": [
       "<ol class=list-inline>\n",
       "\t<li>1</li>\n",
       "\t<li>2</li>\n",
       "\t<li>3</li>\n",
       "\t<li>4</li>\n",
       "\t<li>5</li>\n",
       "\t<li>6</li>\n",
       "\t<li>7</li>\n",
       "\t<li>8</li>\n",
       "\t<li>9</li>\n",
       "\t<li>10</li>\n",
       "</ol>\n"
      ],
      "text/latex": [
       "\\begin{enumerate*}\n",
       "\\item 1\n",
       "\\item 2\n",
       "\\item 3\n",
       "\\item 4\n",
       "\\item 5\n",
       "\\item 6\n",
       "\\item 7\n",
       "\\item 8\n",
       "\\item 9\n",
       "\\item 10\n",
       "\\end{enumerate*}\n"
      ],
      "text/markdown": [
       "1. 1\n",
       "2. 2\n",
       "3. 3\n",
       "4. 4\n",
       "5. 5\n",
       "6. 6\n",
       "7. 7\n",
       "8. 8\n",
       "9. 9\n",
       "10. 10\n",
       "\n",
       "\n"
      ],
      "text/plain": [
       " [1]  1  2  3  4  5  6  7  8  9 10"
      ]
     },
     "execution_count": 59,
     "metadata": {},
     "output_type": "execute_result"
    },
    {
     "data": {
      "text/html": [
       "<table>\n",
       "<tbody>\n",
       "\t<tr><td> 1</td><td> 2</td><td> 3</td><td> 4</td><td> 5</td><td> 6</td><td> 7</td><td> 8</td><td> 9</td><td>10</td></tr>\n",
       "\t<tr><td> 2</td><td> 3</td><td> 4</td><td> 5</td><td> 6</td><td> 7</td><td> 8</td><td> 9</td><td>10</td><td>11</td></tr>\n",
       "\t<tr><td> 3</td><td> 4</td><td> 5</td><td> 6</td><td> 7</td><td> 8</td><td> 9</td><td>10</td><td>11</td><td>12</td></tr>\n",
       "\t<tr><td> 4</td><td> 5</td><td> 6</td><td> 7</td><td> 8</td><td> 9</td><td>10</td><td>11</td><td>12</td><td>13</td></tr>\n",
       "\t<tr><td> 5</td><td> 6</td><td> 7</td><td> 8</td><td> 9</td><td>10</td><td>11</td><td>12</td><td>13</td><td>14</td></tr>\n",
       "\t<tr><td> 6</td><td> 7</td><td> 8</td><td> 9</td><td>10</td><td>11</td><td>12</td><td>13</td><td>14</td><td>15</td></tr>\n",
       "\t<tr><td> 7</td><td> 8</td><td> 9</td><td>10</td><td>11</td><td>12</td><td>13</td><td>14</td><td>15</td><td>16</td></tr>\n",
       "\t<tr><td> 8</td><td> 9</td><td>10</td><td>11</td><td>12</td><td>13</td><td>14</td><td>15</td><td>16</td><td>17</td></tr>\n",
       "\t<tr><td> 9</td><td>10</td><td>11</td><td>12</td><td>13</td><td>14</td><td>15</td><td>16</td><td>17</td><td>18</td></tr>\n",
       "\t<tr><td>10</td><td>11</td><td>12</td><td>13</td><td>14</td><td>15</td><td>16</td><td>17</td><td>18</td><td>19</td></tr>\n",
       "</tbody>\n",
       "</table>\n"
      ],
      "text/latex": [
       "\\begin{tabular}{llllllllll}\n",
       "\t  1 &  2 &  3 &  4 &  5 &  6 &  7 &  8 &  9 & 10\\\\\n",
       "\t  2 &  3 &  4 &  5 &  6 &  7 &  8 &  9 & 10 & 11\\\\\n",
       "\t  3 &  4 &  5 &  6 &  7 &  8 &  9 & 10 & 11 & 12\\\\\n",
       "\t  4 &  5 &  6 &  7 &  8 &  9 & 10 & 11 & 12 & 13\\\\\n",
       "\t  5 &  6 &  7 &  8 &  9 & 10 & 11 & 12 & 13 & 14\\\\\n",
       "\t  6 &  7 &  8 &  9 & 10 & 11 & 12 & 13 & 14 & 15\\\\\n",
       "\t  7 &  8 &  9 & 10 & 11 & 12 & 13 & 14 & 15 & 16\\\\\n",
       "\t  8 &  9 & 10 & 11 & 12 & 13 & 14 & 15 & 16 & 17\\\\\n",
       "\t  9 & 10 & 11 & 12 & 13 & 14 & 15 & 16 & 17 & 18\\\\\n",
       "\t 10 & 11 & 12 & 13 & 14 & 15 & 16 & 17 & 18 & 19\\\\\n",
       "\\end{tabular}\n"
      ],
      "text/markdown": [
       "1. 1\n",
       "2. 2\n",
       "3. 3\n",
       "4. 4\n",
       "5. 5\n",
       "6. 6\n",
       "7. 7\n",
       "8. 8\n",
       "9. 9\n",
       "10. 10\n",
       "11. 2\n",
       "12. 3\n",
       "13. 4\n",
       "14. 5\n",
       "15. 6\n",
       "16. 7\n",
       "17. 8\n",
       "18. 9\n",
       "19. 10\n",
       "20. 11\n",
       "21. 3\n",
       "22. 4\n",
       "23. 5\n",
       "24. 6\n",
       "25. 7\n",
       "26. 8\n",
       "27. 9\n",
       "28. 10\n",
       "29. 11\n",
       "30. 12\n",
       "31. 4\n",
       "32. 5\n",
       "33. 6\n",
       "34. 7\n",
       "35. 8\n",
       "36. 9\n",
       "37. 10\n",
       "38. 11\n",
       "39. 12\n",
       "40. 13\n",
       "41. 5\n",
       "42. 6\n",
       "43. 7\n",
       "44. 8\n",
       "45. 9\n",
       "46. 10\n",
       "47. 11\n",
       "48. 12\n",
       "49. 13\n",
       "50. 14\n",
       "51. 6\n",
       "52. 7\n",
       "53. 8\n",
       "54. 9\n",
       "55. 10\n",
       "56. 11\n",
       "57. 12\n",
       "58. 13\n",
       "59. 14\n",
       "60. 15\n",
       "61. 7\n",
       "62. 8\n",
       "63. 9\n",
       "64. 10\n",
       "65. 11\n",
       "66. 12\n",
       "67. 13\n",
       "68. 14\n",
       "69. 15\n",
       "70. 16\n",
       "71. 8\n",
       "72. 9\n",
       "73. 10\n",
       "74. 11\n",
       "75. 12\n",
       "76. 13\n",
       "77. 14\n",
       "78. 15\n",
       "79. 16\n",
       "80. 17\n",
       "81. 9\n",
       "82. 10\n",
       "83. 11\n",
       "84. 12\n",
       "85. 13\n",
       "86. 14\n",
       "87. 15\n",
       "88. 16\n",
       "89. 17\n",
       "90. 18\n",
       "91. 10\n",
       "92. 11\n",
       "93. 12\n",
       "94. 13\n",
       "95. 14\n",
       "96. 15\n",
       "97. 16\n",
       "98. 17\n",
       "99. 18\n",
       "100. 19\n",
       "\n",
       "\n"
      ],
      "text/plain": [
       "      [,1] [,2] [,3] [,4] [,5] [,6] [,7] [,8] [,9] [,10]\n",
       " [1,]    1    2    3    4    5    6    7    8    9    10\n",
       " [2,]    2    3    4    5    6    7    8    9   10    11\n",
       " [3,]    3    4    5    6    7    8    9   10   11    12\n",
       " [4,]    4    5    6    7    8    9   10   11   12    13\n",
       " [5,]    5    6    7    8    9   10   11   12   13    14\n",
       " [6,]    6    7    8    9   10   11   12   13   14    15\n",
       " [7,]    7    8    9   10   11   12   13   14   15    16\n",
       " [8,]    8    9   10   11   12   13   14   15   16    17\n",
       " [9,]    9   10   11   12   13   14   15   16   17    18\n",
       "[10,]   10   11   12   13   14   15   16   17   18    19"
      ]
     },
     "execution_count": 59,
     "metadata": {},
     "output_type": "execute_result"
    },
    {
     "data": {
      "text/html": [
       "'matrix'"
      ],
      "text/latex": [
       "'matrix'"
      ],
      "text/markdown": [
       "'matrix'"
      ],
      "text/plain": [
       "[1] \"matrix\""
      ]
     },
     "execution_count": 59,
     "metadata": {},
     "output_type": "execute_result"
    }
   ],
   "source": [
    "i = 1:10; i-1; i; outer(i-1, i, \"+\"); class(outer(i-1, i, \"+\"))"
   ]
  },
  {
   "cell_type": "code",
   "execution_count": 62,
   "metadata": {
    "collapsed": true
   },
   "outputs": [],
   "source": [
    "x<-hilbert(1000)"
   ]
  },
  {
   "cell_type": "code",
   "execution_count": 63,
   "metadata": {
    "collapsed": false
   },
   "outputs": [
    {
     "data": {
      "text/plain": [
       "   user  system elapsed \n",
       "  1.316   0.115   0.531 "
      ]
     },
     "execution_count": 63,
     "metadata": {},
     "output_type": "execute_result"
    }
   ],
   "source": [
    "system.time(svd(x))"
   ]
  }
 ],
 "metadata": {
  "kernelspec": {
   "display_name": "R",
   "language": "R",
   "name": "ir"
  },
  "language_info": {
   "codemirror_mode": "r",
   "file_extension": ".r",
   "mimetype": "text/x-r-source",
   "name": "R",
   "pygments_lexer": "r",
   "version": "3.2.4"
  },
  "widgets": {
   "state": {},
   "version": "1.1.1"
  }
 },
 "nbformat": 4,
 "nbformat_minor": 0
}
