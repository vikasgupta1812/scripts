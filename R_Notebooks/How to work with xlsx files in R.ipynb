{
 "cells": [
  {
   "cell_type": "code",
   "execution_count": 2,
   "metadata": {
    "collapsed": false
   },
   "outputs": [],
   "source": [
    "library(xlsx)"
   ]
  },
  {
   "cell_type": "code",
   "execution_count": 3,
   "metadata": {
    "collapsed": true
   },
   "outputs": [],
   "source": [
    "if(!file.exists(\"./data/lala.xlsx\")) {\n",
    "    fileurl<-\"https://d396qusza40orc.cloudfront.net/getdata%2Fdata%2FDATA.gov_NGAP.xlsx\"\n",
    "    download.file(fileurl,destfile=\"./data/lala.xlsx\",method=\"curl\")\n",
    "    dateDownloaded <- date()\n",
    "}\n",
    "lala<-read.xlsx(\"./data/lala.xlsx\",sheetIndex=1,header=TRUE)"
   ]
  },
  {
   "cell_type": "code",
   "execution_count": 5,
   "metadata": {
    "collapsed": false
   },
   "outputs": [
    {
     "data": {
      "text/html": [
       "'data.frame'"
      ],
      "text/latex": [
       "'data.frame'"
      ],
      "text/markdown": [
       "'data.frame'"
      ],
      "text/plain": [
       "[1] \"data.frame\""
      ]
     },
     "execution_count": 5,
     "metadata": {},
     "output_type": "execute_result"
    },
    {
     "data": {
      "text/html": [
       "<table>\n",
       "<thead><tr><th></th><th scope=col>Table.Name..Contract</th><th scope=col>NA.</th><th scope=col>NA..1</th><th scope=col>NA..2</th><th scope=col>NA..3</th><th scope=col>NA..4</th><th scope=col>NA..5</th><th scope=col>NA..6</th><th scope=col>NA..7</th><th scope=col>NA..8</th><th scope=col>ellip.h</th><th scope=col>NA..15</th><th scope=col>NA..16</th><th scope=col>NA..17</th><th scope=col>NA..18</th><th scope=col>NA..19</th><th scope=col>NA..20</th><th scope=col>NA..21</th><th scope=col>NA..22</th><th scope=col>NA..23</th><th scope=col>NA..24</th></tr></thead>\n",
       "<tbody>\n",
       "\t<tr><th scope=row>1</th><td>ContractNumber</td><td>ContractorId</td><td>ExpiryDate</td><td>CFileName</td><td>ReactivationDt</td><td>NA</td><td>NA</td><td>NA</td><td>NA</td><td>NA</td><td><e2><8b><af></td><td>NA</td><td>NA</td><td>NA</td><td>NA</td><td>NA</td><td>NA</td><td>NA</td><td>NA</td><td>NA</td><td>NA</td></tr>\n",
       "\t<tr><th scope=row>2</th><td>GS-00P-02-BSC-0201</td><td>23</td><td>2004-09-30 00:00:00</td><td>NA</td><td>2004-09-30 00:00:00</td><td>NA</td><td>NA</td><td>NA</td><td>NA</td><td>NA</td><td><e2><8b><af></td><td>NA</td><td>NA</td><td>NA</td><td>NA</td><td>NA</td><td>NA</td><td>NA</td><td>NA</td><td>NA</td><td>NA</td></tr>\n",
       "\t<tr><th scope=row>3</th><td>GS-00P-02-BSC-0204</td><td>5</td><td>2003-10-31 00:00:00</td><td>NULL</td><td>NULL</td><td>NA</td><td>NA</td><td>NA</td><td>NA</td><td>NA</td><td><e2><8b><af></td><td>NA</td><td>NA</td><td>NA</td><td>NA</td><td>NA</td><td>NA</td><td>NA</td><td>NA</td><td>NA</td><td>NA</td></tr>\n",
       "\t<tr><th scope=row>4</th><td>GS-00P-02-BSC-0206</td><td>6</td><td>2004-10-31 00:00:00</td><td>NA</td><td>2004-11-02 00:00:00</td><td>NA</td><td>NA</td><td>NA</td><td>NA</td><td>NA</td><td><e2><8b><af></td><td>NA</td><td>NA</td><td>NA</td><td>NA</td><td>NA</td><td>NA</td><td>NA</td><td>NA</td><td>NA</td><td>NA</td></tr>\n",
       "\t<tr><th scope=row>5</th><td>GS-00P-02-BSC-0207</td><td>4</td><td>2006-10-31 00:00:00</td><td>NA</td><td>2004-11-01 00:00:00</td><td>NA</td><td>NA</td><td>NA</td><td>NA</td><td>NA</td><td><e2><8b><af></td><td>NA</td><td>NA</td><td>NA</td><td>NA</td><td>NA</td><td>NA</td><td>NA</td><td>NA</td><td>NA</td><td>NA</td></tr>\n",
       "\t<tr><th scope=row>6</th><td>GS-00P-02-BSC-0209</td><td>7</td><td>2004-10-31 00:00:00</td><td>NA</td><td>2004-11-01 00:00:00</td><td>NA</td><td>NA</td><td>NA</td><td>NA</td><td>NA</td><td><e2><8b><af></td><td>NA</td><td>NA</td><td>NA</td><td>NA</td><td>NA</td><td>NA</td><td>NA</td><td>NA</td><td>NA</td><td>NA</td></tr>\n",
       "</tbody>\n",
       "</table>\n"
      ],
      "text/latex": [
       "\\begin{tabular}{r|llllllllllllllllllllllllll}\n",
       "  & Table.Name..Contract & NA. & NA..1 & NA..2 & NA..3 & NA..4 & NA..5 & NA..6 & NA..7 & NA..8 & ellip.h & NA..15 & NA..16 & NA..17 & NA..18 & NA..19 & NA..20 & NA..21 & NA..22 & NA..23 & NA..24\\\\\n",
       "\\hline\n",
       "\t1 & ContractNumber & ContractorId & ExpiryDate & CFileName & ReactivationDt & NA & NA & NA & NA & NA & <e2><8b><af> & NA & NA & NA & NA & NA & NA & NA & NA & NA & NA\\\\\n",
       "\t2 & GS-00P-02-BSC-0201 & 23 & 2004-09-30 00:00:00 & NA & 2004-09-30 00:00:00 & NA & NA & NA & NA & NA & <e2><8b><af> & NA & NA & NA & NA & NA & NA & NA & NA & NA & NA\\\\\n",
       "\t3 & GS-00P-02-BSC-0204 & 5 & 2003-10-31 00:00:00 & NULL & NULL & NA & NA & NA & NA & NA & <e2><8b><af> & NA & NA & NA & NA & NA & NA & NA & NA & NA & NA\\\\\n",
       "\t4 & GS-00P-02-BSC-0206 & 6 & 2004-10-31 00:00:00 & NA & 2004-11-02 00:00:00 & NA & NA & NA & NA & NA & <e2><8b><af> & NA & NA & NA & NA & NA & NA & NA & NA & NA & NA\\\\\n",
       "\t5 & GS-00P-02-BSC-0207 & 4 & 2006-10-31 00:00:00 & NA & 2004-11-01 00:00:00 & NA & NA & NA & NA & NA & <e2><8b><af> & NA & NA & NA & NA & NA & NA & NA & NA & NA & NA\\\\\n",
       "\t6 & GS-00P-02-BSC-0209 & 7 & 2004-10-31 00:00:00 & NA & 2004-11-01 00:00:00 & NA & NA & NA & NA & NA & <e2><8b><af> & NA & NA & NA & NA & NA & NA & NA & NA & NA & NA\\\\\n",
       "\\end{tabular}\n"
      ],
      "text/plain": [
       "  Table.Name..Contract          NA.               NA..1     NA..2\n",
       "1       ContractNumber ContractorId          ExpiryDate CFileName\n",
       "2   GS-00P-02-BSC-0201           23 2004-09-30 00:00:00      <NA>\n",
       "3   GS-00P-02-BSC-0204            5 2003-10-31 00:00:00      NULL\n",
       "4   GS-00P-02-BSC-0206            6 2004-10-31 00:00:00      <NA>\n",
       "5   GS-00P-02-BSC-0207            4 2006-10-31 00:00:00      <NA>\n",
       "6   GS-00P-02-BSC-0209            7 2004-10-31 00:00:00      <NA>\n",
       "                NA..3 NA..4 NA..5 NA..6 NA..7 NA..8 NA..9 NA..10 NA..11 NA..12\n",
       "1      ReactivationDt  <NA>  <NA>  <NA>  <NA>  <NA>  <NA>   <NA>   <NA>   <NA>\n",
       "2 2004-09-30 00:00:00  <NA>  <NA>  <NA>  <NA>  <NA>  <NA>   <NA>   <NA>   <NA>\n",
       "3                NULL  <NA>  <NA>  <NA>  <NA>  <NA>  <NA>   <NA>   <NA>   <NA>\n",
       "4 2004-11-02 00:00:00  <NA>  <NA>  <NA>  <NA>  <NA>  <NA>   <NA>   <NA>   <NA>\n",
       "5 2004-11-01 00:00:00  <NA>  <NA>  <NA>  <NA>  <NA>  <NA>   <NA>   <NA>   <NA>\n",
       "6 2004-11-01 00:00:00  <NA>  <NA>  <NA>  <NA>  <NA>  <NA>   <NA>   <NA>   <NA>\n",
       "  NA..13 NA..14 NA..15 NA..16 NA..17 NA..18 NA..19 NA..20 NA..21 NA..22 NA..23\n",
       "1   <NA>   <NA>   <NA>   <NA>   <NA>   <NA>   <NA>   <NA>   <NA>   <NA>   <NA>\n",
       "2   <NA>   <NA>   <NA>   <NA>   <NA>   <NA>   <NA>   <NA>   <NA>   <NA>   <NA>\n",
       "3   <NA>   <NA>   <NA>   <NA>   <NA>   <NA>   <NA>   <NA>   <NA>   <NA>   <NA>\n",
       "4   <NA>   <NA>   <NA>   <NA>   <NA>   <NA>   <NA>   <NA>   <NA>   <NA>   <NA>\n",
       "5   <NA>   <NA>   <NA>   <NA>   <NA>   <NA>   <NA>   <NA>   <NA>   <NA>   <NA>\n",
       "6   <NA>   <NA>   <NA>   <NA>   <NA>   <NA>   <NA>   <NA>   <NA>   <NA>   <NA>\n",
       "  NA..24\n",
       "1   <NA>\n",
       "2   <NA>\n",
       "3   <NA>\n",
       "4   <NA>\n",
       "5   <NA>\n",
       "6   <NA>"
      ]
     },
     "execution_count": 5,
     "metadata": {},
     "output_type": "execute_result"
    }
   ],
   "source": [
    "class(lala); head(lala)"
   ]
  },
  {
   "cell_type": "code",
   "execution_count": 6,
   "metadata": {
    "collapsed": false
   },
   "outputs": [
    {
     "data": {
      "text/html": [
       "<table>\n",
       "<thead><tr><th></th><th scope=col>Zip</th><th scope=col>CuCurrent</th><th scope=col>PaCurrent</th><th scope=col>PoCurrent</th><th scope=col>Contact</th><th scope=col>Ext</th><th scope=col>Fax</th><th scope=col>email</th><th scope=col>Status</th></tr></thead>\n",
       "<tbody>\n",
       "\t<tr><th scope=row>1</th><td>74136</td><td>0</td><td>1</td><td>0</td><td>918-491-6998</td><td>0</td><td>918-491-6659</td><td>NA</td><td>1</td></tr>\n",
       "\t<tr><th scope=row>2</th><td>30329</td><td>1</td><td>0</td><td>0</td><td>404-321-5711</td><td>NA</td><td>NA</td><td>NA</td><td>1</td></tr>\n",
       "\t<tr><th scope=row>3</th><td>74136</td><td>1</td><td>0</td><td>0</td><td>918-523-2516</td><td>0</td><td>918-523-2522</td><td>NA</td><td>1</td></tr>\n",
       "\t<tr><th scope=row>4</th><td>80203</td><td>0</td><td>1</td><td>0</td><td>303-864-1919</td><td>0</td><td>NA</td><td>NA</td><td>1</td></tr>\n",
       "\t<tr><th scope=row>5</th><td>80120</td><td>1</td><td>0</td><td>0</td><td>345-098-8890</td><td>456</td><td>NA</td><td>NA</td><td>1</td></tr>\n",
       "</tbody>\n",
       "</table>\n"
      ],
      "text/latex": [
       "\\begin{tabular}{r|lllllllll}\n",
       "  & Zip & CuCurrent & PaCurrent & PoCurrent & Contact & Ext & Fax & email & Status\\\\\n",
       "\\hline\n",
       "\t1 & 74136 & 0 & 1 & 0 & 918-491-6998 & 0 & 918-491-6659 & NA & 1\\\\\n",
       "\t2 & 30329 & 1 & 0 & 0 & 404-321-5711 & NA & NA & NA & 1\\\\\n",
       "\t3 & 74136 & 1 & 0 & 0 & 918-523-2516 & 0 & 918-523-2522 & NA & 1\\\\\n",
       "\t4 & 80203 & 0 & 1 & 0 & 303-864-1919 & 0 & NA & NA & 1\\\\\n",
       "\t5 & 80120 & 1 & 0 & 0 & 345-098-8890 & 456 & NA & NA & 1\\\\\n",
       "\\end{tabular}\n"
      ],
      "text/plain": [
       "    Zip CuCurrent PaCurrent PoCurrent      Contact Ext          Fax email\n",
       "1 74136         0         1         0 918-491-6998   0 918-491-6659    NA\n",
       "2 30329         1         0         0 404-321-5711  NA         <NA>    NA\n",
       "3 74136         1         0         0 918-523-2516   0 918-523-2522    NA\n",
       "4 80203         0         1         0 303-864-1919   0         <NA>    NA\n",
       "5 80120         1         0         0 345-098-8890 456         <NA>    NA\n",
       "  Status\n",
       "1      1\n",
       "2      1\n",
       "3      1\n",
       "4      1\n",
       "5      1"
      ]
     },
     "execution_count": 6,
     "metadata": {},
     "output_type": "execute_result"
    }
   ],
   "source": [
    "rowIndex<-18:23\n",
    "colIndex<-7:15\n",
    "dat<-read.xlsx(\"./data/lala.xlsx\",sheetIndex=1, colIndex=colIndex, rowIndex=rowIndex)\n",
    "head(dat)"
   ]
  },
  {
   "cell_type": "code",
   "execution_count": 7,
   "metadata": {
    "collapsed": false
   },
   "outputs": [
    {
     "data": {
      "text/html": [
       "36534720"
      ],
      "text/latex": [
       "36534720"
      ],
      "text/markdown": [
       "36534720"
      ],
      "text/plain": [
       "[1] 36534720"
      ]
     },
     "execution_count": 7,
     "metadata": {},
     "output_type": "execute_result"
    }
   ],
   "source": [
    "sum(dat$Zip*dat$Ext,na.rm=T) "
   ]
  },
  {
   "cell_type": "code",
   "execution_count": null,
   "metadata": {
    "collapsed": true
   },
   "outputs": [],
   "source": []
  }
 ],
 "metadata": {
  "kernelspec": {
   "display_name": "R",
   "language": "R",
   "name": "ir"
  },
  "language_info": {
   "codemirror_mode": "r",
   "file_extension": ".r",
   "mimetype": "text/x-r-source",
   "name": "R",
   "pygments_lexer": "r",
   "version": "3.2.4"
  },
  "widgets": {
   "state": {},
   "version": "1.1.1"
  }
 },
 "nbformat": 4,
 "nbformat_minor": 0
}
