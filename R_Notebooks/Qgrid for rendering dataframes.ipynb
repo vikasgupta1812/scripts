{
 "cells": [
  {
   "cell_type": "markdown",
   "metadata": {},
   "source": [
    "# Qgrid - SlickGrid in IPython notebook\n",
    "---"
   ]
  },
  {
   "cell_type": "markdown",
   "metadata": {},
   "source": [
    "Qgrid is an IPython extension which uses a javascript library called SlickGrid to render pandas DataFrames within an IPython notebook.  It's being developed for use in [Quantopian's hosted research environment]( https://www.quantopian.com/research?utm_source=github&utm_medium=web&utm_campaign=qgrid-nbviewer), and this notebook demonstrates the current state of the project."
   ]
  },
  {
   "cell_type": "markdown",
   "metadata": {},
   "source": [
    "## Overview\n",
    "* [SlickGrid](https://github.com/mleibman/SlickGrid) is an an advanced javascript grid which allows users to scroll, sort, \n",
    "and filter hundreds of thousands of rows with extreme responsiveness.  \n",
    "* [Pandas](https://github.com/pydata/pandas) is a powerful data analysis / manipulation library for Python, and DataFrames are the primary way of storing and manipulating two-dimensional data in pandas.\n",
    "\n",
    "[Qgrid](https://github.com/quantopian/qgrid) renders pandas DataFrames as SlickGrids, which enables users to explore the entire contents of a DataFrame using intuitive sorting and filtering controls.  It's designed to be used within IPython notebook, and it's also fully functional when rendered in [nbviewer](http://nbviewer.ipython\n",
    ".org/github/quantopian/qgrid/blob/master/qgrid_demo.ipynb)."
   ]
  },
  {
   "cell_type": "markdown",
   "metadata": {},
   "source": [
    "## Installation using 'pip install'\n",
    "##### Qgrid is a python module so you can install it using pip:\n",
    "\n",
    "```pip install git+https://github.com/quantopian/qgrid```\n",
    "\n",
    "##### Import it into your namespace like you would for any other python module:"
   ]
  },
  {
   "cell_type": "code",
   "execution_count": 1,
   "metadata": {
    "collapsed": false
   },
   "outputs": [],
   "source": [
    "#!pip install git+https://github.com/quantopian/qgrid"
   ]
  },
  {
   "cell_type": "code",
   "execution_count": 2,
   "metadata": {
    "collapsed": false
   },
   "outputs": [],
   "source": [
    "import qgrid"
   ]
  },
  {
   "cell_type": "markdown",
   "metadata": {},
   "source": [
    "##### Prepare non-python dependencies by calling 'nbinstall':"
   ]
  },
  {
   "cell_type": "code",
   "execution_count": 3,
   "metadata": {
    "collapsed": false
   },
   "outputs": [],
   "source": [
    "qgrid.nbinstall()  # copies javascript dependencies to your /nbextensions folder "
   ]
  },
  {
   "cell_type": "markdown",
   "metadata": {},
   "source": [
    "## Demo 1 - Rendering a DataFrame returned by Yahoo Finance\n",
    "##### First, lets create a sample DataFrame using pandas 'get_data_yahoo' function:"
   ]
  },
  {
   "cell_type": "code",
   "execution_count": 4,
   "metadata": {
    "collapsed": false
   },
   "outputs": [],
   "source": [
    "import pandas as pd\n",
    "import numpy as np\n",
    "from pandas_datareader.data import get_data_yahoo\n",
    "randn = np.random.randn\n",
    "\n",
    "pd.set_option('display.max_rows', 8)\n",
    "\n",
    "#from pandas.io.data import get_data_yahoo\n",
    "spy = get_data_yahoo(\n",
    "    symbols='SPY',\n",
    "    start=pd.Timestamp('2011-01-01'),\n",
    "    end=pd.Timestamp('2014-01-01'),\n",
    "    adjust_price=True,\n",
    ")"
   ]
  },
  {
   "cell_type": "markdown",
   "metadata": {},
   "source": [
    "##### BEFORE - Here's IPython's default representation of our 'spy' DataFrame:"
   ]
  },
  {
   "cell_type": "code",
   "execution_count": 5,
   "metadata": {
    "collapsed": false
   },
   "outputs": [
    {
     "data": {
      "text/html": [
       "<div>\n",
       "<table border=\"1\" class=\"dataframe\">\n",
       "  <thead>\n",
       "    <tr style=\"text-align: right;\">\n",
       "      <th></th>\n",
       "      <th>Open</th>\n",
       "      <th>High</th>\n",
       "      <th>Low</th>\n",
       "      <th>Close</th>\n",
       "      <th>Volume</th>\n",
       "      <th>Adj_Ratio</th>\n",
       "    </tr>\n",
       "    <tr>\n",
       "      <th>Date</th>\n",
       "      <th></th>\n",
       "      <th></th>\n",
       "      <th></th>\n",
       "      <th></th>\n",
       "      <th></th>\n",
       "      <th></th>\n",
       "    </tr>\n",
       "  </thead>\n",
       "  <tbody>\n",
       "    <tr>\n",
       "      <th>2011-01-03</th>\n",
       "      <td>113.782936</td>\n",
       "      <td>114.582137</td>\n",
       "      <td>112.875976</td>\n",
       "      <td>114.088253</td>\n",
       "      <td>138725200</td>\n",
       "      <td>0.897979</td>\n",
       "    </tr>\n",
       "    <tr>\n",
       "      <th>2011-01-04</th>\n",
       "      <td>114.339686</td>\n",
       "      <td>114.375606</td>\n",
       "      <td>113.315990</td>\n",
       "      <td>114.025394</td>\n",
       "      <td>137409700</td>\n",
       "      <td>0.897979</td>\n",
       "    </tr>\n",
       "    <tr>\n",
       "      <th>2011-01-05</th>\n",
       "      <td>113.666202</td>\n",
       "      <td>114.689897</td>\n",
       "      <td>113.558442</td>\n",
       "      <td>114.618057</td>\n",
       "      <td>133975300</td>\n",
       "      <td>0.897979</td>\n",
       "    </tr>\n",
       "    <tr>\n",
       "      <th>2011-01-06</th>\n",
       "      <td>114.662958</td>\n",
       "      <td>114.788676</td>\n",
       "      <td>114.052333</td>\n",
       "      <td>114.393562</td>\n",
       "      <td>122519000</td>\n",
       "      <td>0.897979</td>\n",
       "    </tr>\n",
       "    <tr>\n",
       "      <th>...</th>\n",
       "      <td>...</td>\n",
       "      <td>...</td>\n",
       "      <td>...</td>\n",
       "      <td>...</td>\n",
       "      <td>...</td>\n",
       "      <td>...</td>\n",
       "    </tr>\n",
       "    <tr>\n",
       "      <th>2013-12-26</th>\n",
       "      <td>175.286319</td>\n",
       "      <td>175.879094</td>\n",
       "      <td>175.267208</td>\n",
       "      <td>175.783481</td>\n",
       "      <td>63365000</td>\n",
       "      <td>0.956072</td>\n",
       "    </tr>\n",
       "    <tr>\n",
       "      <th>2013-12-27</th>\n",
       "      <td>176.012944</td>\n",
       "      <td>176.089417</td>\n",
       "      <td>175.592270</td>\n",
       "      <td>175.773926</td>\n",
       "      <td>61814000</td>\n",
       "      <td>0.956072</td>\n",
       "    </tr>\n",
       "    <tr>\n",
       "      <th>2013-12-30</th>\n",
       "      <td>175.793037</td>\n",
       "      <td>175.936457</td>\n",
       "      <td>175.515783</td>\n",
       "      <td>175.745245</td>\n",
       "      <td>56857000</td>\n",
       "      <td>0.956072</td>\n",
       "    </tr>\n",
       "    <tr>\n",
       "      <th>2013-12-31</th>\n",
       "      <td>175.984263</td>\n",
       "      <td>176.577023</td>\n",
       "      <td>175.850399</td>\n",
       "      <td>176.577023</td>\n",
       "      <td>86119900</td>\n",
       "      <td>0.956072</td>\n",
       "    </tr>\n",
       "  </tbody>\n",
       "</table>\n",
       "<p>754 rows × 6 columns</p>\n",
       "</div>"
      ],
      "text/plain": [
       "                  Open        High         Low       Close     Volume  \\\n",
       "Date                                                                    \n",
       "2011-01-03  113.782936  114.582137  112.875976  114.088253  138725200   \n",
       "2011-01-04  114.339686  114.375606  113.315990  114.025394  137409700   \n",
       "2011-01-05  113.666202  114.689897  113.558442  114.618057  133975300   \n",
       "2011-01-06  114.662958  114.788676  114.052333  114.393562  122519000   \n",
       "...                ...         ...         ...         ...        ...   \n",
       "2013-12-26  175.286319  175.879094  175.267208  175.783481   63365000   \n",
       "2013-12-27  176.012944  176.089417  175.592270  175.773926   61814000   \n",
       "2013-12-30  175.793037  175.936457  175.515783  175.745245   56857000   \n",
       "2013-12-31  175.984263  176.577023  175.850399  176.577023   86119900   \n",
       "\n",
       "            Adj_Ratio  \n",
       "Date                   \n",
       "2011-01-03   0.897979  \n",
       "2011-01-04   0.897979  \n",
       "2011-01-05   0.897979  \n",
       "2011-01-06   0.897979  \n",
       "...               ...  \n",
       "2013-12-26   0.956072  \n",
       "2013-12-27   0.956072  \n",
       "2013-12-30   0.956072  \n",
       "2013-12-31   0.956072  \n",
       "\n",
       "[754 rows x 6 columns]"
      ]
     },
     "execution_count": 5,
     "metadata": {},
     "output_type": "execute_result"
    }
   ],
   "source": [
    "spy"
   ]
  },
  {
   "cell_type": "markdown",
   "metadata": {},
   "source": [
    "##### AFTER - Here's the same 'spy' DataFrame being rendered as a qgrid:"
   ]
  },
  {
   "cell_type": "code",
   "execution_count": 6,
   "metadata": {
    "collapsed": false
   },
   "outputs": [
    {
     "name": "stderr",
     "output_type": "stream",
     "text": [
      "The installed widget Javascript is the wrong version.\n"
     ]
    }
   ],
   "source": [
    "qgrid.show_grid(spy, remote_js=True)"
   ]
  },
  {
   "cell_type": "markdown",
   "metadata": {},
   "source": [
    "## Demo 2 - Rendering a sample DataFrame that includes a MultiIndex\n",
    "##### Now let's create another DataFrame, but let's give it a MultiIndex this time:"
   ]
  },
  {
   "cell_type": "code",
   "execution_count": 7,
   "metadata": {
    "collapsed": false
   },
   "outputs": [],
   "source": [
    "tuples = zip(*[['bar', 'bar', 'baz', 'baz', 'foo', 'foo', 'qux', 'qux'],\n",
    "          ['one', 'two', 'one', 'two', 'one', 'two', 'one', 'two']])\n",
    "\n",
    "\n",
    "index = pd.MultiIndex.from_tuples(tuples, names=['first', 'second'])\n",
    "multi_index_df = pd.DataFrame(randn(8, 2), index=index, columns=['A', 'B'])"
   ]
  },
  {
   "cell_type": "markdown",
   "metadata": {},
   "source": [
    "##### BEFORE - Here's IPython's default representation of our 'multi_index_df' DataFrame:"
   ]
  },
  {
   "cell_type": "code",
   "execution_count": 8,
   "metadata": {
    "collapsed": false
   },
   "outputs": [
    {
     "data": {
      "text/html": [
       "<div>\n",
       "<table border=\"1\" class=\"dataframe\">\n",
       "  <thead>\n",
       "    <tr style=\"text-align: right;\">\n",
       "      <th></th>\n",
       "      <th></th>\n",
       "      <th>A</th>\n",
       "      <th>B</th>\n",
       "    </tr>\n",
       "    <tr>\n",
       "      <th>first</th>\n",
       "      <th>second</th>\n",
       "      <th></th>\n",
       "      <th></th>\n",
       "    </tr>\n",
       "  </thead>\n",
       "  <tbody>\n",
       "    <tr>\n",
       "      <th rowspan=\"2\" valign=\"top\">bar</th>\n",
       "      <th>one</th>\n",
       "      <td>0.526167</td>\n",
       "      <td>-0.434692</td>\n",
       "    </tr>\n",
       "    <tr>\n",
       "      <th>two</th>\n",
       "      <td>1.925430</td>\n",
       "      <td>0.545768</td>\n",
       "    </tr>\n",
       "    <tr>\n",
       "      <th rowspan=\"2\" valign=\"top\">baz</th>\n",
       "      <th>one</th>\n",
       "      <td>-0.822278</td>\n",
       "      <td>0.430962</td>\n",
       "    </tr>\n",
       "    <tr>\n",
       "      <th>two</th>\n",
       "      <td>1.194896</td>\n",
       "      <td>0.177690</td>\n",
       "    </tr>\n",
       "    <tr>\n",
       "      <th rowspan=\"2\" valign=\"top\">foo</th>\n",
       "      <th>one</th>\n",
       "      <td>-0.301980</td>\n",
       "      <td>0.516677</td>\n",
       "    </tr>\n",
       "    <tr>\n",
       "      <th>two</th>\n",
       "      <td>3.009660</td>\n",
       "      <td>-0.206953</td>\n",
       "    </tr>\n",
       "    <tr>\n",
       "      <th rowspan=\"2\" valign=\"top\">qux</th>\n",
       "      <th>one</th>\n",
       "      <td>-1.532612</td>\n",
       "      <td>0.734536</td>\n",
       "    </tr>\n",
       "    <tr>\n",
       "      <th>two</th>\n",
       "      <td>0.171956</td>\n",
       "      <td>-0.937243</td>\n",
       "    </tr>\n",
       "  </tbody>\n",
       "</table>\n",
       "</div>"
      ],
      "text/plain": [
       "                     A         B\n",
       "first second                    \n",
       "bar   one     0.526167 -0.434692\n",
       "      two     1.925430  0.545768\n",
       "baz   one    -0.822278  0.430962\n",
       "      two     1.194896  0.177690\n",
       "foo   one    -0.301980  0.516677\n",
       "      two     3.009660 -0.206953\n",
       "qux   one    -1.532612  0.734536\n",
       "      two     0.171956 -0.937243"
      ]
     },
     "execution_count": 8,
     "metadata": {},
     "output_type": "execute_result"
    }
   ],
   "source": [
    "multi_index_df"
   ]
  },
  {
   "cell_type": "markdown",
   "metadata": {},
   "source": [
    "##### AFTER - Here's the same 'multi_index_df' DataFrame being rendered as a qgrid:"
   ]
  },
  {
   "cell_type": "code",
   "execution_count": 9,
   "metadata": {
    "collapsed": false
   },
   "outputs": [
    {
     "name": "stderr",
     "output_type": "stream",
     "text": [
      "The installed widget Javascript is the wrong version.\n"
     ]
    }
   ],
   "source": [
    "qgrid.show_grid(multi_index_df, remote_js=True)"
   ]
  },
  {
   "cell_type": "markdown",
   "metadata": {},
   "source": [
    "## API & Usage\n",
    "### qgrid.show_grid (data_frame, remote_js=False)\n",
    "This is the most interesting function provided by the qgrid module.  When run within an IPython notebook, it takes a pandas DataFrame and outputs a SlickGrid.\n",
    "\n",
    "##### Parameters:\n",
    "  1. **data_frame** - The pandas.DataFrame object to render as a SlickGrid.\n",
    "  2. **remote_js** - A boolean value indicating whether should load javascript from the local '/nbextensions' folder or directly from a CDN.  Defaults to False.\n",
    "    * The ability to load javascript dependencies from remote sources is what allows qgrids to be fully functional when viewing notebooks using nbviewer.  In order for a particular qgrid to render properly in nbviewer, it must be generated while remote_js is set to true.\n",
    "    * When there are multiple calls to show_grid in a notebook, **ONLY the first call to show_grid has any effect on the value of remote_js for the lifetime of the page**.  This is because once the dependencies are loaded into the browser, they aren't unloaded until the user navigates away or refreshes the page.\n",
    "\n",
    "### qgrid.nbinstall (overwrite=False)\n",
    "This function is used during installation to prepare qgrid's non-python dependencies.  The qgrid module contains a 'qgridjs' folder that holds a bunch of javascript/css files, and this function creates a copy of 'qgridjs' in the \"/nbextensions\" folder for your IPython installation.\n",
    "##### Parameters:\n",
    "1. **overwrite** - A boolean value indicating whether installation should continue when the 'qgridjs' folder already exists in '/nbextensions'.  Defaults to True."
   ]
  },
  {
   "cell_type": "markdown",
   "metadata": {},
   "source": [
    "## Running from source using 'git clone'\n",
    "##### Use git to clone the qgrid repository to your hard drive\n",
    "`git clone git@github.com:quantopian/qgrid.git`\n",
    "##### Set the root folder of your qgrid repository to be the working directory for your IPython notebook server\n",
    "This is an easy way to get qgrid to run directly from the source code.  IPython notebook will look in it's working directory for modules to load, so qgrid will immediately become available for importing.\n",
    "\n",
    "`ipython notebook --notebook-dir=~/path/to/qgrid/repo`\n",
    "\n",
    "It's not always convenient to use the qgrid repository as your working directory for IPython noteboook, so I often create symbolic-links from qgrid's source code into the \"/nbextensions\" and \"/extensions\" folders under my IPython directory.\n",
    "\n",
    "\n",
    "##### Import it into your namespace like you would for any other python module:"
   ]
  },
  {
   "cell_type": "code",
   "execution_count": 10,
   "metadata": {
    "collapsed": false
   },
   "outputs": [],
   "source": [
    "import qgrid"
   ]
  },
  {
   "cell_type": "markdown",
   "metadata": {},
   "source": [
    "##### Prepare non-python dependencies by calling 'nbinstall':"
   ]
  },
  {
   "cell_type": "code",
   "execution_count": 11,
   "metadata": {
    "collapsed": false
   },
   "outputs": [],
   "source": [
    "qgrid.nbinstall(overwrite=True)  # use overwrite=True to keep your /nbextensions folder up to date during development"
   ]
  },
  {
   "cell_type": "code",
   "execution_count": null,
   "metadata": {
    "collapsed": false
   },
   "outputs": [],
   "source": []
  }
 ],
 "metadata": {
  "kernelspec": {
   "display_name": "Python 2",
   "language": "python",
   "name": "python2"
  },
  "language_info": {
   "codemirror_mode": {
    "name": "ipython",
    "version": 2
   },
   "file_extension": ".py",
   "mimetype": "text/x-python",
   "name": "python",
   "nbconvert_exporter": "python",
   "pygments_lexer": "ipython2",
   "version": "2.7.11"
  },
  "widgets": {
   "state": {},
   "version": "1.1.1"
  }
 },
 "nbformat": 4,
 "nbformat_minor": 0
}
