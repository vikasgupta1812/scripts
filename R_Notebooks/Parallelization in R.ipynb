{
 "cells": [
  {
   "cell_type": "markdown",
   "metadata": {},
   "source": [
    "Running R scripts in parallel, R Parallel package."
   ]
  },
  {
   "cell_type": "code",
   "execution_count": 1,
   "metadata": {
    "collapsed": true
   },
   "outputs": [],
   "source": [
    "library(parallel)  "
   ]
  },
  {
   "cell_type": "code",
   "execution_count": 2,
   "metadata": {
    "collapsed": true
   },
   "outputs": [],
   "source": [
    "# inputs and operations to be performed on each input\n",
    "inputs  <- 1:10  \n",
    "processInput  <- function(i) {  \n",
    "  i * i\n",
    "}"
   ]
  },
  {
   "cell_type": "code",
   "execution_count": 3,
   "metadata": {
    "collapsed": false
   },
   "outputs": [
    {
     "data": {
      "text/html": [
       "8"
      ],
      "text/latex": [
       "8"
      ],
      "text/markdown": [
       "8"
      ],
      "text/plain": [
       "[1] 8"
      ]
     },
     "execution_count": 3,
     "metadata": {},
     "output_type": "execute_result"
    }
   ],
   "source": [
    "#Find the number of cores\n",
    "numCores  <- detectCores(); numCores"
   ]
  },
  {
   "cell_type": "code",
   "execution_count": 4,
   "metadata": {
    "collapsed": false
   },
   "outputs": [
    {
     "data": {
      "text/html": [
       "<ol>\n",
       "\t<li>1</li>\n",
       "\t<li>4</li>\n",
       "\t<li>9</li>\n",
       "\t<li>16</li>\n",
       "\t<li>25</li>\n",
       "\t<li>36</li>\n",
       "\t<li>49</li>\n",
       "\t<li>64</li>\n",
       "\t<li>81</li>\n",
       "\t<li>100</li>\n",
       "</ol>\n"
      ],
      "text/latex": [
       "\\begin{enumerate}\n",
       "\\item 1\n",
       "\\item 4\n",
       "\\item 9\n",
       "\\item 16\n",
       "\\item 25\n",
       "\\item 36\n",
       "\\item 49\n",
       "\\item 64\n",
       "\\item 81\n",
       "\\item 100\n",
       "\\end{enumerate}\n"
      ],
      "text/markdown": [
       "1. 1\n",
       "2. 4\n",
       "3. 9\n",
       "4. 16\n",
       "5. 25\n",
       "6. 36\n",
       "7. 49\n",
       "8. 64\n",
       "9. 81\n",
       "10. 100\n",
       "\n",
       "\n"
      ],
      "text/plain": [
       "[[1]]\n",
       "[1] 1\n",
       "\n",
       "[[2]]\n",
       "[1] 4\n",
       "\n",
       "[[3]]\n",
       "[1] 9\n",
       "\n",
       "[[4]]\n",
       "[1] 16\n",
       "\n",
       "[[5]]\n",
       "[1] 25\n",
       "\n",
       "[[6]]\n",
       "[1] 36\n",
       "\n",
       "[[7]]\n",
       "[1] 49\n",
       "\n",
       "[[8]]\n",
       "[1] 64\n",
       "\n",
       "[[9]]\n",
       "[1] 81\n",
       "\n",
       "[[10]]\n",
       "[1] 100\n"
      ]
     },
     "execution_count": 4,
     "metadata": {},
     "output_type": "execute_result"
    }
   ],
   "source": [
    "results = mclapply(inputs, processInput, mc.cores = numCores)  ; results"
   ]
  },
  {
   "cell_type": "code",
   "execution_count": 5,
   "metadata": {
    "collapsed": true
   },
   "outputs": [],
   "source": [
    "# For Windwos OS only\n",
    "# the above won't work on Windows, but this will:\n",
    "cl <- makeCluster(numCores)  \n",
    "results = parLapply(cl, inputs, processInput)  \n",
    "stopCluster(cl) "
   ]
  },
  {
   "cell_type": "markdown",
   "metadata": {},
   "source": [
    "Difference between mclapply and parLapply can be found on this [StackOverflow post](http://stackoverflow.com/questions/17196261/understanding-the-differences-between-mclapply-and-parlapply-in-r)\n",
    "\n",
    "As an alternative, we can also use the [foreach package](http://cran.r-project.org/web/packages/foreach/vignettes/foreach.pdf), which lets us use a familiar for loop syntax, automatically parallelizing your code under the hood:"
   ]
  },
  {
   "cell_type": "code",
   "execution_count": 6,
   "metadata": {
    "collapsed": false
   },
   "outputs": [
    {
     "name": "stderr",
     "output_type": "stream",
     "text": [
      "Loading required package: iterators\n"
     ]
    }
   ],
   "source": [
    "library(foreach)  \n",
    "library(doParallel)  \n",
    "library(parallel)\n",
    "\n",
    "numCores <- detectCores()  \n",
    "cl <- makeCluster(numCores)  \n",
    "registerDoParallel(cl)\n",
    "\n",
    "inputs <- 1:10  \n",
    "processInput <- function(i) {  \n",
    "  i * i\n",
    "}\n",
    "\n",
    "results <- foreach(i=inputs) %dopar% {  \n",
    "  processInput(i)\n",
    "}"
   ]
  },
  {
   "cell_type": "code",
   "execution_count": null,
   "metadata": {
    "collapsed": true
   },
   "outputs": [],
   "source": []
  }
 ],
 "metadata": {
  "kernelspec": {
   "display_name": "R",
   "language": "R",
   "name": "ir"
  },
  "language_info": {
   "codemirror_mode": "r",
   "file_extension": ".r",
   "mimetype": "text/x-r-source",
   "name": "R",
   "pygments_lexer": "r",
   "version": "3.2.4"
  },
  "widgets": {
   "state": {},
   "version": "1.1.1"
  }
 },
 "nbformat": 4,
 "nbformat_minor": 0
}
