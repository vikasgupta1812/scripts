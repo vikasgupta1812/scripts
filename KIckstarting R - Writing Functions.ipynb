{
 "cells": [
  {
   "cell_type": "markdown",
   "metadata": {},
   "source": [
    "Source - https://cran.r-project.org/doc/contrib/Lemon-kickstart/kr_rfunc.html\n",
    "\n",
    "\n",
    "A function is formally a part of a computer program that performs some specific action, but is not itself a complete executable program. Functions may perform the same things that complete programs do, such as the `sort()` function in R and a sort program that you might write and compile in `C`. `R` has a large number of functions built in, and the user can create their own functions, either by assembling them from existing R functions or writing them in a language like `C` for which there is an interface to `R`. In `R`, a function is an `object` which has the `mode` function. This means that the `R` interpreter is able to **pass control** to the function, along with arguments that may be necessary for the function to accomplish the actions that are desired. The function in turn must correctly perform its task and return control to the interpreter as well as any results which may be stored in other objects."
   ]
  },
  {
   "cell_type": "code",
   "execution_count": 1,
   "metadata": {
    "collapsed": true
   },
   "outputs": [],
   "source": [
    "rm(list = ls())"
   ]
  },
  {
   "cell_type": "code",
   "execution_count": 1,
   "metadata": {
    "collapsed": false
   },
   "outputs": [
    {
     "name": "stdout",
     "output_type": "stream",
     "text": [
      "Hello, world!\n"
     ]
    }
   ],
   "source": [
    "hello <- function() cat(\"Hello, world!\\n\")\n",
    "hello()"
   ]
  },
  {
   "cell_type": "code",
   "execution_count": 2,
   "metadata": {
    "collapsed": true
   },
   "outputs": [],
   "source": [
    "hello <- function() {\n",
    "    cat(paste(\"Hello, \", system(\"whoami\", T), \"!\\n\", sep = \"\", collapse = \"\"))\n",
    "}"
   ]
  },
  {
   "cell_type": "code",
   "execution_count": 3,
   "metadata": {
    "collapsed": false
   },
   "outputs": [
    {
     "name": "stdout",
     "output_type": "stream",
     "text": [
      "Hello, vikas!\n"
     ]
    }
   ],
   "source": [
    "hello()"
   ]
  },
  {
   "cell_type": "markdown",
   "metadata": {},
   "source": [
    "`system()` is a useful function that passes a command to the operating system. I have assumed a `*NIX` system here, which when given the command `whoami` returns the username of the user issuing the command. The `T` after the command tells `system()` to return its output, not just the return code, as it would normally return `0`. Also notice that because the `T` is in the place that `system()` expects it to be, we could leave out the label (\"intern\") for that argument. \n",
    "\n",
    "`paste()` sticks strings together. Without it, `cat()` would have printed a space between each argument, making the greeting a bit messy. Here, it has taken three arguments, separated them with nothing, and collapsed them into a single string.\n",
    "\n",
    "Here's how to get today's date from a UNIX operating system."
   ]
  },
  {
   "cell_type": "code",
   "execution_count": 9,
   "metadata": {
    "collapsed": true
   },
   "outputs": [],
   "source": [
    "hello <- function() {\n",
    "    cat(paste(\"Hello, \", system(\"whoami\", T), \"!\\n\", sep = \"\", collapse = \"\"))\n",
    "    today <- as.list(unlist(strsplit(system(\"date\", T), \" \")))\n",
    "    names(today) <- c(\"weekday\", \"month\", \"day\", \"time\", \"timezone\", \"year\")\n",
    "    return(today)\n",
    "}"
   ]
  },
  {
   "cell_type": "code",
   "execution_count": 10,
   "metadata": {
    "collapsed": false
   },
   "outputs": [
    {
     "name": "stdout",
     "output_type": "stream",
     "text": [
      "Hello, vikas!\n"
     ]
    },
    {
     "data": {
      "text/html": [
       "<dl>\n",
       "\t<dt>$weekday</dt>\n",
       "\t\t<dd>'Tue'</dd>\n",
       "\t<dt>$month</dt>\n",
       "\t\t<dd>'May'</dd>\n",
       "\t<dt>$day</dt>\n",
       "\t\t<dd>'31'</dd>\n",
       "\t<dt>$time</dt>\n",
       "\t\t<dd>'01:14:46'</dd>\n",
       "\t<dt>$timezone</dt>\n",
       "\t\t<dd>'EDT'</dd>\n",
       "\t<dt>$year</dt>\n",
       "\t\t<dd>'2016'</dd>\n",
       "</dl>\n"
      ],
      "text/latex": [
       "\\begin{description}\n",
       "\\item[\\$weekday] 'Tue'\n",
       "\\item[\\$month] 'May'\n",
       "\\item[\\$day] '31'\n",
       "\\item[\\$time] '01:14:46'\n",
       "\\item[\\$timezone] 'EDT'\n",
       "\\item[\\$year] '2016'\n",
       "\\end{description}\n"
      ],
      "text/markdown": [
       "$weekday\n",
       ":   'Tue'\n",
       "$month\n",
       ":   'May'\n",
       "$day\n",
       ":   '31'\n",
       "$time\n",
       ":   '01:14:46'\n",
       "$timezone\n",
       ":   'EDT'\n",
       "$year\n",
       ":   '2016'\n",
       "\n",
       "\n"
      ],
      "text/plain": [
       "$weekday\n",
       "[1] \"Tue\"\n",
       "\n",
       "$month\n",
       "[1] \"May\"\n",
       "\n",
       "$day\n",
       "[1] \"31\"\n",
       "\n",
       "$time\n",
       "[1] \"01:14:46\"\n",
       "\n",
       "$timezone\n",
       "[1] \"EDT\"\n",
       "\n",
       "$year\n",
       "[1] \"2016\"\n"
      ]
     },
     "execution_count": 10,
     "metadata": {},
     "output_type": "execute_result"
    }
   ],
   "source": [
    "hello()"
   ]
  },
  {
   "cell_type": "markdown",
   "metadata": {},
   "source": [
    "`strsplit` is a useful function that breaks strings into smaller pieces at the points where the character(s) in the second argument occur. Here, we've just used a space. This breaks the usual date string into six pieces. However, the pieces are stored as a vector in a list. What we want to do is get the vector out of the list using `unlist` (we also could have used `strsplit(system(\"date\",\"T\"),\" \")[[1]]` which would have \"extracted\" the vector from the list), then make the vector into a list again, but this time with each element of the vector becoming an element in the list. This allows us to assign names to the elements. Because these six pieces are in a fixed order in most UNIX systems, we can assign names to each piece.\n",
    "\n",
    "If we were to create the hello function and assign its value to today (and, no, this will not interfere with the today inside the function), we have a useful object that will provide quotidian information."
   ]
  },
  {
   "cell_type": "code",
   "execution_count": 11,
   "metadata": {
    "collapsed": false
   },
   "outputs": [
    {
     "name": "stdout",
     "output_type": "stream",
     "text": [
      "Hello, vikas!\n"
     ]
    }
   ],
   "source": [
    "today <- hello()"
   ]
  },
  {
   "cell_type": "code",
   "execution_count": 12,
   "metadata": {
    "collapsed": false
   },
   "outputs": [
    {
     "data": {
      "text/html": [
       "'2016'"
      ],
      "text/latex": [
       "'2016'"
      ],
      "text/markdown": [
       "'2016'"
      ],
      "text/plain": [
       "[1] \"2016\""
      ]
     },
     "execution_count": 12,
     "metadata": {},
     "output_type": "execute_result"
    }
   ],
   "source": [
    "today$year"
   ]
  },
  {
   "cell_type": "code",
   "execution_count": null,
   "metadata": {
    "collapsed": true
   },
   "outputs": [],
   "source": []
  }
 ],
 "metadata": {
  "kernelspec": {
   "display_name": "R",
   "language": "R",
   "name": "ir"
  },
  "language_info": {
   "codemirror_mode": "r",
   "file_extension": ".r",
   "mimetype": "text/x-r-source",
   "name": "R",
   "pygments_lexer": "r",
   "version": "3.2.4"
  },
  "widgets": {
   "state": {},
   "version": "1.1.1"
  }
 },
 "nbformat": 4,
 "nbformat_minor": 0
}
