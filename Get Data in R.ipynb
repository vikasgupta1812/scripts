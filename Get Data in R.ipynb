{
 "cells": [
  {
   "cell_type": "code",
   "execution_count": 37,
   "metadata": {
    "collapsed": false
   },
   "outputs": [],
   "source": [
    "library(sqldf)\n",
    "\n",
    "if(!file.exists(\"./data/acs.csv\")) {\n",
    "    fileUrl <- \"https://d396qusza40orc.cloudfront.net/getdata%2Fdata%2Fss06pid.csv\"\n",
    "    download.file(fileUrl, destfile = \"./data/acs.csv\", method = \"curl\")\n",
    "    dateDownloaded <- date()\n",
    "}\n",
    "acs <- read.table(\"./data/acs.csv\",sep=\",\",header=TRUE)"
   ]
  },
  {
   "cell_type": "code",
   "execution_count": 38,
   "metadata": {
    "collapsed": false
   },
   "outputs": [
    {
     "data": {
      "text/html": [
       "<ol class=list-inline>\n",
       "\t<li>14931</li>\n",
       "\t<li>239</li>\n",
       "</ol>\n"
      ],
      "text/latex": [
       "\\begin{enumerate*}\n",
       "\\item 14931\n",
       "\\item 239\n",
       "\\end{enumerate*}\n"
      ],
      "text/markdown": [
       "1. 14931\n",
       "2. 239\n",
       "\n",
       "\n"
      ],
      "text/plain": [
       "[1] 14931   239"
      ]
     },
     "execution_count": 38,
     "metadata": {},
     "output_type": "execute_result"
    },
    {
     "data": {
      "text/html": [
       "<table>\n",
       "<thead><tr><th></th><th scope=col>RT</th><th scope=col>SERIALNO</th><th scope=col>SPORDER</th><th scope=col>PUMA</th><th scope=col>ST</th><th scope=col>ADJUST</th><th scope=col>PWGTP</th><th scope=col>AGEP</th><th scope=col>CIT</th><th scope=col>COW</th><th scope=col>ellip.h</th><th scope=col>pwgtp71</th><th scope=col>pwgtp72</th><th scope=col>pwgtp73</th><th scope=col>pwgtp74</th><th scope=col>pwgtp75</th><th scope=col>pwgtp76</th><th scope=col>pwgtp77</th><th scope=col>pwgtp78</th><th scope=col>pwgtp79</th><th scope=col>pwgtp80</th></tr></thead>\n",
       "<tbody>\n",
       "\t<tr><th scope=row>1</th><td>P</td><td>186</td><td>1</td><td>700</td><td>16</td><td>1015675</td><td>89</td><td>43</td><td>1</td><td>7</td><td><e2><8b><af></td><td>82</td><td>27</td><td>92</td><td>150</td><td>28</td><td>78</td><td>25</td><td>99</td><td>159</td><td>129</td></tr>\n",
       "\t<tr><th scope=row>2</th><td>P</td><td>186</td><td>2</td><td>700</td><td>16</td><td>1015675</td><td>92</td><td>42</td><td>1</td><td>4</td><td><e2><8b><af></td><td>84</td><td>26</td><td>90</td><td>159</td><td>30</td><td>87</td><td>27</td><td>98</td><td>167</td><td>131</td></tr>\n",
       "\t<tr><th scope=row>3</th><td>P</td><td>186</td><td>3</td><td>700</td><td>16</td><td>1015675</td><td>107</td><td>16</td><td>1</td><td>1</td><td><e2><8b><af></td><td>90</td><td>28</td><td>92</td><td>177</td><td>33</td><td>105</td><td>30</td><td>104</td><td>206</td><td>156</td></tr>\n",
       "\t<tr><th scope=row>4</th><td>P</td><td>186</td><td>4</td><td>700</td><td>16</td><td>1015675</td><td>91</td><td>14</td><td>1</td><td>NA</td><td><e2><8b><af></td><td>81</td><td>28</td><td>94</td><td>164</td><td>29</td><td>88</td><td>27</td><td>104</td><td>156</td><td>138</td></tr>\n",
       "\t<tr><th scope=row>5</th><td>P</td><td>306</td><td>1</td><td>700</td><td>16</td><td>1015675</td><td>309</td><td>29</td><td>1</td><td>5</td><td><e2><8b><af></td><td>294</td><td>400</td><td>80</td><td>489</td><td>340</td><td>491</td><td>612</td><td>282</td><td>462</td><td>259</td></tr>\n",
       "\t<tr><th scope=row>6</th><td>P</td><td>395</td><td>1</td><td>100</td><td>16</td><td>1015675</td><td>108</td><td>40</td><td>1</td><td>8</td><td><e2><8b><af></td><td>123</td><td>119</td><td>171</td><td>108</td><td>97</td><td>104</td><td>31</td><td>127</td><td>108</td><td>31</td></tr>\n",
       "</tbody>\n",
       "</table>\n"
      ],
      "text/latex": [
       "\\begin{tabular}{r|lllllllllllllllllllllllllllllllllllllllllllllllllllllllllllllllllllllllllllllllllllllllllllllllllllllllllllllllllllllllllllllllllllllllllllllllllllllllllllllllllllllllllllllllllllllllllllllllllllllllllllllllllllllllllllllllllllllllllllllll}\n",
       "  & RT & SERIALNO & SPORDER & PUMA & ST & ADJUST & PWGTP & AGEP & CIT & COW & ellip.h & pwgtp71 & pwgtp72 & pwgtp73 & pwgtp74 & pwgtp75 & pwgtp76 & pwgtp77 & pwgtp78 & pwgtp79 & pwgtp80\\\\\n",
       "\\hline\n",
       "\t1 & P & 186 & 1 & 700 & 16 & 1015675 & 89 & 43 & 1 & 7 & <e2><8b><af> & 82 & 27 & 92 & 150 & 28 & 78 & 25 & 99 & 159 & 129\\\\\n",
       "\t2 & P & 186 & 2 & 700 & 16 & 1015675 & 92 & 42 & 1 & 4 & <e2><8b><af> & 84 & 26 & 90 & 159 & 30 & 87 & 27 & 98 & 167 & 131\\\\\n",
       "\t3 & P & 186 & 3 & 700 & 16 & 1015675 & 107 & 16 & 1 & 1 & <e2><8b><af> & 90 & 28 & 92 & 177 & 33 & 105 & 30 & 104 & 206 & 156\\\\\n",
       "\t4 & P & 186 & 4 & 700 & 16 & 1015675 & 91 & 14 & 1 & NA & <e2><8b><af> & 81 & 28 & 94 & 164 & 29 & 88 & 27 & 104 & 156 & 138\\\\\n",
       "\t5 & P & 306 & 1 & 700 & 16 & 1015675 & 309 & 29 & 1 & 5 & <e2><8b><af> & 294 & 400 & 80 & 489 & 340 & 491 & 612 & 282 & 462 & 259\\\\\n",
       "\t6 & P & 395 & 1 & 100 & 16 & 1015675 & 108 & 40 & 1 & 8 & <e2><8b><af> & 123 & 119 & 171 & 108 & 97 & 104 & 31 & 127 & 108 & 31\\\\\n",
       "\\end{tabular}\n"
      ],
      "text/plain": [
       "  RT SERIALNO SPORDER PUMA ST  ADJUST PWGTP AGEP CIT COW DDRS DEYE DOUT DPHY\n",
       "1  P      186       1  700 16 1015675    89   43   1   7    2    2    2    2\n",
       "2  P      186       2  700 16 1015675    92   42   1   4    2    2    2    2\n",
       "3  P      186       3  700 16 1015675   107   16   1   1    2    2    2    2\n",
       "4  P      186       4  700 16 1015675    91   14   1  NA    2    2   NA    2\n",
       "5  P      306       1  700 16 1015675   309   29   1   5    2    2    2    2\n",
       "6  P      395       1  100 16 1015675   108   40   1   8    2    2    2    2\n",
       "  DREM DWRK ENG FER GCL GCM GCR INTP JWMNP JWRIP JWTR LANX MAR MIG MIL MILY\n",
       "1    2    2  NA  NA   2  NA  NA    0    15     1    1    2   1   1   3    2\n",
       "2    2    2  NA   2   2  NA  NA    0    NA    NA   NA    2   1   1   5   NA\n",
       "3    2    2  NA  NA  NA  NA  NA    0     5     1    1    2   5   1  NA   NA\n",
       "4    2   NA  NA  NA  NA  NA  NA   NA    NA    NA   NA    2   5   1  NA   NA\n",
       "5    2    2  NA  NA  NA  NA  NA    0    50     8    1    2   5   1   2    2\n",
       "6    2    2  NA   2   2  NA  NA    0     8     1    1    2   5   2   5   NA\n",
       "  MLPA MLPB MLPC MLPD MLPE MLPF MLPG MLPH MLPI MLPJ MLPK NWAB NWAV NWLA NWLK\n",
       "1    0    0    1    0    0    0    0    0    0    0    0    3    5    3    3\n",
       "2   NA   NA   NA   NA   NA   NA   NA   NA   NA   NA   NA    2    5    2    2\n",
       "3   NA   NA   NA   NA   NA   NA   NA   NA   NA   NA   NA    3    5    3    3\n",
       "4   NA   NA   NA   NA   NA   NA   NA   NA   NA   NA   NA   NA   NA   NA   NA\n",
       "5    1    0    0    0    0    0    0    0    0    0    0    3    5    3    3\n",
       "6   NA   NA   NA   NA   NA   NA   NA   NA   NA   NA   NA    2    5    2    2\n",
       "  NWRE OIP PAP REL RETP SCH SCHG SCHL  SEMP SEX SSIP SSP  WAGP WKHP WKL WKW\n",
       "1    3   0   0   0    0   1   NA   10 50000   1    0   0 50000   50   1  52\n",
       "2    3   0   0   1    0   1   NA    9     0   2    0   0   800    4   1  20\n",
       "3    3   0   0   2    0   3    5    7     0   1    0   0  4800   20   1  52\n",
       "4   NA  NA  NA   2   NA   3    4    4    NA   2   NA  NA    NA   NA  NA  NA\n",
       "5    3   0   0   0    0   1   NA   12     0   1    0   0 34000   50   1  52\n",
       "6    2   0   0   0    0   1   NA   13     0   2    0   0  9000   50   1  52\n",
       "  YOEP UWRK ANC ANC1P ANC2P DECADE DRIVESP DS ESP ESR HISP INDP JWAP JWDP LANP\n",
       "1   NA    1   2   920   148     NA       1  2  NA   1    1 7690   88   46   NA\n",
       "2   NA    2   1   920   999     NA      NA  2  NA   6    1 7870   NA   NA   NA\n",
       "3   NA    1   2   920   148     NA       1  2   2   1    1 8680  200  119   NA\n",
       "4   NA   NA   1   920   999     NA      NA  2   2  NA    1   NA   NA   NA   NA\n",
       "5   NA    1   2   902   920     NA       6  2  NA   1    1 9590   72   23   NA\n",
       "6   NA    1   2    82    22     NA       1  2  NA   1    1 5370  101   61   NA\n",
       "  MIGPUMA MIGSP MSP NAICSP NATIVITY NOP OC OCCP PAOC  PERNP  PINCP POBP POVPIP\n",
       "1      NA    NA   1  5617Z        1  NA  0 4200   NA 100000 100000   53    501\n",
       "2      NA    NA   1  611M1        1  NA  0 2340    2    800    800   41    501\n",
       "3      NA    NA   6   722Z        1   1  1 4020   NA   4800   4800   16    501\n",
       "4      NA    NA  NA               1   1  1   NA   NA     NA     NA   41    501\n",
       "5      NA    NA   6   928P        1  NA  0 7140   NA  34000  34000   36    333\n",
       "6       1   215   6  45121        1  NA  0 4700    2   9000   9000   16     68\n",
       "  POWPUMA POWSP QTRBIR RAC1P RAC2P RAC3P RACAIAN RACASN RACBLK RACNHPI RACNUM\n",
       "1     600    16      3     1     1    69       0      0      0       0      1\n",
       "2      NA    NA      3     1     1    69       0      0      0       0      1\n",
       "3     600    16      2     1     1    69       0      0      0       0      1\n",
       "4      NA    NA      4     1     1    69       0      0      0       0      1\n",
       "5     400    16      1     9    67    43       1      0      1       0      2\n",
       "6     100    16      1     1     1    69       0      0      0       0      1\n",
       "  RACSOR RACWHT RC SFN SFR   SOCP VPS WAOB FAGEP FANCP FCITP FCOWP FDDRSP\n",
       "1      0      1  0  NA  NA 371011   9    1     0     0     0     0      0\n",
       "2      0      1  0  NA  NA 253000  NA    1     0     0     0     0      0\n",
       "3      0      1  1  NA  NA 352010  NA    1     0     0     0     0      0\n",
       "4      0      1  1  NA  NA         NA    1     0     0     0     0      0\n",
       "5      0      0  0  NA  NA 493011   1    1     0     0     0     0      0\n",
       "6      0      1  0  NA  NA 411011  NA    1     0     0     0     0      0\n",
       "  FDEYEP FDOUTP FDPHYP FDREMP FDWRKP FENGP FESRP FFERP FGCLP FGCMP FGCRP FHISP\n",
       "1      0      0      0      0      0     0     0     0     0     0     0     0\n",
       "2      0      0      0      0      0     0     0     0     0     0     0     0\n",
       "3      0      0      0      0      0     0     0     0     0     0     0     0\n",
       "4      0      0      0      0      0     0     0     0     0     0     0     0\n",
       "5      0      0      0      0      0     0     0     0     0     0     0     0\n",
       "6      0      0      0      0      0     0     0     1     0     0     0     0\n",
       "  FINDP FINTP FJWDP FJWMNP FJWRIP FJWTRP FLANP FLANXP FMARP FMIGP FMIGSP FMILPP\n",
       "1     0     0     0      0      0      0     0      0     0     0      0      0\n",
       "2     0     0     0      0      0      0     0      0     0     0      0      0\n",
       "3     0     0     0      0      0      0     0      0     0     0      0      0\n",
       "4     0     0     0      0      0      0     0      0     0     0      0      0\n",
       "5     0     0     0      0      0      0     0      0     0     0      0      0\n",
       "6     0     0     0      0      0      0     0      0     0     0      1      0\n",
       "  FMILSP FMILYP FOCCP FOIP FPAP FPOBP FPOWSP FRACP FRELP FRETP FSCHGP FSCHLP\n",
       "1      0      0     0    0    0     0      0     0     0     0      0      0\n",
       "2      0      0     0    0    0     0      0     0     0     0      0      0\n",
       "3      0      0     0    0    0     0      0     0     0     0      0      0\n",
       "4      0      0     0    0    0     0      0     0     0     0      0      0\n",
       "5      0      0     0    0    0     0      0     0     0     0      0      0\n",
       "6      0      0     0    0    0     0      0     0     0     0      0      0\n",
       "  FSCHP FSEMP FSEXP FSSIP FSSP FWAGP FWKHP FWKLP FWKWP FYOEP pwgtp1 pwgtp2\n",
       "1     0     0     0     0    0     0     0     0     0     0     87     28\n",
       "2     0     0     0     0    0     1     0     0     1     0     88     30\n",
       "3     0     0     0     0    0     0     0     0     0     0     94     33\n",
       "4     0     0     0     0    0     0     0     0     0     0     91     28\n",
       "5     0     0     0     0    0     0     0     0     0     0    539    365\n",
       "6     0     0     0     0    0     0     0     0     0     0    192     34\n",
       "  pwgtp3 pwgtp4 pwgtp5 pwgtp6 pwgtp7 pwgtp8 pwgtp9 pwgtp10 pwgtp11 pwgtp12\n",
       "1    153     93     26     26     95     93     93      92      87     163\n",
       "2    167     96     27     25     95    100     99      90      91     164\n",
       "3    163    110     33     29    119    112    109     110     101     184\n",
       "4    161    100     28     26     98    106    106      98      88     162\n",
       "5    288    414    573    293     86    245    450     456     334     352\n",
       "6    191    177     84     96     31     33    180     118     111     115\n",
       "  pwgtp13 pwgtp14 pwgtp15 pwgtp16 pwgtp17 pwgtp18 pwgtp19 pwgtp20 pwgtp21\n",
       "1      91      25     153      89     149      83      25     180      89\n",
       "2      92      26     155      95     154      86      24     190      89\n",
       "3     103      32     190     116     178      95      29     219     104\n",
       "4      90      26     164     103     149      90      24     190      93\n",
       "5     417     103     283     100     108     282     129     408     442\n",
       "6     188     109      98     118      33     120     123      37     185\n",
       "  pwgtp22 pwgtp23 pwgtp24 pwgtp25 pwgtp26 pwgtp27 pwgtp28 pwgtp29 pwgtp30\n",
       "1      23     139      91      24      26      87      82      86      90\n",
       "2      25     142      96      26      30      88      85      92     100\n",
       "3      29     182     118      32      35     106      98      97     104\n",
       "4      25     145      95      25      27      88      82      90      90\n",
       "5     261     349     237     383     333     124     367     481     458\n",
       "6      36     178     179     110     105      30      29     200     130\n",
       "  pwgtp31 pwgtp32 pwgtp33 pwgtp34 pwgtp35 pwgtp36 pwgtp37 pwgtp38 pwgtp39\n",
       "1      90     151      91      28     144      81     146      95      27\n",
       "2      94     154      91      29     154      88     151      96      27\n",
       "3     105     191     107      35     176     101     168     112      34\n",
       "4      93     157      86      26     146      80     144      93      27\n",
       "5     336     255     614     102     284     117      93     327     102\n",
       "6      92     120     178     101     100     109      34      99     108\n",
       "  pwgtp40 pwgtp41 pwgtp42 pwgtp43 pwgtp44 pwgtp45 pwgtp46 pwgtp47 pwgtp48\n",
       "1      22      89     173      27      84     153     149      93      89\n",
       "2      25      93     163      29      83     156     153      96      90\n",
       "3      28     100     184      38     109     192     174     125     113\n",
       "4      23      92     160      28      85     156     148      96      99\n",
       "5     356     106     256     326     290      96     346     571     268\n",
       "6      33     176      36     172     175      99     103      31      37\n",
       "  pwgtp49 pwgtp50 pwgtp51 pwgtp52 pwgtp53 pwgtp54 pwgtp55 pwgtp56 pwgtp57\n",
       "1      91      92      90      27      91     139      25      91      29\n",
       "2      91      98      93      27      98     150      28      96      30\n",
       "3      95     107     103      35     104     164      33     110      34\n",
       "4      90      97      93      27     100     151      26      93      30\n",
       "5     117     118     320     263     128     453     298     480     393\n",
       "6     160     104      97     111     190     121     115     114      36\n",
       "  pwgtp58 pwgtp59 pwgtp60 pwgtp61 pwgtp62 pwgtp63 pwgtp64 pwgtp65 pwgtp66\n",
       "1      84     149      30      94     140      24      90     147     148\n",
       "2      85     152      30      98     144      24      92     161     163\n",
       "3      97     188      40     110     176      34     113     190     186\n",
       "4      87     144      33     101     152      23      95     148     149\n",
       "5     307     480     282     117     347     323     377     106     239\n",
       "6     114     104      29     189      35     180     172      96     112\n",
       "  pwgtp67 pwgtp68 pwgtp69 pwgtp70 pwgtp71 pwgtp72 pwgtp73 pwgtp74 pwgtp75\n",
       "1      93      82      84      87      82      27      92     150      28\n",
       "2      97      88      89      93      84      26      90     159      30\n",
       "3     107      99     101     109      90      28      92     177      33\n",
       "4      92      86      84      87      81      28      94     164      29\n",
       "5     386     309      90      96     294     400      80     489     340\n",
       "6      28      35     237      97     123     119     171     108      97\n",
       "  pwgtp76 pwgtp77 pwgtp78 pwgtp79 pwgtp80\n",
       "1      78      25      99     159     129\n",
       "2      87      27      98     167     131\n",
       "3     105      30     104     206     156\n",
       "4      88      27     104     156     138\n",
       "5     491     612     282     462     259\n",
       "6     104      31     127     108      31"
      ]
     },
     "execution_count": 38,
     "metadata": {},
     "output_type": "execute_result"
    }
   ],
   "source": [
    "dim(acs)\n",
    "head(acs)"
   ]
  },
  {
   "cell_type": "code",
   "execution_count": 39,
   "metadata": {
    "collapsed": false
   },
   "outputs": [
    {
     "data": {
      "text/html": [
       "<table>\n",
       "<thead><tr><th></th><th scope=col>count(*)</th></tr></thead>\n",
       "<tbody>\n",
       "\t<tr><th scope=row>1</th><td>10093</td></tr>\n",
       "</tbody>\n",
       "</table>\n"
      ],
      "text/latex": [
       "\\begin{tabular}{r|l}\n",
       "  & count(*)\\\\\n",
       "\\hline\n",
       "\t1 & 10093\\\\\n",
       "\\end{tabular}\n"
      ],
      "text/plain": [
       "  count(*)\n",
       "1    10093"
      ]
     },
     "execution_count": 39,
     "metadata": {},
     "output_type": "execute_result"
    }
   ],
   "source": [
    "sqldf(\"select count(*) from acs where AGEP < 50 and pwgtp1\")"
   ]
  },
  {
   "cell_type": "code",
   "execution_count": 40,
   "metadata": {
    "collapsed": false
   },
   "outputs": [
    {
     "data": {
      "text/html": [
       "<ol class=list-inline>\n",
       "\t<li>43</li>\n",
       "\t<li>42</li>\n",
       "\t<li>16</li>\n",
       "\t<li>14</li>\n",
       "\t<li>29</li>\n",
       "\t<li>40</li>\n",
       "\t<li>15</li>\n",
       "\t<li>28</li>\n",
       "\t<li>30</li>\n",
       "\t<li>4</li>\n",
       "\t<li>1</li>\n",
       "\t<li>18</li>\n",
       "\t<li>37</li>\n",
       "\t<li>39</li>\n",
       "\t<li>3</li>\n",
       "\t<li>87</li>\n",
       "\t<li>70</li>\n",
       "\t<li>49</li>\n",
       "\t<li>45</li>\n",
       "\t<li>50</li>\n",
       "\t<li>60</li>\n",
       "\t<li>59</li>\n",
       "\t<li>61</li>\n",
       "\t<li>64</li>\n",
       "\t<li>35</li>\n",
       "\t<li>12</li>\n",
       "\t<li>19</li>\n",
       "\t<li>31</li>\n",
       "\t<li>9</li>\n",
       "\t<li>0</li>\n",
       "\t<li>33</li>\n",
       "\t<li>32</li>\n",
       "\t<li>20</li>\n",
       "\t<li>88</li>\n",
       "\t<li>53</li>\n",
       "\t<li>58</li>\n",
       "\t<li>69</li>\n",
       "\t<li>68</li>\n",
       "\t<li>48</li>\n",
       "\t<li>24</li>\n",
       "\t<li>27</li>\n",
       "\t<li>74</li>\n",
       "\t<li>56</li>\n",
       "\t<li>75</li>\n",
       "\t<li>17</li>\n",
       "\t<li>38</li>\n",
       "\t<li>55</li>\n",
       "\t<li>26</li>\n",
       "\t<li>23</li>\n",
       "\t<li>86</li>\n",
       "\t<li>81</li>\n",
       "\t<li>77</li>\n",
       "\t<li>7</li>\n",
       "\t<li>51</li>\n",
       "\t<li>13</li>\n",
       "\t<li>11</li>\n",
       "\t<li>82</li>\n",
       "\t<li>47</li>\n",
       "\t<li>46</li>\n",
       "\t<li>80</li>\n",
       "\t<li>21</li>\n",
       "\t<li>54</li>\n",
       "\t<li>78</li>\n",
       "\t<li>67</li>\n",
       "\t<li>22</li>\n",
       "\t<li>2</li>\n",
       "\t<li>76</li>\n",
       "\t<li>6</li>\n",
       "\t<li>71</li>\n",
       "\t<li>34</li>\n",
       "\t<li>10</li>\n",
       "\t<li>5</li>\n",
       "\t<li>65</li>\n",
       "\t<li>62</li>\n",
       "\t<li>63</li>\n",
       "\t<li>57</li>\n",
       "\t<li>52</li>\n",
       "\t<li>79</li>\n",
       "\t<li>83</li>\n",
       "\t<li>66</li>\n",
       "\t<li>25</li>\n",
       "\t<li>93</li>\n",
       "\t<li>8</li>\n",
       "\t<li>36</li>\n",
       "\t<li>41</li>\n",
       "\t<li>44</li>\n",
       "\t<li>84</li>\n",
       "\t<li>72</li>\n",
       "\t<li>73</li>\n",
       "\t<li>85</li>\n",
       "\t<li>89</li>\n",
       "</ol>\n"
      ],
      "text/latex": [
       "\\begin{enumerate*}\n",
       "\\item 43\n",
       "\\item 42\n",
       "\\item 16\n",
       "\\item 14\n",
       "\\item 29\n",
       "\\item 40\n",
       "\\item 15\n",
       "\\item 28\n",
       "\\item 30\n",
       "\\item 4\n",
       "\\item 1\n",
       "\\item 18\n",
       "\\item 37\n",
       "\\item 39\n",
       "\\item 3\n",
       "\\item 87\n",
       "\\item 70\n",
       "\\item 49\n",
       "\\item 45\n",
       "\\item 50\n",
       "\\item 60\n",
       "\\item 59\n",
       "\\item 61\n",
       "\\item 64\n",
       "\\item 35\n",
       "\\item 12\n",
       "\\item 19\n",
       "\\item 31\n",
       "\\item 9\n",
       "\\item 0\n",
       "\\item 33\n",
       "\\item 32\n",
       "\\item 20\n",
       "\\item 88\n",
       "\\item 53\n",
       "\\item 58\n",
       "\\item 69\n",
       "\\item 68\n",
       "\\item 48\n",
       "\\item 24\n",
       "\\item 27\n",
       "\\item 74\n",
       "\\item 56\n",
       "\\item 75\n",
       "\\item 17\n",
       "\\item 38\n",
       "\\item 55\n",
       "\\item 26\n",
       "\\item 23\n",
       "\\item 86\n",
       "\\item 81\n",
       "\\item 77\n",
       "\\item 7\n",
       "\\item 51\n",
       "\\item 13\n",
       "\\item 11\n",
       "\\item 82\n",
       "\\item 47\n",
       "\\item 46\n",
       "\\item 80\n",
       "\\item 21\n",
       "\\item 54\n",
       "\\item 78\n",
       "\\item 67\n",
       "\\item 22\n",
       "\\item 2\n",
       "\\item 76\n",
       "\\item 6\n",
       "\\item 71\n",
       "\\item 34\n",
       "\\item 10\n",
       "\\item 5\n",
       "\\item 65\n",
       "\\item 62\n",
       "\\item 63\n",
       "\\item 57\n",
       "\\item 52\n",
       "\\item 79\n",
       "\\item 83\n",
       "\\item 66\n",
       "\\item 25\n",
       "\\item 93\n",
       "\\item 8\n",
       "\\item 36\n",
       "\\item 41\n",
       "\\item 44\n",
       "\\item 84\n",
       "\\item 72\n",
       "\\item 73\n",
       "\\item 85\n",
       "\\item 89\n",
       "\\end{enumerate*}\n"
      ],
      "text/markdown": [
       "1. 43\n",
       "2. 42\n",
       "3. 16\n",
       "4. 14\n",
       "5. 29\n",
       "6. 40\n",
       "7. 15\n",
       "8. 28\n",
       "9. 30\n",
       "10. 4\n",
       "11. 1\n",
       "12. 18\n",
       "13. 37\n",
       "14. 39\n",
       "15. 3\n",
       "16. 87\n",
       "17. 70\n",
       "18. 49\n",
       "19. 45\n",
       "20. 50\n",
       "21. 60\n",
       "22. 59\n",
       "23. 61\n",
       "24. 64\n",
       "25. 35\n",
       "26. 12\n",
       "27. 19\n",
       "28. 31\n",
       "29. 9\n",
       "30. 0\n",
       "31. 33\n",
       "32. 32\n",
       "33. 20\n",
       "34. 88\n",
       "35. 53\n",
       "36. 58\n",
       "37. 69\n",
       "38. 68\n",
       "39. 48\n",
       "40. 24\n",
       "41. 27\n",
       "42. 74\n",
       "43. 56\n",
       "44. 75\n",
       "45. 17\n",
       "46. 38\n",
       "47. 55\n",
       "48. 26\n",
       "49. 23\n",
       "50. 86\n",
       "51. 81\n",
       "52. 77\n",
       "53. 7\n",
       "54. 51\n",
       "55. 13\n",
       "56. 11\n",
       "57. 82\n",
       "58. 47\n",
       "59. 46\n",
       "60. 80\n",
       "61. 21\n",
       "62. 54\n",
       "63. 78\n",
       "64. 67\n",
       "65. 22\n",
       "66. 2\n",
       "67. 76\n",
       "68. 6\n",
       "69. 71\n",
       "70. 34\n",
       "71. 10\n",
       "72. 5\n",
       "73. 65\n",
       "74. 62\n",
       "75. 63\n",
       "76. 57\n",
       "77. 52\n",
       "78. 79\n",
       "79. 83\n",
       "80. 66\n",
       "81. 25\n",
       "82. 93\n",
       "83. 8\n",
       "84. 36\n",
       "85. 41\n",
       "86. 44\n",
       "87. 84\n",
       "88. 72\n",
       "89. 73\n",
       "90. 85\n",
       "91. 89\n",
       "\n",
       "\n"
      ],
      "text/plain": [
       " [1] 43 42 16 14 29 40 15 28 30  4  1 18 37 39  3 87 70 49 45 50 60 59 61 64 35\n",
       "[26] 12 19 31  9  0 33 32 20 88 53 58 69 68 48 24 27 74 56 75 17 38 55 26 23 86\n",
       "[51] 81 77  7 51 13 11 82 47 46 80 21 54 78 67 22  2 76  6 71 34 10  5 65 62 63\n",
       "[76] 57 52 79 83 66 25 93  8 36 41 44 84 72 73 85 89"
      ]
     },
     "execution_count": 40,
     "metadata": {},
     "output_type": "execute_result"
    }
   ],
   "source": [
    "unique(acs$AGEP)"
   ]
  },
  {
   "cell_type": "code",
   "execution_count": 20,
   "metadata": {
    "collapsed": false,
    "scrolled": true
   },
   "outputs": [
    {
     "data": {
      "text/html": [
       "<table>\n",
       "<thead><tr><th></th><th scope=col>AGEP</th></tr></thead>\n",
       "<tbody>\n",
       "\t<tr><th scope=row>1</th><td>43</td></tr>\n",
       "\t<tr><th scope=row>2</th><td>42</td></tr>\n",
       "\t<tr><th scope=row>3</th><td>16</td></tr>\n",
       "\t<tr><th scope=row>4</th><td>14</td></tr>\n",
       "\t<tr><th scope=row>5</th><td>29</td></tr>\n",
       "\t<tr><th scope=row>6</th><td>40</td></tr>\n",
       "\t<tr><th scope=row>7</th><td>15</td></tr>\n",
       "\t<tr><th scope=row>8</th><td>28</td></tr>\n",
       "\t<tr><th scope=row>9</th><td>30</td></tr>\n",
       "\t<tr><th scope=row>10</th><td>4</td></tr>\n",
       "\t<tr><th scope=row>11</th><td>1</td></tr>\n",
       "\t<tr><th scope=row>12</th><td>18</td></tr>\n",
       "\t<tr><th scope=row>13</th><td>37</td></tr>\n",
       "\t<tr><th scope=row>14</th><td>39</td></tr>\n",
       "\t<tr><th scope=row>15</th><td>3</td></tr>\n",
       "\t<tr><th scope=row>16</th><td>87</td></tr>\n",
       "\t<tr><th scope=row>17</th><td>70</td></tr>\n",
       "\t<tr><th scope=row>18</th><td>49</td></tr>\n",
       "\t<tr><th scope=row>19</th><td>45</td></tr>\n",
       "\t<tr><th scope=row>20</th><td>50</td></tr>\n",
       "\t<tr><th scope=row>21</th><td>60</td></tr>\n",
       "\t<tr><th scope=row>22</th><td>59</td></tr>\n",
       "\t<tr><th scope=row>23</th><td>61</td></tr>\n",
       "\t<tr><th scope=row>24</th><td>64</td></tr>\n",
       "\t<tr><th scope=row>25</th><td>35</td></tr>\n",
       "\t<tr><th scope=row>26</th><td>12</td></tr>\n",
       "\t<tr><th scope=row>27</th><td>19</td></tr>\n",
       "\t<tr><th scope=row>28</th><td>31</td></tr>\n",
       "\t<tr><th scope=row>29</th><td>9</td></tr>\n",
       "\t<tr><th scope=row>30</th><td>0</td></tr>\n",
       "\t<tr><th scope=row>31</th><td><e2><8b><ae></td></tr>\n",
       "\t<tr><th scope=row>62</th><td>54</td></tr>\n",
       "\t<tr><th scope=row>63</th><td>78</td></tr>\n",
       "\t<tr><th scope=row>64</th><td>67</td></tr>\n",
       "\t<tr><th scope=row>65</th><td>22</td></tr>\n",
       "\t<tr><th scope=row>66</th><td>2</td></tr>\n",
       "\t<tr><th scope=row>67</th><td>76</td></tr>\n",
       "\t<tr><th scope=row>68</th><td>6</td></tr>\n",
       "\t<tr><th scope=row>69</th><td>71</td></tr>\n",
       "\t<tr><th scope=row>70</th><td>34</td></tr>\n",
       "\t<tr><th scope=row>71</th><td>10</td></tr>\n",
       "\t<tr><th scope=row>72</th><td>5</td></tr>\n",
       "\t<tr><th scope=row>73</th><td>65</td></tr>\n",
       "\t<tr><th scope=row>74</th><td>62</td></tr>\n",
       "\t<tr><th scope=row>75</th><td>63</td></tr>\n",
       "\t<tr><th scope=row>76</th><td>57</td></tr>\n",
       "\t<tr><th scope=row>77</th><td>52</td></tr>\n",
       "\t<tr><th scope=row>78</th><td>79</td></tr>\n",
       "\t<tr><th scope=row>79</th><td>83</td></tr>\n",
       "\t<tr><th scope=row>80</th><td>66</td></tr>\n",
       "\t<tr><th scope=row>81</th><td>25</td></tr>\n",
       "\t<tr><th scope=row>82</th><td>93</td></tr>\n",
       "\t<tr><th scope=row>83</th><td>8</td></tr>\n",
       "\t<tr><th scope=row>84</th><td>36</td></tr>\n",
       "\t<tr><th scope=row>85</th><td>41</td></tr>\n",
       "\t<tr><th scope=row>86</th><td>44</td></tr>\n",
       "\t<tr><th scope=row>87</th><td>84</td></tr>\n",
       "\t<tr><th scope=row>88</th><td>72</td></tr>\n",
       "\t<tr><th scope=row>89</th><td>73</td></tr>\n",
       "\t<tr><th scope=row>90</th><td>85</td></tr>\n",
       "\t<tr><th scope=row>91</th><td>89</td></tr>\n",
       "</tbody>\n",
       "</table>\n"
      ],
      "text/latex": [
       "\\begin{tabular}{r|l}\n",
       "  & AGEP\\\\\n",
       "\\hline\n",
       "\t1 & 43\\\\\n",
       "\t2 & 42\\\\\n",
       "\t3 & 16\\\\\n",
       "\t4 & 14\\\\\n",
       "\t5 & 29\\\\\n",
       "\t6 & 40\\\\\n",
       "\t7 & 15\\\\\n",
       "\t8 & 28\\\\\n",
       "\t9 & 30\\\\\n",
       "\t10 & 4\\\\\n",
       "\t11 & 1\\\\\n",
       "\t12 & 18\\\\\n",
       "\t13 & 37\\\\\n",
       "\t14 & 39\\\\\n",
       "\t15 & 3\\\\\n",
       "\t16 & 87\\\\\n",
       "\t17 & 70\\\\\n",
       "\t18 & 49\\\\\n",
       "\t19 & 45\\\\\n",
       "\t20 & 50\\\\\n",
       "\t21 & 60\\\\\n",
       "\t22 & 59\\\\\n",
       "\t23 & 61\\\\\n",
       "\t24 & 64\\\\\n",
       "\t25 & 35\\\\\n",
       "\t26 & 12\\\\\n",
       "\t27 & 19\\\\\n",
       "\t28 & 31\\\\\n",
       "\t29 & 9\\\\\n",
       "\t30 & 0\\\\\n",
       "\t31 & <e2><8b><ae>\\\\\n",
       "\t62 & 54\\\\\n",
       "\t63 & 78\\\\\n",
       "\t64 & 67\\\\\n",
       "\t65 & 22\\\\\n",
       "\t66 & 2\\\\\n",
       "\t67 & 76\\\\\n",
       "\t68 & 6\\\\\n",
       "\t69 & 71\\\\\n",
       "\t70 & 34\\\\\n",
       "\t71 & 10\\\\\n",
       "\t72 & 5\\\\\n",
       "\t73 & 65\\\\\n",
       "\t74 & 62\\\\\n",
       "\t75 & 63\\\\\n",
       "\t76 & 57\\\\\n",
       "\t77 & 52\\\\\n",
       "\t78 & 79\\\\\n",
       "\t79 & 83\\\\\n",
       "\t80 & 66\\\\\n",
       "\t81 & 25\\\\\n",
       "\t82 & 93\\\\\n",
       "\t83 & 8\\\\\n",
       "\t84 & 36\\\\\n",
       "\t85 & 41\\\\\n",
       "\t86 & 44\\\\\n",
       "\t87 & 84\\\\\n",
       "\t88 & 72\\\\\n",
       "\t89 & 73\\\\\n",
       "\t90 & 85\\\\\n",
       "\t91 & 89\\\\\n",
       "\\end{tabular}\n"
      ],
      "text/plain": [
       "   AGEP\n",
       "1    43\n",
       "2    42\n",
       "3    16\n",
       "4    14\n",
       "5    29\n",
       "6    40\n",
       "7    15\n",
       "8    28\n",
       "9    30\n",
       "10    4\n",
       "11    1\n",
       "12   18\n",
       "13   37\n",
       "14   39\n",
       "15    3\n",
       "16   87\n",
       "17   70\n",
       "18   49\n",
       "19   45\n",
       "20   50\n",
       "21   60\n",
       "22   59\n",
       "23   61\n",
       "24   64\n",
       "25   35\n",
       "26   12\n",
       "27   19\n",
       "28   31\n",
       "29    9\n",
       "30    0\n",
       "31   33\n",
       "32   32\n",
       "33   20\n",
       "34   88\n",
       "35   53\n",
       "36   58\n",
       "37   69\n",
       "38   68\n",
       "39   48\n",
       "40   24\n",
       "41   27\n",
       "42   74\n",
       "43   56\n",
       "44   75\n",
       "45   17\n",
       "46   38\n",
       "47   55\n",
       "48   26\n",
       "49   23\n",
       "50   86\n",
       "51   81\n",
       "52   77\n",
       "53    7\n",
       "54   51\n",
       "55   13\n",
       "56   11\n",
       "57   82\n",
       "58   47\n",
       "59   46\n",
       "60   80\n",
       "61   21\n",
       "62   54\n",
       "63   78\n",
       "64   67\n",
       "65   22\n",
       "66    2\n",
       "67   76\n",
       "68    6\n",
       "69   71\n",
       "70   34\n",
       "71   10\n",
       "72    5\n",
       "73   65\n",
       "74   62\n",
       "75   63\n",
       "76   57\n",
       "77   52\n",
       "78   79\n",
       "79   83\n",
       "80   66\n",
       "81   25\n",
       "82   93\n",
       "83    8\n",
       "84   36\n",
       "85   41\n",
       "86   44\n",
       "87   84\n",
       "88   72\n",
       "89   73\n",
       "90   85\n",
       "91   89"
      ]
     },
     "execution_count": 20,
     "metadata": {},
     "output_type": "execute_result"
    }
   ],
   "source": [
    "sqldf(\"select distinct AGEP from acs\")"
   ]
  },
  {
   "cell_type": "code",
   "execution_count": 43,
   "metadata": {
    "collapsed": false
   },
   "outputs": [
    {
     "data": {
      "text/html": [
       "<ol class=list-inline>\n",
       "</ol>\n"
      ],
      "text/latex": [
       "\\begin{enumerate*}\n",
       "\\end{enumerate*}\n"
      ],
      "text/markdown": [
       "\n",
       "\n"
      ],
      "text/plain": [
       "integer(0)"
      ]
     },
     "execution_count": 43,
     "metadata": {},
     "output_type": "execute_result"
    }
   ],
   "source": [
    "# households on greater than 10 acres who sold more than $10,000 worth of agriculture products\n",
    "# ACR=3 AND AGS=6\n",
    "agricultureLogical <- (acs$ACR==3 & acs$AGS==6)\n",
    "which(agricultureLogical)"
   ]
  },
  {
   "cell_type": "code",
   "execution_count": 44,
   "metadata": {
    "collapsed": false
   },
   "outputs": [
    {
     "data": {
      "text/html": [
       "'logical'"
      ],
      "text/latex": [
       "'logical'"
      ],
      "text/markdown": [
       "'logical'"
      ],
      "text/plain": [
       "[1] \"logical\""
      ]
     },
     "execution_count": 44,
     "metadata": {},
     "output_type": "execute_result"
    }
   ],
   "source": [
    "class(agricultureLogical)"
   ]
  },
  {
   "cell_type": "markdown",
   "metadata": {},
   "source": [
    "----"
   ]
  },
  {
   "cell_type": "code",
   "execution_count": 21,
   "metadata": {
    "collapsed": true
   },
   "outputs": [],
   "source": [
    "rm(list = ls())\n",
    "con=url(\"http://biostat.jhsph.edu/~jleek/contact.html\")\n",
    "htmlCode=readLines(con)"
   ]
  },
  {
   "cell_type": "code",
   "execution_count": 23,
   "metadata": {
    "collapsed": false
   },
   "outputs": [
    {
     "name": "stdout",
     "output_type": "stream",
     "text": [
      "[1] 45\n",
      "[1] 31\n",
      "[1] 7\n",
      "[1] 25\n"
     ]
    }
   ],
   "source": [
    "for (ind in c(10,20,30,100)){\n",
    "  print(nchar(htmlCode[ind]))\n",
    "}"
   ]
  },
  {
   "cell_type": "code",
   "execution_count": 31,
   "metadata": {
    "collapsed": true
   },
   "outputs": [],
   "source": [
    "library(foreign)\n",
    "if(!file.exists('./data/wks.xpt')) {\n",
    "    fileUrl <- \"https://d396qusza40orc.cloudfront.net/getdata%2Fwksst8110.for\"\n",
    "    download.file(fileUrl, destfile = \"./data/wks.xpt\", method = \"curl\")\n",
    "    dateDownloaded <- date()    \n",
    "}\n",
    "wksData<-read.fwf(\"./data/wks.xpt\",skip=4,widths=c(12, 7,4, 9,4, 9,4, 9,4))"
   ]
  },
  {
   "cell_type": "code",
   "execution_count": 32,
   "metadata": {
    "collapsed": false
   },
   "outputs": [
    {
     "data": {
      "text/html": [
       "<ol class=list-inline>\n",
       "\t<li>1254</li>\n",
       "\t<li>9</li>\n",
       "</ol>\n"
      ],
      "text/latex": [
       "\\begin{enumerate*}\n",
       "\\item 1254\n",
       "\\item 9\n",
       "\\end{enumerate*}\n"
      ],
      "text/markdown": [
       "1. 1254\n",
       "2. 9\n",
       "\n",
       "\n"
      ],
      "text/plain": [
       "[1] 1254    9"
      ]
     },
     "execution_count": 32,
     "metadata": {},
     "output_type": "execute_result"
    }
   ],
   "source": [
    "dim(wksData)"
   ]
  },
  {
   "cell_type": "code",
   "execution_count": 33,
   "metadata": {
    "collapsed": false
   },
   "outputs": [
    {
     "data": {
      "text/html": [
       "<table>\n",
       "<thead><tr><th></th><th scope=col>V1</th><th scope=col>V2</th><th scope=col>V3</th><th scope=col>V4</th><th scope=col>V5</th><th scope=col>V6</th><th scope=col>V7</th><th scope=col>V8</th><th scope=col>V9</th></tr></thead>\n",
       "<tbody>\n",
       "\t<tr><th scope=row>1</th><td> 03JAN1990  </td><td>23.4</td><td>-0.4</td><td>25.1</td><td>-0.3</td><td>26.6</td><td>0</td><td>28.6</td><td>0.3</td></tr>\n",
       "\t<tr><th scope=row>2</th><td> 10JAN1990  </td><td>23.4</td><td>-0.8</td><td>25.2</td><td>-0.3</td><td>26.6</td><td>0.1</td><td>28.6</td><td>0.3</td></tr>\n",
       "\t<tr><th scope=row>3</th><td> 17JAN1990  </td><td>24.2</td><td>-0.3</td><td>25.3</td><td>-0.3</td><td>26.5</td><td>-0.1</td><td>28.6</td><td>0.3</td></tr>\n",
       "\t<tr><th scope=row>4</th><td> 24JAN1990  </td><td>24.4</td><td>-0.5</td><td>25.5</td><td>-0.4</td><td>26.5</td><td>-0.1</td><td>28.4</td><td>0.2</td></tr>\n",
       "\t<tr><th scope=row>5</th><td> 31JAN1990  </td><td>25.1</td><td>-0.2</td><td>25.8</td><td>-0.2</td><td>26.7</td><td>0.1</td><td>28.4</td><td>0.2</td></tr>\n",
       "\t<tr><th scope=row>6</th><td> 07FEB1990  </td><td>25.8</td><td>0.2</td><td>26.1</td><td>-0.1</td><td>26.8</td><td>0.1</td><td>28.4</td><td>0.3</td></tr>\n",
       "</tbody>\n",
       "</table>\n"
      ],
      "text/latex": [
       "\\begin{tabular}{r|lllllllll}\n",
       "  & V1 & V2 & V3 & V4 & V5 & V6 & V7 & V8 & V9\\\\\n",
       "\\hline\n",
       "\t1 &  03JAN1990   & 23.4 & -0.4 & 25.1 & -0.3 & 26.6 & 0 & 28.6 & 0.3\\\\\n",
       "\t2 &  10JAN1990   & 23.4 & -0.8 & 25.2 & -0.3 & 26.6 & 0.1 & 28.6 & 0.3\\\\\n",
       "\t3 &  17JAN1990   & 24.2 & -0.3 & 25.3 & -0.3 & 26.5 & -0.1 & 28.6 & 0.3\\\\\n",
       "\t4 &  24JAN1990   & 24.4 & -0.5 & 25.5 & -0.4 & 26.5 & -0.1 & 28.4 & 0.2\\\\\n",
       "\t5 &  31JAN1990   & 25.1 & -0.2 & 25.8 & -0.2 & 26.7 & 0.1 & 28.4 & 0.2\\\\\n",
       "\t6 &  07FEB1990   & 25.8 & 0.2 & 26.1 & -0.1 & 26.8 & 0.1 & 28.4 & 0.3\\\\\n",
       "\\end{tabular}\n"
      ],
      "text/plain": [
       "            V1   V2   V3   V4   V5   V6   V7   V8  V9\n",
       "1  03JAN1990   23.4 -0.4 25.1 -0.3 26.6  0.0 28.6 0.3\n",
       "2  10JAN1990   23.4 -0.8 25.2 -0.3 26.6  0.1 28.6 0.3\n",
       "3  17JAN1990   24.2 -0.3 25.3 -0.3 26.5 -0.1 28.6 0.3\n",
       "4  24JAN1990   24.4 -0.5 25.5 -0.4 26.5 -0.1 28.4 0.2\n",
       "5  31JAN1990   25.1 -0.2 25.8 -0.2 26.7  0.1 28.4 0.2\n",
       "6  07FEB1990   25.8  0.2 26.1 -0.1 26.8  0.1 28.4 0.3"
      ]
     },
     "execution_count": 33,
     "metadata": {},
     "output_type": "execute_result"
    }
   ],
   "source": [
    "head(wksData)"
   ]
  },
  {
   "cell_type": "code",
   "execution_count": 35,
   "metadata": {
    "collapsed": false
   },
   "outputs": [
    {
     "data": {
      "text/html": [
       "32426.7"
      ],
      "text/latex": [
       "32426.7"
      ],
      "text/markdown": [
       "32426.7"
      ],
      "text/plain": [
       "[1] 32426.7"
      ]
     },
     "execution_count": 35,
     "metadata": {},
     "output_type": "execute_result"
    }
   ],
   "source": [
    "sum(wksData[4])"
   ]
  },
  {
   "cell_type": "markdown",
   "metadata": {},
   "source": [
    "----"
   ]
  },
  {
   "cell_type": "code",
   "execution_count": 49,
   "metadata": {
    "collapsed": true
   },
   "outputs": [],
   "source": [
    "rm(list=ls())\n",
    "library(jpeg)\n",
    "\n",
    "if(!file.exists('./data/jeff.jpg')) {\n",
    "    fileUrl <- \"https://d396qusza40orc.cloudfront.net/getdata%2Fjeff.jpg\"\n",
    "    download.file(fileUrl, destfile = \"./data/jeff.jpg\", method = \"curl\")\n",
    "}\n",
    "\n",
    "img.n <- readJPEG(\"./data/jeff.jpg\",TRUE)"
   ]
  },
  {
   "cell_type": "code",
   "execution_count": 50,
   "metadata": {
    "collapsed": false
   },
   "outputs": [
    {
     "data": {
      "text/html": [
       "'nativeRaster'"
      ],
      "text/latex": [
       "'nativeRaster'"
      ],
      "text/markdown": [
       "'nativeRaster'"
      ],
      "text/plain": [
       "[1] \"nativeRaster\""
      ]
     },
     "execution_count": 50,
     "metadata": {},
     "output_type": "execute_result"
    }
   ],
   "source": [
    "class(img.n)"
   ]
  },
  {
   "cell_type": "code",
   "execution_count": 51,
   "metadata": {
    "collapsed": false
   },
   "outputs": [
    {
     "data": {
      "text/html": [
       "<ol class=list-inline>\n",
       "\t<li>180</li>\n",
       "\t<li>180</li>\n",
       "</ol>\n"
      ],
      "text/latex": [
       "\\begin{enumerate*}\n",
       "\\item 180\n",
       "\\item 180\n",
       "\\end{enumerate*}\n"
      ],
      "text/markdown": [
       "1. 180\n",
       "2. 180\n",
       "\n",
       "\n"
      ],
      "text/plain": [
       "[1] 180 180"
      ]
     },
     "execution_count": 51,
     "metadata": {},
     "output_type": "execute_result"
    }
   ],
   "source": [
    "dim(img.n)"
   ]
  },
  {
   "cell_type": "code",
   "execution_count": 52,
   "metadata": {
    "collapsed": false
   },
   "outputs": [
    {
     "data": {
      "text/html": [
       "<dl class=dl-horizontal>\n",
       "\t<dt>30%</dt>\n",
       "\t\t<dd>-15259150.1</dd>\n",
       "\t<dt>80%</dt>\n",
       "\t\t<dd>-10575416</dd>\n",
       "</dl>\n"
      ],
      "text/latex": [
       "\\begin{description*}\n",
       "\\item[30%] -15259150.1\n",
       "\\item[80%] -10575416\n",
       "\\end{description*}\n"
      ],
      "text/markdown": [
       "30%\n",
       ":   -15259150.180%\n",
       ":   -10575416\n",
       "\n"
      ],
      "text/plain": [
       "      30%       80% \n",
       "-15259150 -10575416 "
      ]
     },
     "execution_count": 52,
     "metadata": {},
     "output_type": "execute_result"
    }
   ],
   "source": [
    "quantile(img.n,probs=c(0.3,0.8))"
   ]
  },
  {
   "cell_type": "markdown",
   "metadata": {},
   "source": [
    "---"
   ]
  },
  {
   "cell_type": "code",
   "execution_count": 62,
   "metadata": {
    "collapsed": true
   },
   "outputs": [],
   "source": [
    "rm(list=ls())\n",
    "if(!file.exists('./data/gdp.csv')) {\n",
    "    fileUrl <- \"https://d396qusza40orc.cloudfront.net/getdata%2Fdata%2FGDP.csv\"\n",
    "    download.file(fileUrl, destfile = \"./data/gdp.csv\", method = \"curl\")    \n",
    "}\n",
    "gdp <- read.csv(\"./data/gdp.csv\")\n",
    "\n",
    "if(!file.exists(\"./data/edu.csv\")) {\n",
    "    fileUrl1 <- \"https://d396qusza40orc.cloudfront.net/getdata%2Fdata%2FEDSTATS_Country.csv\"\n",
    "    download.file(fileUrl1, destfile = \"./data/edu.csv\", method = \"curl\")    \n",
    "}\n",
    "edu <- read.csv(\"./data/edu.csv\")"
   ]
  },
  {
   "cell_type": "code",
   "execution_count": 55,
   "metadata": {
    "collapsed": false
   },
   "outputs": [
    {
     "data": {
      "text/html": [
       "<ol class=list-inline>\n",
       "\t<li>330</li>\n",
       "\t<li>10</li>\n",
       "</ol>\n"
      ],
      "text/latex": [
       "\\begin{enumerate*}\n",
       "\\item 330\n",
       "\\item 10\n",
       "\\end{enumerate*}\n"
      ],
      "text/markdown": [
       "1. 330\n",
       "2. 10\n",
       "\n",
       "\n"
      ],
      "text/plain": [
       "[1] 330  10"
      ]
     },
     "execution_count": 55,
     "metadata": {},
     "output_type": "execute_result"
    }
   ],
   "source": [
    "dim(gdp)"
   ]
  },
  {
   "cell_type": "code",
   "execution_count": 67,
   "metadata": {
    "collapsed": false
   },
   "outputs": [
    {
     "ename": "ERROR",
     "evalue": "Error in eval(expr, envir, enclos): object 'CountryCode' not found\n",
     "output_type": "error",
     "traceback": [
      "Error in eval(expr, envir, enclos): object 'CountryCode' not found\n"
     ]
    },
    {
     "data": {
      "text/html": [
       "<ol class=list-inline>\n",
       "\t<li>'X'</li>\n",
       "\t<li>'Gross.domestic.product.2012'</li>\n",
       "\t<li>'X.1'</li>\n",
       "\t<li>'X.2'</li>\n",
       "\t<li>'X.3'</li>\n",
       "\t<li>'X.4'</li>\n",
       "\t<li>'X.5'</li>\n",
       "\t<li>'X.6'</li>\n",
       "\t<li>'X.7'</li>\n",
       "\t<li>'X.8'</li>\n",
       "</ol>\n"
      ],
      "text/latex": [
       "\\begin{enumerate*}\n",
       "\\item 'X'\n",
       "\\item 'Gross.domestic.product.2012'\n",
       "\\item 'X.1'\n",
       "\\item 'X.2'\n",
       "\\item 'X.3'\n",
       "\\item 'X.4'\n",
       "\\item 'X.5'\n",
       "\\item 'X.6'\n",
       "\\item 'X.7'\n",
       "\\item 'X.8'\n",
       "\\end{enumerate*}\n"
      ],
      "text/markdown": [
       "1. 'X'\n",
       "2. 'Gross.domestic.product.2012'\n",
       "3. 'X.1'\n",
       "4. 'X.2'\n",
       "5. 'X.3'\n",
       "6. 'X.4'\n",
       "7. 'X.5'\n",
       "8. 'X.6'\n",
       "9. 'X.7'\n",
       "10. 'X.8'\n",
       "\n",
       "\n"
      ],
      "text/plain": [
       " [1] \"X\"                           \"Gross.domestic.product.2012\"\n",
       " [3] \"X.1\"                         \"X.2\"                        \n",
       " [5] \"X.3\"                         \"X.4\"                        \n",
       " [7] \"X.5\"                         \"X.6\"                        \n",
       " [9] \"X.7\"                         \"X.8\"                        "
      ]
     },
     "execution_count": 67,
     "metadata": {},
     "output_type": "execute_result"
    },
    {
     "data": {
      "text/html": [
       "<ol class=list-inline>\n",
       "\t<li>'CountryCode'</li>\n",
       "\t<li>'Long.Name'</li>\n",
       "\t<li>'Income.Group'</li>\n",
       "\t<li>'Region'</li>\n",
       "\t<li>'Lending.category'</li>\n",
       "\t<li>'Other.groups'</li>\n",
       "\t<li>'Currency.Unit'</li>\n",
       "\t<li>'Latest.population.census'</li>\n",
       "\t<li>'Latest.household.survey'</li>\n",
       "\t<li>'Special.Notes'</li>\n",
       "\t<li>'National.accounts.base.year'</li>\n",
       "\t<li>'National.accounts.reference.year'</li>\n",
       "\t<li>'System.of.National.Accounts'</li>\n",
       "\t<li>'SNA.price.valuation'</li>\n",
       "\t<li>'Alternative.conversion.factor'</li>\n",
       "\t<li>'PPP.survey.year'</li>\n",
       "\t<li>'Balance.of.Payments.Manual.in.use'</li>\n",
       "\t<li>'External.debt.Reporting.status'</li>\n",
       "\t<li>'System.of.trade'</li>\n",
       "\t<li>'Government.Accounting.concept'</li>\n",
       "\t<li>'IMF.data.dissemination.standard'</li>\n",
       "\t<li>'Source.of.most.recent.Income.and.expenditure.data'</li>\n",
       "\t<li>'Vital.registration.complete'</li>\n",
       "\t<li>'Latest.agricultural.census'</li>\n",
       "\t<li>'Latest.industrial.data'</li>\n",
       "\t<li>'Latest.trade.data'</li>\n",
       "\t<li>'Latest.water.withdrawal.data'</li>\n",
       "\t<li>'X2.alpha.code'</li>\n",
       "\t<li>'WB.2.code'</li>\n",
       "\t<li>'Table.Name'</li>\n",
       "\t<li>'Short.Name'</li>\n",
       "</ol>\n"
      ],
      "text/latex": [
       "\\begin{enumerate*}\n",
       "\\item 'CountryCode'\n",
       "\\item 'Long.Name'\n",
       "\\item 'Income.Group'\n",
       "\\item 'Region'\n",
       "\\item 'Lending.category'\n",
       "\\item 'Other.groups'\n",
       "\\item 'Currency.Unit'\n",
       "\\item 'Latest.population.census'\n",
       "\\item 'Latest.household.survey'\n",
       "\\item 'Special.Notes'\n",
       "\\item 'National.accounts.base.year'\n",
       "\\item 'National.accounts.reference.year'\n",
       "\\item 'System.of.National.Accounts'\n",
       "\\item 'SNA.price.valuation'\n",
       "\\item 'Alternative.conversion.factor'\n",
       "\\item 'PPP.survey.year'\n",
       "\\item 'Balance.of.Payments.Manual.in.use'\n",
       "\\item 'External.debt.Reporting.status'\n",
       "\\item 'System.of.trade'\n",
       "\\item 'Government.Accounting.concept'\n",
       "\\item 'IMF.data.dissemination.standard'\n",
       "\\item 'Source.of.most.recent.Income.and.expenditure.data'\n",
       "\\item 'Vital.registration.complete'\n",
       "\\item 'Latest.agricultural.census'\n",
       "\\item 'Latest.industrial.data'\n",
       "\\item 'Latest.trade.data'\n",
       "\\item 'Latest.water.withdrawal.data'\n",
       "\\item 'X2.alpha.code'\n",
       "\\item 'WB.2.code'\n",
       "\\item 'Table.Name'\n",
       "\\item 'Short.Name'\n",
       "\\end{enumerate*}\n"
      ],
      "text/markdown": [
       "1. 'CountryCode'\n",
       "2. 'Long.Name'\n",
       "3. 'Income.Group'\n",
       "4. 'Region'\n",
       "5. 'Lending.category'\n",
       "6. 'Other.groups'\n",
       "7. 'Currency.Unit'\n",
       "8. 'Latest.population.census'\n",
       "9. 'Latest.household.survey'\n",
       "10. 'Special.Notes'\n",
       "11. 'National.accounts.base.year'\n",
       "12. 'National.accounts.reference.year'\n",
       "13. 'System.of.National.Accounts'\n",
       "14. 'SNA.price.valuation'\n",
       "15. 'Alternative.conversion.factor'\n",
       "16. 'PPP.survey.year'\n",
       "17. 'Balance.of.Payments.Manual.in.use'\n",
       "18. 'External.debt.Reporting.status'\n",
       "19. 'System.of.trade'\n",
       "20. 'Government.Accounting.concept'\n",
       "21. 'IMF.data.dissemination.standard'\n",
       "22. 'Source.of.most.recent.Income.and.expenditure.data'\n",
       "23. 'Vital.registration.complete'\n",
       "24. 'Latest.agricultural.census'\n",
       "25. 'Latest.industrial.data'\n",
       "26. 'Latest.trade.data'\n",
       "27. 'Latest.water.withdrawal.data'\n",
       "28. 'X2.alpha.code'\n",
       "29. 'WB.2.code'\n",
       "30. 'Table.Name'\n",
       "31. 'Short.Name'\n",
       "\n",
       "\n"
      ],
      "text/plain": [
       " [1] \"CountryCode\"                                      \n",
       " [2] \"Long.Name\"                                        \n",
       " [3] \"Income.Group\"                                     \n",
       " [4] \"Region\"                                           \n",
       " [5] \"Lending.category\"                                 \n",
       " [6] \"Other.groups\"                                     \n",
       " [7] \"Currency.Unit\"                                    \n",
       " [8] \"Latest.population.census\"                         \n",
       " [9] \"Latest.household.survey\"                          \n",
       "[10] \"Special.Notes\"                                    \n",
       "[11] \"National.accounts.base.year\"                      \n",
       "[12] \"National.accounts.reference.year\"                 \n",
       "[13] \"System.of.National.Accounts\"                      \n",
       "[14] \"SNA.price.valuation\"                              \n",
       "[15] \"Alternative.conversion.factor\"                    \n",
       "[16] \"PPP.survey.year\"                                  \n",
       "[17] \"Balance.of.Payments.Manual.in.use\"                \n",
       "[18] \"External.debt.Reporting.status\"                   \n",
       "[19] \"System.of.trade\"                                  \n",
       "[20] \"Government.Accounting.concept\"                    \n",
       "[21] \"IMF.data.dissemination.standard\"                  \n",
       "[22] \"Source.of.most.recent.Income.and.expenditure.data\"\n",
       "[23] \"Vital.registration.complete\"                      \n",
       "[24] \"Latest.agricultural.census\"                       \n",
       "[25] \"Latest.industrial.data\"                           \n",
       "[26] \"Latest.trade.data\"                                \n",
       "[27] \"Latest.water.withdrawal.data\"                     \n",
       "[28] \"X2.alpha.code\"                                    \n",
       "[29] \"WB.2.code\"                                        \n",
       "[30] \"Table.Name\"                                       \n",
       "[31] \"Short.Name\"                                       "
      ]
     },
     "execution_count": 67,
     "metadata": {},
     "output_type": "execute_result"
    },
    {
     "data": {
      "text/html": [
       "<table>\n",
       "<thead><tr><th></th><th scope=col>X</th><th scope=col>Gross.domestic.product.2012</th><th scope=col>X.1</th><th scope=col>X.2</th><th scope=col>X.3</th><th scope=col>X.4</th><th scope=col>X.5</th><th scope=col>X.6</th><th scope=col>X.7</th><th scope=col>X.8</th></tr></thead>\n",
       "<tbody>\n",
       "\t<tr><th scope=row>1</th><td></td><td></td><td>NA</td><td></td><td></td><td></td><td>NA</td><td>NA</td><td>NA</td><td>NA</td></tr>\n",
       "\t<tr><th scope=row>2</th><td></td><td></td><td>NA</td><td></td><td>(millions of</td><td></td><td>NA</td><td>NA</td><td>NA</td><td>NA</td></tr>\n",
       "\t<tr><th scope=row>3</th><td></td><td>Ranking</td><td>NA</td><td>Economy</td><td>US dollars)</td><td></td><td>NA</td><td>NA</td><td>NA</td><td>NA</td></tr>\n",
       "\t<tr><th scope=row>4</th><td></td><td></td><td>NA</td><td></td><td></td><td></td><td>NA</td><td>NA</td><td>NA</td><td>NA</td></tr>\n",
       "\t<tr><th scope=row>5</th><td>USA</td><td>1</td><td>NA</td><td>United States</td><td> 16,244,600 </td><td></td><td>NA</td><td>NA</td><td>NA</td><td>NA</td></tr>\n",
       "\t<tr><th scope=row>6</th><td>CHN</td><td>2</td><td>NA</td><td>China</td><td> 8,227,103 </td><td></td><td>NA</td><td>NA</td><td>NA</td><td>NA</td></tr>\n",
       "\t<tr><th scope=row>7</th><td>JPN</td><td>3</td><td>NA</td><td>Japan</td><td> 5,959,718 </td><td></td><td>NA</td><td>NA</td><td>NA</td><td>NA</td></tr>\n",
       "\t<tr><th scope=row>8</th><td>DEU</td><td>4</td><td>NA</td><td>Germany</td><td> 3,428,131 </td><td></td><td>NA</td><td>NA</td><td>NA</td><td>NA</td></tr>\n",
       "\t<tr><th scope=row>9</th><td>FRA</td><td>5</td><td>NA</td><td>France</td><td> 2,612,878 </td><td></td><td>NA</td><td>NA</td><td>NA</td><td>NA</td></tr>\n",
       "\t<tr><th scope=row>10</th><td>GBR</td><td>6</td><td>NA</td><td>United Kingdom</td><td> 2,471,784 </td><td></td><td>NA</td><td>NA</td><td>NA</td><td>NA</td></tr>\n",
       "</tbody>\n",
       "</table>\n"
      ],
      "text/latex": [
       "\\begin{tabular}{r|llllllllll}\n",
       "  & X & Gross.domestic.product.2012 & X.1 & X.2 & X.3 & X.4 & X.5 & X.6 & X.7 & X.8\\\\\n",
       "\\hline\n",
       "\t1 &  &  & NA &  &  &  & NA & NA & NA & NA\\\\\n",
       "\t2 &  &  & NA &  & (millions of &  & NA & NA & NA & NA\\\\\n",
       "\t3 &  & Ranking & NA & Economy & US dollars) &  & NA & NA & NA & NA\\\\\n",
       "\t4 &  &  & NA &  &  &  & NA & NA & NA & NA\\\\\n",
       "\t5 & USA & 1 & NA & United States &  16,244,600  &  & NA & NA & NA & NA\\\\\n",
       "\t6 & CHN & 2 & NA & China &  8,227,103  &  & NA & NA & NA & NA\\\\\n",
       "\t7 & JPN & 3 & NA & Japan &  5,959,718  &  & NA & NA & NA & NA\\\\\n",
       "\t8 & DEU & 4 & NA & Germany &  3,428,131  &  & NA & NA & NA & NA\\\\\n",
       "\t9 & FRA & 5 & NA & France &  2,612,878  &  & NA & NA & NA & NA\\\\\n",
       "\t10 & GBR & 6 & NA & United Kingdom &  2,471,784  &  & NA & NA & NA & NA\\\\\n",
       "\\end{tabular}\n"
      ],
      "text/plain": [
       "     X Gross.domestic.product.2012 X.1            X.2          X.3 X.4 X.5 X.6\n",
       "1                                   NA                                  NA  NA\n",
       "2                                   NA                (millions of      NA  NA\n",
       "3                          Ranking  NA        Economy  US dollars)      NA  NA\n",
       "4                                   NA                                  NA  NA\n",
       "5  USA                           1  NA  United States  16,244,600       NA  NA\n",
       "6  CHN                           2  NA          China   8,227,103       NA  NA\n",
       "7  JPN                           3  NA          Japan   5,959,718       NA  NA\n",
       "8  DEU                           4  NA        Germany   3,428,131       NA  NA\n",
       "9  FRA                           5  NA         France   2,612,878       NA  NA\n",
       "10 GBR                           6  NA United Kingdom   2,471,784       NA  NA\n",
       "   X.7 X.8\n",
       "1   NA  NA\n",
       "2   NA  NA\n",
       "3   NA  NA\n",
       "4   NA  NA\n",
       "5   NA  NA\n",
       "6   NA  NA\n",
       "7   NA  NA\n",
       "8   NA  NA\n",
       "9   NA  NA\n",
       "10  NA  NA"
      ]
     },
     "execution_count": 67,
     "metadata": {},
     "output_type": "execute_result"
    },
    {
     "data": {
      "text/html": [
       "<table>\n",
       "<thead><tr><th></th><th scope=col>CountryCode</th><th scope=col>Long.Name</th><th scope=col>Income.Group</th><th scope=col>Region</th><th scope=col>Lending.category</th><th scope=col>Other.groups</th><th scope=col>Currency.Unit</th><th scope=col>Latest.population.census</th><th scope=col>Latest.household.survey</th><th scope=col>Special.Notes</th><th scope=col>National.accounts.base.year</th><th scope=col>National.accounts.reference.year</th></tr></thead>\n",
       "<tbody>\n",
       "\t<tr><th scope=row>1</th><td>ABW</td><td>Aruba</td><td>High income: nonOECD</td><td>Latin America & Caribbean</td><td></td><td></td><td>Aruban florin</td><td>2000</td><td></td><td></td><td>1995</td><td>NA</td></tr>\n",
       "\t<tr><th scope=row>2</th><td>ADO</td><td>Principality of Andorra</td><td>High income: nonOECD</td><td>Europe & Central Asia</td><td></td><td></td><td>Euro</td><td>Register based</td><td></td><td></td><td></td><td>NA</td></tr>\n",
       "\t<tr><th scope=row>3</th><td>AFG</td><td>Islamic State of Afghanistan</td><td>Low income</td><td>South Asia</td><td>IDA</td><td>HIPC</td><td>Afghan afghani</td><td>1979</td><td>MICS, 2003</td><td>Fiscal year end: March 20; reporting period for national accounts data: FY.</td><td>2002/2003</td><td>NA</td></tr>\n",
       "</tbody>\n",
       "</table>\n"
      ],
      "text/latex": [
       "\\begin{tabular}{r|llllllllllll}\n",
       "  & CountryCode & Long.Name & Income.Group & Region & Lending.category & Other.groups & Currency.Unit & Latest.population.census & Latest.household.survey & Special.Notes & National.accounts.base.year & National.accounts.reference.year\\\\\n",
       "\\hline\n",
       "\t1 & ABW & Aruba & High income: nonOECD & Latin America & Caribbean &  &  & Aruban florin & 2000 &  &  & 1995 & NA\\\\\n",
       "\t2 & ADO & Principality of Andorra & High income: nonOECD & Europe & Central Asia &  &  & Euro & Register based &  &  &  & NA\\\\\n",
       "\t3 & AFG & Islamic State of Afghanistan & Low income & South Asia & IDA & HIPC & Afghan afghani & 1979 & MICS, 2003 & Fiscal year end: March 20; reporting period for national accounts data: FY. & 2002/2003 & NA\\\\\n",
       "\\end{tabular}\n"
      ],
      "text/plain": [
       "  CountryCode                    Long.Name         Income.Group\n",
       "1         ABW                        Aruba High income: nonOECD\n",
       "2         ADO      Principality of Andorra High income: nonOECD\n",
       "3         AFG Islamic State of Afghanistan           Low income\n",
       "                     Region Lending.category Other.groups  Currency.Unit\n",
       "1 Latin America & Caribbean                                Aruban florin\n",
       "2     Europe & Central Asia                                         Euro\n",
       "3                South Asia              IDA         HIPC Afghan afghani\n",
       "  Latest.population.census Latest.household.survey\n",
       "1                     2000                        \n",
       "2           Register based                        \n",
       "3                     1979              MICS, 2003\n",
       "                                                                Special.Notes\n",
       "1                                                                            \n",
       "2                                                                            \n",
       "3 Fiscal year end: March 20; reporting period for national accounts data: FY.\n",
       "  National.accounts.base.year National.accounts.reference.year\n",
       "1                        1995                               NA\n",
       "2                                                           NA\n",
       "3                   2002/2003                               NA"
      ]
     },
     "execution_count": 67,
     "metadata": {},
     "output_type": "execute_result"
    }
   ],
   "source": [
    "X=CountryCode\n",
    "names(gdp)\n",
    "names(edu)\n",
    "head(gdp, 10)\n",
    "head(edu[,1:12], 3)"
   ]
  },
  {
   "cell_type": "code",
   "execution_count": 66,
   "metadata": {
    "collapsed": true
   },
   "outputs": [],
   "source": [
    "gdpclean<-gdp[5:194,]"
   ]
  },
  {
   "cell_type": "code",
   "execution_count": 68,
   "metadata": {
    "collapsed": false
   },
   "outputs": [
    {
     "data": {
      "text/plain": [
       "       X      Gross.domestic.product.2012   X.1                      X.2    \n",
       " AUS    : 1   Min.   :  1.00              Mode:logical   Australia     : 1  \n",
       " AUT    : 1   1st Qu.: 12.25              NA's:30        Austria       : 1  \n",
       " BEL    : 1   Median : 24.50                             Belgium       : 1  \n",
       " CAN    : 1   Mean   : 32.97                             Canada        : 1  \n",
       " CHE    : 1   3rd Qu.: 45.75                             Czech Republic: 1  \n",
       " CZE    : 1   Max.   :122.00                             Denmark       : 1  \n",
       " (Other):24                                              (Other)       :24  \n",
       "          X.3     X.4      X.5            X.6            X.7         \n",
       "  1,129,598 : 1    :30   Mode:logical   Mode:logical   Mode:logical  \n",
       "  1,322,965 : 1   a: 0   NA's:30        NA's:30        NA's:30       \n",
       "  1,532,408 : 1   b: 0                                               \n",
       "  1,821,424 : 1   c: 0                                               \n",
       "  124,600   : 1   d: 0                                               \n",
       "  13,579    : 1   e: 0                                               \n",
       " (Other)    :24   f: 0                                               \n",
       "   X.8                                Long.Name                Income.Group\n",
       " Mode:logical   Canada                     : 1                       : 0   \n",
       " NA's:30        Commonwealth of Australia  : 1   High income: nonOECD: 0   \n",
       "                Czech Republic             : 1   High income: OECD   :30   \n",
       "                Federal Republic of Germany: 1   Low income          : 0   \n",
       "                French Republic            : 1   Lower middle income : 0   \n",
       "                Grand Duchy of Luxembourg  : 1   Upper middle income : 0   \n",
       "                (Other)                    :24                             \n",
       "                        Region   Lending.category    Other.groups\n",
       " Europe & Central Asia     :23        :28                  :16   \n",
       " East Asia & Pacific       : 4   Blend: 0         Euro area:14   \n",
       " North America             : 2   IBRD : 2         HIPC     : 0   \n",
       " Middle East & North Africa: 1   IDA  : 0                        \n",
       "                           : 0                                   \n",
       " Latin America & Caribbean : 0                                   \n",
       " (Other)                   : 0                                   \n",
       "           Currency.Unit   Latest.population.census\n",
       " Euro             :14    2001          :15         \n",
       " Australian dollar: 1    2006          : 4         \n",
       " Canadian dollar  : 1    2000          : 3         \n",
       " Czech koruna     : 1    2002          : 2         \n",
       " Danish krone     : 1    2005          : 2         \n",
       " Hungarian forint : 1    Register based: 2         \n",
       " (Other)          :11    (Other)       : 2         \n",
       "             Latest.household.survey\n",
       "                         :28        \n",
       " CPS (monthly)           : 1        \n",
       " RHS, 1993               : 1        \n",
       " Demographic survey, 2007: 0        \n",
       " DGHS, 2003              : 0        \n",
       " DHS 2007                : 0        \n",
       " (Other)                 : 0        \n",
       "                                                                                                                                                                                                                                                                                                                                                        Special.Notes\n",
       "                                                                                                                                                                                                                                                                                                                                                               :10   \n",
       " Fiscal year end: March 31; reporting period for national accounts data: CY.                                                                                                                                                                                                                                                                                   : 2   \n",
       " A simple multiplier is used to convert the national currencies of EMU members to euros. The following irrevocable euro conversion rate entered into force on January 1, 2007: 1 euro = 239.64 Slovenian tolar. Please note that historical data are not actual euros and are not comparable or suitable for aggregation across countries.                     : 1   \n",
       " A simple multiplier is used to convert the national currencies of EMU members to euros. The following irrevocable euro conversion rate entered into force on January 1, 2009: 1 euro = 30.126 Slovak koruna. Please note that historical data are not actual euros and are not comparable or suitable for aggregation across countries.                       : 1   \n",
       " A simple multiplier is used to convert the national currencies of EMU members to euros. The following irrevocable euro conversion rate was adopted by the EU Council on January 1, 1999: 1 euro = 0.787564 Irish pound. Please note that historical data before 1999 are not actual euros and are not comparable or suitable for aggregation across countries.: 1   \n",
       " A simple multiplier is used to convert the national currencies of EMU members to euros. The following irrevocable euro conversion rate was adopted by the EU Council on January 1, 1999: 1 euro = 1.95583 German mark. Please note that historical data before 1999 are not actual euros and are not comparable or suitable for aggregation across countries. : 1   \n",
       " (Other)                                                                                                                                                                                                                                                                                                                                                       :14   \n",
       " National.accounts.base.year National.accounts.reference.year\n",
       " 2000     :17                Min.   :1995                    \n",
       "          :11                1st Qu.:2000                    \n",
       " 2000/2001: 1                Median :2000                    \n",
       " 2005     : 1                Mean   :2000                    \n",
       " 1954     : 0                3rd Qu.:2000                    \n",
       " 1973     : 0                Max.   :2007                    \n",
       " (Other)  : 0                NA's   :17                      \n",
       " System.of.National.Accounts SNA.price.valuation Alternative.conversion.factor\n",
       " Min.   :1993                   : 0                     :30                   \n",
       " 1st Qu.:1993                VAB:29              1960-85: 0                   \n",
       " Median :1993                VAP: 1              1965-84: 0                   \n",
       " Mean   :1993                                    1965-95: 0                   \n",
       " 3rd Qu.:1993                                    1970-08: 0                   \n",
       " Max.   :1993                                    1971-84: 0                   \n",
       " NA's   :8                                       (Other): 0                   \n",
       " PPP.survey.year Balance.of.Payments.Manual.in.use\n",
       " Min.   :2005        : 0                          \n",
       " 1st Qu.:2005    BPM4: 0                          \n",
       " Median :2005    BPM5:30                          \n",
       " Mean   :2005                                     \n",
       " 3rd Qu.:2005                                     \n",
       " Max.   :2005                                     \n",
       "                                                  \n",
       " External.debt.Reporting.status System.of.trade Government.Accounting.concept\n",
       "            :29                        : 0                  : 0              \n",
       " Actual     : 1                 General:14      Budgetary   : 0              \n",
       " Estimate   : 0                 Special:16      Consolidated:30              \n",
       " Preliminary: 0                                                              \n",
       "                                                                             \n",
       "                                                                             \n",
       "                                                                             \n",
       " IMF.data.dissemination.standard\n",
       "     : 1                        \n",
       " GDDS: 0                        \n",
       " SDDS:29                        \n",
       "                                \n",
       "                                \n",
       "                                \n",
       "                                \n",
       " Source.of.most.recent.Income.and.expenditure.data Vital.registration.complete\n",
       " IHS, 2000  : 5                                       : 0                     \n",
       " IS, 2000   : 3                                    Yes:30                     \n",
       "            : 2                                                               \n",
       " ES/BS, 2000: 2                                                               \n",
       " ES/BS, 2004: 2                                                               \n",
       " IS, 1997   : 2                                                               \n",
       " (Other)    :14                                                               \n",
       "                  Latest.agricultural.census Latest.industrial.data\n",
       " 2000                          :8            Min.   :2001          \n",
       " 1999-2000                     :7            1st Qu.:2004          \n",
       " 1999-2000 (conducted annually):4            Median :2004          \n",
       " 1999                          :3            Mean   :2004          \n",
       " 2001                          :2            3rd Qu.:2004          \n",
       "                               :1            Max.   :2005          \n",
       " (Other)                       :5            NA's   :1             \n",
       " Latest.trade.data Latest.water.withdrawal.data X2.alpha.code   WB.2.code \n",
       " Min.   :2008      Min.   :2000                 AT     : 1    AT     : 1  \n",
       " 1st Qu.:2008      1st Qu.:2000                 AU     : 1    AU     : 1  \n",
       " Median :2008      Median :2000                 BE     : 1    BE     : 1  \n",
       " Mean   :2008      Mean   :2000                 CA     : 1    CA     : 1  \n",
       " 3rd Qu.:2008      3rd Qu.:2000                 CH     : 1    CH     : 1  \n",
       " Max.   :2008      Max.   :2004                 CZ     : 1    CZ     : 1  \n",
       "                   NA's   :5                    (Other):24    (Other):24  \n",
       "          Table.Name          Short.Name\n",
       " Australia     : 1   Australia     : 1  \n",
       " Austria       : 1   Austria       : 1  \n",
       " Belgium       : 1   Belgium       : 1  \n",
       " Canada        : 1   Canada        : 1  \n",
       " Czech Republic: 1   Czech Republic: 1  \n",
       " Denmark       : 1   Denmark       : 1  \n",
       " (Other)       :24   (Other)       :24  "
      ]
     },
     "execution_count": 68,
     "metadata": {},
     "output_type": "execute_result"
    }
   ],
   "source": [
    "mergedData=as.data.frame(merge(gdpclean,edu,by.x=\"X\",by.y=\"CountryCode\"))\n",
    "mergedData$Gross.domestic.product.2012 = as.numeric(as.character(mergedData$Gross.domestic.product.2012))\n",
    "summary(mergedData[mergedData$Income.Group==\"High income: OECD\",])"
   ]
  },
  {
   "cell_type": "code",
   "execution_count": 69,
   "metadata": {
    "collapsed": false
   },
   "outputs": [
    {
     "data": {
      "text/html": [
       "<dl class=dl-horizontal>\n",
       "\t<dt>20%</dt>\n",
       "\t\t<dd>38.6</dd>\n",
       "\t<dt>40%</dt>\n",
       "\t\t<dd>76.2</dd>\n",
       "\t<dt>60%</dt>\n",
       "\t\t<dd>113.8</dd>\n",
       "\t<dt>80%</dt>\n",
       "\t\t<dd>152.4</dd>\n",
       "\t<dt>100%</dt>\n",
       "\t\t<dd>190</dd>\n",
       "</dl>\n"
      ],
      "text/latex": [
       "\\begin{description*}\n",
       "\\item[20%] 38.6\n",
       "\\item[40%] 76.2\n",
       "\\item[60%] 113.8\n",
       "\\item[80%] 152.4\n",
       "\\item[100%] 190\n",
       "\\end{description*}\n"
      ],
      "text/markdown": [
       "20%\n",
       ":   38.640%\n",
       ":   76.260%\n",
       ":   113.880%\n",
       ":   152.4100%\n",
       ":   190\n",
       "\n"
      ],
      "text/plain": [
       "  20%   40%   60%   80%  100% \n",
       " 38.6  76.2 113.8 152.4 190.0 "
      ]
     },
     "execution_count": 69,
     "metadata": {},
     "output_type": "execute_result"
    }
   ],
   "source": [
    "quantile(mergedData$Gross.domestic.product.2012,probs=c(0.2,0.4,0.6,0.8,1))"
   ]
  },
  {
   "cell_type": "code",
   "execution_count": 71,
   "metadata": {
    "collapsed": false
   },
   "outputs": [],
   "source": [
    "library(Hmisc)"
   ]
  },
  {
   "cell_type": "code",
   "execution_count": 72,
   "metadata": {
    "collapsed": true
   },
   "outputs": [],
   "source": [
    "mergedData$gdp=cut2(mergedData$Gross.domestic.product.2012,g=5)"
   ]
  },
  {
   "cell_type": "code",
   "execution_count": 73,
   "metadata": {
    "collapsed": false
   },
   "outputs": [
    {
     "data": {
      "text/plain": [
       "                      \n",
       "                       [  1, 39) [ 39, 77) [ 77,115) [115,154) [154,190]\n",
       "                               0         0         0         0         0\n",
       "  High income: nonOECD         4         5         8         5         1\n",
       "  High income: OECD           18        10         1         1         0\n",
       "  Low income                   0         1         9        16        11\n",
       "  Lower middle income          5        13        12         8        16\n",
       "  Upper middle income         11         9         8         8         9"
      ]
     },
     "execution_count": 73,
     "metadata": {},
     "output_type": "execute_result"
    }
   ],
   "source": [
    "table(mergedData$Income.Group,mergedData$gdp)"
   ]
  },
  {
   "cell_type": "markdown",
   "metadata": {},
   "source": [
    "TODO: Start from getdata-videos"
   ]
  },
  {
   "cell_type": "code",
   "execution_count": null,
   "metadata": {
    "collapsed": true
   },
   "outputs": [],
   "source": []
  }
 ],
 "metadata": {
  "kernelspec": {
   "display_name": "R",
   "language": "R",
   "name": "ir"
  },
  "language_info": {
   "codemirror_mode": "r",
   "file_extension": ".r",
   "mimetype": "text/x-r-source",
   "name": "R",
   "pygments_lexer": "r",
   "version": "3.2.4"
  },
  "widgets": {
   "state": {},
   "version": "1.1.1"
  }
 },
 "nbformat": 4,
 "nbformat_minor": 0
}
