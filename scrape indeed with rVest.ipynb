{
 "cells": [
  {
   "cell_type": "code",
   "execution_count": 2,
   "metadata": {
    "collapsed": false
   },
   "outputs": [],
   "source": [
    "# r script that grabs job titles, firm names, and locations from indeed.com\n",
    "require(rvest)"
   ]
  },
  {
   "cell_type": "code",
   "execution_count": 3,
   "metadata": {
    "collapsed": true
   },
   "outputs": [],
   "source": [
    "getinfo <- function(page, tags) {\n",
    "  page %>%\n",
    "  html_nodes(tags) %>%   # Select nodes from html document\n",
    "  html_text()  # Extract attributes, text and tag name from html\n",
    "}"
   ]
  },
  {
   "cell_type": "code",
   "execution_count": 4,
   "metadata": {
    "collapsed": true
   },
   "outputs": [],
   "source": [
    "mylist <- list()"
   ]
  },
  {
   "cell_type": "code",
   "execution_count": 5,
   "metadata": {
    "collapsed": true
   },
   "outputs": [],
   "source": [
    "what <- 'data+science'\n",
    "where <- 'toronto'"
   ]
  },
  {
   "cell_type": "code",
   "execution_count": 6,
   "metadata": {
    "collapsed": true
   },
   "outputs": [],
   "source": [
    "url <- \"http://www.indeed.ca/jobs?\"\n",
    "q <- \"q=\"\n",
    "l <- \"&l=\"\n",
    "url <- paste(url,q,what,l,where,sep=\"\")"
   ]
  },
  {
   "cell_type": "code",
   "execution_count": 7,
   "metadata": {
    "collapsed": false
   },
   "outputs": [
    {
     "data": {
      "text/html": [
       "'http://www.indeed.ca/jobs?q=data+science&l=toronto'"
      ],
      "text/latex": [
       "'http://www.indeed.ca/jobs?q=data+science&l=toronto'"
      ],
      "text/markdown": [
       "'http://www.indeed.ca/jobs?q=data+science&l=toronto'"
      ],
      "text/plain": [
       "[1] \"http://www.indeed.ca/jobs?q=data+science&l=toronto\""
      ]
     },
     "execution_count": 7,
     "metadata": {},
     "output_type": "execute_result"
    }
   ],
   "source": [
    "url"
   ]
  },
  {
   "cell_type": "code",
   "execution_count": 8,
   "metadata": {
    "collapsed": false
   },
   "outputs": [],
   "source": [
    "request <- read_html(url)"
   ]
  },
  {
   "cell_type": "code",
   "execution_count": 10,
   "metadata": {
    "collapsed": true
   },
   "outputs": [],
   "source": [
    "count <- request %>%\n",
    "  html_nodes(\"#searchCount\") %>%   ##css selector; use $('#searchCount') in console to get the data\n",
    "  html_text()"
   ]
  },
  {
   "cell_type": "code",
   "execution_count": 12,
   "metadata": {
    "collapsed": false
   },
   "outputs": [],
   "source": [
    "count <- strsplit(count, \" \")[[1]][6]"
   ]
  },
  {
   "cell_type": "code",
   "execution_count": 13,
   "metadata": {
    "collapsed": true
   },
   "outputs": [],
   "source": [
    "count <- as.numeric(gsub(\",\",\"\",count))"
   ]
  },
  {
   "cell_type": "code",
   "execution_count": 14,
   "metadata": {
    "collapsed": false
   },
   "outputs": [],
   "source": [
    "searchlimit <- if(count<1001) count else 1001"
   ]
  },
  {
   "cell_type": "code",
   "execution_count": 29,
   "metadata": {
    "collapsed": false
   },
   "outputs": [],
   "source": [
    "i=0\n",
    "while (i<searchlimit) { \n",
    "  url = \"http://www.indeed.ca/jobs?q=data+science&l=toronto\"\n",
    "  start = \"&start=\"\n",
    "  inc = as.character(i)\n",
    "  newurl = gsub(\" \",\"\",paste(url, start, inc))\n",
    "  request <- read_html(newurl)\n",
    "  firms <- getinfo(request, \".company\") %>% trimws\n",
    "  jobs <- getinfo(request, \"#resultsCol .jobtitle\") %>% trimws\n",
    "  location <- getinfo(request, \".location\")\n",
    "  location <- gsub(\"[0-9]\",\"\",location) %>% trimws\n",
    "  summary <- getinfo(request, \".summary\") %>% trimws\n",
    "  mylist$FIRMS <- firms\n",
    "  mylist$JOBS <- jobs\n",
    "  mylist$LOCATION <- location\n",
    "  #mylist$SUMMARY <- summary\n",
    "  try({\n",
    "    write.table(mylist, file=\"./data/my.csv\", row.names=FALSE, sep=\",\", append=TRUE, col.names=FALSE)\n",
    "  })\n",
    "  i <- i+10\n",
    "}"
   ]
  },
  {
   "cell_type": "code",
   "execution_count": null,
   "metadata": {
    "collapsed": true
   },
   "outputs": [],
   "source": []
  }
 ],
 "metadata": {
  "kernelspec": {
   "display_name": "R",
   "language": "R",
   "name": "ir"
  },
  "language_info": {
   "codemirror_mode": "r",
   "file_extension": ".r",
   "mimetype": "text/x-r-source",
   "name": "R",
   "pygments_lexer": "r",
   "version": "3.2.4"
  },
  "widgets": {
   "state": {},
   "version": "1.1.1"
  }
 },
 "nbformat": 4,
 "nbformat_minor": 0
}
